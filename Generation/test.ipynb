{
 "cells": [
  {
   "cell_type": "code",
   "execution_count": 1,
   "id": "c7757a2c",
   "metadata": {},
   "outputs": [],
   "source": [
    "from metrics_evaluation.metrics import codebleu"
   ]
  },
  {
   "cell_type": "code",
   "execution_count": 2,
   "id": "247351e1",
   "metadata": {},
   "outputs": [
    {
     "data": {
      "text/plain": [
       "0.8333333333333333"
      ]
     },
     "execution_count": 2,
     "metadata": {},
     "output_type": "execute_result"
    }
   ],
   "source": [
    "codebleu(\"#include <iostream>\", \"#include <iostream>\")"
   ]
  },
  {
   "cell_type": "code",
   "execution_count": null,
   "id": "6db31500",
   "metadata": {},
   "outputs": [],
   "source": []
  }
 ],
 "metadata": {
  "kernelspec": {
   "display_name": "freshllm",
   "language": "python",
   "name": "python3"
  },
  "language_info": {
   "codemirror_mode": {
    "name": "ipython",
    "version": 3
   },
   "file_extension": ".py",
   "mimetype": "text/x-python",
   "name": "python",
   "nbconvert_exporter": "python",
   "pygments_lexer": "ipython3",
   "version": "3.9.20"
  }
 },
 "nbformat": 4,
 "nbformat_minor": 5
}
