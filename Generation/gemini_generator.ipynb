{
 "cells": [
  {
   "cell_type": "markdown",
   "id": "70c6fad0",
   "metadata": {},
   "source": [
    "# NS‑3 Code Generator with **Gemini 2.0 Flash**\n",
    "This notebook batch‑generates ns‑3 C++ simulations from natural‑language descriptions.\n",
    "It reads an *instruction prompt* from `prompt.yaml`, iterates over every `.txt` file found in `Dataset/Prompts/Large` and `Dataset/Prompts/Small`, and writes the generated code to `BasicEvaluation/Gemini/<name>.cc`.\n",
    "\n",
    "Run the cells top‑to‑bottom."
   ]
  },
  {
   "cell_type": "markdown",
   "id": "ef35eb96",
   "metadata": {},
   "source": [
    "## ⚙️ Install Python dependencies"
   ]
  },
  {
   "cell_type": "code",
   "execution_count": null,
   "id": "ffb94bdc",
   "metadata": {},
   "outputs": [],
   "source": [
    "%pip install -q -r ../requirements.txt"
   ]
  },
  {
   "cell_type": "markdown",
   "id": "a7142773",
   "metadata": {},
   "source": [
    "## 📦 Imports && logging setup"
   ]
  },
  {
   "cell_type": "code",
   "execution_count": null,
   "id": "ab84b41e",
   "metadata": {},
   "outputs": [],
   "source": [
    "from pathlib import Path\n",
    "import os, re, yaml, logging\n",
    "from dotenv import load_dotenv\n",
    "import google.generativeai as genai\n",
    "from rich.logging import RichHandler\n",
    "from tqdm import tqdm\n",
    "import time\n",
    "\n",
    "logging.basicConfig(level='INFO', handlers=[RichHandler()], format='%(message)s')"
   ]
  },
  {
   "cell_type": "markdown",
   "id": "c4a36ec6",
   "metadata": {},
   "source": [
    "## 🛠 Configuration"
   ]
  },
  {
   "cell_type": "code",
   "execution_count": null,
   "id": "f5f31425",
   "metadata": {},
   "outputs": [],
   "source": [
    "PROMPT_YAML = Path('../prompt.yaml')\n",
    "SRC_DIRS = [Path('../Dataset/Prompts/Large'), Path('../Dataset/Prompts/Small')]\n",
    "OUT_DIR  = Path('Basic/Gemini')\n",
    "MODEL_NAME = 'gemini-2.5-flash-preview-05-20'\n",
    "CODE_BLOCK_RE = re.compile(r\"```(?:cpp|c\\+\\+)?\\s*([\\s\\S]+?)```\", re.IGNORECASE)"
   ]
  },
  {
   "cell_type": "markdown",
   "id": "787a0250",
   "metadata": {},
   "source": [
    "### Helper — extract first fenced C++ block"
   ]
  },
  {
   "cell_type": "code",
   "execution_count": null,
   "id": "d83753a3",
   "metadata": {},
   "outputs": [],
   "source": [
    "def extract_code(text: str) -> str:\n",
    "    m = CODE_BLOCK_RE.search(text)\n",
    "    return m.group(1).strip() if m else text.strip()"
   ]
  },
  {
   "cell_type": "markdown",
   "id": "42316393",
   "metadata": {},
   "source": [
    "## 📑 Load instruction prompt"
   ]
  },
  {
   "cell_type": "code",
   "execution_count": null,
   "id": "e1353ae3",
   "metadata": {},
   "outputs": [],
   "source": [
    "instruction_prompt = yaml.safe_load(PROMPT_YAML.open())['instruction_prompt'].strip()\n",
    "print(instruction_prompt)"
   ]
  },
  {
   "cell_type": "markdown",
   "id": "81ae358d",
   "metadata": {},
   "source": [
    "## 🔑 Authenticate & initialise Gemini"
   ]
  },
  {
   "cell_type": "code",
   "execution_count": null,
   "id": "b7c5ae9a",
   "metadata": {},
   "outputs": [],
   "source": [
    "load_dotenv()\n",
    "assert 'GEMINI_API_KEY' in os.environ, 'Add GEMINI_API_KEY to your .env file'\n",
    "genai.configure(api_key=os.environ['GEMINI_API_KEY'])\n",
    "model = genai.GenerativeModel(MODEL_NAME)\n",
    "print('Model ready!')"
   ]
  },
  {
   "cell_type": "markdown",
   "id": "efa0a6fb",
   "metadata": {},
   "source": [
    "## 🗂 Collect description files"
   ]
  },
  {
   "cell_type": "code",
   "execution_count": null,
   "id": "65f98113",
   "metadata": {},
   "outputs": [],
   "source": [
    "txt_files = []\n",
    "for d in SRC_DIRS:\n",
    "    txt_files.extend(sorted(d.glob('*.txt')))\n",
    "print(f'Found {len(txt_files)} description files')\n",
    "OUT_DIR.mkdir(parents=True, exist_ok=True)"
   ]
  },
  {
   "cell_type": "markdown",
   "id": "db600179",
   "metadata": {},
   "source": [
    "## 🚀 Generate ns‑3 code"
   ]
  },
  {
   "cell_type": "code",
   "execution_count": null,
   "id": "16a0e032",
   "metadata": {},
   "outputs": [],
   "source": [
    "for src in tqdm(txt_files, desc='Generating'):\n",
    "    description = src.read_text(encoding='utf-8').strip()\n",
    "    prompt = f\"{instruction_prompt}\\n\\nProgram description:\\n\\\"\\\"\\\"\\n{description}\\n\\\"\\\"\\\"\"\n",
    "    try:\n",
    "        resp = model.generate_content(prompt)\n",
    "        code = extract_code(resp.text)\n",
    "        outfile = OUT_DIR / f\"{src.stem}.cc\"\n",
    "        outfile.write_text(code, encoding='utf-8')\n",
    "        logging.info(f'✓ {src.name} → {outfile}')\n",
    "    except Exception as e:\n",
    "        logging.error(f'✗ {src.name} – {e}')\n",
    "\n",
    "    time.sleep(7)"
   ]
  },
  {
   "cell_type": "code",
   "execution_count": null,
   "id": "5feaee4e",
   "metadata": {},
   "outputs": [],
   "source": []
  }
 ],
 "metadata": {
  "kernelspec": {
   "display_name": "freshllm",
   "language": "python",
   "name": "python3"
  },
  "language_info": {
   "codemirror_mode": {
    "name": "ipython",
    "version": 3
   },
   "file_extension": ".py",
   "mimetype": "text/x-python",
   "name": "python",
   "nbconvert_exporter": "python",
   "pygments_lexer": "ipython3",
   "version": "3.9.20"
  }
 },
 "nbformat": 4,
 "nbformat_minor": 5
}
