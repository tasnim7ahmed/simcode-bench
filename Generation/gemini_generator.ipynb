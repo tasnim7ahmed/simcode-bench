{
 "cells": [
  {
   "cell_type": "markdown",
   "id": "70c6fad0",
   "metadata": {},
   "source": [
    "# NS‑3 Code Generator with **Gemini 2.5 Flash**\n",
    "This notebook batch‑generates ns‑3 C++ simulations from natural‑language descriptions.\n",
    "It reads an *instruction prompt* from `prompt.yaml`, iterates over every `.txt` file found in `Dataset/Prompts/Large` and `Dataset/Prompts/Small`, and writes the generated code to `BasicEvaluation/Gemini/<name>.cc`.\n",
    "\n",
    "Run the cells top‑to‑bottom."
   ]
  },
  {
   "cell_type": "markdown",
   "id": "ef35eb96",
   "metadata": {},
   "source": [
    "## ⚙️ Install Python dependencies"
   ]
  },
  {
   "cell_type": "code",
   "execution_count": 1,
   "id": "ffb94bdc",
   "metadata": {},
   "outputs": [
    {
     "name": "stdout",
     "output_type": "stream",
     "text": [
      "Note: you may need to restart the kernel to use updated packages.\n"
     ]
    }
   ],
   "source": [
    "%pip install -q -r ../requirements.txt"
   ]
  },
  {
   "cell_type": "markdown",
   "id": "a7142773",
   "metadata": {},
   "source": [
    "## 📦 Imports & logging setup"
   ]
  },
  {
   "cell_type": "code",
   "execution_count": 2,
   "id": "ab84b41e",
   "metadata": {},
   "outputs": [],
   "source": [
    "from pathlib import Path\n",
    "import os, re, yaml, logging\n",
    "from dotenv import load_dotenv\n",
    "import google.generativeai as genai\n",
    "from rich.logging import RichHandler\n",
    "from tqdm import tqdm\n",
    "import time\n",
    "\n",
    "logging.basicConfig(level='INFO', handlers=[RichHandler()], format='%(message)s')"
   ]
  },
  {
   "cell_type": "markdown",
   "id": "c4a36ec6",
   "metadata": {},
   "source": [
    "## 🛠 Configuration"
   ]
  },
  {
   "cell_type": "code",
   "execution_count": 3,
   "id": "f5f31425",
   "metadata": {},
   "outputs": [],
   "source": [
    "PROMPT_YAML = Path('../prompt.yaml')\n",
    "SRC_DIRS = [Path('../Dataset/Prompts/Large'), Path('../Dataset/Prompts/Small')]\n",
    "OUT_DIR  = Path('Basic/Gemini')\n",
    "MODEL_NAME = 'gemini-2.5-flash-preview-05-20'\n",
    "CODE_BLOCK_RE = re.compile(r\"```(?:cpp|c\\+\\+)?\\s*([\\s\\S]+?)```\", re.IGNORECASE)"
   ]
  },
  {
   "cell_type": "markdown",
   "id": "787a0250",
   "metadata": {},
   "source": [
    "### Helper: extract first fenced C++ block"
   ]
  },
  {
   "cell_type": "code",
   "execution_count": 4,
   "id": "d83753a3",
   "metadata": {},
   "outputs": [],
   "source": [
    "def extract_code(text: str) -> str:\n",
    "    m = CODE_BLOCK_RE.search(text)\n",
    "    return m.group(1).strip() if m else text.strip()"
   ]
  },
  {
   "cell_type": "markdown",
   "id": "42316393",
   "metadata": {},
   "source": [
    "## 📑 Load instruction prompt"
   ]
  },
  {
   "cell_type": "code",
   "execution_count": 5,
   "id": "e1353ae3",
   "metadata": {},
   "outputs": [
    {
     "name": "stdout",
     "output_type": "stream",
     "text": [
      "You are a computer networking expert that works with network simulation in ns-3.\n",
      "Your task is to generate **only** the ns-3 C++ source code for the given program description.\n",
      "Output a single compilable .cc file – no commentary, no markdown fences, no explanations.\n",
      "Use ns-3 public APIs, assume ns-3 ≥ 3.41, and write error-free C++17.\n"
     ]
    }
   ],
   "source": [
    "instruction_prompt = yaml.safe_load(PROMPT_YAML.open())['instruction_prompt'].strip()\n",
    "print(instruction_prompt)"
   ]
  },
  {
   "cell_type": "markdown",
   "id": "81ae358d",
   "metadata": {},
   "source": [
    "## 🔑 Authenticate & initialise Gemini"
   ]
  },
  {
   "cell_type": "code",
   "execution_count": 6,
   "id": "b7c5ae9a",
   "metadata": {},
   "outputs": [
    {
     "name": "stdout",
     "output_type": "stream",
     "text": [
      "Model ready!\n"
     ]
    }
   ],
   "source": [
    "load_dotenv()\n",
    "assert 'GEMINI_API_KEY' in os.environ, 'Add GEMINI_API_KEY to your .env file'\n",
    "genai.configure(api_key=os.environ['GEMINI_API_KEY'])\n",
    "model = genai.GenerativeModel(MODEL_NAME)\n",
    "print('Model ready!')"
   ]
  },
  {
   "cell_type": "markdown",
   "id": "efa0a6fb",
   "metadata": {},
   "source": [
    "## 🗂 Collect description files"
   ]
  },
  {
   "cell_type": "code",
   "execution_count": 7,
   "id": "65f98113",
   "metadata": {},
   "outputs": [
    {
     "name": "stdout",
     "output_type": "stream",
     "text": [
      "Found 400 description files\n"
     ]
    }
   ],
   "source": [
    "txt_files = []\n",
    "for d in SRC_DIRS:\n",
    "    txt_files.extend(sorted(d.glob('*.txt')))\n",
    "print(f'Found {len(txt_files)} description files')\n",
    "OUT_DIR.mkdir(parents=True, exist_ok=True)"
   ]
  },
  {
   "cell_type": "markdown",
   "id": "db600179",
   "metadata": {},
   "source": [
    "## 🚀 Generate ns‑3 code"
   ]
  },
  {
   "cell_type": "code",
   "execution_count": 8,
   "id": "16a0e032",
   "metadata": {},
   "outputs": [
    {
     "name": "stderr",
     "output_type": "stream",
     "text": [
      "Generating:   0%|          | 0/400 [00:00<?, ?it/s]"
     ]
    },
    {
     "data": {
      "text/html": [
       "<pre style=\"white-space:pre;overflow-x:auto;line-height:normal;font-family:Menlo,'DejaVu Sans Mono',consolas,'Courier New',monospace\"><span style=\"color: #7fbfbf; text-decoration-color: #7fbfbf\">[05/22/25 19:27:38] </span><span style=\"color: #000080; text-decoration-color: #000080\">INFO    </span> ✓ <span style=\"color: #008080; text-decoration-color: #008080; font-weight: bold\">1.</span>txt → Basic\\Gemini\\<span style=\"color: #008080; text-decoration-color: #008080; font-weight: bold\">1.</span>cc                                            <a href=\"file://C:\\Users\\Tasnim\\AppData\\Local\\Temp\\ipykernel_16732\\1564753407.py\" target=\"_blank\"><span style=\"color: #7f7f7f; text-decoration-color: #7f7f7f\">1564753407.py</span></a><span style=\"color: #7f7f7f; text-decoration-color: #7f7f7f\">:</span><a href=\"file://C:\\Users\\Tasnim\\AppData\\Local\\Temp\\ipykernel_16732\\1564753407.py#9\" target=\"_blank\"><span style=\"color: #7f7f7f; text-decoration-color: #7f7f7f\">9</span></a>\n",
       "</pre>\n"
      ],
      "text/plain": [
       "\u001b[2;36m[05/22/25 19:27:38]\u001b[0m\u001b[2;36m \u001b[0m\u001b[34mINFO    \u001b[0m ✓ \u001b[1;36m1.\u001b[0mtxt → Basic\\Gemini\\\u001b[1;36m1.\u001b[0mcc                                            \u001b]8;id=63295;file://C:\\Users\\Tasnim\\AppData\\Local\\Temp\\ipykernel_16732\\1564753407.py\u001b\\\u001b[2m1564753407.py\u001b[0m\u001b]8;;\u001b\\\u001b[2m:\u001b[0m\u001b]8;id=442635;file://C:\\Users\\Tasnim\\AppData\\Local\\Temp\\ipykernel_16732\\1564753407.py#9\u001b\\\u001b[2m9\u001b[0m\u001b]8;;\u001b\\\n"
      ]
     },
     "metadata": {},
     "output_type": "display_data"
    },
    {
     "name": "stderr",
     "output_type": "stream",
     "text": [
      "Generating:   0%|          | 1/400 [00:19<2:11:43, 19.81s/it]"
     ]
    },
    {
     "data": {
      "text/html": [
       "<pre style=\"white-space:pre;overflow-x:auto;line-height:normal;font-family:Menlo,'DejaVu Sans Mono',consolas,'Courier New',monospace\"><span style=\"color: #7fbfbf; text-decoration-color: #7fbfbf\">[05/22/25 19:28:15] </span><span style=\"color: #000080; text-decoration-color: #000080\">INFO    </span> ✓ <span style=\"color: #008080; text-decoration-color: #008080; font-weight: bold\">10.</span>txt → Basic\\Gemini\\<span style=\"color: #008080; text-decoration-color: #008080; font-weight: bold\">10.</span>cc                                          <a href=\"file://C:\\Users\\Tasnim\\AppData\\Local\\Temp\\ipykernel_16732\\1564753407.py\" target=\"_blank\"><span style=\"color: #7f7f7f; text-decoration-color: #7f7f7f\">1564753407.py</span></a><span style=\"color: #7f7f7f; text-decoration-color: #7f7f7f\">:</span><a href=\"file://C:\\Users\\Tasnim\\AppData\\Local\\Temp\\ipykernel_16732\\1564753407.py#9\" target=\"_blank\"><span style=\"color: #7f7f7f; text-decoration-color: #7f7f7f\">9</span></a>\n",
       "</pre>\n"
      ],
      "text/plain": [
       "\u001b[2;36m[05/22/25 19:28:15]\u001b[0m\u001b[2;36m \u001b[0m\u001b[34mINFO    \u001b[0m ✓ \u001b[1;36m10.\u001b[0mtxt → Basic\\Gemini\\\u001b[1;36m10.\u001b[0mcc                                          \u001b]8;id=801435;file://C:\\Users\\Tasnim\\AppData\\Local\\Temp\\ipykernel_16732\\1564753407.py\u001b\\\u001b[2m1564753407.py\u001b[0m\u001b]8;;\u001b\\\u001b[2m:\u001b[0m\u001b]8;id=827314;file://C:\\Users\\Tasnim\\AppData\\Local\\Temp\\ipykernel_16732\\1564753407.py#9\u001b\\\u001b[2m9\u001b[0m\u001b]8;;\u001b\\\n"
      ]
     },
     "metadata": {},
     "output_type": "display_data"
    },
    {
     "name": "stderr",
     "output_type": "stream",
     "text": [
      "Generating:   0%|          | 2/400 [00:56<3:15:41, 29.50s/it]"
     ]
    },
    {
     "data": {
      "text/html": [
       "<pre style=\"white-space:pre;overflow-x:auto;line-height:normal;font-family:Menlo,'DejaVu Sans Mono',consolas,'Courier New',monospace\"><span style=\"color: #7fbfbf; text-decoration-color: #7fbfbf\">[05/22/25 19:29:30] </span><span style=\"color: #000080; text-decoration-color: #000080\">INFO    </span> ✓ <span style=\"color: #008080; text-decoration-color: #008080; font-weight: bold\">100.</span>txt → Basic\\Gemini\\<span style=\"color: #008080; text-decoration-color: #008080; font-weight: bold\">100.</span>cc                                        <a href=\"file://C:\\Users\\Tasnim\\AppData\\Local\\Temp\\ipykernel_16732\\1564753407.py\" target=\"_blank\"><span style=\"color: #7f7f7f; text-decoration-color: #7f7f7f\">1564753407.py</span></a><span style=\"color: #7f7f7f; text-decoration-color: #7f7f7f\">:</span><a href=\"file://C:\\Users\\Tasnim\\AppData\\Local\\Temp\\ipykernel_16732\\1564753407.py#9\" target=\"_blank\"><span style=\"color: #7f7f7f; text-decoration-color: #7f7f7f\">9</span></a>\n",
       "</pre>\n"
      ],
      "text/plain": [
       "\u001b[2;36m[05/22/25 19:29:30]\u001b[0m\u001b[2;36m \u001b[0m\u001b[34mINFO    \u001b[0m ✓ \u001b[1;36m100.\u001b[0mtxt → Basic\\Gemini\\\u001b[1;36m100.\u001b[0mcc                                        \u001b]8;id=143474;file://C:\\Users\\Tasnim\\AppData\\Local\\Temp\\ipykernel_16732\\1564753407.py\u001b\\\u001b[2m1564753407.py\u001b[0m\u001b]8;;\u001b\\\u001b[2m:\u001b[0m\u001b]8;id=369043;file://C:\\Users\\Tasnim\\AppData\\Local\\Temp\\ipykernel_16732\\1564753407.py#9\u001b\\\u001b[2m9\u001b[0m\u001b]8;;\u001b\\\n"
      ]
     },
     "metadata": {},
     "output_type": "display_data"
    },
    {
     "name": "stderr",
     "output_type": "stream",
     "text": [
      "Generating:   1%|          | 3/400 [02:11<5:34:01, 50.48s/it]"
     ]
    },
    {
     "data": {
      "text/html": [
       "<pre style=\"white-space:pre;overflow-x:auto;line-height:normal;font-family:Menlo,'DejaVu Sans Mono',consolas,'Courier New',monospace\"><span style=\"color: #7fbfbf; text-decoration-color: #7fbfbf\">[05/22/25 19:30:06] </span><span style=\"color: #000080; text-decoration-color: #000080\">INFO    </span> ✓ <span style=\"color: #008080; text-decoration-color: #008080; font-weight: bold\">101.</span>txt → Basic\\Gemini\\<span style=\"color: #008080; text-decoration-color: #008080; font-weight: bold\">101.</span>cc                                        <a href=\"file://C:\\Users\\Tasnim\\AppData\\Local\\Temp\\ipykernel_16732\\1564753407.py\" target=\"_blank\"><span style=\"color: #7f7f7f; text-decoration-color: #7f7f7f\">1564753407.py</span></a><span style=\"color: #7f7f7f; text-decoration-color: #7f7f7f\">:</span><a href=\"file://C:\\Users\\Tasnim\\AppData\\Local\\Temp\\ipykernel_16732\\1564753407.py#9\" target=\"_blank\"><span style=\"color: #7f7f7f; text-decoration-color: #7f7f7f\">9</span></a>\n",
       "</pre>\n"
      ],
      "text/plain": [
       "\u001b[2;36m[05/22/25 19:30:06]\u001b[0m\u001b[2;36m \u001b[0m\u001b[34mINFO    \u001b[0m ✓ \u001b[1;36m101.\u001b[0mtxt → Basic\\Gemini\\\u001b[1;36m101.\u001b[0mcc                                        \u001b]8;id=998776;file://C:\\Users\\Tasnim\\AppData\\Local\\Temp\\ipykernel_16732\\1564753407.py\u001b\\\u001b[2m1564753407.py\u001b[0m\u001b]8;;\u001b\\\u001b[2m:\u001b[0m\u001b]8;id=934038;file://C:\\Users\\Tasnim\\AppData\\Local\\Temp\\ipykernel_16732\\1564753407.py#9\u001b\\\u001b[2m9\u001b[0m\u001b]8;;\u001b\\\n"
      ]
     },
     "metadata": {},
     "output_type": "display_data"
    },
    {
     "name": "stderr",
     "output_type": "stream",
     "text": [
      "Generating:   1%|          | 4/400 [02:47<4:54:19, 44.59s/it]"
     ]
    },
    {
     "data": {
      "text/html": [
       "<pre style=\"white-space:pre;overflow-x:auto;line-height:normal;font-family:Menlo,'DejaVu Sans Mono',consolas,'Courier New',monospace\"><span style=\"color: #7fbfbf; text-decoration-color: #7fbfbf\">[05/22/25 19:31:07] </span><span style=\"color: #000080; text-decoration-color: #000080\">INFO    </span> ✓ <span style=\"color: #008080; text-decoration-color: #008080; font-weight: bold\">102.</span>txt → Basic\\Gemini\\<span style=\"color: #008080; text-decoration-color: #008080; font-weight: bold\">102.</span>cc                                        <a href=\"file://C:\\Users\\Tasnim\\AppData\\Local\\Temp\\ipykernel_16732\\1564753407.py\" target=\"_blank\"><span style=\"color: #7f7f7f; text-decoration-color: #7f7f7f\">1564753407.py</span></a><span style=\"color: #7f7f7f; text-decoration-color: #7f7f7f\">:</span><a href=\"file://C:\\Users\\Tasnim\\AppData\\Local\\Temp\\ipykernel_16732\\1564753407.py#9\" target=\"_blank\"><span style=\"color: #7f7f7f; text-decoration-color: #7f7f7f\">9</span></a>\n",
       "</pre>\n"
      ],
      "text/plain": [
       "\u001b[2;36m[05/22/25 19:31:07]\u001b[0m\u001b[2;36m \u001b[0m\u001b[34mINFO    \u001b[0m ✓ \u001b[1;36m102.\u001b[0mtxt → Basic\\Gemini\\\u001b[1;36m102.\u001b[0mcc                                        \u001b]8;id=124002;file://C:\\Users\\Tasnim\\AppData\\Local\\Temp\\ipykernel_16732\\1564753407.py\u001b\\\u001b[2m1564753407.py\u001b[0m\u001b]8;;\u001b\\\u001b[2m:\u001b[0m\u001b]8;id=647382;file://C:\\Users\\Tasnim\\AppData\\Local\\Temp\\ipykernel_16732\\1564753407.py#9\u001b\\\u001b[2m9\u001b[0m\u001b]8;;\u001b\\\n"
      ]
     },
     "metadata": {},
     "output_type": "display_data"
    },
    {
     "name": "stderr",
     "output_type": "stream",
     "text": [
      "Generating:   1%|▏         | 5/400 [03:48<5:33:30, 50.66s/it]"
     ]
    },
    {
     "data": {
      "text/html": [
       "<pre style=\"white-space:pre;overflow-x:auto;line-height:normal;font-family:Menlo,'DejaVu Sans Mono',consolas,'Courier New',monospace\"><span style=\"color: #7fbfbf; text-decoration-color: #7fbfbf\">[05/22/25 19:31:52] </span><span style=\"color: #000080; text-decoration-color: #000080\">INFO    </span> ✓ <span style=\"color: #008080; text-decoration-color: #008080; font-weight: bold\">103.</span>txt → Basic\\Gemini\\<span style=\"color: #008080; text-decoration-color: #008080; font-weight: bold\">103.</span>cc                                        <a href=\"file://C:\\Users\\Tasnim\\AppData\\Local\\Temp\\ipykernel_16732\\1564753407.py\" target=\"_blank\"><span style=\"color: #7f7f7f; text-decoration-color: #7f7f7f\">1564753407.py</span></a><span style=\"color: #7f7f7f; text-decoration-color: #7f7f7f\">:</span><a href=\"file://C:\\Users\\Tasnim\\AppData\\Local\\Temp\\ipykernel_16732\\1564753407.py#9\" target=\"_blank\"><span style=\"color: #7f7f7f; text-decoration-color: #7f7f7f\">9</span></a>\n",
       "</pre>\n"
      ],
      "text/plain": [
       "\u001b[2;36m[05/22/25 19:31:52]\u001b[0m\u001b[2;36m \u001b[0m\u001b[34mINFO    \u001b[0m ✓ \u001b[1;36m103.\u001b[0mtxt → Basic\\Gemini\\\u001b[1;36m103.\u001b[0mcc                                        \u001b]8;id=869241;file://C:\\Users\\Tasnim\\AppData\\Local\\Temp\\ipykernel_16732\\1564753407.py\u001b\\\u001b[2m1564753407.py\u001b[0m\u001b]8;;\u001b\\\u001b[2m:\u001b[0m\u001b]8;id=648682;file://C:\\Users\\Tasnim\\AppData\\Local\\Temp\\ipykernel_16732\\1564753407.py#9\u001b\\\u001b[2m9\u001b[0m\u001b]8;;\u001b\\\n"
      ]
     },
     "metadata": {},
     "output_type": "display_data"
    },
    {
     "name": "stderr",
     "output_type": "stream",
     "text": [
      "Generating:   2%|▏         | 6/400 [04:32<5:18:34, 48.51s/it]"
     ]
    },
    {
     "data": {
      "text/html": [
       "<pre style=\"white-space:pre;overflow-x:auto;line-height:normal;font-family:Menlo,'DejaVu Sans Mono',consolas,'Courier New',monospace\"><span style=\"color: #7fbfbf; text-decoration-color: #7fbfbf\">[05/22/25 19:32:24] </span><span style=\"color: #000080; text-decoration-color: #000080\">INFO    </span> ✓ <span style=\"color: #008080; text-decoration-color: #008080; font-weight: bold\">104.</span>txt → Basic\\Gemini\\<span style=\"color: #008080; text-decoration-color: #008080; font-weight: bold\">104.</span>cc                                        <a href=\"file://C:\\Users\\Tasnim\\AppData\\Local\\Temp\\ipykernel_16732\\1564753407.py\" target=\"_blank\"><span style=\"color: #7f7f7f; text-decoration-color: #7f7f7f\">1564753407.py</span></a><span style=\"color: #7f7f7f; text-decoration-color: #7f7f7f\">:</span><a href=\"file://C:\\Users\\Tasnim\\AppData\\Local\\Temp\\ipykernel_16732\\1564753407.py#9\" target=\"_blank\"><span style=\"color: #7f7f7f; text-decoration-color: #7f7f7f\">9</span></a>\n",
       "</pre>\n"
      ],
      "text/plain": [
       "\u001b[2;36m[05/22/25 19:32:24]\u001b[0m\u001b[2;36m \u001b[0m\u001b[34mINFO    \u001b[0m ✓ \u001b[1;36m104.\u001b[0mtxt → Basic\\Gemini\\\u001b[1;36m104.\u001b[0mcc                                        \u001b]8;id=237217;file://C:\\Users\\Tasnim\\AppData\\Local\\Temp\\ipykernel_16732\\1564753407.py\u001b\\\u001b[2m1564753407.py\u001b[0m\u001b]8;;\u001b\\\u001b[2m:\u001b[0m\u001b]8;id=652923;file://C:\\Users\\Tasnim\\AppData\\Local\\Temp\\ipykernel_16732\\1564753407.py#9\u001b\\\u001b[2m9\u001b[0m\u001b]8;;\u001b\\\n"
      ]
     },
     "metadata": {},
     "output_type": "display_data"
    },
    {
     "name": "stderr",
     "output_type": "stream",
     "text": [
      "Generating:   2%|▏         | 7/400 [05:04<4:42:33, 43.14s/it]"
     ]
    },
    {
     "data": {
      "text/html": [
       "<pre style=\"white-space:pre;overflow-x:auto;line-height:normal;font-family:Menlo,'DejaVu Sans Mono',consolas,'Courier New',monospace\"><span style=\"color: #7fbfbf; text-decoration-color: #7fbfbf\">[05/22/25 19:32:50] </span><span style=\"color: #000080; text-decoration-color: #000080\">INFO    </span> ✓ <span style=\"color: #008080; text-decoration-color: #008080; font-weight: bold\">105.</span>txt → Basic\\Gemini\\<span style=\"color: #008080; text-decoration-color: #008080; font-weight: bold\">105.</span>cc                                        <a href=\"file://C:\\Users\\Tasnim\\AppData\\Local\\Temp\\ipykernel_16732\\1564753407.py\" target=\"_blank\"><span style=\"color: #7f7f7f; text-decoration-color: #7f7f7f\">1564753407.py</span></a><span style=\"color: #7f7f7f; text-decoration-color: #7f7f7f\">:</span><a href=\"file://C:\\Users\\Tasnim\\AppData\\Local\\Temp\\ipykernel_16732\\1564753407.py#9\" target=\"_blank\"><span style=\"color: #7f7f7f; text-decoration-color: #7f7f7f\">9</span></a>\n",
       "</pre>\n"
      ],
      "text/plain": [
       "\u001b[2;36m[05/22/25 19:32:50]\u001b[0m\u001b[2;36m \u001b[0m\u001b[34mINFO    \u001b[0m ✓ \u001b[1;36m105.\u001b[0mtxt → Basic\\Gemini\\\u001b[1;36m105.\u001b[0mcc                                        \u001b]8;id=368639;file://C:\\Users\\Tasnim\\AppData\\Local\\Temp\\ipykernel_16732\\1564753407.py\u001b\\\u001b[2m1564753407.py\u001b[0m\u001b]8;;\u001b\\\u001b[2m:\u001b[0m\u001b]8;id=263100;file://C:\\Users\\Tasnim\\AppData\\Local\\Temp\\ipykernel_16732\\1564753407.py#9\u001b\\\u001b[2m9\u001b[0m\u001b]8;;\u001b\\\n"
      ]
     },
     "metadata": {},
     "output_type": "display_data"
    },
    {
     "name": "stderr",
     "output_type": "stream",
     "text": [
      "Generating:   2%|▏         | 8/400 [05:31<4:07:22, 37.86s/it]"
     ]
    },
    {
     "data": {
      "text/html": [
       "<pre style=\"white-space:pre;overflow-x:auto;line-height:normal;font-family:Menlo,'DejaVu Sans Mono',consolas,'Courier New',monospace\"><span style=\"color: #7fbfbf; text-decoration-color: #7fbfbf\">[05/22/25 19:33:31] </span><span style=\"color: #000080; text-decoration-color: #000080\">INFO    </span> ✓ <span style=\"color: #008080; text-decoration-color: #008080; font-weight: bold\">106.</span>txt → Basic\\Gemini\\<span style=\"color: #008080; text-decoration-color: #008080; font-weight: bold\">106.</span>cc                                        <a href=\"file://C:\\Users\\Tasnim\\AppData\\Local\\Temp\\ipykernel_16732\\1564753407.py\" target=\"_blank\"><span style=\"color: #7f7f7f; text-decoration-color: #7f7f7f\">1564753407.py</span></a><span style=\"color: #7f7f7f; text-decoration-color: #7f7f7f\">:</span><a href=\"file://C:\\Users\\Tasnim\\AppData\\Local\\Temp\\ipykernel_16732\\1564753407.py#9\" target=\"_blank\"><span style=\"color: #7f7f7f; text-decoration-color: #7f7f7f\">9</span></a>\n",
       "</pre>\n"
      ],
      "text/plain": [
       "\u001b[2;36m[05/22/25 19:33:31]\u001b[0m\u001b[2;36m \u001b[0m\u001b[34mINFO    \u001b[0m ✓ \u001b[1;36m106.\u001b[0mtxt → Basic\\Gemini\\\u001b[1;36m106.\u001b[0mcc                                        \u001b]8;id=160188;file://C:\\Users\\Tasnim\\AppData\\Local\\Temp\\ipykernel_16732\\1564753407.py\u001b\\\u001b[2m1564753407.py\u001b[0m\u001b]8;;\u001b\\\u001b[2m:\u001b[0m\u001b]8;id=543524;file://C:\\Users\\Tasnim\\AppData\\Local\\Temp\\ipykernel_16732\\1564753407.py#9\u001b\\\u001b[2m9\u001b[0m\u001b]8;;\u001b\\\n"
      ]
     },
     "metadata": {},
     "output_type": "display_data"
    },
    {
     "name": "stderr",
     "output_type": "stream",
     "text": [
      "Generating:   2%|▏         | 9/400 [06:11<4:12:04, 38.68s/it]"
     ]
    },
    {
     "data": {
      "text/html": [
       "<pre style=\"white-space:pre;overflow-x:auto;line-height:normal;font-family:Menlo,'DejaVu Sans Mono',consolas,'Courier New',monospace\"><span style=\"color: #7fbfbf; text-decoration-color: #7fbfbf\">[05/22/25 19:34:07] </span><span style=\"color: #000080; text-decoration-color: #000080\">INFO    </span> ✓ <span style=\"color: #008080; text-decoration-color: #008080; font-weight: bold\">107.</span>txt → Basic\\Gemini\\<span style=\"color: #008080; text-decoration-color: #008080; font-weight: bold\">107.</span>cc                                        <a href=\"file://C:\\Users\\Tasnim\\AppData\\Local\\Temp\\ipykernel_16732\\1564753407.py\" target=\"_blank\"><span style=\"color: #7f7f7f; text-decoration-color: #7f7f7f\">1564753407.py</span></a><span style=\"color: #7f7f7f; text-decoration-color: #7f7f7f\">:</span><a href=\"file://C:\\Users\\Tasnim\\AppData\\Local\\Temp\\ipykernel_16732\\1564753407.py#9\" target=\"_blank\"><span style=\"color: #7f7f7f; text-decoration-color: #7f7f7f\">9</span></a>\n",
       "</pre>\n"
      ],
      "text/plain": [
       "\u001b[2;36m[05/22/25 19:34:07]\u001b[0m\u001b[2;36m \u001b[0m\u001b[34mINFO    \u001b[0m ✓ \u001b[1;36m107.\u001b[0mtxt → Basic\\Gemini\\\u001b[1;36m107.\u001b[0mcc                                        \u001b]8;id=217106;file://C:\\Users\\Tasnim\\AppData\\Local\\Temp\\ipykernel_16732\\1564753407.py\u001b\\\u001b[2m1564753407.py\u001b[0m\u001b]8;;\u001b\\\u001b[2m:\u001b[0m\u001b]8;id=709685;file://C:\\Users\\Tasnim\\AppData\\Local\\Temp\\ipykernel_16732\\1564753407.py#9\u001b\\\u001b[2m9\u001b[0m\u001b]8;;\u001b\\\n"
      ]
     },
     "metadata": {},
     "output_type": "display_data"
    },
    {
     "name": "stderr",
     "output_type": "stream",
     "text": [
      "Generating:   2%|▎         | 10/400 [06:47<4:06:00, 37.85s/it]"
     ]
    },
    {
     "data": {
      "text/html": [
       "<pre style=\"white-space:pre;overflow-x:auto;line-height:normal;font-family:Menlo,'DejaVu Sans Mono',consolas,'Courier New',monospace\"><span style=\"color: #7fbfbf; text-decoration-color: #7fbfbf\">[05/22/25 19:35:00] </span><span style=\"color: #000080; text-decoration-color: #000080\">INFO    </span> ✓ <span style=\"color: #008080; text-decoration-color: #008080; font-weight: bold\">108.</span>txt → Basic\\Gemini\\<span style=\"color: #008080; text-decoration-color: #008080; font-weight: bold\">108.</span>cc                                        <a href=\"file://C:\\Users\\Tasnim\\AppData\\Local\\Temp\\ipykernel_16732\\1564753407.py\" target=\"_blank\"><span style=\"color: #7f7f7f; text-decoration-color: #7f7f7f\">1564753407.py</span></a><span style=\"color: #7f7f7f; text-decoration-color: #7f7f7f\">:</span><a href=\"file://C:\\Users\\Tasnim\\AppData\\Local\\Temp\\ipykernel_16732\\1564753407.py#9\" target=\"_blank\"><span style=\"color: #7f7f7f; text-decoration-color: #7f7f7f\">9</span></a>\n",
       "</pre>\n"
      ],
      "text/plain": [
       "\u001b[2;36m[05/22/25 19:35:00]\u001b[0m\u001b[2;36m \u001b[0m\u001b[34mINFO    \u001b[0m ✓ \u001b[1;36m108.\u001b[0mtxt → Basic\\Gemini\\\u001b[1;36m108.\u001b[0mcc                                        \u001b]8;id=43625;file://C:\\Users\\Tasnim\\AppData\\Local\\Temp\\ipykernel_16732\\1564753407.py\u001b\\\u001b[2m1564753407.py\u001b[0m\u001b]8;;\u001b\\\u001b[2m:\u001b[0m\u001b]8;id=30915;file://C:\\Users\\Tasnim\\AppData\\Local\\Temp\\ipykernel_16732\\1564753407.py#9\u001b\\\u001b[2m9\u001b[0m\u001b]8;;\u001b\\\n"
      ]
     },
     "metadata": {},
     "output_type": "display_data"
    },
    {
     "name": "stderr",
     "output_type": "stream",
     "text": [
      "Generating:   3%|▎         | 11/400 [07:41<4:37:02, 42.73s/it]"
     ]
    },
    {
     "data": {
      "text/html": [
       "<pre style=\"white-space:pre;overflow-x:auto;line-height:normal;font-family:Menlo,'DejaVu Sans Mono',consolas,'Courier New',monospace\"><span style=\"color: #7fbfbf; text-decoration-color: #7fbfbf\">[05/22/25 19:35:40] </span><span style=\"color: #000080; text-decoration-color: #000080\">INFO    </span> ✓ <span style=\"color: #008080; text-decoration-color: #008080; font-weight: bold\">109.</span>txt → Basic\\Gemini\\<span style=\"color: #008080; text-decoration-color: #008080; font-weight: bold\">109.</span>cc                                        <a href=\"file://C:\\Users\\Tasnim\\AppData\\Local\\Temp\\ipykernel_16732\\1564753407.py\" target=\"_blank\"><span style=\"color: #7f7f7f; text-decoration-color: #7f7f7f\">1564753407.py</span></a><span style=\"color: #7f7f7f; text-decoration-color: #7f7f7f\">:</span><a href=\"file://C:\\Users\\Tasnim\\AppData\\Local\\Temp\\ipykernel_16732\\1564753407.py#9\" target=\"_blank\"><span style=\"color: #7f7f7f; text-decoration-color: #7f7f7f\">9</span></a>\n",
       "</pre>\n"
      ],
      "text/plain": [
       "\u001b[2;36m[05/22/25 19:35:40]\u001b[0m\u001b[2;36m \u001b[0m\u001b[34mINFO    \u001b[0m ✓ \u001b[1;36m109.\u001b[0mtxt → Basic\\Gemini\\\u001b[1;36m109.\u001b[0mcc                                        \u001b]8;id=348408;file://C:\\Users\\Tasnim\\AppData\\Local\\Temp\\ipykernel_16732\\1564753407.py\u001b\\\u001b[2m1564753407.py\u001b[0m\u001b]8;;\u001b\\\u001b[2m:\u001b[0m\u001b]8;id=830554;file://C:\\Users\\Tasnim\\AppData\\Local\\Temp\\ipykernel_16732\\1564753407.py#9\u001b\\\u001b[2m9\u001b[0m\u001b]8;;\u001b\\\n"
      ]
     },
     "metadata": {},
     "output_type": "display_data"
    },
    {
     "name": "stderr",
     "output_type": "stream",
     "text": [
      "Generating:   3%|▎         | 12/400 [08:21<4:30:00, 41.75s/it]"
     ]
    },
    {
     "data": {
      "text/html": [
       "<pre style=\"white-space:pre;overflow-x:auto;line-height:normal;font-family:Menlo,'DejaVu Sans Mono',consolas,'Courier New',monospace\"><span style=\"color: #7fbfbf; text-decoration-color: #7fbfbf\">[05/22/25 19:36:06] </span><span style=\"color: #000080; text-decoration-color: #000080\">INFO    </span> ✓ <span style=\"color: #008080; text-decoration-color: #008080; font-weight: bold\">11.</span>txt → Basic\\Gemini\\<span style=\"color: #008080; text-decoration-color: #008080; font-weight: bold\">11.</span>cc                                          <a href=\"file://C:\\Users\\Tasnim\\AppData\\Local\\Temp\\ipykernel_16732\\1564753407.py\" target=\"_blank\"><span style=\"color: #7f7f7f; text-decoration-color: #7f7f7f\">1564753407.py</span></a><span style=\"color: #7f7f7f; text-decoration-color: #7f7f7f\">:</span><a href=\"file://C:\\Users\\Tasnim\\AppData\\Local\\Temp\\ipykernel_16732\\1564753407.py#9\" target=\"_blank\"><span style=\"color: #7f7f7f; text-decoration-color: #7f7f7f\">9</span></a>\n",
       "</pre>\n"
      ],
      "text/plain": [
       "\u001b[2;36m[05/22/25 19:36:06]\u001b[0m\u001b[2;36m \u001b[0m\u001b[34mINFO    \u001b[0m ✓ \u001b[1;36m11.\u001b[0mtxt → Basic\\Gemini\\\u001b[1;36m11.\u001b[0mcc                                          \u001b]8;id=897796;file://C:\\Users\\Tasnim\\AppData\\Local\\Temp\\ipykernel_16732\\1564753407.py\u001b\\\u001b[2m1564753407.py\u001b[0m\u001b]8;;\u001b\\\u001b[2m:\u001b[0m\u001b]8;id=923853;file://C:\\Users\\Tasnim\\AppData\\Local\\Temp\\ipykernel_16732\\1564753407.py#9\u001b\\\u001b[2m9\u001b[0m\u001b]8;;\u001b\\\n"
      ]
     },
     "metadata": {},
     "output_type": "display_data"
    },
    {
     "name": "stderr",
     "output_type": "stream",
     "text": [
      "Generating:   3%|▎         | 13/400 [08:47<3:59:08, 37.08s/it]"
     ]
    },
    {
     "data": {
      "text/html": [
       "<pre style=\"white-space:pre;overflow-x:auto;line-height:normal;font-family:Menlo,'DejaVu Sans Mono',consolas,'Courier New',monospace\"><span style=\"color: #7fbfbf; text-decoration-color: #7fbfbf\">[05/22/25 19:36:25] </span><span style=\"color: #000080; text-decoration-color: #000080\">INFO    </span> ✓ <span style=\"color: #008080; text-decoration-color: #008080; font-weight: bold\">110.</span>txt → Basic\\Gemini\\<span style=\"color: #008080; text-decoration-color: #008080; font-weight: bold\">110.</span>cc                                        <a href=\"file://C:\\Users\\Tasnim\\AppData\\Local\\Temp\\ipykernel_16732\\1564753407.py\" target=\"_blank\"><span style=\"color: #7f7f7f; text-decoration-color: #7f7f7f\">1564753407.py</span></a><span style=\"color: #7f7f7f; text-decoration-color: #7f7f7f\">:</span><a href=\"file://C:\\Users\\Tasnim\\AppData\\Local\\Temp\\ipykernel_16732\\1564753407.py#9\" target=\"_blank\"><span style=\"color: #7f7f7f; text-decoration-color: #7f7f7f\">9</span></a>\n",
       "</pre>\n"
      ],
      "text/plain": [
       "\u001b[2;36m[05/22/25 19:36:25]\u001b[0m\u001b[2;36m \u001b[0m\u001b[34mINFO    \u001b[0m ✓ \u001b[1;36m110.\u001b[0mtxt → Basic\\Gemini\\\u001b[1;36m110.\u001b[0mcc                                        \u001b]8;id=929002;file://C:\\Users\\Tasnim\\AppData\\Local\\Temp\\ipykernel_16732\\1564753407.py\u001b\\\u001b[2m1564753407.py\u001b[0m\u001b]8;;\u001b\\\u001b[2m:\u001b[0m\u001b]8;id=166453;file://C:\\Users\\Tasnim\\AppData\\Local\\Temp\\ipykernel_16732\\1564753407.py#9\u001b\\\u001b[2m9\u001b[0m\u001b]8;;\u001b\\\n"
      ]
     },
     "metadata": {},
     "output_type": "display_data"
    },
    {
     "name": "stderr",
     "output_type": "stream",
     "text": [
      "Generating:   4%|▎         | 14/400 [09:05<3:21:52, 31.38s/it]"
     ]
    },
    {
     "data": {
      "text/html": [
       "<pre style=\"white-space:pre;overflow-x:auto;line-height:normal;font-family:Menlo,'DejaVu Sans Mono',consolas,'Courier New',monospace\"><span style=\"color: #7fbfbf; text-decoration-color: #7fbfbf\">[05/22/25 19:37:05] </span><span style=\"color: #000080; text-decoration-color: #000080\">INFO    </span> ✓ <span style=\"color: #008080; text-decoration-color: #008080; font-weight: bold\">111.</span>txt → Basic\\Gemini\\<span style=\"color: #008080; text-decoration-color: #008080; font-weight: bold\">111.</span>cc                                        <a href=\"file://C:\\Users\\Tasnim\\AppData\\Local\\Temp\\ipykernel_16732\\1564753407.py\" target=\"_blank\"><span style=\"color: #7f7f7f; text-decoration-color: #7f7f7f\">1564753407.py</span></a><span style=\"color: #7f7f7f; text-decoration-color: #7f7f7f\">:</span><a href=\"file://C:\\Users\\Tasnim\\AppData\\Local\\Temp\\ipykernel_16732\\1564753407.py#9\" target=\"_blank\"><span style=\"color: #7f7f7f; text-decoration-color: #7f7f7f\">9</span></a>\n",
       "</pre>\n"
      ],
      "text/plain": [
       "\u001b[2;36m[05/22/25 19:37:05]\u001b[0m\u001b[2;36m \u001b[0m\u001b[34mINFO    \u001b[0m ✓ \u001b[1;36m111.\u001b[0mtxt → Basic\\Gemini\\\u001b[1;36m111.\u001b[0mcc                                        \u001b]8;id=684840;file://C:\\Users\\Tasnim\\AppData\\Local\\Temp\\ipykernel_16732\\1564753407.py\u001b\\\u001b[2m1564753407.py\u001b[0m\u001b]8;;\u001b\\\u001b[2m:\u001b[0m\u001b]8;id=486465;file://C:\\Users\\Tasnim\\AppData\\Local\\Temp\\ipykernel_16732\\1564753407.py#9\u001b\\\u001b[2m9\u001b[0m\u001b]8;;\u001b\\\n"
      ]
     },
     "metadata": {},
     "output_type": "display_data"
    },
    {
     "name": "stderr",
     "output_type": "stream",
     "text": [
      "Generating:   4%|▍         | 15/400 [09:46<3:39:29, 34.21s/it]"
     ]
    },
    {
     "data": {
      "text/html": [
       "<pre style=\"white-space:pre;overflow-x:auto;line-height:normal;font-family:Menlo,'DejaVu Sans Mono',consolas,'Courier New',monospace\"><span style=\"color: #7fbfbf; text-decoration-color: #7fbfbf\">[05/22/25 19:37:47] </span><span style=\"color: #000080; text-decoration-color: #000080\">INFO    </span> ✓ <span style=\"color: #008080; text-decoration-color: #008080; font-weight: bold\">112.</span>txt → Basic\\Gemini\\<span style=\"color: #008080; text-decoration-color: #008080; font-weight: bold\">112.</span>cc                                        <a href=\"file://C:\\Users\\Tasnim\\AppData\\Local\\Temp\\ipykernel_16732\\1564753407.py\" target=\"_blank\"><span style=\"color: #7f7f7f; text-decoration-color: #7f7f7f\">1564753407.py</span></a><span style=\"color: #7f7f7f; text-decoration-color: #7f7f7f\">:</span><a href=\"file://C:\\Users\\Tasnim\\AppData\\Local\\Temp\\ipykernel_16732\\1564753407.py#9\" target=\"_blank\"><span style=\"color: #7f7f7f; text-decoration-color: #7f7f7f\">9</span></a>\n",
       "</pre>\n"
      ],
      "text/plain": [
       "\u001b[2;36m[05/22/25 19:37:47]\u001b[0m\u001b[2;36m \u001b[0m\u001b[34mINFO    \u001b[0m ✓ \u001b[1;36m112.\u001b[0mtxt → Basic\\Gemini\\\u001b[1;36m112.\u001b[0mcc                                        \u001b]8;id=179908;file://C:\\Users\\Tasnim\\AppData\\Local\\Temp\\ipykernel_16732\\1564753407.py\u001b\\\u001b[2m1564753407.py\u001b[0m\u001b]8;;\u001b\\\u001b[2m:\u001b[0m\u001b]8;id=978094;file://C:\\Users\\Tasnim\\AppData\\Local\\Temp\\ipykernel_16732\\1564753407.py#9\u001b\\\u001b[2m9\u001b[0m\u001b]8;;\u001b\\\n"
      ]
     },
     "metadata": {},
     "output_type": "display_data"
    },
    {
     "name": "stderr",
     "output_type": "stream",
     "text": [
      "Generating:   4%|▍         | 16/400 [10:28<3:52:59, 36.40s/it]"
     ]
    },
    {
     "data": {
      "text/html": [
       "<pre style=\"white-space:pre;overflow-x:auto;line-height:normal;font-family:Menlo,'DejaVu Sans Mono',consolas,'Courier New',monospace\"><span style=\"color: #7fbfbf; text-decoration-color: #7fbfbf\">[05/22/25 19:38:07] </span><span style=\"color: #000080; text-decoration-color: #000080\">INFO    </span> ✓ <span style=\"color: #008080; text-decoration-color: #008080; font-weight: bold\">113.</span>txt → Basic\\Gemini\\<span style=\"color: #008080; text-decoration-color: #008080; font-weight: bold\">113.</span>cc                                        <a href=\"file://C:\\Users\\Tasnim\\AppData\\Local\\Temp\\ipykernel_16732\\1564753407.py\" target=\"_blank\"><span style=\"color: #7f7f7f; text-decoration-color: #7f7f7f\">1564753407.py</span></a><span style=\"color: #7f7f7f; text-decoration-color: #7f7f7f\">:</span><a href=\"file://C:\\Users\\Tasnim\\AppData\\Local\\Temp\\ipykernel_16732\\1564753407.py#9\" target=\"_blank\"><span style=\"color: #7f7f7f; text-decoration-color: #7f7f7f\">9</span></a>\n",
       "</pre>\n"
      ],
      "text/plain": [
       "\u001b[2;36m[05/22/25 19:38:07]\u001b[0m\u001b[2;36m \u001b[0m\u001b[34mINFO    \u001b[0m ✓ \u001b[1;36m113.\u001b[0mtxt → Basic\\Gemini\\\u001b[1;36m113.\u001b[0mcc                                        \u001b]8;id=918635;file://C:\\Users\\Tasnim\\AppData\\Local\\Temp\\ipykernel_16732\\1564753407.py\u001b\\\u001b[2m1564753407.py\u001b[0m\u001b]8;;\u001b\\\u001b[2m:\u001b[0m\u001b]8;id=270460;file://C:\\Users\\Tasnim\\AppData\\Local\\Temp\\ipykernel_16732\\1564753407.py#9\u001b\\\u001b[2m9\u001b[0m\u001b]8;;\u001b\\\n"
      ]
     },
     "metadata": {},
     "output_type": "display_data"
    },
    {
     "name": "stderr",
     "output_type": "stream",
     "text": [
      "Generating:   4%|▍         | 17/400 [10:48<3:21:07, 31.51s/it]"
     ]
    },
    {
     "data": {
      "text/html": [
       "<pre style=\"white-space:pre;overflow-x:auto;line-height:normal;font-family:Menlo,'DejaVu Sans Mono',consolas,'Courier New',monospace\"><span style=\"color: #7fbfbf; text-decoration-color: #7fbfbf\">[05/22/25 19:38:40] </span><span style=\"color: #000080; text-decoration-color: #000080\">INFO    </span> ✓ <span style=\"color: #008080; text-decoration-color: #008080; font-weight: bold\">114.</span>txt → Basic\\Gemini\\<span style=\"color: #008080; text-decoration-color: #008080; font-weight: bold\">114.</span>cc                                        <a href=\"file://C:\\Users\\Tasnim\\AppData\\Local\\Temp\\ipykernel_16732\\1564753407.py\" target=\"_blank\"><span style=\"color: #7f7f7f; text-decoration-color: #7f7f7f\">1564753407.py</span></a><span style=\"color: #7f7f7f; text-decoration-color: #7f7f7f\">:</span><a href=\"file://C:\\Users\\Tasnim\\AppData\\Local\\Temp\\ipykernel_16732\\1564753407.py#9\" target=\"_blank\"><span style=\"color: #7f7f7f; text-decoration-color: #7f7f7f\">9</span></a>\n",
       "</pre>\n"
      ],
      "text/plain": [
       "\u001b[2;36m[05/22/25 19:38:40]\u001b[0m\u001b[2;36m \u001b[0m\u001b[34mINFO    \u001b[0m ✓ \u001b[1;36m114.\u001b[0mtxt → Basic\\Gemini\\\u001b[1;36m114.\u001b[0mcc                                        \u001b]8;id=419789;file://C:\\Users\\Tasnim\\AppData\\Local\\Temp\\ipykernel_16732\\1564753407.py\u001b\\\u001b[2m1564753407.py\u001b[0m\u001b]8;;\u001b\\\u001b[2m:\u001b[0m\u001b]8;id=16847;file://C:\\Users\\Tasnim\\AppData\\Local\\Temp\\ipykernel_16732\\1564753407.py#9\u001b\\\u001b[2m9\u001b[0m\u001b]8;;\u001b\\\n"
      ]
     },
     "metadata": {},
     "output_type": "display_data"
    },
    {
     "name": "stderr",
     "output_type": "stream",
     "text": [
      "Generating:   4%|▍         | 18/400 [11:21<3:23:59, 32.04s/it]"
     ]
    },
    {
     "data": {
      "text/html": [
       "<pre style=\"white-space:pre;overflow-x:auto;line-height:normal;font-family:Menlo,'DejaVu Sans Mono',consolas,'Courier New',monospace\"><span style=\"color: #7fbfbf; text-decoration-color: #7fbfbf\">[05/22/25 19:39:20] </span><span style=\"color: #000080; text-decoration-color: #000080\">INFO    </span> ✓ <span style=\"color: #008080; text-decoration-color: #008080; font-weight: bold\">115.</span>txt → Basic\\Gemini\\<span style=\"color: #008080; text-decoration-color: #008080; font-weight: bold\">115.</span>cc                                        <a href=\"file://C:\\Users\\Tasnim\\AppData\\Local\\Temp\\ipykernel_16732\\1564753407.py\" target=\"_blank\"><span style=\"color: #7f7f7f; text-decoration-color: #7f7f7f\">1564753407.py</span></a><span style=\"color: #7f7f7f; text-decoration-color: #7f7f7f\">:</span><a href=\"file://C:\\Users\\Tasnim\\AppData\\Local\\Temp\\ipykernel_16732\\1564753407.py#9\" target=\"_blank\"><span style=\"color: #7f7f7f; text-decoration-color: #7f7f7f\">9</span></a>\n",
       "</pre>\n"
      ],
      "text/plain": [
       "\u001b[2;36m[05/22/25 19:39:20]\u001b[0m\u001b[2;36m \u001b[0m\u001b[34mINFO    \u001b[0m ✓ \u001b[1;36m115.\u001b[0mtxt → Basic\\Gemini\\\u001b[1;36m115.\u001b[0mcc                                        \u001b]8;id=928902;file://C:\\Users\\Tasnim\\AppData\\Local\\Temp\\ipykernel_16732\\1564753407.py\u001b\\\u001b[2m1564753407.py\u001b[0m\u001b]8;;\u001b\\\u001b[2m:\u001b[0m\u001b]8;id=175048;file://C:\\Users\\Tasnim\\AppData\\Local\\Temp\\ipykernel_16732\\1564753407.py#9\u001b\\\u001b[2m9\u001b[0m\u001b]8;;\u001b\\\n"
      ]
     },
     "metadata": {},
     "output_type": "display_data"
    },
    {
     "name": "stderr",
     "output_type": "stream",
     "text": [
      "Generating:   5%|▍         | 19/400 [12:01<3:38:32, 34.42s/it]"
     ]
    },
    {
     "data": {
      "text/html": [
       "<pre style=\"white-space:pre;overflow-x:auto;line-height:normal;font-family:Menlo,'DejaVu Sans Mono',consolas,'Courier New',monospace\"><span style=\"color: #7fbfbf; text-decoration-color: #7fbfbf\">[05/22/25 19:39:51] </span><span style=\"color: #000080; text-decoration-color: #000080\">INFO    </span> ✓ <span style=\"color: #008080; text-decoration-color: #008080; font-weight: bold\">116.</span>txt → Basic\\Gemini\\<span style=\"color: #008080; text-decoration-color: #008080; font-weight: bold\">116.</span>cc                                        <a href=\"file://C:\\Users\\Tasnim\\AppData\\Local\\Temp\\ipykernel_16732\\1564753407.py\" target=\"_blank\"><span style=\"color: #7f7f7f; text-decoration-color: #7f7f7f\">1564753407.py</span></a><span style=\"color: #7f7f7f; text-decoration-color: #7f7f7f\">:</span><a href=\"file://C:\\Users\\Tasnim\\AppData\\Local\\Temp\\ipykernel_16732\\1564753407.py#9\" target=\"_blank\"><span style=\"color: #7f7f7f; text-decoration-color: #7f7f7f\">9</span></a>\n",
       "</pre>\n"
      ],
      "text/plain": [
       "\u001b[2;36m[05/22/25 19:39:51]\u001b[0m\u001b[2;36m \u001b[0m\u001b[34mINFO    \u001b[0m ✓ \u001b[1;36m116.\u001b[0mtxt → Basic\\Gemini\\\u001b[1;36m116.\u001b[0mcc                                        \u001b]8;id=372127;file://C:\\Users\\Tasnim\\AppData\\Local\\Temp\\ipykernel_16732\\1564753407.py\u001b\\\u001b[2m1564753407.py\u001b[0m\u001b]8;;\u001b\\\u001b[2m:\u001b[0m\u001b]8;id=401178;file://C:\\Users\\Tasnim\\AppData\\Local\\Temp\\ipykernel_16732\\1564753407.py#9\u001b\\\u001b[2m9\u001b[0m\u001b]8;;\u001b\\\n"
      ]
     },
     "metadata": {},
     "output_type": "display_data"
    },
    {
     "name": "stderr",
     "output_type": "stream",
     "text": [
      "Generating:   5%|▌         | 20/400 [12:32<3:31:46, 33.44s/it]"
     ]
    },
    {
     "data": {
      "text/html": [
       "<pre style=\"white-space:pre;overflow-x:auto;line-height:normal;font-family:Menlo,'DejaVu Sans Mono',consolas,'Courier New',monospace\"><span style=\"color: #7fbfbf; text-decoration-color: #7fbfbf\">[05/22/25 19:40:23] </span><span style=\"color: #000080; text-decoration-color: #000080\">INFO    </span> ✓ <span style=\"color: #008080; text-decoration-color: #008080; font-weight: bold\">117.</span>txt → Basic\\Gemini\\<span style=\"color: #008080; text-decoration-color: #008080; font-weight: bold\">117.</span>cc                                        <a href=\"file://C:\\Users\\Tasnim\\AppData\\Local\\Temp\\ipykernel_16732\\1564753407.py\" target=\"_blank\"><span style=\"color: #7f7f7f; text-decoration-color: #7f7f7f\">1564753407.py</span></a><span style=\"color: #7f7f7f; text-decoration-color: #7f7f7f\">:</span><a href=\"file://C:\\Users\\Tasnim\\AppData\\Local\\Temp\\ipykernel_16732\\1564753407.py#9\" target=\"_blank\"><span style=\"color: #7f7f7f; text-decoration-color: #7f7f7f\">9</span></a>\n",
       "</pre>\n"
      ],
      "text/plain": [
       "\u001b[2;36m[05/22/25 19:40:23]\u001b[0m\u001b[2;36m \u001b[0m\u001b[34mINFO    \u001b[0m ✓ \u001b[1;36m117.\u001b[0mtxt → Basic\\Gemini\\\u001b[1;36m117.\u001b[0mcc                                        \u001b]8;id=221111;file://C:\\Users\\Tasnim\\AppData\\Local\\Temp\\ipykernel_16732\\1564753407.py\u001b\\\u001b[2m1564753407.py\u001b[0m\u001b]8;;\u001b\\\u001b[2m:\u001b[0m\u001b]8;id=979390;file://C:\\Users\\Tasnim\\AppData\\Local\\Temp\\ipykernel_16732\\1564753407.py#9\u001b\\\u001b[2m9\u001b[0m\u001b]8;;\u001b\\\n"
      ]
     },
     "metadata": {},
     "output_type": "display_data"
    },
    {
     "name": "stderr",
     "output_type": "stream",
     "text": [
      "Generating:   5%|▌         | 21/400 [13:04<3:28:19, 32.98s/it]"
     ]
    },
    {
     "data": {
      "text/html": [
       "<pre style=\"white-space:pre;overflow-x:auto;line-height:normal;font-family:Menlo,'DejaVu Sans Mono',consolas,'Courier New',monospace\"><span style=\"color: #7fbfbf; text-decoration-color: #7fbfbf\">[05/22/25 19:41:23] </span><span style=\"color: #000080; text-decoration-color: #000080\">INFO    </span> ✓ <span style=\"color: #008080; text-decoration-color: #008080; font-weight: bold\">118.</span>txt → Basic\\Gemini\\<span style=\"color: #008080; text-decoration-color: #008080; font-weight: bold\">118.</span>cc                                        <a href=\"file://C:\\Users\\Tasnim\\AppData\\Local\\Temp\\ipykernel_16732\\1564753407.py\" target=\"_blank\"><span style=\"color: #7f7f7f; text-decoration-color: #7f7f7f\">1564753407.py</span></a><span style=\"color: #7f7f7f; text-decoration-color: #7f7f7f\">:</span><a href=\"file://C:\\Users\\Tasnim\\AppData\\Local\\Temp\\ipykernel_16732\\1564753407.py#9\" target=\"_blank\"><span style=\"color: #7f7f7f; text-decoration-color: #7f7f7f\">9</span></a>\n",
       "</pre>\n"
      ],
      "text/plain": [
       "\u001b[2;36m[05/22/25 19:41:23]\u001b[0m\u001b[2;36m \u001b[0m\u001b[34mINFO    \u001b[0m ✓ \u001b[1;36m118.\u001b[0mtxt → Basic\\Gemini\\\u001b[1;36m118.\u001b[0mcc                                        \u001b]8;id=970680;file://C:\\Users\\Tasnim\\AppData\\Local\\Temp\\ipykernel_16732\\1564753407.py\u001b\\\u001b[2m1564753407.py\u001b[0m\u001b]8;;\u001b\\\u001b[2m:\u001b[0m\u001b]8;id=304652;file://C:\\Users\\Tasnim\\AppData\\Local\\Temp\\ipykernel_16732\\1564753407.py#9\u001b\\\u001b[2m9\u001b[0m\u001b]8;;\u001b\\\n"
      ]
     },
     "metadata": {},
     "output_type": "display_data"
    },
    {
     "name": "stderr",
     "output_type": "stream",
     "text": [
      "Generating:   6%|▌         | 22/400 [14:04<4:18:10, 40.98s/it]"
     ]
    },
    {
     "data": {
      "text/html": [
       "<pre style=\"white-space:pre;overflow-x:auto;line-height:normal;font-family:Menlo,'DejaVu Sans Mono',consolas,'Courier New',monospace\"><span style=\"color: #7fbfbf; text-decoration-color: #7fbfbf\">[05/22/25 19:42:05] </span><span style=\"color: #000080; text-decoration-color: #000080\">INFO    </span> ✓ <span style=\"color: #008080; text-decoration-color: #008080; font-weight: bold\">119.</span>txt → Basic\\Gemini\\<span style=\"color: #008080; text-decoration-color: #008080; font-weight: bold\">119.</span>cc                                        <a href=\"file://C:\\Users\\Tasnim\\AppData\\Local\\Temp\\ipykernel_16732\\1564753407.py\" target=\"_blank\"><span style=\"color: #7f7f7f; text-decoration-color: #7f7f7f\">1564753407.py</span></a><span style=\"color: #7f7f7f; text-decoration-color: #7f7f7f\">:</span><a href=\"file://C:\\Users\\Tasnim\\AppData\\Local\\Temp\\ipykernel_16732\\1564753407.py#9\" target=\"_blank\"><span style=\"color: #7f7f7f; text-decoration-color: #7f7f7f\">9</span></a>\n",
       "</pre>\n"
      ],
      "text/plain": [
       "\u001b[2;36m[05/22/25 19:42:05]\u001b[0m\u001b[2;36m \u001b[0m\u001b[34mINFO    \u001b[0m ✓ \u001b[1;36m119.\u001b[0mtxt → Basic\\Gemini\\\u001b[1;36m119.\u001b[0mcc                                        \u001b]8;id=865431;file://C:\\Users\\Tasnim\\AppData\\Local\\Temp\\ipykernel_16732\\1564753407.py\u001b\\\u001b[2m1564753407.py\u001b[0m\u001b]8;;\u001b\\\u001b[2m:\u001b[0m\u001b]8;id=785501;file://C:\\Users\\Tasnim\\AppData\\Local\\Temp\\ipykernel_16732\\1564753407.py#9\u001b\\\u001b[2m9\u001b[0m\u001b]8;;\u001b\\\n"
      ]
     },
     "metadata": {},
     "output_type": "display_data"
    },
    {
     "name": "stderr",
     "output_type": "stream",
     "text": [
      "Generating:   6%|▌         | 23/400 [14:46<4:20:36, 41.48s/it]"
     ]
    },
    {
     "data": {
      "text/html": [
       "<pre style=\"white-space:pre;overflow-x:auto;line-height:normal;font-family:Menlo,'DejaVu Sans Mono',consolas,'Courier New',monospace\"><span style=\"color: #7fbfbf; text-decoration-color: #7fbfbf\">[05/22/25 19:42:32] </span><span style=\"color: #000080; text-decoration-color: #000080\">INFO    </span> ✓ <span style=\"color: #008080; text-decoration-color: #008080; font-weight: bold\">12.</span>txt → Basic\\Gemini\\<span style=\"color: #008080; text-decoration-color: #008080; font-weight: bold\">12.</span>cc                                          <a href=\"file://C:\\Users\\Tasnim\\AppData\\Local\\Temp\\ipykernel_16732\\1564753407.py\" target=\"_blank\"><span style=\"color: #7f7f7f; text-decoration-color: #7f7f7f\">1564753407.py</span></a><span style=\"color: #7f7f7f; text-decoration-color: #7f7f7f\">:</span><a href=\"file://C:\\Users\\Tasnim\\AppData\\Local\\Temp\\ipykernel_16732\\1564753407.py#9\" target=\"_blank\"><span style=\"color: #7f7f7f; text-decoration-color: #7f7f7f\">9</span></a>\n",
       "</pre>\n"
      ],
      "text/plain": [
       "\u001b[2;36m[05/22/25 19:42:32]\u001b[0m\u001b[2;36m \u001b[0m\u001b[34mINFO    \u001b[0m ✓ \u001b[1;36m12.\u001b[0mtxt → Basic\\Gemini\\\u001b[1;36m12.\u001b[0mcc                                          \u001b]8;id=586457;file://C:\\Users\\Tasnim\\AppData\\Local\\Temp\\ipykernel_16732\\1564753407.py\u001b\\\u001b[2m1564753407.py\u001b[0m\u001b]8;;\u001b\\\u001b[2m:\u001b[0m\u001b]8;id=663694;file://C:\\Users\\Tasnim\\AppData\\Local\\Temp\\ipykernel_16732\\1564753407.py#9\u001b\\\u001b[2m9\u001b[0m\u001b]8;;\u001b\\\n"
      ]
     },
     "metadata": {},
     "output_type": "display_data"
    },
    {
     "name": "stderr",
     "output_type": "stream",
     "text": [
      "Generating:   6%|▌         | 24/400 [15:12<3:50:58, 36.86s/it]"
     ]
    },
    {
     "data": {
      "text/html": [
       "<pre style=\"white-space:pre;overflow-x:auto;line-height:normal;font-family:Menlo,'DejaVu Sans Mono',consolas,'Courier New',monospace\"><span style=\"color: #7fbfbf; text-decoration-color: #7fbfbf\">[05/22/25 19:43:17] </span><span style=\"color: #000080; text-decoration-color: #000080\">INFO    </span> ✓ <span style=\"color: #008080; text-decoration-color: #008080; font-weight: bold\">120.</span>txt → Basic\\Gemini\\<span style=\"color: #008080; text-decoration-color: #008080; font-weight: bold\">120.</span>cc                                        <a href=\"file://C:\\Users\\Tasnim\\AppData\\Local\\Temp\\ipykernel_16732\\1564753407.py\" target=\"_blank\"><span style=\"color: #7f7f7f; text-decoration-color: #7f7f7f\">1564753407.py</span></a><span style=\"color: #7f7f7f; text-decoration-color: #7f7f7f\">:</span><a href=\"file://C:\\Users\\Tasnim\\AppData\\Local\\Temp\\ipykernel_16732\\1564753407.py#9\" target=\"_blank\"><span style=\"color: #7f7f7f; text-decoration-color: #7f7f7f\">9</span></a>\n",
       "</pre>\n"
      ],
      "text/plain": [
       "\u001b[2;36m[05/22/25 19:43:17]\u001b[0m\u001b[2;36m \u001b[0m\u001b[34mINFO    \u001b[0m ✓ \u001b[1;36m120.\u001b[0mtxt → Basic\\Gemini\\\u001b[1;36m120.\u001b[0mcc                                        \u001b]8;id=712731;file://C:\\Users\\Tasnim\\AppData\\Local\\Temp\\ipykernel_16732\\1564753407.py\u001b\\\u001b[2m1564753407.py\u001b[0m\u001b]8;;\u001b\\\u001b[2m:\u001b[0m\u001b]8;id=489272;file://C:\\Users\\Tasnim\\AppData\\Local\\Temp\\ipykernel_16732\\1564753407.py#9\u001b\\\u001b[2m9\u001b[0m\u001b]8;;\u001b\\\n"
      ]
     },
     "metadata": {},
     "output_type": "display_data"
    },
    {
     "name": "stderr",
     "output_type": "stream",
     "text": [
      "Generating:   6%|▋         | 25/400 [15:58<4:06:58, 39.52s/it]"
     ]
    },
    {
     "data": {
      "text/html": [
       "<pre style=\"white-space:pre;overflow-x:auto;line-height:normal;font-family:Menlo,'DejaVu Sans Mono',consolas,'Courier New',monospace\"><span style=\"color: #7fbfbf; text-decoration-color: #7fbfbf\">[05/22/25 19:43:43] </span><span style=\"color: #800000; text-decoration-color: #800000; font-weight: bold\">ERROR   </span> ✗ <span style=\"color: #008080; text-decoration-color: #008080; font-weight: bold\">121.</span>txt – Invalid operation: The `response.text` quick accessor     <a href=\"file://C:\\Users\\Tasnim\\AppData\\Local\\Temp\\ipykernel_16732\\1564753407.py\" target=\"_blank\"><span style=\"color: #7f7f7f; text-decoration-color: #7f7f7f\">1564753407.py</span></a><span style=\"color: #7f7f7f; text-decoration-color: #7f7f7f\">:</span><a href=\"file://C:\\Users\\Tasnim\\AppData\\Local\\Temp\\ipykernel_16732\\1564753407.py#11\" target=\"_blank\"><span style=\"color: #7f7f7f; text-decoration-color: #7f7f7f\">11</span></a>\n",
       "<span style=\"color: #7fbfbf; text-decoration-color: #7fbfbf\">                    </span>         requires the response to contain a valid `Part`, but none were        <span style=\"color: #7f7f7f; text-decoration-color: #7f7f7f\">                </span>\n",
       "<span style=\"color: #7fbfbf; text-decoration-color: #7fbfbf\">                    </span>         returned. The candidate's                                             <span style=\"color: #7f7f7f; text-decoration-color: #7f7f7f\">                </span>\n",
       "<span style=\"color: #7fbfbf; text-decoration-color: #7fbfbf\">                    </span>         <span style=\"font-weight: bold\">[</span>finish_reason<span style=\"font-weight: bold\">](</span><span style=\"color: #0000ff; text-decoration-color: #0000ff; text-decoration: underline\">https://ai.google.dev/api/generate-content#finishreas</span> <span style=\"color: #7f7f7f; text-decoration-color: #7f7f7f\">                </span>\n",
       "<span style=\"color: #7fbfbf; text-decoration-color: #7fbfbf\">                    </span>         <span style=\"color: #0000ff; text-decoration-color: #0000ff; text-decoration: underline\">on)</span> is <span style=\"color: #008080; text-decoration-color: #008080; font-weight: bold\">1</span>.                                                             <span style=\"color: #7f7f7f; text-decoration-color: #7f7f7f\">                </span>\n",
       "</pre>\n"
      ],
      "text/plain": [
       "\u001b[2;36m[05/22/25 19:43:43]\u001b[0m\u001b[2;36m \u001b[0m\u001b[1;31mERROR   \u001b[0m ✗ \u001b[1;36m121.\u001b[0mtxt – Invalid operation: The `response.text` quick accessor     \u001b]8;id=479399;file://C:\\Users\\Tasnim\\AppData\\Local\\Temp\\ipykernel_16732\\1564753407.py\u001b\\\u001b[2m1564753407.py\u001b[0m\u001b]8;;\u001b\\\u001b[2m:\u001b[0m\u001b]8;id=241085;file://C:\\Users\\Tasnim\\AppData\\Local\\Temp\\ipykernel_16732\\1564753407.py#11\u001b\\\u001b[2m11\u001b[0m\u001b]8;;\u001b\\\n",
       "\u001b[2;36m                    \u001b[0m         requires the response to contain a valid `Part`, but none were        \u001b[2m                \u001b[0m\n",
       "\u001b[2;36m                    \u001b[0m         returned. The candidate's                                             \u001b[2m                \u001b[0m\n",
       "\u001b[2;36m                    \u001b[0m         \u001b[1m[\u001b[0mfinish_reason\u001b[1m]\u001b[0m\u001b[1m(\u001b[0m\u001b[4;94mhttps://ai.google.dev/api/generate-content#finishreas\u001b[0m \u001b[2m                \u001b[0m\n",
       "\u001b[2;36m                    \u001b[0m         \u001b[4;94mon\u001b[0m\u001b[4;94m)\u001b[0m is \u001b[1;36m1\u001b[0m.                                                             \u001b[2m                \u001b[0m\n"
      ]
     },
     "metadata": {},
     "output_type": "display_data"
    },
    {
     "name": "stderr",
     "output_type": "stream",
     "text": [
      "Generating:   6%|▋         | 26/400 [16:24<3:41:20, 35.51s/it]"
     ]
    },
    {
     "data": {
      "text/html": [
       "<pre style=\"white-space:pre;overflow-x:auto;line-height:normal;font-family:Menlo,'DejaVu Sans Mono',consolas,'Courier New',monospace\"><span style=\"color: #7fbfbf; text-decoration-color: #7fbfbf\">[05/22/25 19:43:59] </span><span style=\"color: #000080; text-decoration-color: #000080\">INFO    </span> ✓ <span style=\"color: #008080; text-decoration-color: #008080; font-weight: bold\">122.</span>txt → Basic\\Gemini\\<span style=\"color: #008080; text-decoration-color: #008080; font-weight: bold\">122.</span>cc                                        <a href=\"file://C:\\Users\\Tasnim\\AppData\\Local\\Temp\\ipykernel_16732\\1564753407.py\" target=\"_blank\"><span style=\"color: #7f7f7f; text-decoration-color: #7f7f7f\">1564753407.py</span></a><span style=\"color: #7f7f7f; text-decoration-color: #7f7f7f\">:</span><a href=\"file://C:\\Users\\Tasnim\\AppData\\Local\\Temp\\ipykernel_16732\\1564753407.py#9\" target=\"_blank\"><span style=\"color: #7f7f7f; text-decoration-color: #7f7f7f\">9</span></a>\n",
       "</pre>\n"
      ],
      "text/plain": [
       "\u001b[2;36m[05/22/25 19:43:59]\u001b[0m\u001b[2;36m \u001b[0m\u001b[34mINFO    \u001b[0m ✓ \u001b[1;36m122.\u001b[0mtxt → Basic\\Gemini\\\u001b[1;36m122.\u001b[0mcc                                        \u001b]8;id=43377;file://C:\\Users\\Tasnim\\AppData\\Local\\Temp\\ipykernel_16732\\1564753407.py\u001b\\\u001b[2m1564753407.py\u001b[0m\u001b]8;;\u001b\\\u001b[2m:\u001b[0m\u001b]8;id=236162;file://C:\\Users\\Tasnim\\AppData\\Local\\Temp\\ipykernel_16732\\1564753407.py#9\u001b\\\u001b[2m9\u001b[0m\u001b]8;;\u001b\\\n"
      ]
     },
     "metadata": {},
     "output_type": "display_data"
    },
    {
     "name": "stderr",
     "output_type": "stream",
     "text": [
      "Generating:   7%|▋         | 27/400 [16:40<3:04:14, 29.64s/it]"
     ]
    },
    {
     "data": {
      "text/html": [
       "<pre style=\"white-space:pre;overflow-x:auto;line-height:normal;font-family:Menlo,'DejaVu Sans Mono',consolas,'Courier New',monospace\"><span style=\"color: #7fbfbf; text-decoration-color: #7fbfbf\">[05/22/25 19:44:24] </span><span style=\"color: #000080; text-decoration-color: #000080\">INFO    </span> ✓ <span style=\"color: #008080; text-decoration-color: #008080; font-weight: bold\">123.</span>txt → Basic\\Gemini\\<span style=\"color: #008080; text-decoration-color: #008080; font-weight: bold\">123.</span>cc                                        <a href=\"file://C:\\Users\\Tasnim\\AppData\\Local\\Temp\\ipykernel_16732\\1564753407.py\" target=\"_blank\"><span style=\"color: #7f7f7f; text-decoration-color: #7f7f7f\">1564753407.py</span></a><span style=\"color: #7f7f7f; text-decoration-color: #7f7f7f\">:</span><a href=\"file://C:\\Users\\Tasnim\\AppData\\Local\\Temp\\ipykernel_16732\\1564753407.py#9\" target=\"_blank\"><span style=\"color: #7f7f7f; text-decoration-color: #7f7f7f\">9</span></a>\n",
       "</pre>\n"
      ],
      "text/plain": [
       "\u001b[2;36m[05/22/25 19:44:24]\u001b[0m\u001b[2;36m \u001b[0m\u001b[34mINFO    \u001b[0m ✓ \u001b[1;36m123.\u001b[0mtxt → Basic\\Gemini\\\u001b[1;36m123.\u001b[0mcc                                        \u001b]8;id=559793;file://C:\\Users\\Tasnim\\AppData\\Local\\Temp\\ipykernel_16732\\1564753407.py\u001b\\\u001b[2m1564753407.py\u001b[0m\u001b]8;;\u001b\\\u001b[2m:\u001b[0m\u001b]8;id=660797;file://C:\\Users\\Tasnim\\AppData\\Local\\Temp\\ipykernel_16732\\1564753407.py#9\u001b\\\u001b[2m9\u001b[0m\u001b]8;;\u001b\\\n"
      ]
     },
     "metadata": {},
     "output_type": "display_data"
    },
    {
     "name": "stderr",
     "output_type": "stream",
     "text": [
      "Generating:   7%|▋         | 28/400 [17:05<2:54:52, 28.21s/it]"
     ]
    },
    {
     "data": {
      "text/html": [
       "<pre style=\"white-space:pre;overflow-x:auto;line-height:normal;font-family:Menlo,'DejaVu Sans Mono',consolas,'Courier New',monospace\"><span style=\"color: #7fbfbf; text-decoration-color: #7fbfbf\">[05/22/25 19:45:23] </span><span style=\"color: #000080; text-decoration-color: #000080\">INFO    </span> ✓ <span style=\"color: #008080; text-decoration-color: #008080; font-weight: bold\">124.</span>txt → Basic\\Gemini\\<span style=\"color: #008080; text-decoration-color: #008080; font-weight: bold\">124.</span>cc                                        <a href=\"file://C:\\Users\\Tasnim\\AppData\\Local\\Temp\\ipykernel_16732\\1564753407.py\" target=\"_blank\"><span style=\"color: #7f7f7f; text-decoration-color: #7f7f7f\">1564753407.py</span></a><span style=\"color: #7f7f7f; text-decoration-color: #7f7f7f\">:</span><a href=\"file://C:\\Users\\Tasnim\\AppData\\Local\\Temp\\ipykernel_16732\\1564753407.py#9\" target=\"_blank\"><span style=\"color: #7f7f7f; text-decoration-color: #7f7f7f\">9</span></a>\n",
       "</pre>\n"
      ],
      "text/plain": [
       "\u001b[2;36m[05/22/25 19:45:23]\u001b[0m\u001b[2;36m \u001b[0m\u001b[34mINFO    \u001b[0m ✓ \u001b[1;36m124.\u001b[0mtxt → Basic\\Gemini\\\u001b[1;36m124.\u001b[0mcc                                        \u001b]8;id=590133;file://C:\\Users\\Tasnim\\AppData\\Local\\Temp\\ipykernel_16732\\1564753407.py\u001b\\\u001b[2m1564753407.py\u001b[0m\u001b]8;;\u001b\\\u001b[2m:\u001b[0m\u001b]8;id=847267;file://C:\\Users\\Tasnim\\AppData\\Local\\Temp\\ipykernel_16732\\1564753407.py#9\u001b\\\u001b[2m9\u001b[0m\u001b]8;;\u001b\\\n"
      ]
     },
     "metadata": {},
     "output_type": "display_data"
    },
    {
     "name": "stderr",
     "output_type": "stream",
     "text": [
      "Generating:   7%|▋         | 29/400 [18:04<3:51:45, 37.48s/it]"
     ]
    },
    {
     "data": {
      "text/html": [
       "<pre style=\"white-space:pre;overflow-x:auto;line-height:normal;font-family:Menlo,'DejaVu Sans Mono',consolas,'Courier New',monospace\"><span style=\"color: #7fbfbf; text-decoration-color: #7fbfbf\">[05/22/25 19:45:50] </span><span style=\"color: #000080; text-decoration-color: #000080\">INFO    </span> ✓ <span style=\"color: #008080; text-decoration-color: #008080; font-weight: bold\">125.</span>txt → Basic\\Gemini\\<span style=\"color: #008080; text-decoration-color: #008080; font-weight: bold\">125.</span>cc                                        <a href=\"file://C:\\Users\\Tasnim\\AppData\\Local\\Temp\\ipykernel_16732\\1564753407.py\" target=\"_blank\"><span style=\"color: #7f7f7f; text-decoration-color: #7f7f7f\">1564753407.py</span></a><span style=\"color: #7f7f7f; text-decoration-color: #7f7f7f\">:</span><a href=\"file://C:\\Users\\Tasnim\\AppData\\Local\\Temp\\ipykernel_16732\\1564753407.py#9\" target=\"_blank\"><span style=\"color: #7f7f7f; text-decoration-color: #7f7f7f\">9</span></a>\n",
       "</pre>\n"
      ],
      "text/plain": [
       "\u001b[2;36m[05/22/25 19:45:50]\u001b[0m\u001b[2;36m \u001b[0m\u001b[34mINFO    \u001b[0m ✓ \u001b[1;36m125.\u001b[0mtxt → Basic\\Gemini\\\u001b[1;36m125.\u001b[0mcc                                        \u001b]8;id=843585;file://C:\\Users\\Tasnim\\AppData\\Local\\Temp\\ipykernel_16732\\1564753407.py\u001b\\\u001b[2m1564753407.py\u001b[0m\u001b]8;;\u001b\\\u001b[2m:\u001b[0m\u001b]8;id=650077;file://C:\\Users\\Tasnim\\AppData\\Local\\Temp\\ipykernel_16732\\1564753407.py#9\u001b\\\u001b[2m9\u001b[0m\u001b]8;;\u001b\\\n"
      ]
     },
     "metadata": {},
     "output_type": "display_data"
    },
    {
     "name": "stderr",
     "output_type": "stream",
     "text": [
      "Generating:   8%|▊         | 30/400 [18:31<3:30:43, 34.17s/it]"
     ]
    },
    {
     "data": {
      "text/html": [
       "<pre style=\"white-space:pre;overflow-x:auto;line-height:normal;font-family:Menlo,'DejaVu Sans Mono',consolas,'Courier New',monospace\"><span style=\"color: #7fbfbf; text-decoration-color: #7fbfbf\">[05/22/25 19:46:28] </span><span style=\"color: #000080; text-decoration-color: #000080\">INFO    </span> ✓ <span style=\"color: #008080; text-decoration-color: #008080; font-weight: bold\">126.</span>txt → Basic\\Gemini\\<span style=\"color: #008080; text-decoration-color: #008080; font-weight: bold\">126.</span>cc                                        <a href=\"file://C:\\Users\\Tasnim\\AppData\\Local\\Temp\\ipykernel_16732\\1564753407.py\" target=\"_blank\"><span style=\"color: #7f7f7f; text-decoration-color: #7f7f7f\">1564753407.py</span></a><span style=\"color: #7f7f7f; text-decoration-color: #7f7f7f\">:</span><a href=\"file://C:\\Users\\Tasnim\\AppData\\Local\\Temp\\ipykernel_16732\\1564753407.py#9\" target=\"_blank\"><span style=\"color: #7f7f7f; text-decoration-color: #7f7f7f\">9</span></a>\n",
       "</pre>\n"
      ],
      "text/plain": [
       "\u001b[2;36m[05/22/25 19:46:28]\u001b[0m\u001b[2;36m \u001b[0m\u001b[34mINFO    \u001b[0m ✓ \u001b[1;36m126.\u001b[0mtxt → Basic\\Gemini\\\u001b[1;36m126.\u001b[0mcc                                        \u001b]8;id=525891;file://C:\\Users\\Tasnim\\AppData\\Local\\Temp\\ipykernel_16732\\1564753407.py\u001b\\\u001b[2m1564753407.py\u001b[0m\u001b]8;;\u001b\\\u001b[2m:\u001b[0m\u001b]8;id=631352;file://C:\\Users\\Tasnim\\AppData\\Local\\Temp\\ipykernel_16732\\1564753407.py#9\u001b\\\u001b[2m9\u001b[0m\u001b]8;;\u001b\\\n"
      ]
     },
     "metadata": {},
     "output_type": "display_data"
    },
    {
     "name": "stderr",
     "output_type": "stream",
     "text": [
      "Generating:   8%|▊         | 31/400 [19:09<3:38:19, 35.50s/it]"
     ]
    },
    {
     "data": {
      "text/html": [
       "<pre style=\"white-space:pre;overflow-x:auto;line-height:normal;font-family:Menlo,'DejaVu Sans Mono',consolas,'Courier New',monospace\"><span style=\"color: #7fbfbf; text-decoration-color: #7fbfbf\">[05/22/25 19:46:55] </span><span style=\"color: #000080; text-decoration-color: #000080\">INFO    </span> ✓ <span style=\"color: #008080; text-decoration-color: #008080; font-weight: bold\">127.</span>txt → Basic\\Gemini\\<span style=\"color: #008080; text-decoration-color: #008080; font-weight: bold\">127.</span>cc                                        <a href=\"file://C:\\Users\\Tasnim\\AppData\\Local\\Temp\\ipykernel_16732\\1564753407.py\" target=\"_blank\"><span style=\"color: #7f7f7f; text-decoration-color: #7f7f7f\">1564753407.py</span></a><span style=\"color: #7f7f7f; text-decoration-color: #7f7f7f\">:</span><a href=\"file://C:\\Users\\Tasnim\\AppData\\Local\\Temp\\ipykernel_16732\\1564753407.py#9\" target=\"_blank\"><span style=\"color: #7f7f7f; text-decoration-color: #7f7f7f\">9</span></a>\n",
       "</pre>\n"
      ],
      "text/plain": [
       "\u001b[2;36m[05/22/25 19:46:55]\u001b[0m\u001b[2;36m \u001b[0m\u001b[34mINFO    \u001b[0m ✓ \u001b[1;36m127.\u001b[0mtxt → Basic\\Gemini\\\u001b[1;36m127.\u001b[0mcc                                        \u001b]8;id=13193;file://C:\\Users\\Tasnim\\AppData\\Local\\Temp\\ipykernel_16732\\1564753407.py\u001b\\\u001b[2m1564753407.py\u001b[0m\u001b]8;;\u001b\\\u001b[2m:\u001b[0m\u001b]8;id=839958;file://C:\\Users\\Tasnim\\AppData\\Local\\Temp\\ipykernel_16732\\1564753407.py#9\u001b\\\u001b[2m9\u001b[0m\u001b]8;;\u001b\\\n"
      ]
     },
     "metadata": {},
     "output_type": "display_data"
    },
    {
     "name": "stderr",
     "output_type": "stream",
     "text": [
      "Generating:   8%|▊         | 32/400 [19:36<3:21:43, 32.89s/it]"
     ]
    },
    {
     "data": {
      "text/html": [
       "<pre style=\"white-space:pre;overflow-x:auto;line-height:normal;font-family:Menlo,'DejaVu Sans Mono',consolas,'Courier New',monospace\"><span style=\"color: #7fbfbf; text-decoration-color: #7fbfbf\">[05/22/25 19:47:25] </span><span style=\"color: #000080; text-decoration-color: #000080\">INFO    </span> ✓ <span style=\"color: #008080; text-decoration-color: #008080; font-weight: bold\">128.</span>txt → Basic\\Gemini\\<span style=\"color: #008080; text-decoration-color: #008080; font-weight: bold\">128.</span>cc                                        <a href=\"file://C:\\Users\\Tasnim\\AppData\\Local\\Temp\\ipykernel_16732\\1564753407.py\" target=\"_blank\"><span style=\"color: #7f7f7f; text-decoration-color: #7f7f7f\">1564753407.py</span></a><span style=\"color: #7f7f7f; text-decoration-color: #7f7f7f\">:</span><a href=\"file://C:\\Users\\Tasnim\\AppData\\Local\\Temp\\ipykernel_16732\\1564753407.py#9\" target=\"_blank\"><span style=\"color: #7f7f7f; text-decoration-color: #7f7f7f\">9</span></a>\n",
       "</pre>\n"
      ],
      "text/plain": [
       "\u001b[2;36m[05/22/25 19:47:25]\u001b[0m\u001b[2;36m \u001b[0m\u001b[34mINFO    \u001b[0m ✓ \u001b[1;36m128.\u001b[0mtxt → Basic\\Gemini\\\u001b[1;36m128.\u001b[0mcc                                        \u001b]8;id=566020;file://C:\\Users\\Tasnim\\AppData\\Local\\Temp\\ipykernel_16732\\1564753407.py\u001b\\\u001b[2m1564753407.py\u001b[0m\u001b]8;;\u001b\\\u001b[2m:\u001b[0m\u001b]8;id=830895;file://C:\\Users\\Tasnim\\AppData\\Local\\Temp\\ipykernel_16732\\1564753407.py#9\u001b\\\u001b[2m9\u001b[0m\u001b]8;;\u001b\\\n"
      ]
     },
     "metadata": {},
     "output_type": "display_data"
    },
    {
     "name": "stderr",
     "output_type": "stream",
     "text": [
      "Generating:   8%|▊         | 33/400 [20:06<3:15:54, 32.03s/it]"
     ]
    },
    {
     "data": {
      "text/html": [
       "<pre style=\"white-space:pre;overflow-x:auto;line-height:normal;font-family:Menlo,'DejaVu Sans Mono',consolas,'Courier New',monospace\"><span style=\"color: #7fbfbf; text-decoration-color: #7fbfbf\">[05/22/25 19:48:17] </span><span style=\"color: #000080; text-decoration-color: #000080\">INFO    </span> ✓ <span style=\"color: #008080; text-decoration-color: #008080; font-weight: bold\">129.</span>txt → Basic\\Gemini\\<span style=\"color: #008080; text-decoration-color: #008080; font-weight: bold\">129.</span>cc                                        <a href=\"file://C:\\Users\\Tasnim\\AppData\\Local\\Temp\\ipykernel_16732\\1564753407.py\" target=\"_blank\"><span style=\"color: #7f7f7f; text-decoration-color: #7f7f7f\">1564753407.py</span></a><span style=\"color: #7f7f7f; text-decoration-color: #7f7f7f\">:</span><a href=\"file://C:\\Users\\Tasnim\\AppData\\Local\\Temp\\ipykernel_16732\\1564753407.py#9\" target=\"_blank\"><span style=\"color: #7f7f7f; text-decoration-color: #7f7f7f\">9</span></a>\n",
       "</pre>\n"
      ],
      "text/plain": [
       "\u001b[2;36m[05/22/25 19:48:17]\u001b[0m\u001b[2;36m \u001b[0m\u001b[34mINFO    \u001b[0m ✓ \u001b[1;36m129.\u001b[0mtxt → Basic\\Gemini\\\u001b[1;36m129.\u001b[0mcc                                        \u001b]8;id=974397;file://C:\\Users\\Tasnim\\AppData\\Local\\Temp\\ipykernel_16732\\1564753407.py\u001b\\\u001b[2m1564753407.py\u001b[0m\u001b]8;;\u001b\\\u001b[2m:\u001b[0m\u001b]8;id=123990;file://C:\\Users\\Tasnim\\AppData\\Local\\Temp\\ipykernel_16732\\1564753407.py#9\u001b\\\u001b[2m9\u001b[0m\u001b]8;;\u001b\\\n"
      ]
     },
     "metadata": {},
     "output_type": "display_data"
    },
    {
     "name": "stderr",
     "output_type": "stream",
     "text": [
      "Generating:   8%|▊         | 34/400 [20:57<3:50:43, 37.82s/it]"
     ]
    },
    {
     "data": {
      "text/html": [
       "<pre style=\"white-space:pre;overflow-x:auto;line-height:normal;font-family:Menlo,'DejaVu Sans Mono',consolas,'Courier New',monospace\"><span style=\"color: #7fbfbf; text-decoration-color: #7fbfbf\">[05/22/25 19:49:25] </span><span style=\"color: #000080; text-decoration-color: #000080\">INFO    </span> ✓ <span style=\"color: #008080; text-decoration-color: #008080; font-weight: bold\">13.</span>txt → Basic\\Gemini\\<span style=\"color: #008080; text-decoration-color: #008080; font-weight: bold\">13.</span>cc                                          <a href=\"file://C:\\Users\\Tasnim\\AppData\\Local\\Temp\\ipykernel_16732\\1564753407.py\" target=\"_blank\"><span style=\"color: #7f7f7f; text-decoration-color: #7f7f7f\">1564753407.py</span></a><span style=\"color: #7f7f7f; text-decoration-color: #7f7f7f\">:</span><a href=\"file://C:\\Users\\Tasnim\\AppData\\Local\\Temp\\ipykernel_16732\\1564753407.py#9\" target=\"_blank\"><span style=\"color: #7f7f7f; text-decoration-color: #7f7f7f\">9</span></a>\n",
       "</pre>\n"
      ],
      "text/plain": [
       "\u001b[2;36m[05/22/25 19:49:25]\u001b[0m\u001b[2;36m \u001b[0m\u001b[34mINFO    \u001b[0m ✓ \u001b[1;36m13.\u001b[0mtxt → Basic\\Gemini\\\u001b[1;36m13.\u001b[0mcc                                          \u001b]8;id=577883;file://C:\\Users\\Tasnim\\AppData\\Local\\Temp\\ipykernel_16732\\1564753407.py\u001b\\\u001b[2m1564753407.py\u001b[0m\u001b]8;;\u001b\\\u001b[2m:\u001b[0m\u001b]8;id=775814;file://C:\\Users\\Tasnim\\AppData\\Local\\Temp\\ipykernel_16732\\1564753407.py#9\u001b\\\u001b[2m9\u001b[0m\u001b]8;;\u001b\\\n"
      ]
     },
     "metadata": {},
     "output_type": "display_data"
    },
    {
     "name": "stderr",
     "output_type": "stream",
     "text": [
      "Generating:   9%|▉         | 35/400 [22:06<4:45:41, 46.96s/it]"
     ]
    },
    {
     "data": {
      "text/html": [
       "<pre style=\"white-space:pre;overflow-x:auto;line-height:normal;font-family:Menlo,'DejaVu Sans Mono',consolas,'Courier New',monospace\"><span style=\"color: #7fbfbf; text-decoration-color: #7fbfbf\">[05/22/25 19:50:10] </span><span style=\"color: #000080; text-decoration-color: #000080\">INFO    </span> ✓ <span style=\"color: #008080; text-decoration-color: #008080; font-weight: bold\">130.</span>txt → Basic\\Gemini\\<span style=\"color: #008080; text-decoration-color: #008080; font-weight: bold\">130.</span>cc                                        <a href=\"file://C:\\Users\\Tasnim\\AppData\\Local\\Temp\\ipykernel_16732\\1564753407.py\" target=\"_blank\"><span style=\"color: #7f7f7f; text-decoration-color: #7f7f7f\">1564753407.py</span></a><span style=\"color: #7f7f7f; text-decoration-color: #7f7f7f\">:</span><a href=\"file://C:\\Users\\Tasnim\\AppData\\Local\\Temp\\ipykernel_16732\\1564753407.py#9\" target=\"_blank\"><span style=\"color: #7f7f7f; text-decoration-color: #7f7f7f\">9</span></a>\n",
       "</pre>\n"
      ],
      "text/plain": [
       "\u001b[2;36m[05/22/25 19:50:10]\u001b[0m\u001b[2;36m \u001b[0m\u001b[34mINFO    \u001b[0m ✓ \u001b[1;36m130.\u001b[0mtxt → Basic\\Gemini\\\u001b[1;36m130.\u001b[0mcc                                        \u001b]8;id=213290;file://C:\\Users\\Tasnim\\AppData\\Local\\Temp\\ipykernel_16732\\1564753407.py\u001b\\\u001b[2m1564753407.py\u001b[0m\u001b]8;;\u001b\\\u001b[2m:\u001b[0m\u001b]8;id=862356;file://C:\\Users\\Tasnim\\AppData\\Local\\Temp\\ipykernel_16732\\1564753407.py#9\u001b\\\u001b[2m9\u001b[0m\u001b]8;;\u001b\\\n"
      ]
     },
     "metadata": {},
     "output_type": "display_data"
    },
    {
     "name": "stderr",
     "output_type": "stream",
     "text": [
      "Generating:   9%|▉         | 36/400 [22:51<4:42:18, 46.53s/it]"
     ]
    },
    {
     "data": {
      "text/html": [
       "<pre style=\"white-space:pre;overflow-x:auto;line-height:normal;font-family:Menlo,'DejaVu Sans Mono',consolas,'Courier New',monospace\"><span style=\"color: #7fbfbf; text-decoration-color: #7fbfbf\">[05/22/25 19:51:46] </span><span style=\"color: #000080; text-decoration-color: #000080\">INFO    </span> ✓ <span style=\"color: #008080; text-decoration-color: #008080; font-weight: bold\">131.</span>txt → Basic\\Gemini\\<span style=\"color: #008080; text-decoration-color: #008080; font-weight: bold\">131.</span>cc                                        <a href=\"file://C:\\Users\\Tasnim\\AppData\\Local\\Temp\\ipykernel_16732\\1564753407.py\" target=\"_blank\"><span style=\"color: #7f7f7f; text-decoration-color: #7f7f7f\">1564753407.py</span></a><span style=\"color: #7f7f7f; text-decoration-color: #7f7f7f\">:</span><a href=\"file://C:\\Users\\Tasnim\\AppData\\Local\\Temp\\ipykernel_16732\\1564753407.py#9\" target=\"_blank\"><span style=\"color: #7f7f7f; text-decoration-color: #7f7f7f\">9</span></a>\n",
       "</pre>\n"
      ],
      "text/plain": [
       "\u001b[2;36m[05/22/25 19:51:46]\u001b[0m\u001b[2;36m \u001b[0m\u001b[34mINFO    \u001b[0m ✓ \u001b[1;36m131.\u001b[0mtxt → Basic\\Gemini\\\u001b[1;36m131.\u001b[0mcc                                        \u001b]8;id=769726;file://C:\\Users\\Tasnim\\AppData\\Local\\Temp\\ipykernel_16732\\1564753407.py\u001b\\\u001b[2m1564753407.py\u001b[0m\u001b]8;;\u001b\\\u001b[2m:\u001b[0m\u001b]8;id=386001;file://C:\\Users\\Tasnim\\AppData\\Local\\Temp\\ipykernel_16732\\1564753407.py#9\u001b\\\u001b[2m9\u001b[0m\u001b]8;;\u001b\\\n"
      ]
     },
     "metadata": {},
     "output_type": "display_data"
    },
    {
     "name": "stderr",
     "output_type": "stream",
     "text": [
      "Generating:   9%|▉         | 37/400 [24:27<6:10:13, 61.19s/it]"
     ]
    },
    {
     "data": {
      "text/html": [
       "<pre style=\"white-space:pre;overflow-x:auto;line-height:normal;font-family:Menlo,'DejaVu Sans Mono',consolas,'Courier New',monospace\"><span style=\"color: #7fbfbf; text-decoration-color: #7fbfbf\">[05/22/25 19:52:34] </span><span style=\"color: #800000; text-decoration-color: #800000; font-weight: bold\">ERROR   </span> ✗ <span style=\"color: #008080; text-decoration-color: #008080; font-weight: bold\">132.</span>txt – Invalid operation: The `response.text` quick accessor     <a href=\"file://C:\\Users\\Tasnim\\AppData\\Local\\Temp\\ipykernel_16732\\1564753407.py\" target=\"_blank\"><span style=\"color: #7f7f7f; text-decoration-color: #7f7f7f\">1564753407.py</span></a><span style=\"color: #7f7f7f; text-decoration-color: #7f7f7f\">:</span><a href=\"file://C:\\Users\\Tasnim\\AppData\\Local\\Temp\\ipykernel_16732\\1564753407.py#11\" target=\"_blank\"><span style=\"color: #7f7f7f; text-decoration-color: #7f7f7f\">11</span></a>\n",
       "<span style=\"color: #7fbfbf; text-decoration-color: #7fbfbf\">                    </span>         requires the response to contain a valid `Part`, but none were        <span style=\"color: #7f7f7f; text-decoration-color: #7f7f7f\">                </span>\n",
       "<span style=\"color: #7fbfbf; text-decoration-color: #7fbfbf\">                    </span>         returned. The candidate's                                             <span style=\"color: #7f7f7f; text-decoration-color: #7f7f7f\">                </span>\n",
       "<span style=\"color: #7fbfbf; text-decoration-color: #7fbfbf\">                    </span>         <span style=\"font-weight: bold\">[</span>finish_reason<span style=\"font-weight: bold\">](</span><span style=\"color: #0000ff; text-decoration-color: #0000ff; text-decoration: underline\">https://ai.google.dev/api/generate-content#finishreas</span> <span style=\"color: #7f7f7f; text-decoration-color: #7f7f7f\">                </span>\n",
       "<span style=\"color: #7fbfbf; text-decoration-color: #7fbfbf\">                    </span>         <span style=\"color: #0000ff; text-decoration-color: #0000ff; text-decoration: underline\">on)</span> is <span style=\"color: #008080; text-decoration-color: #008080; font-weight: bold\">1</span>.                                                             <span style=\"color: #7f7f7f; text-decoration-color: #7f7f7f\">                </span>\n",
       "</pre>\n"
      ],
      "text/plain": [
       "\u001b[2;36m[05/22/25 19:52:34]\u001b[0m\u001b[2;36m \u001b[0m\u001b[1;31mERROR   \u001b[0m ✗ \u001b[1;36m132.\u001b[0mtxt – Invalid operation: The `response.text` quick accessor     \u001b]8;id=717210;file://C:\\Users\\Tasnim\\AppData\\Local\\Temp\\ipykernel_16732\\1564753407.py\u001b\\\u001b[2m1564753407.py\u001b[0m\u001b]8;;\u001b\\\u001b[2m:\u001b[0m\u001b]8;id=388196;file://C:\\Users\\Tasnim\\AppData\\Local\\Temp\\ipykernel_16732\\1564753407.py#11\u001b\\\u001b[2m11\u001b[0m\u001b]8;;\u001b\\\n",
       "\u001b[2;36m                    \u001b[0m         requires the response to contain a valid `Part`, but none were        \u001b[2m                \u001b[0m\n",
       "\u001b[2;36m                    \u001b[0m         returned. The candidate's                                             \u001b[2m                \u001b[0m\n",
       "\u001b[2;36m                    \u001b[0m         \u001b[1m[\u001b[0mfinish_reason\u001b[1m]\u001b[0m\u001b[1m(\u001b[0m\u001b[4;94mhttps://ai.google.dev/api/generate-content#finishreas\u001b[0m \u001b[2m                \u001b[0m\n",
       "\u001b[2;36m                    \u001b[0m         \u001b[4;94mon\u001b[0m\u001b[4;94m)\u001b[0m is \u001b[1;36m1\u001b[0m.                                                             \u001b[2m                \u001b[0m\n"
      ]
     },
     "metadata": {},
     "output_type": "display_data"
    },
    {
     "name": "stderr",
     "output_type": "stream",
     "text": [
      "Generating:  10%|▉         | 38/400 [25:15<5:46:19, 57.40s/it]"
     ]
    },
    {
     "data": {
      "text/html": [
       "<pre style=\"white-space:pre;overflow-x:auto;line-height:normal;font-family:Menlo,'DejaVu Sans Mono',consolas,'Courier New',monospace\"><span style=\"color: #7fbfbf; text-decoration-color: #7fbfbf\">[05/22/25 19:53:13] </span><span style=\"color: #000080; text-decoration-color: #000080\">INFO    </span> ✓ <span style=\"color: #008080; text-decoration-color: #008080; font-weight: bold\">133.</span>txt → Basic\\Gemini\\<span style=\"color: #008080; text-decoration-color: #008080; font-weight: bold\">133.</span>cc                                        <a href=\"file://C:\\Users\\Tasnim\\AppData\\Local\\Temp\\ipykernel_16732\\1564753407.py\" target=\"_blank\"><span style=\"color: #7f7f7f; text-decoration-color: #7f7f7f\">1564753407.py</span></a><span style=\"color: #7f7f7f; text-decoration-color: #7f7f7f\">:</span><a href=\"file://C:\\Users\\Tasnim\\AppData\\Local\\Temp\\ipykernel_16732\\1564753407.py#9\" target=\"_blank\"><span style=\"color: #7f7f7f; text-decoration-color: #7f7f7f\">9</span></a>\n",
       "</pre>\n"
      ],
      "text/plain": [
       "\u001b[2;36m[05/22/25 19:53:13]\u001b[0m\u001b[2;36m \u001b[0m\u001b[34mINFO    \u001b[0m ✓ \u001b[1;36m133.\u001b[0mtxt → Basic\\Gemini\\\u001b[1;36m133.\u001b[0mcc                                        \u001b]8;id=343202;file://C:\\Users\\Tasnim\\AppData\\Local\\Temp\\ipykernel_16732\\1564753407.py\u001b\\\u001b[2m1564753407.py\u001b[0m\u001b]8;;\u001b\\\u001b[2m:\u001b[0m\u001b]8;id=513100;file://C:\\Users\\Tasnim\\AppData\\Local\\Temp\\ipykernel_16732\\1564753407.py#9\u001b\\\u001b[2m9\u001b[0m\u001b]8;;\u001b\\\n"
      ]
     },
     "metadata": {},
     "output_type": "display_data"
    },
    {
     "name": "stderr",
     "output_type": "stream",
     "text": [
      "Generating:  10%|▉         | 39/400 [25:54<5:11:18, 51.74s/it]"
     ]
    },
    {
     "data": {
      "text/html": [
       "<pre style=\"white-space:pre;overflow-x:auto;line-height:normal;font-family:Menlo,'DejaVu Sans Mono',consolas,'Courier New',monospace\"><span style=\"color: #7fbfbf; text-decoration-color: #7fbfbf\">[05/22/25 19:54:44] </span><span style=\"color: #000080; text-decoration-color: #000080\">INFO    </span> ✓ <span style=\"color: #008080; text-decoration-color: #008080; font-weight: bold\">134.</span>txt → Basic\\Gemini\\<span style=\"color: #008080; text-decoration-color: #008080; font-weight: bold\">134.</span>cc                                        <a href=\"file://C:\\Users\\Tasnim\\AppData\\Local\\Temp\\ipykernel_16732\\1564753407.py\" target=\"_blank\"><span style=\"color: #7f7f7f; text-decoration-color: #7f7f7f\">1564753407.py</span></a><span style=\"color: #7f7f7f; text-decoration-color: #7f7f7f\">:</span><a href=\"file://C:\\Users\\Tasnim\\AppData\\Local\\Temp\\ipykernel_16732\\1564753407.py#9\" target=\"_blank\"><span style=\"color: #7f7f7f; text-decoration-color: #7f7f7f\">9</span></a>\n",
       "</pre>\n"
      ],
      "text/plain": [
       "\u001b[2;36m[05/22/25 19:54:44]\u001b[0m\u001b[2;36m \u001b[0m\u001b[34mINFO    \u001b[0m ✓ \u001b[1;36m134.\u001b[0mtxt → Basic\\Gemini\\\u001b[1;36m134.\u001b[0mcc                                        \u001b]8;id=428492;file://C:\\Users\\Tasnim\\AppData\\Local\\Temp\\ipykernel_16732\\1564753407.py\u001b\\\u001b[2m1564753407.py\u001b[0m\u001b]8;;\u001b\\\u001b[2m:\u001b[0m\u001b]8;id=491685;file://C:\\Users\\Tasnim\\AppData\\Local\\Temp\\ipykernel_16732\\1564753407.py#9\u001b\\\u001b[2m9\u001b[0m\u001b]8;;\u001b\\\n"
      ]
     },
     "metadata": {},
     "output_type": "display_data"
    },
    {
     "name": "stderr",
     "output_type": "stream",
     "text": [
      "Generating:  10%|█         | 40/400 [27:25<6:21:57, 63.66s/it]"
     ]
    },
    {
     "data": {
      "text/html": [
       "<pre style=\"white-space:pre;overflow-x:auto;line-height:normal;font-family:Menlo,'DejaVu Sans Mono',consolas,'Courier New',monospace\"><span style=\"color: #7fbfbf; text-decoration-color: #7fbfbf\">[05/22/25 19:55:07] </span><span style=\"color: #000080; text-decoration-color: #000080\">INFO    </span> ✓ <span style=\"color: #008080; text-decoration-color: #008080; font-weight: bold\">135.</span>txt → Basic\\Gemini\\<span style=\"color: #008080; text-decoration-color: #008080; font-weight: bold\">135.</span>cc                                        <a href=\"file://C:\\Users\\Tasnim\\AppData\\Local\\Temp\\ipykernel_16732\\1564753407.py\" target=\"_blank\"><span style=\"color: #7f7f7f; text-decoration-color: #7f7f7f\">1564753407.py</span></a><span style=\"color: #7f7f7f; text-decoration-color: #7f7f7f\">:</span><a href=\"file://C:\\Users\\Tasnim\\AppData\\Local\\Temp\\ipykernel_16732\\1564753407.py#9\" target=\"_blank\"><span style=\"color: #7f7f7f; text-decoration-color: #7f7f7f\">9</span></a>\n",
       "</pre>\n"
      ],
      "text/plain": [
       "\u001b[2;36m[05/22/25 19:55:07]\u001b[0m\u001b[2;36m \u001b[0m\u001b[34mINFO    \u001b[0m ✓ \u001b[1;36m135.\u001b[0mtxt → Basic\\Gemini\\\u001b[1;36m135.\u001b[0mcc                                        \u001b]8;id=283001;file://C:\\Users\\Tasnim\\AppData\\Local\\Temp\\ipykernel_16732\\1564753407.py\u001b\\\u001b[2m1564753407.py\u001b[0m\u001b]8;;\u001b\\\u001b[2m:\u001b[0m\u001b]8;id=290387;file://C:\\Users\\Tasnim\\AppData\\Local\\Temp\\ipykernel_16732\\1564753407.py#9\u001b\\\u001b[2m9\u001b[0m\u001b]8;;\u001b\\\n"
      ]
     },
     "metadata": {},
     "output_type": "display_data"
    },
    {
     "name": "stderr",
     "output_type": "stream",
     "text": [
      "Generating:  10%|█         | 41/400 [27:48<5:07:56, 51.47s/it]"
     ]
    },
    {
     "data": {
      "text/html": [
       "<pre style=\"white-space:pre;overflow-x:auto;line-height:normal;font-family:Menlo,'DejaVu Sans Mono',consolas,'Courier New',monospace\"><span style=\"color: #7fbfbf; text-decoration-color: #7fbfbf\">[05/22/25 19:55:24] </span><span style=\"color: #000080; text-decoration-color: #000080\">INFO    </span> ✓ <span style=\"color: #008080; text-decoration-color: #008080; font-weight: bold\">136.</span>txt → Basic\\Gemini\\<span style=\"color: #008080; text-decoration-color: #008080; font-weight: bold\">136.</span>cc                                        <a href=\"file://C:\\Users\\Tasnim\\AppData\\Local\\Temp\\ipykernel_16732\\1564753407.py\" target=\"_blank\"><span style=\"color: #7f7f7f; text-decoration-color: #7f7f7f\">1564753407.py</span></a><span style=\"color: #7f7f7f; text-decoration-color: #7f7f7f\">:</span><a href=\"file://C:\\Users\\Tasnim\\AppData\\Local\\Temp\\ipykernel_16732\\1564753407.py#9\" target=\"_blank\"><span style=\"color: #7f7f7f; text-decoration-color: #7f7f7f\">9</span></a>\n",
       "</pre>\n"
      ],
      "text/plain": [
       "\u001b[2;36m[05/22/25 19:55:24]\u001b[0m\u001b[2;36m \u001b[0m\u001b[34mINFO    \u001b[0m ✓ \u001b[1;36m136.\u001b[0mtxt → Basic\\Gemini\\\u001b[1;36m136.\u001b[0mcc                                        \u001b]8;id=917106;file://C:\\Users\\Tasnim\\AppData\\Local\\Temp\\ipykernel_16732\\1564753407.py\u001b\\\u001b[2m1564753407.py\u001b[0m\u001b]8;;\u001b\\\u001b[2m:\u001b[0m\u001b]8;id=721295;file://C:\\Users\\Tasnim\\AppData\\Local\\Temp\\ipykernel_16732\\1564753407.py#9\u001b\\\u001b[2m9\u001b[0m\u001b]8;;\u001b\\\n"
      ]
     },
     "metadata": {},
     "output_type": "display_data"
    },
    {
     "name": "stderr",
     "output_type": "stream",
     "text": [
      "Generating:  10%|█         | 42/400 [28:05<4:05:01, 41.07s/it]"
     ]
    },
    {
     "data": {
      "text/html": [
       "<pre style=\"white-space:pre;overflow-x:auto;line-height:normal;font-family:Menlo,'DejaVu Sans Mono',consolas,'Courier New',monospace\"><span style=\"color: #7fbfbf; text-decoration-color: #7fbfbf\">[05/22/25 19:55:46] </span><span style=\"color: #000080; text-decoration-color: #000080\">INFO    </span> ✓ <span style=\"color: #008080; text-decoration-color: #008080; font-weight: bold\">137.</span>txt → Basic\\Gemini\\<span style=\"color: #008080; text-decoration-color: #008080; font-weight: bold\">137.</span>cc                                        <a href=\"file://C:\\Users\\Tasnim\\AppData\\Local\\Temp\\ipykernel_16732\\1564753407.py\" target=\"_blank\"><span style=\"color: #7f7f7f; text-decoration-color: #7f7f7f\">1564753407.py</span></a><span style=\"color: #7f7f7f; text-decoration-color: #7f7f7f\">:</span><a href=\"file://C:\\Users\\Tasnim\\AppData\\Local\\Temp\\ipykernel_16732\\1564753407.py#9\" target=\"_blank\"><span style=\"color: #7f7f7f; text-decoration-color: #7f7f7f\">9</span></a>\n",
       "</pre>\n"
      ],
      "text/plain": [
       "\u001b[2;36m[05/22/25 19:55:46]\u001b[0m\u001b[2;36m \u001b[0m\u001b[34mINFO    \u001b[0m ✓ \u001b[1;36m137.\u001b[0mtxt → Basic\\Gemini\\\u001b[1;36m137.\u001b[0mcc                                        \u001b]8;id=180097;file://C:\\Users\\Tasnim\\AppData\\Local\\Temp\\ipykernel_16732\\1564753407.py\u001b\\\u001b[2m1564753407.py\u001b[0m\u001b]8;;\u001b\\\u001b[2m:\u001b[0m\u001b]8;id=901336;file://C:\\Users\\Tasnim\\AppData\\Local\\Temp\\ipykernel_16732\\1564753407.py#9\u001b\\\u001b[2m9\u001b[0m\u001b]8;;\u001b\\\n"
      ]
     },
     "metadata": {},
     "output_type": "display_data"
    },
    {
     "name": "stderr",
     "output_type": "stream",
     "text": [
      "Generating:  11%|█         | 43/400 [28:26<3:29:23, 35.19s/it]"
     ]
    },
    {
     "data": {
      "text/html": [
       "<pre style=\"white-space:pre;overflow-x:auto;line-height:normal;font-family:Menlo,'DejaVu Sans Mono',consolas,'Courier New',monospace\"><span style=\"color: #7fbfbf; text-decoration-color: #7fbfbf\">[05/22/25 19:56:08] </span><span style=\"color: #000080; text-decoration-color: #000080\">INFO    </span> ✓ <span style=\"color: #008080; text-decoration-color: #008080; font-weight: bold\">138.</span>txt → Basic\\Gemini\\<span style=\"color: #008080; text-decoration-color: #008080; font-weight: bold\">138.</span>cc                                        <a href=\"file://C:\\Users\\Tasnim\\AppData\\Local\\Temp\\ipykernel_16732\\1564753407.py\" target=\"_blank\"><span style=\"color: #7f7f7f; text-decoration-color: #7f7f7f\">1564753407.py</span></a><span style=\"color: #7f7f7f; text-decoration-color: #7f7f7f\">:</span><a href=\"file://C:\\Users\\Tasnim\\AppData\\Local\\Temp\\ipykernel_16732\\1564753407.py#9\" target=\"_blank\"><span style=\"color: #7f7f7f; text-decoration-color: #7f7f7f\">9</span></a>\n",
       "</pre>\n"
      ],
      "text/plain": [
       "\u001b[2;36m[05/22/25 19:56:08]\u001b[0m\u001b[2;36m \u001b[0m\u001b[34mINFO    \u001b[0m ✓ \u001b[1;36m138.\u001b[0mtxt → Basic\\Gemini\\\u001b[1;36m138.\u001b[0mcc                                        \u001b]8;id=256451;file://C:\\Users\\Tasnim\\AppData\\Local\\Temp\\ipykernel_16732\\1564753407.py\u001b\\\u001b[2m1564753407.py\u001b[0m\u001b]8;;\u001b\\\u001b[2m:\u001b[0m\u001b]8;id=621473;file://C:\\Users\\Tasnim\\AppData\\Local\\Temp\\ipykernel_16732\\1564753407.py#9\u001b\\\u001b[2m9\u001b[0m\u001b]8;;\u001b\\\n"
      ]
     },
     "metadata": {},
     "output_type": "display_data"
    },
    {
     "name": "stderr",
     "output_type": "stream",
     "text": [
      "Generating:  11%|█         | 44/400 [28:48<3:05:22, 31.24s/it]"
     ]
    },
    {
     "data": {
      "text/html": [
       "<pre style=\"white-space:pre;overflow-x:auto;line-height:normal;font-family:Menlo,'DejaVu Sans Mono',consolas,'Courier New',monospace\"><span style=\"color: #7fbfbf; text-decoration-color: #7fbfbf\">[05/22/25 19:56:36] </span><span style=\"color: #000080; text-decoration-color: #000080\">INFO    </span> ✓ <span style=\"color: #008080; text-decoration-color: #008080; font-weight: bold\">139.</span>txt → Basic\\Gemini\\<span style=\"color: #008080; text-decoration-color: #008080; font-weight: bold\">139.</span>cc                                        <a href=\"file://C:\\Users\\Tasnim\\AppData\\Local\\Temp\\ipykernel_16732\\1564753407.py\" target=\"_blank\"><span style=\"color: #7f7f7f; text-decoration-color: #7f7f7f\">1564753407.py</span></a><span style=\"color: #7f7f7f; text-decoration-color: #7f7f7f\">:</span><a href=\"file://C:\\Users\\Tasnim\\AppData\\Local\\Temp\\ipykernel_16732\\1564753407.py#9\" target=\"_blank\"><span style=\"color: #7f7f7f; text-decoration-color: #7f7f7f\">9</span></a>\n",
       "</pre>\n"
      ],
      "text/plain": [
       "\u001b[2;36m[05/22/25 19:56:36]\u001b[0m\u001b[2;36m \u001b[0m\u001b[34mINFO    \u001b[0m ✓ \u001b[1;36m139.\u001b[0mtxt → Basic\\Gemini\\\u001b[1;36m139.\u001b[0mcc                                        \u001b]8;id=508147;file://C:\\Users\\Tasnim\\AppData\\Local\\Temp\\ipykernel_16732\\1564753407.py\u001b\\\u001b[2m1564753407.py\u001b[0m\u001b]8;;\u001b\\\u001b[2m:\u001b[0m\u001b]8;id=358880;file://C:\\Users\\Tasnim\\AppData\\Local\\Temp\\ipykernel_16732\\1564753407.py#9\u001b\\\u001b[2m9\u001b[0m\u001b]8;;\u001b\\\n"
      ]
     },
     "metadata": {},
     "output_type": "display_data"
    },
    {
     "name": "stderr",
     "output_type": "stream",
     "text": [
      "Generating:  11%|█▏        | 45/400 [29:17<2:59:26, 30.33s/it]"
     ]
    },
    {
     "data": {
      "text/html": [
       "<pre style=\"white-space:pre;overflow-x:auto;line-height:normal;font-family:Menlo,'DejaVu Sans Mono',consolas,'Courier New',monospace\"><span style=\"color: #7fbfbf; text-decoration-color: #7fbfbf\">[05/22/25 19:57:27] </span><span style=\"color: #000080; text-decoration-color: #000080\">INFO    </span> ✓ <span style=\"color: #008080; text-decoration-color: #008080; font-weight: bold\">14.</span>txt → Basic\\Gemini\\<span style=\"color: #008080; text-decoration-color: #008080; font-weight: bold\">14.</span>cc                                          <a href=\"file://C:\\Users\\Tasnim\\AppData\\Local\\Temp\\ipykernel_16732\\1564753407.py\" target=\"_blank\"><span style=\"color: #7f7f7f; text-decoration-color: #7f7f7f\">1564753407.py</span></a><span style=\"color: #7f7f7f; text-decoration-color: #7f7f7f\">:</span><a href=\"file://C:\\Users\\Tasnim\\AppData\\Local\\Temp\\ipykernel_16732\\1564753407.py#9\" target=\"_blank\"><span style=\"color: #7f7f7f; text-decoration-color: #7f7f7f\">9</span></a>\n",
       "</pre>\n"
      ],
      "text/plain": [
       "\u001b[2;36m[05/22/25 19:57:27]\u001b[0m\u001b[2;36m \u001b[0m\u001b[34mINFO    \u001b[0m ✓ \u001b[1;36m14.\u001b[0mtxt → Basic\\Gemini\\\u001b[1;36m14.\u001b[0mcc                                          \u001b]8;id=539280;file://C:\\Users\\Tasnim\\AppData\\Local\\Temp\\ipykernel_16732\\1564753407.py\u001b\\\u001b[2m1564753407.py\u001b[0m\u001b]8;;\u001b\\\u001b[2m:\u001b[0m\u001b]8;id=831556;file://C:\\Users\\Tasnim\\AppData\\Local\\Temp\\ipykernel_16732\\1564753407.py#9\u001b\\\u001b[2m9\u001b[0m\u001b]8;;\u001b\\\n"
      ]
     },
     "metadata": {},
     "output_type": "display_data"
    },
    {
     "name": "stderr",
     "output_type": "stream",
     "text": [
      "Generating:  12%|█▏        | 46/400 [30:08<3:35:43, 36.56s/it]"
     ]
    },
    {
     "data": {
      "text/html": [
       "<pre style=\"white-space:pre;overflow-x:auto;line-height:normal;font-family:Menlo,'DejaVu Sans Mono',consolas,'Courier New',monospace\"><span style=\"color: #7fbfbf; text-decoration-color: #7fbfbf\">[05/22/25 19:58:10] </span><span style=\"color: #000080; text-decoration-color: #000080\">INFO    </span> ✓ <span style=\"color: #008080; text-decoration-color: #008080; font-weight: bold\">140.</span>txt → Basic\\Gemini\\<span style=\"color: #008080; text-decoration-color: #008080; font-weight: bold\">140.</span>cc                                        <a href=\"file://C:\\Users\\Tasnim\\AppData\\Local\\Temp\\ipykernel_16732\\1564753407.py\" target=\"_blank\"><span style=\"color: #7f7f7f; text-decoration-color: #7f7f7f\">1564753407.py</span></a><span style=\"color: #7f7f7f; text-decoration-color: #7f7f7f\">:</span><a href=\"file://C:\\Users\\Tasnim\\AppData\\Local\\Temp\\ipykernel_16732\\1564753407.py#9\" target=\"_blank\"><span style=\"color: #7f7f7f; text-decoration-color: #7f7f7f\">9</span></a>\n",
       "</pre>\n"
      ],
      "text/plain": [
       "\u001b[2;36m[05/22/25 19:58:10]\u001b[0m\u001b[2;36m \u001b[0m\u001b[34mINFO    \u001b[0m ✓ \u001b[1;36m140.\u001b[0mtxt → Basic\\Gemini\\\u001b[1;36m140.\u001b[0mcc                                        \u001b]8;id=964373;file://C:\\Users\\Tasnim\\AppData\\Local\\Temp\\ipykernel_16732\\1564753407.py\u001b\\\u001b[2m1564753407.py\u001b[0m\u001b]8;;\u001b\\\u001b[2m:\u001b[0m\u001b]8;id=794256;file://C:\\Users\\Tasnim\\AppData\\Local\\Temp\\ipykernel_16732\\1564753407.py#9\u001b\\\u001b[2m9\u001b[0m\u001b]8;;\u001b\\\n"
      ]
     },
     "metadata": {},
     "output_type": "display_data"
    },
    {
     "name": "stderr",
     "output_type": "stream",
     "text": [
      "Generating:  12%|█▏        | 47/400 [30:51<3:46:17, 38.46s/it]"
     ]
    },
    {
     "data": {
      "text/html": [
       "<pre style=\"white-space:pre;overflow-x:auto;line-height:normal;font-family:Menlo,'DejaVu Sans Mono',consolas,'Courier New',monospace\"><span style=\"color: #7fbfbf; text-decoration-color: #7fbfbf\">[05/22/25 19:58:38] </span><span style=\"color: #000080; text-decoration-color: #000080\">INFO    </span> ✓ <span style=\"color: #008080; text-decoration-color: #008080; font-weight: bold\">141.</span>txt → Basic\\Gemini\\<span style=\"color: #008080; text-decoration-color: #008080; font-weight: bold\">141.</span>cc                                        <a href=\"file://C:\\Users\\Tasnim\\AppData\\Local\\Temp\\ipykernel_16732\\1564753407.py\" target=\"_blank\"><span style=\"color: #7f7f7f; text-decoration-color: #7f7f7f\">1564753407.py</span></a><span style=\"color: #7f7f7f; text-decoration-color: #7f7f7f\">:</span><a href=\"file://C:\\Users\\Tasnim\\AppData\\Local\\Temp\\ipykernel_16732\\1564753407.py#9\" target=\"_blank\"><span style=\"color: #7f7f7f; text-decoration-color: #7f7f7f\">9</span></a>\n",
       "</pre>\n"
      ],
      "text/plain": [
       "\u001b[2;36m[05/22/25 19:58:38]\u001b[0m\u001b[2;36m \u001b[0m\u001b[34mINFO    \u001b[0m ✓ \u001b[1;36m141.\u001b[0mtxt → Basic\\Gemini\\\u001b[1;36m141.\u001b[0mcc                                        \u001b]8;id=128560;file://C:\\Users\\Tasnim\\AppData\\Local\\Temp\\ipykernel_16732\\1564753407.py\u001b\\\u001b[2m1564753407.py\u001b[0m\u001b]8;;\u001b\\\u001b[2m:\u001b[0m\u001b]8;id=695760;file://C:\\Users\\Tasnim\\AppData\\Local\\Temp\\ipykernel_16732\\1564753407.py#9\u001b\\\u001b[2m9\u001b[0m\u001b]8;;\u001b\\\n"
      ]
     },
     "metadata": {},
     "output_type": "display_data"
    },
    {
     "name": "stderr",
     "output_type": "stream",
     "text": [
      "Generating:  12%|█▏        | 48/400 [31:18<3:26:38, 35.22s/it]"
     ]
    },
    {
     "data": {
      "text/html": [
       "<pre style=\"white-space:pre;overflow-x:auto;line-height:normal;font-family:Menlo,'DejaVu Sans Mono',consolas,'Courier New',monospace\"><span style=\"color: #7fbfbf; text-decoration-color: #7fbfbf\">[05/22/25 19:58:57] </span><span style=\"color: #000080; text-decoration-color: #000080\">INFO    </span> ✓ <span style=\"color: #008080; text-decoration-color: #008080; font-weight: bold\">142.</span>txt → Basic\\Gemini\\<span style=\"color: #008080; text-decoration-color: #008080; font-weight: bold\">142.</span>cc                                        <a href=\"file://C:\\Users\\Tasnim\\AppData\\Local\\Temp\\ipykernel_16732\\1564753407.py\" target=\"_blank\"><span style=\"color: #7f7f7f; text-decoration-color: #7f7f7f\">1564753407.py</span></a><span style=\"color: #7f7f7f; text-decoration-color: #7f7f7f\">:</span><a href=\"file://C:\\Users\\Tasnim\\AppData\\Local\\Temp\\ipykernel_16732\\1564753407.py#9\" target=\"_blank\"><span style=\"color: #7f7f7f; text-decoration-color: #7f7f7f\">9</span></a>\n",
       "</pre>\n"
      ],
      "text/plain": [
       "\u001b[2;36m[05/22/25 19:58:57]\u001b[0m\u001b[2;36m \u001b[0m\u001b[34mINFO    \u001b[0m ✓ \u001b[1;36m142.\u001b[0mtxt → Basic\\Gemini\\\u001b[1;36m142.\u001b[0mcc                                        \u001b]8;id=983622;file://C:\\Users\\Tasnim\\AppData\\Local\\Temp\\ipykernel_16732\\1564753407.py\u001b\\\u001b[2m1564753407.py\u001b[0m\u001b]8;;\u001b\\\u001b[2m:\u001b[0m\u001b]8;id=330212;file://C:\\Users\\Tasnim\\AppData\\Local\\Temp\\ipykernel_16732\\1564753407.py#9\u001b\\\u001b[2m9\u001b[0m\u001b]8;;\u001b\\\n"
      ]
     },
     "metadata": {},
     "output_type": "display_data"
    },
    {
     "name": "stderr",
     "output_type": "stream",
     "text": [
      "Generating:  12%|█▏        | 49/400 [31:38<2:58:36, 30.53s/it]"
     ]
    },
    {
     "data": {
      "text/html": [
       "<pre style=\"white-space:pre;overflow-x:auto;line-height:normal;font-family:Menlo,'DejaVu Sans Mono',consolas,'Courier New',monospace\"><span style=\"color: #7fbfbf; text-decoration-color: #7fbfbf\">[05/22/25 19:59:21] </span><span style=\"color: #000080; text-decoration-color: #000080\">INFO    </span> ✓ <span style=\"color: #008080; text-decoration-color: #008080; font-weight: bold\">143.</span>txt → Basic\\Gemini\\<span style=\"color: #008080; text-decoration-color: #008080; font-weight: bold\">143.</span>cc                                        <a href=\"file://C:\\Users\\Tasnim\\AppData\\Local\\Temp\\ipykernel_16732\\1564753407.py\" target=\"_blank\"><span style=\"color: #7f7f7f; text-decoration-color: #7f7f7f\">1564753407.py</span></a><span style=\"color: #7f7f7f; text-decoration-color: #7f7f7f\">:</span><a href=\"file://C:\\Users\\Tasnim\\AppData\\Local\\Temp\\ipykernel_16732\\1564753407.py#9\" target=\"_blank\"><span style=\"color: #7f7f7f; text-decoration-color: #7f7f7f\">9</span></a>\n",
       "</pre>\n"
      ],
      "text/plain": [
       "\u001b[2;36m[05/22/25 19:59:21]\u001b[0m\u001b[2;36m \u001b[0m\u001b[34mINFO    \u001b[0m ✓ \u001b[1;36m143.\u001b[0mtxt → Basic\\Gemini\\\u001b[1;36m143.\u001b[0mcc                                        \u001b]8;id=994148;file://C:\\Users\\Tasnim\\AppData\\Local\\Temp\\ipykernel_16732\\1564753407.py\u001b\\\u001b[2m1564753407.py\u001b[0m\u001b]8;;\u001b\\\u001b[2m:\u001b[0m\u001b]8;id=801805;file://C:\\Users\\Tasnim\\AppData\\Local\\Temp\\ipykernel_16732\\1564753407.py#9\u001b\\\u001b[2m9\u001b[0m\u001b]8;;\u001b\\\n"
      ]
     },
     "metadata": {},
     "output_type": "display_data"
    },
    {
     "name": "stderr",
     "output_type": "stream",
     "text": [
      "Generating:  12%|█▎        | 50/400 [32:02<2:46:19, 28.51s/it]"
     ]
    },
    {
     "data": {
      "text/html": [
       "<pre style=\"white-space:pre;overflow-x:auto;line-height:normal;font-family:Menlo,'DejaVu Sans Mono',consolas,'Courier New',monospace\"><span style=\"color: #7fbfbf; text-decoration-color: #7fbfbf\">[05/22/25 20:00:00] </span><span style=\"color: #000080; text-decoration-color: #000080\">INFO    </span> ✓ <span style=\"color: #008080; text-decoration-color: #008080; font-weight: bold\">144.</span>txt → Basic\\Gemini\\<span style=\"color: #008080; text-decoration-color: #008080; font-weight: bold\">144.</span>cc                                        <a href=\"file://C:\\Users\\Tasnim\\AppData\\Local\\Temp\\ipykernel_16732\\1564753407.py\" target=\"_blank\"><span style=\"color: #7f7f7f; text-decoration-color: #7f7f7f\">1564753407.py</span></a><span style=\"color: #7f7f7f; text-decoration-color: #7f7f7f\">:</span><a href=\"file://C:\\Users\\Tasnim\\AppData\\Local\\Temp\\ipykernel_16732\\1564753407.py#9\" target=\"_blank\"><span style=\"color: #7f7f7f; text-decoration-color: #7f7f7f\">9</span></a>\n",
       "</pre>\n"
      ],
      "text/plain": [
       "\u001b[2;36m[05/22/25 20:00:00]\u001b[0m\u001b[2;36m \u001b[0m\u001b[34mINFO    \u001b[0m ✓ \u001b[1;36m144.\u001b[0mtxt → Basic\\Gemini\\\u001b[1;36m144.\u001b[0mcc                                        \u001b]8;id=562905;file://C:\\Users\\Tasnim\\AppData\\Local\\Temp\\ipykernel_16732\\1564753407.py\u001b\\\u001b[2m1564753407.py\u001b[0m\u001b]8;;\u001b\\\u001b[2m:\u001b[0m\u001b]8;id=561484;file://C:\\Users\\Tasnim\\AppData\\Local\\Temp\\ipykernel_16732\\1564753407.py#9\u001b\\\u001b[2m9\u001b[0m\u001b]8;;\u001b\\\n"
      ]
     },
     "metadata": {},
     "output_type": "display_data"
    },
    {
     "name": "stderr",
     "output_type": "stream",
     "text": [
      "Generating:  13%|█▎        | 51/400 [32:40<3:03:25, 31.53s/it]"
     ]
    },
    {
     "data": {
      "text/html": [
       "<pre style=\"white-space:pre;overflow-x:auto;line-height:normal;font-family:Menlo,'DejaVu Sans Mono',consolas,'Courier New',monospace\"><span style=\"color: #7fbfbf; text-decoration-color: #7fbfbf\">[05/22/25 20:00:37] </span><span style=\"color: #000080; text-decoration-color: #000080\">INFO    </span> ✓ <span style=\"color: #008080; text-decoration-color: #008080; font-weight: bold\">145.</span>txt → Basic\\Gemini\\<span style=\"color: #008080; text-decoration-color: #008080; font-weight: bold\">145.</span>cc                                        <a href=\"file://C:\\Users\\Tasnim\\AppData\\Local\\Temp\\ipykernel_16732\\1564753407.py\" target=\"_blank\"><span style=\"color: #7f7f7f; text-decoration-color: #7f7f7f\">1564753407.py</span></a><span style=\"color: #7f7f7f; text-decoration-color: #7f7f7f\">:</span><a href=\"file://C:\\Users\\Tasnim\\AppData\\Local\\Temp\\ipykernel_16732\\1564753407.py#9\" target=\"_blank\"><span style=\"color: #7f7f7f; text-decoration-color: #7f7f7f\">9</span></a>\n",
       "</pre>\n"
      ],
      "text/plain": [
       "\u001b[2;36m[05/22/25 20:00:37]\u001b[0m\u001b[2;36m \u001b[0m\u001b[34mINFO    \u001b[0m ✓ \u001b[1;36m145.\u001b[0mtxt → Basic\\Gemini\\\u001b[1;36m145.\u001b[0mcc                                        \u001b]8;id=424027;file://C:\\Users\\Tasnim\\AppData\\Local\\Temp\\ipykernel_16732\\1564753407.py\u001b\\\u001b[2m1564753407.py\u001b[0m\u001b]8;;\u001b\\\u001b[2m:\u001b[0m\u001b]8;id=283289;file://C:\\Users\\Tasnim\\AppData\\Local\\Temp\\ipykernel_16732\\1564753407.py#9\u001b\\\u001b[2m9\u001b[0m\u001b]8;;\u001b\\\n"
      ]
     },
     "metadata": {},
     "output_type": "display_data"
    },
    {
     "name": "stderr",
     "output_type": "stream",
     "text": [
      "Generating:  13%|█▎        | 52/400 [33:18<3:13:48, 33.41s/it]"
     ]
    },
    {
     "data": {
      "text/html": [
       "<pre style=\"white-space:pre;overflow-x:auto;line-height:normal;font-family:Menlo,'DejaVu Sans Mono',consolas,'Courier New',monospace\"><span style=\"color: #7fbfbf; text-decoration-color: #7fbfbf\">[05/22/25 20:01:16] </span><span style=\"color: #000080; text-decoration-color: #000080\">INFO    </span> ✓ <span style=\"color: #008080; text-decoration-color: #008080; font-weight: bold\">146.</span>txt → Basic\\Gemini\\<span style=\"color: #008080; text-decoration-color: #008080; font-weight: bold\">146.</span>cc                                        <a href=\"file://C:\\Users\\Tasnim\\AppData\\Local\\Temp\\ipykernel_16732\\1564753407.py\" target=\"_blank\"><span style=\"color: #7f7f7f; text-decoration-color: #7f7f7f\">1564753407.py</span></a><span style=\"color: #7f7f7f; text-decoration-color: #7f7f7f\">:</span><a href=\"file://C:\\Users\\Tasnim\\AppData\\Local\\Temp\\ipykernel_16732\\1564753407.py#9\" target=\"_blank\"><span style=\"color: #7f7f7f; text-decoration-color: #7f7f7f\">9</span></a>\n",
       "</pre>\n"
      ],
      "text/plain": [
       "\u001b[2;36m[05/22/25 20:01:16]\u001b[0m\u001b[2;36m \u001b[0m\u001b[34mINFO    \u001b[0m ✓ \u001b[1;36m146.\u001b[0mtxt → Basic\\Gemini\\\u001b[1;36m146.\u001b[0mcc                                        \u001b]8;id=99457;file://C:\\Users\\Tasnim\\AppData\\Local\\Temp\\ipykernel_16732\\1564753407.py\u001b\\\u001b[2m1564753407.py\u001b[0m\u001b]8;;\u001b\\\u001b[2m:\u001b[0m\u001b]8;id=818232;file://C:\\Users\\Tasnim\\AppData\\Local\\Temp\\ipykernel_16732\\1564753407.py#9\u001b\\\u001b[2m9\u001b[0m\u001b]8;;\u001b\\\n"
      ]
     },
     "metadata": {},
     "output_type": "display_data"
    },
    {
     "name": "stderr",
     "output_type": "stream",
     "text": [
      "Generating:  13%|█▎        | 53/400 [33:56<3:21:34, 34.86s/it]"
     ]
    },
    {
     "data": {
      "text/html": [
       "<pre style=\"white-space:pre;overflow-x:auto;line-height:normal;font-family:Menlo,'DejaVu Sans Mono',consolas,'Courier New',monospace\"><span style=\"color: #7fbfbf; text-decoration-color: #7fbfbf\">[05/22/25 20:01:40] </span><span style=\"color: #000080; text-decoration-color: #000080\">INFO    </span> ✓ <span style=\"color: #008080; text-decoration-color: #008080; font-weight: bold\">147.</span>txt → Basic\\Gemini\\<span style=\"color: #008080; text-decoration-color: #008080; font-weight: bold\">147.</span>cc                                        <a href=\"file://C:\\Users\\Tasnim\\AppData\\Local\\Temp\\ipykernel_16732\\1564753407.py\" target=\"_blank\"><span style=\"color: #7f7f7f; text-decoration-color: #7f7f7f\">1564753407.py</span></a><span style=\"color: #7f7f7f; text-decoration-color: #7f7f7f\">:</span><a href=\"file://C:\\Users\\Tasnim\\AppData\\Local\\Temp\\ipykernel_16732\\1564753407.py#9\" target=\"_blank\"><span style=\"color: #7f7f7f; text-decoration-color: #7f7f7f\">9</span></a>\n",
       "</pre>\n"
      ],
      "text/plain": [
       "\u001b[2;36m[05/22/25 20:01:40]\u001b[0m\u001b[2;36m \u001b[0m\u001b[34mINFO    \u001b[0m ✓ \u001b[1;36m147.\u001b[0mtxt → Basic\\Gemini\\\u001b[1;36m147.\u001b[0mcc                                        \u001b]8;id=872394;file://C:\\Users\\Tasnim\\AppData\\Local\\Temp\\ipykernel_16732\\1564753407.py\u001b\\\u001b[2m1564753407.py\u001b[0m\u001b]8;;\u001b\\\u001b[2m:\u001b[0m\u001b]8;id=415741;file://C:\\Users\\Tasnim\\AppData\\Local\\Temp\\ipykernel_16732\\1564753407.py#9\u001b\\\u001b[2m9\u001b[0m\u001b]8;;\u001b\\\n"
      ]
     },
     "metadata": {},
     "output_type": "display_data"
    },
    {
     "name": "stderr",
     "output_type": "stream",
     "text": [
      "Generating:  14%|█▎        | 54/400 [34:21<3:03:04, 31.75s/it]"
     ]
    },
    {
     "data": {
      "text/html": [
       "<pre style=\"white-space:pre;overflow-x:auto;line-height:normal;font-family:Menlo,'DejaVu Sans Mono',consolas,'Courier New',monospace\"><span style=\"color: #7fbfbf; text-decoration-color: #7fbfbf\">[05/22/25 20:02:05] </span><span style=\"color: #000080; text-decoration-color: #000080\">INFO    </span> ✓ <span style=\"color: #008080; text-decoration-color: #008080; font-weight: bold\">148.</span>txt → Basic\\Gemini\\<span style=\"color: #008080; text-decoration-color: #008080; font-weight: bold\">148.</span>cc                                        <a href=\"file://C:\\Users\\Tasnim\\AppData\\Local\\Temp\\ipykernel_16732\\1564753407.py\" target=\"_blank\"><span style=\"color: #7f7f7f; text-decoration-color: #7f7f7f\">1564753407.py</span></a><span style=\"color: #7f7f7f; text-decoration-color: #7f7f7f\">:</span><a href=\"file://C:\\Users\\Tasnim\\AppData\\Local\\Temp\\ipykernel_16732\\1564753407.py#9\" target=\"_blank\"><span style=\"color: #7f7f7f; text-decoration-color: #7f7f7f\">9</span></a>\n",
       "</pre>\n"
      ],
      "text/plain": [
       "\u001b[2;36m[05/22/25 20:02:05]\u001b[0m\u001b[2;36m \u001b[0m\u001b[34mINFO    \u001b[0m ✓ \u001b[1;36m148.\u001b[0mtxt → Basic\\Gemini\\\u001b[1;36m148.\u001b[0mcc                                        \u001b]8;id=262443;file://C:\\Users\\Tasnim\\AppData\\Local\\Temp\\ipykernel_16732\\1564753407.py\u001b\\\u001b[2m1564753407.py\u001b[0m\u001b]8;;\u001b\\\u001b[2m:\u001b[0m\u001b]8;id=992926;file://C:\\Users\\Tasnim\\AppData\\Local\\Temp\\ipykernel_16732\\1564753407.py#9\u001b\\\u001b[2m9\u001b[0m\u001b]8;;\u001b\\\n"
      ]
     },
     "metadata": {},
     "output_type": "display_data"
    },
    {
     "name": "stderr",
     "output_type": "stream",
     "text": [
      "Generating:  14%|█▍        | 55/400 [34:45<2:50:18, 29.62s/it]"
     ]
    },
    {
     "data": {
      "text/html": [
       "<pre style=\"white-space:pre;overflow-x:auto;line-height:normal;font-family:Menlo,'DejaVu Sans Mono',consolas,'Courier New',monospace\"><span style=\"color: #7fbfbf; text-decoration-color: #7fbfbf\">[05/22/25 20:02:22] </span><span style=\"color: #000080; text-decoration-color: #000080\">INFO    </span> ✓ <span style=\"color: #008080; text-decoration-color: #008080; font-weight: bold\">149.</span>txt → Basic\\Gemini\\<span style=\"color: #008080; text-decoration-color: #008080; font-weight: bold\">149.</span>cc                                        <a href=\"file://C:\\Users\\Tasnim\\AppData\\Local\\Temp\\ipykernel_16732\\1564753407.py\" target=\"_blank\"><span style=\"color: #7f7f7f; text-decoration-color: #7f7f7f\">1564753407.py</span></a><span style=\"color: #7f7f7f; text-decoration-color: #7f7f7f\">:</span><a href=\"file://C:\\Users\\Tasnim\\AppData\\Local\\Temp\\ipykernel_16732\\1564753407.py#9\" target=\"_blank\"><span style=\"color: #7f7f7f; text-decoration-color: #7f7f7f\">9</span></a>\n",
       "</pre>\n"
      ],
      "text/plain": [
       "\u001b[2;36m[05/22/25 20:02:22]\u001b[0m\u001b[2;36m \u001b[0m\u001b[34mINFO    \u001b[0m ✓ \u001b[1;36m149.\u001b[0mtxt → Basic\\Gemini\\\u001b[1;36m149.\u001b[0mcc                                        \u001b]8;id=823279;file://C:\\Users\\Tasnim\\AppData\\Local\\Temp\\ipykernel_16732\\1564753407.py\u001b\\\u001b[2m1564753407.py\u001b[0m\u001b]8;;\u001b\\\u001b[2m:\u001b[0m\u001b]8;id=537493;file://C:\\Users\\Tasnim\\AppData\\Local\\Temp\\ipykernel_16732\\1564753407.py#9\u001b\\\u001b[2m9\u001b[0m\u001b]8;;\u001b\\\n"
      ]
     },
     "metadata": {},
     "output_type": "display_data"
    },
    {
     "name": "stderr",
     "output_type": "stream",
     "text": [
      "Generating:  14%|█▍        | 56/400 [35:03<2:29:00, 25.99s/it]"
     ]
    },
    {
     "data": {
      "text/html": [
       "<pre style=\"white-space:pre;overflow-x:auto;line-height:normal;font-family:Menlo,'DejaVu Sans Mono',consolas,'Courier New',monospace\"><span style=\"color: #7fbfbf; text-decoration-color: #7fbfbf\">[05/22/25 20:03:21] </span><span style=\"color: #000080; text-decoration-color: #000080\">INFO    </span> ✓ <span style=\"color: #008080; text-decoration-color: #008080; font-weight: bold\">15.</span>txt → Basic\\Gemini\\<span style=\"color: #008080; text-decoration-color: #008080; font-weight: bold\">15.</span>cc                                          <a href=\"file://C:\\Users\\Tasnim\\AppData\\Local\\Temp\\ipykernel_16732\\1564753407.py\" target=\"_blank\"><span style=\"color: #7f7f7f; text-decoration-color: #7f7f7f\">1564753407.py</span></a><span style=\"color: #7f7f7f; text-decoration-color: #7f7f7f\">:</span><a href=\"file://C:\\Users\\Tasnim\\AppData\\Local\\Temp\\ipykernel_16732\\1564753407.py#9\" target=\"_blank\"><span style=\"color: #7f7f7f; text-decoration-color: #7f7f7f\">9</span></a>\n",
       "</pre>\n"
      ],
      "text/plain": [
       "\u001b[2;36m[05/22/25 20:03:21]\u001b[0m\u001b[2;36m \u001b[0m\u001b[34mINFO    \u001b[0m ✓ \u001b[1;36m15.\u001b[0mtxt → Basic\\Gemini\\\u001b[1;36m15.\u001b[0mcc                                          \u001b]8;id=304725;file://C:\\Users\\Tasnim\\AppData\\Local\\Temp\\ipykernel_16732\\1564753407.py\u001b\\\u001b[2m1564753407.py\u001b[0m\u001b]8;;\u001b\\\u001b[2m:\u001b[0m\u001b]8;id=296058;file://C:\\Users\\Tasnim\\AppData\\Local\\Temp\\ipykernel_16732\\1564753407.py#9\u001b\\\u001b[2m9\u001b[0m\u001b]8;;\u001b\\\n"
      ]
     },
     "metadata": {},
     "output_type": "display_data"
    },
    {
     "name": "stderr",
     "output_type": "stream",
     "text": [
      "Generating:  14%|█▍        | 57/400 [36:01<3:24:04, 35.70s/it]"
     ]
    },
    {
     "data": {
      "text/html": [
       "<pre style=\"white-space:pre;overflow-x:auto;line-height:normal;font-family:Menlo,'DejaVu Sans Mono',consolas,'Courier New',monospace\"><span style=\"color: #7fbfbf; text-decoration-color: #7fbfbf\">[05/22/25 20:03:41] </span><span style=\"color: #000080; text-decoration-color: #000080\">INFO    </span> ✓ <span style=\"color: #008080; text-decoration-color: #008080; font-weight: bold\">150.</span>txt → Basic\\Gemini\\<span style=\"color: #008080; text-decoration-color: #008080; font-weight: bold\">150.</span>cc                                        <a href=\"file://C:\\Users\\Tasnim\\AppData\\Local\\Temp\\ipykernel_16732\\1564753407.py\" target=\"_blank\"><span style=\"color: #7f7f7f; text-decoration-color: #7f7f7f\">1564753407.py</span></a><span style=\"color: #7f7f7f; text-decoration-color: #7f7f7f\">:</span><a href=\"file://C:\\Users\\Tasnim\\AppData\\Local\\Temp\\ipykernel_16732\\1564753407.py#9\" target=\"_blank\"><span style=\"color: #7f7f7f; text-decoration-color: #7f7f7f\">9</span></a>\n",
       "</pre>\n"
      ],
      "text/plain": [
       "\u001b[2;36m[05/22/25 20:03:41]\u001b[0m\u001b[2;36m \u001b[0m\u001b[34mINFO    \u001b[0m ✓ \u001b[1;36m150.\u001b[0mtxt → Basic\\Gemini\\\u001b[1;36m150.\u001b[0mcc                                        \u001b]8;id=486526;file://C:\\Users\\Tasnim\\AppData\\Local\\Temp\\ipykernel_16732\\1564753407.py\u001b\\\u001b[2m1564753407.py\u001b[0m\u001b]8;;\u001b\\\u001b[2m:\u001b[0m\u001b]8;id=537781;file://C:\\Users\\Tasnim\\AppData\\Local\\Temp\\ipykernel_16732\\1564753407.py#9\u001b\\\u001b[2m9\u001b[0m\u001b]8;;\u001b\\\n"
      ]
     },
     "metadata": {},
     "output_type": "display_data"
    },
    {
     "name": "stderr",
     "output_type": "stream",
     "text": [
      "Generating:  14%|█▍        | 58/400 [36:22<2:57:00, 31.05s/it]"
     ]
    },
    {
     "data": {
      "text/html": [
       "<pre style=\"white-space:pre;overflow-x:auto;line-height:normal;font-family:Menlo,'DejaVu Sans Mono',consolas,'Courier New',monospace\"><span style=\"color: #7fbfbf; text-decoration-color: #7fbfbf\">[05/22/25 20:03:59] </span><span style=\"color: #000080; text-decoration-color: #000080\">INFO    </span> ✓ <span style=\"color: #008080; text-decoration-color: #008080; font-weight: bold\">151.</span>txt → Basic\\Gemini\\<span style=\"color: #008080; text-decoration-color: #008080; font-weight: bold\">151.</span>cc                                        <a href=\"file://C:\\Users\\Tasnim\\AppData\\Local\\Temp\\ipykernel_16732\\1564753407.py\" target=\"_blank\"><span style=\"color: #7f7f7f; text-decoration-color: #7f7f7f\">1564753407.py</span></a><span style=\"color: #7f7f7f; text-decoration-color: #7f7f7f\">:</span><a href=\"file://C:\\Users\\Tasnim\\AppData\\Local\\Temp\\ipykernel_16732\\1564753407.py#9\" target=\"_blank\"><span style=\"color: #7f7f7f; text-decoration-color: #7f7f7f\">9</span></a>\n",
       "</pre>\n"
      ],
      "text/plain": [
       "\u001b[2;36m[05/22/25 20:03:59]\u001b[0m\u001b[2;36m \u001b[0m\u001b[34mINFO    \u001b[0m ✓ \u001b[1;36m151.\u001b[0mtxt → Basic\\Gemini\\\u001b[1;36m151.\u001b[0mcc                                        \u001b]8;id=229605;file://C:\\Users\\Tasnim\\AppData\\Local\\Temp\\ipykernel_16732\\1564753407.py\u001b\\\u001b[2m1564753407.py\u001b[0m\u001b]8;;\u001b\\\u001b[2m:\u001b[0m\u001b]8;id=386395;file://C:\\Users\\Tasnim\\AppData\\Local\\Temp\\ipykernel_16732\\1564753407.py#9\u001b\\\u001b[2m9\u001b[0m\u001b]8;;\u001b\\\n"
      ]
     },
     "metadata": {},
     "output_type": "display_data"
    },
    {
     "name": "stderr",
     "output_type": "stream",
     "text": [
      "Generating:  15%|█▍        | 59/400 [36:40<2:34:22, 27.16s/it]"
     ]
    },
    {
     "data": {
      "text/html": [
       "<pre style=\"white-space:pre;overflow-x:auto;line-height:normal;font-family:Menlo,'DejaVu Sans Mono',consolas,'Courier New',monospace\"><span style=\"color: #7fbfbf; text-decoration-color: #7fbfbf\">[05/22/25 20:04:17] </span><span style=\"color: #000080; text-decoration-color: #000080\">INFO    </span> ✓ <span style=\"color: #008080; text-decoration-color: #008080; font-weight: bold\">152.</span>txt → Basic\\Gemini\\<span style=\"color: #008080; text-decoration-color: #008080; font-weight: bold\">152.</span>cc                                        <a href=\"file://C:\\Users\\Tasnim\\AppData\\Local\\Temp\\ipykernel_16732\\1564753407.py\" target=\"_blank\"><span style=\"color: #7f7f7f; text-decoration-color: #7f7f7f\">1564753407.py</span></a><span style=\"color: #7f7f7f; text-decoration-color: #7f7f7f\">:</span><a href=\"file://C:\\Users\\Tasnim\\AppData\\Local\\Temp\\ipykernel_16732\\1564753407.py#9\" target=\"_blank\"><span style=\"color: #7f7f7f; text-decoration-color: #7f7f7f\">9</span></a>\n",
       "</pre>\n"
      ],
      "text/plain": [
       "\u001b[2;36m[05/22/25 20:04:17]\u001b[0m\u001b[2;36m \u001b[0m\u001b[34mINFO    \u001b[0m ✓ \u001b[1;36m152.\u001b[0mtxt → Basic\\Gemini\\\u001b[1;36m152.\u001b[0mcc                                        \u001b]8;id=505978;file://C:\\Users\\Tasnim\\AppData\\Local\\Temp\\ipykernel_16732\\1564753407.py\u001b\\\u001b[2m1564753407.py\u001b[0m\u001b]8;;\u001b\\\u001b[2m:\u001b[0m\u001b]8;id=854009;file://C:\\Users\\Tasnim\\AppData\\Local\\Temp\\ipykernel_16732\\1564753407.py#9\u001b\\\u001b[2m9\u001b[0m\u001b]8;;\u001b\\\n"
      ]
     },
     "metadata": {},
     "output_type": "display_data"
    },
    {
     "name": "stderr",
     "output_type": "stream",
     "text": [
      "Generating:  15%|█▌        | 60/400 [36:57<2:17:54, 24.34s/it]"
     ]
    },
    {
     "data": {
      "text/html": [
       "<pre style=\"white-space:pre;overflow-x:auto;line-height:normal;font-family:Menlo,'DejaVu Sans Mono',consolas,'Courier New',monospace\"><span style=\"color: #7fbfbf; text-decoration-color: #7fbfbf\">[05/22/25 20:04:42] </span><span style=\"color: #000080; text-decoration-color: #000080\">INFO    </span> ✓ <span style=\"color: #008080; text-decoration-color: #008080; font-weight: bold\">153.</span>txt → Basic\\Gemini\\<span style=\"color: #008080; text-decoration-color: #008080; font-weight: bold\">153.</span>cc                                        <a href=\"file://C:\\Users\\Tasnim\\AppData\\Local\\Temp\\ipykernel_16732\\1564753407.py\" target=\"_blank\"><span style=\"color: #7f7f7f; text-decoration-color: #7f7f7f\">1564753407.py</span></a><span style=\"color: #7f7f7f; text-decoration-color: #7f7f7f\">:</span><a href=\"file://C:\\Users\\Tasnim\\AppData\\Local\\Temp\\ipykernel_16732\\1564753407.py#9\" target=\"_blank\"><span style=\"color: #7f7f7f; text-decoration-color: #7f7f7f\">9</span></a>\n",
       "</pre>\n"
      ],
      "text/plain": [
       "\u001b[2;36m[05/22/25 20:04:42]\u001b[0m\u001b[2;36m \u001b[0m\u001b[34mINFO    \u001b[0m ✓ \u001b[1;36m153.\u001b[0mtxt → Basic\\Gemini\\\u001b[1;36m153.\u001b[0mcc                                        \u001b]8;id=759770;file://C:\\Users\\Tasnim\\AppData\\Local\\Temp\\ipykernel_16732\\1564753407.py\u001b\\\u001b[2m1564753407.py\u001b[0m\u001b]8;;\u001b\\\u001b[2m:\u001b[0m\u001b]8;id=952935;file://C:\\Users\\Tasnim\\AppData\\Local\\Temp\\ipykernel_16732\\1564753407.py#9\u001b\\\u001b[2m9\u001b[0m\u001b]8;;\u001b\\\n"
      ]
     },
     "metadata": {},
     "output_type": "display_data"
    },
    {
     "name": "stderr",
     "output_type": "stream",
     "text": [
      "Generating:  15%|█▌        | 61/400 [37:23<2:19:09, 24.63s/it]"
     ]
    },
    {
     "data": {
      "text/html": [
       "<pre style=\"white-space:pre;overflow-x:auto;line-height:normal;font-family:Menlo,'DejaVu Sans Mono',consolas,'Courier New',monospace\"><span style=\"color: #7fbfbf; text-decoration-color: #7fbfbf\">[05/22/25 20:05:35] </span><span style=\"color: #000080; text-decoration-color: #000080\">INFO    </span> ✓ <span style=\"color: #008080; text-decoration-color: #008080; font-weight: bold\">154.</span>txt → Basic\\Gemini\\<span style=\"color: #008080; text-decoration-color: #008080; font-weight: bold\">154.</span>cc                                        <a href=\"file://C:\\Users\\Tasnim\\AppData\\Local\\Temp\\ipykernel_16732\\1564753407.py\" target=\"_blank\"><span style=\"color: #7f7f7f; text-decoration-color: #7f7f7f\">1564753407.py</span></a><span style=\"color: #7f7f7f; text-decoration-color: #7f7f7f\">:</span><a href=\"file://C:\\Users\\Tasnim\\AppData\\Local\\Temp\\ipykernel_16732\\1564753407.py#9\" target=\"_blank\"><span style=\"color: #7f7f7f; text-decoration-color: #7f7f7f\">9</span></a>\n",
       "</pre>\n"
      ],
      "text/plain": [
       "\u001b[2;36m[05/22/25 20:05:35]\u001b[0m\u001b[2;36m \u001b[0m\u001b[34mINFO    \u001b[0m ✓ \u001b[1;36m154.\u001b[0mtxt → Basic\\Gemini\\\u001b[1;36m154.\u001b[0mcc                                        \u001b]8;id=948472;file://C:\\Users\\Tasnim\\AppData\\Local\\Temp\\ipykernel_16732\\1564753407.py\u001b\\\u001b[2m1564753407.py\u001b[0m\u001b]8;;\u001b\\\u001b[2m:\u001b[0m\u001b]8;id=178481;file://C:\\Users\\Tasnim\\AppData\\Local\\Temp\\ipykernel_16732\\1564753407.py#9\u001b\\\u001b[2m9\u001b[0m\u001b]8;;\u001b\\\n"
      ]
     },
     "metadata": {},
     "output_type": "display_data"
    },
    {
     "name": "stderr",
     "output_type": "stream",
     "text": [
      "Generating:  16%|█▌        | 62/400 [38:15<3:06:06, 33.04s/it]"
     ]
    },
    {
     "data": {
      "text/html": [
       "<pre style=\"white-space:pre;overflow-x:auto;line-height:normal;font-family:Menlo,'DejaVu Sans Mono',consolas,'Courier New',monospace\"><span style=\"color: #7fbfbf; text-decoration-color: #7fbfbf\">[05/22/25 20:06:41] </span><span style=\"color: #000080; text-decoration-color: #000080\">INFO    </span> ✓ <span style=\"color: #008080; text-decoration-color: #008080; font-weight: bold\">155.</span>txt → Basic\\Gemini\\<span style=\"color: #008080; text-decoration-color: #008080; font-weight: bold\">155.</span>cc                                        <a href=\"file://C:\\Users\\Tasnim\\AppData\\Local\\Temp\\ipykernel_16732\\1564753407.py\" target=\"_blank\"><span style=\"color: #7f7f7f; text-decoration-color: #7f7f7f\">1564753407.py</span></a><span style=\"color: #7f7f7f; text-decoration-color: #7f7f7f\">:</span><a href=\"file://C:\\Users\\Tasnim\\AppData\\Local\\Temp\\ipykernel_16732\\1564753407.py#9\" target=\"_blank\"><span style=\"color: #7f7f7f; text-decoration-color: #7f7f7f\">9</span></a>\n",
       "</pre>\n"
      ],
      "text/plain": [
       "\u001b[2;36m[05/22/25 20:06:41]\u001b[0m\u001b[2;36m \u001b[0m\u001b[34mINFO    \u001b[0m ✓ \u001b[1;36m155.\u001b[0mtxt → Basic\\Gemini\\\u001b[1;36m155.\u001b[0mcc                                        \u001b]8;id=151605;file://C:\\Users\\Tasnim\\AppData\\Local\\Temp\\ipykernel_16732\\1564753407.py\u001b\\\u001b[2m1564753407.py\u001b[0m\u001b]8;;\u001b\\\u001b[2m:\u001b[0m\u001b]8;id=605465;file://C:\\Users\\Tasnim\\AppData\\Local\\Temp\\ipykernel_16732\\1564753407.py#9\u001b\\\u001b[2m9\u001b[0m\u001b]8;;\u001b\\\n"
      ]
     },
     "metadata": {},
     "output_type": "display_data"
    },
    {
     "name": "stderr",
     "output_type": "stream",
     "text": [
      "Generating:  16%|█▌        | 63/400 [39:22<4:01:17, 42.96s/it]"
     ]
    },
    {
     "data": {
      "text/html": [
       "<pre style=\"white-space:pre;overflow-x:auto;line-height:normal;font-family:Menlo,'DejaVu Sans Mono',consolas,'Courier New',monospace\"><span style=\"color: #7fbfbf; text-decoration-color: #7fbfbf\">[05/22/25 20:07:44] </span><span style=\"color: #000080; text-decoration-color: #000080\">INFO    </span> ✓ <span style=\"color: #008080; text-decoration-color: #008080; font-weight: bold\">156.</span>txt → Basic\\Gemini\\<span style=\"color: #008080; text-decoration-color: #008080; font-weight: bold\">156.</span>cc                                        <a href=\"file://C:\\Users\\Tasnim\\AppData\\Local\\Temp\\ipykernel_16732\\1564753407.py\" target=\"_blank\"><span style=\"color: #7f7f7f; text-decoration-color: #7f7f7f\">1564753407.py</span></a><span style=\"color: #7f7f7f; text-decoration-color: #7f7f7f\">:</span><a href=\"file://C:\\Users\\Tasnim\\AppData\\Local\\Temp\\ipykernel_16732\\1564753407.py#9\" target=\"_blank\"><span style=\"color: #7f7f7f; text-decoration-color: #7f7f7f\">9</span></a>\n",
       "</pre>\n"
      ],
      "text/plain": [
       "\u001b[2;36m[05/22/25 20:07:44]\u001b[0m\u001b[2;36m \u001b[0m\u001b[34mINFO    \u001b[0m ✓ \u001b[1;36m156.\u001b[0mtxt → Basic\\Gemini\\\u001b[1;36m156.\u001b[0mcc                                        \u001b]8;id=880436;file://C:\\Users\\Tasnim\\AppData\\Local\\Temp\\ipykernel_16732\\1564753407.py\u001b\\\u001b[2m1564753407.py\u001b[0m\u001b]8;;\u001b\\\u001b[2m:\u001b[0m\u001b]8;id=950621;file://C:\\Users\\Tasnim\\AppData\\Local\\Temp\\ipykernel_16732\\1564753407.py#9\u001b\\\u001b[2m9\u001b[0m\u001b]8;;\u001b\\\n"
      ]
     },
     "metadata": {},
     "output_type": "display_data"
    },
    {
     "name": "stderr",
     "output_type": "stream",
     "text": [
      "Generating:  16%|█▌        | 64/400 [40:25<4:34:36, 49.04s/it]"
     ]
    },
    {
     "data": {
      "text/html": [
       "<pre style=\"white-space:pre;overflow-x:auto;line-height:normal;font-family:Menlo,'DejaVu Sans Mono',consolas,'Courier New',monospace\"><span style=\"color: #7fbfbf; text-decoration-color: #7fbfbf\">[05/22/25 20:09:03] </span><span style=\"color: #000080; text-decoration-color: #000080\">INFO    </span> ✓ <span style=\"color: #008080; text-decoration-color: #008080; font-weight: bold\">157.</span>txt → Basic\\Gemini\\<span style=\"color: #008080; text-decoration-color: #008080; font-weight: bold\">157.</span>cc                                        <a href=\"file://C:\\Users\\Tasnim\\AppData\\Local\\Temp\\ipykernel_16732\\1564753407.py\" target=\"_blank\"><span style=\"color: #7f7f7f; text-decoration-color: #7f7f7f\">1564753407.py</span></a><span style=\"color: #7f7f7f; text-decoration-color: #7f7f7f\">:</span><a href=\"file://C:\\Users\\Tasnim\\AppData\\Local\\Temp\\ipykernel_16732\\1564753407.py#9\" target=\"_blank\"><span style=\"color: #7f7f7f; text-decoration-color: #7f7f7f\">9</span></a>\n",
       "</pre>\n"
      ],
      "text/plain": [
       "\u001b[2;36m[05/22/25 20:09:03]\u001b[0m\u001b[2;36m \u001b[0m\u001b[34mINFO    \u001b[0m ✓ \u001b[1;36m157.\u001b[0mtxt → Basic\\Gemini\\\u001b[1;36m157.\u001b[0mcc                                        \u001b]8;id=69732;file://C:\\Users\\Tasnim\\AppData\\Local\\Temp\\ipykernel_16732\\1564753407.py\u001b\\\u001b[2m1564753407.py\u001b[0m\u001b]8;;\u001b\\\u001b[2m:\u001b[0m\u001b]8;id=273746;file://C:\\Users\\Tasnim\\AppData\\Local\\Temp\\ipykernel_16732\\1564753407.py#9\u001b\\\u001b[2m9\u001b[0m\u001b]8;;\u001b\\\n"
      ]
     },
     "metadata": {},
     "output_type": "display_data"
    },
    {
     "name": "stderr",
     "output_type": "stream",
     "text": [
      "Generating:  16%|█▋        | 65/400 [41:44<5:23:47, 57.99s/it]"
     ]
    },
    {
     "data": {
      "text/html": [
       "<pre style=\"white-space:pre;overflow-x:auto;line-height:normal;font-family:Menlo,'DejaVu Sans Mono',consolas,'Courier New',monospace\"><span style=\"color: #7fbfbf; text-decoration-color: #7fbfbf\">[05/22/25 20:09:38] </span><span style=\"color: #000080; text-decoration-color: #000080\">INFO    </span> ✓ <span style=\"color: #008080; text-decoration-color: #008080; font-weight: bold\">158.</span>txt → Basic\\Gemini\\<span style=\"color: #008080; text-decoration-color: #008080; font-weight: bold\">158.</span>cc                                        <a href=\"file://C:\\Users\\Tasnim\\AppData\\Local\\Temp\\ipykernel_16732\\1564753407.py\" target=\"_blank\"><span style=\"color: #7f7f7f; text-decoration-color: #7f7f7f\">1564753407.py</span></a><span style=\"color: #7f7f7f; text-decoration-color: #7f7f7f\">:</span><a href=\"file://C:\\Users\\Tasnim\\AppData\\Local\\Temp\\ipykernel_16732\\1564753407.py#9\" target=\"_blank\"><span style=\"color: #7f7f7f; text-decoration-color: #7f7f7f\">9</span></a>\n",
       "</pre>\n"
      ],
      "text/plain": [
       "\u001b[2;36m[05/22/25 20:09:38]\u001b[0m\u001b[2;36m \u001b[0m\u001b[34mINFO    \u001b[0m ✓ \u001b[1;36m158.\u001b[0mtxt → Basic\\Gemini\\\u001b[1;36m158.\u001b[0mcc                                        \u001b]8;id=100178;file://C:\\Users\\Tasnim\\AppData\\Local\\Temp\\ipykernel_16732\\1564753407.py\u001b\\\u001b[2m1564753407.py\u001b[0m\u001b]8;;\u001b\\\u001b[2m:\u001b[0m\u001b]8;id=528769;file://C:\\Users\\Tasnim\\AppData\\Local\\Temp\\ipykernel_16732\\1564753407.py#9\u001b\\\u001b[2m9\u001b[0m\u001b]8;;\u001b\\\n"
      ]
     },
     "metadata": {},
     "output_type": "display_data"
    },
    {
     "name": "stderr",
     "output_type": "stream",
     "text": [
      "Generating:  16%|█▋        | 66/400 [42:19<4:45:16, 51.25s/it]"
     ]
    },
    {
     "data": {
      "text/html": [
       "<pre style=\"white-space:pre;overflow-x:auto;line-height:normal;font-family:Menlo,'DejaVu Sans Mono',consolas,'Courier New',monospace\"><span style=\"color: #7fbfbf; text-decoration-color: #7fbfbf\">[05/22/25 20:10:13] </span><span style=\"color: #000080; text-decoration-color: #000080\">INFO    </span> ✓ <span style=\"color: #008080; text-decoration-color: #008080; font-weight: bold\">159.</span>txt → Basic\\Gemini\\<span style=\"color: #008080; text-decoration-color: #008080; font-weight: bold\">159.</span>cc                                        <a href=\"file://C:\\Users\\Tasnim\\AppData\\Local\\Temp\\ipykernel_16732\\1564753407.py\" target=\"_blank\"><span style=\"color: #7f7f7f; text-decoration-color: #7f7f7f\">1564753407.py</span></a><span style=\"color: #7f7f7f; text-decoration-color: #7f7f7f\">:</span><a href=\"file://C:\\Users\\Tasnim\\AppData\\Local\\Temp\\ipykernel_16732\\1564753407.py#9\" target=\"_blank\"><span style=\"color: #7f7f7f; text-decoration-color: #7f7f7f\">9</span></a>\n",
       "</pre>\n"
      ],
      "text/plain": [
       "\u001b[2;36m[05/22/25 20:10:13]\u001b[0m\u001b[2;36m \u001b[0m\u001b[34mINFO    \u001b[0m ✓ \u001b[1;36m159.\u001b[0mtxt → Basic\\Gemini\\\u001b[1;36m159.\u001b[0mcc                                        \u001b]8;id=68847;file://C:\\Users\\Tasnim\\AppData\\Local\\Temp\\ipykernel_16732\\1564753407.py\u001b\\\u001b[2m1564753407.py\u001b[0m\u001b]8;;\u001b\\\u001b[2m:\u001b[0m\u001b]8;id=655324;file://C:\\Users\\Tasnim\\AppData\\Local\\Temp\\ipykernel_16732\\1564753407.py#9\u001b\\\u001b[2m9\u001b[0m\u001b]8;;\u001b\\\n"
      ]
     },
     "metadata": {},
     "output_type": "display_data"
    },
    {
     "name": "stderr",
     "output_type": "stream",
     "text": [
      "Generating:  17%|█▋        | 67/400 [42:53<4:16:11, 46.16s/it]"
     ]
    },
    {
     "data": {
      "text/html": [
       "<pre style=\"white-space:pre;overflow-x:auto;line-height:normal;font-family:Menlo,'DejaVu Sans Mono',consolas,'Courier New',monospace\"><span style=\"color: #7fbfbf; text-decoration-color: #7fbfbf\">[05/22/25 20:11:05] </span><span style=\"color: #000080; text-decoration-color: #000080\">INFO    </span> ✓ <span style=\"color: #008080; text-decoration-color: #008080; font-weight: bold\">16.</span>txt → Basic\\Gemini\\<span style=\"color: #008080; text-decoration-color: #008080; font-weight: bold\">16.</span>cc                                          <a href=\"file://C:\\Users\\Tasnim\\AppData\\Local\\Temp\\ipykernel_16732\\1564753407.py\" target=\"_blank\"><span style=\"color: #7f7f7f; text-decoration-color: #7f7f7f\">1564753407.py</span></a><span style=\"color: #7f7f7f; text-decoration-color: #7f7f7f\">:</span><a href=\"file://C:\\Users\\Tasnim\\AppData\\Local\\Temp\\ipykernel_16732\\1564753407.py#9\" target=\"_blank\"><span style=\"color: #7f7f7f; text-decoration-color: #7f7f7f\">9</span></a>\n",
       "</pre>\n"
      ],
      "text/plain": [
       "\u001b[2;36m[05/22/25 20:11:05]\u001b[0m\u001b[2;36m \u001b[0m\u001b[34mINFO    \u001b[0m ✓ \u001b[1;36m16.\u001b[0mtxt → Basic\\Gemini\\\u001b[1;36m16.\u001b[0mcc                                          \u001b]8;id=372146;file://C:\\Users\\Tasnim\\AppData\\Local\\Temp\\ipykernel_16732\\1564753407.py\u001b\\\u001b[2m1564753407.py\u001b[0m\u001b]8;;\u001b\\\u001b[2m:\u001b[0m\u001b]8;id=760206;file://C:\\Users\\Tasnim\\AppData\\Local\\Temp\\ipykernel_16732\\1564753407.py#9\u001b\\\u001b[2m9\u001b[0m\u001b]8;;\u001b\\\n"
      ]
     },
     "metadata": {},
     "output_type": "display_data"
    },
    {
     "name": "stderr",
     "output_type": "stream",
     "text": [
      "Generating:  17%|█▋        | 68/400 [43:46<4:25:25, 47.97s/it]"
     ]
    },
    {
     "data": {
      "text/html": [
       "<pre style=\"white-space:pre;overflow-x:auto;line-height:normal;font-family:Menlo,'DejaVu Sans Mono',consolas,'Courier New',monospace\"><span style=\"color: #7fbfbf; text-decoration-color: #7fbfbf\">[05/22/25 20:11:59] </span><span style=\"color: #000080; text-decoration-color: #000080\">INFO    </span> ✓ <span style=\"color: #008080; text-decoration-color: #008080; font-weight: bold\">160.</span>txt → Basic\\Gemini\\<span style=\"color: #008080; text-decoration-color: #008080; font-weight: bold\">160.</span>cc                                        <a href=\"file://C:\\Users\\Tasnim\\AppData\\Local\\Temp\\ipykernel_16732\\1564753407.py\" target=\"_blank\"><span style=\"color: #7f7f7f; text-decoration-color: #7f7f7f\">1564753407.py</span></a><span style=\"color: #7f7f7f; text-decoration-color: #7f7f7f\">:</span><a href=\"file://C:\\Users\\Tasnim\\AppData\\Local\\Temp\\ipykernel_16732\\1564753407.py#9\" target=\"_blank\"><span style=\"color: #7f7f7f; text-decoration-color: #7f7f7f\">9</span></a>\n",
       "</pre>\n"
      ],
      "text/plain": [
       "\u001b[2;36m[05/22/25 20:11:59]\u001b[0m\u001b[2;36m \u001b[0m\u001b[34mINFO    \u001b[0m ✓ \u001b[1;36m160.\u001b[0mtxt → Basic\\Gemini\\\u001b[1;36m160.\u001b[0mcc                                        \u001b]8;id=255049;file://C:\\Users\\Tasnim\\AppData\\Local\\Temp\\ipykernel_16732\\1564753407.py\u001b\\\u001b[2m1564753407.py\u001b[0m\u001b]8;;\u001b\\\u001b[2m:\u001b[0m\u001b]8;id=783168;file://C:\\Users\\Tasnim\\AppData\\Local\\Temp\\ipykernel_16732\\1564753407.py#9\u001b\\\u001b[2m9\u001b[0m\u001b]8;;\u001b\\\n"
      ]
     },
     "metadata": {},
     "output_type": "display_data"
    },
    {
     "name": "stderr",
     "output_type": "stream",
     "text": [
      "Generating:  17%|█▋        | 69/400 [44:39<4:34:25, 49.75s/it]"
     ]
    },
    {
     "data": {
      "text/html": [
       "<pre style=\"white-space:pre;overflow-x:auto;line-height:normal;font-family:Menlo,'DejaVu Sans Mono',consolas,'Courier New',monospace\"><span style=\"color: #7fbfbf; text-decoration-color: #7fbfbf\">[05/22/25 20:12:56] </span><span style=\"color: #000080; text-decoration-color: #000080\">INFO    </span> ✓ <span style=\"color: #008080; text-decoration-color: #008080; font-weight: bold\">161.</span>txt → Basic\\Gemini\\<span style=\"color: #008080; text-decoration-color: #008080; font-weight: bold\">161.</span>cc                                        <a href=\"file://C:\\Users\\Tasnim\\AppData\\Local\\Temp\\ipykernel_16732\\1564753407.py\" target=\"_blank\"><span style=\"color: #7f7f7f; text-decoration-color: #7f7f7f\">1564753407.py</span></a><span style=\"color: #7f7f7f; text-decoration-color: #7f7f7f\">:</span><a href=\"file://C:\\Users\\Tasnim\\AppData\\Local\\Temp\\ipykernel_16732\\1564753407.py#9\" target=\"_blank\"><span style=\"color: #7f7f7f; text-decoration-color: #7f7f7f\">9</span></a>\n",
       "</pre>\n"
      ],
      "text/plain": [
       "\u001b[2;36m[05/22/25 20:12:56]\u001b[0m\u001b[2;36m \u001b[0m\u001b[34mINFO    \u001b[0m ✓ \u001b[1;36m161.\u001b[0mtxt → Basic\\Gemini\\\u001b[1;36m161.\u001b[0mcc                                        \u001b]8;id=673993;file://C:\\Users\\Tasnim\\AppData\\Local\\Temp\\ipykernel_16732\\1564753407.py\u001b\\\u001b[2m1564753407.py\u001b[0m\u001b]8;;\u001b\\\u001b[2m:\u001b[0m\u001b]8;id=215986;file://C:\\Users\\Tasnim\\AppData\\Local\\Temp\\ipykernel_16732\\1564753407.py#9\u001b\\\u001b[2m9\u001b[0m\u001b]8;;\u001b\\\n"
      ]
     },
     "metadata": {},
     "output_type": "display_data"
    },
    {
     "name": "stderr",
     "output_type": "stream",
     "text": [
      "Generating:  18%|█▊        | 70/400 [45:37<4:46:29, 52.09s/it]"
     ]
    },
    {
     "data": {
      "text/html": [
       "<pre style=\"white-space:pre;overflow-x:auto;line-height:normal;font-family:Menlo,'DejaVu Sans Mono',consolas,'Courier New',monospace\"><span style=\"color: #7fbfbf; text-decoration-color: #7fbfbf\">[05/22/25 20:13:27] </span><span style=\"color: #000080; text-decoration-color: #000080\">INFO    </span> ✓ <span style=\"color: #008080; text-decoration-color: #008080; font-weight: bold\">162.</span>txt → Basic\\Gemini\\<span style=\"color: #008080; text-decoration-color: #008080; font-weight: bold\">162.</span>cc                                        <a href=\"file://C:\\Users\\Tasnim\\AppData\\Local\\Temp\\ipykernel_16732\\1564753407.py\" target=\"_blank\"><span style=\"color: #7f7f7f; text-decoration-color: #7f7f7f\">1564753407.py</span></a><span style=\"color: #7f7f7f; text-decoration-color: #7f7f7f\">:</span><a href=\"file://C:\\Users\\Tasnim\\AppData\\Local\\Temp\\ipykernel_16732\\1564753407.py#9\" target=\"_blank\"><span style=\"color: #7f7f7f; text-decoration-color: #7f7f7f\">9</span></a>\n",
       "</pre>\n"
      ],
      "text/plain": [
       "\u001b[2;36m[05/22/25 20:13:27]\u001b[0m\u001b[2;36m \u001b[0m\u001b[34mINFO    \u001b[0m ✓ \u001b[1;36m162.\u001b[0mtxt → Basic\\Gemini\\\u001b[1;36m162.\u001b[0mcc                                        \u001b]8;id=463515;file://C:\\Users\\Tasnim\\AppData\\Local\\Temp\\ipykernel_16732\\1564753407.py\u001b\\\u001b[2m1564753407.py\u001b[0m\u001b]8;;\u001b\\\u001b[2m:\u001b[0m\u001b]8;id=136034;file://C:\\Users\\Tasnim\\AppData\\Local\\Temp\\ipykernel_16732\\1564753407.py#9\u001b\\\u001b[2m9\u001b[0m\u001b]8;;\u001b\\\n"
      ]
     },
     "metadata": {},
     "output_type": "display_data"
    },
    {
     "name": "stderr",
     "output_type": "stream",
     "text": [
      "Generating:  18%|█▊        | 71/400 [46:08<4:10:53, 45.75s/it]"
     ]
    },
    {
     "data": {
      "text/html": [
       "<pre style=\"white-space:pre;overflow-x:auto;line-height:normal;font-family:Menlo,'DejaVu Sans Mono',consolas,'Courier New',monospace\"><span style=\"color: #7fbfbf; text-decoration-color: #7fbfbf\">[05/22/25 20:13:47] </span><span style=\"color: #000080; text-decoration-color: #000080\">INFO    </span> ✓ <span style=\"color: #008080; text-decoration-color: #008080; font-weight: bold\">163.</span>txt → Basic\\Gemini\\<span style=\"color: #008080; text-decoration-color: #008080; font-weight: bold\">163.</span>cc                                        <a href=\"file://C:\\Users\\Tasnim\\AppData\\Local\\Temp\\ipykernel_16732\\1564753407.py\" target=\"_blank\"><span style=\"color: #7f7f7f; text-decoration-color: #7f7f7f\">1564753407.py</span></a><span style=\"color: #7f7f7f; text-decoration-color: #7f7f7f\">:</span><a href=\"file://C:\\Users\\Tasnim\\AppData\\Local\\Temp\\ipykernel_16732\\1564753407.py#9\" target=\"_blank\"><span style=\"color: #7f7f7f; text-decoration-color: #7f7f7f\">9</span></a>\n",
       "</pre>\n"
      ],
      "text/plain": [
       "\u001b[2;36m[05/22/25 20:13:47]\u001b[0m\u001b[2;36m \u001b[0m\u001b[34mINFO    \u001b[0m ✓ \u001b[1;36m163.\u001b[0mtxt → Basic\\Gemini\\\u001b[1;36m163.\u001b[0mcc                                        \u001b]8;id=573090;file://C:\\Users\\Tasnim\\AppData\\Local\\Temp\\ipykernel_16732\\1564753407.py\u001b\\\u001b[2m1564753407.py\u001b[0m\u001b]8;;\u001b\\\u001b[2m:\u001b[0m\u001b]8;id=806364;file://C:\\Users\\Tasnim\\AppData\\Local\\Temp\\ipykernel_16732\\1564753407.py#9\u001b\\\u001b[2m9\u001b[0m\u001b]8;;\u001b\\\n"
      ]
     },
     "metadata": {},
     "output_type": "display_data"
    },
    {
     "name": "stderr",
     "output_type": "stream",
     "text": [
      "Generating:  18%|█▊        | 72/400 [46:27<3:26:58, 37.86s/it]"
     ]
    },
    {
     "data": {
      "text/html": [
       "<pre style=\"white-space:pre;overflow-x:auto;line-height:normal;font-family:Menlo,'DejaVu Sans Mono',consolas,'Courier New',monospace\"><span style=\"color: #7fbfbf; text-decoration-color: #7fbfbf\">[05/22/25 20:14:28] </span><span style=\"color: #000080; text-decoration-color: #000080\">INFO    </span> ✓ <span style=\"color: #008080; text-decoration-color: #008080; font-weight: bold\">164.</span>txt → Basic\\Gemini\\<span style=\"color: #008080; text-decoration-color: #008080; font-weight: bold\">164.</span>cc                                        <a href=\"file://C:\\Users\\Tasnim\\AppData\\Local\\Temp\\ipykernel_16732\\1564753407.py\" target=\"_blank\"><span style=\"color: #7f7f7f; text-decoration-color: #7f7f7f\">1564753407.py</span></a><span style=\"color: #7f7f7f; text-decoration-color: #7f7f7f\">:</span><a href=\"file://C:\\Users\\Tasnim\\AppData\\Local\\Temp\\ipykernel_16732\\1564753407.py#9\" target=\"_blank\"><span style=\"color: #7f7f7f; text-decoration-color: #7f7f7f\">9</span></a>\n",
       "</pre>\n"
      ],
      "text/plain": [
       "\u001b[2;36m[05/22/25 20:14:28]\u001b[0m\u001b[2;36m \u001b[0m\u001b[34mINFO    \u001b[0m ✓ \u001b[1;36m164.\u001b[0mtxt → Basic\\Gemini\\\u001b[1;36m164.\u001b[0mcc                                        \u001b]8;id=74167;file://C:\\Users\\Tasnim\\AppData\\Local\\Temp\\ipykernel_16732\\1564753407.py\u001b\\\u001b[2m1564753407.py\u001b[0m\u001b]8;;\u001b\\\u001b[2m:\u001b[0m\u001b]8;id=269011;file://C:\\Users\\Tasnim\\AppData\\Local\\Temp\\ipykernel_16732\\1564753407.py#9\u001b\\\u001b[2m9\u001b[0m\u001b]8;;\u001b\\\n"
      ]
     },
     "metadata": {},
     "output_type": "display_data"
    },
    {
     "name": "stderr",
     "output_type": "stream",
     "text": [
      "Generating:  18%|█▊        | 73/400 [47:08<3:31:22, 38.78s/it]"
     ]
    },
    {
     "data": {
      "text/html": [
       "<pre style=\"white-space:pre;overflow-x:auto;line-height:normal;font-family:Menlo,'DejaVu Sans Mono',consolas,'Courier New',monospace\"><span style=\"color: #7fbfbf; text-decoration-color: #7fbfbf\">[05/22/25 20:15:00] </span><span style=\"color: #000080; text-decoration-color: #000080\">INFO    </span> ✓ <span style=\"color: #008080; text-decoration-color: #008080; font-weight: bold\">165.</span>txt → Basic\\Gemini\\<span style=\"color: #008080; text-decoration-color: #008080; font-weight: bold\">165.</span>cc                                        <a href=\"file://C:\\Users\\Tasnim\\AppData\\Local\\Temp\\ipykernel_16732\\1564753407.py\" target=\"_blank\"><span style=\"color: #7f7f7f; text-decoration-color: #7f7f7f\">1564753407.py</span></a><span style=\"color: #7f7f7f; text-decoration-color: #7f7f7f\">:</span><a href=\"file://C:\\Users\\Tasnim\\AppData\\Local\\Temp\\ipykernel_16732\\1564753407.py#9\" target=\"_blank\"><span style=\"color: #7f7f7f; text-decoration-color: #7f7f7f\">9</span></a>\n",
       "</pre>\n"
      ],
      "text/plain": [
       "\u001b[2;36m[05/22/25 20:15:00]\u001b[0m\u001b[2;36m \u001b[0m\u001b[34mINFO    \u001b[0m ✓ \u001b[1;36m165.\u001b[0mtxt → Basic\\Gemini\\\u001b[1;36m165.\u001b[0mcc                                        \u001b]8;id=78374;file://C:\\Users\\Tasnim\\AppData\\Local\\Temp\\ipykernel_16732\\1564753407.py\u001b\\\u001b[2m1564753407.py\u001b[0m\u001b]8;;\u001b\\\u001b[2m:\u001b[0m\u001b]8;id=97584;file://C:\\Users\\Tasnim\\AppData\\Local\\Temp\\ipykernel_16732\\1564753407.py#9\u001b\\\u001b[2m9\u001b[0m\u001b]8;;\u001b\\\n"
      ]
     },
     "metadata": {},
     "output_type": "display_data"
    },
    {
     "name": "stderr",
     "output_type": "stream",
     "text": [
      "Generating:  18%|█▊        | 74/400 [47:41<3:20:26, 36.89s/it]"
     ]
    },
    {
     "data": {
      "text/html": [
       "<pre style=\"white-space:pre;overflow-x:auto;line-height:normal;font-family:Menlo,'DejaVu Sans Mono',consolas,'Courier New',monospace\"><span style=\"color: #7fbfbf; text-decoration-color: #7fbfbf\">[05/22/25 20:15:23] </span><span style=\"color: #000080; text-decoration-color: #000080\">INFO    </span> ✓ <span style=\"color: #008080; text-decoration-color: #008080; font-weight: bold\">166.</span>txt → Basic\\Gemini\\<span style=\"color: #008080; text-decoration-color: #008080; font-weight: bold\">166.</span>cc                                        <a href=\"file://C:\\Users\\Tasnim\\AppData\\Local\\Temp\\ipykernel_16732\\1564753407.py\" target=\"_blank\"><span style=\"color: #7f7f7f; text-decoration-color: #7f7f7f\">1564753407.py</span></a><span style=\"color: #7f7f7f; text-decoration-color: #7f7f7f\">:</span><a href=\"file://C:\\Users\\Tasnim\\AppData\\Local\\Temp\\ipykernel_16732\\1564753407.py#9\" target=\"_blank\"><span style=\"color: #7f7f7f; text-decoration-color: #7f7f7f\">9</span></a>\n",
       "</pre>\n"
      ],
      "text/plain": [
       "\u001b[2;36m[05/22/25 20:15:23]\u001b[0m\u001b[2;36m \u001b[0m\u001b[34mINFO    \u001b[0m ✓ \u001b[1;36m166.\u001b[0mtxt → Basic\\Gemini\\\u001b[1;36m166.\u001b[0mcc                                        \u001b]8;id=778965;file://C:\\Users\\Tasnim\\AppData\\Local\\Temp\\ipykernel_16732\\1564753407.py\u001b\\\u001b[2m1564753407.py\u001b[0m\u001b]8;;\u001b\\\u001b[2m:\u001b[0m\u001b]8;id=516319;file://C:\\Users\\Tasnim\\AppData\\Local\\Temp\\ipykernel_16732\\1564753407.py#9\u001b\\\u001b[2m9\u001b[0m\u001b]8;;\u001b\\\n"
      ]
     },
     "metadata": {},
     "output_type": "display_data"
    },
    {
     "name": "stderr",
     "output_type": "stream",
     "text": [
      "Generating:  19%|█▉        | 75/400 [48:04<2:57:06, 32.70s/it]"
     ]
    },
    {
     "data": {
      "text/html": [
       "<pre style=\"white-space:pre;overflow-x:auto;line-height:normal;font-family:Menlo,'DejaVu Sans Mono',consolas,'Courier New',monospace\"><span style=\"color: #7fbfbf; text-decoration-color: #7fbfbf\">[05/22/25 20:15:50] </span><span style=\"color: #000080; text-decoration-color: #000080\">INFO    </span> ✓ <span style=\"color: #008080; text-decoration-color: #008080; font-weight: bold\">167.</span>txt → Basic\\Gemini\\<span style=\"color: #008080; text-decoration-color: #008080; font-weight: bold\">167.</span>cc                                        <a href=\"file://C:\\Users\\Tasnim\\AppData\\Local\\Temp\\ipykernel_16732\\1564753407.py\" target=\"_blank\"><span style=\"color: #7f7f7f; text-decoration-color: #7f7f7f\">1564753407.py</span></a><span style=\"color: #7f7f7f; text-decoration-color: #7f7f7f\">:</span><a href=\"file://C:\\Users\\Tasnim\\AppData\\Local\\Temp\\ipykernel_16732\\1564753407.py#9\" target=\"_blank\"><span style=\"color: #7f7f7f; text-decoration-color: #7f7f7f\">9</span></a>\n",
       "</pre>\n"
      ],
      "text/plain": [
       "\u001b[2;36m[05/22/25 20:15:50]\u001b[0m\u001b[2;36m \u001b[0m\u001b[34mINFO    \u001b[0m ✓ \u001b[1;36m167.\u001b[0mtxt → Basic\\Gemini\\\u001b[1;36m167.\u001b[0mcc                                        \u001b]8;id=665728;file://C:\\Users\\Tasnim\\AppData\\Local\\Temp\\ipykernel_16732\\1564753407.py\u001b\\\u001b[2m1564753407.py\u001b[0m\u001b]8;;\u001b\\\u001b[2m:\u001b[0m\u001b]8;id=37522;file://C:\\Users\\Tasnim\\AppData\\Local\\Temp\\ipykernel_16732\\1564753407.py#9\u001b\\\u001b[2m9\u001b[0m\u001b]8;;\u001b\\\n"
      ]
     },
     "metadata": {},
     "output_type": "display_data"
    },
    {
     "name": "stderr",
     "output_type": "stream",
     "text": [
      "Generating:  19%|█▉        | 76/400 [48:30<2:46:45, 30.88s/it]"
     ]
    },
    {
     "data": {
      "text/html": [
       "<pre style=\"white-space:pre;overflow-x:auto;line-height:normal;font-family:Menlo,'DejaVu Sans Mono',consolas,'Courier New',monospace\"><span style=\"color: #7fbfbf; text-decoration-color: #7fbfbf\">[05/22/25 20:16:21] </span><span style=\"color: #000080; text-decoration-color: #000080\">INFO    </span> ✓ <span style=\"color: #008080; text-decoration-color: #008080; font-weight: bold\">168.</span>txt → Basic\\Gemini\\<span style=\"color: #008080; text-decoration-color: #008080; font-weight: bold\">168.</span>cc                                        <a href=\"file://C:\\Users\\Tasnim\\AppData\\Local\\Temp\\ipykernel_16732\\1564753407.py\" target=\"_blank\"><span style=\"color: #7f7f7f; text-decoration-color: #7f7f7f\">1564753407.py</span></a><span style=\"color: #7f7f7f; text-decoration-color: #7f7f7f\">:</span><a href=\"file://C:\\Users\\Tasnim\\AppData\\Local\\Temp\\ipykernel_16732\\1564753407.py#9\" target=\"_blank\"><span style=\"color: #7f7f7f; text-decoration-color: #7f7f7f\">9</span></a>\n",
       "</pre>\n"
      ],
      "text/plain": [
       "\u001b[2;36m[05/22/25 20:16:21]\u001b[0m\u001b[2;36m \u001b[0m\u001b[34mINFO    \u001b[0m ✓ \u001b[1;36m168.\u001b[0mtxt → Basic\\Gemini\\\u001b[1;36m168.\u001b[0mcc                                        \u001b]8;id=288265;file://C:\\Users\\Tasnim\\AppData\\Local\\Temp\\ipykernel_16732\\1564753407.py\u001b\\\u001b[2m1564753407.py\u001b[0m\u001b]8;;\u001b\\\u001b[2m:\u001b[0m\u001b]8;id=843197;file://C:\\Users\\Tasnim\\AppData\\Local\\Temp\\ipykernel_16732\\1564753407.py#9\u001b\\\u001b[2m9\u001b[0m\u001b]8;;\u001b\\\n"
      ]
     },
     "metadata": {},
     "output_type": "display_data"
    },
    {
     "name": "stderr",
     "output_type": "stream",
     "text": [
      "Generating:  19%|█▉        | 77/400 [49:02<2:47:18, 31.08s/it]"
     ]
    },
    {
     "data": {
      "text/html": [
       "<pre style=\"white-space:pre;overflow-x:auto;line-height:normal;font-family:Menlo,'DejaVu Sans Mono',consolas,'Courier New',monospace\"><span style=\"color: #7fbfbf; text-decoration-color: #7fbfbf\">[05/22/25 20:16:39] </span><span style=\"color: #000080; text-decoration-color: #000080\">INFO    </span> ✓ <span style=\"color: #008080; text-decoration-color: #008080; font-weight: bold\">169.</span>txt → Basic\\Gemini\\<span style=\"color: #008080; text-decoration-color: #008080; font-weight: bold\">169.</span>cc                                        <a href=\"file://C:\\Users\\Tasnim\\AppData\\Local\\Temp\\ipykernel_16732\\1564753407.py\" target=\"_blank\"><span style=\"color: #7f7f7f; text-decoration-color: #7f7f7f\">1564753407.py</span></a><span style=\"color: #7f7f7f; text-decoration-color: #7f7f7f\">:</span><a href=\"file://C:\\Users\\Tasnim\\AppData\\Local\\Temp\\ipykernel_16732\\1564753407.py#9\" target=\"_blank\"><span style=\"color: #7f7f7f; text-decoration-color: #7f7f7f\">9</span></a>\n",
       "</pre>\n"
      ],
      "text/plain": [
       "\u001b[2;36m[05/22/25 20:16:39]\u001b[0m\u001b[2;36m \u001b[0m\u001b[34mINFO    \u001b[0m ✓ \u001b[1;36m169.\u001b[0mtxt → Basic\\Gemini\\\u001b[1;36m169.\u001b[0mcc                                        \u001b]8;id=402306;file://C:\\Users\\Tasnim\\AppData\\Local\\Temp\\ipykernel_16732\\1564753407.py\u001b\\\u001b[2m1564753407.py\u001b[0m\u001b]8;;\u001b\\\u001b[2m:\u001b[0m\u001b]8;id=533476;file://C:\\Users\\Tasnim\\AppData\\Local\\Temp\\ipykernel_16732\\1564753407.py#9\u001b\\\u001b[2m9\u001b[0m\u001b]8;;\u001b\\\n"
      ]
     },
     "metadata": {},
     "output_type": "display_data"
    },
    {
     "name": "stderr",
     "output_type": "stream",
     "text": [
      "Generating:  20%|█▉        | 78/400 [49:20<2:26:00, 27.21s/it]"
     ]
    },
    {
     "data": {
      "text/html": [
       "<pre style=\"white-space:pre;overflow-x:auto;line-height:normal;font-family:Menlo,'DejaVu Sans Mono',consolas,'Courier New',monospace\"><span style=\"color: #7fbfbf; text-decoration-color: #7fbfbf\">[05/22/25 20:17:22] </span><span style=\"color: #000080; text-decoration-color: #000080\">INFO    </span> ✓ <span style=\"color: #008080; text-decoration-color: #008080; font-weight: bold\">17.</span>txt → Basic\\Gemini\\<span style=\"color: #008080; text-decoration-color: #008080; font-weight: bold\">17.</span>cc                                          <a href=\"file://C:\\Users\\Tasnim\\AppData\\Local\\Temp\\ipykernel_16732\\1564753407.py\" target=\"_blank\"><span style=\"color: #7f7f7f; text-decoration-color: #7f7f7f\">1564753407.py</span></a><span style=\"color: #7f7f7f; text-decoration-color: #7f7f7f\">:</span><a href=\"file://C:\\Users\\Tasnim\\AppData\\Local\\Temp\\ipykernel_16732\\1564753407.py#9\" target=\"_blank\"><span style=\"color: #7f7f7f; text-decoration-color: #7f7f7f\">9</span></a>\n",
       "</pre>\n"
      ],
      "text/plain": [
       "\u001b[2;36m[05/22/25 20:17:22]\u001b[0m\u001b[2;36m \u001b[0m\u001b[34mINFO    \u001b[0m ✓ \u001b[1;36m17.\u001b[0mtxt → Basic\\Gemini\\\u001b[1;36m17.\u001b[0mcc                                          \u001b]8;id=314921;file://C:\\Users\\Tasnim\\AppData\\Local\\Temp\\ipykernel_16732\\1564753407.py\u001b\\\u001b[2m1564753407.py\u001b[0m\u001b]8;;\u001b\\\u001b[2m:\u001b[0m\u001b]8;id=718694;file://C:\\Users\\Tasnim\\AppData\\Local\\Temp\\ipykernel_16732\\1564753407.py#9\u001b\\\u001b[2m9\u001b[0m\u001b]8;;\u001b\\\n"
      ]
     },
     "metadata": {},
     "output_type": "display_data"
    },
    {
     "name": "stderr",
     "output_type": "stream",
     "text": [
      "Generating:  20%|█▉        | 79/400 [50:03<2:50:08, 31.80s/it]"
     ]
    },
    {
     "data": {
      "text/html": [
       "<pre style=\"white-space:pre;overflow-x:auto;line-height:normal;font-family:Menlo,'DejaVu Sans Mono',consolas,'Courier New',monospace\"><span style=\"color: #7fbfbf; text-decoration-color: #7fbfbf\">[05/22/25 20:18:11] </span><span style=\"color: #000080; text-decoration-color: #000080\">INFO    </span> ✓ <span style=\"color: #008080; text-decoration-color: #008080; font-weight: bold\">170.</span>txt → Basic\\Gemini\\<span style=\"color: #008080; text-decoration-color: #008080; font-weight: bold\">170.</span>cc                                        <a href=\"file://C:\\Users\\Tasnim\\AppData\\Local\\Temp\\ipykernel_16732\\1564753407.py\" target=\"_blank\"><span style=\"color: #7f7f7f; text-decoration-color: #7f7f7f\">1564753407.py</span></a><span style=\"color: #7f7f7f; text-decoration-color: #7f7f7f\">:</span><a href=\"file://C:\\Users\\Tasnim\\AppData\\Local\\Temp\\ipykernel_16732\\1564753407.py#9\" target=\"_blank\"><span style=\"color: #7f7f7f; text-decoration-color: #7f7f7f\">9</span></a>\n",
       "</pre>\n"
      ],
      "text/plain": [
       "\u001b[2;36m[05/22/25 20:18:11]\u001b[0m\u001b[2;36m \u001b[0m\u001b[34mINFO    \u001b[0m ✓ \u001b[1;36m170.\u001b[0mtxt → Basic\\Gemini\\\u001b[1;36m170.\u001b[0mcc                                        \u001b]8;id=645491;file://C:\\Users\\Tasnim\\AppData\\Local\\Temp\\ipykernel_16732\\1564753407.py\u001b\\\u001b[2m1564753407.py\u001b[0m\u001b]8;;\u001b\\\u001b[2m:\u001b[0m\u001b]8;id=293267;file://C:\\Users\\Tasnim\\AppData\\Local\\Temp\\ipykernel_16732\\1564753407.py#9\u001b\\\u001b[2m9\u001b[0m\u001b]8;;\u001b\\\n"
      ]
     },
     "metadata": {},
     "output_type": "display_data"
    },
    {
     "name": "stderr",
     "output_type": "stream",
     "text": [
      "Generating:  20%|██        | 80/400 [50:51<3:16:47, 36.90s/it]"
     ]
    },
    {
     "data": {
      "text/html": [
       "<pre style=\"white-space:pre;overflow-x:auto;line-height:normal;font-family:Menlo,'DejaVu Sans Mono',consolas,'Courier New',monospace\"><span style=\"color: #7fbfbf; text-decoration-color: #7fbfbf\">[05/22/25 20:18:45] </span><span style=\"color: #000080; text-decoration-color: #000080\">INFO    </span> ✓ <span style=\"color: #008080; text-decoration-color: #008080; font-weight: bold\">171.</span>txt → Basic\\Gemini\\<span style=\"color: #008080; text-decoration-color: #008080; font-weight: bold\">171.</span>cc                                        <a href=\"file://C:\\Users\\Tasnim\\AppData\\Local\\Temp\\ipykernel_16732\\1564753407.py\" target=\"_blank\"><span style=\"color: #7f7f7f; text-decoration-color: #7f7f7f\">1564753407.py</span></a><span style=\"color: #7f7f7f; text-decoration-color: #7f7f7f\">:</span><a href=\"file://C:\\Users\\Tasnim\\AppData\\Local\\Temp\\ipykernel_16732\\1564753407.py#9\" target=\"_blank\"><span style=\"color: #7f7f7f; text-decoration-color: #7f7f7f\">9</span></a>\n",
       "</pre>\n"
      ],
      "text/plain": [
       "\u001b[2;36m[05/22/25 20:18:45]\u001b[0m\u001b[2;36m \u001b[0m\u001b[34mINFO    \u001b[0m ✓ \u001b[1;36m171.\u001b[0mtxt → Basic\\Gemini\\\u001b[1;36m171.\u001b[0mcc                                        \u001b]8;id=878643;file://C:\\Users\\Tasnim\\AppData\\Local\\Temp\\ipykernel_16732\\1564753407.py\u001b\\\u001b[2m1564753407.py\u001b[0m\u001b]8;;\u001b\\\u001b[2m:\u001b[0m\u001b]8;id=819761;file://C:\\Users\\Tasnim\\AppData\\Local\\Temp\\ipykernel_16732\\1564753407.py#9\u001b\\\u001b[2m9\u001b[0m\u001b]8;;\u001b\\\n"
      ]
     },
     "metadata": {},
     "output_type": "display_data"
    },
    {
     "name": "stderr",
     "output_type": "stream",
     "text": [
      "Generating:  20%|██        | 81/400 [51:26<3:12:34, 36.22s/it]"
     ]
    },
    {
     "data": {
      "text/html": [
       "<pre style=\"white-space:pre;overflow-x:auto;line-height:normal;font-family:Menlo,'DejaVu Sans Mono',consolas,'Courier New',monospace\"><span style=\"color: #7fbfbf; text-decoration-color: #7fbfbf\">[05/22/25 20:20:09] </span><span style=\"color: #000080; text-decoration-color: #000080\">INFO    </span> ✓ <span style=\"color: #008080; text-decoration-color: #008080; font-weight: bold\">172.</span>txt → Basic\\Gemini\\<span style=\"color: #008080; text-decoration-color: #008080; font-weight: bold\">172.</span>cc                                        <a href=\"file://C:\\Users\\Tasnim\\AppData\\Local\\Temp\\ipykernel_16732\\1564753407.py\" target=\"_blank\"><span style=\"color: #7f7f7f; text-decoration-color: #7f7f7f\">1564753407.py</span></a><span style=\"color: #7f7f7f; text-decoration-color: #7f7f7f\">:</span><a href=\"file://C:\\Users\\Tasnim\\AppData\\Local\\Temp\\ipykernel_16732\\1564753407.py#9\" target=\"_blank\"><span style=\"color: #7f7f7f; text-decoration-color: #7f7f7f\">9</span></a>\n",
       "</pre>\n"
      ],
      "text/plain": [
       "\u001b[2;36m[05/22/25 20:20:09]\u001b[0m\u001b[2;36m \u001b[0m\u001b[34mINFO    \u001b[0m ✓ \u001b[1;36m172.\u001b[0mtxt → Basic\\Gemini\\\u001b[1;36m172.\u001b[0mcc                                        \u001b]8;id=774595;file://C:\\Users\\Tasnim\\AppData\\Local\\Temp\\ipykernel_16732\\1564753407.py\u001b\\\u001b[2m1564753407.py\u001b[0m\u001b]8;;\u001b\\\u001b[2m:\u001b[0m\u001b]8;id=618663;file://C:\\Users\\Tasnim\\AppData\\Local\\Temp\\ipykernel_16732\\1564753407.py#9\u001b\\\u001b[2m9\u001b[0m\u001b]8;;\u001b\\\n"
      ]
     },
     "metadata": {},
     "output_type": "display_data"
    },
    {
     "name": "stderr",
     "output_type": "stream",
     "text": [
      "Generating:  20%|██        | 82/400 [52:49<4:26:49, 50.34s/it]"
     ]
    },
    {
     "data": {
      "text/html": [
       "<pre style=\"white-space:pre;overflow-x:auto;line-height:normal;font-family:Menlo,'DejaVu Sans Mono',consolas,'Courier New',monospace\"><span style=\"color: #7fbfbf; text-decoration-color: #7fbfbf\">[05/22/25 20:20:55] </span><span style=\"color: #000080; text-decoration-color: #000080\">INFO    </span> ✓ <span style=\"color: #008080; text-decoration-color: #008080; font-weight: bold\">173.</span>txt → Basic\\Gemini\\<span style=\"color: #008080; text-decoration-color: #008080; font-weight: bold\">173.</span>cc                                        <a href=\"file://C:\\Users\\Tasnim\\AppData\\Local\\Temp\\ipykernel_16732\\1564753407.py\" target=\"_blank\"><span style=\"color: #7f7f7f; text-decoration-color: #7f7f7f\">1564753407.py</span></a><span style=\"color: #7f7f7f; text-decoration-color: #7f7f7f\">:</span><a href=\"file://C:\\Users\\Tasnim\\AppData\\Local\\Temp\\ipykernel_16732\\1564753407.py#9\" target=\"_blank\"><span style=\"color: #7f7f7f; text-decoration-color: #7f7f7f\">9</span></a>\n",
       "</pre>\n"
      ],
      "text/plain": [
       "\u001b[2;36m[05/22/25 20:20:55]\u001b[0m\u001b[2;36m \u001b[0m\u001b[34mINFO    \u001b[0m ✓ \u001b[1;36m173.\u001b[0mtxt → Basic\\Gemini\\\u001b[1;36m173.\u001b[0mcc                                        \u001b]8;id=89591;file://C:\\Users\\Tasnim\\AppData\\Local\\Temp\\ipykernel_16732\\1564753407.py\u001b\\\u001b[2m1564753407.py\u001b[0m\u001b]8;;\u001b\\\u001b[2m:\u001b[0m\u001b]8;id=251177;file://C:\\Users\\Tasnim\\AppData\\Local\\Temp\\ipykernel_16732\\1564753407.py#9\u001b\\\u001b[2m9\u001b[0m\u001b]8;;\u001b\\\n"
      ]
     },
     "metadata": {},
     "output_type": "display_data"
    },
    {
     "name": "stderr",
     "output_type": "stream",
     "text": [
      "Generating:  21%|██        | 83/400 [53:35<4:19:01, 49.03s/it]"
     ]
    },
    {
     "data": {
      "text/html": [
       "<pre style=\"white-space:pre;overflow-x:auto;line-height:normal;font-family:Menlo,'DejaVu Sans Mono',consolas,'Courier New',monospace\"><span style=\"color: #7fbfbf; text-decoration-color: #7fbfbf\">[05/22/25 20:21:53] </span><span style=\"color: #000080; text-decoration-color: #000080\">INFO    </span> ✓ <span style=\"color: #008080; text-decoration-color: #008080; font-weight: bold\">174.</span>txt → Basic\\Gemini\\<span style=\"color: #008080; text-decoration-color: #008080; font-weight: bold\">174.</span>cc                                        <a href=\"file://C:\\Users\\Tasnim\\AppData\\Local\\Temp\\ipykernel_16732\\1564753407.py\" target=\"_blank\"><span style=\"color: #7f7f7f; text-decoration-color: #7f7f7f\">1564753407.py</span></a><span style=\"color: #7f7f7f; text-decoration-color: #7f7f7f\">:</span><a href=\"file://C:\\Users\\Tasnim\\AppData\\Local\\Temp\\ipykernel_16732\\1564753407.py#9\" target=\"_blank\"><span style=\"color: #7f7f7f; text-decoration-color: #7f7f7f\">9</span></a>\n",
       "</pre>\n"
      ],
      "text/plain": [
       "\u001b[2;36m[05/22/25 20:21:53]\u001b[0m\u001b[2;36m \u001b[0m\u001b[34mINFO    \u001b[0m ✓ \u001b[1;36m174.\u001b[0mtxt → Basic\\Gemini\\\u001b[1;36m174.\u001b[0mcc                                        \u001b]8;id=420108;file://C:\\Users\\Tasnim\\AppData\\Local\\Temp\\ipykernel_16732\\1564753407.py\u001b\\\u001b[2m1564753407.py\u001b[0m\u001b]8;;\u001b\\\u001b[2m:\u001b[0m\u001b]8;id=616512;file://C:\\Users\\Tasnim\\AppData\\Local\\Temp\\ipykernel_16732\\1564753407.py#9\u001b\\\u001b[2m9\u001b[0m\u001b]8;;\u001b\\\n"
      ]
     },
     "metadata": {},
     "output_type": "display_data"
    },
    {
     "name": "stderr",
     "output_type": "stream",
     "text": [
      "Generating:  21%|██        | 84/400 [54:34<4:33:25, 51.92s/it]"
     ]
    },
    {
     "data": {
      "text/html": [
       "<pre style=\"white-space:pre;overflow-x:auto;line-height:normal;font-family:Menlo,'DejaVu Sans Mono',consolas,'Courier New',monospace\"><span style=\"color: #7fbfbf; text-decoration-color: #7fbfbf\">[05/22/25 20:22:15] </span><span style=\"color: #000080; text-decoration-color: #000080\">INFO    </span> ✓ <span style=\"color: #008080; text-decoration-color: #008080; font-weight: bold\">175.</span>txt → Basic\\Gemini\\<span style=\"color: #008080; text-decoration-color: #008080; font-weight: bold\">175.</span>cc                                        <a href=\"file://C:\\Users\\Tasnim\\AppData\\Local\\Temp\\ipykernel_16732\\1564753407.py\" target=\"_blank\"><span style=\"color: #7f7f7f; text-decoration-color: #7f7f7f\">1564753407.py</span></a><span style=\"color: #7f7f7f; text-decoration-color: #7f7f7f\">:</span><a href=\"file://C:\\Users\\Tasnim\\AppData\\Local\\Temp\\ipykernel_16732\\1564753407.py#9\" target=\"_blank\"><span style=\"color: #7f7f7f; text-decoration-color: #7f7f7f\">9</span></a>\n",
       "</pre>\n"
      ],
      "text/plain": [
       "\u001b[2;36m[05/22/25 20:22:15]\u001b[0m\u001b[2;36m \u001b[0m\u001b[34mINFO    \u001b[0m ✓ \u001b[1;36m175.\u001b[0mtxt → Basic\\Gemini\\\u001b[1;36m175.\u001b[0mcc                                        \u001b]8;id=490733;file://C:\\Users\\Tasnim\\AppData\\Local\\Temp\\ipykernel_16732\\1564753407.py\u001b\\\u001b[2m1564753407.py\u001b[0m\u001b]8;;\u001b\\\u001b[2m:\u001b[0m\u001b]8;id=877276;file://C:\\Users\\Tasnim\\AppData\\Local\\Temp\\ipykernel_16732\\1564753407.py#9\u001b\\\u001b[2m9\u001b[0m\u001b]8;;\u001b\\\n"
      ]
     },
     "metadata": {},
     "output_type": "display_data"
    },
    {
     "name": "stderr",
     "output_type": "stream",
     "text": [
      "Generating:  21%|██▏       | 85/400 [54:56<3:45:21, 42.93s/it]"
     ]
    },
    {
     "data": {
      "text/html": [
       "<pre style=\"white-space:pre;overflow-x:auto;line-height:normal;font-family:Menlo,'DejaVu Sans Mono',consolas,'Courier New',monospace\"><span style=\"color: #7fbfbf; text-decoration-color: #7fbfbf\">[05/22/25 20:22:38] </span><span style=\"color: #000080; text-decoration-color: #000080\">INFO    </span> ✓ <span style=\"color: #008080; text-decoration-color: #008080; font-weight: bold\">176.</span>txt → Basic\\Gemini\\<span style=\"color: #008080; text-decoration-color: #008080; font-weight: bold\">176.</span>cc                                        <a href=\"file://C:\\Users\\Tasnim\\AppData\\Local\\Temp\\ipykernel_16732\\1564753407.py\" target=\"_blank\"><span style=\"color: #7f7f7f; text-decoration-color: #7f7f7f\">1564753407.py</span></a><span style=\"color: #7f7f7f; text-decoration-color: #7f7f7f\">:</span><a href=\"file://C:\\Users\\Tasnim\\AppData\\Local\\Temp\\ipykernel_16732\\1564753407.py#9\" target=\"_blank\"><span style=\"color: #7f7f7f; text-decoration-color: #7f7f7f\">9</span></a>\n",
       "</pre>\n"
      ],
      "text/plain": [
       "\u001b[2;36m[05/22/25 20:22:38]\u001b[0m\u001b[2;36m \u001b[0m\u001b[34mINFO    \u001b[0m ✓ \u001b[1;36m176.\u001b[0mtxt → Basic\\Gemini\\\u001b[1;36m176.\u001b[0mcc                                        \u001b]8;id=527018;file://C:\\Users\\Tasnim\\AppData\\Local\\Temp\\ipykernel_16732\\1564753407.py\u001b\\\u001b[2m1564753407.py\u001b[0m\u001b]8;;\u001b\\\u001b[2m:\u001b[0m\u001b]8;id=491858;file://C:\\Users\\Tasnim\\AppData\\Local\\Temp\\ipykernel_16732\\1564753407.py#9\u001b\\\u001b[2m9\u001b[0m\u001b]8;;\u001b\\\n"
      ]
     },
     "metadata": {},
     "output_type": "display_data"
    },
    {
     "name": "stderr",
     "output_type": "stream",
     "text": [
      "Generating:  22%|██▏       | 86/400 [55:19<3:13:07, 36.90s/it]"
     ]
    },
    {
     "data": {
      "text/html": [
       "<pre style=\"white-space:pre;overflow-x:auto;line-height:normal;font-family:Menlo,'DejaVu Sans Mono',consolas,'Courier New',monospace\"><span style=\"color: #7fbfbf; text-decoration-color: #7fbfbf\">[05/22/25 20:23:26] </span><span style=\"color: #000080; text-decoration-color: #000080\">INFO    </span> ✓ <span style=\"color: #008080; text-decoration-color: #008080; font-weight: bold\">177.</span>txt → Basic\\Gemini\\<span style=\"color: #008080; text-decoration-color: #008080; font-weight: bold\">177.</span>cc                                        <a href=\"file://C:\\Users\\Tasnim\\AppData\\Local\\Temp\\ipykernel_16732\\1564753407.py\" target=\"_blank\"><span style=\"color: #7f7f7f; text-decoration-color: #7f7f7f\">1564753407.py</span></a><span style=\"color: #7f7f7f; text-decoration-color: #7f7f7f\">:</span><a href=\"file://C:\\Users\\Tasnim\\AppData\\Local\\Temp\\ipykernel_16732\\1564753407.py#9\" target=\"_blank\"><span style=\"color: #7f7f7f; text-decoration-color: #7f7f7f\">9</span></a>\n",
       "</pre>\n"
      ],
      "text/plain": [
       "\u001b[2;36m[05/22/25 20:23:26]\u001b[0m\u001b[2;36m \u001b[0m\u001b[34mINFO    \u001b[0m ✓ \u001b[1;36m177.\u001b[0mtxt → Basic\\Gemini\\\u001b[1;36m177.\u001b[0mcc                                        \u001b]8;id=475201;file://C:\\Users\\Tasnim\\AppData\\Local\\Temp\\ipykernel_16732\\1564753407.py\u001b\\\u001b[2m1564753407.py\u001b[0m\u001b]8;;\u001b\\\u001b[2m:\u001b[0m\u001b]8;id=499288;file://C:\\Users\\Tasnim\\AppData\\Local\\Temp\\ipykernel_16732\\1564753407.py#9\u001b\\\u001b[2m9\u001b[0m\u001b]8;;\u001b\\\n"
      ]
     },
     "metadata": {},
     "output_type": "display_data"
    },
    {
     "name": "stderr",
     "output_type": "stream",
     "text": [
      "Generating:  22%|██▏       | 87/400 [56:07<3:30:20, 40.32s/it]"
     ]
    },
    {
     "data": {
      "text/html": [
       "<pre style=\"white-space:pre;overflow-x:auto;line-height:normal;font-family:Menlo,'DejaVu Sans Mono',consolas,'Courier New',monospace\"><span style=\"color: #7fbfbf; text-decoration-color: #7fbfbf\">[05/22/25 20:23:55] </span><span style=\"color: #000080; text-decoration-color: #000080\">INFO    </span> ✓ <span style=\"color: #008080; text-decoration-color: #008080; font-weight: bold\">178.</span>txt → Basic\\Gemini\\<span style=\"color: #008080; text-decoration-color: #008080; font-weight: bold\">178.</span>cc                                        <a href=\"file://C:\\Users\\Tasnim\\AppData\\Local\\Temp\\ipykernel_16732\\1564753407.py\" target=\"_blank\"><span style=\"color: #7f7f7f; text-decoration-color: #7f7f7f\">1564753407.py</span></a><span style=\"color: #7f7f7f; text-decoration-color: #7f7f7f\">:</span><a href=\"file://C:\\Users\\Tasnim\\AppData\\Local\\Temp\\ipykernel_16732\\1564753407.py#9\" target=\"_blank\"><span style=\"color: #7f7f7f; text-decoration-color: #7f7f7f\">9</span></a>\n",
       "</pre>\n"
      ],
      "text/plain": [
       "\u001b[2;36m[05/22/25 20:23:55]\u001b[0m\u001b[2;36m \u001b[0m\u001b[34mINFO    \u001b[0m ✓ \u001b[1;36m178.\u001b[0mtxt → Basic\\Gemini\\\u001b[1;36m178.\u001b[0mcc                                        \u001b]8;id=650808;file://C:\\Users\\Tasnim\\AppData\\Local\\Temp\\ipykernel_16732\\1564753407.py\u001b\\\u001b[2m1564753407.py\u001b[0m\u001b]8;;\u001b\\\u001b[2m:\u001b[0m\u001b]8;id=940227;file://C:\\Users\\Tasnim\\AppData\\Local\\Temp\\ipykernel_16732\\1564753407.py#9\u001b\\\u001b[2m9\u001b[0m\u001b]8;;\u001b\\\n"
      ]
     },
     "metadata": {},
     "output_type": "display_data"
    },
    {
     "name": "stderr",
     "output_type": "stream",
     "text": [
      "Generating:  22%|██▏       | 88/400 [56:36<3:11:28, 36.82s/it]"
     ]
    },
    {
     "data": {
      "text/html": [
       "<pre style=\"white-space:pre;overflow-x:auto;line-height:normal;font-family:Menlo,'DejaVu Sans Mono',consolas,'Courier New',monospace\"><span style=\"color: #7fbfbf; text-decoration-color: #7fbfbf\">[05/22/25 20:24:18] </span><span style=\"color: #000080; text-decoration-color: #000080\">INFO    </span> ✓ <span style=\"color: #008080; text-decoration-color: #008080; font-weight: bold\">179.</span>txt → Basic\\Gemini\\<span style=\"color: #008080; text-decoration-color: #008080; font-weight: bold\">179.</span>cc                                        <a href=\"file://C:\\Users\\Tasnim\\AppData\\Local\\Temp\\ipykernel_16732\\1564753407.py\" target=\"_blank\"><span style=\"color: #7f7f7f; text-decoration-color: #7f7f7f\">1564753407.py</span></a><span style=\"color: #7f7f7f; text-decoration-color: #7f7f7f\">:</span><a href=\"file://C:\\Users\\Tasnim\\AppData\\Local\\Temp\\ipykernel_16732\\1564753407.py#9\" target=\"_blank\"><span style=\"color: #7f7f7f; text-decoration-color: #7f7f7f\">9</span></a>\n",
       "</pre>\n"
      ],
      "text/plain": [
       "\u001b[2;36m[05/22/25 20:24:18]\u001b[0m\u001b[2;36m \u001b[0m\u001b[34mINFO    \u001b[0m ✓ \u001b[1;36m179.\u001b[0mtxt → Basic\\Gemini\\\u001b[1;36m179.\u001b[0mcc                                        \u001b]8;id=209144;file://C:\\Users\\Tasnim\\AppData\\Local\\Temp\\ipykernel_16732\\1564753407.py\u001b\\\u001b[2m1564753407.py\u001b[0m\u001b]8;;\u001b\\\u001b[2m:\u001b[0m\u001b]8;id=695482;file://C:\\Users\\Tasnim\\AppData\\Local\\Temp\\ipykernel_16732\\1564753407.py#9\u001b\\\u001b[2m9\u001b[0m\u001b]8;;\u001b\\\n"
      ]
     },
     "metadata": {},
     "output_type": "display_data"
    },
    {
     "name": "stderr",
     "output_type": "stream",
     "text": [
      "Generating:  22%|██▏       | 89/400 [56:58<2:48:57, 32.60s/it]"
     ]
    },
    {
     "data": {
      "text/html": [
       "<pre style=\"white-space:pre;overflow-x:auto;line-height:normal;font-family:Menlo,'DejaVu Sans Mono',consolas,'Courier New',monospace\"><span style=\"color: #7fbfbf; text-decoration-color: #7fbfbf\">[05/22/25 20:25:08] </span><span style=\"color: #000080; text-decoration-color: #000080\">INFO    </span> ✓ <span style=\"color: #008080; text-decoration-color: #008080; font-weight: bold\">18.</span>txt → Basic\\Gemini\\<span style=\"color: #008080; text-decoration-color: #008080; font-weight: bold\">18.</span>cc                                          <a href=\"file://C:\\Users\\Tasnim\\AppData\\Local\\Temp\\ipykernel_16732\\1564753407.py\" target=\"_blank\"><span style=\"color: #7f7f7f; text-decoration-color: #7f7f7f\">1564753407.py</span></a><span style=\"color: #7f7f7f; text-decoration-color: #7f7f7f\">:</span><a href=\"file://C:\\Users\\Tasnim\\AppData\\Local\\Temp\\ipykernel_16732\\1564753407.py#9\" target=\"_blank\"><span style=\"color: #7f7f7f; text-decoration-color: #7f7f7f\">9</span></a>\n",
       "</pre>\n"
      ],
      "text/plain": [
       "\u001b[2;36m[05/22/25 20:25:08]\u001b[0m\u001b[2;36m \u001b[0m\u001b[34mINFO    \u001b[0m ✓ \u001b[1;36m18.\u001b[0mtxt → Basic\\Gemini\\\u001b[1;36m18.\u001b[0mcc                                          \u001b]8;id=538079;file://C:\\Users\\Tasnim\\AppData\\Local\\Temp\\ipykernel_16732\\1564753407.py\u001b\\\u001b[2m1564753407.py\u001b[0m\u001b]8;;\u001b\\\u001b[2m:\u001b[0m\u001b]8;id=616152;file://C:\\Users\\Tasnim\\AppData\\Local\\Temp\\ipykernel_16732\\1564753407.py#9\u001b\\\u001b[2m9\u001b[0m\u001b]8;;\u001b\\\n"
      ]
     },
     "metadata": {},
     "output_type": "display_data"
    },
    {
     "name": "stderr",
     "output_type": "stream",
     "text": [
      "Generating:  22%|██▎       | 90/400 [57:49<3:16:38, 38.06s/it]"
     ]
    },
    {
     "data": {
      "text/html": [
       "<pre style=\"white-space:pre;overflow-x:auto;line-height:normal;font-family:Menlo,'DejaVu Sans Mono',consolas,'Courier New',monospace\"><span style=\"color: #7fbfbf; text-decoration-color: #7fbfbf\">[05/22/25 20:25:38] </span><span style=\"color: #000080; text-decoration-color: #000080\">INFO    </span> ✓ <span style=\"color: #008080; text-decoration-color: #008080; font-weight: bold\">180.</span>txt → Basic\\Gemini\\<span style=\"color: #008080; text-decoration-color: #008080; font-weight: bold\">180.</span>cc                                        <a href=\"file://C:\\Users\\Tasnim\\AppData\\Local\\Temp\\ipykernel_16732\\1564753407.py\" target=\"_blank\"><span style=\"color: #7f7f7f; text-decoration-color: #7f7f7f\">1564753407.py</span></a><span style=\"color: #7f7f7f; text-decoration-color: #7f7f7f\">:</span><a href=\"file://C:\\Users\\Tasnim\\AppData\\Local\\Temp\\ipykernel_16732\\1564753407.py#9\" target=\"_blank\"><span style=\"color: #7f7f7f; text-decoration-color: #7f7f7f\">9</span></a>\n",
       "</pre>\n"
      ],
      "text/plain": [
       "\u001b[2;36m[05/22/25 20:25:38]\u001b[0m\u001b[2;36m \u001b[0m\u001b[34mINFO    \u001b[0m ✓ \u001b[1;36m180.\u001b[0mtxt → Basic\\Gemini\\\u001b[1;36m180.\u001b[0mcc                                        \u001b]8;id=23821;file://C:\\Users\\Tasnim\\AppData\\Local\\Temp\\ipykernel_16732\\1564753407.py\u001b\\\u001b[2m1564753407.py\u001b[0m\u001b]8;;\u001b\\\u001b[2m:\u001b[0m\u001b]8;id=442297;file://C:\\Users\\Tasnim\\AppData\\Local\\Temp\\ipykernel_16732\\1564753407.py#9\u001b\\\u001b[2m9\u001b[0m\u001b]8;;\u001b\\\n"
      ]
     },
     "metadata": {},
     "output_type": "display_data"
    },
    {
     "name": "stderr",
     "output_type": "stream",
     "text": [
      "Generating:  23%|██▎       | 91/400 [58:19<3:03:12, 35.57s/it]"
     ]
    },
    {
     "data": {
      "text/html": [
       "<pre style=\"white-space:pre;overflow-x:auto;line-height:normal;font-family:Menlo,'DejaVu Sans Mono',consolas,'Courier New',monospace\"><span style=\"color: #7fbfbf; text-decoration-color: #7fbfbf\">[05/22/25 20:26:04] </span><span style=\"color: #000080; text-decoration-color: #000080\">INFO    </span> ✓ <span style=\"color: #008080; text-decoration-color: #008080; font-weight: bold\">181.</span>txt → Basic\\Gemini\\<span style=\"color: #008080; text-decoration-color: #008080; font-weight: bold\">181.</span>cc                                        <a href=\"file://C:\\Users\\Tasnim\\AppData\\Local\\Temp\\ipykernel_16732\\1564753407.py\" target=\"_blank\"><span style=\"color: #7f7f7f; text-decoration-color: #7f7f7f\">1564753407.py</span></a><span style=\"color: #7f7f7f; text-decoration-color: #7f7f7f\">:</span><a href=\"file://C:\\Users\\Tasnim\\AppData\\Local\\Temp\\ipykernel_16732\\1564753407.py#9\" target=\"_blank\"><span style=\"color: #7f7f7f; text-decoration-color: #7f7f7f\">9</span></a>\n",
       "</pre>\n"
      ],
      "text/plain": [
       "\u001b[2;36m[05/22/25 20:26:04]\u001b[0m\u001b[2;36m \u001b[0m\u001b[34mINFO    \u001b[0m ✓ \u001b[1;36m181.\u001b[0mtxt → Basic\\Gemini\\\u001b[1;36m181.\u001b[0mcc                                        \u001b]8;id=573509;file://C:\\Users\\Tasnim\\AppData\\Local\\Temp\\ipykernel_16732\\1564753407.py\u001b\\\u001b[2m1564753407.py\u001b[0m\u001b]8;;\u001b\\\u001b[2m:\u001b[0m\u001b]8;id=620996;file://C:\\Users\\Tasnim\\AppData\\Local\\Temp\\ipykernel_16732\\1564753407.py#9\u001b\\\u001b[2m9\u001b[0m\u001b]8;;\u001b\\\n"
      ]
     },
     "metadata": {},
     "output_type": "display_data"
    },
    {
     "name": "stderr",
     "output_type": "stream",
     "text": [
      "Generating:  23%|██▎       | 92/400 [58:45<2:47:36, 32.65s/it]"
     ]
    },
    {
     "data": {
      "text/html": [
       "<pre style=\"white-space:pre;overflow-x:auto;line-height:normal;font-family:Menlo,'DejaVu Sans Mono',consolas,'Courier New',monospace\"><span style=\"color: #7fbfbf; text-decoration-color: #7fbfbf\">[05/22/25 20:26:34] </span><span style=\"color: #000080; text-decoration-color: #000080\">INFO    </span> ✓ <span style=\"color: #008080; text-decoration-color: #008080; font-weight: bold\">182.</span>txt → Basic\\Gemini\\<span style=\"color: #008080; text-decoration-color: #008080; font-weight: bold\">182.</span>cc                                        <a href=\"file://C:\\Users\\Tasnim\\AppData\\Local\\Temp\\ipykernel_16732\\1564753407.py\" target=\"_blank\"><span style=\"color: #7f7f7f; text-decoration-color: #7f7f7f\">1564753407.py</span></a><span style=\"color: #7f7f7f; text-decoration-color: #7f7f7f\">:</span><a href=\"file://C:\\Users\\Tasnim\\AppData\\Local\\Temp\\ipykernel_16732\\1564753407.py#9\" target=\"_blank\"><span style=\"color: #7f7f7f; text-decoration-color: #7f7f7f\">9</span></a>\n",
       "</pre>\n"
      ],
      "text/plain": [
       "\u001b[2;36m[05/22/25 20:26:34]\u001b[0m\u001b[2;36m \u001b[0m\u001b[34mINFO    \u001b[0m ✓ \u001b[1;36m182.\u001b[0mtxt → Basic\\Gemini\\\u001b[1;36m182.\u001b[0mcc                                        \u001b]8;id=750460;file://C:\\Users\\Tasnim\\AppData\\Local\\Temp\\ipykernel_16732\\1564753407.py\u001b\\\u001b[2m1564753407.py\u001b[0m\u001b]8;;\u001b\\\u001b[2m:\u001b[0m\u001b]8;id=231776;file://C:\\Users\\Tasnim\\AppData\\Local\\Temp\\ipykernel_16732\\1564753407.py#9\u001b\\\u001b[2m9\u001b[0m\u001b]8;;\u001b\\\n"
      ]
     },
     "metadata": {},
     "output_type": "display_data"
    },
    {
     "name": "stderr",
     "output_type": "stream",
     "text": [
      "Generating:  23%|██▎       | 93/400 [59:15<2:42:37, 31.78s/it]"
     ]
    },
    {
     "data": {
      "text/html": [
       "<pre style=\"white-space:pre;overflow-x:auto;line-height:normal;font-family:Menlo,'DejaVu Sans Mono',consolas,'Courier New',monospace\"><span style=\"color: #7fbfbf; text-decoration-color: #7fbfbf\">[05/22/25 20:27:17] </span><span style=\"color: #000080; text-decoration-color: #000080\">INFO    </span> ✓ <span style=\"color: #008080; text-decoration-color: #008080; font-weight: bold\">183.</span>txt → Basic\\Gemini\\<span style=\"color: #008080; text-decoration-color: #008080; font-weight: bold\">183.</span>cc                                        <a href=\"file://C:\\Users\\Tasnim\\AppData\\Local\\Temp\\ipykernel_16732\\1564753407.py\" target=\"_blank\"><span style=\"color: #7f7f7f; text-decoration-color: #7f7f7f\">1564753407.py</span></a><span style=\"color: #7f7f7f; text-decoration-color: #7f7f7f\">:</span><a href=\"file://C:\\Users\\Tasnim\\AppData\\Local\\Temp\\ipykernel_16732\\1564753407.py#9\" target=\"_blank\"><span style=\"color: #7f7f7f; text-decoration-color: #7f7f7f\">9</span></a>\n",
       "</pre>\n"
      ],
      "text/plain": [
       "\u001b[2;36m[05/22/25 20:27:17]\u001b[0m\u001b[2;36m \u001b[0m\u001b[34mINFO    \u001b[0m ✓ \u001b[1;36m183.\u001b[0mtxt → Basic\\Gemini\\\u001b[1;36m183.\u001b[0mcc                                        \u001b]8;id=359659;file://C:\\Users\\Tasnim\\AppData\\Local\\Temp\\ipykernel_16732\\1564753407.py\u001b\\\u001b[2m1564753407.py\u001b[0m\u001b]8;;\u001b\\\u001b[2m:\u001b[0m\u001b]8;id=396896;file://C:\\Users\\Tasnim\\AppData\\Local\\Temp\\ipykernel_16732\\1564753407.py#9\u001b\\\u001b[2m9\u001b[0m\u001b]8;;\u001b\\\n"
      ]
     },
     "metadata": {},
     "output_type": "display_data"
    },
    {
     "name": "stderr",
     "output_type": "stream",
     "text": [
      "Generating:  24%|██▎       | 94/400 [59:57<2:58:45, 35.05s/it]"
     ]
    },
    {
     "data": {
      "text/html": [
       "<pre style=\"white-space:pre;overflow-x:auto;line-height:normal;font-family:Menlo,'DejaVu Sans Mono',consolas,'Courier New',monospace\"><span style=\"color: #7fbfbf; text-decoration-color: #7fbfbf\">[05/22/25 20:27:41] </span><span style=\"color: #000080; text-decoration-color: #000080\">INFO    </span> ✓ <span style=\"color: #008080; text-decoration-color: #008080; font-weight: bold\">184.</span>txt → Basic\\Gemini\\<span style=\"color: #008080; text-decoration-color: #008080; font-weight: bold\">184.</span>cc                                        <a href=\"file://C:\\Users\\Tasnim\\AppData\\Local\\Temp\\ipykernel_16732\\1564753407.py\" target=\"_blank\"><span style=\"color: #7f7f7f; text-decoration-color: #7f7f7f\">1564753407.py</span></a><span style=\"color: #7f7f7f; text-decoration-color: #7f7f7f\">:</span><a href=\"file://C:\\Users\\Tasnim\\AppData\\Local\\Temp\\ipykernel_16732\\1564753407.py#9\" target=\"_blank\"><span style=\"color: #7f7f7f; text-decoration-color: #7f7f7f\">9</span></a>\n",
       "</pre>\n"
      ],
      "text/plain": [
       "\u001b[2;36m[05/22/25 20:27:41]\u001b[0m\u001b[2;36m \u001b[0m\u001b[34mINFO    \u001b[0m ✓ \u001b[1;36m184.\u001b[0mtxt → Basic\\Gemini\\\u001b[1;36m184.\u001b[0mcc                                        \u001b]8;id=286650;file://C:\\Users\\Tasnim\\AppData\\Local\\Temp\\ipykernel_16732\\1564753407.py\u001b\\\u001b[2m1564753407.py\u001b[0m\u001b]8;;\u001b\\\u001b[2m:\u001b[0m\u001b]8;id=551582;file://C:\\Users\\Tasnim\\AppData\\Local\\Temp\\ipykernel_16732\\1564753407.py#9\u001b\\\u001b[2m9\u001b[0m\u001b]8;;\u001b\\\n"
      ]
     },
     "metadata": {},
     "output_type": "display_data"
    },
    {
     "name": "stderr",
     "output_type": "stream",
     "text": [
      "Generating:  24%|██▍       | 95/400 [1:00:22<2:41:55, 31.85s/it]"
     ]
    },
    {
     "data": {
      "text/html": [
       "<pre style=\"white-space:pre;overflow-x:auto;line-height:normal;font-family:Menlo,'DejaVu Sans Mono',consolas,'Courier New',monospace\"><span style=\"color: #7fbfbf; text-decoration-color: #7fbfbf\">[05/22/25 20:28:28] </span><span style=\"color: #000080; text-decoration-color: #000080\">INFO    </span> ✓ <span style=\"color: #008080; text-decoration-color: #008080; font-weight: bold\">185.</span>txt → Basic\\Gemini\\<span style=\"color: #008080; text-decoration-color: #008080; font-weight: bold\">185.</span>cc                                        <a href=\"file://C:\\Users\\Tasnim\\AppData\\Local\\Temp\\ipykernel_16732\\1564753407.py\" target=\"_blank\"><span style=\"color: #7f7f7f; text-decoration-color: #7f7f7f\">1564753407.py</span></a><span style=\"color: #7f7f7f; text-decoration-color: #7f7f7f\">:</span><a href=\"file://C:\\Users\\Tasnim\\AppData\\Local\\Temp\\ipykernel_16732\\1564753407.py#9\" target=\"_blank\"><span style=\"color: #7f7f7f; text-decoration-color: #7f7f7f\">9</span></a>\n",
       "</pre>\n"
      ],
      "text/plain": [
       "\u001b[2;36m[05/22/25 20:28:28]\u001b[0m\u001b[2;36m \u001b[0m\u001b[34mINFO    \u001b[0m ✓ \u001b[1;36m185.\u001b[0mtxt → Basic\\Gemini\\\u001b[1;36m185.\u001b[0mcc                                        \u001b]8;id=917143;file://C:\\Users\\Tasnim\\AppData\\Local\\Temp\\ipykernel_16732\\1564753407.py\u001b\\\u001b[2m1564753407.py\u001b[0m\u001b]8;;\u001b\\\u001b[2m:\u001b[0m\u001b]8;id=711993;file://C:\\Users\\Tasnim\\AppData\\Local\\Temp\\ipykernel_16732\\1564753407.py#9\u001b\\\u001b[2m9\u001b[0m\u001b]8;;\u001b\\\n"
      ]
     },
     "metadata": {},
     "output_type": "display_data"
    },
    {
     "name": "stderr",
     "output_type": "stream",
     "text": [
      "Generating:  24%|██▍       | 96/400 [1:01:09<3:04:17, 36.37s/it]"
     ]
    },
    {
     "data": {
      "text/html": [
       "<pre style=\"white-space:pre;overflow-x:auto;line-height:normal;font-family:Menlo,'DejaVu Sans Mono',consolas,'Courier New',monospace\"><span style=\"color: #7fbfbf; text-decoration-color: #7fbfbf\">[05/22/25 20:29:10] </span><span style=\"color: #000080; text-decoration-color: #000080\">INFO    </span> ✓ <span style=\"color: #008080; text-decoration-color: #008080; font-weight: bold\">186.</span>txt → Basic\\Gemini\\<span style=\"color: #008080; text-decoration-color: #008080; font-weight: bold\">186.</span>cc                                        <a href=\"file://C:\\Users\\Tasnim\\AppData\\Local\\Temp\\ipykernel_16732\\1564753407.py\" target=\"_blank\"><span style=\"color: #7f7f7f; text-decoration-color: #7f7f7f\">1564753407.py</span></a><span style=\"color: #7f7f7f; text-decoration-color: #7f7f7f\">:</span><a href=\"file://C:\\Users\\Tasnim\\AppData\\Local\\Temp\\ipykernel_16732\\1564753407.py#9\" target=\"_blank\"><span style=\"color: #7f7f7f; text-decoration-color: #7f7f7f\">9</span></a>\n",
       "</pre>\n"
      ],
      "text/plain": [
       "\u001b[2;36m[05/22/25 20:29:10]\u001b[0m\u001b[2;36m \u001b[0m\u001b[34mINFO    \u001b[0m ✓ \u001b[1;36m186.\u001b[0mtxt → Basic\\Gemini\\\u001b[1;36m186.\u001b[0mcc                                        \u001b]8;id=875510;file://C:\\Users\\Tasnim\\AppData\\Local\\Temp\\ipykernel_16732\\1564753407.py\u001b\\\u001b[2m1564753407.py\u001b[0m\u001b]8;;\u001b\\\u001b[2m:\u001b[0m\u001b]8;id=502370;file://C:\\Users\\Tasnim\\AppData\\Local\\Temp\\ipykernel_16732\\1564753407.py#9\u001b\\\u001b[2m9\u001b[0m\u001b]8;;\u001b\\\n"
      ]
     },
     "metadata": {},
     "output_type": "display_data"
    },
    {
     "name": "stderr",
     "output_type": "stream",
     "text": [
      "Generating:  24%|██▍       | 97/400 [1:01:51<3:13:05, 38.24s/it]"
     ]
    },
    {
     "data": {
      "text/html": [
       "<pre style=\"white-space:pre;overflow-x:auto;line-height:normal;font-family:Menlo,'DejaVu Sans Mono',consolas,'Courier New',monospace\"><span style=\"color: #7fbfbf; text-decoration-color: #7fbfbf\">[05/22/25 20:30:26] </span><span style=\"color: #000080; text-decoration-color: #000080\">INFO    </span> ✓ <span style=\"color: #008080; text-decoration-color: #008080; font-weight: bold\">187.</span>txt → Basic\\Gemini\\<span style=\"color: #008080; text-decoration-color: #008080; font-weight: bold\">187.</span>cc                                        <a href=\"file://C:\\Users\\Tasnim\\AppData\\Local\\Temp\\ipykernel_16732\\1564753407.py\" target=\"_blank\"><span style=\"color: #7f7f7f; text-decoration-color: #7f7f7f\">1564753407.py</span></a><span style=\"color: #7f7f7f; text-decoration-color: #7f7f7f\">:</span><a href=\"file://C:\\Users\\Tasnim\\AppData\\Local\\Temp\\ipykernel_16732\\1564753407.py#9\" target=\"_blank\"><span style=\"color: #7f7f7f; text-decoration-color: #7f7f7f\">9</span></a>\n",
       "</pre>\n"
      ],
      "text/plain": [
       "\u001b[2;36m[05/22/25 20:30:26]\u001b[0m\u001b[2;36m \u001b[0m\u001b[34mINFO    \u001b[0m ✓ \u001b[1;36m187.\u001b[0mtxt → Basic\\Gemini\\\u001b[1;36m187.\u001b[0mcc                                        \u001b]8;id=355974;file://C:\\Users\\Tasnim\\AppData\\Local\\Temp\\ipykernel_16732\\1564753407.py\u001b\\\u001b[2m1564753407.py\u001b[0m\u001b]8;;\u001b\\\u001b[2m:\u001b[0m\u001b]8;id=604124;file://C:\\Users\\Tasnim\\AppData\\Local\\Temp\\ipykernel_16732\\1564753407.py#9\u001b\\\u001b[2m9\u001b[0m\u001b]8;;\u001b\\\n"
      ]
     },
     "metadata": {},
     "output_type": "display_data"
    },
    {
     "name": "stderr",
     "output_type": "stream",
     "text": [
      "Generating:  24%|██▍       | 98/400 [1:03:07<4:09:33, 49.58s/it]"
     ]
    },
    {
     "data": {
      "text/html": [
       "<pre style=\"white-space:pre;overflow-x:auto;line-height:normal;font-family:Menlo,'DejaVu Sans Mono',consolas,'Courier New',monospace\"><span style=\"color: #7fbfbf; text-decoration-color: #7fbfbf\">[05/22/25 20:31:11] </span><span style=\"color: #000080; text-decoration-color: #000080\">INFO    </span> ✓ <span style=\"color: #008080; text-decoration-color: #008080; font-weight: bold\">188.</span>txt → Basic\\Gemini\\<span style=\"color: #008080; text-decoration-color: #008080; font-weight: bold\">188.</span>cc                                        <a href=\"file://C:\\Users\\Tasnim\\AppData\\Local\\Temp\\ipykernel_16732\\1564753407.py\" target=\"_blank\"><span style=\"color: #7f7f7f; text-decoration-color: #7f7f7f\">1564753407.py</span></a><span style=\"color: #7f7f7f; text-decoration-color: #7f7f7f\">:</span><a href=\"file://C:\\Users\\Tasnim\\AppData\\Local\\Temp\\ipykernel_16732\\1564753407.py#9\" target=\"_blank\"><span style=\"color: #7f7f7f; text-decoration-color: #7f7f7f\">9</span></a>\n",
       "</pre>\n"
      ],
      "text/plain": [
       "\u001b[2;36m[05/22/25 20:31:11]\u001b[0m\u001b[2;36m \u001b[0m\u001b[34mINFO    \u001b[0m ✓ \u001b[1;36m188.\u001b[0mtxt → Basic\\Gemini\\\u001b[1;36m188.\u001b[0mcc                                        \u001b]8;id=239845;file://C:\\Users\\Tasnim\\AppData\\Local\\Temp\\ipykernel_16732\\1564753407.py\u001b\\\u001b[2m1564753407.py\u001b[0m\u001b]8;;\u001b\\\u001b[2m:\u001b[0m\u001b]8;id=435697;file://C:\\Users\\Tasnim\\AppData\\Local\\Temp\\ipykernel_16732\\1564753407.py#9\u001b\\\u001b[2m9\u001b[0m\u001b]8;;\u001b\\\n"
      ]
     },
     "metadata": {},
     "output_type": "display_data"
    },
    {
     "name": "stderr",
     "output_type": "stream",
     "text": [
      "Generating:  25%|██▍       | 99/400 [1:03:52<4:01:15, 48.09s/it]"
     ]
    },
    {
     "data": {
      "text/html": [
       "<pre style=\"white-space:pre;overflow-x:auto;line-height:normal;font-family:Menlo,'DejaVu Sans Mono',consolas,'Courier New',monospace\"><span style=\"color: #7fbfbf; text-decoration-color: #7fbfbf\">[05/22/25 20:31:43] </span><span style=\"color: #000080; text-decoration-color: #000080\">INFO    </span> ✓ <span style=\"color: #008080; text-decoration-color: #008080; font-weight: bold\">189.</span>txt → Basic\\Gemini\\<span style=\"color: #008080; text-decoration-color: #008080; font-weight: bold\">189.</span>cc                                        <a href=\"file://C:\\Users\\Tasnim\\AppData\\Local\\Temp\\ipykernel_16732\\1564753407.py\" target=\"_blank\"><span style=\"color: #7f7f7f; text-decoration-color: #7f7f7f\">1564753407.py</span></a><span style=\"color: #7f7f7f; text-decoration-color: #7f7f7f\">:</span><a href=\"file://C:\\Users\\Tasnim\\AppData\\Local\\Temp\\ipykernel_16732\\1564753407.py#9\" target=\"_blank\"><span style=\"color: #7f7f7f; text-decoration-color: #7f7f7f\">9</span></a>\n",
       "</pre>\n"
      ],
      "text/plain": [
       "\u001b[2;36m[05/22/25 20:31:43]\u001b[0m\u001b[2;36m \u001b[0m\u001b[34mINFO    \u001b[0m ✓ \u001b[1;36m189.\u001b[0mtxt → Basic\\Gemini\\\u001b[1;36m189.\u001b[0mcc                                        \u001b]8;id=316299;file://C:\\Users\\Tasnim\\AppData\\Local\\Temp\\ipykernel_16732\\1564753407.py\u001b\\\u001b[2m1564753407.py\u001b[0m\u001b]8;;\u001b\\\u001b[2m:\u001b[0m\u001b]8;id=917511;file://C:\\Users\\Tasnim\\AppData\\Local\\Temp\\ipykernel_16732\\1564753407.py#9\u001b\\\u001b[2m9\u001b[0m\u001b]8;;\u001b\\\n"
      ]
     },
     "metadata": {},
     "output_type": "display_data"
    },
    {
     "name": "stderr",
     "output_type": "stream",
     "text": [
      "Generating:  25%|██▌       | 100/400 [1:04:24<3:36:02, 43.21s/it]"
     ]
    },
    {
     "data": {
      "text/html": [
       "<pre style=\"white-space:pre;overflow-x:auto;line-height:normal;font-family:Menlo,'DejaVu Sans Mono',consolas,'Courier New',monospace\"><span style=\"color: #7fbfbf; text-decoration-color: #7fbfbf\">[05/22/25 20:32:39] </span><span style=\"color: #000080; text-decoration-color: #000080\">INFO    </span> ✓ <span style=\"color: #008080; text-decoration-color: #008080; font-weight: bold\">19.</span>txt → Basic\\Gemini\\<span style=\"color: #008080; text-decoration-color: #008080; font-weight: bold\">19.</span>cc                                          <a href=\"file://C:\\Users\\Tasnim\\AppData\\Local\\Temp\\ipykernel_16732\\1564753407.py\" target=\"_blank\"><span style=\"color: #7f7f7f; text-decoration-color: #7f7f7f\">1564753407.py</span></a><span style=\"color: #7f7f7f; text-decoration-color: #7f7f7f\">:</span><a href=\"file://C:\\Users\\Tasnim\\AppData\\Local\\Temp\\ipykernel_16732\\1564753407.py#9\" target=\"_blank\"><span style=\"color: #7f7f7f; text-decoration-color: #7f7f7f\">9</span></a>\n",
       "</pre>\n"
      ],
      "text/plain": [
       "\u001b[2;36m[05/22/25 20:32:39]\u001b[0m\u001b[2;36m \u001b[0m\u001b[34mINFO    \u001b[0m ✓ \u001b[1;36m19.\u001b[0mtxt → Basic\\Gemini\\\u001b[1;36m19.\u001b[0mcc                                          \u001b]8;id=290737;file://C:\\Users\\Tasnim\\AppData\\Local\\Temp\\ipykernel_16732\\1564753407.py\u001b\\\u001b[2m1564753407.py\u001b[0m\u001b]8;;\u001b\\\u001b[2m:\u001b[0m\u001b]8;id=97011;file://C:\\Users\\Tasnim\\AppData\\Local\\Temp\\ipykernel_16732\\1564753407.py#9\u001b\\\u001b[2m9\u001b[0m\u001b]8;;\u001b\\\n"
      ]
     },
     "metadata": {},
     "output_type": "display_data"
    },
    {
     "name": "stderr",
     "output_type": "stream",
     "text": [
      "Generating:  25%|██▌       | 101/400 [1:05:20<3:55:21, 47.23s/it]"
     ]
    },
    {
     "data": {
      "text/html": [
       "<pre style=\"white-space:pre;overflow-x:auto;line-height:normal;font-family:Menlo,'DejaVu Sans Mono',consolas,'Courier New',monospace\"><span style=\"color: #7fbfbf; text-decoration-color: #7fbfbf\">[05/22/25 20:33:19] </span><span style=\"color: #000080; text-decoration-color: #000080\">INFO    </span> ✓ <span style=\"color: #008080; text-decoration-color: #008080; font-weight: bold\">190.</span>txt → Basic\\Gemini\\<span style=\"color: #008080; text-decoration-color: #008080; font-weight: bold\">190.</span>cc                                        <a href=\"file://C:\\Users\\Tasnim\\AppData\\Local\\Temp\\ipykernel_16732\\1564753407.py\" target=\"_blank\"><span style=\"color: #7f7f7f; text-decoration-color: #7f7f7f\">1564753407.py</span></a><span style=\"color: #7f7f7f; text-decoration-color: #7f7f7f\">:</span><a href=\"file://C:\\Users\\Tasnim\\AppData\\Local\\Temp\\ipykernel_16732\\1564753407.py#9\" target=\"_blank\"><span style=\"color: #7f7f7f; text-decoration-color: #7f7f7f\">9</span></a>\n",
       "</pre>\n"
      ],
      "text/plain": [
       "\u001b[2;36m[05/22/25 20:33:19]\u001b[0m\u001b[2;36m \u001b[0m\u001b[34mINFO    \u001b[0m ✓ \u001b[1;36m190.\u001b[0mtxt → Basic\\Gemini\\\u001b[1;36m190.\u001b[0mcc                                        \u001b]8;id=395;file://C:\\Users\\Tasnim\\AppData\\Local\\Temp\\ipykernel_16732\\1564753407.py\u001b\\\u001b[2m1564753407.py\u001b[0m\u001b]8;;\u001b\\\u001b[2m:\u001b[0m\u001b]8;id=875599;file://C:\\Users\\Tasnim\\AppData\\Local\\Temp\\ipykernel_16732\\1564753407.py#9\u001b\\\u001b[2m9\u001b[0m\u001b]8;;\u001b\\\n"
      ]
     },
     "metadata": {},
     "output_type": "display_data"
    },
    {
     "name": "stderr",
     "output_type": "stream",
     "text": [
      "Generating:  26%|██▌       | 102/400 [1:06:00<3:43:26, 44.99s/it]"
     ]
    },
    {
     "data": {
      "text/html": [
       "<pre style=\"white-space:pre;overflow-x:auto;line-height:normal;font-family:Menlo,'DejaVu Sans Mono',consolas,'Courier New',monospace\"><span style=\"color: #7fbfbf; text-decoration-color: #7fbfbf\">[05/22/25 20:34:05] </span><span style=\"color: #000080; text-decoration-color: #000080\">INFO    </span> ✓ <span style=\"color: #008080; text-decoration-color: #008080; font-weight: bold\">191.</span>txt → Basic\\Gemini\\<span style=\"color: #008080; text-decoration-color: #008080; font-weight: bold\">191.</span>cc                                        <a href=\"file://C:\\Users\\Tasnim\\AppData\\Local\\Temp\\ipykernel_16732\\1564753407.py\" target=\"_blank\"><span style=\"color: #7f7f7f; text-decoration-color: #7f7f7f\">1564753407.py</span></a><span style=\"color: #7f7f7f; text-decoration-color: #7f7f7f\">:</span><a href=\"file://C:\\Users\\Tasnim\\AppData\\Local\\Temp\\ipykernel_16732\\1564753407.py#9\" target=\"_blank\"><span style=\"color: #7f7f7f; text-decoration-color: #7f7f7f\">9</span></a>\n",
       "</pre>\n"
      ],
      "text/plain": [
       "\u001b[2;36m[05/22/25 20:34:05]\u001b[0m\u001b[2;36m \u001b[0m\u001b[34mINFO    \u001b[0m ✓ \u001b[1;36m191.\u001b[0mtxt → Basic\\Gemini\\\u001b[1;36m191.\u001b[0mcc                                        \u001b]8;id=521043;file://C:\\Users\\Tasnim\\AppData\\Local\\Temp\\ipykernel_16732\\1564753407.py\u001b\\\u001b[2m1564753407.py\u001b[0m\u001b]8;;\u001b\\\u001b[2m:\u001b[0m\u001b]8;id=900729;file://C:\\Users\\Tasnim\\AppData\\Local\\Temp\\ipykernel_16732\\1564753407.py#9\u001b\\\u001b[2m9\u001b[0m\u001b]8;;\u001b\\\n"
      ]
     },
     "metadata": {},
     "output_type": "display_data"
    },
    {
     "name": "stderr",
     "output_type": "stream",
     "text": [
      "Generating:  26%|██▌       | 103/400 [1:06:46<3:44:24, 45.33s/it]"
     ]
    },
    {
     "data": {
      "text/html": [
       "<pre style=\"white-space:pre;overflow-x:auto;line-height:normal;font-family:Menlo,'DejaVu Sans Mono',consolas,'Courier New',monospace\"><span style=\"color: #7fbfbf; text-decoration-color: #7fbfbf\">[05/22/25 20:34:48] </span><span style=\"color: #000080; text-decoration-color: #000080\">INFO    </span> ✓ <span style=\"color: #008080; text-decoration-color: #008080; font-weight: bold\">192.</span>txt → Basic\\Gemini\\<span style=\"color: #008080; text-decoration-color: #008080; font-weight: bold\">192.</span>cc                                        <a href=\"file://C:\\Users\\Tasnim\\AppData\\Local\\Temp\\ipykernel_16732\\1564753407.py\" target=\"_blank\"><span style=\"color: #7f7f7f; text-decoration-color: #7f7f7f\">1564753407.py</span></a><span style=\"color: #7f7f7f; text-decoration-color: #7f7f7f\">:</span><a href=\"file://C:\\Users\\Tasnim\\AppData\\Local\\Temp\\ipykernel_16732\\1564753407.py#9\" target=\"_blank\"><span style=\"color: #7f7f7f; text-decoration-color: #7f7f7f\">9</span></a>\n",
       "</pre>\n"
      ],
      "text/plain": [
       "\u001b[2;36m[05/22/25 20:34:48]\u001b[0m\u001b[2;36m \u001b[0m\u001b[34mINFO    \u001b[0m ✓ \u001b[1;36m192.\u001b[0mtxt → Basic\\Gemini\\\u001b[1;36m192.\u001b[0mcc                                        \u001b]8;id=867646;file://C:\\Users\\Tasnim\\AppData\\Local\\Temp\\ipykernel_16732\\1564753407.py\u001b\\\u001b[2m1564753407.py\u001b[0m\u001b]8;;\u001b\\\u001b[2m:\u001b[0m\u001b]8;id=63204;file://C:\\Users\\Tasnim\\AppData\\Local\\Temp\\ipykernel_16732\\1564753407.py#9\u001b\\\u001b[2m9\u001b[0m\u001b]8;;\u001b\\\n"
      ]
     },
     "metadata": {},
     "output_type": "display_data"
    },
    {
     "name": "stderr",
     "output_type": "stream",
     "text": [
      "Generating:  26%|██▌       | 104/400 [1:07:28<3:38:52, 44.37s/it]"
     ]
    },
    {
     "data": {
      "text/html": [
       "<pre style=\"white-space:pre;overflow-x:auto;line-height:normal;font-family:Menlo,'DejaVu Sans Mono',consolas,'Courier New',monospace\"><span style=\"color: #7fbfbf; text-decoration-color: #7fbfbf\">[05/22/25 20:35:10] </span><span style=\"color: #000080; text-decoration-color: #000080\">INFO    </span> ✓ <span style=\"color: #008080; text-decoration-color: #008080; font-weight: bold\">193.</span>txt → Basic\\Gemini\\<span style=\"color: #008080; text-decoration-color: #008080; font-weight: bold\">193.</span>cc                                        <a href=\"file://C:\\Users\\Tasnim\\AppData\\Local\\Temp\\ipykernel_16732\\1564753407.py\" target=\"_blank\"><span style=\"color: #7f7f7f; text-decoration-color: #7f7f7f\">1564753407.py</span></a><span style=\"color: #7f7f7f; text-decoration-color: #7f7f7f\">:</span><a href=\"file://C:\\Users\\Tasnim\\AppData\\Local\\Temp\\ipykernel_16732\\1564753407.py#9\" target=\"_blank\"><span style=\"color: #7f7f7f; text-decoration-color: #7f7f7f\">9</span></a>\n",
       "</pre>\n"
      ],
      "text/plain": [
       "\u001b[2;36m[05/22/25 20:35:10]\u001b[0m\u001b[2;36m \u001b[0m\u001b[34mINFO    \u001b[0m ✓ \u001b[1;36m193.\u001b[0mtxt → Basic\\Gemini\\\u001b[1;36m193.\u001b[0mcc                                        \u001b]8;id=863532;file://C:\\Users\\Tasnim\\AppData\\Local\\Temp\\ipykernel_16732\\1564753407.py\u001b\\\u001b[2m1564753407.py\u001b[0m\u001b]8;;\u001b\\\u001b[2m:\u001b[0m\u001b]8;id=24819;file://C:\\Users\\Tasnim\\AppData\\Local\\Temp\\ipykernel_16732\\1564753407.py#9\u001b\\\u001b[2m9\u001b[0m\u001b]8;;\u001b\\\n"
      ]
     },
     "metadata": {},
     "output_type": "display_data"
    },
    {
     "name": "stderr",
     "output_type": "stream",
     "text": [
      "Generating:  26%|██▋       | 105/400 [1:07:50<3:05:10, 37.66s/it]"
     ]
    },
    {
     "data": {
      "text/html": [
       "<pre style=\"white-space:pre;overflow-x:auto;line-height:normal;font-family:Menlo,'DejaVu Sans Mono',consolas,'Courier New',monospace\"><span style=\"color: #7fbfbf; text-decoration-color: #7fbfbf\">[05/22/25 20:35:53] </span><span style=\"color: #000080; text-decoration-color: #000080\">INFO    </span> ✓ <span style=\"color: #008080; text-decoration-color: #008080; font-weight: bold\">194.</span>txt → Basic\\Gemini\\<span style=\"color: #008080; text-decoration-color: #008080; font-weight: bold\">194.</span>cc                                        <a href=\"file://C:\\Users\\Tasnim\\AppData\\Local\\Temp\\ipykernel_16732\\1564753407.py\" target=\"_blank\"><span style=\"color: #7f7f7f; text-decoration-color: #7f7f7f\">1564753407.py</span></a><span style=\"color: #7f7f7f; text-decoration-color: #7f7f7f\">:</span><a href=\"file://C:\\Users\\Tasnim\\AppData\\Local\\Temp\\ipykernel_16732\\1564753407.py#9\" target=\"_blank\"><span style=\"color: #7f7f7f; text-decoration-color: #7f7f7f\">9</span></a>\n",
       "</pre>\n"
      ],
      "text/plain": [
       "\u001b[2;36m[05/22/25 20:35:53]\u001b[0m\u001b[2;36m \u001b[0m\u001b[34mINFO    \u001b[0m ✓ \u001b[1;36m194.\u001b[0mtxt → Basic\\Gemini\\\u001b[1;36m194.\u001b[0mcc                                        \u001b]8;id=624192;file://C:\\Users\\Tasnim\\AppData\\Local\\Temp\\ipykernel_16732\\1564753407.py\u001b\\\u001b[2m1564753407.py\u001b[0m\u001b]8;;\u001b\\\u001b[2m:\u001b[0m\u001b]8;id=929489;file://C:\\Users\\Tasnim\\AppData\\Local\\Temp\\ipykernel_16732\\1564753407.py#9\u001b\\\u001b[2m9\u001b[0m\u001b]8;;\u001b\\\n"
      ]
     },
     "metadata": {},
     "output_type": "display_data"
    },
    {
     "name": "stderr",
     "output_type": "stream",
     "text": [
      "Generating:  26%|██▋       | 106/400 [1:08:33<3:12:25, 39.27s/it]"
     ]
    },
    {
     "data": {
      "text/html": [
       "<pre style=\"white-space:pre;overflow-x:auto;line-height:normal;font-family:Menlo,'DejaVu Sans Mono',consolas,'Courier New',monospace\"><span style=\"color: #7fbfbf; text-decoration-color: #7fbfbf\">[05/22/25 20:36:16] </span><span style=\"color: #000080; text-decoration-color: #000080\">INFO    </span> ✓ <span style=\"color: #008080; text-decoration-color: #008080; font-weight: bold\">195.</span>txt → Basic\\Gemini\\<span style=\"color: #008080; text-decoration-color: #008080; font-weight: bold\">195.</span>cc                                        <a href=\"file://C:\\Users\\Tasnim\\AppData\\Local\\Temp\\ipykernel_16732\\1564753407.py\" target=\"_blank\"><span style=\"color: #7f7f7f; text-decoration-color: #7f7f7f\">1564753407.py</span></a><span style=\"color: #7f7f7f; text-decoration-color: #7f7f7f\">:</span><a href=\"file://C:\\Users\\Tasnim\\AppData\\Local\\Temp\\ipykernel_16732\\1564753407.py#9\" target=\"_blank\"><span style=\"color: #7f7f7f; text-decoration-color: #7f7f7f\">9</span></a>\n",
       "</pre>\n"
      ],
      "text/plain": [
       "\u001b[2;36m[05/22/25 20:36:16]\u001b[0m\u001b[2;36m \u001b[0m\u001b[34mINFO    \u001b[0m ✓ \u001b[1;36m195.\u001b[0mtxt → Basic\\Gemini\\\u001b[1;36m195.\u001b[0mcc                                        \u001b]8;id=454795;file://C:\\Users\\Tasnim\\AppData\\Local\\Temp\\ipykernel_16732\\1564753407.py\u001b\\\u001b[2m1564753407.py\u001b[0m\u001b]8;;\u001b\\\u001b[2m:\u001b[0m\u001b]8;id=120380;file://C:\\Users\\Tasnim\\AppData\\Local\\Temp\\ipykernel_16732\\1564753407.py#9\u001b\\\u001b[2m9\u001b[0m\u001b]8;;\u001b\\\n"
      ]
     },
     "metadata": {},
     "output_type": "display_data"
    },
    {
     "name": "stderr",
     "output_type": "stream",
     "text": [
      "Generating:  27%|██▋       | 107/400 [1:08:57<2:49:05, 34.63s/it]"
     ]
    },
    {
     "data": {
      "text/html": [
       "<pre style=\"white-space:pre;overflow-x:auto;line-height:normal;font-family:Menlo,'DejaVu Sans Mono',consolas,'Courier New',monospace\"><span style=\"color: #7fbfbf; text-decoration-color: #7fbfbf\">[05/22/25 20:37:01] </span><span style=\"color: #000080; text-decoration-color: #000080\">INFO    </span> ✓ <span style=\"color: #008080; text-decoration-color: #008080; font-weight: bold\">196.</span>txt → Basic\\Gemini\\<span style=\"color: #008080; text-decoration-color: #008080; font-weight: bold\">196.</span>cc                                        <a href=\"file://C:\\Users\\Tasnim\\AppData\\Local\\Temp\\ipykernel_16732\\1564753407.py\" target=\"_blank\"><span style=\"color: #7f7f7f; text-decoration-color: #7f7f7f\">1564753407.py</span></a><span style=\"color: #7f7f7f; text-decoration-color: #7f7f7f\">:</span><a href=\"file://C:\\Users\\Tasnim\\AppData\\Local\\Temp\\ipykernel_16732\\1564753407.py#9\" target=\"_blank\"><span style=\"color: #7f7f7f; text-decoration-color: #7f7f7f\">9</span></a>\n",
       "</pre>\n"
      ],
      "text/plain": [
       "\u001b[2;36m[05/22/25 20:37:01]\u001b[0m\u001b[2;36m \u001b[0m\u001b[34mINFO    \u001b[0m ✓ \u001b[1;36m196.\u001b[0mtxt → Basic\\Gemini\\\u001b[1;36m196.\u001b[0mcc                                        \u001b]8;id=917629;file://C:\\Users\\Tasnim\\AppData\\Local\\Temp\\ipykernel_16732\\1564753407.py\u001b\\\u001b[2m1564753407.py\u001b[0m\u001b]8;;\u001b\\\u001b[2m:\u001b[0m\u001b]8;id=216234;file://C:\\Users\\Tasnim\\AppData\\Local\\Temp\\ipykernel_16732\\1564753407.py#9\u001b\\\u001b[2m9\u001b[0m\u001b]8;;\u001b\\\n"
      ]
     },
     "metadata": {},
     "output_type": "display_data"
    },
    {
     "name": "stderr",
     "output_type": "stream",
     "text": [
      "Generating:  27%|██▋       | 108/400 [1:09:42<3:02:46, 37.56s/it]"
     ]
    },
    {
     "data": {
      "text/html": [
       "<pre style=\"white-space:pre;overflow-x:auto;line-height:normal;font-family:Menlo,'DejaVu Sans Mono',consolas,'Courier New',monospace\"><span style=\"color: #7fbfbf; text-decoration-color: #7fbfbf\">[05/22/25 20:37:31] </span><span style=\"color: #000080; text-decoration-color: #000080\">INFO    </span> ✓ <span style=\"color: #008080; text-decoration-color: #008080; font-weight: bold\">197.</span>txt → Basic\\Gemini\\<span style=\"color: #008080; text-decoration-color: #008080; font-weight: bold\">197.</span>cc                                        <a href=\"file://C:\\Users\\Tasnim\\AppData\\Local\\Temp\\ipykernel_16732\\1564753407.py\" target=\"_blank\"><span style=\"color: #7f7f7f; text-decoration-color: #7f7f7f\">1564753407.py</span></a><span style=\"color: #7f7f7f; text-decoration-color: #7f7f7f\">:</span><a href=\"file://C:\\Users\\Tasnim\\AppData\\Local\\Temp\\ipykernel_16732\\1564753407.py#9\" target=\"_blank\"><span style=\"color: #7f7f7f; text-decoration-color: #7f7f7f\">9</span></a>\n",
       "</pre>\n"
      ],
      "text/plain": [
       "\u001b[2;36m[05/22/25 20:37:31]\u001b[0m\u001b[2;36m \u001b[0m\u001b[34mINFO    \u001b[0m ✓ \u001b[1;36m197.\u001b[0mtxt → Basic\\Gemini\\\u001b[1;36m197.\u001b[0mcc                                        \u001b]8;id=723828;file://C:\\Users\\Tasnim\\AppData\\Local\\Temp\\ipykernel_16732\\1564753407.py\u001b\\\u001b[2m1564753407.py\u001b[0m\u001b]8;;\u001b\\\u001b[2m:\u001b[0m\u001b]8;id=829301;file://C:\\Users\\Tasnim\\AppData\\Local\\Temp\\ipykernel_16732\\1564753407.py#9\u001b\\\u001b[2m9\u001b[0m\u001b]8;;\u001b\\\n"
      ]
     },
     "metadata": {},
     "output_type": "display_data"
    },
    {
     "name": "stderr",
     "output_type": "stream",
     "text": [
      "Generating:  27%|██▋       | 109/400 [1:10:11<2:50:50, 35.22s/it]"
     ]
    },
    {
     "data": {
      "text/html": [
       "<pre style=\"white-space:pre;overflow-x:auto;line-height:normal;font-family:Menlo,'DejaVu Sans Mono',consolas,'Courier New',monospace\"><span style=\"color: #7fbfbf; text-decoration-color: #7fbfbf\">[05/22/25 20:37:56] </span><span style=\"color: #000080; text-decoration-color: #000080\">INFO    </span> ✓ <span style=\"color: #008080; text-decoration-color: #008080; font-weight: bold\">198.</span>txt → Basic\\Gemini\\<span style=\"color: #008080; text-decoration-color: #008080; font-weight: bold\">198.</span>cc                                        <a href=\"file://C:\\Users\\Tasnim\\AppData\\Local\\Temp\\ipykernel_16732\\1564753407.py\" target=\"_blank\"><span style=\"color: #7f7f7f; text-decoration-color: #7f7f7f\">1564753407.py</span></a><span style=\"color: #7f7f7f; text-decoration-color: #7f7f7f\">:</span><a href=\"file://C:\\Users\\Tasnim\\AppData\\Local\\Temp\\ipykernel_16732\\1564753407.py#9\" target=\"_blank\"><span style=\"color: #7f7f7f; text-decoration-color: #7f7f7f\">9</span></a>\n",
       "</pre>\n"
      ],
      "text/plain": [
       "\u001b[2;36m[05/22/25 20:37:56]\u001b[0m\u001b[2;36m \u001b[0m\u001b[34mINFO    \u001b[0m ✓ \u001b[1;36m198.\u001b[0mtxt → Basic\\Gemini\\\u001b[1;36m198.\u001b[0mcc                                        \u001b]8;id=360923;file://C:\\Users\\Tasnim\\AppData\\Local\\Temp\\ipykernel_16732\\1564753407.py\u001b\\\u001b[2m1564753407.py\u001b[0m\u001b]8;;\u001b\\\u001b[2m:\u001b[0m\u001b]8;id=463862;file://C:\\Users\\Tasnim\\AppData\\Local\\Temp\\ipykernel_16732\\1564753407.py#9\u001b\\\u001b[2m9\u001b[0m\u001b]8;;\u001b\\\n"
      ]
     },
     "metadata": {},
     "output_type": "display_data"
    },
    {
     "name": "stderr",
     "output_type": "stream",
     "text": [
      "Generating:  28%|██▊       | 110/400 [1:10:37<2:36:04, 32.29s/it]"
     ]
    },
    {
     "data": {
      "text/html": [
       "<pre style=\"white-space:pre;overflow-x:auto;line-height:normal;font-family:Menlo,'DejaVu Sans Mono',consolas,'Courier New',monospace\"><span style=\"color: #7fbfbf; text-decoration-color: #7fbfbf\">[05/22/25 20:38:33] </span><span style=\"color: #000080; text-decoration-color: #000080\">INFO    </span> ✓ <span style=\"color: #008080; text-decoration-color: #008080; font-weight: bold\">199.</span>txt → Basic\\Gemini\\<span style=\"color: #008080; text-decoration-color: #008080; font-weight: bold\">199.</span>cc                                        <a href=\"file://C:\\Users\\Tasnim\\AppData\\Local\\Temp\\ipykernel_16732\\1564753407.py\" target=\"_blank\"><span style=\"color: #7f7f7f; text-decoration-color: #7f7f7f\">1564753407.py</span></a><span style=\"color: #7f7f7f; text-decoration-color: #7f7f7f\">:</span><a href=\"file://C:\\Users\\Tasnim\\AppData\\Local\\Temp\\ipykernel_16732\\1564753407.py#9\" target=\"_blank\"><span style=\"color: #7f7f7f; text-decoration-color: #7f7f7f\">9</span></a>\n",
       "</pre>\n"
      ],
      "text/plain": [
       "\u001b[2;36m[05/22/25 20:38:33]\u001b[0m\u001b[2;36m \u001b[0m\u001b[34mINFO    \u001b[0m ✓ \u001b[1;36m199.\u001b[0mtxt → Basic\\Gemini\\\u001b[1;36m199.\u001b[0mcc                                        \u001b]8;id=837010;file://C:\\Users\\Tasnim\\AppData\\Local\\Temp\\ipykernel_16732\\1564753407.py\u001b\\\u001b[2m1564753407.py\u001b[0m\u001b]8;;\u001b\\\u001b[2m:\u001b[0m\u001b]8;id=941077;file://C:\\Users\\Tasnim\\AppData\\Local\\Temp\\ipykernel_16732\\1564753407.py#9\u001b\\\u001b[2m9\u001b[0m\u001b]8;;\u001b\\\n"
      ]
     },
     "metadata": {},
     "output_type": "display_data"
    },
    {
     "name": "stderr",
     "output_type": "stream",
     "text": [
      "Generating:  28%|██▊       | 111/400 [1:11:13<2:41:51, 33.60s/it]"
     ]
    },
    {
     "data": {
      "text/html": [
       "<pre style=\"white-space:pre;overflow-x:auto;line-height:normal;font-family:Menlo,'DejaVu Sans Mono',consolas,'Courier New',monospace\"><span style=\"color: #7fbfbf; text-decoration-color: #7fbfbf\">[05/22/25 20:38:42] </span><span style=\"color: #000080; text-decoration-color: #000080\">INFO    </span> ✓ <span style=\"color: #008080; text-decoration-color: #008080; font-weight: bold\">2.</span>txt → Basic\\Gemini\\<span style=\"color: #008080; text-decoration-color: #008080; font-weight: bold\">2.</span>cc                                            <a href=\"file://C:\\Users\\Tasnim\\AppData\\Local\\Temp\\ipykernel_16732\\1564753407.py\" target=\"_blank\"><span style=\"color: #7f7f7f; text-decoration-color: #7f7f7f\">1564753407.py</span></a><span style=\"color: #7f7f7f; text-decoration-color: #7f7f7f\">:</span><a href=\"file://C:\\Users\\Tasnim\\AppData\\Local\\Temp\\ipykernel_16732\\1564753407.py#9\" target=\"_blank\"><span style=\"color: #7f7f7f; text-decoration-color: #7f7f7f\">9</span></a>\n",
       "</pre>\n"
      ],
      "text/plain": [
       "\u001b[2;36m[05/22/25 20:38:42]\u001b[0m\u001b[2;36m \u001b[0m\u001b[34mINFO    \u001b[0m ✓ \u001b[1;36m2.\u001b[0mtxt → Basic\\Gemini\\\u001b[1;36m2.\u001b[0mcc                                            \u001b]8;id=668085;file://C:\\Users\\Tasnim\\AppData\\Local\\Temp\\ipykernel_16732\\1564753407.py\u001b\\\u001b[2m1564753407.py\u001b[0m\u001b]8;;\u001b\\\u001b[2m:\u001b[0m\u001b]8;id=700091;file://C:\\Users\\Tasnim\\AppData\\Local\\Temp\\ipykernel_16732\\1564753407.py#9\u001b\\\u001b[2m9\u001b[0m\u001b]8;;\u001b\\\n"
      ]
     },
     "metadata": {},
     "output_type": "display_data"
    },
    {
     "name": "stderr",
     "output_type": "stream",
     "text": [
      "Generating:  28%|██▊       | 112/400 [1:11:23<2:06:14, 26.30s/it]"
     ]
    },
    {
     "data": {
      "text/html": [
       "<pre style=\"white-space:pre;overflow-x:auto;line-height:normal;font-family:Menlo,'DejaVu Sans Mono',consolas,'Courier New',monospace\"><span style=\"color: #7fbfbf; text-decoration-color: #7fbfbf\">[05/22/25 20:39:19] </span><span style=\"color: #000080; text-decoration-color: #000080\">INFO    </span> ✓ <span style=\"color: #008080; text-decoration-color: #008080; font-weight: bold\">20.</span>txt → Basic\\Gemini\\<span style=\"color: #008080; text-decoration-color: #008080; font-weight: bold\">20.</span>cc                                          <a href=\"file://C:\\Users\\Tasnim\\AppData\\Local\\Temp\\ipykernel_16732\\1564753407.py\" target=\"_blank\"><span style=\"color: #7f7f7f; text-decoration-color: #7f7f7f\">1564753407.py</span></a><span style=\"color: #7f7f7f; text-decoration-color: #7f7f7f\">:</span><a href=\"file://C:\\Users\\Tasnim\\AppData\\Local\\Temp\\ipykernel_16732\\1564753407.py#9\" target=\"_blank\"><span style=\"color: #7f7f7f; text-decoration-color: #7f7f7f\">9</span></a>\n",
       "</pre>\n"
      ],
      "text/plain": [
       "\u001b[2;36m[05/22/25 20:39:19]\u001b[0m\u001b[2;36m \u001b[0m\u001b[34mINFO    \u001b[0m ✓ \u001b[1;36m20.\u001b[0mtxt → Basic\\Gemini\\\u001b[1;36m20.\u001b[0mcc                                          \u001b]8;id=490321;file://C:\\Users\\Tasnim\\AppData\\Local\\Temp\\ipykernel_16732\\1564753407.py\u001b\\\u001b[2m1564753407.py\u001b[0m\u001b]8;;\u001b\\\u001b[2m:\u001b[0m\u001b]8;id=162747;file://C:\\Users\\Tasnim\\AppData\\Local\\Temp\\ipykernel_16732\\1564753407.py#9\u001b\\\u001b[2m9\u001b[0m\u001b]8;;\u001b\\\n"
      ]
     },
     "metadata": {},
     "output_type": "display_data"
    },
    {
     "name": "stderr",
     "output_type": "stream",
     "text": [
      "Generating:  28%|██▊       | 113/400 [1:12:00<2:21:26, 29.57s/it]"
     ]
    },
    {
     "data": {
      "text/html": [
       "<pre style=\"white-space:pre;overflow-x:auto;line-height:normal;font-family:Menlo,'DejaVu Sans Mono',consolas,'Courier New',monospace\"><span style=\"color: #7fbfbf; text-decoration-color: #7fbfbf\">[05/22/25 20:40:17] </span><span style=\"color: #000080; text-decoration-color: #000080\">INFO    </span> ✓ <span style=\"color: #008080; text-decoration-color: #008080; font-weight: bold\">200.</span>txt → Basic\\Gemini\\<span style=\"color: #008080; text-decoration-color: #008080; font-weight: bold\">200.</span>cc                                        <a href=\"file://C:\\Users\\Tasnim\\AppData\\Local\\Temp\\ipykernel_16732\\1564753407.py\" target=\"_blank\"><span style=\"color: #7f7f7f; text-decoration-color: #7f7f7f\">1564753407.py</span></a><span style=\"color: #7f7f7f; text-decoration-color: #7f7f7f\">:</span><a href=\"file://C:\\Users\\Tasnim\\AppData\\Local\\Temp\\ipykernel_16732\\1564753407.py#9\" target=\"_blank\"><span style=\"color: #7f7f7f; text-decoration-color: #7f7f7f\">9</span></a>\n",
       "</pre>\n"
      ],
      "text/plain": [
       "\u001b[2;36m[05/22/25 20:40:17]\u001b[0m\u001b[2;36m \u001b[0m\u001b[34mINFO    \u001b[0m ✓ \u001b[1;36m200.\u001b[0mtxt → Basic\\Gemini\\\u001b[1;36m200.\u001b[0mcc                                        \u001b]8;id=58253;file://C:\\Users\\Tasnim\\AppData\\Local\\Temp\\ipykernel_16732\\1564753407.py\u001b\\\u001b[2m1564753407.py\u001b[0m\u001b]8;;\u001b\\\u001b[2m:\u001b[0m\u001b]8;id=289033;file://C:\\Users\\Tasnim\\AppData\\Local\\Temp\\ipykernel_16732\\1564753407.py#9\u001b\\\u001b[2m9\u001b[0m\u001b]8;;\u001b\\\n"
      ]
     },
     "metadata": {},
     "output_type": "display_data"
    },
    {
     "name": "stderr",
     "output_type": "stream",
     "text": [
      "Generating:  28%|██▊       | 114/400 [1:12:58<3:01:34, 38.09s/it]"
     ]
    },
    {
     "data": {
      "text/html": [
       "<pre style=\"white-space:pre;overflow-x:auto;line-height:normal;font-family:Menlo,'DejaVu Sans Mono',consolas,'Courier New',monospace\"><span style=\"color: #7fbfbf; text-decoration-color: #7fbfbf\">[05/22/25 20:40:59] </span><span style=\"color: #000080; text-decoration-color: #000080\">INFO    </span> ✓ <span style=\"color: #008080; text-decoration-color: #008080; font-weight: bold\">201.</span>txt → Basic\\Gemini\\<span style=\"color: #008080; text-decoration-color: #008080; font-weight: bold\">201.</span>cc                                        <a href=\"file://C:\\Users\\Tasnim\\AppData\\Local\\Temp\\ipykernel_16732\\1564753407.py\" target=\"_blank\"><span style=\"color: #7f7f7f; text-decoration-color: #7f7f7f\">1564753407.py</span></a><span style=\"color: #7f7f7f; text-decoration-color: #7f7f7f\">:</span><a href=\"file://C:\\Users\\Tasnim\\AppData\\Local\\Temp\\ipykernel_16732\\1564753407.py#9\" target=\"_blank\"><span style=\"color: #7f7f7f; text-decoration-color: #7f7f7f\">9</span></a>\n",
       "</pre>\n"
      ],
      "text/plain": [
       "\u001b[2;36m[05/22/25 20:40:59]\u001b[0m\u001b[2;36m \u001b[0m\u001b[34mINFO    \u001b[0m ✓ \u001b[1;36m201.\u001b[0mtxt → Basic\\Gemini\\\u001b[1;36m201.\u001b[0mcc                                        \u001b]8;id=90505;file://C:\\Users\\Tasnim\\AppData\\Local\\Temp\\ipykernel_16732\\1564753407.py\u001b\\\u001b[2m1564753407.py\u001b[0m\u001b]8;;\u001b\\\u001b[2m:\u001b[0m\u001b]8;id=244259;file://C:\\Users\\Tasnim\\AppData\\Local\\Temp\\ipykernel_16732\\1564753407.py#9\u001b\\\u001b[2m9\u001b[0m\u001b]8;;\u001b\\\n"
      ]
     },
     "metadata": {},
     "output_type": "display_data"
    },
    {
     "name": "stderr",
     "output_type": "stream",
     "text": [
      "Generating:  29%|██▉       | 115/400 [1:13:40<3:06:33, 39.28s/it]"
     ]
    },
    {
     "data": {
      "text/html": [
       "<pre style=\"white-space:pre;overflow-x:auto;line-height:normal;font-family:Menlo,'DejaVu Sans Mono',consolas,'Courier New',monospace\"><span style=\"color: #7fbfbf; text-decoration-color: #7fbfbf\">[05/22/25 20:41:19] </span><span style=\"color: #800000; text-decoration-color: #800000; font-weight: bold\">ERROR   </span> ✗ <span style=\"color: #008080; text-decoration-color: #008080; font-weight: bold\">202.</span>txt – Invalid operation: The `response.text` quick accessor     <a href=\"file://C:\\Users\\Tasnim\\AppData\\Local\\Temp\\ipykernel_16732\\1564753407.py\" target=\"_blank\"><span style=\"color: #7f7f7f; text-decoration-color: #7f7f7f\">1564753407.py</span></a><span style=\"color: #7f7f7f; text-decoration-color: #7f7f7f\">:</span><a href=\"file://C:\\Users\\Tasnim\\AppData\\Local\\Temp\\ipykernel_16732\\1564753407.py#11\" target=\"_blank\"><span style=\"color: #7f7f7f; text-decoration-color: #7f7f7f\">11</span></a>\n",
       "<span style=\"color: #7fbfbf; text-decoration-color: #7fbfbf\">                    </span>         requires the response to contain a valid `Part`, but none were        <span style=\"color: #7f7f7f; text-decoration-color: #7f7f7f\">                </span>\n",
       "<span style=\"color: #7fbfbf; text-decoration-color: #7fbfbf\">                    </span>         returned. The candidate's                                             <span style=\"color: #7f7f7f; text-decoration-color: #7f7f7f\">                </span>\n",
       "<span style=\"color: #7fbfbf; text-decoration-color: #7fbfbf\">                    </span>         <span style=\"font-weight: bold\">[</span>finish_reason<span style=\"font-weight: bold\">](</span><span style=\"color: #0000ff; text-decoration-color: #0000ff; text-decoration: underline\">https://ai.google.dev/api/generate-content#finishreas</span> <span style=\"color: #7f7f7f; text-decoration-color: #7f7f7f\">                </span>\n",
       "<span style=\"color: #7fbfbf; text-decoration-color: #7fbfbf\">                    </span>         <span style=\"color: #0000ff; text-decoration-color: #0000ff; text-decoration: underline\">on)</span> is <span style=\"color: #008080; text-decoration-color: #008080; font-weight: bold\">1</span>.                                                             <span style=\"color: #7f7f7f; text-decoration-color: #7f7f7f\">                </span>\n",
       "</pre>\n"
      ],
      "text/plain": [
       "\u001b[2;36m[05/22/25 20:41:19]\u001b[0m\u001b[2;36m \u001b[0m\u001b[1;31mERROR   \u001b[0m ✗ \u001b[1;36m202.\u001b[0mtxt – Invalid operation: The `response.text` quick accessor     \u001b]8;id=861179;file://C:\\Users\\Tasnim\\AppData\\Local\\Temp\\ipykernel_16732\\1564753407.py\u001b\\\u001b[2m1564753407.py\u001b[0m\u001b]8;;\u001b\\\u001b[2m:\u001b[0m\u001b]8;id=131762;file://C:\\Users\\Tasnim\\AppData\\Local\\Temp\\ipykernel_16732\\1564753407.py#11\u001b\\\u001b[2m11\u001b[0m\u001b]8;;\u001b\\\n",
       "\u001b[2;36m                    \u001b[0m         requires the response to contain a valid `Part`, but none were        \u001b[2m                \u001b[0m\n",
       "\u001b[2;36m                    \u001b[0m         returned. The candidate's                                             \u001b[2m                \u001b[0m\n",
       "\u001b[2;36m                    \u001b[0m         \u001b[1m[\u001b[0mfinish_reason\u001b[1m]\u001b[0m\u001b[1m(\u001b[0m\u001b[4;94mhttps://ai.google.dev/api/generate-content#finishreas\u001b[0m \u001b[2m                \u001b[0m\n",
       "\u001b[2;36m                    \u001b[0m         \u001b[4;94mon\u001b[0m\u001b[4;94m)\u001b[0m is \u001b[1;36m1\u001b[0m.                                                             \u001b[2m                \u001b[0m\n"
      ]
     },
     "metadata": {},
     "output_type": "display_data"
    },
    {
     "name": "stderr",
     "output_type": "stream",
     "text": [
      "Generating:  29%|██▉       | 116/400 [1:14:00<2:38:43, 33.53s/it]"
     ]
    },
    {
     "data": {
      "text/html": [
       "<pre style=\"white-space:pre;overflow-x:auto;line-height:normal;font-family:Menlo,'DejaVu Sans Mono',consolas,'Courier New',monospace\"><span style=\"color: #7fbfbf; text-decoration-color: #7fbfbf\">[05/22/25 20:42:02] </span><span style=\"color: #000080; text-decoration-color: #000080\">INFO    </span> ✓ <span style=\"color: #008080; text-decoration-color: #008080; font-weight: bold\">203.</span>txt → Basic\\Gemini\\<span style=\"color: #008080; text-decoration-color: #008080; font-weight: bold\">203.</span>cc                                        <a href=\"file://C:\\Users\\Tasnim\\AppData\\Local\\Temp\\ipykernel_16732\\1564753407.py\" target=\"_blank\"><span style=\"color: #7f7f7f; text-decoration-color: #7f7f7f\">1564753407.py</span></a><span style=\"color: #7f7f7f; text-decoration-color: #7f7f7f\">:</span><a href=\"file://C:\\Users\\Tasnim\\AppData\\Local\\Temp\\ipykernel_16732\\1564753407.py#9\" target=\"_blank\"><span style=\"color: #7f7f7f; text-decoration-color: #7f7f7f\">9</span></a>\n",
       "</pre>\n"
      ],
      "text/plain": [
       "\u001b[2;36m[05/22/25 20:42:02]\u001b[0m\u001b[2;36m \u001b[0m\u001b[34mINFO    \u001b[0m ✓ \u001b[1;36m203.\u001b[0mtxt → Basic\\Gemini\\\u001b[1;36m203.\u001b[0mcc                                        \u001b]8;id=610978;file://C:\\Users\\Tasnim\\AppData\\Local\\Temp\\ipykernel_16732\\1564753407.py\u001b\\\u001b[2m1564753407.py\u001b[0m\u001b]8;;\u001b\\\u001b[2m:\u001b[0m\u001b]8;id=744046;file://C:\\Users\\Tasnim\\AppData\\Local\\Temp\\ipykernel_16732\\1564753407.py#9\u001b\\\u001b[2m9\u001b[0m\u001b]8;;\u001b\\\n"
      ]
     },
     "metadata": {},
     "output_type": "display_data"
    },
    {
     "name": "stderr",
     "output_type": "stream",
     "text": [
      "Generating:  29%|██▉       | 117/400 [1:14:43<2:51:40, 36.40s/it]"
     ]
    },
    {
     "data": {
      "text/html": [
       "<pre style=\"white-space:pre;overflow-x:auto;line-height:normal;font-family:Menlo,'DejaVu Sans Mono',consolas,'Courier New',monospace\"><span style=\"color: #7fbfbf; text-decoration-color: #7fbfbf\">[05/22/25 20:42:41] </span><span style=\"color: #000080; text-decoration-color: #000080\">INFO    </span> ✓ <span style=\"color: #008080; text-decoration-color: #008080; font-weight: bold\">204.</span>txt → Basic\\Gemini\\<span style=\"color: #008080; text-decoration-color: #008080; font-weight: bold\">204.</span>cc                                        <a href=\"file://C:\\Users\\Tasnim\\AppData\\Local\\Temp\\ipykernel_16732\\1564753407.py\" target=\"_blank\"><span style=\"color: #7f7f7f; text-decoration-color: #7f7f7f\">1564753407.py</span></a><span style=\"color: #7f7f7f; text-decoration-color: #7f7f7f\">:</span><a href=\"file://C:\\Users\\Tasnim\\AppData\\Local\\Temp\\ipykernel_16732\\1564753407.py#9\" target=\"_blank\"><span style=\"color: #7f7f7f; text-decoration-color: #7f7f7f\">9</span></a>\n",
       "</pre>\n"
      ],
      "text/plain": [
       "\u001b[2;36m[05/22/25 20:42:41]\u001b[0m\u001b[2;36m \u001b[0m\u001b[34mINFO    \u001b[0m ✓ \u001b[1;36m204.\u001b[0mtxt → Basic\\Gemini\\\u001b[1;36m204.\u001b[0mcc                                        \u001b]8;id=538855;file://C:\\Users\\Tasnim\\AppData\\Local\\Temp\\ipykernel_16732\\1564753407.py\u001b\\\u001b[2m1564753407.py\u001b[0m\u001b]8;;\u001b\\\u001b[2m:\u001b[0m\u001b]8;id=568086;file://C:\\Users\\Tasnim\\AppData\\Local\\Temp\\ipykernel_16732\\1564753407.py#9\u001b\\\u001b[2m9\u001b[0m\u001b]8;;\u001b\\\n"
      ]
     },
     "metadata": {},
     "output_type": "display_data"
    },
    {
     "name": "stderr",
     "output_type": "stream",
     "text": [
      "Generating:  30%|██▉       | 118/400 [1:15:22<2:53:53, 37.00s/it]"
     ]
    },
    {
     "data": {
      "text/html": [
       "<pre style=\"white-space:pre;overflow-x:auto;line-height:normal;font-family:Menlo,'DejaVu Sans Mono',consolas,'Courier New',monospace\"><span style=\"color: #7fbfbf; text-decoration-color: #7fbfbf\">[05/22/25 20:43:22] </span><span style=\"color: #000080; text-decoration-color: #000080\">INFO    </span> ✓ <span style=\"color: #008080; text-decoration-color: #008080; font-weight: bold\">205.</span>txt → Basic\\Gemini\\<span style=\"color: #008080; text-decoration-color: #008080; font-weight: bold\">205.</span>cc                                        <a href=\"file://C:\\Users\\Tasnim\\AppData\\Local\\Temp\\ipykernel_16732\\1564753407.py\" target=\"_blank\"><span style=\"color: #7f7f7f; text-decoration-color: #7f7f7f\">1564753407.py</span></a><span style=\"color: #7f7f7f; text-decoration-color: #7f7f7f\">:</span><a href=\"file://C:\\Users\\Tasnim\\AppData\\Local\\Temp\\ipykernel_16732\\1564753407.py#9\" target=\"_blank\"><span style=\"color: #7f7f7f; text-decoration-color: #7f7f7f\">9</span></a>\n",
       "</pre>\n"
      ],
      "text/plain": [
       "\u001b[2;36m[05/22/25 20:43:22]\u001b[0m\u001b[2;36m \u001b[0m\u001b[34mINFO    \u001b[0m ✓ \u001b[1;36m205.\u001b[0mtxt → Basic\\Gemini\\\u001b[1;36m205.\u001b[0mcc                                        \u001b]8;id=537398;file://C:\\Users\\Tasnim\\AppData\\Local\\Temp\\ipykernel_16732\\1564753407.py\u001b\\\u001b[2m1564753407.py\u001b[0m\u001b]8;;\u001b\\\u001b[2m:\u001b[0m\u001b]8;id=797371;file://C:\\Users\\Tasnim\\AppData\\Local\\Temp\\ipykernel_16732\\1564753407.py#9\u001b\\\u001b[2m9\u001b[0m\u001b]8;;\u001b\\\n"
      ]
     },
     "metadata": {},
     "output_type": "display_data"
    },
    {
     "name": "stderr",
     "output_type": "stream",
     "text": [
      "Generating:  30%|██▉       | 119/400 [1:16:03<2:58:55, 38.21s/it]"
     ]
    },
    {
     "data": {
      "text/html": [
       "<pre style=\"white-space:pre;overflow-x:auto;line-height:normal;font-family:Menlo,'DejaVu Sans Mono',consolas,'Courier New',monospace\"><span style=\"color: #7fbfbf; text-decoration-color: #7fbfbf\">[05/22/25 20:44:00] </span><span style=\"color: #000080; text-decoration-color: #000080\">INFO    </span> ✓ <span style=\"color: #008080; text-decoration-color: #008080; font-weight: bold\">206.</span>txt → Basic\\Gemini\\<span style=\"color: #008080; text-decoration-color: #008080; font-weight: bold\">206.</span>cc                                        <a href=\"file://C:\\Users\\Tasnim\\AppData\\Local\\Temp\\ipykernel_16732\\1564753407.py\" target=\"_blank\"><span style=\"color: #7f7f7f; text-decoration-color: #7f7f7f\">1564753407.py</span></a><span style=\"color: #7f7f7f; text-decoration-color: #7f7f7f\">:</span><a href=\"file://C:\\Users\\Tasnim\\AppData\\Local\\Temp\\ipykernel_16732\\1564753407.py#9\" target=\"_blank\"><span style=\"color: #7f7f7f; text-decoration-color: #7f7f7f\">9</span></a>\n",
       "</pre>\n"
      ],
      "text/plain": [
       "\u001b[2;36m[05/22/25 20:44:00]\u001b[0m\u001b[2;36m \u001b[0m\u001b[34mINFO    \u001b[0m ✓ \u001b[1;36m206.\u001b[0mtxt → Basic\\Gemini\\\u001b[1;36m206.\u001b[0mcc                                        \u001b]8;id=933357;file://C:\\Users\\Tasnim\\AppData\\Local\\Temp\\ipykernel_16732\\1564753407.py\u001b\\\u001b[2m1564753407.py\u001b[0m\u001b]8;;\u001b\\\u001b[2m:\u001b[0m\u001b]8;id=114605;file://C:\\Users\\Tasnim\\AppData\\Local\\Temp\\ipykernel_16732\\1564753407.py#9\u001b\\\u001b[2m9\u001b[0m\u001b]8;;\u001b\\\n"
      ]
     },
     "metadata": {},
     "output_type": "display_data"
    },
    {
     "name": "stderr",
     "output_type": "stream",
     "text": [
      "Generating:  30%|███       | 120/400 [1:16:41<2:58:23, 38.23s/it]"
     ]
    },
    {
     "data": {
      "text/html": [
       "<pre style=\"white-space:pre;overflow-x:auto;line-height:normal;font-family:Menlo,'DejaVu Sans Mono',consolas,'Courier New',monospace\"><span style=\"color: #7fbfbf; text-decoration-color: #7fbfbf\">[05/22/25 20:44:39] </span><span style=\"color: #000080; text-decoration-color: #000080\">INFO    </span> ✓ <span style=\"color: #008080; text-decoration-color: #008080; font-weight: bold\">207.</span>txt → Basic\\Gemini\\<span style=\"color: #008080; text-decoration-color: #008080; font-weight: bold\">207.</span>cc                                        <a href=\"file://C:\\Users\\Tasnim\\AppData\\Local\\Temp\\ipykernel_16732\\1564753407.py\" target=\"_blank\"><span style=\"color: #7f7f7f; text-decoration-color: #7f7f7f\">1564753407.py</span></a><span style=\"color: #7f7f7f; text-decoration-color: #7f7f7f\">:</span><a href=\"file://C:\\Users\\Tasnim\\AppData\\Local\\Temp\\ipykernel_16732\\1564753407.py#9\" target=\"_blank\"><span style=\"color: #7f7f7f; text-decoration-color: #7f7f7f\">9</span></a>\n",
       "</pre>\n"
      ],
      "text/plain": [
       "\u001b[2;36m[05/22/25 20:44:39]\u001b[0m\u001b[2;36m \u001b[0m\u001b[34mINFO    \u001b[0m ✓ \u001b[1;36m207.\u001b[0mtxt → Basic\\Gemini\\\u001b[1;36m207.\u001b[0mcc                                        \u001b]8;id=410028;file://C:\\Users\\Tasnim\\AppData\\Local\\Temp\\ipykernel_16732\\1564753407.py\u001b\\\u001b[2m1564753407.py\u001b[0m\u001b]8;;\u001b\\\u001b[2m:\u001b[0m\u001b]8;id=530333;file://C:\\Users\\Tasnim\\AppData\\Local\\Temp\\ipykernel_16732\\1564753407.py#9\u001b\\\u001b[2m9\u001b[0m\u001b]8;;\u001b\\\n"
      ]
     },
     "metadata": {},
     "output_type": "display_data"
    },
    {
     "name": "stderr",
     "output_type": "stream",
     "text": [
      "Generating:  30%|███       | 121/400 [1:17:19<2:58:06, 38.30s/it]"
     ]
    },
    {
     "data": {
      "text/html": [
       "<pre style=\"white-space:pre;overflow-x:auto;line-height:normal;font-family:Menlo,'DejaVu Sans Mono',consolas,'Courier New',monospace\"><span style=\"color: #7fbfbf; text-decoration-color: #7fbfbf\">[05/22/25 20:46:04] </span><span style=\"color: #000080; text-decoration-color: #000080\">INFO    </span> ✓ <span style=\"color: #008080; text-decoration-color: #008080; font-weight: bold\">208.</span>txt → Basic\\Gemini\\<span style=\"color: #008080; text-decoration-color: #008080; font-weight: bold\">208.</span>cc                                        <a href=\"file://C:\\Users\\Tasnim\\AppData\\Local\\Temp\\ipykernel_16732\\1564753407.py\" target=\"_blank\"><span style=\"color: #7f7f7f; text-decoration-color: #7f7f7f\">1564753407.py</span></a><span style=\"color: #7f7f7f; text-decoration-color: #7f7f7f\">:</span><a href=\"file://C:\\Users\\Tasnim\\AppData\\Local\\Temp\\ipykernel_16732\\1564753407.py#9\" target=\"_blank\"><span style=\"color: #7f7f7f; text-decoration-color: #7f7f7f\">9</span></a>\n",
       "</pre>\n"
      ],
      "text/plain": [
       "\u001b[2;36m[05/22/25 20:46:04]\u001b[0m\u001b[2;36m \u001b[0m\u001b[34mINFO    \u001b[0m ✓ \u001b[1;36m208.\u001b[0mtxt → Basic\\Gemini\\\u001b[1;36m208.\u001b[0mcc                                        \u001b]8;id=147642;file://C:\\Users\\Tasnim\\AppData\\Local\\Temp\\ipykernel_16732\\1564753407.py\u001b\\\u001b[2m1564753407.py\u001b[0m\u001b]8;;\u001b\\\u001b[2m:\u001b[0m\u001b]8;id=648028;file://C:\\Users\\Tasnim\\AppData\\Local\\Temp\\ipykernel_16732\\1564753407.py#9\u001b\\\u001b[2m9\u001b[0m\u001b]8;;\u001b\\\n"
      ]
     },
     "metadata": {},
     "output_type": "display_data"
    },
    {
     "name": "stderr",
     "output_type": "stream",
     "text": [
      "Generating:  30%|███       | 122/400 [1:18:45<4:03:24, 52.53s/it]"
     ]
    },
    {
     "data": {
      "text/html": [
       "<pre style=\"white-space:pre;overflow-x:auto;line-height:normal;font-family:Menlo,'DejaVu Sans Mono',consolas,'Courier New',monospace\"><span style=\"color: #7fbfbf; text-decoration-color: #7fbfbf\">[05/22/25 20:46:48] </span><span style=\"color: #000080; text-decoration-color: #000080\">INFO    </span> ✓ <span style=\"color: #008080; text-decoration-color: #008080; font-weight: bold\">209.</span>txt → Basic\\Gemini\\<span style=\"color: #008080; text-decoration-color: #008080; font-weight: bold\">209.</span>cc                                        <a href=\"file://C:\\Users\\Tasnim\\AppData\\Local\\Temp\\ipykernel_16732\\1564753407.py\" target=\"_blank\"><span style=\"color: #7f7f7f; text-decoration-color: #7f7f7f\">1564753407.py</span></a><span style=\"color: #7f7f7f; text-decoration-color: #7f7f7f\">:</span><a href=\"file://C:\\Users\\Tasnim\\AppData\\Local\\Temp\\ipykernel_16732\\1564753407.py#9\" target=\"_blank\"><span style=\"color: #7f7f7f; text-decoration-color: #7f7f7f\">9</span></a>\n",
       "</pre>\n"
      ],
      "text/plain": [
       "\u001b[2;36m[05/22/25 20:46:48]\u001b[0m\u001b[2;36m \u001b[0m\u001b[34mINFO    \u001b[0m ✓ \u001b[1;36m209.\u001b[0mtxt → Basic\\Gemini\\\u001b[1;36m209.\u001b[0mcc                                        \u001b]8;id=397747;file://C:\\Users\\Tasnim\\AppData\\Local\\Temp\\ipykernel_16732\\1564753407.py\u001b\\\u001b[2m1564753407.py\u001b[0m\u001b]8;;\u001b\\\u001b[2m:\u001b[0m\u001b]8;id=188848;file://C:\\Users\\Tasnim\\AppData\\Local\\Temp\\ipykernel_16732\\1564753407.py#9\u001b\\\u001b[2m9\u001b[0m\u001b]8;;\u001b\\\n"
      ]
     },
     "metadata": {},
     "output_type": "display_data"
    },
    {
     "name": "stderr",
     "output_type": "stream",
     "text": [
      "Generating:  31%|███       | 123/400 [1:19:29<3:50:48, 49.99s/it]"
     ]
    },
    {
     "data": {
      "text/html": [
       "<pre style=\"white-space:pre;overflow-x:auto;line-height:normal;font-family:Menlo,'DejaVu Sans Mono',consolas,'Courier New',monospace\"><span style=\"color: #7fbfbf; text-decoration-color: #7fbfbf\">[05/22/25 20:47:32] </span><span style=\"color: #000080; text-decoration-color: #000080\">INFO    </span> ✓ <span style=\"color: #008080; text-decoration-color: #008080; font-weight: bold\">21.</span>txt → Basic\\Gemini\\<span style=\"color: #008080; text-decoration-color: #008080; font-weight: bold\">21.</span>cc                                          <a href=\"file://C:\\Users\\Tasnim\\AppData\\Local\\Temp\\ipykernel_16732\\1564753407.py\" target=\"_blank\"><span style=\"color: #7f7f7f; text-decoration-color: #7f7f7f\">1564753407.py</span></a><span style=\"color: #7f7f7f; text-decoration-color: #7f7f7f\">:</span><a href=\"file://C:\\Users\\Tasnim\\AppData\\Local\\Temp\\ipykernel_16732\\1564753407.py#9\" target=\"_blank\"><span style=\"color: #7f7f7f; text-decoration-color: #7f7f7f\">9</span></a>\n",
       "</pre>\n"
      ],
      "text/plain": [
       "\u001b[2;36m[05/22/25 20:47:32]\u001b[0m\u001b[2;36m \u001b[0m\u001b[34mINFO    \u001b[0m ✓ \u001b[1;36m21.\u001b[0mtxt → Basic\\Gemini\\\u001b[1;36m21.\u001b[0mcc                                          \u001b]8;id=185848;file://C:\\Users\\Tasnim\\AppData\\Local\\Temp\\ipykernel_16732\\1564753407.py\u001b\\\u001b[2m1564753407.py\u001b[0m\u001b]8;;\u001b\\\u001b[2m:\u001b[0m\u001b]8;id=259314;file://C:\\Users\\Tasnim\\AppData\\Local\\Temp\\ipykernel_16732\\1564753407.py#9\u001b\\\u001b[2m9\u001b[0m\u001b]8;;\u001b\\\n"
      ]
     },
     "metadata": {},
     "output_type": "display_data"
    },
    {
     "name": "stderr",
     "output_type": "stream",
     "text": [
      "Generating:  31%|███       | 124/400 [1:20:13<3:41:36, 48.18s/it]"
     ]
    },
    {
     "data": {
      "text/html": [
       "<pre style=\"white-space:pre;overflow-x:auto;line-height:normal;font-family:Menlo,'DejaVu Sans Mono',consolas,'Courier New',monospace\"><span style=\"color: #7fbfbf; text-decoration-color: #7fbfbf\">[05/22/25 20:48:35] </span><span style=\"color: #000080; text-decoration-color: #000080\">INFO    </span> ✓ <span style=\"color: #008080; text-decoration-color: #008080; font-weight: bold\">210.</span>txt → Basic\\Gemini\\<span style=\"color: #008080; text-decoration-color: #008080; font-weight: bold\">210.</span>cc                                        <a href=\"file://C:\\Users\\Tasnim\\AppData\\Local\\Temp\\ipykernel_16732\\1564753407.py\" target=\"_blank\"><span style=\"color: #7f7f7f; text-decoration-color: #7f7f7f\">1564753407.py</span></a><span style=\"color: #7f7f7f; text-decoration-color: #7f7f7f\">:</span><a href=\"file://C:\\Users\\Tasnim\\AppData\\Local\\Temp\\ipykernel_16732\\1564753407.py#9\" target=\"_blank\"><span style=\"color: #7f7f7f; text-decoration-color: #7f7f7f\">9</span></a>\n",
       "</pre>\n"
      ],
      "text/plain": [
       "\u001b[2;36m[05/22/25 20:48:35]\u001b[0m\u001b[2;36m \u001b[0m\u001b[34mINFO    \u001b[0m ✓ \u001b[1;36m210.\u001b[0mtxt → Basic\\Gemini\\\u001b[1;36m210.\u001b[0mcc                                        \u001b]8;id=140156;file://C:\\Users\\Tasnim\\AppData\\Local\\Temp\\ipykernel_16732\\1564753407.py\u001b\\\u001b[2m1564753407.py\u001b[0m\u001b]8;;\u001b\\\u001b[2m:\u001b[0m\u001b]8;id=797149;file://C:\\Users\\Tasnim\\AppData\\Local\\Temp\\ipykernel_16732\\1564753407.py#9\u001b\\\u001b[2m9\u001b[0m\u001b]8;;\u001b\\\n"
      ]
     },
     "metadata": {},
     "output_type": "display_data"
    },
    {
     "name": "stderr",
     "output_type": "stream",
     "text": [
      "Generating:  31%|███▏      | 125/400 [1:21:16<4:00:31, 52.48s/it]"
     ]
    },
    {
     "data": {
      "text/html": [
       "<pre style=\"white-space:pre;overflow-x:auto;line-height:normal;font-family:Menlo,'DejaVu Sans Mono',consolas,'Courier New',monospace\"><span style=\"color: #7fbfbf; text-decoration-color: #7fbfbf\">[05/22/25 20:49:05] </span><span style=\"color: #000080; text-decoration-color: #000080\">INFO    </span> ✓ <span style=\"color: #008080; text-decoration-color: #008080; font-weight: bold\">211.</span>txt → Basic\\Gemini\\<span style=\"color: #008080; text-decoration-color: #008080; font-weight: bold\">211.</span>cc                                        <a href=\"file://C:\\Users\\Tasnim\\AppData\\Local\\Temp\\ipykernel_16732\\1564753407.py\" target=\"_blank\"><span style=\"color: #7f7f7f; text-decoration-color: #7f7f7f\">1564753407.py</span></a><span style=\"color: #7f7f7f; text-decoration-color: #7f7f7f\">:</span><a href=\"file://C:\\Users\\Tasnim\\AppData\\Local\\Temp\\ipykernel_16732\\1564753407.py#9\" target=\"_blank\"><span style=\"color: #7f7f7f; text-decoration-color: #7f7f7f\">9</span></a>\n",
       "</pre>\n"
      ],
      "text/plain": [
       "\u001b[2;36m[05/22/25 20:49:05]\u001b[0m\u001b[2;36m \u001b[0m\u001b[34mINFO    \u001b[0m ✓ \u001b[1;36m211.\u001b[0mtxt → Basic\\Gemini\\\u001b[1;36m211.\u001b[0mcc                                        \u001b]8;id=158372;file://C:\\Users\\Tasnim\\AppData\\Local\\Temp\\ipykernel_16732\\1564753407.py\u001b\\\u001b[2m1564753407.py\u001b[0m\u001b]8;;\u001b\\\u001b[2m:\u001b[0m\u001b]8;id=241866;file://C:\\Users\\Tasnim\\AppData\\Local\\Temp\\ipykernel_16732\\1564753407.py#9\u001b\\\u001b[2m9\u001b[0m\u001b]8;;\u001b\\\n"
      ]
     },
     "metadata": {},
     "output_type": "display_data"
    },
    {
     "name": "stderr",
     "output_type": "stream",
     "text": [
      "Generating:  32%|███▏      | 126/400 [1:21:45<3:28:41, 45.70s/it]"
     ]
    },
    {
     "data": {
      "text/html": [
       "<pre style=\"white-space:pre;overflow-x:auto;line-height:normal;font-family:Menlo,'DejaVu Sans Mono',consolas,'Courier New',monospace\"><span style=\"color: #7fbfbf; text-decoration-color: #7fbfbf\">[05/22/25 20:49:22] </span><span style=\"color: #000080; text-decoration-color: #000080\">INFO    </span> ✓ <span style=\"color: #008080; text-decoration-color: #008080; font-weight: bold\">212.</span>txt → Basic\\Gemini\\<span style=\"color: #008080; text-decoration-color: #008080; font-weight: bold\">212.</span>cc                                        <a href=\"file://C:\\Users\\Tasnim\\AppData\\Local\\Temp\\ipykernel_16732\\1564753407.py\" target=\"_blank\"><span style=\"color: #7f7f7f; text-decoration-color: #7f7f7f\">1564753407.py</span></a><span style=\"color: #7f7f7f; text-decoration-color: #7f7f7f\">:</span><a href=\"file://C:\\Users\\Tasnim\\AppData\\Local\\Temp\\ipykernel_16732\\1564753407.py#9\" target=\"_blank\"><span style=\"color: #7f7f7f; text-decoration-color: #7f7f7f\">9</span></a>\n",
       "</pre>\n"
      ],
      "text/plain": [
       "\u001b[2;36m[05/22/25 20:49:22]\u001b[0m\u001b[2;36m \u001b[0m\u001b[34mINFO    \u001b[0m ✓ \u001b[1;36m212.\u001b[0mtxt → Basic\\Gemini\\\u001b[1;36m212.\u001b[0mcc                                        \u001b]8;id=397309;file://C:\\Users\\Tasnim\\AppData\\Local\\Temp\\ipykernel_16732\\1564753407.py\u001b\\\u001b[2m1564753407.py\u001b[0m\u001b]8;;\u001b\\\u001b[2m:\u001b[0m\u001b]8;id=535294;file://C:\\Users\\Tasnim\\AppData\\Local\\Temp\\ipykernel_16732\\1564753407.py#9\u001b\\\u001b[2m9\u001b[0m\u001b]8;;\u001b\\\n"
      ]
     },
     "metadata": {},
     "output_type": "display_data"
    },
    {
     "name": "stderr",
     "output_type": "stream",
     "text": [
      "Generating:  32%|███▏      | 127/400 [1:22:03<2:49:48, 37.32s/it]"
     ]
    },
    {
     "data": {
      "text/html": [
       "<pre style=\"white-space:pre;overflow-x:auto;line-height:normal;font-family:Menlo,'DejaVu Sans Mono',consolas,'Courier New',monospace\"><span style=\"color: #7fbfbf; text-decoration-color: #7fbfbf\">[05/22/25 20:49:45] </span><span style=\"color: #000080; text-decoration-color: #000080\">INFO    </span> ✓ <span style=\"color: #008080; text-decoration-color: #008080; font-weight: bold\">213.</span>txt → Basic\\Gemini\\<span style=\"color: #008080; text-decoration-color: #008080; font-weight: bold\">213.</span>cc                                        <a href=\"file://C:\\Users\\Tasnim\\AppData\\Local\\Temp\\ipykernel_16732\\1564753407.py\" target=\"_blank\"><span style=\"color: #7f7f7f; text-decoration-color: #7f7f7f\">1564753407.py</span></a><span style=\"color: #7f7f7f; text-decoration-color: #7f7f7f\">:</span><a href=\"file://C:\\Users\\Tasnim\\AppData\\Local\\Temp\\ipykernel_16732\\1564753407.py#9\" target=\"_blank\"><span style=\"color: #7f7f7f; text-decoration-color: #7f7f7f\">9</span></a>\n",
       "</pre>\n"
      ],
      "text/plain": [
       "\u001b[2;36m[05/22/25 20:49:45]\u001b[0m\u001b[2;36m \u001b[0m\u001b[34mINFO    \u001b[0m ✓ \u001b[1;36m213.\u001b[0mtxt → Basic\\Gemini\\\u001b[1;36m213.\u001b[0mcc                                        \u001b]8;id=504554;file://C:\\Users\\Tasnim\\AppData\\Local\\Temp\\ipykernel_16732\\1564753407.py\u001b\\\u001b[2m1564753407.py\u001b[0m\u001b]8;;\u001b\\\u001b[2m:\u001b[0m\u001b]8;id=635095;file://C:\\Users\\Tasnim\\AppData\\Local\\Temp\\ipykernel_16732\\1564753407.py#9\u001b\\\u001b[2m9\u001b[0m\u001b]8;;\u001b\\\n"
      ]
     },
     "metadata": {},
     "output_type": "display_data"
    },
    {
     "name": "stderr",
     "output_type": "stream",
     "text": [
      "Generating:  32%|███▏      | 128/400 [1:22:26<2:29:19, 32.94s/it]"
     ]
    },
    {
     "data": {
      "text/html": [
       "<pre style=\"white-space:pre;overflow-x:auto;line-height:normal;font-family:Menlo,'DejaVu Sans Mono',consolas,'Courier New',monospace\"><span style=\"color: #7fbfbf; text-decoration-color: #7fbfbf\">[05/22/25 20:50:50] </span><span style=\"color: #000080; text-decoration-color: #000080\">INFO    </span> ✓ <span style=\"color: #008080; text-decoration-color: #008080; font-weight: bold\">214.</span>txt → Basic\\Gemini\\<span style=\"color: #008080; text-decoration-color: #008080; font-weight: bold\">214.</span>cc                                        <a href=\"file://C:\\Users\\Tasnim\\AppData\\Local\\Temp\\ipykernel_16732\\1564753407.py\" target=\"_blank\"><span style=\"color: #7f7f7f; text-decoration-color: #7f7f7f\">1564753407.py</span></a><span style=\"color: #7f7f7f; text-decoration-color: #7f7f7f\">:</span><a href=\"file://C:\\Users\\Tasnim\\AppData\\Local\\Temp\\ipykernel_16732\\1564753407.py#9\" target=\"_blank\"><span style=\"color: #7f7f7f; text-decoration-color: #7f7f7f\">9</span></a>\n",
       "</pre>\n"
      ],
      "text/plain": [
       "\u001b[2;36m[05/22/25 20:50:50]\u001b[0m\u001b[2;36m \u001b[0m\u001b[34mINFO    \u001b[0m ✓ \u001b[1;36m214.\u001b[0mtxt → Basic\\Gemini\\\u001b[1;36m214.\u001b[0mcc                                        \u001b]8;id=827799;file://C:\\Users\\Tasnim\\AppData\\Local\\Temp\\ipykernel_16732\\1564753407.py\u001b\\\u001b[2m1564753407.py\u001b[0m\u001b]8;;\u001b\\\u001b[2m:\u001b[0m\u001b]8;id=560607;file://C:\\Users\\Tasnim\\AppData\\Local\\Temp\\ipykernel_16732\\1564753407.py#9\u001b\\\u001b[2m9\u001b[0m\u001b]8;;\u001b\\\n"
      ]
     },
     "metadata": {},
     "output_type": "display_data"
    },
    {
     "name": "stderr",
     "output_type": "stream",
     "text": [
      "Generating:  32%|███▏      | 129/400 [1:23:31<3:11:38, 42.43s/it]"
     ]
    },
    {
     "data": {
      "text/html": [
       "<pre style=\"white-space:pre;overflow-x:auto;line-height:normal;font-family:Menlo,'DejaVu Sans Mono',consolas,'Courier New',monospace\"><span style=\"color: #7fbfbf; text-decoration-color: #7fbfbf\">[05/22/25 20:51:30] </span><span style=\"color: #000080; text-decoration-color: #000080\">INFO    </span> ✓ <span style=\"color: #008080; text-decoration-color: #008080; font-weight: bold\">215.</span>txt → Basic\\Gemini\\<span style=\"color: #008080; text-decoration-color: #008080; font-weight: bold\">215.</span>cc                                        <a href=\"file://C:\\Users\\Tasnim\\AppData\\Local\\Temp\\ipykernel_16732\\1564753407.py\" target=\"_blank\"><span style=\"color: #7f7f7f; text-decoration-color: #7f7f7f\">1564753407.py</span></a><span style=\"color: #7f7f7f; text-decoration-color: #7f7f7f\">:</span><a href=\"file://C:\\Users\\Tasnim\\AppData\\Local\\Temp\\ipykernel_16732\\1564753407.py#9\" target=\"_blank\"><span style=\"color: #7f7f7f; text-decoration-color: #7f7f7f\">9</span></a>\n",
       "</pre>\n"
      ],
      "text/plain": [
       "\u001b[2;36m[05/22/25 20:51:30]\u001b[0m\u001b[2;36m \u001b[0m\u001b[34mINFO    \u001b[0m ✓ \u001b[1;36m215.\u001b[0mtxt → Basic\\Gemini\\\u001b[1;36m215.\u001b[0mcc                                        \u001b]8;id=119242;file://C:\\Users\\Tasnim\\AppData\\Local\\Temp\\ipykernel_16732\\1564753407.py\u001b\\\u001b[2m1564753407.py\u001b[0m\u001b]8;;\u001b\\\u001b[2m:\u001b[0m\u001b]8;id=666582;file://C:\\Users\\Tasnim\\AppData\\Local\\Temp\\ipykernel_16732\\1564753407.py#9\u001b\\\u001b[2m9\u001b[0m\u001b]8;;\u001b\\\n"
      ]
     },
     "metadata": {},
     "output_type": "display_data"
    },
    {
     "name": "stderr",
     "output_type": "stream",
     "text": [
      "Generating:  32%|███▎      | 130/400 [1:24:11<3:07:53, 41.75s/it]"
     ]
    },
    {
     "data": {
      "text/html": [
       "<pre style=\"white-space:pre;overflow-x:auto;line-height:normal;font-family:Menlo,'DejaVu Sans Mono',consolas,'Courier New',monospace\"><span style=\"color: #7fbfbf; text-decoration-color: #7fbfbf\">[05/22/25 20:52:08] </span><span style=\"color: #000080; text-decoration-color: #000080\">INFO    </span> ✓ <span style=\"color: #008080; text-decoration-color: #008080; font-weight: bold\">216.</span>txt → Basic\\Gemini\\<span style=\"color: #008080; text-decoration-color: #008080; font-weight: bold\">216.</span>cc                                        <a href=\"file://C:\\Users\\Tasnim\\AppData\\Local\\Temp\\ipykernel_16732\\1564753407.py\" target=\"_blank\"><span style=\"color: #7f7f7f; text-decoration-color: #7f7f7f\">1564753407.py</span></a><span style=\"color: #7f7f7f; text-decoration-color: #7f7f7f\">:</span><a href=\"file://C:\\Users\\Tasnim\\AppData\\Local\\Temp\\ipykernel_16732\\1564753407.py#9\" target=\"_blank\"><span style=\"color: #7f7f7f; text-decoration-color: #7f7f7f\">9</span></a>\n",
       "</pre>\n"
      ],
      "text/plain": [
       "\u001b[2;36m[05/22/25 20:52:08]\u001b[0m\u001b[2;36m \u001b[0m\u001b[34mINFO    \u001b[0m ✓ \u001b[1;36m216.\u001b[0mtxt → Basic\\Gemini\\\u001b[1;36m216.\u001b[0mcc                                        \u001b]8;id=909081;file://C:\\Users\\Tasnim\\AppData\\Local\\Temp\\ipykernel_16732\\1564753407.py\u001b\\\u001b[2m1564753407.py\u001b[0m\u001b]8;;\u001b\\\u001b[2m:\u001b[0m\u001b]8;id=782792;file://C:\\Users\\Tasnim\\AppData\\Local\\Temp\\ipykernel_16732\\1564753407.py#9\u001b\\\u001b[2m9\u001b[0m\u001b]8;;\u001b\\\n"
      ]
     },
     "metadata": {},
     "output_type": "display_data"
    },
    {
     "name": "stderr",
     "output_type": "stream",
     "text": [
      "Generating:  33%|███▎      | 131/400 [1:24:49<3:02:35, 40.73s/it]"
     ]
    },
    {
     "data": {
      "text/html": [
       "<pre style=\"white-space:pre;overflow-x:auto;line-height:normal;font-family:Menlo,'DejaVu Sans Mono',consolas,'Courier New',monospace\"><span style=\"color: #7fbfbf; text-decoration-color: #7fbfbf\">[05/22/25 20:53:04] </span><span style=\"color: #000080; text-decoration-color: #000080\">INFO    </span> ✓ <span style=\"color: #008080; text-decoration-color: #008080; font-weight: bold\">217.</span>txt → Basic\\Gemini\\<span style=\"color: #008080; text-decoration-color: #008080; font-weight: bold\">217.</span>cc                                        <a href=\"file://C:\\Users\\Tasnim\\AppData\\Local\\Temp\\ipykernel_16732\\1564753407.py\" target=\"_blank\"><span style=\"color: #7f7f7f; text-decoration-color: #7f7f7f\">1564753407.py</span></a><span style=\"color: #7f7f7f; text-decoration-color: #7f7f7f\">:</span><a href=\"file://C:\\Users\\Tasnim\\AppData\\Local\\Temp\\ipykernel_16732\\1564753407.py#9\" target=\"_blank\"><span style=\"color: #7f7f7f; text-decoration-color: #7f7f7f\">9</span></a>\n",
       "</pre>\n"
      ],
      "text/plain": [
       "\u001b[2;36m[05/22/25 20:53:04]\u001b[0m\u001b[2;36m \u001b[0m\u001b[34mINFO    \u001b[0m ✓ \u001b[1;36m217.\u001b[0mtxt → Basic\\Gemini\\\u001b[1;36m217.\u001b[0mcc                                        \u001b]8;id=888110;file://C:\\Users\\Tasnim\\AppData\\Local\\Temp\\ipykernel_16732\\1564753407.py\u001b\\\u001b[2m1564753407.py\u001b[0m\u001b]8;;\u001b\\\u001b[2m:\u001b[0m\u001b]8;id=979343;file://C:\\Users\\Tasnim\\AppData\\Local\\Temp\\ipykernel_16732\\1564753407.py#9\u001b\\\u001b[2m9\u001b[0m\u001b]8;;\u001b\\\n"
      ]
     },
     "metadata": {},
     "output_type": "display_data"
    },
    {
     "name": "stderr",
     "output_type": "stream",
     "text": [
      "Generating:  33%|███▎      | 132/400 [1:25:45<3:22:32, 45.35s/it]"
     ]
    },
    {
     "data": {
      "text/html": [
       "<pre style=\"white-space:pre;overflow-x:auto;line-height:normal;font-family:Menlo,'DejaVu Sans Mono',consolas,'Courier New',monospace\"><span style=\"color: #7fbfbf; text-decoration-color: #7fbfbf\">[05/22/25 20:53:39] </span><span style=\"color: #000080; text-decoration-color: #000080\">INFO    </span> ✓ <span style=\"color: #008080; text-decoration-color: #008080; font-weight: bold\">218.</span>txt → Basic\\Gemini\\<span style=\"color: #008080; text-decoration-color: #008080; font-weight: bold\">218.</span>cc                                        <a href=\"file://C:\\Users\\Tasnim\\AppData\\Local\\Temp\\ipykernel_16732\\1564753407.py\" target=\"_blank\"><span style=\"color: #7f7f7f; text-decoration-color: #7f7f7f\">1564753407.py</span></a><span style=\"color: #7f7f7f; text-decoration-color: #7f7f7f\">:</span><a href=\"file://C:\\Users\\Tasnim\\AppData\\Local\\Temp\\ipykernel_16732\\1564753407.py#9\" target=\"_blank\"><span style=\"color: #7f7f7f; text-decoration-color: #7f7f7f\">9</span></a>\n",
       "</pre>\n"
      ],
      "text/plain": [
       "\u001b[2;36m[05/22/25 20:53:39]\u001b[0m\u001b[2;36m \u001b[0m\u001b[34mINFO    \u001b[0m ✓ \u001b[1;36m218.\u001b[0mtxt → Basic\\Gemini\\\u001b[1;36m218.\u001b[0mcc                                        \u001b]8;id=864347;file://C:\\Users\\Tasnim\\AppData\\Local\\Temp\\ipykernel_16732\\1564753407.py\u001b\\\u001b[2m1564753407.py\u001b[0m\u001b]8;;\u001b\\\u001b[2m:\u001b[0m\u001b]8;id=878623;file://C:\\Users\\Tasnim\\AppData\\Local\\Temp\\ipykernel_16732\\1564753407.py#9\u001b\\\u001b[2m9\u001b[0m\u001b]8;;\u001b\\\n"
      ]
     },
     "metadata": {},
     "output_type": "display_data"
    },
    {
     "name": "stderr",
     "output_type": "stream",
     "text": [
      "Generating:  33%|███▎      | 133/400 [1:26:20<3:07:09, 42.06s/it]"
     ]
    },
    {
     "data": {
      "text/html": [
       "<pre style=\"white-space:pre;overflow-x:auto;line-height:normal;font-family:Menlo,'DejaVu Sans Mono',consolas,'Courier New',monospace\"><span style=\"color: #7fbfbf; text-decoration-color: #7fbfbf\">[05/22/25 20:54:14] </span><span style=\"color: #000080; text-decoration-color: #000080\">INFO    </span> ✓ <span style=\"color: #008080; text-decoration-color: #008080; font-weight: bold\">22.</span>txt → Basic\\Gemini\\<span style=\"color: #008080; text-decoration-color: #008080; font-weight: bold\">22.</span>cc                                          <a href=\"file://C:\\Users\\Tasnim\\AppData\\Local\\Temp\\ipykernel_16732\\1564753407.py\" target=\"_blank\"><span style=\"color: #7f7f7f; text-decoration-color: #7f7f7f\">1564753407.py</span></a><span style=\"color: #7f7f7f; text-decoration-color: #7f7f7f\">:</span><a href=\"file://C:\\Users\\Tasnim\\AppData\\Local\\Temp\\ipykernel_16732\\1564753407.py#9\" target=\"_blank\"><span style=\"color: #7f7f7f; text-decoration-color: #7f7f7f\">9</span></a>\n",
       "</pre>\n"
      ],
      "text/plain": [
       "\u001b[2;36m[05/22/25 20:54:14]\u001b[0m\u001b[2;36m \u001b[0m\u001b[34mINFO    \u001b[0m ✓ \u001b[1;36m22.\u001b[0mtxt → Basic\\Gemini\\\u001b[1;36m22.\u001b[0mcc                                          \u001b]8;id=484758;file://C:\\Users\\Tasnim\\AppData\\Local\\Temp\\ipykernel_16732\\1564753407.py\u001b\\\u001b[2m1564753407.py\u001b[0m\u001b]8;;\u001b\\\u001b[2m:\u001b[0m\u001b]8;id=830781;file://C:\\Users\\Tasnim\\AppData\\Local\\Temp\\ipykernel_16732\\1564753407.py#9\u001b\\\u001b[2m9\u001b[0m\u001b]8;;\u001b\\\n"
      ]
     },
     "metadata": {},
     "output_type": "display_data"
    },
    {
     "name": "stderr",
     "output_type": "stream",
     "text": [
      "Generating:  34%|███▎      | 134/400 [1:26:55<2:57:58, 40.14s/it]"
     ]
    },
    {
     "data": {
      "text/html": [
       "<pre style=\"white-space:pre;overflow-x:auto;line-height:normal;font-family:Menlo,'DejaVu Sans Mono',consolas,'Courier New',monospace\"><span style=\"color: #7fbfbf; text-decoration-color: #7fbfbf\">[05/22/25 20:55:43] </span><span style=\"color: #000080; text-decoration-color: #000080\">INFO    </span> ✓ <span style=\"color: #008080; text-decoration-color: #008080; font-weight: bold\">23.</span>txt → Basic\\Gemini\\<span style=\"color: #008080; text-decoration-color: #008080; font-weight: bold\">23.</span>cc                                          <a href=\"file://C:\\Users\\Tasnim\\AppData\\Local\\Temp\\ipykernel_16732\\1564753407.py\" target=\"_blank\"><span style=\"color: #7f7f7f; text-decoration-color: #7f7f7f\">1564753407.py</span></a><span style=\"color: #7f7f7f; text-decoration-color: #7f7f7f\">:</span><a href=\"file://C:\\Users\\Tasnim\\AppData\\Local\\Temp\\ipykernel_16732\\1564753407.py#9\" target=\"_blank\"><span style=\"color: #7f7f7f; text-decoration-color: #7f7f7f\">9</span></a>\n",
       "</pre>\n"
      ],
      "text/plain": [
       "\u001b[2;36m[05/22/25 20:55:43]\u001b[0m\u001b[2;36m \u001b[0m\u001b[34mINFO    \u001b[0m ✓ \u001b[1;36m23.\u001b[0mtxt → Basic\\Gemini\\\u001b[1;36m23.\u001b[0mcc                                          \u001b]8;id=470898;file://C:\\Users\\Tasnim\\AppData\\Local\\Temp\\ipykernel_16732\\1564753407.py\u001b\\\u001b[2m1564753407.py\u001b[0m\u001b]8;;\u001b\\\u001b[2m:\u001b[0m\u001b]8;id=687028;file://C:\\Users\\Tasnim\\AppData\\Local\\Temp\\ipykernel_16732\\1564753407.py#9\u001b\\\u001b[2m9\u001b[0m\u001b]8;;\u001b\\\n"
      ]
     },
     "metadata": {},
     "output_type": "display_data"
    },
    {
     "name": "stderr",
     "output_type": "stream",
     "text": [
      "Generating:  34%|███▍      | 135/400 [1:28:24<4:01:42, 54.73s/it]"
     ]
    },
    {
     "data": {
      "text/html": [
       "<pre style=\"white-space:pre;overflow-x:auto;line-height:normal;font-family:Menlo,'DejaVu Sans Mono',consolas,'Courier New',monospace\"><span style=\"color: #7fbfbf; text-decoration-color: #7fbfbf\">[05/22/25 20:57:23] </span><span style=\"color: #000080; text-decoration-color: #000080\">INFO    </span> ✓ <span style=\"color: #008080; text-decoration-color: #008080; font-weight: bold\">24.</span>txt → Basic\\Gemini\\<span style=\"color: #008080; text-decoration-color: #008080; font-weight: bold\">24.</span>cc                                          <a href=\"file://C:\\Users\\Tasnim\\AppData\\Local\\Temp\\ipykernel_16732\\1564753407.py\" target=\"_blank\"><span style=\"color: #7f7f7f; text-decoration-color: #7f7f7f\">1564753407.py</span></a><span style=\"color: #7f7f7f; text-decoration-color: #7f7f7f\">:</span><a href=\"file://C:\\Users\\Tasnim\\AppData\\Local\\Temp\\ipykernel_16732\\1564753407.py#9\" target=\"_blank\"><span style=\"color: #7f7f7f; text-decoration-color: #7f7f7f\">9</span></a>\n",
       "</pre>\n"
      ],
      "text/plain": [
       "\u001b[2;36m[05/22/25 20:57:23]\u001b[0m\u001b[2;36m \u001b[0m\u001b[34mINFO    \u001b[0m ✓ \u001b[1;36m24.\u001b[0mtxt → Basic\\Gemini\\\u001b[1;36m24.\u001b[0mcc                                          \u001b]8;id=827490;file://C:\\Users\\Tasnim\\AppData\\Local\\Temp\\ipykernel_16732\\1564753407.py\u001b\\\u001b[2m1564753407.py\u001b[0m\u001b]8;;\u001b\\\u001b[2m:\u001b[0m\u001b]8;id=381040;file://C:\\Users\\Tasnim\\AppData\\Local\\Temp\\ipykernel_16732\\1564753407.py#9\u001b\\\u001b[2m9\u001b[0m\u001b]8;;\u001b\\\n"
      ]
     },
     "metadata": {},
     "output_type": "display_data"
    },
    {
     "name": "stderr",
     "output_type": "stream",
     "text": [
      "Generating:  34%|███▍      | 136/400 [1:30:04<5:00:08, 68.21s/it]"
     ]
    },
    {
     "data": {
      "text/html": [
       "<pre style=\"white-space:pre;overflow-x:auto;line-height:normal;font-family:Menlo,'DejaVu Sans Mono',consolas,'Courier New',monospace\"><span style=\"color: #7fbfbf; text-decoration-color: #7fbfbf\">[05/22/25 20:58:29] </span><span style=\"color: #000080; text-decoration-color: #000080\">INFO    </span> ✓ <span style=\"color: #008080; text-decoration-color: #008080; font-weight: bold\">25.</span>txt → Basic\\Gemini\\<span style=\"color: #008080; text-decoration-color: #008080; font-weight: bold\">25.</span>cc                                          <a href=\"file://C:\\Users\\Tasnim\\AppData\\Local\\Temp\\ipykernel_16732\\1564753407.py\" target=\"_blank\"><span style=\"color: #7f7f7f; text-decoration-color: #7f7f7f\">1564753407.py</span></a><span style=\"color: #7f7f7f; text-decoration-color: #7f7f7f\">:</span><a href=\"file://C:\\Users\\Tasnim\\AppData\\Local\\Temp\\ipykernel_16732\\1564753407.py#9\" target=\"_blank\"><span style=\"color: #7f7f7f; text-decoration-color: #7f7f7f\">9</span></a>\n",
       "</pre>\n"
      ],
      "text/plain": [
       "\u001b[2;36m[05/22/25 20:58:29]\u001b[0m\u001b[2;36m \u001b[0m\u001b[34mINFO    \u001b[0m ✓ \u001b[1;36m25.\u001b[0mtxt → Basic\\Gemini\\\u001b[1;36m25.\u001b[0mcc                                          \u001b]8;id=616654;file://C:\\Users\\Tasnim\\AppData\\Local\\Temp\\ipykernel_16732\\1564753407.py\u001b\\\u001b[2m1564753407.py\u001b[0m\u001b]8;;\u001b\\\u001b[2m:\u001b[0m\u001b]8;id=973435;file://C:\\Users\\Tasnim\\AppData\\Local\\Temp\\ipykernel_16732\\1564753407.py#9\u001b\\\u001b[2m9\u001b[0m\u001b]8;;\u001b\\\n"
      ]
     },
     "metadata": {},
     "output_type": "display_data"
    },
    {
     "name": "stderr",
     "output_type": "stream",
     "text": [
      "Generating:  34%|███▍      | 137/400 [1:31:10<4:56:16, 67.59s/it]"
     ]
    },
    {
     "data": {
      "text/html": [
       "<pre style=\"white-space:pre;overflow-x:auto;line-height:normal;font-family:Menlo,'DejaVu Sans Mono',consolas,'Courier New',monospace\"><span style=\"color: #7fbfbf; text-decoration-color: #7fbfbf\">[05/22/25 20:59:08] </span><span style=\"color: #000080; text-decoration-color: #000080\">INFO    </span> ✓ <span style=\"color: #008080; text-decoration-color: #008080; font-weight: bold\">26.</span>txt → Basic\\Gemini\\<span style=\"color: #008080; text-decoration-color: #008080; font-weight: bold\">26.</span>cc                                          <a href=\"file://C:\\Users\\Tasnim\\AppData\\Local\\Temp\\ipykernel_16732\\1564753407.py\" target=\"_blank\"><span style=\"color: #7f7f7f; text-decoration-color: #7f7f7f\">1564753407.py</span></a><span style=\"color: #7f7f7f; text-decoration-color: #7f7f7f\">:</span><a href=\"file://C:\\Users\\Tasnim\\AppData\\Local\\Temp\\ipykernel_16732\\1564753407.py#9\" target=\"_blank\"><span style=\"color: #7f7f7f; text-decoration-color: #7f7f7f\">9</span></a>\n",
       "</pre>\n"
      ],
      "text/plain": [
       "\u001b[2;36m[05/22/25 20:59:08]\u001b[0m\u001b[2;36m \u001b[0m\u001b[34mINFO    \u001b[0m ✓ \u001b[1;36m26.\u001b[0mtxt → Basic\\Gemini\\\u001b[1;36m26.\u001b[0mcc                                          \u001b]8;id=936697;file://C:\\Users\\Tasnim\\AppData\\Local\\Temp\\ipykernel_16732\\1564753407.py\u001b\\\u001b[2m1564753407.py\u001b[0m\u001b]8;;\u001b\\\u001b[2m:\u001b[0m\u001b]8;id=589854;file://C:\\Users\\Tasnim\\AppData\\Local\\Temp\\ipykernel_16732\\1564753407.py#9\u001b\\\u001b[2m9\u001b[0m\u001b]8;;\u001b\\\n"
      ]
     },
     "metadata": {},
     "output_type": "display_data"
    },
    {
     "name": "stderr",
     "output_type": "stream",
     "text": [
      "Generating:  34%|███▍      | 138/400 [1:31:49<4:17:37, 59.00s/it]"
     ]
    },
    {
     "data": {
      "text/html": [
       "<pre style=\"white-space:pre;overflow-x:auto;line-height:normal;font-family:Menlo,'DejaVu Sans Mono',consolas,'Courier New',monospace\"><span style=\"color: #7fbfbf; text-decoration-color: #7fbfbf\">[05/22/25 20:59:51] </span><span style=\"color: #000080; text-decoration-color: #000080\">INFO    </span> ✓ <span style=\"color: #008080; text-decoration-color: #008080; font-weight: bold\">27.</span>txt → Basic\\Gemini\\<span style=\"color: #008080; text-decoration-color: #008080; font-weight: bold\">27.</span>cc                                          <a href=\"file://C:\\Users\\Tasnim\\AppData\\Local\\Temp\\ipykernel_16732\\1564753407.py\" target=\"_blank\"><span style=\"color: #7f7f7f; text-decoration-color: #7f7f7f\">1564753407.py</span></a><span style=\"color: #7f7f7f; text-decoration-color: #7f7f7f\">:</span><a href=\"file://C:\\Users\\Tasnim\\AppData\\Local\\Temp\\ipykernel_16732\\1564753407.py#9\" target=\"_blank\"><span style=\"color: #7f7f7f; text-decoration-color: #7f7f7f\">9</span></a>\n",
       "</pre>\n"
      ],
      "text/plain": [
       "\u001b[2;36m[05/22/25 20:59:51]\u001b[0m\u001b[2;36m \u001b[0m\u001b[34mINFO    \u001b[0m ✓ \u001b[1;36m27.\u001b[0mtxt → Basic\\Gemini\\\u001b[1;36m27.\u001b[0mcc                                          \u001b]8;id=511128;file://C:\\Users\\Tasnim\\AppData\\Local\\Temp\\ipykernel_16732\\1564753407.py\u001b\\\u001b[2m1564753407.py\u001b[0m\u001b]8;;\u001b\\\u001b[2m:\u001b[0m\u001b]8;id=672393;file://C:\\Users\\Tasnim\\AppData\\Local\\Temp\\ipykernel_16732\\1564753407.py#9\u001b\\\u001b[2m9\u001b[0m\u001b]8;;\u001b\\\n"
      ]
     },
     "metadata": {},
     "output_type": "display_data"
    },
    {
     "name": "stderr",
     "output_type": "stream",
     "text": [
      "Generating:  35%|███▍      | 139/400 [1:32:32<3:55:54, 54.23s/it]"
     ]
    },
    {
     "data": {
      "text/html": [
       "<pre style=\"white-space:pre;overflow-x:auto;line-height:normal;font-family:Menlo,'DejaVu Sans Mono',consolas,'Courier New',monospace\"><span style=\"color: #7fbfbf; text-decoration-color: #7fbfbf\">[05/22/25 21:00:55] </span><span style=\"color: #000080; text-decoration-color: #000080\">INFO    </span> ✓ <span style=\"color: #008080; text-decoration-color: #008080; font-weight: bold\">28.</span>txt → Basic\\Gemini\\<span style=\"color: #008080; text-decoration-color: #008080; font-weight: bold\">28.</span>cc                                          <a href=\"file://C:\\Users\\Tasnim\\AppData\\Local\\Temp\\ipykernel_16732\\1564753407.py\" target=\"_blank\"><span style=\"color: #7f7f7f; text-decoration-color: #7f7f7f\">1564753407.py</span></a><span style=\"color: #7f7f7f; text-decoration-color: #7f7f7f\">:</span><a href=\"file://C:\\Users\\Tasnim\\AppData\\Local\\Temp\\ipykernel_16732\\1564753407.py#9\" target=\"_blank\"><span style=\"color: #7f7f7f; text-decoration-color: #7f7f7f\">9</span></a>\n",
       "</pre>\n"
      ],
      "text/plain": [
       "\u001b[2;36m[05/22/25 21:00:55]\u001b[0m\u001b[2;36m \u001b[0m\u001b[34mINFO    \u001b[0m ✓ \u001b[1;36m28.\u001b[0mtxt → Basic\\Gemini\\\u001b[1;36m28.\u001b[0mcc                                          \u001b]8;id=604080;file://C:\\Users\\Tasnim\\AppData\\Local\\Temp\\ipykernel_16732\\1564753407.py\u001b\\\u001b[2m1564753407.py\u001b[0m\u001b]8;;\u001b\\\u001b[2m:\u001b[0m\u001b]8;id=570089;file://C:\\Users\\Tasnim\\AppData\\Local\\Temp\\ipykernel_16732\\1564753407.py#9\u001b\\\u001b[2m9\u001b[0m\u001b]8;;\u001b\\\n"
      ]
     },
     "metadata": {},
     "output_type": "display_data"
    },
    {
     "name": "stderr",
     "output_type": "stream",
     "text": [
      "Generating:  35%|███▌      | 140/400 [1:33:36<4:07:55, 57.21s/it]"
     ]
    },
    {
     "data": {
      "text/html": [
       "<pre style=\"white-space:pre;overflow-x:auto;line-height:normal;font-family:Menlo,'DejaVu Sans Mono',consolas,'Courier New',monospace\"><span style=\"color: #7fbfbf; text-decoration-color: #7fbfbf\">[05/22/25 21:02:09] </span><span style=\"color: #000080; text-decoration-color: #000080\">INFO    </span> ✓ <span style=\"color: #008080; text-decoration-color: #008080; font-weight: bold\">29.</span>txt → Basic\\Gemini\\<span style=\"color: #008080; text-decoration-color: #008080; font-weight: bold\">29.</span>cc                                          <a href=\"file://C:\\Users\\Tasnim\\AppData\\Local\\Temp\\ipykernel_16732\\1564753407.py\" target=\"_blank\"><span style=\"color: #7f7f7f; text-decoration-color: #7f7f7f\">1564753407.py</span></a><span style=\"color: #7f7f7f; text-decoration-color: #7f7f7f\">:</span><a href=\"file://C:\\Users\\Tasnim\\AppData\\Local\\Temp\\ipykernel_16732\\1564753407.py#9\" target=\"_blank\"><span style=\"color: #7f7f7f; text-decoration-color: #7f7f7f\">9</span></a>\n",
       "</pre>\n"
      ],
      "text/plain": [
       "\u001b[2;36m[05/22/25 21:02:09]\u001b[0m\u001b[2;36m \u001b[0m\u001b[34mINFO    \u001b[0m ✓ \u001b[1;36m29.\u001b[0mtxt → Basic\\Gemini\\\u001b[1;36m29.\u001b[0mcc                                          \u001b]8;id=716396;file://C:\\Users\\Tasnim\\AppData\\Local\\Temp\\ipykernel_16732\\1564753407.py\u001b\\\u001b[2m1564753407.py\u001b[0m\u001b]8;;\u001b\\\u001b[2m:\u001b[0m\u001b]8;id=200171;file://C:\\Users\\Tasnim\\AppData\\Local\\Temp\\ipykernel_16732\\1564753407.py#9\u001b\\\u001b[2m9\u001b[0m\u001b]8;;\u001b\\\n"
      ]
     },
     "metadata": {},
     "output_type": "display_data"
    },
    {
     "name": "stderr",
     "output_type": "stream",
     "text": [
      "Generating:  35%|███▌      | 141/400 [1:34:50<4:28:22, 62.17s/it]"
     ]
    },
    {
     "data": {
      "text/html": [
       "<pre style=\"white-space:pre;overflow-x:auto;line-height:normal;font-family:Menlo,'DejaVu Sans Mono',consolas,'Courier New',monospace\"><span style=\"color: #7fbfbf; text-decoration-color: #7fbfbf\">[05/22/25 21:02:22] </span><span style=\"color: #000080; text-decoration-color: #000080\">INFO    </span> ✓ <span style=\"color: #008080; text-decoration-color: #008080; font-weight: bold\">3.</span>txt → Basic\\Gemini\\<span style=\"color: #008080; text-decoration-color: #008080; font-weight: bold\">3.</span>cc                                            <a href=\"file://C:\\Users\\Tasnim\\AppData\\Local\\Temp\\ipykernel_16732\\1564753407.py\" target=\"_blank\"><span style=\"color: #7f7f7f; text-decoration-color: #7f7f7f\">1564753407.py</span></a><span style=\"color: #7f7f7f; text-decoration-color: #7f7f7f\">:</span><a href=\"file://C:\\Users\\Tasnim\\AppData\\Local\\Temp\\ipykernel_16732\\1564753407.py#9\" target=\"_blank\"><span style=\"color: #7f7f7f; text-decoration-color: #7f7f7f\">9</span></a>\n",
       "</pre>\n"
      ],
      "text/plain": [
       "\u001b[2;36m[05/22/25 21:02:22]\u001b[0m\u001b[2;36m \u001b[0m\u001b[34mINFO    \u001b[0m ✓ \u001b[1;36m3.\u001b[0mtxt → Basic\\Gemini\\\u001b[1;36m3.\u001b[0mcc                                            \u001b]8;id=492352;file://C:\\Users\\Tasnim\\AppData\\Local\\Temp\\ipykernel_16732\\1564753407.py\u001b\\\u001b[2m1564753407.py\u001b[0m\u001b]8;;\u001b\\\u001b[2m:\u001b[0m\u001b]8;id=222713;file://C:\\Users\\Tasnim\\AppData\\Local\\Temp\\ipykernel_16732\\1564753407.py#9\u001b\\\u001b[2m9\u001b[0m\u001b]8;;\u001b\\\n"
      ]
     },
     "metadata": {},
     "output_type": "display_data"
    },
    {
     "name": "stderr",
     "output_type": "stream",
     "text": [
      "Generating:  36%|███▌      | 142/400 [1:35:03<3:24:16, 47.50s/it]"
     ]
    },
    {
     "data": {
      "text/html": [
       "<pre style=\"white-space:pre;overflow-x:auto;line-height:normal;font-family:Menlo,'DejaVu Sans Mono',consolas,'Courier New',monospace\"><span style=\"color: #7fbfbf; text-decoration-color: #7fbfbf\">[05/22/25 21:03:05] </span><span style=\"color: #000080; text-decoration-color: #000080\">INFO    </span> ✓ <span style=\"color: #008080; text-decoration-color: #008080; font-weight: bold\">30.</span>txt → Basic\\Gemini\\<span style=\"color: #008080; text-decoration-color: #008080; font-weight: bold\">30.</span>cc                                          <a href=\"file://C:\\Users\\Tasnim\\AppData\\Local\\Temp\\ipykernel_16732\\1564753407.py\" target=\"_blank\"><span style=\"color: #7f7f7f; text-decoration-color: #7f7f7f\">1564753407.py</span></a><span style=\"color: #7f7f7f; text-decoration-color: #7f7f7f\">:</span><a href=\"file://C:\\Users\\Tasnim\\AppData\\Local\\Temp\\ipykernel_16732\\1564753407.py#9\" target=\"_blank\"><span style=\"color: #7f7f7f; text-decoration-color: #7f7f7f\">9</span></a>\n",
       "</pre>\n"
      ],
      "text/plain": [
       "\u001b[2;36m[05/22/25 21:03:05]\u001b[0m\u001b[2;36m \u001b[0m\u001b[34mINFO    \u001b[0m ✓ \u001b[1;36m30.\u001b[0mtxt → Basic\\Gemini\\\u001b[1;36m30.\u001b[0mcc                                          \u001b]8;id=329769;file://C:\\Users\\Tasnim\\AppData\\Local\\Temp\\ipykernel_16732\\1564753407.py\u001b\\\u001b[2m1564753407.py\u001b[0m\u001b]8;;\u001b\\\u001b[2m:\u001b[0m\u001b]8;id=74294;file://C:\\Users\\Tasnim\\AppData\\Local\\Temp\\ipykernel_16732\\1564753407.py#9\u001b\\\u001b[2m9\u001b[0m\u001b]8;;\u001b\\\n"
      ]
     },
     "metadata": {},
     "output_type": "display_data"
    },
    {
     "name": "stderr",
     "output_type": "stream",
     "text": [
      "Generating:  36%|███▌      | 143/400 [1:35:46<3:17:55, 46.21s/it]"
     ]
    },
    {
     "data": {
      "text/html": [
       "<pre style=\"white-space:pre;overflow-x:auto;line-height:normal;font-family:Menlo,'DejaVu Sans Mono',consolas,'Courier New',monospace\"><span style=\"color: #7fbfbf; text-decoration-color: #7fbfbf\">[05/22/25 21:04:05] </span><span style=\"color: #000080; text-decoration-color: #000080\">INFO    </span> ✓ <span style=\"color: #008080; text-decoration-color: #008080; font-weight: bold\">31.</span>txt → Basic\\Gemini\\<span style=\"color: #008080; text-decoration-color: #008080; font-weight: bold\">31.</span>cc                                          <a href=\"file://C:\\Users\\Tasnim\\AppData\\Local\\Temp\\ipykernel_16732\\1564753407.py\" target=\"_blank\"><span style=\"color: #7f7f7f; text-decoration-color: #7f7f7f\">1564753407.py</span></a><span style=\"color: #7f7f7f; text-decoration-color: #7f7f7f\">:</span><a href=\"file://C:\\Users\\Tasnim\\AppData\\Local\\Temp\\ipykernel_16732\\1564753407.py#9\" target=\"_blank\"><span style=\"color: #7f7f7f; text-decoration-color: #7f7f7f\">9</span></a>\n",
       "</pre>\n"
      ],
      "text/plain": [
       "\u001b[2;36m[05/22/25 21:04:05]\u001b[0m\u001b[2;36m \u001b[0m\u001b[34mINFO    \u001b[0m ✓ \u001b[1;36m31.\u001b[0mtxt → Basic\\Gemini\\\u001b[1;36m31.\u001b[0mcc                                          \u001b]8;id=791577;file://C:\\Users\\Tasnim\\AppData\\Local\\Temp\\ipykernel_16732\\1564753407.py\u001b\\\u001b[2m1564753407.py\u001b[0m\u001b]8;;\u001b\\\u001b[2m:\u001b[0m\u001b]8;id=230745;file://C:\\Users\\Tasnim\\AppData\\Local\\Temp\\ipykernel_16732\\1564753407.py#9\u001b\\\u001b[2m9\u001b[0m\u001b]8;;\u001b\\\n"
      ]
     },
     "metadata": {},
     "output_type": "display_data"
    },
    {
     "name": "stderr",
     "output_type": "stream",
     "text": [
      "Generating:  36%|███▌      | 144/400 [1:36:46<3:34:44, 50.33s/it]"
     ]
    },
    {
     "data": {
      "text/html": [
       "<pre style=\"white-space:pre;overflow-x:auto;line-height:normal;font-family:Menlo,'DejaVu Sans Mono',consolas,'Courier New',monospace\"><span style=\"color: #7fbfbf; text-decoration-color: #7fbfbf\">[05/22/25 21:05:01] </span><span style=\"color: #000080; text-decoration-color: #000080\">INFO    </span> ✓ <span style=\"color: #008080; text-decoration-color: #008080; font-weight: bold\">32.</span>txt → Basic\\Gemini\\<span style=\"color: #008080; text-decoration-color: #008080; font-weight: bold\">32.</span>cc                                          <a href=\"file://C:\\Users\\Tasnim\\AppData\\Local\\Temp\\ipykernel_16732\\1564753407.py\" target=\"_blank\"><span style=\"color: #7f7f7f; text-decoration-color: #7f7f7f\">1564753407.py</span></a><span style=\"color: #7f7f7f; text-decoration-color: #7f7f7f\">:</span><a href=\"file://C:\\Users\\Tasnim\\AppData\\Local\\Temp\\ipykernel_16732\\1564753407.py#9\" target=\"_blank\"><span style=\"color: #7f7f7f; text-decoration-color: #7f7f7f\">9</span></a>\n",
       "</pre>\n"
      ],
      "text/plain": [
       "\u001b[2;36m[05/22/25 21:05:01]\u001b[0m\u001b[2;36m \u001b[0m\u001b[34mINFO    \u001b[0m ✓ \u001b[1;36m32.\u001b[0mtxt → Basic\\Gemini\\\u001b[1;36m32.\u001b[0mcc                                          \u001b]8;id=867802;file://C:\\Users\\Tasnim\\AppData\\Local\\Temp\\ipykernel_16732\\1564753407.py\u001b\\\u001b[2m1564753407.py\u001b[0m\u001b]8;;\u001b\\\u001b[2m:\u001b[0m\u001b]8;id=530541;file://C:\\Users\\Tasnim\\AppData\\Local\\Temp\\ipykernel_16732\\1564753407.py#9\u001b\\\u001b[2m9\u001b[0m\u001b]8;;\u001b\\\n"
      ]
     },
     "metadata": {},
     "output_type": "display_data"
    },
    {
     "name": "stderr",
     "output_type": "stream",
     "text": [
      "Generating:  36%|███▋      | 145/400 [1:37:42<3:40:24, 51.86s/it]"
     ]
    },
    {
     "data": {
      "text/html": [
       "<pre style=\"white-space:pre;overflow-x:auto;line-height:normal;font-family:Menlo,'DejaVu Sans Mono',consolas,'Courier New',monospace\"><span style=\"color: #7fbfbf; text-decoration-color: #7fbfbf\">[05/22/25 21:05:44] </span><span style=\"color: #000080; text-decoration-color: #000080\">INFO    </span> ✓ <span style=\"color: #008080; text-decoration-color: #008080; font-weight: bold\">33.</span>txt → Basic\\Gemini\\<span style=\"color: #008080; text-decoration-color: #008080; font-weight: bold\">33.</span>cc                                          <a href=\"file://C:\\Users\\Tasnim\\AppData\\Local\\Temp\\ipykernel_16732\\1564753407.py\" target=\"_blank\"><span style=\"color: #7f7f7f; text-decoration-color: #7f7f7f\">1564753407.py</span></a><span style=\"color: #7f7f7f; text-decoration-color: #7f7f7f\">:</span><a href=\"file://C:\\Users\\Tasnim\\AppData\\Local\\Temp\\ipykernel_16732\\1564753407.py#9\" target=\"_blank\"><span style=\"color: #7f7f7f; text-decoration-color: #7f7f7f\">9</span></a>\n",
       "</pre>\n"
      ],
      "text/plain": [
       "\u001b[2;36m[05/22/25 21:05:44]\u001b[0m\u001b[2;36m \u001b[0m\u001b[34mINFO    \u001b[0m ✓ \u001b[1;36m33.\u001b[0mtxt → Basic\\Gemini\\\u001b[1;36m33.\u001b[0mcc                                          \u001b]8;id=354845;file://C:\\Users\\Tasnim\\AppData\\Local\\Temp\\ipykernel_16732\\1564753407.py\u001b\\\u001b[2m1564753407.py\u001b[0m\u001b]8;;\u001b\\\u001b[2m:\u001b[0m\u001b]8;id=286157;file://C:\\Users\\Tasnim\\AppData\\Local\\Temp\\ipykernel_16732\\1564753407.py#9\u001b\\\u001b[2m9\u001b[0m\u001b]8;;\u001b\\\n"
      ]
     },
     "metadata": {},
     "output_type": "display_data"
    },
    {
     "name": "stderr",
     "output_type": "stream",
     "text": [
      "Generating:  36%|███▋      | 146/400 [1:38:25<3:28:56, 49.36s/it]"
     ]
    },
    {
     "data": {
      "text/html": [
       "<pre style=\"white-space:pre;overflow-x:auto;line-height:normal;font-family:Menlo,'DejaVu Sans Mono',consolas,'Courier New',monospace\"><span style=\"color: #7fbfbf; text-decoration-color: #7fbfbf\">[05/22/25 21:07:11] </span><span style=\"color: #000080; text-decoration-color: #000080\">INFO    </span> ✓ <span style=\"color: #008080; text-decoration-color: #008080; font-weight: bold\">34.</span>txt → Basic\\Gemini\\<span style=\"color: #008080; text-decoration-color: #008080; font-weight: bold\">34.</span>cc                                          <a href=\"file://C:\\Users\\Tasnim\\AppData\\Local\\Temp\\ipykernel_16732\\1564753407.py\" target=\"_blank\"><span style=\"color: #7f7f7f; text-decoration-color: #7f7f7f\">1564753407.py</span></a><span style=\"color: #7f7f7f; text-decoration-color: #7f7f7f\">:</span><a href=\"file://C:\\Users\\Tasnim\\AppData\\Local\\Temp\\ipykernel_16732\\1564753407.py#9\" target=\"_blank\"><span style=\"color: #7f7f7f; text-decoration-color: #7f7f7f\">9</span></a>\n",
       "</pre>\n"
      ],
      "text/plain": [
       "\u001b[2;36m[05/22/25 21:07:11]\u001b[0m\u001b[2;36m \u001b[0m\u001b[34mINFO    \u001b[0m ✓ \u001b[1;36m34.\u001b[0mtxt → Basic\\Gemini\\\u001b[1;36m34.\u001b[0mcc                                          \u001b]8;id=474810;file://C:\\Users\\Tasnim\\AppData\\Local\\Temp\\ipykernel_16732\\1564753407.py\u001b\\\u001b[2m1564753407.py\u001b[0m\u001b]8;;\u001b\\\u001b[2m:\u001b[0m\u001b]8;id=3169;file://C:\\Users\\Tasnim\\AppData\\Local\\Temp\\ipykernel_16732\\1564753407.py#9\u001b\\\u001b[2m9\u001b[0m\u001b]8;;\u001b\\\n"
      ]
     },
     "metadata": {},
     "output_type": "display_data"
    },
    {
     "name": "stderr",
     "output_type": "stream",
     "text": [
      "Generating:  37%|███▋      | 147/400 [1:39:52<4:15:18, 60.55s/it]"
     ]
    },
    {
     "data": {
      "text/html": [
       "<pre style=\"white-space:pre;overflow-x:auto;line-height:normal;font-family:Menlo,'DejaVu Sans Mono',consolas,'Courier New',monospace\"><span style=\"color: #7fbfbf; text-decoration-color: #7fbfbf\">[05/22/25 21:08:37] </span><span style=\"color: #000080; text-decoration-color: #000080\">INFO    </span> ✓ <span style=\"color: #008080; text-decoration-color: #008080; font-weight: bold\">35.</span>txt → Basic\\Gemini\\<span style=\"color: #008080; text-decoration-color: #008080; font-weight: bold\">35.</span>cc                                          <a href=\"file://C:\\Users\\Tasnim\\AppData\\Local\\Temp\\ipykernel_16732\\1564753407.py\" target=\"_blank\"><span style=\"color: #7f7f7f; text-decoration-color: #7f7f7f\">1564753407.py</span></a><span style=\"color: #7f7f7f; text-decoration-color: #7f7f7f\">:</span><a href=\"file://C:\\Users\\Tasnim\\AppData\\Local\\Temp\\ipykernel_16732\\1564753407.py#9\" target=\"_blank\"><span style=\"color: #7f7f7f; text-decoration-color: #7f7f7f\">9</span></a>\n",
       "</pre>\n"
      ],
      "text/plain": [
       "\u001b[2;36m[05/22/25 21:08:37]\u001b[0m\u001b[2;36m \u001b[0m\u001b[34mINFO    \u001b[0m ✓ \u001b[1;36m35.\u001b[0mtxt → Basic\\Gemini\\\u001b[1;36m35.\u001b[0mcc                                          \u001b]8;id=211446;file://C:\\Users\\Tasnim\\AppData\\Local\\Temp\\ipykernel_16732\\1564753407.py\u001b\\\u001b[2m1564753407.py\u001b[0m\u001b]8;;\u001b\\\u001b[2m:\u001b[0m\u001b]8;id=608406;file://C:\\Users\\Tasnim\\AppData\\Local\\Temp\\ipykernel_16732\\1564753407.py#9\u001b\\\u001b[2m9\u001b[0m\u001b]8;;\u001b\\\n"
      ]
     },
     "metadata": {},
     "output_type": "display_data"
    },
    {
     "name": "stderr",
     "output_type": "stream",
     "text": [
      "Generating:  37%|███▋      | 148/400 [1:41:18<4:46:24, 68.19s/it]"
     ]
    },
    {
     "data": {
      "text/html": [
       "<pre style=\"white-space:pre;overflow-x:auto;line-height:normal;font-family:Menlo,'DejaVu Sans Mono',consolas,'Courier New',monospace\"><span style=\"color: #7fbfbf; text-decoration-color: #7fbfbf\">[05/22/25 21:10:10] </span><span style=\"color: #000080; text-decoration-color: #000080\">INFO    </span> ✓ <span style=\"color: #008080; text-decoration-color: #008080; font-weight: bold\">36.</span>txt → Basic\\Gemini\\<span style=\"color: #008080; text-decoration-color: #008080; font-weight: bold\">36.</span>cc                                          <a href=\"file://C:\\Users\\Tasnim\\AppData\\Local\\Temp\\ipykernel_16732\\1564753407.py\" target=\"_blank\"><span style=\"color: #7f7f7f; text-decoration-color: #7f7f7f\">1564753407.py</span></a><span style=\"color: #7f7f7f; text-decoration-color: #7f7f7f\">:</span><a href=\"file://C:\\Users\\Tasnim\\AppData\\Local\\Temp\\ipykernel_16732\\1564753407.py#9\" target=\"_blank\"><span style=\"color: #7f7f7f; text-decoration-color: #7f7f7f\">9</span></a>\n",
       "</pre>\n"
      ],
      "text/plain": [
       "\u001b[2;36m[05/22/25 21:10:10]\u001b[0m\u001b[2;36m \u001b[0m\u001b[34mINFO    \u001b[0m ✓ \u001b[1;36m36.\u001b[0mtxt → Basic\\Gemini\\\u001b[1;36m36.\u001b[0mcc                                          \u001b]8;id=586967;file://C:\\Users\\Tasnim\\AppData\\Local\\Temp\\ipykernel_16732\\1564753407.py\u001b\\\u001b[2m1564753407.py\u001b[0m\u001b]8;;\u001b\\\u001b[2m:\u001b[0m\u001b]8;id=576899;file://C:\\Users\\Tasnim\\AppData\\Local\\Temp\\ipykernel_16732\\1564753407.py#9\u001b\\\u001b[2m9\u001b[0m\u001b]8;;\u001b\\\n"
      ]
     },
     "metadata": {},
     "output_type": "display_data"
    },
    {
     "name": "stderr",
     "output_type": "stream",
     "text": [
      "Generating:  37%|███▋      | 149/400 [1:42:51<5:16:36, 75.68s/it]"
     ]
    },
    {
     "data": {
      "text/html": [
       "<pre style=\"white-space:pre;overflow-x:auto;line-height:normal;font-family:Menlo,'DejaVu Sans Mono',consolas,'Courier New',monospace\"><span style=\"color: #7fbfbf; text-decoration-color: #7fbfbf\">[05/22/25 21:11:36] </span><span style=\"color: #000080; text-decoration-color: #000080\">INFO    </span> ✓ <span style=\"color: #008080; text-decoration-color: #008080; font-weight: bold\">37.</span>txt → Basic\\Gemini\\<span style=\"color: #008080; text-decoration-color: #008080; font-weight: bold\">37.</span>cc                                          <a href=\"file://C:\\Users\\Tasnim\\AppData\\Local\\Temp\\ipykernel_16732\\1564753407.py\" target=\"_blank\"><span style=\"color: #7f7f7f; text-decoration-color: #7f7f7f\">1564753407.py</span></a><span style=\"color: #7f7f7f; text-decoration-color: #7f7f7f\">:</span><a href=\"file://C:\\Users\\Tasnim\\AppData\\Local\\Temp\\ipykernel_16732\\1564753407.py#9\" target=\"_blank\"><span style=\"color: #7f7f7f; text-decoration-color: #7f7f7f\">9</span></a>\n",
       "</pre>\n"
      ],
      "text/plain": [
       "\u001b[2;36m[05/22/25 21:11:36]\u001b[0m\u001b[2;36m \u001b[0m\u001b[34mINFO    \u001b[0m ✓ \u001b[1;36m37.\u001b[0mtxt → Basic\\Gemini\\\u001b[1;36m37.\u001b[0mcc                                          \u001b]8;id=389490;file://C:\\Users\\Tasnim\\AppData\\Local\\Temp\\ipykernel_16732\\1564753407.py\u001b\\\u001b[2m1564753407.py\u001b[0m\u001b]8;;\u001b\\\u001b[2m:\u001b[0m\u001b]8;id=567730;file://C:\\Users\\Tasnim\\AppData\\Local\\Temp\\ipykernel_16732\\1564753407.py#9\u001b\\\u001b[2m9\u001b[0m\u001b]8;;\u001b\\\n"
      ]
     },
     "metadata": {},
     "output_type": "display_data"
    },
    {
     "name": "stderr",
     "output_type": "stream",
     "text": [
      "Generating:  38%|███▊      | 150/400 [1:44:17<5:27:47, 78.67s/it]"
     ]
    },
    {
     "data": {
      "text/html": [
       "<pre style=\"white-space:pre;overflow-x:auto;line-height:normal;font-family:Menlo,'DejaVu Sans Mono',consolas,'Courier New',monospace\"><span style=\"color: #7fbfbf; text-decoration-color: #7fbfbf\">[05/22/25 21:15:28] </span><span style=\"color: #800000; text-decoration-color: #800000; font-weight: bold\">ERROR   </span> ✗ <span style=\"color: #008080; text-decoration-color: #008080; font-weight: bold\">38.</span>txt – Invalid operation: The `response.text` quick accessor      <a href=\"file://C:\\Users\\Tasnim\\AppData\\Local\\Temp\\ipykernel_16732\\1564753407.py\" target=\"_blank\"><span style=\"color: #7f7f7f; text-decoration-color: #7f7f7f\">1564753407.py</span></a><span style=\"color: #7f7f7f; text-decoration-color: #7f7f7f\">:</span><a href=\"file://C:\\Users\\Tasnim\\AppData\\Local\\Temp\\ipykernel_16732\\1564753407.py#11\" target=\"_blank\"><span style=\"color: #7f7f7f; text-decoration-color: #7f7f7f\">11</span></a>\n",
       "<span style=\"color: #7fbfbf; text-decoration-color: #7fbfbf\">                    </span>         requires the response to contain a valid `Part`, but none were        <span style=\"color: #7f7f7f; text-decoration-color: #7f7f7f\">                </span>\n",
       "<span style=\"color: #7fbfbf; text-decoration-color: #7fbfbf\">                    </span>         returned. The candidate's                                             <span style=\"color: #7f7f7f; text-decoration-color: #7f7f7f\">                </span>\n",
       "<span style=\"color: #7fbfbf; text-decoration-color: #7fbfbf\">                    </span>         <span style=\"font-weight: bold\">[</span>finish_reason<span style=\"font-weight: bold\">](</span><span style=\"color: #0000ff; text-decoration-color: #0000ff; text-decoration: underline\">https://ai.google.dev/api/generate-content#finishreas</span> <span style=\"color: #7f7f7f; text-decoration-color: #7f7f7f\">                </span>\n",
       "<span style=\"color: #7fbfbf; text-decoration-color: #7fbfbf\">                    </span>         <span style=\"color: #0000ff; text-decoration-color: #0000ff; text-decoration: underline\">on)</span> is <span style=\"color: #008080; text-decoration-color: #008080; font-weight: bold\">2</span>.                                                             <span style=\"color: #7f7f7f; text-decoration-color: #7f7f7f\">                </span>\n",
       "</pre>\n"
      ],
      "text/plain": [
       "\u001b[2;36m[05/22/25 21:15:28]\u001b[0m\u001b[2;36m \u001b[0m\u001b[1;31mERROR   \u001b[0m ✗ \u001b[1;36m38.\u001b[0mtxt – Invalid operation: The `response.text` quick accessor      \u001b]8;id=324412;file://C:\\Users\\Tasnim\\AppData\\Local\\Temp\\ipykernel_16732\\1564753407.py\u001b\\\u001b[2m1564753407.py\u001b[0m\u001b]8;;\u001b\\\u001b[2m:\u001b[0m\u001b]8;id=208992;file://C:\\Users\\Tasnim\\AppData\\Local\\Temp\\ipykernel_16732\\1564753407.py#11\u001b\\\u001b[2m11\u001b[0m\u001b]8;;\u001b\\\n",
       "\u001b[2;36m                    \u001b[0m         requires the response to contain a valid `Part`, but none were        \u001b[2m                \u001b[0m\n",
       "\u001b[2;36m                    \u001b[0m         returned. The candidate's                                             \u001b[2m                \u001b[0m\n",
       "\u001b[2;36m                    \u001b[0m         \u001b[1m[\u001b[0mfinish_reason\u001b[1m]\u001b[0m\u001b[1m(\u001b[0m\u001b[4;94mhttps://ai.google.dev/api/generate-content#finishreas\u001b[0m \u001b[2m                \u001b[0m\n",
       "\u001b[2;36m                    \u001b[0m         \u001b[4;94mon\u001b[0m\u001b[4;94m)\u001b[0m is \u001b[1;36m2\u001b[0m.                                                             \u001b[2m                \u001b[0m\n"
      ]
     },
     "metadata": {},
     "output_type": "display_data"
    },
    {
     "name": "stderr",
     "output_type": "stream",
     "text": [
      "Generating:  38%|███▊      | 151/400 [1:48:08<8:37:04, 124.60s/it]"
     ]
    },
    {
     "data": {
      "text/html": [
       "<pre style=\"white-space:pre;overflow-x:auto;line-height:normal;font-family:Menlo,'DejaVu Sans Mono',consolas,'Courier New',monospace\"><span style=\"color: #7fbfbf; text-decoration-color: #7fbfbf\">[05/22/25 21:16:31] </span><span style=\"color: #000080; text-decoration-color: #000080\">INFO    </span> ✓ <span style=\"color: #008080; text-decoration-color: #008080; font-weight: bold\">39.</span>txt → Basic\\Gemini\\<span style=\"color: #008080; text-decoration-color: #008080; font-weight: bold\">39.</span>cc                                          <a href=\"file://C:\\Users\\Tasnim\\AppData\\Local\\Temp\\ipykernel_16732\\1564753407.py\" target=\"_blank\"><span style=\"color: #7f7f7f; text-decoration-color: #7f7f7f\">1564753407.py</span></a><span style=\"color: #7f7f7f; text-decoration-color: #7f7f7f\">:</span><a href=\"file://C:\\Users\\Tasnim\\AppData\\Local\\Temp\\ipykernel_16732\\1564753407.py#9\" target=\"_blank\"><span style=\"color: #7f7f7f; text-decoration-color: #7f7f7f\">9</span></a>\n",
       "</pre>\n"
      ],
      "text/plain": [
       "\u001b[2;36m[05/22/25 21:16:31]\u001b[0m\u001b[2;36m \u001b[0m\u001b[34mINFO    \u001b[0m ✓ \u001b[1;36m39.\u001b[0mtxt → Basic\\Gemini\\\u001b[1;36m39.\u001b[0mcc                                          \u001b]8;id=173474;file://C:\\Users\\Tasnim\\AppData\\Local\\Temp\\ipykernel_16732\\1564753407.py\u001b\\\u001b[2m1564753407.py\u001b[0m\u001b]8;;\u001b\\\u001b[2m:\u001b[0m\u001b]8;id=532987;file://C:\\Users\\Tasnim\\AppData\\Local\\Temp\\ipykernel_16732\\1564753407.py#9\u001b\\\u001b[2m9\u001b[0m\u001b]8;;\u001b\\\n"
      ]
     },
     "metadata": {},
     "output_type": "display_data"
    },
    {
     "name": "stderr",
     "output_type": "stream",
     "text": [
      "Generating:  38%|███▊      | 152/400 [1:49:12<7:19:09, 106.25s/it]"
     ]
    },
    {
     "data": {
      "text/html": [
       "<pre style=\"white-space:pre;overflow-x:auto;line-height:normal;font-family:Menlo,'DejaVu Sans Mono',consolas,'Courier New',monospace\"><span style=\"color: #7fbfbf; text-decoration-color: #7fbfbf\">[05/22/25 21:16:42] </span><span style=\"color: #000080; text-decoration-color: #000080\">INFO    </span> ✓ <span style=\"color: #008080; text-decoration-color: #008080; font-weight: bold\">4.</span>txt → Basic\\Gemini\\<span style=\"color: #008080; text-decoration-color: #008080; font-weight: bold\">4.</span>cc                                            <a href=\"file://C:\\Users\\Tasnim\\AppData\\Local\\Temp\\ipykernel_16732\\1564753407.py\" target=\"_blank\"><span style=\"color: #7f7f7f; text-decoration-color: #7f7f7f\">1564753407.py</span></a><span style=\"color: #7f7f7f; text-decoration-color: #7f7f7f\">:</span><a href=\"file://C:\\Users\\Tasnim\\AppData\\Local\\Temp\\ipykernel_16732\\1564753407.py#9\" target=\"_blank\"><span style=\"color: #7f7f7f; text-decoration-color: #7f7f7f\">9</span></a>\n",
       "</pre>\n"
      ],
      "text/plain": [
       "\u001b[2;36m[05/22/25 21:16:42]\u001b[0m\u001b[2;36m \u001b[0m\u001b[34mINFO    \u001b[0m ✓ \u001b[1;36m4.\u001b[0mtxt → Basic\\Gemini\\\u001b[1;36m4.\u001b[0mcc                                            \u001b]8;id=818102;file://C:\\Users\\Tasnim\\AppData\\Local\\Temp\\ipykernel_16732\\1564753407.py\u001b\\\u001b[2m1564753407.py\u001b[0m\u001b]8;;\u001b\\\u001b[2m:\u001b[0m\u001b]8;id=908824;file://C:\\Users\\Tasnim\\AppData\\Local\\Temp\\ipykernel_16732\\1564753407.py#9\u001b\\\u001b[2m9\u001b[0m\u001b]8;;\u001b\\\n"
      ]
     },
     "metadata": {},
     "output_type": "display_data"
    },
    {
     "name": "stderr",
     "output_type": "stream",
     "text": [
      "Generating:  38%|███▊      | 153/400 [1:49:22<5:19:17, 77.56s/it] "
     ]
    },
    {
     "data": {
      "text/html": [
       "<pre style=\"white-space:pre;overflow-x:auto;line-height:normal;font-family:Menlo,'DejaVu Sans Mono',consolas,'Courier New',monospace\"><span style=\"color: #7fbfbf; text-decoration-color: #7fbfbf\">[05/22/25 21:17:18] </span><span style=\"color: #000080; text-decoration-color: #000080\">INFO    </span> ✓ <span style=\"color: #008080; text-decoration-color: #008080; font-weight: bold\">40.</span>txt → Basic\\Gemini\\<span style=\"color: #008080; text-decoration-color: #008080; font-weight: bold\">40.</span>cc                                          <a href=\"file://C:\\Users\\Tasnim\\AppData\\Local\\Temp\\ipykernel_16732\\1564753407.py\" target=\"_blank\"><span style=\"color: #7f7f7f; text-decoration-color: #7f7f7f\">1564753407.py</span></a><span style=\"color: #7f7f7f; text-decoration-color: #7f7f7f\">:</span><a href=\"file://C:\\Users\\Tasnim\\AppData\\Local\\Temp\\ipykernel_16732\\1564753407.py#9\" target=\"_blank\"><span style=\"color: #7f7f7f; text-decoration-color: #7f7f7f\">9</span></a>\n",
       "</pre>\n"
      ],
      "text/plain": [
       "\u001b[2;36m[05/22/25 21:17:18]\u001b[0m\u001b[2;36m \u001b[0m\u001b[34mINFO    \u001b[0m ✓ \u001b[1;36m40.\u001b[0mtxt → Basic\\Gemini\\\u001b[1;36m40.\u001b[0mcc                                          \u001b]8;id=248612;file://C:\\Users\\Tasnim\\AppData\\Local\\Temp\\ipykernel_16732\\1564753407.py\u001b\\\u001b[2m1564753407.py\u001b[0m\u001b]8;;\u001b\\\u001b[2m:\u001b[0m\u001b]8;id=210534;file://C:\\Users\\Tasnim\\AppData\\Local\\Temp\\ipykernel_16732\\1564753407.py#9\u001b\\\u001b[2m9\u001b[0m\u001b]8;;\u001b\\\n"
      ]
     },
     "metadata": {},
     "output_type": "display_data"
    },
    {
     "name": "stderr",
     "output_type": "stream",
     "text": [
      "Generating:  38%|███▊      | 154/400 [1:49:59<4:27:34, 65.26s/it]"
     ]
    },
    {
     "data": {
      "text/html": [
       "<pre style=\"white-space:pre;overflow-x:auto;line-height:normal;font-family:Menlo,'DejaVu Sans Mono',consolas,'Courier New',monospace\"><span style=\"color: #7fbfbf; text-decoration-color: #7fbfbf\">[05/22/25 21:17:50] </span><span style=\"color: #000080; text-decoration-color: #000080\">INFO    </span> ✓ <span style=\"color: #008080; text-decoration-color: #008080; font-weight: bold\">41.</span>txt → Basic\\Gemini\\<span style=\"color: #008080; text-decoration-color: #008080; font-weight: bold\">41.</span>cc                                          <a href=\"file://C:\\Users\\Tasnim\\AppData\\Local\\Temp\\ipykernel_16732\\1564753407.py\" target=\"_blank\"><span style=\"color: #7f7f7f; text-decoration-color: #7f7f7f\">1564753407.py</span></a><span style=\"color: #7f7f7f; text-decoration-color: #7f7f7f\">:</span><a href=\"file://C:\\Users\\Tasnim\\AppData\\Local\\Temp\\ipykernel_16732\\1564753407.py#9\" target=\"_blank\"><span style=\"color: #7f7f7f; text-decoration-color: #7f7f7f\">9</span></a>\n",
       "</pre>\n"
      ],
      "text/plain": [
       "\u001b[2;36m[05/22/25 21:17:50]\u001b[0m\u001b[2;36m \u001b[0m\u001b[34mINFO    \u001b[0m ✓ \u001b[1;36m41.\u001b[0mtxt → Basic\\Gemini\\\u001b[1;36m41.\u001b[0mcc                                          \u001b]8;id=496199;file://C:\\Users\\Tasnim\\AppData\\Local\\Temp\\ipykernel_16732\\1564753407.py\u001b\\\u001b[2m1564753407.py\u001b[0m\u001b]8;;\u001b\\\u001b[2m:\u001b[0m\u001b]8;id=206955;file://C:\\Users\\Tasnim\\AppData\\Local\\Temp\\ipykernel_16732\\1564753407.py#9\u001b\\\u001b[2m9\u001b[0m\u001b]8;;\u001b\\\n"
      ]
     },
     "metadata": {},
     "output_type": "display_data"
    },
    {
     "name": "stderr",
     "output_type": "stream",
     "text": [
      "Generating:  39%|███▉      | 155/400 [1:50:31<3:46:01, 55.35s/it]"
     ]
    },
    {
     "data": {
      "text/html": [
       "<pre style=\"white-space:pre;overflow-x:auto;line-height:normal;font-family:Menlo,'DejaVu Sans Mono',consolas,'Courier New',monospace\"><span style=\"color: #7fbfbf; text-decoration-color: #7fbfbf\">[05/22/25 21:18:37] </span><span style=\"color: #800000; text-decoration-color: #800000; font-weight: bold\">ERROR   </span> ✗ <span style=\"color: #008080; text-decoration-color: #008080; font-weight: bold\">42.</span>txt – Invalid operation: The `response.text` quick accessor      <a href=\"file://C:\\Users\\Tasnim\\AppData\\Local\\Temp\\ipykernel_16732\\1564753407.py\" target=\"_blank\"><span style=\"color: #7f7f7f; text-decoration-color: #7f7f7f\">1564753407.py</span></a><span style=\"color: #7f7f7f; text-decoration-color: #7f7f7f\">:</span><a href=\"file://C:\\Users\\Tasnim\\AppData\\Local\\Temp\\ipykernel_16732\\1564753407.py#11\" target=\"_blank\"><span style=\"color: #7f7f7f; text-decoration-color: #7f7f7f\">11</span></a>\n",
       "<span style=\"color: #7fbfbf; text-decoration-color: #7fbfbf\">                    </span>         requires the response to contain a valid `Part`, but none were        <span style=\"color: #7f7f7f; text-decoration-color: #7f7f7f\">                </span>\n",
       "<span style=\"color: #7fbfbf; text-decoration-color: #7fbfbf\">                    </span>         returned. The candidate's                                             <span style=\"color: #7f7f7f; text-decoration-color: #7f7f7f\">                </span>\n",
       "<span style=\"color: #7fbfbf; text-decoration-color: #7fbfbf\">                    </span>         <span style=\"font-weight: bold\">[</span>finish_reason<span style=\"font-weight: bold\">](</span><span style=\"color: #0000ff; text-decoration-color: #0000ff; text-decoration: underline\">https://ai.google.dev/api/generate-content#finishreas</span> <span style=\"color: #7f7f7f; text-decoration-color: #7f7f7f\">                </span>\n",
       "<span style=\"color: #7fbfbf; text-decoration-color: #7fbfbf\">                    </span>         <span style=\"color: #0000ff; text-decoration-color: #0000ff; text-decoration: underline\">on)</span> is <span style=\"color: #008080; text-decoration-color: #008080; font-weight: bold\">1</span>.                                                             <span style=\"color: #7f7f7f; text-decoration-color: #7f7f7f\">                </span>\n",
       "</pre>\n"
      ],
      "text/plain": [
       "\u001b[2;36m[05/22/25 21:18:37]\u001b[0m\u001b[2;36m \u001b[0m\u001b[1;31mERROR   \u001b[0m ✗ \u001b[1;36m42.\u001b[0mtxt – Invalid operation: The `response.text` quick accessor      \u001b]8;id=776266;file://C:\\Users\\Tasnim\\AppData\\Local\\Temp\\ipykernel_16732\\1564753407.py\u001b\\\u001b[2m1564753407.py\u001b[0m\u001b]8;;\u001b\\\u001b[2m:\u001b[0m\u001b]8;id=477502;file://C:\\Users\\Tasnim\\AppData\\Local\\Temp\\ipykernel_16732\\1564753407.py#11\u001b\\\u001b[2m11\u001b[0m\u001b]8;;\u001b\\\n",
       "\u001b[2;36m                    \u001b[0m         requires the response to contain a valid `Part`, but none were        \u001b[2m                \u001b[0m\n",
       "\u001b[2;36m                    \u001b[0m         returned. The candidate's                                             \u001b[2m                \u001b[0m\n",
       "\u001b[2;36m                    \u001b[0m         \u001b[1m[\u001b[0mfinish_reason\u001b[1m]\u001b[0m\u001b[1m(\u001b[0m\u001b[4;94mhttps://ai.google.dev/api/generate-content#finishreas\u001b[0m \u001b[2m                \u001b[0m\n",
       "\u001b[2;36m                    \u001b[0m         \u001b[4;94mon\u001b[0m\u001b[4;94m)\u001b[0m is \u001b[1;36m1\u001b[0m.                                                             \u001b[2m                \u001b[0m\n"
      ]
     },
     "metadata": {},
     "output_type": "display_data"
    },
    {
     "name": "stderr",
     "output_type": "stream",
     "text": [
      "Generating:  39%|███▉      | 156/400 [1:51:17<3:33:56, 52.61s/it]"
     ]
    },
    {
     "data": {
      "text/html": [
       "<pre style=\"white-space:pre;overflow-x:auto;line-height:normal;font-family:Menlo,'DejaVu Sans Mono',consolas,'Courier New',monospace\"><span style=\"color: #7fbfbf; text-decoration-color: #7fbfbf\">[05/22/25 21:19:43] </span><span style=\"color: #000080; text-decoration-color: #000080\">INFO    </span> ✓ <span style=\"color: #008080; text-decoration-color: #008080; font-weight: bold\">43.</span>txt → Basic\\Gemini\\<span style=\"color: #008080; text-decoration-color: #008080; font-weight: bold\">43.</span>cc                                          <a href=\"file://C:\\Users\\Tasnim\\AppData\\Local\\Temp\\ipykernel_16732\\1564753407.py\" target=\"_blank\"><span style=\"color: #7f7f7f; text-decoration-color: #7f7f7f\">1564753407.py</span></a><span style=\"color: #7f7f7f; text-decoration-color: #7f7f7f\">:</span><a href=\"file://C:\\Users\\Tasnim\\AppData\\Local\\Temp\\ipykernel_16732\\1564753407.py#9\" target=\"_blank\"><span style=\"color: #7f7f7f; text-decoration-color: #7f7f7f\">9</span></a>\n",
       "</pre>\n"
      ],
      "text/plain": [
       "\u001b[2;36m[05/22/25 21:19:43]\u001b[0m\u001b[2;36m \u001b[0m\u001b[34mINFO    \u001b[0m ✓ \u001b[1;36m43.\u001b[0mtxt → Basic\\Gemini\\\u001b[1;36m43.\u001b[0mcc                                          \u001b]8;id=123320;file://C:\\Users\\Tasnim\\AppData\\Local\\Temp\\ipykernel_16732\\1564753407.py\u001b\\\u001b[2m1564753407.py\u001b[0m\u001b]8;;\u001b\\\u001b[2m:\u001b[0m\u001b]8;id=714828;file://C:\\Users\\Tasnim\\AppData\\Local\\Temp\\ipykernel_16732\\1564753407.py#9\u001b\\\u001b[2m9\u001b[0m\u001b]8;;\u001b\\\n"
      ]
     },
     "metadata": {},
     "output_type": "display_data"
    },
    {
     "name": "stderr",
     "output_type": "stream",
     "text": [
      "Generating:  39%|███▉      | 157/400 [1:52:24<3:49:28, 56.66s/it]"
     ]
    },
    {
     "data": {
      "text/html": [
       "<pre style=\"white-space:pre;overflow-x:auto;line-height:normal;font-family:Menlo,'DejaVu Sans Mono',consolas,'Courier New',monospace\"><span style=\"color: #7fbfbf; text-decoration-color: #7fbfbf\">[05/22/25 21:20:12] </span><span style=\"color: #000080; text-decoration-color: #000080\">INFO    </span> ✓ <span style=\"color: #008080; text-decoration-color: #008080; font-weight: bold\">44.</span>txt → Basic\\Gemini\\<span style=\"color: #008080; text-decoration-color: #008080; font-weight: bold\">44.</span>cc                                          <a href=\"file://C:\\Users\\Tasnim\\AppData\\Local\\Temp\\ipykernel_16732\\1564753407.py\" target=\"_blank\"><span style=\"color: #7f7f7f; text-decoration-color: #7f7f7f\">1564753407.py</span></a><span style=\"color: #7f7f7f; text-decoration-color: #7f7f7f\">:</span><a href=\"file://C:\\Users\\Tasnim\\AppData\\Local\\Temp\\ipykernel_16732\\1564753407.py#9\" target=\"_blank\"><span style=\"color: #7f7f7f; text-decoration-color: #7f7f7f\">9</span></a>\n",
       "</pre>\n"
      ],
      "text/plain": [
       "\u001b[2;36m[05/22/25 21:20:12]\u001b[0m\u001b[2;36m \u001b[0m\u001b[34mINFO    \u001b[0m ✓ \u001b[1;36m44.\u001b[0mtxt → Basic\\Gemini\\\u001b[1;36m44.\u001b[0mcc                                          \u001b]8;id=309368;file://C:\\Users\\Tasnim\\AppData\\Local\\Temp\\ipykernel_16732\\1564753407.py\u001b\\\u001b[2m1564753407.py\u001b[0m\u001b]8;;\u001b\\\u001b[2m:\u001b[0m\u001b]8;id=190487;file://C:\\Users\\Tasnim\\AppData\\Local\\Temp\\ipykernel_16732\\1564753407.py#9\u001b\\\u001b[2m9\u001b[0m\u001b]8;;\u001b\\\n"
      ]
     },
     "metadata": {},
     "output_type": "display_data"
    },
    {
     "name": "stderr",
     "output_type": "stream",
     "text": [
      "Generating:  40%|███▉      | 158/400 [1:52:53<3:15:11, 48.40s/it]"
     ]
    },
    {
     "data": {
      "text/html": [
       "<pre style=\"white-space:pre;overflow-x:auto;line-height:normal;font-family:Menlo,'DejaVu Sans Mono',consolas,'Courier New',monospace\"><span style=\"color: #7fbfbf; text-decoration-color: #7fbfbf\">[05/22/25 21:20:54] </span><span style=\"color: #000080; text-decoration-color: #000080\">INFO    </span> ✓ <span style=\"color: #008080; text-decoration-color: #008080; font-weight: bold\">45.</span>txt → Basic\\Gemini\\<span style=\"color: #008080; text-decoration-color: #008080; font-weight: bold\">45.</span>cc                                          <a href=\"file://C:\\Users\\Tasnim\\AppData\\Local\\Temp\\ipykernel_16732\\1564753407.py\" target=\"_blank\"><span style=\"color: #7f7f7f; text-decoration-color: #7f7f7f\">1564753407.py</span></a><span style=\"color: #7f7f7f; text-decoration-color: #7f7f7f\">:</span><a href=\"file://C:\\Users\\Tasnim\\AppData\\Local\\Temp\\ipykernel_16732\\1564753407.py#9\" target=\"_blank\"><span style=\"color: #7f7f7f; text-decoration-color: #7f7f7f\">9</span></a>\n",
       "</pre>\n"
      ],
      "text/plain": [
       "\u001b[2;36m[05/22/25 21:20:54]\u001b[0m\u001b[2;36m \u001b[0m\u001b[34mINFO    \u001b[0m ✓ \u001b[1;36m45.\u001b[0mtxt → Basic\\Gemini\\\u001b[1;36m45.\u001b[0mcc                                          \u001b]8;id=481133;file://C:\\Users\\Tasnim\\AppData\\Local\\Temp\\ipykernel_16732\\1564753407.py\u001b\\\u001b[2m1564753407.py\u001b[0m\u001b]8;;\u001b\\\u001b[2m:\u001b[0m\u001b]8;id=641071;file://C:\\Users\\Tasnim\\AppData\\Local\\Temp\\ipykernel_16732\\1564753407.py#9\u001b\\\u001b[2m9\u001b[0m\u001b]8;;\u001b\\\n"
      ]
     },
     "metadata": {},
     "output_type": "display_data"
    },
    {
     "name": "stderr",
     "output_type": "stream",
     "text": [
      "Generating:  40%|███▉      | 159/400 [1:53:35<3:06:39, 46.47s/it]"
     ]
    },
    {
     "data": {
      "text/html": [
       "<pre style=\"white-space:pre;overflow-x:auto;line-height:normal;font-family:Menlo,'DejaVu Sans Mono',consolas,'Courier New',monospace\"><span style=\"color: #7fbfbf; text-decoration-color: #7fbfbf\">[05/22/25 21:22:04] </span><span style=\"color: #000080; text-decoration-color: #000080\">INFO    </span> ✓ <span style=\"color: #008080; text-decoration-color: #008080; font-weight: bold\">46.</span>txt → Basic\\Gemini\\<span style=\"color: #008080; text-decoration-color: #008080; font-weight: bold\">46.</span>cc                                          <a href=\"file://C:\\Users\\Tasnim\\AppData\\Local\\Temp\\ipykernel_16732\\1564753407.py\" target=\"_blank\"><span style=\"color: #7f7f7f; text-decoration-color: #7f7f7f\">1564753407.py</span></a><span style=\"color: #7f7f7f; text-decoration-color: #7f7f7f\">:</span><a href=\"file://C:\\Users\\Tasnim\\AppData\\Local\\Temp\\ipykernel_16732\\1564753407.py#9\" target=\"_blank\"><span style=\"color: #7f7f7f; text-decoration-color: #7f7f7f\">9</span></a>\n",
       "</pre>\n"
      ],
      "text/plain": [
       "\u001b[2;36m[05/22/25 21:22:04]\u001b[0m\u001b[2;36m \u001b[0m\u001b[34mINFO    \u001b[0m ✓ \u001b[1;36m46.\u001b[0mtxt → Basic\\Gemini\\\u001b[1;36m46.\u001b[0mcc                                          \u001b]8;id=383794;file://C:\\Users\\Tasnim\\AppData\\Local\\Temp\\ipykernel_16732\\1564753407.py\u001b\\\u001b[2m1564753407.py\u001b[0m\u001b]8;;\u001b\\\u001b[2m:\u001b[0m\u001b]8;id=876714;file://C:\\Users\\Tasnim\\AppData\\Local\\Temp\\ipykernel_16732\\1564753407.py#9\u001b\\\u001b[2m9\u001b[0m\u001b]8;;\u001b\\\n"
      ]
     },
     "metadata": {},
     "output_type": "display_data"
    },
    {
     "name": "stderr",
     "output_type": "stream",
     "text": [
      "Generating:  40%|████      | 160/400 [1:54:45<3:34:08, 53.54s/it]"
     ]
    },
    {
     "data": {
      "text/html": [
       "<pre style=\"white-space:pre;overflow-x:auto;line-height:normal;font-family:Menlo,'DejaVu Sans Mono',consolas,'Courier New',monospace\"><span style=\"color: #7fbfbf; text-decoration-color: #7fbfbf\">[05/22/25 21:22:59] </span><span style=\"color: #000080; text-decoration-color: #000080\">INFO    </span> ✓ <span style=\"color: #008080; text-decoration-color: #008080; font-weight: bold\">47.</span>txt → Basic\\Gemini\\<span style=\"color: #008080; text-decoration-color: #008080; font-weight: bold\">47.</span>cc                                          <a href=\"file://C:\\Users\\Tasnim\\AppData\\Local\\Temp\\ipykernel_16732\\1564753407.py\" target=\"_blank\"><span style=\"color: #7f7f7f; text-decoration-color: #7f7f7f\">1564753407.py</span></a><span style=\"color: #7f7f7f; text-decoration-color: #7f7f7f\">:</span><a href=\"file://C:\\Users\\Tasnim\\AppData\\Local\\Temp\\ipykernel_16732\\1564753407.py#9\" target=\"_blank\"><span style=\"color: #7f7f7f; text-decoration-color: #7f7f7f\">9</span></a>\n",
       "</pre>\n"
      ],
      "text/plain": [
       "\u001b[2;36m[05/22/25 21:22:59]\u001b[0m\u001b[2;36m \u001b[0m\u001b[34mINFO    \u001b[0m ✓ \u001b[1;36m47.\u001b[0mtxt → Basic\\Gemini\\\u001b[1;36m47.\u001b[0mcc                                          \u001b]8;id=802199;file://C:\\Users\\Tasnim\\AppData\\Local\\Temp\\ipykernel_16732\\1564753407.py\u001b\\\u001b[2m1564753407.py\u001b[0m\u001b]8;;\u001b\\\u001b[2m:\u001b[0m\u001b]8;id=583098;file://C:\\Users\\Tasnim\\AppData\\Local\\Temp\\ipykernel_16732\\1564753407.py#9\u001b\\\u001b[2m9\u001b[0m\u001b]8;;\u001b\\\n"
      ]
     },
     "metadata": {},
     "output_type": "display_data"
    },
    {
     "name": "stderr",
     "output_type": "stream",
     "text": [
      "Generating:  40%|████      | 161/400 [1:55:40<3:35:32, 54.11s/it]"
     ]
    },
    {
     "data": {
      "text/html": [
       "<pre style=\"white-space:pre;overflow-x:auto;line-height:normal;font-family:Menlo,'DejaVu Sans Mono',consolas,'Courier New',monospace\"><span style=\"color: #7fbfbf; text-decoration-color: #7fbfbf\">[05/22/25 21:24:18] </span><span style=\"color: #000080; text-decoration-color: #000080\">INFO    </span> ✓ <span style=\"color: #008080; text-decoration-color: #008080; font-weight: bold\">48.</span>txt → Basic\\Gemini\\<span style=\"color: #008080; text-decoration-color: #008080; font-weight: bold\">48.</span>cc                                          <a href=\"file://C:\\Users\\Tasnim\\AppData\\Local\\Temp\\ipykernel_16732\\1564753407.py\" target=\"_blank\"><span style=\"color: #7f7f7f; text-decoration-color: #7f7f7f\">1564753407.py</span></a><span style=\"color: #7f7f7f; text-decoration-color: #7f7f7f\">:</span><a href=\"file://C:\\Users\\Tasnim\\AppData\\Local\\Temp\\ipykernel_16732\\1564753407.py#9\" target=\"_blank\"><span style=\"color: #7f7f7f; text-decoration-color: #7f7f7f\">9</span></a>\n",
       "</pre>\n"
      ],
      "text/plain": [
       "\u001b[2;36m[05/22/25 21:24:18]\u001b[0m\u001b[2;36m \u001b[0m\u001b[34mINFO    \u001b[0m ✓ \u001b[1;36m48.\u001b[0mtxt → Basic\\Gemini\\\u001b[1;36m48.\u001b[0mcc                                          \u001b]8;id=360529;file://C:\\Users\\Tasnim\\AppData\\Local\\Temp\\ipykernel_16732\\1564753407.py\u001b\\\u001b[2m1564753407.py\u001b[0m\u001b]8;;\u001b\\\u001b[2m:\u001b[0m\u001b]8;id=419331;file://C:\\Users\\Tasnim\\AppData\\Local\\Temp\\ipykernel_16732\\1564753407.py#9\u001b\\\u001b[2m9\u001b[0m\u001b]8;;\u001b\\\n"
      ]
     },
     "metadata": {},
     "output_type": "display_data"
    },
    {
     "name": "stderr",
     "output_type": "stream",
     "text": [
      "Generating:  40%|████      | 162/400 [1:56:59<4:03:45, 61.45s/it]"
     ]
    },
    {
     "data": {
      "text/html": [
       "<pre style=\"white-space:pre;overflow-x:auto;line-height:normal;font-family:Menlo,'DejaVu Sans Mono',consolas,'Courier New',monospace\"><span style=\"color: #7fbfbf; text-decoration-color: #7fbfbf\">[05/22/25 21:25:22] </span><span style=\"color: #000080; text-decoration-color: #000080\">INFO    </span> ✓ <span style=\"color: #008080; text-decoration-color: #008080; font-weight: bold\">49.</span>txt → Basic\\Gemini\\<span style=\"color: #008080; text-decoration-color: #008080; font-weight: bold\">49.</span>cc                                          <a href=\"file://C:\\Users\\Tasnim\\AppData\\Local\\Temp\\ipykernel_16732\\1564753407.py\" target=\"_blank\"><span style=\"color: #7f7f7f; text-decoration-color: #7f7f7f\">1564753407.py</span></a><span style=\"color: #7f7f7f; text-decoration-color: #7f7f7f\">:</span><a href=\"file://C:\\Users\\Tasnim\\AppData\\Local\\Temp\\ipykernel_16732\\1564753407.py#9\" target=\"_blank\"><span style=\"color: #7f7f7f; text-decoration-color: #7f7f7f\">9</span></a>\n",
       "</pre>\n"
      ],
      "text/plain": [
       "\u001b[2;36m[05/22/25 21:25:22]\u001b[0m\u001b[2;36m \u001b[0m\u001b[34mINFO    \u001b[0m ✓ \u001b[1;36m49.\u001b[0mtxt → Basic\\Gemini\\\u001b[1;36m49.\u001b[0mcc                                          \u001b]8;id=606618;file://C:\\Users\\Tasnim\\AppData\\Local\\Temp\\ipykernel_16732\\1564753407.py\u001b\\\u001b[2m1564753407.py\u001b[0m\u001b]8;;\u001b\\\u001b[2m:\u001b[0m\u001b]8;id=961898;file://C:\\Users\\Tasnim\\AppData\\Local\\Temp\\ipykernel_16732\\1564753407.py#9\u001b\\\u001b[2m9\u001b[0m\u001b]8;;\u001b\\\n"
      ]
     },
     "metadata": {},
     "output_type": "display_data"
    },
    {
     "name": "stderr",
     "output_type": "stream",
     "text": [
      "Generating:  41%|████      | 163/400 [1:58:03<4:06:16, 62.35s/it]"
     ]
    },
    {
     "data": {
      "text/html": [
       "<pre style=\"white-space:pre;overflow-x:auto;line-height:normal;font-family:Menlo,'DejaVu Sans Mono',consolas,'Courier New',monospace\"><span style=\"color: #7fbfbf; text-decoration-color: #7fbfbf\">[05/22/25 21:25:41] </span><span style=\"color: #000080; text-decoration-color: #000080\">INFO    </span> ✓ <span style=\"color: #008080; text-decoration-color: #008080; font-weight: bold\">5.</span>txt → Basic\\Gemini\\<span style=\"color: #008080; text-decoration-color: #008080; font-weight: bold\">5.</span>cc                                            <a href=\"file://C:\\Users\\Tasnim\\AppData\\Local\\Temp\\ipykernel_16732\\1564753407.py\" target=\"_blank\"><span style=\"color: #7f7f7f; text-decoration-color: #7f7f7f\">1564753407.py</span></a><span style=\"color: #7f7f7f; text-decoration-color: #7f7f7f\">:</span><a href=\"file://C:\\Users\\Tasnim\\AppData\\Local\\Temp\\ipykernel_16732\\1564753407.py#9\" target=\"_blank\"><span style=\"color: #7f7f7f; text-decoration-color: #7f7f7f\">9</span></a>\n",
       "</pre>\n"
      ],
      "text/plain": [
       "\u001b[2;36m[05/22/25 21:25:41]\u001b[0m\u001b[2;36m \u001b[0m\u001b[34mINFO    \u001b[0m ✓ \u001b[1;36m5.\u001b[0mtxt → Basic\\Gemini\\\u001b[1;36m5.\u001b[0mcc                                            \u001b]8;id=102241;file://C:\\Users\\Tasnim\\AppData\\Local\\Temp\\ipykernel_16732\\1564753407.py\u001b\\\u001b[2m1564753407.py\u001b[0m\u001b]8;;\u001b\\\u001b[2m:\u001b[0m\u001b]8;id=308535;file://C:\\Users\\Tasnim\\AppData\\Local\\Temp\\ipykernel_16732\\1564753407.py#9\u001b\\\u001b[2m9\u001b[0m\u001b]8;;\u001b\\\n"
      ]
     },
     "metadata": {},
     "output_type": "display_data"
    },
    {
     "name": "stderr",
     "output_type": "stream",
     "text": [
      "Generating:  41%|████      | 164/400 [1:58:22<3:13:48, 49.27s/it]"
     ]
    },
    {
     "data": {
      "text/html": [
       "<pre style=\"white-space:pre;overflow-x:auto;line-height:normal;font-family:Menlo,'DejaVu Sans Mono',consolas,'Courier New',monospace\"><span style=\"color: #7fbfbf; text-decoration-color: #7fbfbf\">[05/22/25 21:27:14] </span><span style=\"color: #000080; text-decoration-color: #000080\">INFO    </span> ✓ <span style=\"color: #008080; text-decoration-color: #008080; font-weight: bold\">50.</span>txt → Basic\\Gemini\\<span style=\"color: #008080; text-decoration-color: #008080; font-weight: bold\">50.</span>cc                                          <a href=\"file://C:\\Users\\Tasnim\\AppData\\Local\\Temp\\ipykernel_16732\\1564753407.py\" target=\"_blank\"><span style=\"color: #7f7f7f; text-decoration-color: #7f7f7f\">1564753407.py</span></a><span style=\"color: #7f7f7f; text-decoration-color: #7f7f7f\">:</span><a href=\"file://C:\\Users\\Tasnim\\AppData\\Local\\Temp\\ipykernel_16732\\1564753407.py#9\" target=\"_blank\"><span style=\"color: #7f7f7f; text-decoration-color: #7f7f7f\">9</span></a>\n",
       "</pre>\n"
      ],
      "text/plain": [
       "\u001b[2;36m[05/22/25 21:27:14]\u001b[0m\u001b[2;36m \u001b[0m\u001b[34mINFO    \u001b[0m ✓ \u001b[1;36m50.\u001b[0mtxt → Basic\\Gemini\\\u001b[1;36m50.\u001b[0mcc                                          \u001b]8;id=239955;file://C:\\Users\\Tasnim\\AppData\\Local\\Temp\\ipykernel_16732\\1564753407.py\u001b\\\u001b[2m1564753407.py\u001b[0m\u001b]8;;\u001b\\\u001b[2m:\u001b[0m\u001b]8;id=864048;file://C:\\Users\\Tasnim\\AppData\\Local\\Temp\\ipykernel_16732\\1564753407.py#9\u001b\\\u001b[2m9\u001b[0m\u001b]8;;\u001b\\\n"
      ]
     },
     "metadata": {},
     "output_type": "display_data"
    },
    {
     "name": "stderr",
     "output_type": "stream",
     "text": [
      "Generating:  41%|████▏     | 165/400 [1:59:55<4:04:32, 62.44s/it]"
     ]
    },
    {
     "data": {
      "text/html": [
       "<pre style=\"white-space:pre;overflow-x:auto;line-height:normal;font-family:Menlo,'DejaVu Sans Mono',consolas,'Courier New',monospace\"><span style=\"color: #7fbfbf; text-decoration-color: #7fbfbf\">[05/22/25 21:28:03] </span><span style=\"color: #000080; text-decoration-color: #000080\">INFO    </span> ✓ <span style=\"color: #008080; text-decoration-color: #008080; font-weight: bold\">51.</span>txt → Basic\\Gemini\\<span style=\"color: #008080; text-decoration-color: #008080; font-weight: bold\">51.</span>cc                                          <a href=\"file://C:\\Users\\Tasnim\\AppData\\Local\\Temp\\ipykernel_16732\\1564753407.py\" target=\"_blank\"><span style=\"color: #7f7f7f; text-decoration-color: #7f7f7f\">1564753407.py</span></a><span style=\"color: #7f7f7f; text-decoration-color: #7f7f7f\">:</span><a href=\"file://C:\\Users\\Tasnim\\AppData\\Local\\Temp\\ipykernel_16732\\1564753407.py#9\" target=\"_blank\"><span style=\"color: #7f7f7f; text-decoration-color: #7f7f7f\">9</span></a>\n",
       "</pre>\n"
      ],
      "text/plain": [
       "\u001b[2;36m[05/22/25 21:28:03]\u001b[0m\u001b[2;36m \u001b[0m\u001b[34mINFO    \u001b[0m ✓ \u001b[1;36m51.\u001b[0mtxt → Basic\\Gemini\\\u001b[1;36m51.\u001b[0mcc                                          \u001b]8;id=402167;file://C:\\Users\\Tasnim\\AppData\\Local\\Temp\\ipykernel_16732\\1564753407.py\u001b\\\u001b[2m1564753407.py\u001b[0m\u001b]8;;\u001b\\\u001b[2m:\u001b[0m\u001b]8;id=118;file://C:\\Users\\Tasnim\\AppData\\Local\\Temp\\ipykernel_16732\\1564753407.py#9\u001b\\\u001b[2m9\u001b[0m\u001b]8;;\u001b\\\n"
      ]
     },
     "metadata": {},
     "output_type": "display_data"
    },
    {
     "name": "stderr",
     "output_type": "stream",
     "text": [
      "Generating:  42%|████▏     | 166/400 [2:00:44<3:47:11, 58.25s/it]"
     ]
    },
    {
     "data": {
      "text/html": [
       "<pre style=\"white-space:pre;overflow-x:auto;line-height:normal;font-family:Menlo,'DejaVu Sans Mono',consolas,'Courier New',monospace\"><span style=\"color: #7fbfbf; text-decoration-color: #7fbfbf\">[05/22/25 21:28:47] </span><span style=\"color: #000080; text-decoration-color: #000080\">INFO    </span> ✓ <span style=\"color: #008080; text-decoration-color: #008080; font-weight: bold\">52.</span>txt → Basic\\Gemini\\<span style=\"color: #008080; text-decoration-color: #008080; font-weight: bold\">52.</span>cc                                          <a href=\"file://C:\\Users\\Tasnim\\AppData\\Local\\Temp\\ipykernel_16732\\1564753407.py\" target=\"_blank\"><span style=\"color: #7f7f7f; text-decoration-color: #7f7f7f\">1564753407.py</span></a><span style=\"color: #7f7f7f; text-decoration-color: #7f7f7f\">:</span><a href=\"file://C:\\Users\\Tasnim\\AppData\\Local\\Temp\\ipykernel_16732\\1564753407.py#9\" target=\"_blank\"><span style=\"color: #7f7f7f; text-decoration-color: #7f7f7f\">9</span></a>\n",
       "</pre>\n"
      ],
      "text/plain": [
       "\u001b[2;36m[05/22/25 21:28:47]\u001b[0m\u001b[2;36m \u001b[0m\u001b[34mINFO    \u001b[0m ✓ \u001b[1;36m52.\u001b[0mtxt → Basic\\Gemini\\\u001b[1;36m52.\u001b[0mcc                                          \u001b]8;id=490469;file://C:\\Users\\Tasnim\\AppData\\Local\\Temp\\ipykernel_16732\\1564753407.py\u001b\\\u001b[2m1564753407.py\u001b[0m\u001b]8;;\u001b\\\u001b[2m:\u001b[0m\u001b]8;id=738980;file://C:\\Users\\Tasnim\\AppData\\Local\\Temp\\ipykernel_16732\\1564753407.py#9\u001b\\\u001b[2m9\u001b[0m\u001b]8;;\u001b\\\n"
      ]
     },
     "metadata": {},
     "output_type": "display_data"
    },
    {
     "name": "stderr",
     "output_type": "stream",
     "text": [
      "Generating:  42%|████▏     | 167/400 [2:01:28<3:30:00, 54.08s/it]"
     ]
    },
    {
     "data": {
      "text/html": [
       "<pre style=\"white-space:pre;overflow-x:auto;line-height:normal;font-family:Menlo,'DejaVu Sans Mono',consolas,'Courier New',monospace\"><span style=\"color: #7fbfbf; text-decoration-color: #7fbfbf\">[05/22/25 21:29:40] </span><span style=\"color: #000080; text-decoration-color: #000080\">INFO    </span> ✓ <span style=\"color: #008080; text-decoration-color: #008080; font-weight: bold\">53.</span>txt → Basic\\Gemini\\<span style=\"color: #008080; text-decoration-color: #008080; font-weight: bold\">53.</span>cc                                          <a href=\"file://C:\\Users\\Tasnim\\AppData\\Local\\Temp\\ipykernel_16732\\1564753407.py\" target=\"_blank\"><span style=\"color: #7f7f7f; text-decoration-color: #7f7f7f\">1564753407.py</span></a><span style=\"color: #7f7f7f; text-decoration-color: #7f7f7f\">:</span><a href=\"file://C:\\Users\\Tasnim\\AppData\\Local\\Temp\\ipykernel_16732\\1564753407.py#9\" target=\"_blank\"><span style=\"color: #7f7f7f; text-decoration-color: #7f7f7f\">9</span></a>\n",
       "</pre>\n"
      ],
      "text/plain": [
       "\u001b[2;36m[05/22/25 21:29:40]\u001b[0m\u001b[2;36m \u001b[0m\u001b[34mINFO    \u001b[0m ✓ \u001b[1;36m53.\u001b[0mtxt → Basic\\Gemini\\\u001b[1;36m53.\u001b[0mcc                                          \u001b]8;id=328078;file://C:\\Users\\Tasnim\\AppData\\Local\\Temp\\ipykernel_16732\\1564753407.py\u001b\\\u001b[2m1564753407.py\u001b[0m\u001b]8;;\u001b\\\u001b[2m:\u001b[0m\u001b]8;id=639529;file://C:\\Users\\Tasnim\\AppData\\Local\\Temp\\ipykernel_16732\\1564753407.py#9\u001b\\\u001b[2m9\u001b[0m\u001b]8;;\u001b\\\n"
      ]
     },
     "metadata": {},
     "output_type": "display_data"
    },
    {
     "name": "stderr",
     "output_type": "stream",
     "text": [
      "Generating:  42%|████▏     | 168/400 [2:02:21<3:28:14, 53.86s/it]"
     ]
    },
    {
     "data": {
      "text/html": [
       "<pre style=\"white-space:pre;overflow-x:auto;line-height:normal;font-family:Menlo,'DejaVu Sans Mono',consolas,'Courier New',monospace\"><span style=\"color: #7fbfbf; text-decoration-color: #7fbfbf\">[05/22/25 21:31:07] </span><span style=\"color: #000080; text-decoration-color: #000080\">INFO    </span> ✓ <span style=\"color: #008080; text-decoration-color: #008080; font-weight: bold\">54.</span>txt → Basic\\Gemini\\<span style=\"color: #008080; text-decoration-color: #008080; font-weight: bold\">54.</span>cc                                          <a href=\"file://C:\\Users\\Tasnim\\AppData\\Local\\Temp\\ipykernel_16732\\1564753407.py\" target=\"_blank\"><span style=\"color: #7f7f7f; text-decoration-color: #7f7f7f\">1564753407.py</span></a><span style=\"color: #7f7f7f; text-decoration-color: #7f7f7f\">:</span><a href=\"file://C:\\Users\\Tasnim\\AppData\\Local\\Temp\\ipykernel_16732\\1564753407.py#9\" target=\"_blank\"><span style=\"color: #7f7f7f; text-decoration-color: #7f7f7f\">9</span></a>\n",
       "</pre>\n"
      ],
      "text/plain": [
       "\u001b[2;36m[05/22/25 21:31:07]\u001b[0m\u001b[2;36m \u001b[0m\u001b[34mINFO    \u001b[0m ✓ \u001b[1;36m54.\u001b[0mtxt → Basic\\Gemini\\\u001b[1;36m54.\u001b[0mcc                                          \u001b]8;id=793684;file://C:\\Users\\Tasnim\\AppData\\Local\\Temp\\ipykernel_16732\\1564753407.py\u001b\\\u001b[2m1564753407.py\u001b[0m\u001b]8;;\u001b\\\u001b[2m:\u001b[0m\u001b]8;id=191373;file://C:\\Users\\Tasnim\\AppData\\Local\\Temp\\ipykernel_16732\\1564753407.py#9\u001b\\\u001b[2m9\u001b[0m\u001b]8;;\u001b\\\n"
      ]
     },
     "metadata": {},
     "output_type": "display_data"
    },
    {
     "name": "stderr",
     "output_type": "stream",
     "text": [
      "Generating:  42%|████▏     | 169/400 [2:03:48<4:04:58, 63.63s/it]"
     ]
    },
    {
     "data": {
      "text/html": [
       "<pre style=\"white-space:pre;overflow-x:auto;line-height:normal;font-family:Menlo,'DejaVu Sans Mono',consolas,'Courier New',monospace\"><span style=\"color: #7fbfbf; text-decoration-color: #7fbfbf\">[05/22/25 21:31:21] </span><span style=\"color: #000080; text-decoration-color: #000080\">INFO    </span> ✓ <span style=\"color: #008080; text-decoration-color: #008080; font-weight: bold\">55.</span>txt → Basic\\Gemini\\<span style=\"color: #008080; text-decoration-color: #008080; font-weight: bold\">55.</span>cc                                          <a href=\"file://C:\\Users\\Tasnim\\AppData\\Local\\Temp\\ipykernel_16732\\1564753407.py\" target=\"_blank\"><span style=\"color: #7f7f7f; text-decoration-color: #7f7f7f\">1564753407.py</span></a><span style=\"color: #7f7f7f; text-decoration-color: #7f7f7f\">:</span><a href=\"file://C:\\Users\\Tasnim\\AppData\\Local\\Temp\\ipykernel_16732\\1564753407.py#9\" target=\"_blank\"><span style=\"color: #7f7f7f; text-decoration-color: #7f7f7f\">9</span></a>\n",
       "</pre>\n"
      ],
      "text/plain": [
       "\u001b[2;36m[05/22/25 21:31:21]\u001b[0m\u001b[2;36m \u001b[0m\u001b[34mINFO    \u001b[0m ✓ \u001b[1;36m55.\u001b[0mtxt → Basic\\Gemini\\\u001b[1;36m55.\u001b[0mcc                                          \u001b]8;id=802400;file://C:\\Users\\Tasnim\\AppData\\Local\\Temp\\ipykernel_16732\\1564753407.py\u001b\\\u001b[2m1564753407.py\u001b[0m\u001b]8;;\u001b\\\u001b[2m:\u001b[0m\u001b]8;id=713229;file://C:\\Users\\Tasnim\\AppData\\Local\\Temp\\ipykernel_16732\\1564753407.py#9\u001b\\\u001b[2m9\u001b[0m\u001b]8;;\u001b\\\n"
      ]
     },
     "metadata": {},
     "output_type": "display_data"
    },
    {
     "name": "stderr",
     "output_type": "stream",
     "text": [
      "Generating:  42%|████▎     | 170/400 [2:04:02<3:06:48, 48.73s/it]"
     ]
    },
    {
     "data": {
      "text/html": [
       "<pre style=\"white-space:pre;overflow-x:auto;line-height:normal;font-family:Menlo,'DejaVu Sans Mono',consolas,'Courier New',monospace\"><span style=\"color: #7fbfbf; text-decoration-color: #7fbfbf\">[05/22/25 21:33:34] </span><span style=\"color: #000080; text-decoration-color: #000080\">INFO    </span> ✓ <span style=\"color: #008080; text-decoration-color: #008080; font-weight: bold\">56.</span>txt → Basic\\Gemini\\<span style=\"color: #008080; text-decoration-color: #008080; font-weight: bold\">56.</span>cc                                          <a href=\"file://C:\\Users\\Tasnim\\AppData\\Local\\Temp\\ipykernel_16732\\1564753407.py\" target=\"_blank\"><span style=\"color: #7f7f7f; text-decoration-color: #7f7f7f\">1564753407.py</span></a><span style=\"color: #7f7f7f; text-decoration-color: #7f7f7f\">:</span><a href=\"file://C:\\Users\\Tasnim\\AppData\\Local\\Temp\\ipykernel_16732\\1564753407.py#9\" target=\"_blank\"><span style=\"color: #7f7f7f; text-decoration-color: #7f7f7f\">9</span></a>\n",
       "</pre>\n"
      ],
      "text/plain": [
       "\u001b[2;36m[05/22/25 21:33:34]\u001b[0m\u001b[2;36m \u001b[0m\u001b[34mINFO    \u001b[0m ✓ \u001b[1;36m56.\u001b[0mtxt → Basic\\Gemini\\\u001b[1;36m56.\u001b[0mcc                                          \u001b]8;id=659805;file://C:\\Users\\Tasnim\\AppData\\Local\\Temp\\ipykernel_16732\\1564753407.py\u001b\\\u001b[2m1564753407.py\u001b[0m\u001b]8;;\u001b\\\u001b[2m:\u001b[0m\u001b]8;id=958632;file://C:\\Users\\Tasnim\\AppData\\Local\\Temp\\ipykernel_16732\\1564753407.py#9\u001b\\\u001b[2m9\u001b[0m\u001b]8;;\u001b\\\n"
      ]
     },
     "metadata": {},
     "output_type": "display_data"
    },
    {
     "name": "stderr",
     "output_type": "stream",
     "text": [
      "Generating:  43%|████▎     | 171/400 [2:06:15<4:42:42, 74.07s/it]"
     ]
    },
    {
     "data": {
      "text/html": [
       "<pre style=\"white-space:pre;overflow-x:auto;line-height:normal;font-family:Menlo,'DejaVu Sans Mono',consolas,'Courier New',monospace\"><span style=\"color: #7fbfbf; text-decoration-color: #7fbfbf\">[05/22/25 21:34:02] </span><span style=\"color: #000080; text-decoration-color: #000080\">INFO    </span> ✓ <span style=\"color: #008080; text-decoration-color: #008080; font-weight: bold\">57.</span>txt → Basic\\Gemini\\<span style=\"color: #008080; text-decoration-color: #008080; font-weight: bold\">57.</span>cc                                          <a href=\"file://C:\\Users\\Tasnim\\AppData\\Local\\Temp\\ipykernel_16732\\1564753407.py\" target=\"_blank\"><span style=\"color: #7f7f7f; text-decoration-color: #7f7f7f\">1564753407.py</span></a><span style=\"color: #7f7f7f; text-decoration-color: #7f7f7f\">:</span><a href=\"file://C:\\Users\\Tasnim\\AppData\\Local\\Temp\\ipykernel_16732\\1564753407.py#9\" target=\"_blank\"><span style=\"color: #7f7f7f; text-decoration-color: #7f7f7f\">9</span></a>\n",
       "</pre>\n"
      ],
      "text/plain": [
       "\u001b[2;36m[05/22/25 21:34:02]\u001b[0m\u001b[2;36m \u001b[0m\u001b[34mINFO    \u001b[0m ✓ \u001b[1;36m57.\u001b[0mtxt → Basic\\Gemini\\\u001b[1;36m57.\u001b[0mcc                                          \u001b]8;id=190156;file://C:\\Users\\Tasnim\\AppData\\Local\\Temp\\ipykernel_16732\\1564753407.py\u001b\\\u001b[2m1564753407.py\u001b[0m\u001b]8;;\u001b\\\u001b[2m:\u001b[0m\u001b]8;id=785726;file://C:\\Users\\Tasnim\\AppData\\Local\\Temp\\ipykernel_16732\\1564753407.py#9\u001b\\\u001b[2m9\u001b[0m\u001b]8;;\u001b\\\n"
      ]
     },
     "metadata": {},
     "output_type": "display_data"
    },
    {
     "name": "stderr",
     "output_type": "stream",
     "text": [
      "Generating:  43%|████▎     | 172/400 [2:06:43<3:49:07, 60.30s/it]"
     ]
    },
    {
     "data": {
      "text/html": [
       "<pre style=\"white-space:pre;overflow-x:auto;line-height:normal;font-family:Menlo,'DejaVu Sans Mono',consolas,'Courier New',monospace\"><span style=\"color: #7fbfbf; text-decoration-color: #7fbfbf\">[05/22/25 21:35:01] </span><span style=\"color: #000080; text-decoration-color: #000080\">INFO    </span> ✓ <span style=\"color: #008080; text-decoration-color: #008080; font-weight: bold\">58.</span>txt → Basic\\Gemini\\<span style=\"color: #008080; text-decoration-color: #008080; font-weight: bold\">58.</span>cc                                          <a href=\"file://C:\\Users\\Tasnim\\AppData\\Local\\Temp\\ipykernel_16732\\1564753407.py\" target=\"_blank\"><span style=\"color: #7f7f7f; text-decoration-color: #7f7f7f\">1564753407.py</span></a><span style=\"color: #7f7f7f; text-decoration-color: #7f7f7f\">:</span><a href=\"file://C:\\Users\\Tasnim\\AppData\\Local\\Temp\\ipykernel_16732\\1564753407.py#9\" target=\"_blank\"><span style=\"color: #7f7f7f; text-decoration-color: #7f7f7f\">9</span></a>\n",
       "</pre>\n"
      ],
      "text/plain": [
       "\u001b[2;36m[05/22/25 21:35:01]\u001b[0m\u001b[2;36m \u001b[0m\u001b[34mINFO    \u001b[0m ✓ \u001b[1;36m58.\u001b[0mtxt → Basic\\Gemini\\\u001b[1;36m58.\u001b[0mcc                                          \u001b]8;id=313082;file://C:\\Users\\Tasnim\\AppData\\Local\\Temp\\ipykernel_16732\\1564753407.py\u001b\\\u001b[2m1564753407.py\u001b[0m\u001b]8;;\u001b\\\u001b[2m:\u001b[0m\u001b]8;id=668755;file://C:\\Users\\Tasnim\\AppData\\Local\\Temp\\ipykernel_16732\\1564753407.py#9\u001b\\\u001b[2m9\u001b[0m\u001b]8;;\u001b\\\n"
      ]
     },
     "metadata": {},
     "output_type": "display_data"
    },
    {
     "name": "stderr",
     "output_type": "stream",
     "text": [
      "Generating:  43%|████▎     | 173/400 [2:07:41<3:46:07, 59.77s/it]"
     ]
    },
    {
     "data": {
      "text/html": [
       "<pre style=\"white-space:pre;overflow-x:auto;line-height:normal;font-family:Menlo,'DejaVu Sans Mono',consolas,'Courier New',monospace\"><span style=\"color: #7fbfbf; text-decoration-color: #7fbfbf\">[05/22/25 21:35:17] </span><span style=\"color: #000080; text-decoration-color: #000080\">INFO    </span> ✓ <span style=\"color: #008080; text-decoration-color: #008080; font-weight: bold\">59.</span>txt → Basic\\Gemini\\<span style=\"color: #008080; text-decoration-color: #008080; font-weight: bold\">59.</span>cc                                          <a href=\"file://C:\\Users\\Tasnim\\AppData\\Local\\Temp\\ipykernel_16732\\1564753407.py\" target=\"_blank\"><span style=\"color: #7f7f7f; text-decoration-color: #7f7f7f\">1564753407.py</span></a><span style=\"color: #7f7f7f; text-decoration-color: #7f7f7f\">:</span><a href=\"file://C:\\Users\\Tasnim\\AppData\\Local\\Temp\\ipykernel_16732\\1564753407.py#9\" target=\"_blank\"><span style=\"color: #7f7f7f; text-decoration-color: #7f7f7f\">9</span></a>\n",
       "</pre>\n"
      ],
      "text/plain": [
       "\u001b[2;36m[05/22/25 21:35:17]\u001b[0m\u001b[2;36m \u001b[0m\u001b[34mINFO    \u001b[0m ✓ \u001b[1;36m59.\u001b[0mtxt → Basic\\Gemini\\\u001b[1;36m59.\u001b[0mcc                                          \u001b]8;id=986246;file://C:\\Users\\Tasnim\\AppData\\Local\\Temp\\ipykernel_16732\\1564753407.py\u001b\\\u001b[2m1564753407.py\u001b[0m\u001b]8;;\u001b\\\u001b[2m:\u001b[0m\u001b]8;id=18868;file://C:\\Users\\Tasnim\\AppData\\Local\\Temp\\ipykernel_16732\\1564753407.py#9\u001b\\\u001b[2m9\u001b[0m\u001b]8;;\u001b\\\n"
      ]
     },
     "metadata": {},
     "output_type": "display_data"
    },
    {
     "name": "stderr",
     "output_type": "stream",
     "text": [
      "Generating:  44%|████▎     | 174/400 [2:07:58<2:56:13, 46.79s/it]"
     ]
    },
    {
     "data": {
      "text/html": [
       "<pre style=\"white-space:pre;overflow-x:auto;line-height:normal;font-family:Menlo,'DejaVu Sans Mono',consolas,'Courier New',monospace\"><span style=\"color: #7fbfbf; text-decoration-color: #7fbfbf\">[05/22/25 21:35:45] </span><span style=\"color: #000080; text-decoration-color: #000080\">INFO    </span> ✓ <span style=\"color: #008080; text-decoration-color: #008080; font-weight: bold\">6.</span>txt → Basic\\Gemini\\<span style=\"color: #008080; text-decoration-color: #008080; font-weight: bold\">6.</span>cc                                            <a href=\"file://C:\\Users\\Tasnim\\AppData\\Local\\Temp\\ipykernel_16732\\1564753407.py\" target=\"_blank\"><span style=\"color: #7f7f7f; text-decoration-color: #7f7f7f\">1564753407.py</span></a><span style=\"color: #7f7f7f; text-decoration-color: #7f7f7f\">:</span><a href=\"file://C:\\Users\\Tasnim\\AppData\\Local\\Temp\\ipykernel_16732\\1564753407.py#9\" target=\"_blank\"><span style=\"color: #7f7f7f; text-decoration-color: #7f7f7f\">9</span></a>\n",
       "</pre>\n"
      ],
      "text/plain": [
       "\u001b[2;36m[05/22/25 21:35:45]\u001b[0m\u001b[2;36m \u001b[0m\u001b[34mINFO    \u001b[0m ✓ \u001b[1;36m6.\u001b[0mtxt → Basic\\Gemini\\\u001b[1;36m6.\u001b[0mcc                                            \u001b]8;id=459648;file://C:\\Users\\Tasnim\\AppData\\Local\\Temp\\ipykernel_16732\\1564753407.py\u001b\\\u001b[2m1564753407.py\u001b[0m\u001b]8;;\u001b\\\u001b[2m:\u001b[0m\u001b]8;id=496539;file://C:\\Users\\Tasnim\\AppData\\Local\\Temp\\ipykernel_16732\\1564753407.py#9\u001b\\\u001b[2m9\u001b[0m\u001b]8;;\u001b\\\n"
      ]
     },
     "metadata": {},
     "output_type": "display_data"
    },
    {
     "name": "stderr",
     "output_type": "stream",
     "text": [
      "Generating:  44%|████▍     | 175/400 [2:08:25<2:33:39, 40.98s/it]"
     ]
    },
    {
     "data": {
      "text/html": [
       "<pre style=\"white-space:pre;overflow-x:auto;line-height:normal;font-family:Menlo,'DejaVu Sans Mono',consolas,'Courier New',monospace\"><span style=\"color: #7fbfbf; text-decoration-color: #7fbfbf\">[05/22/25 21:36:49] </span><span style=\"color: #000080; text-decoration-color: #000080\">INFO    </span> ✓ <span style=\"color: #008080; text-decoration-color: #008080; font-weight: bold\">60.</span>txt → Basic\\Gemini\\<span style=\"color: #008080; text-decoration-color: #008080; font-weight: bold\">60.</span>cc                                          <a href=\"file://C:\\Users\\Tasnim\\AppData\\Local\\Temp\\ipykernel_16732\\1564753407.py\" target=\"_blank\"><span style=\"color: #7f7f7f; text-decoration-color: #7f7f7f\">1564753407.py</span></a><span style=\"color: #7f7f7f; text-decoration-color: #7f7f7f\">:</span><a href=\"file://C:\\Users\\Tasnim\\AppData\\Local\\Temp\\ipykernel_16732\\1564753407.py#9\" target=\"_blank\"><span style=\"color: #7f7f7f; text-decoration-color: #7f7f7f\">9</span></a>\n",
       "</pre>\n"
      ],
      "text/plain": [
       "\u001b[2;36m[05/22/25 21:36:49]\u001b[0m\u001b[2;36m \u001b[0m\u001b[34mINFO    \u001b[0m ✓ \u001b[1;36m60.\u001b[0mtxt → Basic\\Gemini\\\u001b[1;36m60.\u001b[0mcc                                          \u001b]8;id=449599;file://C:\\Users\\Tasnim\\AppData\\Local\\Temp\\ipykernel_16732\\1564753407.py\u001b\\\u001b[2m1564753407.py\u001b[0m\u001b]8;;\u001b\\\u001b[2m:\u001b[0m\u001b]8;id=900652;file://C:\\Users\\Tasnim\\AppData\\Local\\Temp\\ipykernel_16732\\1564753407.py#9\u001b\\\u001b[2m9\u001b[0m\u001b]8;;\u001b\\\n"
      ]
     },
     "metadata": {},
     "output_type": "display_data"
    },
    {
     "name": "stderr",
     "output_type": "stream",
     "text": [
      "Generating:  44%|████▍     | 176/400 [2:09:30<2:59:34, 48.10s/it]"
     ]
    },
    {
     "data": {
      "text/html": [
       "<pre style=\"white-space:pre;overflow-x:auto;line-height:normal;font-family:Menlo,'DejaVu Sans Mono',consolas,'Courier New',monospace\"><span style=\"color: #7fbfbf; text-decoration-color: #7fbfbf\">[05/22/25 21:38:00] </span><span style=\"color: #000080; text-decoration-color: #000080\">INFO    </span> ✓ <span style=\"color: #008080; text-decoration-color: #008080; font-weight: bold\">61.</span>txt → Basic\\Gemini\\<span style=\"color: #008080; text-decoration-color: #008080; font-weight: bold\">61.</span>cc                                          <a href=\"file://C:\\Users\\Tasnim\\AppData\\Local\\Temp\\ipykernel_16732\\1564753407.py\" target=\"_blank\"><span style=\"color: #7f7f7f; text-decoration-color: #7f7f7f\">1564753407.py</span></a><span style=\"color: #7f7f7f; text-decoration-color: #7f7f7f\">:</span><a href=\"file://C:\\Users\\Tasnim\\AppData\\Local\\Temp\\ipykernel_16732\\1564753407.py#9\" target=\"_blank\"><span style=\"color: #7f7f7f; text-decoration-color: #7f7f7f\">9</span></a>\n",
       "</pre>\n"
      ],
      "text/plain": [
       "\u001b[2;36m[05/22/25 21:38:00]\u001b[0m\u001b[2;36m \u001b[0m\u001b[34mINFO    \u001b[0m ✓ \u001b[1;36m61.\u001b[0mtxt → Basic\\Gemini\\\u001b[1;36m61.\u001b[0mcc                                          \u001b]8;id=208821;file://C:\\Users\\Tasnim\\AppData\\Local\\Temp\\ipykernel_16732\\1564753407.py\u001b\\\u001b[2m1564753407.py\u001b[0m\u001b]8;;\u001b\\\u001b[2m:\u001b[0m\u001b]8;id=402533;file://C:\\Users\\Tasnim\\AppData\\Local\\Temp\\ipykernel_16732\\1564753407.py#9\u001b\\\u001b[2m9\u001b[0m\u001b]8;;\u001b\\\n"
      ]
     },
     "metadata": {},
     "output_type": "display_data"
    },
    {
     "name": "stderr",
     "output_type": "stream",
     "text": [
      "Generating:  44%|████▍     | 177/400 [2:10:40<3:23:34, 54.77s/it]"
     ]
    },
    {
     "data": {
      "text/html": [
       "<pre style=\"white-space:pre;overflow-x:auto;line-height:normal;font-family:Menlo,'DejaVu Sans Mono',consolas,'Courier New',monospace\"><span style=\"color: #7fbfbf; text-decoration-color: #7fbfbf\">[05/22/25 21:38:43] </span><span style=\"color: #000080; text-decoration-color: #000080\">INFO    </span> ✓ <span style=\"color: #008080; text-decoration-color: #008080; font-weight: bold\">62.</span>txt → Basic\\Gemini\\<span style=\"color: #008080; text-decoration-color: #008080; font-weight: bold\">62.</span>cc                                          <a href=\"file://C:\\Users\\Tasnim\\AppData\\Local\\Temp\\ipykernel_16732\\1564753407.py\" target=\"_blank\"><span style=\"color: #7f7f7f; text-decoration-color: #7f7f7f\">1564753407.py</span></a><span style=\"color: #7f7f7f; text-decoration-color: #7f7f7f\">:</span><a href=\"file://C:\\Users\\Tasnim\\AppData\\Local\\Temp\\ipykernel_16732\\1564753407.py#9\" target=\"_blank\"><span style=\"color: #7f7f7f; text-decoration-color: #7f7f7f\">9</span></a>\n",
       "</pre>\n"
      ],
      "text/plain": [
       "\u001b[2;36m[05/22/25 21:38:43]\u001b[0m\u001b[2;36m \u001b[0m\u001b[34mINFO    \u001b[0m ✓ \u001b[1;36m62.\u001b[0mtxt → Basic\\Gemini\\\u001b[1;36m62.\u001b[0mcc                                          \u001b]8;id=59527;file://C:\\Users\\Tasnim\\AppData\\Local\\Temp\\ipykernel_16732\\1564753407.py\u001b\\\u001b[2m1564753407.py\u001b[0m\u001b]8;;\u001b\\\u001b[2m:\u001b[0m\u001b]8;id=82690;file://C:\\Users\\Tasnim\\AppData\\Local\\Temp\\ipykernel_16732\\1564753407.py#9\u001b\\\u001b[2m9\u001b[0m\u001b]8;;\u001b\\\n"
      ]
     },
     "metadata": {},
     "output_type": "display_data"
    },
    {
     "name": "stderr",
     "output_type": "stream",
     "text": [
      "Generating:  44%|████▍     | 178/400 [2:11:24<3:09:47, 51.29s/it]"
     ]
    },
    {
     "data": {
      "text/html": [
       "<pre style=\"white-space:pre;overflow-x:auto;line-height:normal;font-family:Menlo,'DejaVu Sans Mono',consolas,'Courier New',monospace\"><span style=\"color: #7fbfbf; text-decoration-color: #7fbfbf\">[05/22/25 21:39:00] </span><span style=\"color: #000080; text-decoration-color: #000080\">INFO    </span> ✓ <span style=\"color: #008080; text-decoration-color: #008080; font-weight: bold\">63.</span>txt → Basic\\Gemini\\<span style=\"color: #008080; text-decoration-color: #008080; font-weight: bold\">63.</span>cc                                          <a href=\"file://C:\\Users\\Tasnim\\AppData\\Local\\Temp\\ipykernel_16732\\1564753407.py\" target=\"_blank\"><span style=\"color: #7f7f7f; text-decoration-color: #7f7f7f\">1564753407.py</span></a><span style=\"color: #7f7f7f; text-decoration-color: #7f7f7f\">:</span><a href=\"file://C:\\Users\\Tasnim\\AppData\\Local\\Temp\\ipykernel_16732\\1564753407.py#9\" target=\"_blank\"><span style=\"color: #7f7f7f; text-decoration-color: #7f7f7f\">9</span></a>\n",
       "</pre>\n"
      ],
      "text/plain": [
       "\u001b[2;36m[05/22/25 21:39:00]\u001b[0m\u001b[2;36m \u001b[0m\u001b[34mINFO    \u001b[0m ✓ \u001b[1;36m63.\u001b[0mtxt → Basic\\Gemini\\\u001b[1;36m63.\u001b[0mcc                                          \u001b]8;id=990868;file://C:\\Users\\Tasnim\\AppData\\Local\\Temp\\ipykernel_16732\\1564753407.py\u001b\\\u001b[2m1564753407.py\u001b[0m\u001b]8;;\u001b\\\u001b[2m:\u001b[0m\u001b]8;id=757041;file://C:\\Users\\Tasnim\\AppData\\Local\\Temp\\ipykernel_16732\\1564753407.py#9\u001b\\\u001b[2m9\u001b[0m\u001b]8;;\u001b\\\n"
      ]
     },
     "metadata": {},
     "output_type": "display_data"
    },
    {
     "name": "stderr",
     "output_type": "stream",
     "text": [
      "Generating:  45%|████▍     | 179/400 [2:11:40<2:30:49, 40.95s/it]"
     ]
    },
    {
     "data": {
      "text/html": [
       "<pre style=\"white-space:pre;overflow-x:auto;line-height:normal;font-family:Menlo,'DejaVu Sans Mono',consolas,'Courier New',monospace\"><span style=\"color: #7fbfbf; text-decoration-color: #7fbfbf\">[05/22/25 21:39:37] </span><span style=\"color: #000080; text-decoration-color: #000080\">INFO    </span> ✓ <span style=\"color: #008080; text-decoration-color: #008080; font-weight: bold\">64.</span>txt → Basic\\Gemini\\<span style=\"color: #008080; text-decoration-color: #008080; font-weight: bold\">64.</span>cc                                          <a href=\"file://C:\\Users\\Tasnim\\AppData\\Local\\Temp\\ipykernel_16732\\1564753407.py\" target=\"_blank\"><span style=\"color: #7f7f7f; text-decoration-color: #7f7f7f\">1564753407.py</span></a><span style=\"color: #7f7f7f; text-decoration-color: #7f7f7f\">:</span><a href=\"file://C:\\Users\\Tasnim\\AppData\\Local\\Temp\\ipykernel_16732\\1564753407.py#9\" target=\"_blank\"><span style=\"color: #7f7f7f; text-decoration-color: #7f7f7f\">9</span></a>\n",
       "</pre>\n"
      ],
      "text/plain": [
       "\u001b[2;36m[05/22/25 21:39:37]\u001b[0m\u001b[2;36m \u001b[0m\u001b[34mINFO    \u001b[0m ✓ \u001b[1;36m64.\u001b[0mtxt → Basic\\Gemini\\\u001b[1;36m64.\u001b[0mcc                                          \u001b]8;id=281358;file://C:\\Users\\Tasnim\\AppData\\Local\\Temp\\ipykernel_16732\\1564753407.py\u001b\\\u001b[2m1564753407.py\u001b[0m\u001b]8;;\u001b\\\u001b[2m:\u001b[0m\u001b]8;id=850680;file://C:\\Users\\Tasnim\\AppData\\Local\\Temp\\ipykernel_16732\\1564753407.py#9\u001b\\\u001b[2m9\u001b[0m\u001b]8;;\u001b\\\n"
      ]
     },
     "metadata": {},
     "output_type": "display_data"
    },
    {
     "name": "stderr",
     "output_type": "stream",
     "text": [
      "Generating:  45%|████▌     | 180/400 [2:12:17<2:25:40, 39.73s/it]"
     ]
    },
    {
     "data": {
      "text/html": [
       "<pre style=\"white-space:pre;overflow-x:auto;line-height:normal;font-family:Menlo,'DejaVu Sans Mono',consolas,'Courier New',monospace\"><span style=\"color: #7fbfbf; text-decoration-color: #7fbfbf\">[05/22/25 21:40:43] </span><span style=\"color: #000080; text-decoration-color: #000080\">INFO    </span> ✓ <span style=\"color: #008080; text-decoration-color: #008080; font-weight: bold\">65.</span>txt → Basic\\Gemini\\<span style=\"color: #008080; text-decoration-color: #008080; font-weight: bold\">65.</span>cc                                          <a href=\"file://C:\\Users\\Tasnim\\AppData\\Local\\Temp\\ipykernel_16732\\1564753407.py\" target=\"_blank\"><span style=\"color: #7f7f7f; text-decoration-color: #7f7f7f\">1564753407.py</span></a><span style=\"color: #7f7f7f; text-decoration-color: #7f7f7f\">:</span><a href=\"file://C:\\Users\\Tasnim\\AppData\\Local\\Temp\\ipykernel_16732\\1564753407.py#9\" target=\"_blank\"><span style=\"color: #7f7f7f; text-decoration-color: #7f7f7f\">9</span></a>\n",
       "</pre>\n"
      ],
      "text/plain": [
       "\u001b[2;36m[05/22/25 21:40:43]\u001b[0m\u001b[2;36m \u001b[0m\u001b[34mINFO    \u001b[0m ✓ \u001b[1;36m65.\u001b[0mtxt → Basic\\Gemini\\\u001b[1;36m65.\u001b[0mcc                                          \u001b]8;id=878142;file://C:\\Users\\Tasnim\\AppData\\Local\\Temp\\ipykernel_16732\\1564753407.py\u001b\\\u001b[2m1564753407.py\u001b[0m\u001b]8;;\u001b\\\u001b[2m:\u001b[0m\u001b]8;id=157711;file://C:\\Users\\Tasnim\\AppData\\Local\\Temp\\ipykernel_16732\\1564753407.py#9\u001b\\\u001b[2m9\u001b[0m\u001b]8;;\u001b\\\n"
      ]
     },
     "metadata": {},
     "output_type": "display_data"
    },
    {
     "name": "stderr",
     "output_type": "stream",
     "text": [
      "Generating:  45%|████▌     | 181/400 [2:13:24<2:54:43, 47.87s/it]"
     ]
    },
    {
     "data": {
      "text/html": [
       "<pre style=\"white-space:pre;overflow-x:auto;line-height:normal;font-family:Menlo,'DejaVu Sans Mono',consolas,'Courier New',monospace\"><span style=\"color: #7fbfbf; text-decoration-color: #7fbfbf\">[05/22/25 21:41:36] </span><span style=\"color: #000080; text-decoration-color: #000080\">INFO    </span> ✓ <span style=\"color: #008080; text-decoration-color: #008080; font-weight: bold\">66.</span>txt → Basic\\Gemini\\<span style=\"color: #008080; text-decoration-color: #008080; font-weight: bold\">66.</span>cc                                          <a href=\"file://C:\\Users\\Tasnim\\AppData\\Local\\Temp\\ipykernel_16732\\1564753407.py\" target=\"_blank\"><span style=\"color: #7f7f7f; text-decoration-color: #7f7f7f\">1564753407.py</span></a><span style=\"color: #7f7f7f; text-decoration-color: #7f7f7f\">:</span><a href=\"file://C:\\Users\\Tasnim\\AppData\\Local\\Temp\\ipykernel_16732\\1564753407.py#9\" target=\"_blank\"><span style=\"color: #7f7f7f; text-decoration-color: #7f7f7f\">9</span></a>\n",
       "</pre>\n"
      ],
      "text/plain": [
       "\u001b[2;36m[05/22/25 21:41:36]\u001b[0m\u001b[2;36m \u001b[0m\u001b[34mINFO    \u001b[0m ✓ \u001b[1;36m66.\u001b[0mtxt → Basic\\Gemini\\\u001b[1;36m66.\u001b[0mcc                                          \u001b]8;id=378895;file://C:\\Users\\Tasnim\\AppData\\Local\\Temp\\ipykernel_16732\\1564753407.py\u001b\\\u001b[2m1564753407.py\u001b[0m\u001b]8;;\u001b\\\u001b[2m:\u001b[0m\u001b]8;id=533918;file://C:\\Users\\Tasnim\\AppData\\Local\\Temp\\ipykernel_16732\\1564753407.py#9\u001b\\\u001b[2m9\u001b[0m\u001b]8;;\u001b\\\n"
      ]
     },
     "metadata": {},
     "output_type": "display_data"
    },
    {
     "name": "stderr",
     "output_type": "stream",
     "text": [
      "Generating:  46%|████▌     | 182/400 [2:14:17<2:59:27, 49.39s/it]"
     ]
    },
    {
     "data": {
      "text/html": [
       "<pre style=\"white-space:pre;overflow-x:auto;line-height:normal;font-family:Menlo,'DejaVu Sans Mono',consolas,'Courier New',monospace\"><span style=\"color: #7fbfbf; text-decoration-color: #7fbfbf\">[05/22/25 21:42:36] </span><span style=\"color: #000080; text-decoration-color: #000080\">INFO    </span> ✓ <span style=\"color: #008080; text-decoration-color: #008080; font-weight: bold\">67.</span>txt → Basic\\Gemini\\<span style=\"color: #008080; text-decoration-color: #008080; font-weight: bold\">67.</span>cc                                          <a href=\"file://C:\\Users\\Tasnim\\AppData\\Local\\Temp\\ipykernel_16732\\1564753407.py\" target=\"_blank\"><span style=\"color: #7f7f7f; text-decoration-color: #7f7f7f\">1564753407.py</span></a><span style=\"color: #7f7f7f; text-decoration-color: #7f7f7f\">:</span><a href=\"file://C:\\Users\\Tasnim\\AppData\\Local\\Temp\\ipykernel_16732\\1564753407.py#9\" target=\"_blank\"><span style=\"color: #7f7f7f; text-decoration-color: #7f7f7f\">9</span></a>\n",
       "</pre>\n"
      ],
      "text/plain": [
       "\u001b[2;36m[05/22/25 21:42:36]\u001b[0m\u001b[2;36m \u001b[0m\u001b[34mINFO    \u001b[0m ✓ \u001b[1;36m67.\u001b[0mtxt → Basic\\Gemini\\\u001b[1;36m67.\u001b[0mcc                                          \u001b]8;id=696507;file://C:\\Users\\Tasnim\\AppData\\Local\\Temp\\ipykernel_16732\\1564753407.py\u001b\\\u001b[2m1564753407.py\u001b[0m\u001b]8;;\u001b\\\u001b[2m:\u001b[0m\u001b]8;id=226794;file://C:\\Users\\Tasnim\\AppData\\Local\\Temp\\ipykernel_16732\\1564753407.py#9\u001b\\\u001b[2m9\u001b[0m\u001b]8;;\u001b\\\n"
      ]
     },
     "metadata": {},
     "output_type": "display_data"
    },
    {
     "name": "stderr",
     "output_type": "stream",
     "text": [
      "Generating:  46%|████▌     | 183/400 [2:15:17<3:09:42, 52.45s/it]"
     ]
    },
    {
     "data": {
      "text/html": [
       "<pre style=\"white-space:pre;overflow-x:auto;line-height:normal;font-family:Menlo,'DejaVu Sans Mono',consolas,'Courier New',monospace\"><span style=\"color: #7fbfbf; text-decoration-color: #7fbfbf\">[05/22/25 21:43:56] </span><span style=\"color: #000080; text-decoration-color: #000080\">INFO    </span> ✓ <span style=\"color: #008080; text-decoration-color: #008080; font-weight: bold\">68.</span>txt → Basic\\Gemini\\<span style=\"color: #008080; text-decoration-color: #008080; font-weight: bold\">68.</span>cc                                          <a href=\"file://C:\\Users\\Tasnim\\AppData\\Local\\Temp\\ipykernel_16732\\1564753407.py\" target=\"_blank\"><span style=\"color: #7f7f7f; text-decoration-color: #7f7f7f\">1564753407.py</span></a><span style=\"color: #7f7f7f; text-decoration-color: #7f7f7f\">:</span><a href=\"file://C:\\Users\\Tasnim\\AppData\\Local\\Temp\\ipykernel_16732\\1564753407.py#9\" target=\"_blank\"><span style=\"color: #7f7f7f; text-decoration-color: #7f7f7f\">9</span></a>\n",
       "</pre>\n"
      ],
      "text/plain": [
       "\u001b[2;36m[05/22/25 21:43:56]\u001b[0m\u001b[2;36m \u001b[0m\u001b[34mINFO    \u001b[0m ✓ \u001b[1;36m68.\u001b[0mtxt → Basic\\Gemini\\\u001b[1;36m68.\u001b[0mcc                                          \u001b]8;id=84369;file://C:\\Users\\Tasnim\\AppData\\Local\\Temp\\ipykernel_16732\\1564753407.py\u001b\\\u001b[2m1564753407.py\u001b[0m\u001b]8;;\u001b\\\u001b[2m:\u001b[0m\u001b]8;id=122201;file://C:\\Users\\Tasnim\\AppData\\Local\\Temp\\ipykernel_16732\\1564753407.py#9\u001b\\\u001b[2m9\u001b[0m\u001b]8;;\u001b\\\n"
      ]
     },
     "metadata": {},
     "output_type": "display_data"
    },
    {
     "name": "stderr",
     "output_type": "stream",
     "text": [
      "Generating:  46%|████▌     | 184/400 [2:16:36<3:38:12, 60.62s/it]"
     ]
    },
    {
     "data": {
      "text/html": [
       "<pre style=\"white-space:pre;overflow-x:auto;line-height:normal;font-family:Menlo,'DejaVu Sans Mono',consolas,'Courier New',monospace\"><span style=\"color: #7fbfbf; text-decoration-color: #7fbfbf\">[05/22/25 21:45:06] </span><span style=\"color: #000080; text-decoration-color: #000080\">INFO    </span> ✓ <span style=\"color: #008080; text-decoration-color: #008080; font-weight: bold\">69.</span>txt → Basic\\Gemini\\<span style=\"color: #008080; text-decoration-color: #008080; font-weight: bold\">69.</span>cc                                          <a href=\"file://C:\\Users\\Tasnim\\AppData\\Local\\Temp\\ipykernel_16732\\1564753407.py\" target=\"_blank\"><span style=\"color: #7f7f7f; text-decoration-color: #7f7f7f\">1564753407.py</span></a><span style=\"color: #7f7f7f; text-decoration-color: #7f7f7f\">:</span><a href=\"file://C:\\Users\\Tasnim\\AppData\\Local\\Temp\\ipykernel_16732\\1564753407.py#9\" target=\"_blank\"><span style=\"color: #7f7f7f; text-decoration-color: #7f7f7f\">9</span></a>\n",
       "</pre>\n"
      ],
      "text/plain": [
       "\u001b[2;36m[05/22/25 21:45:06]\u001b[0m\u001b[2;36m \u001b[0m\u001b[34mINFO    \u001b[0m ✓ \u001b[1;36m69.\u001b[0mtxt → Basic\\Gemini\\\u001b[1;36m69.\u001b[0mcc                                          \u001b]8;id=259614;file://C:\\Users\\Tasnim\\AppData\\Local\\Temp\\ipykernel_16732\\1564753407.py\u001b\\\u001b[2m1564753407.py\u001b[0m\u001b]8;;\u001b\\\u001b[2m:\u001b[0m\u001b]8;id=86272;file://C:\\Users\\Tasnim\\AppData\\Local\\Temp\\ipykernel_16732\\1564753407.py#9\u001b\\\u001b[2m9\u001b[0m\u001b]8;;\u001b\\\n"
      ]
     },
     "metadata": {},
     "output_type": "display_data"
    },
    {
     "name": "stderr",
     "output_type": "stream",
     "text": [
      "Generating:  46%|████▋     | 185/400 [2:17:47<3:47:30, 63.49s/it]"
     ]
    },
    {
     "data": {
      "text/html": [
       "<pre style=\"white-space:pre;overflow-x:auto;line-height:normal;font-family:Menlo,'DejaVu Sans Mono',consolas,'Courier New',monospace\"><span style=\"color: #7fbfbf; text-decoration-color: #7fbfbf\">[05/22/25 21:45:49] </span><span style=\"color: #000080; text-decoration-color: #000080\">INFO    </span> ✓ <span style=\"color: #008080; text-decoration-color: #008080; font-weight: bold\">7.</span>txt → Basic\\Gemini\\<span style=\"color: #008080; text-decoration-color: #008080; font-weight: bold\">7.</span>cc                                            <a href=\"file://C:\\Users\\Tasnim\\AppData\\Local\\Temp\\ipykernel_16732\\1564753407.py\" target=\"_blank\"><span style=\"color: #7f7f7f; text-decoration-color: #7f7f7f\">1564753407.py</span></a><span style=\"color: #7f7f7f; text-decoration-color: #7f7f7f\">:</span><a href=\"file://C:\\Users\\Tasnim\\AppData\\Local\\Temp\\ipykernel_16732\\1564753407.py#9\" target=\"_blank\"><span style=\"color: #7f7f7f; text-decoration-color: #7f7f7f\">9</span></a>\n",
       "</pre>\n"
      ],
      "text/plain": [
       "\u001b[2;36m[05/22/25 21:45:49]\u001b[0m\u001b[2;36m \u001b[0m\u001b[34mINFO    \u001b[0m ✓ \u001b[1;36m7.\u001b[0mtxt → Basic\\Gemini\\\u001b[1;36m7.\u001b[0mcc                                            \u001b]8;id=666978;file://C:\\Users\\Tasnim\\AppData\\Local\\Temp\\ipykernel_16732\\1564753407.py\u001b\\\u001b[2m1564753407.py\u001b[0m\u001b]8;;\u001b\\\u001b[2m:\u001b[0m\u001b]8;id=367460;file://C:\\Users\\Tasnim\\AppData\\Local\\Temp\\ipykernel_16732\\1564753407.py#9\u001b\\\u001b[2m9\u001b[0m\u001b]8;;\u001b\\\n"
      ]
     },
     "metadata": {},
     "output_type": "display_data"
    },
    {
     "name": "stderr",
     "output_type": "stream",
     "text": [
      "Generating:  46%|████▋     | 186/400 [2:18:30<3:25:07, 57.51s/it]"
     ]
    },
    {
     "data": {
      "text/html": [
       "<pre style=\"white-space:pre;overflow-x:auto;line-height:normal;font-family:Menlo,'DejaVu Sans Mono',consolas,'Courier New',monospace\"><span style=\"color: #7fbfbf; text-decoration-color: #7fbfbf\">[05/22/25 21:46:38] </span><span style=\"color: #000080; text-decoration-color: #000080\">INFO    </span> ✓ <span style=\"color: #008080; text-decoration-color: #008080; font-weight: bold\">70.</span>txt → Basic\\Gemini\\<span style=\"color: #008080; text-decoration-color: #008080; font-weight: bold\">70.</span>cc                                          <a href=\"file://C:\\Users\\Tasnim\\AppData\\Local\\Temp\\ipykernel_16732\\1564753407.py\" target=\"_blank\"><span style=\"color: #7f7f7f; text-decoration-color: #7f7f7f\">1564753407.py</span></a><span style=\"color: #7f7f7f; text-decoration-color: #7f7f7f\">:</span><a href=\"file://C:\\Users\\Tasnim\\AppData\\Local\\Temp\\ipykernel_16732\\1564753407.py#9\" target=\"_blank\"><span style=\"color: #7f7f7f; text-decoration-color: #7f7f7f\">9</span></a>\n",
       "</pre>\n"
      ],
      "text/plain": [
       "\u001b[2;36m[05/22/25 21:46:38]\u001b[0m\u001b[2;36m \u001b[0m\u001b[34mINFO    \u001b[0m ✓ \u001b[1;36m70.\u001b[0mtxt → Basic\\Gemini\\\u001b[1;36m70.\u001b[0mcc                                          \u001b]8;id=289479;file://C:\\Users\\Tasnim\\AppData\\Local\\Temp\\ipykernel_16732\\1564753407.py\u001b\\\u001b[2m1564753407.py\u001b[0m\u001b]8;;\u001b\\\u001b[2m:\u001b[0m\u001b]8;id=677693;file://C:\\Users\\Tasnim\\AppData\\Local\\Temp\\ipykernel_16732\\1564753407.py#9\u001b\\\u001b[2m9\u001b[0m\u001b]8;;\u001b\\\n"
      ]
     },
     "metadata": {},
     "output_type": "display_data"
    },
    {
     "name": "stderr",
     "output_type": "stream",
     "text": [
      "Generating:  47%|████▋     | 187/400 [2:19:18<3:14:21, 54.75s/it]"
     ]
    },
    {
     "data": {
      "text/html": [
       "<pre style=\"white-space:pre;overflow-x:auto;line-height:normal;font-family:Menlo,'DejaVu Sans Mono',consolas,'Courier New',monospace\"><span style=\"color: #7fbfbf; text-decoration-color: #7fbfbf\">[05/22/25 21:47:23] </span><span style=\"color: #000080; text-decoration-color: #000080\">INFO    </span> ✓ <span style=\"color: #008080; text-decoration-color: #008080; font-weight: bold\">71.</span>txt → Basic\\Gemini\\<span style=\"color: #008080; text-decoration-color: #008080; font-weight: bold\">71.</span>cc                                          <a href=\"file://C:\\Users\\Tasnim\\AppData\\Local\\Temp\\ipykernel_16732\\1564753407.py\" target=\"_blank\"><span style=\"color: #7f7f7f; text-decoration-color: #7f7f7f\">1564753407.py</span></a><span style=\"color: #7f7f7f; text-decoration-color: #7f7f7f\">:</span><a href=\"file://C:\\Users\\Tasnim\\AppData\\Local\\Temp\\ipykernel_16732\\1564753407.py#9\" target=\"_blank\"><span style=\"color: #7f7f7f; text-decoration-color: #7f7f7f\">9</span></a>\n",
       "</pre>\n"
      ],
      "text/plain": [
       "\u001b[2;36m[05/22/25 21:47:23]\u001b[0m\u001b[2;36m \u001b[0m\u001b[34mINFO    \u001b[0m ✓ \u001b[1;36m71.\u001b[0mtxt → Basic\\Gemini\\\u001b[1;36m71.\u001b[0mcc                                          \u001b]8;id=180358;file://C:\\Users\\Tasnim\\AppData\\Local\\Temp\\ipykernel_16732\\1564753407.py\u001b\\\u001b[2m1564753407.py\u001b[0m\u001b]8;;\u001b\\\u001b[2m:\u001b[0m\u001b]8;id=576378;file://C:\\Users\\Tasnim\\AppData\\Local\\Temp\\ipykernel_16732\\1564753407.py#9\u001b\\\u001b[2m9\u001b[0m\u001b]8;;\u001b\\\n"
      ]
     },
     "metadata": {},
     "output_type": "display_data"
    },
    {
     "name": "stderr",
     "output_type": "stream",
     "text": [
      "Generating:  47%|████▋     | 188/400 [2:20:04<3:03:36, 51.96s/it]"
     ]
    },
    {
     "data": {
      "text/html": [
       "<pre style=\"white-space:pre;overflow-x:auto;line-height:normal;font-family:Menlo,'DejaVu Sans Mono',consolas,'Courier New',monospace\"><span style=\"color: #7fbfbf; text-decoration-color: #7fbfbf\">[05/22/25 21:48:43] </span><span style=\"color: #000080; text-decoration-color: #000080\">INFO    </span> ✓ <span style=\"color: #008080; text-decoration-color: #008080; font-weight: bold\">72.</span>txt → Basic\\Gemini\\<span style=\"color: #008080; text-decoration-color: #008080; font-weight: bold\">72.</span>cc                                          <a href=\"file://C:\\Users\\Tasnim\\AppData\\Local\\Temp\\ipykernel_16732\\1564753407.py\" target=\"_blank\"><span style=\"color: #7f7f7f; text-decoration-color: #7f7f7f\">1564753407.py</span></a><span style=\"color: #7f7f7f; text-decoration-color: #7f7f7f\">:</span><a href=\"file://C:\\Users\\Tasnim\\AppData\\Local\\Temp\\ipykernel_16732\\1564753407.py#9\" target=\"_blank\"><span style=\"color: #7f7f7f; text-decoration-color: #7f7f7f\">9</span></a>\n",
       "</pre>\n"
      ],
      "text/plain": [
       "\u001b[2;36m[05/22/25 21:48:43]\u001b[0m\u001b[2;36m \u001b[0m\u001b[34mINFO    \u001b[0m ✓ \u001b[1;36m72.\u001b[0mtxt → Basic\\Gemini\\\u001b[1;36m72.\u001b[0mcc                                          \u001b]8;id=510049;file://C:\\Users\\Tasnim\\AppData\\Local\\Temp\\ipykernel_16732\\1564753407.py\u001b\\\u001b[2m1564753407.py\u001b[0m\u001b]8;;\u001b\\\u001b[2m:\u001b[0m\u001b]8;id=7409;file://C:\\Users\\Tasnim\\AppData\\Local\\Temp\\ipykernel_16732\\1564753407.py#9\u001b\\\u001b[2m9\u001b[0m\u001b]8;;\u001b\\\n"
      ]
     },
     "metadata": {},
     "output_type": "display_data"
    },
    {
     "name": "stderr",
     "output_type": "stream",
     "text": [
      "Generating:  47%|████▋     | 189/400 [2:21:24<3:32:12, 60.34s/it]"
     ]
    },
    {
     "data": {
      "text/html": [
       "<pre style=\"white-space:pre;overflow-x:auto;line-height:normal;font-family:Menlo,'DejaVu Sans Mono',consolas,'Courier New',monospace\"><span style=\"color: #7fbfbf; text-decoration-color: #7fbfbf\">[05/22/25 21:49:18] </span><span style=\"color: #000080; text-decoration-color: #000080\">INFO    </span> ✓ <span style=\"color: #008080; text-decoration-color: #008080; font-weight: bold\">73.</span>txt → Basic\\Gemini\\<span style=\"color: #008080; text-decoration-color: #008080; font-weight: bold\">73.</span>cc                                          <a href=\"file://C:\\Users\\Tasnim\\AppData\\Local\\Temp\\ipykernel_16732\\1564753407.py\" target=\"_blank\"><span style=\"color: #7f7f7f; text-decoration-color: #7f7f7f\">1564753407.py</span></a><span style=\"color: #7f7f7f; text-decoration-color: #7f7f7f\">:</span><a href=\"file://C:\\Users\\Tasnim\\AppData\\Local\\Temp\\ipykernel_16732\\1564753407.py#9\" target=\"_blank\"><span style=\"color: #7f7f7f; text-decoration-color: #7f7f7f\">9</span></a>\n",
       "</pre>\n"
      ],
      "text/plain": [
       "\u001b[2;36m[05/22/25 21:49:18]\u001b[0m\u001b[2;36m \u001b[0m\u001b[34mINFO    \u001b[0m ✓ \u001b[1;36m73.\u001b[0mtxt → Basic\\Gemini\\\u001b[1;36m73.\u001b[0mcc                                          \u001b]8;id=364377;file://C:\\Users\\Tasnim\\AppData\\Local\\Temp\\ipykernel_16732\\1564753407.py\u001b\\\u001b[2m1564753407.py\u001b[0m\u001b]8;;\u001b\\\u001b[2m:\u001b[0m\u001b]8;id=566379;file://C:\\Users\\Tasnim\\AppData\\Local\\Temp\\ipykernel_16732\\1564753407.py#9\u001b\\\u001b[2m9\u001b[0m\u001b]8;;\u001b\\\n"
      ]
     },
     "metadata": {},
     "output_type": "display_data"
    },
    {
     "name": "stderr",
     "output_type": "stream",
     "text": [
      "Generating:  48%|████▊     | 190/400 [2:21:58<3:04:08, 52.61s/it]"
     ]
    },
    {
     "data": {
      "text/html": [
       "<pre style=\"white-space:pre;overflow-x:auto;line-height:normal;font-family:Menlo,'DejaVu Sans Mono',consolas,'Courier New',monospace\"><span style=\"color: #7fbfbf; text-decoration-color: #7fbfbf\">[05/22/25 21:50:23] </span><span style=\"color: #000080; text-decoration-color: #000080\">INFO    </span> ✓ <span style=\"color: #008080; text-decoration-color: #008080; font-weight: bold\">74.</span>txt → Basic\\Gemini\\<span style=\"color: #008080; text-decoration-color: #008080; font-weight: bold\">74.</span>cc                                          <a href=\"file://C:\\Users\\Tasnim\\AppData\\Local\\Temp\\ipykernel_16732\\1564753407.py\" target=\"_blank\"><span style=\"color: #7f7f7f; text-decoration-color: #7f7f7f\">1564753407.py</span></a><span style=\"color: #7f7f7f; text-decoration-color: #7f7f7f\">:</span><a href=\"file://C:\\Users\\Tasnim\\AppData\\Local\\Temp\\ipykernel_16732\\1564753407.py#9\" target=\"_blank\"><span style=\"color: #7f7f7f; text-decoration-color: #7f7f7f\">9</span></a>\n",
       "</pre>\n"
      ],
      "text/plain": [
       "\u001b[2;36m[05/22/25 21:50:23]\u001b[0m\u001b[2;36m \u001b[0m\u001b[34mINFO    \u001b[0m ✓ \u001b[1;36m74.\u001b[0mtxt → Basic\\Gemini\\\u001b[1;36m74.\u001b[0mcc                                          \u001b]8;id=584757;file://C:\\Users\\Tasnim\\AppData\\Local\\Temp\\ipykernel_16732\\1564753407.py\u001b\\\u001b[2m1564753407.py\u001b[0m\u001b]8;;\u001b\\\u001b[2m:\u001b[0m\u001b]8;id=301563;file://C:\\Users\\Tasnim\\AppData\\Local\\Temp\\ipykernel_16732\\1564753407.py#9\u001b\\\u001b[2m9\u001b[0m\u001b]8;;\u001b\\\n"
      ]
     },
     "metadata": {},
     "output_type": "display_data"
    },
    {
     "name": "stderr",
     "output_type": "stream",
     "text": [
      "Generating:  48%|████▊     | 191/400 [2:23:04<3:16:27, 56.40s/it]"
     ]
    },
    {
     "data": {
      "text/html": [
       "<pre style=\"white-space:pre;overflow-x:auto;line-height:normal;font-family:Menlo,'DejaVu Sans Mono',consolas,'Courier New',monospace\"><span style=\"color: #7fbfbf; text-decoration-color: #7fbfbf\">[05/22/25 21:51:02] </span><span style=\"color: #000080; text-decoration-color: #000080\">INFO    </span> ✓ <span style=\"color: #008080; text-decoration-color: #008080; font-weight: bold\">75.</span>txt → Basic\\Gemini\\<span style=\"color: #008080; text-decoration-color: #008080; font-weight: bold\">75.</span>cc                                          <a href=\"file://C:\\Users\\Tasnim\\AppData\\Local\\Temp\\ipykernel_16732\\1564753407.py\" target=\"_blank\"><span style=\"color: #7f7f7f; text-decoration-color: #7f7f7f\">1564753407.py</span></a><span style=\"color: #7f7f7f; text-decoration-color: #7f7f7f\">:</span><a href=\"file://C:\\Users\\Tasnim\\AppData\\Local\\Temp\\ipykernel_16732\\1564753407.py#9\" target=\"_blank\"><span style=\"color: #7f7f7f; text-decoration-color: #7f7f7f\">9</span></a>\n",
       "</pre>\n"
      ],
      "text/plain": [
       "\u001b[2;36m[05/22/25 21:51:02]\u001b[0m\u001b[2;36m \u001b[0m\u001b[34mINFO    \u001b[0m ✓ \u001b[1;36m75.\u001b[0mtxt → Basic\\Gemini\\\u001b[1;36m75.\u001b[0mcc                                          \u001b]8;id=977029;file://C:\\Users\\Tasnim\\AppData\\Local\\Temp\\ipykernel_16732\\1564753407.py\u001b\\\u001b[2m1564753407.py\u001b[0m\u001b]8;;\u001b\\\u001b[2m:\u001b[0m\u001b]8;id=976004;file://C:\\Users\\Tasnim\\AppData\\Local\\Temp\\ipykernel_16732\\1564753407.py#9\u001b\\\u001b[2m9\u001b[0m\u001b]8;;\u001b\\\n"
      ]
     },
     "metadata": {},
     "output_type": "display_data"
    },
    {
     "name": "stderr",
     "output_type": "stream",
     "text": [
      "Generating:  48%|████▊     | 192/400 [2:23:43<2:57:59, 51.34s/it]"
     ]
    },
    {
     "data": {
      "text/html": [
       "<pre style=\"white-space:pre;overflow-x:auto;line-height:normal;font-family:Menlo,'DejaVu Sans Mono',consolas,'Courier New',monospace\"><span style=\"color: #7fbfbf; text-decoration-color: #7fbfbf\">[05/22/25 21:51:34] </span><span style=\"color: #000080; text-decoration-color: #000080\">INFO    </span> ✓ <span style=\"color: #008080; text-decoration-color: #008080; font-weight: bold\">76.</span>txt → Basic\\Gemini\\<span style=\"color: #008080; text-decoration-color: #008080; font-weight: bold\">76.</span>cc                                          <a href=\"file://C:\\Users\\Tasnim\\AppData\\Local\\Temp\\ipykernel_16732\\1564753407.py\" target=\"_blank\"><span style=\"color: #7f7f7f; text-decoration-color: #7f7f7f\">1564753407.py</span></a><span style=\"color: #7f7f7f; text-decoration-color: #7f7f7f\">:</span><a href=\"file://C:\\Users\\Tasnim\\AppData\\Local\\Temp\\ipykernel_16732\\1564753407.py#9\" target=\"_blank\"><span style=\"color: #7f7f7f; text-decoration-color: #7f7f7f\">9</span></a>\n",
       "</pre>\n"
      ],
      "text/plain": [
       "\u001b[2;36m[05/22/25 21:51:34]\u001b[0m\u001b[2;36m \u001b[0m\u001b[34mINFO    \u001b[0m ✓ \u001b[1;36m76.\u001b[0mtxt → Basic\\Gemini\\\u001b[1;36m76.\u001b[0mcc                                          \u001b]8;id=719859;file://C:\\Users\\Tasnim\\AppData\\Local\\Temp\\ipykernel_16732\\1564753407.py\u001b\\\u001b[2m1564753407.py\u001b[0m\u001b]8;;\u001b\\\u001b[2m:\u001b[0m\u001b]8;id=981091;file://C:\\Users\\Tasnim\\AppData\\Local\\Temp\\ipykernel_16732\\1564753407.py#9\u001b\\\u001b[2m9\u001b[0m\u001b]8;;\u001b\\\n"
      ]
     },
     "metadata": {},
     "output_type": "display_data"
    },
    {
     "name": "stderr",
     "output_type": "stream",
     "text": [
      "Generating:  48%|████▊     | 193/400 [2:24:15<2:37:05, 45.53s/it]"
     ]
    },
    {
     "data": {
      "text/html": [
       "<pre style=\"white-space:pre;overflow-x:auto;line-height:normal;font-family:Menlo,'DejaVu Sans Mono',consolas,'Courier New',monospace\"><span style=\"color: #7fbfbf; text-decoration-color: #7fbfbf\">[05/22/25 21:52:15] </span><span style=\"color: #000080; text-decoration-color: #000080\">INFO    </span> ✓ <span style=\"color: #008080; text-decoration-color: #008080; font-weight: bold\">77.</span>txt → Basic\\Gemini\\<span style=\"color: #008080; text-decoration-color: #008080; font-weight: bold\">77.</span>cc                                          <a href=\"file://C:\\Users\\Tasnim\\AppData\\Local\\Temp\\ipykernel_16732\\1564753407.py\" target=\"_blank\"><span style=\"color: #7f7f7f; text-decoration-color: #7f7f7f\">1564753407.py</span></a><span style=\"color: #7f7f7f; text-decoration-color: #7f7f7f\">:</span><a href=\"file://C:\\Users\\Tasnim\\AppData\\Local\\Temp\\ipykernel_16732\\1564753407.py#9\" target=\"_blank\"><span style=\"color: #7f7f7f; text-decoration-color: #7f7f7f\">9</span></a>\n",
       "</pre>\n"
      ],
      "text/plain": [
       "\u001b[2;36m[05/22/25 21:52:15]\u001b[0m\u001b[2;36m \u001b[0m\u001b[34mINFO    \u001b[0m ✓ \u001b[1;36m77.\u001b[0mtxt → Basic\\Gemini\\\u001b[1;36m77.\u001b[0mcc                                          \u001b]8;id=146453;file://C:\\Users\\Tasnim\\AppData\\Local\\Temp\\ipykernel_16732\\1564753407.py\u001b\\\u001b[2m1564753407.py\u001b[0m\u001b]8;;\u001b\\\u001b[2m:\u001b[0m\u001b]8;id=299996;file://C:\\Users\\Tasnim\\AppData\\Local\\Temp\\ipykernel_16732\\1564753407.py#9\u001b\\\u001b[2m9\u001b[0m\u001b]8;;\u001b\\\n"
      ]
     },
     "metadata": {},
     "output_type": "display_data"
    },
    {
     "name": "stderr",
     "output_type": "stream",
     "text": [
      "Generating:  48%|████▊     | 194/400 [2:24:55<2:30:55, 43.96s/it]"
     ]
    },
    {
     "data": {
      "text/html": [
       "<pre style=\"white-space:pre;overflow-x:auto;line-height:normal;font-family:Menlo,'DejaVu Sans Mono',consolas,'Courier New',monospace\"><span style=\"color: #7fbfbf; text-decoration-color: #7fbfbf\">[05/22/25 21:53:09] </span><span style=\"color: #000080; text-decoration-color: #000080\">INFO    </span> ✓ <span style=\"color: #008080; text-decoration-color: #008080; font-weight: bold\">78.</span>txt → Basic\\Gemini\\<span style=\"color: #008080; text-decoration-color: #008080; font-weight: bold\">78.</span>cc                                          <a href=\"file://C:\\Users\\Tasnim\\AppData\\Local\\Temp\\ipykernel_16732\\1564753407.py\" target=\"_blank\"><span style=\"color: #7f7f7f; text-decoration-color: #7f7f7f\">1564753407.py</span></a><span style=\"color: #7f7f7f; text-decoration-color: #7f7f7f\">:</span><a href=\"file://C:\\Users\\Tasnim\\AppData\\Local\\Temp\\ipykernel_16732\\1564753407.py#9\" target=\"_blank\"><span style=\"color: #7f7f7f; text-decoration-color: #7f7f7f\">9</span></a>\n",
       "</pre>\n"
      ],
      "text/plain": [
       "\u001b[2;36m[05/22/25 21:53:09]\u001b[0m\u001b[2;36m \u001b[0m\u001b[34mINFO    \u001b[0m ✓ \u001b[1;36m78.\u001b[0mtxt → Basic\\Gemini\\\u001b[1;36m78.\u001b[0mcc                                          \u001b]8;id=436560;file://C:\\Users\\Tasnim\\AppData\\Local\\Temp\\ipykernel_16732\\1564753407.py\u001b\\\u001b[2m1564753407.py\u001b[0m\u001b]8;;\u001b\\\u001b[2m:\u001b[0m\u001b]8;id=922848;file://C:\\Users\\Tasnim\\AppData\\Local\\Temp\\ipykernel_16732\\1564753407.py#9\u001b\\\u001b[2m9\u001b[0m\u001b]8;;\u001b\\\n"
      ]
     },
     "metadata": {},
     "output_type": "display_data"
    },
    {
     "name": "stderr",
     "output_type": "stream",
     "text": [
      "Generating:  49%|████▉     | 195/400 [2:25:50<2:41:18, 47.21s/it]"
     ]
    },
    {
     "data": {
      "text/html": [
       "<pre style=\"white-space:pre;overflow-x:auto;line-height:normal;font-family:Menlo,'DejaVu Sans Mono',consolas,'Courier New',monospace\"><span style=\"color: #7fbfbf; text-decoration-color: #7fbfbf\">[05/22/25 21:54:09] </span><span style=\"color: #000080; text-decoration-color: #000080\">INFO    </span> ✓ <span style=\"color: #008080; text-decoration-color: #008080; font-weight: bold\">79.</span>txt → Basic\\Gemini\\<span style=\"color: #008080; text-decoration-color: #008080; font-weight: bold\">79.</span>cc                                          <a href=\"file://C:\\Users\\Tasnim\\AppData\\Local\\Temp\\ipykernel_16732\\1564753407.py\" target=\"_blank\"><span style=\"color: #7f7f7f; text-decoration-color: #7f7f7f\">1564753407.py</span></a><span style=\"color: #7f7f7f; text-decoration-color: #7f7f7f\">:</span><a href=\"file://C:\\Users\\Tasnim\\AppData\\Local\\Temp\\ipykernel_16732\\1564753407.py#9\" target=\"_blank\"><span style=\"color: #7f7f7f; text-decoration-color: #7f7f7f\">9</span></a>\n",
       "</pre>\n"
      ],
      "text/plain": [
       "\u001b[2;36m[05/22/25 21:54:09]\u001b[0m\u001b[2;36m \u001b[0m\u001b[34mINFO    \u001b[0m ✓ \u001b[1;36m79.\u001b[0mtxt → Basic\\Gemini\\\u001b[1;36m79.\u001b[0mcc                                          \u001b]8;id=899037;file://C:\\Users\\Tasnim\\AppData\\Local\\Temp\\ipykernel_16732\\1564753407.py\u001b\\\u001b[2m1564753407.py\u001b[0m\u001b]8;;\u001b\\\u001b[2m:\u001b[0m\u001b]8;id=598861;file://C:\\Users\\Tasnim\\AppData\\Local\\Temp\\ipykernel_16732\\1564753407.py#9\u001b\\\u001b[2m9\u001b[0m\u001b]8;;\u001b\\\n"
      ]
     },
     "metadata": {},
     "output_type": "display_data"
    },
    {
     "name": "stderr",
     "output_type": "stream",
     "text": [
      "Generating:  49%|████▉     | 196/400 [2:26:50<2:52:51, 50.84s/it]"
     ]
    },
    {
     "data": {
      "text/html": [
       "<pre style=\"white-space:pre;overflow-x:auto;line-height:normal;font-family:Menlo,'DejaVu Sans Mono',consolas,'Courier New',monospace\"><span style=\"color: #7fbfbf; text-decoration-color: #7fbfbf\">[05/22/25 21:55:02] </span><span style=\"color: #000080; text-decoration-color: #000080\">INFO    </span> ✓ <span style=\"color: #008080; text-decoration-color: #008080; font-weight: bold\">8.</span>txt → Basic\\Gemini\\<span style=\"color: #008080; text-decoration-color: #008080; font-weight: bold\">8.</span>cc                                            <a href=\"file://C:\\Users\\Tasnim\\AppData\\Local\\Temp\\ipykernel_16732\\1564753407.py\" target=\"_blank\"><span style=\"color: #7f7f7f; text-decoration-color: #7f7f7f\">1564753407.py</span></a><span style=\"color: #7f7f7f; text-decoration-color: #7f7f7f\">:</span><a href=\"file://C:\\Users\\Tasnim\\AppData\\Local\\Temp\\ipykernel_16732\\1564753407.py#9\" target=\"_blank\"><span style=\"color: #7f7f7f; text-decoration-color: #7f7f7f\">9</span></a>\n",
       "</pre>\n"
      ],
      "text/plain": [
       "\u001b[2;36m[05/22/25 21:55:02]\u001b[0m\u001b[2;36m \u001b[0m\u001b[34mINFO    \u001b[0m ✓ \u001b[1;36m8.\u001b[0mtxt → Basic\\Gemini\\\u001b[1;36m8.\u001b[0mcc                                            \u001b]8;id=438557;file://C:\\Users\\Tasnim\\AppData\\Local\\Temp\\ipykernel_16732\\1564753407.py\u001b\\\u001b[2m1564753407.py\u001b[0m\u001b]8;;\u001b\\\u001b[2m:\u001b[0m\u001b]8;id=777850;file://C:\\Users\\Tasnim\\AppData\\Local\\Temp\\ipykernel_16732\\1564753407.py#9\u001b\\\u001b[2m9\u001b[0m\u001b]8;;\u001b\\\n"
      ]
     },
     "metadata": {},
     "output_type": "display_data"
    },
    {
     "name": "stderr",
     "output_type": "stream",
     "text": [
      "Generating:  49%|████▉     | 197/400 [2:27:42<2:54:00, 51.43s/it]"
     ]
    },
    {
     "data": {
      "text/html": [
       "<pre style=\"white-space:pre;overflow-x:auto;line-height:normal;font-family:Menlo,'DejaVu Sans Mono',consolas,'Courier New',monospace\"><span style=\"color: #7fbfbf; text-decoration-color: #7fbfbf\">[05/22/25 21:56:06] </span><span style=\"color: #000080; text-decoration-color: #000080\">INFO    </span> ✓ <span style=\"color: #008080; text-decoration-color: #008080; font-weight: bold\">80.</span>txt → Basic\\Gemini\\<span style=\"color: #008080; text-decoration-color: #008080; font-weight: bold\">80.</span>cc                                          <a href=\"file://C:\\Users\\Tasnim\\AppData\\Local\\Temp\\ipykernel_16732\\1564753407.py\" target=\"_blank\"><span style=\"color: #7f7f7f; text-decoration-color: #7f7f7f\">1564753407.py</span></a><span style=\"color: #7f7f7f; text-decoration-color: #7f7f7f\">:</span><a href=\"file://C:\\Users\\Tasnim\\AppData\\Local\\Temp\\ipykernel_16732\\1564753407.py#9\" target=\"_blank\"><span style=\"color: #7f7f7f; text-decoration-color: #7f7f7f\">9</span></a>\n",
       "</pre>\n"
      ],
      "text/plain": [
       "\u001b[2;36m[05/22/25 21:56:06]\u001b[0m\u001b[2;36m \u001b[0m\u001b[34mINFO    \u001b[0m ✓ \u001b[1;36m80.\u001b[0mtxt → Basic\\Gemini\\\u001b[1;36m80.\u001b[0mcc                                          \u001b]8;id=299447;file://C:\\Users\\Tasnim\\AppData\\Local\\Temp\\ipykernel_16732\\1564753407.py\u001b\\\u001b[2m1564753407.py\u001b[0m\u001b]8;;\u001b\\\u001b[2m:\u001b[0m\u001b]8;id=460242;file://C:\\Users\\Tasnim\\AppData\\Local\\Temp\\ipykernel_16732\\1564753407.py#9\u001b\\\u001b[2m9\u001b[0m\u001b]8;;\u001b\\\n"
      ]
     },
     "metadata": {},
     "output_type": "display_data"
    },
    {
     "name": "stderr",
     "output_type": "stream",
     "text": [
      "Generating:  50%|████▉     | 198/400 [2:28:47<3:06:36, 55.43s/it]"
     ]
    },
    {
     "data": {
      "text/html": [
       "<pre style=\"white-space:pre;overflow-x:auto;line-height:normal;font-family:Menlo,'DejaVu Sans Mono',consolas,'Courier New',monospace\"><span style=\"color: #7fbfbf; text-decoration-color: #7fbfbf\">[05/22/25 21:57:08] </span><span style=\"color: #000080; text-decoration-color: #000080\">INFO    </span> ✓ <span style=\"color: #008080; text-decoration-color: #008080; font-weight: bold\">81.</span>txt → Basic\\Gemini\\<span style=\"color: #008080; text-decoration-color: #008080; font-weight: bold\">81.</span>cc                                          <a href=\"file://C:\\Users\\Tasnim\\AppData\\Local\\Temp\\ipykernel_16732\\1564753407.py\" target=\"_blank\"><span style=\"color: #7f7f7f; text-decoration-color: #7f7f7f\">1564753407.py</span></a><span style=\"color: #7f7f7f; text-decoration-color: #7f7f7f\">:</span><a href=\"file://C:\\Users\\Tasnim\\AppData\\Local\\Temp\\ipykernel_16732\\1564753407.py#9\" target=\"_blank\"><span style=\"color: #7f7f7f; text-decoration-color: #7f7f7f\">9</span></a>\n",
       "</pre>\n"
      ],
      "text/plain": [
       "\u001b[2;36m[05/22/25 21:57:08]\u001b[0m\u001b[2;36m \u001b[0m\u001b[34mINFO    \u001b[0m ✓ \u001b[1;36m81.\u001b[0mtxt → Basic\\Gemini\\\u001b[1;36m81.\u001b[0mcc                                          \u001b]8;id=86178;file://C:\\Users\\Tasnim\\AppData\\Local\\Temp\\ipykernel_16732\\1564753407.py\u001b\\\u001b[2m1564753407.py\u001b[0m\u001b]8;;\u001b\\\u001b[2m:\u001b[0m\u001b]8;id=741286;file://C:\\Users\\Tasnim\\AppData\\Local\\Temp\\ipykernel_16732\\1564753407.py#9\u001b\\\u001b[2m9\u001b[0m\u001b]8;;\u001b\\\n"
      ]
     },
     "metadata": {},
     "output_type": "display_data"
    },
    {
     "name": "stderr",
     "output_type": "stream",
     "text": [
      "Generating:  50%|████▉     | 199/400 [2:29:48<3:11:32, 57.18s/it]"
     ]
    },
    {
     "data": {
      "text/html": [
       "<pre style=\"white-space:pre;overflow-x:auto;line-height:normal;font-family:Menlo,'DejaVu Sans Mono',consolas,'Courier New',monospace\"><span style=\"color: #7fbfbf; text-decoration-color: #7fbfbf\">[05/22/25 21:57:35] </span><span style=\"color: #000080; text-decoration-color: #000080\">INFO    </span> ✓ <span style=\"color: #008080; text-decoration-color: #008080; font-weight: bold\">82.</span>txt → Basic\\Gemini\\<span style=\"color: #008080; text-decoration-color: #008080; font-weight: bold\">82.</span>cc                                          <a href=\"file://C:\\Users\\Tasnim\\AppData\\Local\\Temp\\ipykernel_16732\\1564753407.py\" target=\"_blank\"><span style=\"color: #7f7f7f; text-decoration-color: #7f7f7f\">1564753407.py</span></a><span style=\"color: #7f7f7f; text-decoration-color: #7f7f7f\">:</span><a href=\"file://C:\\Users\\Tasnim\\AppData\\Local\\Temp\\ipykernel_16732\\1564753407.py#9\" target=\"_blank\"><span style=\"color: #7f7f7f; text-decoration-color: #7f7f7f\">9</span></a>\n",
       "</pre>\n"
      ],
      "text/plain": [
       "\u001b[2;36m[05/22/25 21:57:35]\u001b[0m\u001b[2;36m \u001b[0m\u001b[34mINFO    \u001b[0m ✓ \u001b[1;36m82.\u001b[0mtxt → Basic\\Gemini\\\u001b[1;36m82.\u001b[0mcc                                          \u001b]8;id=269006;file://C:\\Users\\Tasnim\\AppData\\Local\\Temp\\ipykernel_16732\\1564753407.py\u001b\\\u001b[2m1564753407.py\u001b[0m\u001b]8;;\u001b\\\u001b[2m:\u001b[0m\u001b]8;id=970280;file://C:\\Users\\Tasnim\\AppData\\Local\\Temp\\ipykernel_16732\\1564753407.py#9\u001b\\\u001b[2m9\u001b[0m\u001b]8;;\u001b\\\n"
      ]
     },
     "metadata": {},
     "output_type": "display_data"
    },
    {
     "name": "stderr",
     "output_type": "stream",
     "text": [
      "Generating:  50%|█████     | 200/400 [2:30:16<2:41:05, 48.33s/it]"
     ]
    },
    {
     "data": {
      "text/html": [
       "<pre style=\"white-space:pre;overflow-x:auto;line-height:normal;font-family:Menlo,'DejaVu Sans Mono',consolas,'Courier New',monospace\"><span style=\"color: #7fbfbf; text-decoration-color: #7fbfbf\">[05/22/25 21:58:01] </span><span style=\"color: #000080; text-decoration-color: #000080\">INFO    </span> ✓ <span style=\"color: #008080; text-decoration-color: #008080; font-weight: bold\">83.</span>txt → Basic\\Gemini\\<span style=\"color: #008080; text-decoration-color: #008080; font-weight: bold\">83.</span>cc                                          <a href=\"file://C:\\Users\\Tasnim\\AppData\\Local\\Temp\\ipykernel_16732\\1564753407.py\" target=\"_blank\"><span style=\"color: #7f7f7f; text-decoration-color: #7f7f7f\">1564753407.py</span></a><span style=\"color: #7f7f7f; text-decoration-color: #7f7f7f\">:</span><a href=\"file://C:\\Users\\Tasnim\\AppData\\Local\\Temp\\ipykernel_16732\\1564753407.py#9\" target=\"_blank\"><span style=\"color: #7f7f7f; text-decoration-color: #7f7f7f\">9</span></a>\n",
       "</pre>\n"
      ],
      "text/plain": [
       "\u001b[2;36m[05/22/25 21:58:01]\u001b[0m\u001b[2;36m \u001b[0m\u001b[34mINFO    \u001b[0m ✓ \u001b[1;36m83.\u001b[0mtxt → Basic\\Gemini\\\u001b[1;36m83.\u001b[0mcc                                          \u001b]8;id=85082;file://C:\\Users\\Tasnim\\AppData\\Local\\Temp\\ipykernel_16732\\1564753407.py\u001b\\\u001b[2m1564753407.py\u001b[0m\u001b]8;;\u001b\\\u001b[2m:\u001b[0m\u001b]8;id=816784;file://C:\\Users\\Tasnim\\AppData\\Local\\Temp\\ipykernel_16732\\1564753407.py#9\u001b\\\u001b[2m9\u001b[0m\u001b]8;;\u001b\\\n"
      ]
     },
     "metadata": {},
     "output_type": "display_data"
    },
    {
     "name": "stderr",
     "output_type": "stream",
     "text": [
      "Generating:  50%|█████     | 201/400 [2:30:42<2:17:55, 41.58s/it]"
     ]
    },
    {
     "data": {
      "text/html": [
       "<pre style=\"white-space:pre;overflow-x:auto;line-height:normal;font-family:Menlo,'DejaVu Sans Mono',consolas,'Courier New',monospace\"><span style=\"color: #7fbfbf; text-decoration-color: #7fbfbf\">[05/22/25 21:58:42] </span><span style=\"color: #000080; text-decoration-color: #000080\">INFO    </span> ✓ <span style=\"color: #008080; text-decoration-color: #008080; font-weight: bold\">84.</span>txt → Basic\\Gemini\\<span style=\"color: #008080; text-decoration-color: #008080; font-weight: bold\">84.</span>cc                                          <a href=\"file://C:\\Users\\Tasnim\\AppData\\Local\\Temp\\ipykernel_16732\\1564753407.py\" target=\"_blank\"><span style=\"color: #7f7f7f; text-decoration-color: #7f7f7f\">1564753407.py</span></a><span style=\"color: #7f7f7f; text-decoration-color: #7f7f7f\">:</span><a href=\"file://C:\\Users\\Tasnim\\AppData\\Local\\Temp\\ipykernel_16732\\1564753407.py#9\" target=\"_blank\"><span style=\"color: #7f7f7f; text-decoration-color: #7f7f7f\">9</span></a>\n",
       "</pre>\n"
      ],
      "text/plain": [
       "\u001b[2;36m[05/22/25 21:58:42]\u001b[0m\u001b[2;36m \u001b[0m\u001b[34mINFO    \u001b[0m ✓ \u001b[1;36m84.\u001b[0mtxt → Basic\\Gemini\\\u001b[1;36m84.\u001b[0mcc                                          \u001b]8;id=852385;file://C:\\Users\\Tasnim\\AppData\\Local\\Temp\\ipykernel_16732\\1564753407.py\u001b\\\u001b[2m1564753407.py\u001b[0m\u001b]8;;\u001b\\\u001b[2m:\u001b[0m\u001b]8;id=353976;file://C:\\Users\\Tasnim\\AppData\\Local\\Temp\\ipykernel_16732\\1564753407.py#9\u001b\\\u001b[2m9\u001b[0m\u001b]8;;\u001b\\\n"
      ]
     },
     "metadata": {},
     "output_type": "display_data"
    },
    {
     "name": "stderr",
     "output_type": "stream",
     "text": [
      "Generating:  50%|█████     | 202/400 [2:31:23<2:16:41, 41.42s/it]"
     ]
    },
    {
     "data": {
      "text/html": [
       "<pre style=\"white-space:pre;overflow-x:auto;line-height:normal;font-family:Menlo,'DejaVu Sans Mono',consolas,'Courier New',monospace\"><span style=\"color: #7fbfbf; text-decoration-color: #7fbfbf\">[05/22/25 21:59:36] </span><span style=\"color: #000080; text-decoration-color: #000080\">INFO    </span> ✓ <span style=\"color: #008080; text-decoration-color: #008080; font-weight: bold\">85.</span>txt → Basic\\Gemini\\<span style=\"color: #008080; text-decoration-color: #008080; font-weight: bold\">85.</span>cc                                          <a href=\"file://C:\\Users\\Tasnim\\AppData\\Local\\Temp\\ipykernel_16732\\1564753407.py\" target=\"_blank\"><span style=\"color: #7f7f7f; text-decoration-color: #7f7f7f\">1564753407.py</span></a><span style=\"color: #7f7f7f; text-decoration-color: #7f7f7f\">:</span><a href=\"file://C:\\Users\\Tasnim\\AppData\\Local\\Temp\\ipykernel_16732\\1564753407.py#9\" target=\"_blank\"><span style=\"color: #7f7f7f; text-decoration-color: #7f7f7f\">9</span></a>\n",
       "</pre>\n"
      ],
      "text/plain": [
       "\u001b[2;36m[05/22/25 21:59:36]\u001b[0m\u001b[2;36m \u001b[0m\u001b[34mINFO    \u001b[0m ✓ \u001b[1;36m85.\u001b[0mtxt → Basic\\Gemini\\\u001b[1;36m85.\u001b[0mcc                                          \u001b]8;id=736057;file://C:\\Users\\Tasnim\\AppData\\Local\\Temp\\ipykernel_16732\\1564753407.py\u001b\\\u001b[2m1564753407.py\u001b[0m\u001b]8;;\u001b\\\u001b[2m:\u001b[0m\u001b]8;id=594640;file://C:\\Users\\Tasnim\\AppData\\Local\\Temp\\ipykernel_16732\\1564753407.py#9\u001b\\\u001b[2m9\u001b[0m\u001b]8;;\u001b\\\n"
      ]
     },
     "metadata": {},
     "output_type": "display_data"
    },
    {
     "name": "stderr",
     "output_type": "stream",
     "text": [
      "Generating:  51%|█████     | 203/400 [2:32:17<2:28:04, 45.10s/it]"
     ]
    },
    {
     "data": {
      "text/html": [
       "<pre style=\"white-space:pre;overflow-x:auto;line-height:normal;font-family:Menlo,'DejaVu Sans Mono',consolas,'Courier New',monospace\"><span style=\"color: #7fbfbf; text-decoration-color: #7fbfbf\">[05/22/25 22:00:37] </span><span style=\"color: #000080; text-decoration-color: #000080\">INFO    </span> ✓ <span style=\"color: #008080; text-decoration-color: #008080; font-weight: bold\">86.</span>txt → Basic\\Gemini\\<span style=\"color: #008080; text-decoration-color: #008080; font-weight: bold\">86.</span>cc                                          <a href=\"file://C:\\Users\\Tasnim\\AppData\\Local\\Temp\\ipykernel_16732\\1564753407.py\" target=\"_blank\"><span style=\"color: #7f7f7f; text-decoration-color: #7f7f7f\">1564753407.py</span></a><span style=\"color: #7f7f7f; text-decoration-color: #7f7f7f\">:</span><a href=\"file://C:\\Users\\Tasnim\\AppData\\Local\\Temp\\ipykernel_16732\\1564753407.py#9\" target=\"_blank\"><span style=\"color: #7f7f7f; text-decoration-color: #7f7f7f\">9</span></a>\n",
       "</pre>\n"
      ],
      "text/plain": [
       "\u001b[2;36m[05/22/25 22:00:37]\u001b[0m\u001b[2;36m \u001b[0m\u001b[34mINFO    \u001b[0m ✓ \u001b[1;36m86.\u001b[0mtxt → Basic\\Gemini\\\u001b[1;36m86.\u001b[0mcc                                          \u001b]8;id=423133;file://C:\\Users\\Tasnim\\AppData\\Local\\Temp\\ipykernel_16732\\1564753407.py\u001b\\\u001b[2m1564753407.py\u001b[0m\u001b]8;;\u001b\\\u001b[2m:\u001b[0m\u001b]8;id=504608;file://C:\\Users\\Tasnim\\AppData\\Local\\Temp\\ipykernel_16732\\1564753407.py#9\u001b\\\u001b[2m9\u001b[0m\u001b]8;;\u001b\\\n"
      ]
     },
     "metadata": {},
     "output_type": "display_data"
    },
    {
     "name": "stderr",
     "output_type": "stream",
     "text": [
      "Generating:  51%|█████     | 204/400 [2:33:18<2:43:01, 49.90s/it]"
     ]
    },
    {
     "data": {
      "text/html": [
       "<pre style=\"white-space:pre;overflow-x:auto;line-height:normal;font-family:Menlo,'DejaVu Sans Mono',consolas,'Courier New',monospace\"><span style=\"color: #7fbfbf; text-decoration-color: #7fbfbf\">[05/22/25 22:01:26] </span><span style=\"color: #000080; text-decoration-color: #000080\">INFO    </span> ✓ <span style=\"color: #008080; text-decoration-color: #008080; font-weight: bold\">87.</span>txt → Basic\\Gemini\\<span style=\"color: #008080; text-decoration-color: #008080; font-weight: bold\">87.</span>cc                                          <a href=\"file://C:\\Users\\Tasnim\\AppData\\Local\\Temp\\ipykernel_16732\\1564753407.py\" target=\"_blank\"><span style=\"color: #7f7f7f; text-decoration-color: #7f7f7f\">1564753407.py</span></a><span style=\"color: #7f7f7f; text-decoration-color: #7f7f7f\">:</span><a href=\"file://C:\\Users\\Tasnim\\AppData\\Local\\Temp\\ipykernel_16732\\1564753407.py#9\" target=\"_blank\"><span style=\"color: #7f7f7f; text-decoration-color: #7f7f7f\">9</span></a>\n",
       "</pre>\n"
      ],
      "text/plain": [
       "\u001b[2;36m[05/22/25 22:01:26]\u001b[0m\u001b[2;36m \u001b[0m\u001b[34mINFO    \u001b[0m ✓ \u001b[1;36m87.\u001b[0mtxt → Basic\\Gemini\\\u001b[1;36m87.\u001b[0mcc                                          \u001b]8;id=505385;file://C:\\Users\\Tasnim\\AppData\\Local\\Temp\\ipykernel_16732\\1564753407.py\u001b\\\u001b[2m1564753407.py\u001b[0m\u001b]8;;\u001b\\\u001b[2m:\u001b[0m\u001b]8;id=406576;file://C:\\Users\\Tasnim\\AppData\\Local\\Temp\\ipykernel_16732\\1564753407.py#9\u001b\\\u001b[2m9\u001b[0m\u001b]8;;\u001b\\\n"
      ]
     },
     "metadata": {},
     "output_type": "display_data"
    },
    {
     "name": "stderr",
     "output_type": "stream",
     "text": [
      "Generating:  51%|█████▏    | 205/400 [2:34:07<2:41:25, 49.67s/it]"
     ]
    },
    {
     "data": {
      "text/html": [
       "<pre style=\"white-space:pre;overflow-x:auto;line-height:normal;font-family:Menlo,'DejaVu Sans Mono',consolas,'Courier New',monospace\"><span style=\"color: #7fbfbf; text-decoration-color: #7fbfbf\">[05/22/25 22:02:07] </span><span style=\"color: #000080; text-decoration-color: #000080\">INFO    </span> ✓ <span style=\"color: #008080; text-decoration-color: #008080; font-weight: bold\">88.</span>txt → Basic\\Gemini\\<span style=\"color: #008080; text-decoration-color: #008080; font-weight: bold\">88.</span>cc                                          <a href=\"file://C:\\Users\\Tasnim\\AppData\\Local\\Temp\\ipykernel_16732\\1564753407.py\" target=\"_blank\"><span style=\"color: #7f7f7f; text-decoration-color: #7f7f7f\">1564753407.py</span></a><span style=\"color: #7f7f7f; text-decoration-color: #7f7f7f\">:</span><a href=\"file://C:\\Users\\Tasnim\\AppData\\Local\\Temp\\ipykernel_16732\\1564753407.py#9\" target=\"_blank\"><span style=\"color: #7f7f7f; text-decoration-color: #7f7f7f\">9</span></a>\n",
       "</pre>\n"
      ],
      "text/plain": [
       "\u001b[2;36m[05/22/25 22:02:07]\u001b[0m\u001b[2;36m \u001b[0m\u001b[34mINFO    \u001b[0m ✓ \u001b[1;36m88.\u001b[0mtxt → Basic\\Gemini\\\u001b[1;36m88.\u001b[0mcc                                          \u001b]8;id=48645;file://C:\\Users\\Tasnim\\AppData\\Local\\Temp\\ipykernel_16732\\1564753407.py\u001b\\\u001b[2m1564753407.py\u001b[0m\u001b]8;;\u001b\\\u001b[2m:\u001b[0m\u001b]8;id=722638;file://C:\\Users\\Tasnim\\AppData\\Local\\Temp\\ipykernel_16732\\1564753407.py#9\u001b\\\u001b[2m9\u001b[0m\u001b]8;;\u001b\\\n"
      ]
     },
     "metadata": {},
     "output_type": "display_data"
    },
    {
     "name": "stderr",
     "output_type": "stream",
     "text": [
      "Generating:  52%|█████▏    | 206/400 [2:34:48<2:31:50, 46.96s/it]"
     ]
    },
    {
     "data": {
      "text/html": [
       "<pre style=\"white-space:pre;overflow-x:auto;line-height:normal;font-family:Menlo,'DejaVu Sans Mono',consolas,'Courier New',monospace\"><span style=\"color: #7fbfbf; text-decoration-color: #7fbfbf\">[05/22/25 22:02:56] </span><span style=\"color: #000080; text-decoration-color: #000080\">INFO    </span> ✓ <span style=\"color: #008080; text-decoration-color: #008080; font-weight: bold\">89.</span>txt → Basic\\Gemini\\<span style=\"color: #008080; text-decoration-color: #008080; font-weight: bold\">89.</span>cc                                          <a href=\"file://C:\\Users\\Tasnim\\AppData\\Local\\Temp\\ipykernel_16732\\1564753407.py\" target=\"_blank\"><span style=\"color: #7f7f7f; text-decoration-color: #7f7f7f\">1564753407.py</span></a><span style=\"color: #7f7f7f; text-decoration-color: #7f7f7f\">:</span><a href=\"file://C:\\Users\\Tasnim\\AppData\\Local\\Temp\\ipykernel_16732\\1564753407.py#9\" target=\"_blank\"><span style=\"color: #7f7f7f; text-decoration-color: #7f7f7f\">9</span></a>\n",
       "</pre>\n"
      ],
      "text/plain": [
       "\u001b[2;36m[05/22/25 22:02:56]\u001b[0m\u001b[2;36m \u001b[0m\u001b[34mINFO    \u001b[0m ✓ \u001b[1;36m89.\u001b[0mtxt → Basic\\Gemini\\\u001b[1;36m89.\u001b[0mcc                                          \u001b]8;id=655348;file://C:\\Users\\Tasnim\\AppData\\Local\\Temp\\ipykernel_16732\\1564753407.py\u001b\\\u001b[2m1564753407.py\u001b[0m\u001b]8;;\u001b\\\u001b[2m:\u001b[0m\u001b]8;id=49524;file://C:\\Users\\Tasnim\\AppData\\Local\\Temp\\ipykernel_16732\\1564753407.py#9\u001b\\\u001b[2m9\u001b[0m\u001b]8;;\u001b\\\n"
      ]
     },
     "metadata": {},
     "output_type": "display_data"
    },
    {
     "name": "stderr",
     "output_type": "stream",
     "text": [
      "Generating:  52%|█████▏    | 207/400 [2:35:37<2:33:14, 47.64s/it]"
     ]
    },
    {
     "data": {
      "text/html": [
       "<pre style=\"white-space:pre;overflow-x:auto;line-height:normal;font-family:Menlo,'DejaVu Sans Mono',consolas,'Courier New',monospace\"><span style=\"color: #7fbfbf; text-decoration-color: #7fbfbf\">[05/22/25 22:03:31] </span><span style=\"color: #000080; text-decoration-color: #000080\">INFO    </span> ✓ <span style=\"color: #008080; text-decoration-color: #008080; font-weight: bold\">9.</span>txt → Basic\\Gemini\\<span style=\"color: #008080; text-decoration-color: #008080; font-weight: bold\">9.</span>cc                                            <a href=\"file://C:\\Users\\Tasnim\\AppData\\Local\\Temp\\ipykernel_16732\\1564753407.py\" target=\"_blank\"><span style=\"color: #7f7f7f; text-decoration-color: #7f7f7f\">1564753407.py</span></a><span style=\"color: #7f7f7f; text-decoration-color: #7f7f7f\">:</span><a href=\"file://C:\\Users\\Tasnim\\AppData\\Local\\Temp\\ipykernel_16732\\1564753407.py#9\" target=\"_blank\"><span style=\"color: #7f7f7f; text-decoration-color: #7f7f7f\">9</span></a>\n",
       "</pre>\n"
      ],
      "text/plain": [
       "\u001b[2;36m[05/22/25 22:03:31]\u001b[0m\u001b[2;36m \u001b[0m\u001b[34mINFO    \u001b[0m ✓ \u001b[1;36m9.\u001b[0mtxt → Basic\\Gemini\\\u001b[1;36m9.\u001b[0mcc                                            \u001b]8;id=856855;file://C:\\Users\\Tasnim\\AppData\\Local\\Temp\\ipykernel_16732\\1564753407.py\u001b\\\u001b[2m1564753407.py\u001b[0m\u001b]8;;\u001b\\\u001b[2m:\u001b[0m\u001b]8;id=464195;file://C:\\Users\\Tasnim\\AppData\\Local\\Temp\\ipykernel_16732\\1564753407.py#9\u001b\\\u001b[2m9\u001b[0m\u001b]8;;\u001b\\\n"
      ]
     },
     "metadata": {},
     "output_type": "display_data"
    },
    {
     "name": "stderr",
     "output_type": "stream",
     "text": [
      "Generating:  52%|█████▏    | 208/400 [2:36:12<2:20:11, 43.81s/it]"
     ]
    },
    {
     "data": {
      "text/html": [
       "<pre style=\"white-space:pre;overflow-x:auto;line-height:normal;font-family:Menlo,'DejaVu Sans Mono',consolas,'Courier New',monospace\"><span style=\"color: #7fbfbf; text-decoration-color: #7fbfbf\">[05/22/25 22:04:16] </span><span style=\"color: #000080; text-decoration-color: #000080\">INFO    </span> ✓ <span style=\"color: #008080; text-decoration-color: #008080; font-weight: bold\">90.</span>txt → Basic\\Gemini\\<span style=\"color: #008080; text-decoration-color: #008080; font-weight: bold\">90.</span>cc                                          <a href=\"file://C:\\Users\\Tasnim\\AppData\\Local\\Temp\\ipykernel_16732\\1564753407.py\" target=\"_blank\"><span style=\"color: #7f7f7f; text-decoration-color: #7f7f7f\">1564753407.py</span></a><span style=\"color: #7f7f7f; text-decoration-color: #7f7f7f\">:</span><a href=\"file://C:\\Users\\Tasnim\\AppData\\Local\\Temp\\ipykernel_16732\\1564753407.py#9\" target=\"_blank\"><span style=\"color: #7f7f7f; text-decoration-color: #7f7f7f\">9</span></a>\n",
       "</pre>\n"
      ],
      "text/plain": [
       "\u001b[2;36m[05/22/25 22:04:16]\u001b[0m\u001b[2;36m \u001b[0m\u001b[34mINFO    \u001b[0m ✓ \u001b[1;36m90.\u001b[0mtxt → Basic\\Gemini\\\u001b[1;36m90.\u001b[0mcc                                          \u001b]8;id=756330;file://C:\\Users\\Tasnim\\AppData\\Local\\Temp\\ipykernel_16732\\1564753407.py\u001b\\\u001b[2m1564753407.py\u001b[0m\u001b]8;;\u001b\\\u001b[2m:\u001b[0m\u001b]8;id=53781;file://C:\\Users\\Tasnim\\AppData\\Local\\Temp\\ipykernel_16732\\1564753407.py#9\u001b\\\u001b[2m9\u001b[0m\u001b]8;;\u001b\\\n"
      ]
     },
     "metadata": {},
     "output_type": "display_data"
    },
    {
     "name": "stderr",
     "output_type": "stream",
     "text": [
      "Generating:  52%|█████▏    | 209/400 [2:36:56<2:20:22, 44.10s/it]"
     ]
    },
    {
     "data": {
      "text/html": [
       "<pre style=\"white-space:pre;overflow-x:auto;line-height:normal;font-family:Menlo,'DejaVu Sans Mono',consolas,'Courier New',monospace\"><span style=\"color: #7fbfbf; text-decoration-color: #7fbfbf\">[05/22/25 22:06:12] </span><span style=\"color: #000080; text-decoration-color: #000080\">INFO    </span> ✓ <span style=\"color: #008080; text-decoration-color: #008080; font-weight: bold\">91.</span>txt → Basic\\Gemini\\<span style=\"color: #008080; text-decoration-color: #008080; font-weight: bold\">91.</span>cc                                          <a href=\"file://C:\\Users\\Tasnim\\AppData\\Local\\Temp\\ipykernel_16732\\1564753407.py\" target=\"_blank\"><span style=\"color: #7f7f7f; text-decoration-color: #7f7f7f\">1564753407.py</span></a><span style=\"color: #7f7f7f; text-decoration-color: #7f7f7f\">:</span><a href=\"file://C:\\Users\\Tasnim\\AppData\\Local\\Temp\\ipykernel_16732\\1564753407.py#9\" target=\"_blank\"><span style=\"color: #7f7f7f; text-decoration-color: #7f7f7f\">9</span></a>\n",
       "</pre>\n"
      ],
      "text/plain": [
       "\u001b[2;36m[05/22/25 22:06:12]\u001b[0m\u001b[2;36m \u001b[0m\u001b[34mINFO    \u001b[0m ✓ \u001b[1;36m91.\u001b[0mtxt → Basic\\Gemini\\\u001b[1;36m91.\u001b[0mcc                                          \u001b]8;id=120989;file://C:\\Users\\Tasnim\\AppData\\Local\\Temp\\ipykernel_16732\\1564753407.py\u001b\\\u001b[2m1564753407.py\u001b[0m\u001b]8;;\u001b\\\u001b[2m:\u001b[0m\u001b]8;id=539775;file://C:\\Users\\Tasnim\\AppData\\Local\\Temp\\ipykernel_16732\\1564753407.py#9\u001b\\\u001b[2m9\u001b[0m\u001b]8;;\u001b\\\n"
      ]
     },
     "metadata": {},
     "output_type": "display_data"
    },
    {
     "name": "stderr",
     "output_type": "stream",
     "text": [
      "Generating:  52%|█████▎    | 210/400 [2:38:53<3:28:24, 65.81s/it]"
     ]
    },
    {
     "data": {
      "text/html": [
       "<pre style=\"white-space:pre;overflow-x:auto;line-height:normal;font-family:Menlo,'DejaVu Sans Mono',consolas,'Courier New',monospace\"><span style=\"color: #7fbfbf; text-decoration-color: #7fbfbf\">[05/22/25 22:07:55] </span><span style=\"color: #000080; text-decoration-color: #000080\">INFO    </span> ✓ <span style=\"color: #008080; text-decoration-color: #008080; font-weight: bold\">92.</span>txt → Basic\\Gemini\\<span style=\"color: #008080; text-decoration-color: #008080; font-weight: bold\">92.</span>cc                                          <a href=\"file://C:\\Users\\Tasnim\\AppData\\Local\\Temp\\ipykernel_16732\\1564753407.py\" target=\"_blank\"><span style=\"color: #7f7f7f; text-decoration-color: #7f7f7f\">1564753407.py</span></a><span style=\"color: #7f7f7f; text-decoration-color: #7f7f7f\">:</span><a href=\"file://C:\\Users\\Tasnim\\AppData\\Local\\Temp\\ipykernel_16732\\1564753407.py#9\" target=\"_blank\"><span style=\"color: #7f7f7f; text-decoration-color: #7f7f7f\">9</span></a>\n",
       "</pre>\n"
      ],
      "text/plain": [
       "\u001b[2;36m[05/22/25 22:07:55]\u001b[0m\u001b[2;36m \u001b[0m\u001b[34mINFO    \u001b[0m ✓ \u001b[1;36m92.\u001b[0mtxt → Basic\\Gemini\\\u001b[1;36m92.\u001b[0mcc                                          \u001b]8;id=212456;file://C:\\Users\\Tasnim\\AppData\\Local\\Temp\\ipykernel_16732\\1564753407.py\u001b\\\u001b[2m1564753407.py\u001b[0m\u001b]8;;\u001b\\\u001b[2m:\u001b[0m\u001b]8;id=700677;file://C:\\Users\\Tasnim\\AppData\\Local\\Temp\\ipykernel_16732\\1564753407.py#9\u001b\\\u001b[2m9\u001b[0m\u001b]8;;\u001b\\\n"
      ]
     },
     "metadata": {},
     "output_type": "display_data"
    },
    {
     "name": "stderr",
     "output_type": "stream",
     "text": [
      "Generating:  53%|█████▎    | 211/400 [2:40:36<4:02:30, 76.99s/it]"
     ]
    },
    {
     "data": {
      "text/html": [
       "<pre style=\"white-space:pre;overflow-x:auto;line-height:normal;font-family:Menlo,'DejaVu Sans Mono',consolas,'Courier New',monospace\"><span style=\"color: #7fbfbf; text-decoration-color: #7fbfbf\">[05/22/25 22:08:48] </span><span style=\"color: #000080; text-decoration-color: #000080\">INFO    </span> ✓ <span style=\"color: #008080; text-decoration-color: #008080; font-weight: bold\">93.</span>txt → Basic\\Gemini\\<span style=\"color: #008080; text-decoration-color: #008080; font-weight: bold\">93.</span>cc                                          <a href=\"file://C:\\Users\\Tasnim\\AppData\\Local\\Temp\\ipykernel_16732\\1564753407.py\" target=\"_blank\"><span style=\"color: #7f7f7f; text-decoration-color: #7f7f7f\">1564753407.py</span></a><span style=\"color: #7f7f7f; text-decoration-color: #7f7f7f\">:</span><a href=\"file://C:\\Users\\Tasnim\\AppData\\Local\\Temp\\ipykernel_16732\\1564753407.py#9\" target=\"_blank\"><span style=\"color: #7f7f7f; text-decoration-color: #7f7f7f\">9</span></a>\n",
       "</pre>\n"
      ],
      "text/plain": [
       "\u001b[2;36m[05/22/25 22:08:48]\u001b[0m\u001b[2;36m \u001b[0m\u001b[34mINFO    \u001b[0m ✓ \u001b[1;36m93.\u001b[0mtxt → Basic\\Gemini\\\u001b[1;36m93.\u001b[0mcc                                          \u001b]8;id=121181;file://C:\\Users\\Tasnim\\AppData\\Local\\Temp\\ipykernel_16732\\1564753407.py\u001b\\\u001b[2m1564753407.py\u001b[0m\u001b]8;;\u001b\\\u001b[2m:\u001b[0m\u001b]8;id=317191;file://C:\\Users\\Tasnim\\AppData\\Local\\Temp\\ipykernel_16732\\1564753407.py#9\u001b\\\u001b[2m9\u001b[0m\u001b]8;;\u001b\\\n"
      ]
     },
     "metadata": {},
     "output_type": "display_data"
    },
    {
     "name": "stderr",
     "output_type": "stream",
     "text": [
      "Generating:  53%|█████▎    | 212/400 [2:41:29<3:38:18, 69.67s/it]"
     ]
    },
    {
     "data": {
      "text/html": [
       "<pre style=\"white-space:pre;overflow-x:auto;line-height:normal;font-family:Menlo,'DejaVu Sans Mono',consolas,'Courier New',monospace\"><span style=\"color: #7fbfbf; text-decoration-color: #7fbfbf\">[05/22/25 22:09:30] </span><span style=\"color: #000080; text-decoration-color: #000080\">INFO    </span> ✓ <span style=\"color: #008080; text-decoration-color: #008080; font-weight: bold\">94.</span>txt → Basic\\Gemini\\<span style=\"color: #008080; text-decoration-color: #008080; font-weight: bold\">94.</span>cc                                          <a href=\"file://C:\\Users\\Tasnim\\AppData\\Local\\Temp\\ipykernel_16732\\1564753407.py\" target=\"_blank\"><span style=\"color: #7f7f7f; text-decoration-color: #7f7f7f\">1564753407.py</span></a><span style=\"color: #7f7f7f; text-decoration-color: #7f7f7f\">:</span><a href=\"file://C:\\Users\\Tasnim\\AppData\\Local\\Temp\\ipykernel_16732\\1564753407.py#9\" target=\"_blank\"><span style=\"color: #7f7f7f; text-decoration-color: #7f7f7f\">9</span></a>\n",
       "</pre>\n"
      ],
      "text/plain": [
       "\u001b[2;36m[05/22/25 22:09:30]\u001b[0m\u001b[2;36m \u001b[0m\u001b[34mINFO    \u001b[0m ✓ \u001b[1;36m94.\u001b[0mtxt → Basic\\Gemini\\\u001b[1;36m94.\u001b[0mcc                                          \u001b]8;id=581914;file://C:\\Users\\Tasnim\\AppData\\Local\\Temp\\ipykernel_16732\\1564753407.py\u001b\\\u001b[2m1564753407.py\u001b[0m\u001b]8;;\u001b\\\u001b[2m:\u001b[0m\u001b]8;id=917446;file://C:\\Users\\Tasnim\\AppData\\Local\\Temp\\ipykernel_16732\\1564753407.py#9\u001b\\\u001b[2m9\u001b[0m\u001b]8;;\u001b\\\n"
      ]
     },
     "metadata": {},
     "output_type": "display_data"
    },
    {
     "name": "stderr",
     "output_type": "stream",
     "text": [
      "Generating:  53%|█████▎    | 213/400 [2:42:11<3:11:59, 61.60s/it]"
     ]
    },
    {
     "data": {
      "text/html": [
       "<pre style=\"white-space:pre;overflow-x:auto;line-height:normal;font-family:Menlo,'DejaVu Sans Mono',consolas,'Courier New',monospace\"><span style=\"color: #7fbfbf; text-decoration-color: #7fbfbf\">[05/22/25 22:10:09] </span><span style=\"color: #000080; text-decoration-color: #000080\">INFO    </span> ✓ <span style=\"color: #008080; text-decoration-color: #008080; font-weight: bold\">95.</span>txt → Basic\\Gemini\\<span style=\"color: #008080; text-decoration-color: #008080; font-weight: bold\">95.</span>cc                                          <a href=\"file://C:\\Users\\Tasnim\\AppData\\Local\\Temp\\ipykernel_16732\\1564753407.py\" target=\"_blank\"><span style=\"color: #7f7f7f; text-decoration-color: #7f7f7f\">1564753407.py</span></a><span style=\"color: #7f7f7f; text-decoration-color: #7f7f7f\">:</span><a href=\"file://C:\\Users\\Tasnim\\AppData\\Local\\Temp\\ipykernel_16732\\1564753407.py#9\" target=\"_blank\"><span style=\"color: #7f7f7f; text-decoration-color: #7f7f7f\">9</span></a>\n",
       "</pre>\n"
      ],
      "text/plain": [
       "\u001b[2;36m[05/22/25 22:10:09]\u001b[0m\u001b[2;36m \u001b[0m\u001b[34mINFO    \u001b[0m ✓ \u001b[1;36m95.\u001b[0mtxt → Basic\\Gemini\\\u001b[1;36m95.\u001b[0mcc                                          \u001b]8;id=460712;file://C:\\Users\\Tasnim\\AppData\\Local\\Temp\\ipykernel_16732\\1564753407.py\u001b\\\u001b[2m1564753407.py\u001b[0m\u001b]8;;\u001b\\\u001b[2m:\u001b[0m\u001b]8;id=760796;file://C:\\Users\\Tasnim\\AppData\\Local\\Temp\\ipykernel_16732\\1564753407.py#9\u001b\\\u001b[2m9\u001b[0m\u001b]8;;\u001b\\\n"
      ]
     },
     "metadata": {},
     "output_type": "display_data"
    },
    {
     "name": "stderr",
     "output_type": "stream",
     "text": [
      "Generating:  54%|█████▎    | 214/400 [2:42:50<2:49:13, 54.59s/it]"
     ]
    },
    {
     "data": {
      "text/html": [
       "<pre style=\"white-space:pre;overflow-x:auto;line-height:normal;font-family:Menlo,'DejaVu Sans Mono',consolas,'Courier New',monospace\"><span style=\"color: #7fbfbf; text-decoration-color: #7fbfbf\">[05/22/25 22:10:32] </span><span style=\"color: #000080; text-decoration-color: #000080\">INFO    </span> ✓ <span style=\"color: #008080; text-decoration-color: #008080; font-weight: bold\">96.</span>txt → Basic\\Gemini\\<span style=\"color: #008080; text-decoration-color: #008080; font-weight: bold\">96.</span>cc                                          <a href=\"file://C:\\Users\\Tasnim\\AppData\\Local\\Temp\\ipykernel_16732\\1564753407.py\" target=\"_blank\"><span style=\"color: #7f7f7f; text-decoration-color: #7f7f7f\">1564753407.py</span></a><span style=\"color: #7f7f7f; text-decoration-color: #7f7f7f\">:</span><a href=\"file://C:\\Users\\Tasnim\\AppData\\Local\\Temp\\ipykernel_16732\\1564753407.py#9\" target=\"_blank\"><span style=\"color: #7f7f7f; text-decoration-color: #7f7f7f\">9</span></a>\n",
       "</pre>\n"
      ],
      "text/plain": [
       "\u001b[2;36m[05/22/25 22:10:32]\u001b[0m\u001b[2;36m \u001b[0m\u001b[34mINFO    \u001b[0m ✓ \u001b[1;36m96.\u001b[0mtxt → Basic\\Gemini\\\u001b[1;36m96.\u001b[0mcc                                          \u001b]8;id=573924;file://C:\\Users\\Tasnim\\AppData\\Local\\Temp\\ipykernel_16732\\1564753407.py\u001b\\\u001b[2m1564753407.py\u001b[0m\u001b]8;;\u001b\\\u001b[2m:\u001b[0m\u001b]8;id=872539;file://C:\\Users\\Tasnim\\AppData\\Local\\Temp\\ipykernel_16732\\1564753407.py#9\u001b\\\u001b[2m9\u001b[0m\u001b]8;;\u001b\\\n"
      ]
     },
     "metadata": {},
     "output_type": "display_data"
    },
    {
     "name": "stderr",
     "output_type": "stream",
     "text": [
      "Generating:  54%|█████▍    | 215/400 [2:43:13<2:19:09, 45.13s/it]"
     ]
    },
    {
     "data": {
      "text/html": [
       "<pre style=\"white-space:pre;overflow-x:auto;line-height:normal;font-family:Menlo,'DejaVu Sans Mono',consolas,'Courier New',monospace\"><span style=\"color: #7fbfbf; text-decoration-color: #7fbfbf\">[05/22/25 22:11:08] </span><span style=\"color: #000080; text-decoration-color: #000080\">INFO    </span> ✓ <span style=\"color: #008080; text-decoration-color: #008080; font-weight: bold\">97.</span>txt → Basic\\Gemini\\<span style=\"color: #008080; text-decoration-color: #008080; font-weight: bold\">97.</span>cc                                          <a href=\"file://C:\\Users\\Tasnim\\AppData\\Local\\Temp\\ipykernel_16732\\1564753407.py\" target=\"_blank\"><span style=\"color: #7f7f7f; text-decoration-color: #7f7f7f\">1564753407.py</span></a><span style=\"color: #7f7f7f; text-decoration-color: #7f7f7f\">:</span><a href=\"file://C:\\Users\\Tasnim\\AppData\\Local\\Temp\\ipykernel_16732\\1564753407.py#9\" target=\"_blank\"><span style=\"color: #7f7f7f; text-decoration-color: #7f7f7f\">9</span></a>\n",
       "</pre>\n"
      ],
      "text/plain": [
       "\u001b[2;36m[05/22/25 22:11:08]\u001b[0m\u001b[2;36m \u001b[0m\u001b[34mINFO    \u001b[0m ✓ \u001b[1;36m97.\u001b[0mtxt → Basic\\Gemini\\\u001b[1;36m97.\u001b[0mcc                                          \u001b]8;id=627408;file://C:\\Users\\Tasnim\\AppData\\Local\\Temp\\ipykernel_16732\\1564753407.py\u001b\\\u001b[2m1564753407.py\u001b[0m\u001b]8;;\u001b\\\u001b[2m:\u001b[0m\u001b]8;id=107655;file://C:\\Users\\Tasnim\\AppData\\Local\\Temp\\ipykernel_16732\\1564753407.py#9\u001b\\\u001b[2m9\u001b[0m\u001b]8;;\u001b\\\n"
      ]
     },
     "metadata": {},
     "output_type": "display_data"
    },
    {
     "name": "stderr",
     "output_type": "stream",
     "text": [
      "Generating:  54%|█████▍    | 216/400 [2:43:49<2:10:33, 42.57s/it]"
     ]
    },
    {
     "data": {
      "text/html": [
       "<pre style=\"white-space:pre;overflow-x:auto;line-height:normal;font-family:Menlo,'DejaVu Sans Mono',consolas,'Courier New',monospace\"><span style=\"color: #7fbfbf; text-decoration-color: #7fbfbf\">[05/22/25 22:11:54] </span><span style=\"color: #000080; text-decoration-color: #000080\">INFO    </span> ✓ <span style=\"color: #008080; text-decoration-color: #008080; font-weight: bold\">98.</span>txt → Basic\\Gemini\\<span style=\"color: #008080; text-decoration-color: #008080; font-weight: bold\">98.</span>cc                                          <a href=\"file://C:\\Users\\Tasnim\\AppData\\Local\\Temp\\ipykernel_16732\\1564753407.py\" target=\"_blank\"><span style=\"color: #7f7f7f; text-decoration-color: #7f7f7f\">1564753407.py</span></a><span style=\"color: #7f7f7f; text-decoration-color: #7f7f7f\">:</span><a href=\"file://C:\\Users\\Tasnim\\AppData\\Local\\Temp\\ipykernel_16732\\1564753407.py#9\" target=\"_blank\"><span style=\"color: #7f7f7f; text-decoration-color: #7f7f7f\">9</span></a>\n",
       "</pre>\n"
      ],
      "text/plain": [
       "\u001b[2;36m[05/22/25 22:11:54]\u001b[0m\u001b[2;36m \u001b[0m\u001b[34mINFO    \u001b[0m ✓ \u001b[1;36m98.\u001b[0mtxt → Basic\\Gemini\\\u001b[1;36m98.\u001b[0mcc                                          \u001b]8;id=994132;file://C:\\Users\\Tasnim\\AppData\\Local\\Temp\\ipykernel_16732\\1564753407.py\u001b\\\u001b[2m1564753407.py\u001b[0m\u001b]8;;\u001b\\\u001b[2m:\u001b[0m\u001b]8;id=427205;file://C:\\Users\\Tasnim\\AppData\\Local\\Temp\\ipykernel_16732\\1564753407.py#9\u001b\\\u001b[2m9\u001b[0m\u001b]8;;\u001b\\\n"
      ]
     },
     "metadata": {},
     "output_type": "display_data"
    },
    {
     "name": "stderr",
     "output_type": "stream",
     "text": [
      "Generating:  54%|█████▍    | 217/400 [2:44:35<2:12:55, 43.58s/it]"
     ]
    },
    {
     "data": {
      "text/html": [
       "<pre style=\"white-space:pre;overflow-x:auto;line-height:normal;font-family:Menlo,'DejaVu Sans Mono',consolas,'Courier New',monospace\"><span style=\"color: #7fbfbf; text-decoration-color: #7fbfbf\">[05/22/25 22:12:50] </span><span style=\"color: #000080; text-decoration-color: #000080\">INFO    </span> ✓ <span style=\"color: #008080; text-decoration-color: #008080; font-weight: bold\">99.</span>txt → Basic\\Gemini\\<span style=\"color: #008080; text-decoration-color: #008080; font-weight: bold\">99.</span>cc                                          <a href=\"file://C:\\Users\\Tasnim\\AppData\\Local\\Temp\\ipykernel_16732\\1564753407.py\" target=\"_blank\"><span style=\"color: #7f7f7f; text-decoration-color: #7f7f7f\">1564753407.py</span></a><span style=\"color: #7f7f7f; text-decoration-color: #7f7f7f\">:</span><a href=\"file://C:\\Users\\Tasnim\\AppData\\Local\\Temp\\ipykernel_16732\\1564753407.py#9\" target=\"_blank\"><span style=\"color: #7f7f7f; text-decoration-color: #7f7f7f\">9</span></a>\n",
       "</pre>\n"
      ],
      "text/plain": [
       "\u001b[2;36m[05/22/25 22:12:50]\u001b[0m\u001b[2;36m \u001b[0m\u001b[34mINFO    \u001b[0m ✓ \u001b[1;36m99.\u001b[0mtxt → Basic\\Gemini\\\u001b[1;36m99.\u001b[0mcc                                          \u001b]8;id=919913;file://C:\\Users\\Tasnim\\AppData\\Local\\Temp\\ipykernel_16732\\1564753407.py\u001b\\\u001b[2m1564753407.py\u001b[0m\u001b]8;;\u001b\\\u001b[2m:\u001b[0m\u001b]8;id=117360;file://C:\\Users\\Tasnim\\AppData\\Local\\Temp\\ipykernel_16732\\1564753407.py#9\u001b\\\u001b[2m9\u001b[0m\u001b]8;;\u001b\\\n"
      ]
     },
     "metadata": {},
     "output_type": "display_data"
    },
    {
     "name": "stderr",
     "output_type": "stream",
     "text": [
      "Generating:  55%|█████▍    | 218/400 [2:45:31<2:23:32, 47.32s/it]"
     ]
    },
    {
     "data": {
      "text/html": [
       "<pre style=\"white-space:pre;overflow-x:auto;line-height:normal;font-family:Menlo,'DejaVu Sans Mono',consolas,'Courier New',monospace\"><span style=\"color: #7fbfbf; text-decoration-color: #7fbfbf\">[05/22/25 22:13:11] </span><span style=\"color: #000080; text-decoration-color: #000080\">INFO    </span> ✓ <span style=\"color: #008080; text-decoration-color: #008080; font-weight: bold\">219.</span>txt → Basic\\Gemini\\<span style=\"color: #008080; text-decoration-color: #008080; font-weight: bold\">219.</span>cc                                        <a href=\"file://C:\\Users\\Tasnim\\AppData\\Local\\Temp\\ipykernel_16732\\1564753407.py\" target=\"_blank\"><span style=\"color: #7f7f7f; text-decoration-color: #7f7f7f\">1564753407.py</span></a><span style=\"color: #7f7f7f; text-decoration-color: #7f7f7f\">:</span><a href=\"file://C:\\Users\\Tasnim\\AppData\\Local\\Temp\\ipykernel_16732\\1564753407.py#9\" target=\"_blank\"><span style=\"color: #7f7f7f; text-decoration-color: #7f7f7f\">9</span></a>\n",
       "</pre>\n"
      ],
      "text/plain": [
       "\u001b[2;36m[05/22/25 22:13:11]\u001b[0m\u001b[2;36m \u001b[0m\u001b[34mINFO    \u001b[0m ✓ \u001b[1;36m219.\u001b[0mtxt → Basic\\Gemini\\\u001b[1;36m219.\u001b[0mcc                                        \u001b]8;id=548210;file://C:\\Users\\Tasnim\\AppData\\Local\\Temp\\ipykernel_16732\\1564753407.py\u001b\\\u001b[2m1564753407.py\u001b[0m\u001b]8;;\u001b\\\u001b[2m:\u001b[0m\u001b]8;id=418871;file://C:\\Users\\Tasnim\\AppData\\Local\\Temp\\ipykernel_16732\\1564753407.py#9\u001b\\\u001b[2m9\u001b[0m\u001b]8;;\u001b\\\n"
      ]
     },
     "metadata": {},
     "output_type": "display_data"
    },
    {
     "name": "stderr",
     "output_type": "stream",
     "text": [
      "Generating:  55%|█████▍    | 219/400 [2:45:52<1:58:34, 39.31s/it]"
     ]
    },
    {
     "data": {
      "text/html": [
       "<pre style=\"white-space:pre;overflow-x:auto;line-height:normal;font-family:Menlo,'DejaVu Sans Mono',consolas,'Courier New',monospace\"><span style=\"color: #7fbfbf; text-decoration-color: #7fbfbf\">[05/22/25 22:13:39] </span><span style=\"color: #000080; text-decoration-color: #000080\">INFO    </span> ✓ <span style=\"color: #008080; text-decoration-color: #008080; font-weight: bold\">220.</span>txt → Basic\\Gemini\\<span style=\"color: #008080; text-decoration-color: #008080; font-weight: bold\">220.</span>cc                                        <a href=\"file://C:\\Users\\Tasnim\\AppData\\Local\\Temp\\ipykernel_16732\\1564753407.py\" target=\"_blank\"><span style=\"color: #7f7f7f; text-decoration-color: #7f7f7f\">1564753407.py</span></a><span style=\"color: #7f7f7f; text-decoration-color: #7f7f7f\">:</span><a href=\"file://C:\\Users\\Tasnim\\AppData\\Local\\Temp\\ipykernel_16732\\1564753407.py#9\" target=\"_blank\"><span style=\"color: #7f7f7f; text-decoration-color: #7f7f7f\">9</span></a>\n",
       "</pre>\n"
      ],
      "text/plain": [
       "\u001b[2;36m[05/22/25 22:13:39]\u001b[0m\u001b[2;36m \u001b[0m\u001b[34mINFO    \u001b[0m ✓ \u001b[1;36m220.\u001b[0mtxt → Basic\\Gemini\\\u001b[1;36m220.\u001b[0mcc                                        \u001b]8;id=71396;file://C:\\Users\\Tasnim\\AppData\\Local\\Temp\\ipykernel_16732\\1564753407.py\u001b\\\u001b[2m1564753407.py\u001b[0m\u001b]8;;\u001b\\\u001b[2m:\u001b[0m\u001b]8;id=111121;file://C:\\Users\\Tasnim\\AppData\\Local\\Temp\\ipykernel_16732\\1564753407.py#9\u001b\\\u001b[2m9\u001b[0m\u001b]8;;\u001b\\\n"
      ]
     },
     "metadata": {},
     "output_type": "display_data"
    },
    {
     "name": "stderr",
     "output_type": "stream",
     "text": [
      "Generating:  55%|█████▌    | 220/400 [2:46:20<1:47:38, 35.88s/it]"
     ]
    },
    {
     "data": {
      "text/html": [
       "<pre style=\"white-space:pre;overflow-x:auto;line-height:normal;font-family:Menlo,'DejaVu Sans Mono',consolas,'Courier New',monospace\"><span style=\"color: #7fbfbf; text-decoration-color: #7fbfbf\">[05/22/25 22:14:29] </span><span style=\"color: #000080; text-decoration-color: #000080\">INFO    </span> ✓ <span style=\"color: #008080; text-decoration-color: #008080; font-weight: bold\">221.</span>txt → Basic\\Gemini\\<span style=\"color: #008080; text-decoration-color: #008080; font-weight: bold\">221.</span>cc                                        <a href=\"file://C:\\Users\\Tasnim\\AppData\\Local\\Temp\\ipykernel_16732\\1564753407.py\" target=\"_blank\"><span style=\"color: #7f7f7f; text-decoration-color: #7f7f7f\">1564753407.py</span></a><span style=\"color: #7f7f7f; text-decoration-color: #7f7f7f\">:</span><a href=\"file://C:\\Users\\Tasnim\\AppData\\Local\\Temp\\ipykernel_16732\\1564753407.py#9\" target=\"_blank\"><span style=\"color: #7f7f7f; text-decoration-color: #7f7f7f\">9</span></a>\n",
       "</pre>\n"
      ],
      "text/plain": [
       "\u001b[2;36m[05/22/25 22:14:29]\u001b[0m\u001b[2;36m \u001b[0m\u001b[34mINFO    \u001b[0m ✓ \u001b[1;36m221.\u001b[0mtxt → Basic\\Gemini\\\u001b[1;36m221.\u001b[0mcc                                        \u001b]8;id=688530;file://C:\\Users\\Tasnim\\AppData\\Local\\Temp\\ipykernel_16732\\1564753407.py\u001b\\\u001b[2m1564753407.py\u001b[0m\u001b]8;;\u001b\\\u001b[2m:\u001b[0m\u001b]8;id=238197;file://C:\\Users\\Tasnim\\AppData\\Local\\Temp\\ipykernel_16732\\1564753407.py#9\u001b\\\u001b[2m9\u001b[0m\u001b]8;;\u001b\\\n"
      ]
     },
     "metadata": {},
     "output_type": "display_data"
    },
    {
     "name": "stderr",
     "output_type": "stream",
     "text": [
      "Generating:  55%|█████▌    | 221/400 [2:47:09<1:59:23, 40.02s/it]"
     ]
    },
    {
     "data": {
      "text/html": [
       "<pre style=\"white-space:pre;overflow-x:auto;line-height:normal;font-family:Menlo,'DejaVu Sans Mono',consolas,'Courier New',monospace\"><span style=\"color: #7fbfbf; text-decoration-color: #7fbfbf\">[05/22/25 22:15:04] </span><span style=\"color: #000080; text-decoration-color: #000080\">INFO    </span> ✓ <span style=\"color: #008080; text-decoration-color: #008080; font-weight: bold\">222.</span>txt → Basic\\Gemini\\<span style=\"color: #008080; text-decoration-color: #008080; font-weight: bold\">222.</span>cc                                        <a href=\"file://C:\\Users\\Tasnim\\AppData\\Local\\Temp\\ipykernel_16732\\1564753407.py\" target=\"_blank\"><span style=\"color: #7f7f7f; text-decoration-color: #7f7f7f\">1564753407.py</span></a><span style=\"color: #7f7f7f; text-decoration-color: #7f7f7f\">:</span><a href=\"file://C:\\Users\\Tasnim\\AppData\\Local\\Temp\\ipykernel_16732\\1564753407.py#9\" target=\"_blank\"><span style=\"color: #7f7f7f; text-decoration-color: #7f7f7f\">9</span></a>\n",
       "</pre>\n"
      ],
      "text/plain": [
       "\u001b[2;36m[05/22/25 22:15:04]\u001b[0m\u001b[2;36m \u001b[0m\u001b[34mINFO    \u001b[0m ✓ \u001b[1;36m222.\u001b[0mtxt → Basic\\Gemini\\\u001b[1;36m222.\u001b[0mcc                                        \u001b]8;id=604857;file://C:\\Users\\Tasnim\\AppData\\Local\\Temp\\ipykernel_16732\\1564753407.py\u001b\\\u001b[2m1564753407.py\u001b[0m\u001b]8;;\u001b\\\u001b[2m:\u001b[0m\u001b]8;id=198010;file://C:\\Users\\Tasnim\\AppData\\Local\\Temp\\ipykernel_16732\\1564753407.py#9\u001b\\\u001b[2m9\u001b[0m\u001b]8;;\u001b\\\n"
      ]
     },
     "metadata": {},
     "output_type": "display_data"
    },
    {
     "name": "stderr",
     "output_type": "stream",
     "text": [
      "Generating:  56%|█████▌    | 222/400 [2:47:45<1:54:26, 38.58s/it]"
     ]
    },
    {
     "data": {
      "text/html": [
       "<pre style=\"white-space:pre;overflow-x:auto;line-height:normal;font-family:Menlo,'DejaVu Sans Mono',consolas,'Courier New',monospace\"><span style=\"color: #7fbfbf; text-decoration-color: #7fbfbf\">[05/22/25 22:15:46] </span><span style=\"color: #000080; text-decoration-color: #000080\">INFO    </span> ✓ <span style=\"color: #008080; text-decoration-color: #008080; font-weight: bold\">223.</span>txt → Basic\\Gemini\\<span style=\"color: #008080; text-decoration-color: #008080; font-weight: bold\">223.</span>cc                                        <a href=\"file://C:\\Users\\Tasnim\\AppData\\Local\\Temp\\ipykernel_16732\\1564753407.py\" target=\"_blank\"><span style=\"color: #7f7f7f; text-decoration-color: #7f7f7f\">1564753407.py</span></a><span style=\"color: #7f7f7f; text-decoration-color: #7f7f7f\">:</span><a href=\"file://C:\\Users\\Tasnim\\AppData\\Local\\Temp\\ipykernel_16732\\1564753407.py#9\" target=\"_blank\"><span style=\"color: #7f7f7f; text-decoration-color: #7f7f7f\">9</span></a>\n",
       "</pre>\n"
      ],
      "text/plain": [
       "\u001b[2;36m[05/22/25 22:15:46]\u001b[0m\u001b[2;36m \u001b[0m\u001b[34mINFO    \u001b[0m ✓ \u001b[1;36m223.\u001b[0mtxt → Basic\\Gemini\\\u001b[1;36m223.\u001b[0mcc                                        \u001b]8;id=520191;file://C:\\Users\\Tasnim\\AppData\\Local\\Temp\\ipykernel_16732\\1564753407.py\u001b\\\u001b[2m1564753407.py\u001b[0m\u001b]8;;\u001b\\\u001b[2m:\u001b[0m\u001b]8;id=7817;file://C:\\Users\\Tasnim\\AppData\\Local\\Temp\\ipykernel_16732\\1564753407.py#9\u001b\\\u001b[2m9\u001b[0m\u001b]8;;\u001b\\\n"
      ]
     },
     "metadata": {},
     "output_type": "display_data"
    },
    {
     "name": "stderr",
     "output_type": "stream",
     "text": [
      "Generating:  56%|█████▌    | 223/400 [2:48:27<1:57:27, 39.82s/it]"
     ]
    },
    {
     "data": {
      "text/html": [
       "<pre style=\"white-space:pre;overflow-x:auto;line-height:normal;font-family:Menlo,'DejaVu Sans Mono',consolas,'Courier New',monospace\"><span style=\"color: #7fbfbf; text-decoration-color: #7fbfbf\">[05/22/25 22:16:40] </span><span style=\"color: #000080; text-decoration-color: #000080\">INFO    </span> ✓ <span style=\"color: #008080; text-decoration-color: #008080; font-weight: bold\">224.</span>txt → Basic\\Gemini\\<span style=\"color: #008080; text-decoration-color: #008080; font-weight: bold\">224.</span>cc                                        <a href=\"file://C:\\Users\\Tasnim\\AppData\\Local\\Temp\\ipykernel_16732\\1564753407.py\" target=\"_blank\"><span style=\"color: #7f7f7f; text-decoration-color: #7f7f7f\">1564753407.py</span></a><span style=\"color: #7f7f7f; text-decoration-color: #7f7f7f\">:</span><a href=\"file://C:\\Users\\Tasnim\\AppData\\Local\\Temp\\ipykernel_16732\\1564753407.py#9\" target=\"_blank\"><span style=\"color: #7f7f7f; text-decoration-color: #7f7f7f\">9</span></a>\n",
       "</pre>\n"
      ],
      "text/plain": [
       "\u001b[2;36m[05/22/25 22:16:40]\u001b[0m\u001b[2;36m \u001b[0m\u001b[34mINFO    \u001b[0m ✓ \u001b[1;36m224.\u001b[0mtxt → Basic\\Gemini\\\u001b[1;36m224.\u001b[0mcc                                        \u001b]8;id=536618;file://C:\\Users\\Tasnim\\AppData\\Local\\Temp\\ipykernel_16732\\1564753407.py\u001b\\\u001b[2m1564753407.py\u001b[0m\u001b]8;;\u001b\\\u001b[2m:\u001b[0m\u001b]8;id=166228;file://C:\\Users\\Tasnim\\AppData\\Local\\Temp\\ipykernel_16732\\1564753407.py#9\u001b\\\u001b[2m9\u001b[0m\u001b]8;;\u001b\\\n"
      ]
     },
     "metadata": {},
     "output_type": "display_data"
    },
    {
     "name": "stderr",
     "output_type": "stream",
     "text": [
      "Generating:  56%|█████▌    | 224/400 [2:49:21<2:08:55, 43.95s/it]"
     ]
    },
    {
     "data": {
      "text/html": [
       "<pre style=\"white-space:pre;overflow-x:auto;line-height:normal;font-family:Menlo,'DejaVu Sans Mono',consolas,'Courier New',monospace\"><span style=\"color: #7fbfbf; text-decoration-color: #7fbfbf\">[05/22/25 22:17:15] </span><span style=\"color: #000080; text-decoration-color: #000080\">INFO    </span> ✓ <span style=\"color: #008080; text-decoration-color: #008080; font-weight: bold\">225.</span>txt → Basic\\Gemini\\<span style=\"color: #008080; text-decoration-color: #008080; font-weight: bold\">225.</span>cc                                        <a href=\"file://C:\\Users\\Tasnim\\AppData\\Local\\Temp\\ipykernel_16732\\1564753407.py\" target=\"_blank\"><span style=\"color: #7f7f7f; text-decoration-color: #7f7f7f\">1564753407.py</span></a><span style=\"color: #7f7f7f; text-decoration-color: #7f7f7f\">:</span><a href=\"file://C:\\Users\\Tasnim\\AppData\\Local\\Temp\\ipykernel_16732\\1564753407.py#9\" target=\"_blank\"><span style=\"color: #7f7f7f; text-decoration-color: #7f7f7f\">9</span></a>\n",
       "</pre>\n"
      ],
      "text/plain": [
       "\u001b[2;36m[05/22/25 22:17:15]\u001b[0m\u001b[2;36m \u001b[0m\u001b[34mINFO    \u001b[0m ✓ \u001b[1;36m225.\u001b[0mtxt → Basic\\Gemini\\\u001b[1;36m225.\u001b[0mcc                                        \u001b]8;id=386673;file://C:\\Users\\Tasnim\\AppData\\Local\\Temp\\ipykernel_16732\\1564753407.py\u001b\\\u001b[2m1564753407.py\u001b[0m\u001b]8;;\u001b\\\u001b[2m:\u001b[0m\u001b]8;id=240445;file://C:\\Users\\Tasnim\\AppData\\Local\\Temp\\ipykernel_16732\\1564753407.py#9\u001b\\\u001b[2m9\u001b[0m\u001b]8;;\u001b\\\n"
      ]
     },
     "metadata": {},
     "output_type": "display_data"
    },
    {
     "name": "stderr",
     "output_type": "stream",
     "text": [
      "Generating:  56%|█████▋    | 225/400 [2:49:56<2:00:20, 41.26s/it]"
     ]
    },
    {
     "data": {
      "text/html": [
       "<pre style=\"white-space:pre;overflow-x:auto;line-height:normal;font-family:Menlo,'DejaVu Sans Mono',consolas,'Courier New',monospace\"><span style=\"color: #7fbfbf; text-decoration-color: #7fbfbf\">[05/22/25 22:18:03] </span><span style=\"color: #000080; text-decoration-color: #000080\">INFO    </span> ✓ <span style=\"color: #008080; text-decoration-color: #008080; font-weight: bold\">226.</span>txt → Basic\\Gemini\\<span style=\"color: #008080; text-decoration-color: #008080; font-weight: bold\">226.</span>cc                                        <a href=\"file://C:\\Users\\Tasnim\\AppData\\Local\\Temp\\ipykernel_16732\\1564753407.py\" target=\"_blank\"><span style=\"color: #7f7f7f; text-decoration-color: #7f7f7f\">1564753407.py</span></a><span style=\"color: #7f7f7f; text-decoration-color: #7f7f7f\">:</span><a href=\"file://C:\\Users\\Tasnim\\AppData\\Local\\Temp\\ipykernel_16732\\1564753407.py#9\" target=\"_blank\"><span style=\"color: #7f7f7f; text-decoration-color: #7f7f7f\">9</span></a>\n",
       "</pre>\n"
      ],
      "text/plain": [
       "\u001b[2;36m[05/22/25 22:18:03]\u001b[0m\u001b[2;36m \u001b[0m\u001b[34mINFO    \u001b[0m ✓ \u001b[1;36m226.\u001b[0mtxt → Basic\\Gemini\\\u001b[1;36m226.\u001b[0mcc                                        \u001b]8;id=86432;file://C:\\Users\\Tasnim\\AppData\\Local\\Temp\\ipykernel_16732\\1564753407.py\u001b\\\u001b[2m1564753407.py\u001b[0m\u001b]8;;\u001b\\\u001b[2m:\u001b[0m\u001b]8;id=841572;file://C:\\Users\\Tasnim\\AppData\\Local\\Temp\\ipykernel_16732\\1564753407.py#9\u001b\\\u001b[2m9\u001b[0m\u001b]8;;\u001b\\\n"
      ]
     },
     "metadata": {},
     "output_type": "display_data"
    },
    {
     "name": "stderr",
     "output_type": "stream",
     "text": [
      "Generating:  56%|█████▋    | 226/400 [2:50:43<2:05:11, 43.17s/it]"
     ]
    },
    {
     "data": {
      "text/html": [
       "<pre style=\"white-space:pre;overflow-x:auto;line-height:normal;font-family:Menlo,'DejaVu Sans Mono',consolas,'Courier New',monospace\"><span style=\"color: #7fbfbf; text-decoration-color: #7fbfbf\">[05/22/25 22:18:39] </span><span style=\"color: #000080; text-decoration-color: #000080\">INFO    </span> ✓ <span style=\"color: #008080; text-decoration-color: #008080; font-weight: bold\">227.</span>txt → Basic\\Gemini\\<span style=\"color: #008080; text-decoration-color: #008080; font-weight: bold\">227.</span>cc                                        <a href=\"file://C:\\Users\\Tasnim\\AppData\\Local\\Temp\\ipykernel_16732\\1564753407.py\" target=\"_blank\"><span style=\"color: #7f7f7f; text-decoration-color: #7f7f7f\">1564753407.py</span></a><span style=\"color: #7f7f7f; text-decoration-color: #7f7f7f\">:</span><a href=\"file://C:\\Users\\Tasnim\\AppData\\Local\\Temp\\ipykernel_16732\\1564753407.py#9\" target=\"_blank\"><span style=\"color: #7f7f7f; text-decoration-color: #7f7f7f\">9</span></a>\n",
       "</pre>\n"
      ],
      "text/plain": [
       "\u001b[2;36m[05/22/25 22:18:39]\u001b[0m\u001b[2;36m \u001b[0m\u001b[34mINFO    \u001b[0m ✓ \u001b[1;36m227.\u001b[0mtxt → Basic\\Gemini\\\u001b[1;36m227.\u001b[0mcc                                        \u001b]8;id=805810;file://C:\\Users\\Tasnim\\AppData\\Local\\Temp\\ipykernel_16732\\1564753407.py\u001b\\\u001b[2m1564753407.py\u001b[0m\u001b]8;;\u001b\\\u001b[2m:\u001b[0m\u001b]8;id=56073;file://C:\\Users\\Tasnim\\AppData\\Local\\Temp\\ipykernel_16732\\1564753407.py#9\u001b\\\u001b[2m9\u001b[0m\u001b]8;;\u001b\\\n"
      ]
     },
     "metadata": {},
     "output_type": "display_data"
    },
    {
     "name": "stderr",
     "output_type": "stream",
     "text": [
      "Generating:  57%|█████▋    | 227/400 [2:51:20<1:58:19, 41.04s/it]"
     ]
    },
    {
     "data": {
      "text/html": [
       "<pre style=\"white-space:pre;overflow-x:auto;line-height:normal;font-family:Menlo,'DejaVu Sans Mono',consolas,'Courier New',monospace\"><span style=\"color: #7fbfbf; text-decoration-color: #7fbfbf\">[05/22/25 22:19:14] </span><span style=\"color: #000080; text-decoration-color: #000080\">INFO    </span> ✓ <span style=\"color: #008080; text-decoration-color: #008080; font-weight: bold\">228.</span>txt → Basic\\Gemini\\<span style=\"color: #008080; text-decoration-color: #008080; font-weight: bold\">228.</span>cc                                        <a href=\"file://C:\\Users\\Tasnim\\AppData\\Local\\Temp\\ipykernel_16732\\1564753407.py\" target=\"_blank\"><span style=\"color: #7f7f7f; text-decoration-color: #7f7f7f\">1564753407.py</span></a><span style=\"color: #7f7f7f; text-decoration-color: #7f7f7f\">:</span><a href=\"file://C:\\Users\\Tasnim\\AppData\\Local\\Temp\\ipykernel_16732\\1564753407.py#9\" target=\"_blank\"><span style=\"color: #7f7f7f; text-decoration-color: #7f7f7f\">9</span></a>\n",
       "</pre>\n"
      ],
      "text/plain": [
       "\u001b[2;36m[05/22/25 22:19:14]\u001b[0m\u001b[2;36m \u001b[0m\u001b[34mINFO    \u001b[0m ✓ \u001b[1;36m228.\u001b[0mtxt → Basic\\Gemini\\\u001b[1;36m228.\u001b[0mcc                                        \u001b]8;id=959717;file://C:\\Users\\Tasnim\\AppData\\Local\\Temp\\ipykernel_16732\\1564753407.py\u001b\\\u001b[2m1564753407.py\u001b[0m\u001b]8;;\u001b\\\u001b[2m:\u001b[0m\u001b]8;id=737489;file://C:\\Users\\Tasnim\\AppData\\Local\\Temp\\ipykernel_16732\\1564753407.py#9\u001b\\\u001b[2m9\u001b[0m\u001b]8;;\u001b\\\n"
      ]
     },
     "metadata": {},
     "output_type": "display_data"
    },
    {
     "name": "stderr",
     "output_type": "stream",
     "text": [
      "Generating:  57%|█████▋    | 228/400 [2:51:55<1:52:41, 39.31s/it]"
     ]
    },
    {
     "data": {
      "text/html": [
       "<pre style=\"white-space:pre;overflow-x:auto;line-height:normal;font-family:Menlo,'DejaVu Sans Mono',consolas,'Courier New',monospace\"><span style=\"color: #7fbfbf; text-decoration-color: #7fbfbf\">[05/22/25 22:19:34] </span><span style=\"color: #000080; text-decoration-color: #000080\">INFO    </span> ✓ <span style=\"color: #008080; text-decoration-color: #008080; font-weight: bold\">229.</span>txt → Basic\\Gemini\\<span style=\"color: #008080; text-decoration-color: #008080; font-weight: bold\">229.</span>cc                                        <a href=\"file://C:\\Users\\Tasnim\\AppData\\Local\\Temp\\ipykernel_16732\\1564753407.py\" target=\"_blank\"><span style=\"color: #7f7f7f; text-decoration-color: #7f7f7f\">1564753407.py</span></a><span style=\"color: #7f7f7f; text-decoration-color: #7f7f7f\">:</span><a href=\"file://C:\\Users\\Tasnim\\AppData\\Local\\Temp\\ipykernel_16732\\1564753407.py#9\" target=\"_blank\"><span style=\"color: #7f7f7f; text-decoration-color: #7f7f7f\">9</span></a>\n",
       "</pre>\n"
      ],
      "text/plain": [
       "\u001b[2;36m[05/22/25 22:19:34]\u001b[0m\u001b[2;36m \u001b[0m\u001b[34mINFO    \u001b[0m ✓ \u001b[1;36m229.\u001b[0mtxt → Basic\\Gemini\\\u001b[1;36m229.\u001b[0mcc                                        \u001b]8;id=532147;file://C:\\Users\\Tasnim\\AppData\\Local\\Temp\\ipykernel_16732\\1564753407.py\u001b\\\u001b[2m1564753407.py\u001b[0m\u001b]8;;\u001b\\\u001b[2m:\u001b[0m\u001b]8;id=88277;file://C:\\Users\\Tasnim\\AppData\\Local\\Temp\\ipykernel_16732\\1564753407.py#9\u001b\\\u001b[2m9\u001b[0m\u001b]8;;\u001b\\\n"
      ]
     },
     "metadata": {},
     "output_type": "display_data"
    },
    {
     "name": "stderr",
     "output_type": "stream",
     "text": [
      "Generating:  57%|█████▋    | 229/400 [2:52:15<1:35:43, 33.59s/it]"
     ]
    },
    {
     "data": {
      "text/html": [
       "<pre style=\"white-space:pre;overflow-x:auto;line-height:normal;font-family:Menlo,'DejaVu Sans Mono',consolas,'Courier New',monospace\"><span style=\"color: #7fbfbf; text-decoration-color: #7fbfbf\">[05/22/25 22:20:01] </span><span style=\"color: #000080; text-decoration-color: #000080\">INFO    </span> ✓ <span style=\"color: #008080; text-decoration-color: #008080; font-weight: bold\">230.</span>txt → Basic\\Gemini\\<span style=\"color: #008080; text-decoration-color: #008080; font-weight: bold\">230.</span>cc                                        <a href=\"file://C:\\Users\\Tasnim\\AppData\\Local\\Temp\\ipykernel_16732\\1564753407.py\" target=\"_blank\"><span style=\"color: #7f7f7f; text-decoration-color: #7f7f7f\">1564753407.py</span></a><span style=\"color: #7f7f7f; text-decoration-color: #7f7f7f\">:</span><a href=\"file://C:\\Users\\Tasnim\\AppData\\Local\\Temp\\ipykernel_16732\\1564753407.py#9\" target=\"_blank\"><span style=\"color: #7f7f7f; text-decoration-color: #7f7f7f\">9</span></a>\n",
       "</pre>\n"
      ],
      "text/plain": [
       "\u001b[2;36m[05/22/25 22:20:01]\u001b[0m\u001b[2;36m \u001b[0m\u001b[34mINFO    \u001b[0m ✓ \u001b[1;36m230.\u001b[0mtxt → Basic\\Gemini\\\u001b[1;36m230.\u001b[0mcc                                        \u001b]8;id=373114;file://C:\\Users\\Tasnim\\AppData\\Local\\Temp\\ipykernel_16732\\1564753407.py\u001b\\\u001b[2m1564753407.py\u001b[0m\u001b]8;;\u001b\\\u001b[2m:\u001b[0m\u001b]8;id=815737;file://C:\\Users\\Tasnim\\AppData\\Local\\Temp\\ipykernel_16732\\1564753407.py#9\u001b\\\u001b[2m9\u001b[0m\u001b]8;;\u001b\\\n"
      ]
     },
     "metadata": {},
     "output_type": "display_data"
    },
    {
     "name": "stderr",
     "output_type": "stream",
     "text": [
      "Generating:  57%|█████▊    | 230/400 [2:52:41<1:29:02, 31.43s/it]"
     ]
    },
    {
     "data": {
      "text/html": [
       "<pre style=\"white-space:pre;overflow-x:auto;line-height:normal;font-family:Menlo,'DejaVu Sans Mono',consolas,'Courier New',monospace\"><span style=\"color: #7fbfbf; text-decoration-color: #7fbfbf\">[05/22/25 22:20:23] </span><span style=\"color: #000080; text-decoration-color: #000080\">INFO    </span> ✓ <span style=\"color: #008080; text-decoration-color: #008080; font-weight: bold\">231.</span>txt → Basic\\Gemini\\<span style=\"color: #008080; text-decoration-color: #008080; font-weight: bold\">231.</span>cc                                        <a href=\"file://C:\\Users\\Tasnim\\AppData\\Local\\Temp\\ipykernel_16732\\1564753407.py\" target=\"_blank\"><span style=\"color: #7f7f7f; text-decoration-color: #7f7f7f\">1564753407.py</span></a><span style=\"color: #7f7f7f; text-decoration-color: #7f7f7f\">:</span><a href=\"file://C:\\Users\\Tasnim\\AppData\\Local\\Temp\\ipykernel_16732\\1564753407.py#9\" target=\"_blank\"><span style=\"color: #7f7f7f; text-decoration-color: #7f7f7f\">9</span></a>\n",
       "</pre>\n"
      ],
      "text/plain": [
       "\u001b[2;36m[05/22/25 22:20:23]\u001b[0m\u001b[2;36m \u001b[0m\u001b[34mINFO    \u001b[0m ✓ \u001b[1;36m231.\u001b[0mtxt → Basic\\Gemini\\\u001b[1;36m231.\u001b[0mcc                                        \u001b]8;id=569399;file://C:\\Users\\Tasnim\\AppData\\Local\\Temp\\ipykernel_16732\\1564753407.py\u001b\\\u001b[2m1564753407.py\u001b[0m\u001b]8;;\u001b\\\u001b[2m:\u001b[0m\u001b]8;id=244093;file://C:\\Users\\Tasnim\\AppData\\Local\\Temp\\ipykernel_16732\\1564753407.py#9\u001b\\\u001b[2m9\u001b[0m\u001b]8;;\u001b\\\n"
      ]
     },
     "metadata": {},
     "output_type": "display_data"
    },
    {
     "name": "stderr",
     "output_type": "stream",
     "text": [
      "Generating:  58%|█████▊    | 231/400 [2:53:04<1:20:53, 28.72s/it]"
     ]
    },
    {
     "data": {
      "text/html": [
       "<pre style=\"white-space:pre;overflow-x:auto;line-height:normal;font-family:Menlo,'DejaVu Sans Mono',consolas,'Courier New',monospace\"><span style=\"color: #7fbfbf; text-decoration-color: #7fbfbf\">[05/22/25 22:20:57] </span><span style=\"color: #000080; text-decoration-color: #000080\">INFO    </span> ✓ <span style=\"color: #008080; text-decoration-color: #008080; font-weight: bold\">232.</span>txt → Basic\\Gemini\\<span style=\"color: #008080; text-decoration-color: #008080; font-weight: bold\">232.</span>cc                                        <a href=\"file://C:\\Users\\Tasnim\\AppData\\Local\\Temp\\ipykernel_16732\\1564753407.py\" target=\"_blank\"><span style=\"color: #7f7f7f; text-decoration-color: #7f7f7f\">1564753407.py</span></a><span style=\"color: #7f7f7f; text-decoration-color: #7f7f7f\">:</span><a href=\"file://C:\\Users\\Tasnim\\AppData\\Local\\Temp\\ipykernel_16732\\1564753407.py#9\" target=\"_blank\"><span style=\"color: #7f7f7f; text-decoration-color: #7f7f7f\">9</span></a>\n",
       "</pre>\n"
      ],
      "text/plain": [
       "\u001b[2;36m[05/22/25 22:20:57]\u001b[0m\u001b[2;36m \u001b[0m\u001b[34mINFO    \u001b[0m ✓ \u001b[1;36m232.\u001b[0mtxt → Basic\\Gemini\\\u001b[1;36m232.\u001b[0mcc                                        \u001b]8;id=369906;file://C:\\Users\\Tasnim\\AppData\\Local\\Temp\\ipykernel_16732\\1564753407.py\u001b\\\u001b[2m1564753407.py\u001b[0m\u001b]8;;\u001b\\\u001b[2m:\u001b[0m\u001b]8;id=43860;file://C:\\Users\\Tasnim\\AppData\\Local\\Temp\\ipykernel_16732\\1564753407.py#9\u001b\\\u001b[2m9\u001b[0m\u001b]8;;\u001b\\\n"
      ]
     },
     "metadata": {},
     "output_type": "display_data"
    },
    {
     "name": "stderr",
     "output_type": "stream",
     "text": [
      "Generating:  58%|█████▊    | 232/400 [2:53:38<1:24:40, 30.24s/it]"
     ]
    },
    {
     "data": {
      "text/html": [
       "<pre style=\"white-space:pre;overflow-x:auto;line-height:normal;font-family:Menlo,'DejaVu Sans Mono',consolas,'Courier New',monospace\"><span style=\"color: #7fbfbf; text-decoration-color: #7fbfbf\">[05/22/25 22:21:39] </span><span style=\"color: #000080; text-decoration-color: #000080\">INFO    </span> ✓ <span style=\"color: #008080; text-decoration-color: #008080; font-weight: bold\">233.</span>txt → Basic\\Gemini\\<span style=\"color: #008080; text-decoration-color: #008080; font-weight: bold\">233.</span>cc                                        <a href=\"file://C:\\Users\\Tasnim\\AppData\\Local\\Temp\\ipykernel_16732\\1564753407.py\" target=\"_blank\"><span style=\"color: #7f7f7f; text-decoration-color: #7f7f7f\">1564753407.py</span></a><span style=\"color: #7f7f7f; text-decoration-color: #7f7f7f\">:</span><a href=\"file://C:\\Users\\Tasnim\\AppData\\Local\\Temp\\ipykernel_16732\\1564753407.py#9\" target=\"_blank\"><span style=\"color: #7f7f7f; text-decoration-color: #7f7f7f\">9</span></a>\n",
       "</pre>\n"
      ],
      "text/plain": [
       "\u001b[2;36m[05/22/25 22:21:39]\u001b[0m\u001b[2;36m \u001b[0m\u001b[34mINFO    \u001b[0m ✓ \u001b[1;36m233.\u001b[0mtxt → Basic\\Gemini\\\u001b[1;36m233.\u001b[0mcc                                        \u001b]8;id=643170;file://C:\\Users\\Tasnim\\AppData\\Local\\Temp\\ipykernel_16732\\1564753407.py\u001b\\\u001b[2m1564753407.py\u001b[0m\u001b]8;;\u001b\\\u001b[2m:\u001b[0m\u001b]8;id=751160;file://C:\\Users\\Tasnim\\AppData\\Local\\Temp\\ipykernel_16732\\1564753407.py#9\u001b\\\u001b[2m9\u001b[0m\u001b]8;;\u001b\\\n"
      ]
     },
     "metadata": {},
     "output_type": "display_data"
    },
    {
     "name": "stderr",
     "output_type": "stream",
     "text": [
      "Generating:  58%|█████▊    | 233/400 [2:54:20<1:33:57, 33.76s/it]"
     ]
    },
    {
     "data": {
      "text/html": [
       "<pre style=\"white-space:pre;overflow-x:auto;line-height:normal;font-family:Menlo,'DejaVu Sans Mono',consolas,'Courier New',monospace\"><span style=\"color: #7fbfbf; text-decoration-color: #7fbfbf\">[05/22/25 22:22:43] </span><span style=\"color: #000080; text-decoration-color: #000080\">INFO    </span> ✓ <span style=\"color: #008080; text-decoration-color: #008080; font-weight: bold\">234.</span>txt → Basic\\Gemini\\<span style=\"color: #008080; text-decoration-color: #008080; font-weight: bold\">234.</span>cc                                        <a href=\"file://C:\\Users\\Tasnim\\AppData\\Local\\Temp\\ipykernel_16732\\1564753407.py\" target=\"_blank\"><span style=\"color: #7f7f7f; text-decoration-color: #7f7f7f\">1564753407.py</span></a><span style=\"color: #7f7f7f; text-decoration-color: #7f7f7f\">:</span><a href=\"file://C:\\Users\\Tasnim\\AppData\\Local\\Temp\\ipykernel_16732\\1564753407.py#9\" target=\"_blank\"><span style=\"color: #7f7f7f; text-decoration-color: #7f7f7f\">9</span></a>\n",
       "</pre>\n"
      ],
      "text/plain": [
       "\u001b[2;36m[05/22/25 22:22:43]\u001b[0m\u001b[2;36m \u001b[0m\u001b[34mINFO    \u001b[0m ✓ \u001b[1;36m234.\u001b[0mtxt → Basic\\Gemini\\\u001b[1;36m234.\u001b[0mcc                                        \u001b]8;id=739828;file://C:\\Users\\Tasnim\\AppData\\Local\\Temp\\ipykernel_16732\\1564753407.py\u001b\\\u001b[2m1564753407.py\u001b[0m\u001b]8;;\u001b\\\u001b[2m:\u001b[0m\u001b]8;id=167439;file://C:\\Users\\Tasnim\\AppData\\Local\\Temp\\ipykernel_16732\\1564753407.py#9\u001b\\\u001b[2m9\u001b[0m\u001b]8;;\u001b\\\n"
      ]
     },
     "metadata": {},
     "output_type": "display_data"
    },
    {
     "name": "stderr",
     "output_type": "stream",
     "text": [
      "Generating:  58%|█████▊    | 234/400 [2:55:24<1:58:32, 42.85s/it]"
     ]
    },
    {
     "data": {
      "text/html": [
       "<pre style=\"white-space:pre;overflow-x:auto;line-height:normal;font-family:Menlo,'DejaVu Sans Mono',consolas,'Courier New',monospace\"><span style=\"color: #7fbfbf; text-decoration-color: #7fbfbf\">[05/22/25 22:23:19] </span><span style=\"color: #000080; text-decoration-color: #000080\">INFO    </span> ✓ <span style=\"color: #008080; text-decoration-color: #008080; font-weight: bold\">235.</span>txt → Basic\\Gemini\\<span style=\"color: #008080; text-decoration-color: #008080; font-weight: bold\">235.</span>cc                                        <a href=\"file://C:\\Users\\Tasnim\\AppData\\Local\\Temp\\ipykernel_16732\\1564753407.py\" target=\"_blank\"><span style=\"color: #7f7f7f; text-decoration-color: #7f7f7f\">1564753407.py</span></a><span style=\"color: #7f7f7f; text-decoration-color: #7f7f7f\">:</span><a href=\"file://C:\\Users\\Tasnim\\AppData\\Local\\Temp\\ipykernel_16732\\1564753407.py#9\" target=\"_blank\"><span style=\"color: #7f7f7f; text-decoration-color: #7f7f7f\">9</span></a>\n",
       "</pre>\n"
      ],
      "text/plain": [
       "\u001b[2;36m[05/22/25 22:23:19]\u001b[0m\u001b[2;36m \u001b[0m\u001b[34mINFO    \u001b[0m ✓ \u001b[1;36m235.\u001b[0mtxt → Basic\\Gemini\\\u001b[1;36m235.\u001b[0mcc                                        \u001b]8;id=613616;file://C:\\Users\\Tasnim\\AppData\\Local\\Temp\\ipykernel_16732\\1564753407.py\u001b\\\u001b[2m1564753407.py\u001b[0m\u001b]8;;\u001b\\\u001b[2m:\u001b[0m\u001b]8;id=953523;file://C:\\Users\\Tasnim\\AppData\\Local\\Temp\\ipykernel_16732\\1564753407.py#9\u001b\\\u001b[2m9\u001b[0m\u001b]8;;\u001b\\\n"
      ]
     },
     "metadata": {},
     "output_type": "display_data"
    },
    {
     "name": "stderr",
     "output_type": "stream",
     "text": [
      "Generating:  59%|█████▉    | 235/400 [2:56:00<1:52:05, 40.76s/it]"
     ]
    },
    {
     "data": {
      "text/html": [
       "<pre style=\"white-space:pre;overflow-x:auto;line-height:normal;font-family:Menlo,'DejaVu Sans Mono',consolas,'Courier New',monospace\"><span style=\"color: #7fbfbf; text-decoration-color: #7fbfbf\">[05/22/25 22:23:45] </span><span style=\"color: #000080; text-decoration-color: #000080\">INFO    </span> ✓ <span style=\"color: #008080; text-decoration-color: #008080; font-weight: bold\">236.</span>txt → Basic\\Gemini\\<span style=\"color: #008080; text-decoration-color: #008080; font-weight: bold\">236.</span>cc                                        <a href=\"file://C:\\Users\\Tasnim\\AppData\\Local\\Temp\\ipykernel_16732\\1564753407.py\" target=\"_blank\"><span style=\"color: #7f7f7f; text-decoration-color: #7f7f7f\">1564753407.py</span></a><span style=\"color: #7f7f7f; text-decoration-color: #7f7f7f\">:</span><a href=\"file://C:\\Users\\Tasnim\\AppData\\Local\\Temp\\ipykernel_16732\\1564753407.py#9\" target=\"_blank\"><span style=\"color: #7f7f7f; text-decoration-color: #7f7f7f\">9</span></a>\n",
       "</pre>\n"
      ],
      "text/plain": [
       "\u001b[2;36m[05/22/25 22:23:45]\u001b[0m\u001b[2;36m \u001b[0m\u001b[34mINFO    \u001b[0m ✓ \u001b[1;36m236.\u001b[0mtxt → Basic\\Gemini\\\u001b[1;36m236.\u001b[0mcc                                        \u001b]8;id=312212;file://C:\\Users\\Tasnim\\AppData\\Local\\Temp\\ipykernel_16732\\1564753407.py\u001b\\\u001b[2m1564753407.py\u001b[0m\u001b]8;;\u001b\\\u001b[2m:\u001b[0m\u001b]8;id=531362;file://C:\\Users\\Tasnim\\AppData\\Local\\Temp\\ipykernel_16732\\1564753407.py#9\u001b\\\u001b[2m9\u001b[0m\u001b]8;;\u001b\\\n"
      ]
     },
     "metadata": {},
     "output_type": "display_data"
    },
    {
     "name": "stderr",
     "output_type": "stream",
     "text": [
      "Generating:  59%|█████▉    | 236/400 [2:56:26<1:39:33, 36.42s/it]"
     ]
    },
    {
     "data": {
      "text/html": [
       "<pre style=\"white-space:pre;overflow-x:auto;line-height:normal;font-family:Menlo,'DejaVu Sans Mono',consolas,'Courier New',monospace\"><span style=\"color: #7fbfbf; text-decoration-color: #7fbfbf\">[05/22/25 22:24:35] </span><span style=\"color: #000080; text-decoration-color: #000080\">INFO    </span> ✓ <span style=\"color: #008080; text-decoration-color: #008080; font-weight: bold\">237.</span>txt → Basic\\Gemini\\<span style=\"color: #008080; text-decoration-color: #008080; font-weight: bold\">237.</span>cc                                        <a href=\"file://C:\\Users\\Tasnim\\AppData\\Local\\Temp\\ipykernel_16732\\1564753407.py\" target=\"_blank\"><span style=\"color: #7f7f7f; text-decoration-color: #7f7f7f\">1564753407.py</span></a><span style=\"color: #7f7f7f; text-decoration-color: #7f7f7f\">:</span><a href=\"file://C:\\Users\\Tasnim\\AppData\\Local\\Temp\\ipykernel_16732\\1564753407.py#9\" target=\"_blank\"><span style=\"color: #7f7f7f; text-decoration-color: #7f7f7f\">9</span></a>\n",
       "</pre>\n"
      ],
      "text/plain": [
       "\u001b[2;36m[05/22/25 22:24:35]\u001b[0m\u001b[2;36m \u001b[0m\u001b[34mINFO    \u001b[0m ✓ \u001b[1;36m237.\u001b[0mtxt → Basic\\Gemini\\\u001b[1;36m237.\u001b[0mcc                                        \u001b]8;id=116455;file://C:\\Users\\Tasnim\\AppData\\Local\\Temp\\ipykernel_16732\\1564753407.py\u001b\\\u001b[2m1564753407.py\u001b[0m\u001b]8;;\u001b\\\u001b[2m:\u001b[0m\u001b]8;id=879198;file://C:\\Users\\Tasnim\\AppData\\Local\\Temp\\ipykernel_16732\\1564753407.py#9\u001b\\\u001b[2m9\u001b[0m\u001b]8;;\u001b\\\n"
      ]
     },
     "metadata": {},
     "output_type": "display_data"
    },
    {
     "name": "stderr",
     "output_type": "stream",
     "text": [
      "Generating:  59%|█████▉    | 237/400 [2:57:16<1:50:04, 40.52s/it]"
     ]
    },
    {
     "data": {
      "text/html": [
       "<pre style=\"white-space:pre;overflow-x:auto;line-height:normal;font-family:Menlo,'DejaVu Sans Mono',consolas,'Courier New',monospace\"><span style=\"color: #7fbfbf; text-decoration-color: #7fbfbf\">[05/22/25 22:25:28] </span><span style=\"color: #000080; text-decoration-color: #000080\">INFO    </span> ✓ <span style=\"color: #008080; text-decoration-color: #008080; font-weight: bold\">238.</span>txt → Basic\\Gemini\\<span style=\"color: #008080; text-decoration-color: #008080; font-weight: bold\">238.</span>cc                                        <a href=\"file://C:\\Users\\Tasnim\\AppData\\Local\\Temp\\ipykernel_16732\\1564753407.py\" target=\"_blank\"><span style=\"color: #7f7f7f; text-decoration-color: #7f7f7f\">1564753407.py</span></a><span style=\"color: #7f7f7f; text-decoration-color: #7f7f7f\">:</span><a href=\"file://C:\\Users\\Tasnim\\AppData\\Local\\Temp\\ipykernel_16732\\1564753407.py#9\" target=\"_blank\"><span style=\"color: #7f7f7f; text-decoration-color: #7f7f7f\">9</span></a>\n",
       "</pre>\n"
      ],
      "text/plain": [
       "\u001b[2;36m[05/22/25 22:25:28]\u001b[0m\u001b[2;36m \u001b[0m\u001b[34mINFO    \u001b[0m ✓ \u001b[1;36m238.\u001b[0mtxt → Basic\\Gemini\\\u001b[1;36m238.\u001b[0mcc                                        \u001b]8;id=721980;file://C:\\Users\\Tasnim\\AppData\\Local\\Temp\\ipykernel_16732\\1564753407.py\u001b\\\u001b[2m1564753407.py\u001b[0m\u001b]8;;\u001b\\\u001b[2m:\u001b[0m\u001b]8;id=551151;file://C:\\Users\\Tasnim\\AppData\\Local\\Temp\\ipykernel_16732\\1564753407.py#9\u001b\\\u001b[2m9\u001b[0m\u001b]8;;\u001b\\\n"
      ]
     },
     "metadata": {},
     "output_type": "display_data"
    },
    {
     "name": "stderr",
     "output_type": "stream",
     "text": [
      "Generating:  60%|█████▉    | 238/400 [2:58:08<1:59:04, 44.10s/it]"
     ]
    },
    {
     "data": {
      "text/html": [
       "<pre style=\"white-space:pre;overflow-x:auto;line-height:normal;font-family:Menlo,'DejaVu Sans Mono',consolas,'Courier New',monospace\"><span style=\"color: #7fbfbf; text-decoration-color: #7fbfbf\">[05/22/25 22:25:51] </span><span style=\"color: #000080; text-decoration-color: #000080\">INFO    </span> ✓ <span style=\"color: #008080; text-decoration-color: #008080; font-weight: bold\">239.</span>txt → Basic\\Gemini\\<span style=\"color: #008080; text-decoration-color: #008080; font-weight: bold\">239.</span>cc                                        <a href=\"file://C:\\Users\\Tasnim\\AppData\\Local\\Temp\\ipykernel_16732\\1564753407.py\" target=\"_blank\"><span style=\"color: #7f7f7f; text-decoration-color: #7f7f7f\">1564753407.py</span></a><span style=\"color: #7f7f7f; text-decoration-color: #7f7f7f\">:</span><a href=\"file://C:\\Users\\Tasnim\\AppData\\Local\\Temp\\ipykernel_16732\\1564753407.py#9\" target=\"_blank\"><span style=\"color: #7f7f7f; text-decoration-color: #7f7f7f\">9</span></a>\n",
       "</pre>\n"
      ],
      "text/plain": [
       "\u001b[2;36m[05/22/25 22:25:51]\u001b[0m\u001b[2;36m \u001b[0m\u001b[34mINFO    \u001b[0m ✓ \u001b[1;36m239.\u001b[0mtxt → Basic\\Gemini\\\u001b[1;36m239.\u001b[0mcc                                        \u001b]8;id=357998;file://C:\\Users\\Tasnim\\AppData\\Local\\Temp\\ipykernel_16732\\1564753407.py\u001b\\\u001b[2m1564753407.py\u001b[0m\u001b]8;;\u001b\\\u001b[2m:\u001b[0m\u001b]8;id=594125;file://C:\\Users\\Tasnim\\AppData\\Local\\Temp\\ipykernel_16732\\1564753407.py#9\u001b\\\u001b[2m9\u001b[0m\u001b]8;;\u001b\\\n"
      ]
     },
     "metadata": {},
     "output_type": "display_data"
    },
    {
     "name": "stderr",
     "output_type": "stream",
     "text": [
      "Generating:  60%|█████▉    | 239/400 [2:58:32<1:41:33, 37.85s/it]"
     ]
    },
    {
     "data": {
      "text/html": [
       "<pre style=\"white-space:pre;overflow-x:auto;line-height:normal;font-family:Menlo,'DejaVu Sans Mono',consolas,'Courier New',monospace\"><span style=\"color: #7fbfbf; text-decoration-color: #7fbfbf\">[05/22/25 22:26:49] </span><span style=\"color: #000080; text-decoration-color: #000080\">INFO    </span> ✓ <span style=\"color: #008080; text-decoration-color: #008080; font-weight: bold\">240.</span>txt → Basic\\Gemini\\<span style=\"color: #008080; text-decoration-color: #008080; font-weight: bold\">240.</span>cc                                        <a href=\"file://C:\\Users\\Tasnim\\AppData\\Local\\Temp\\ipykernel_16732\\1564753407.py\" target=\"_blank\"><span style=\"color: #7f7f7f; text-decoration-color: #7f7f7f\">1564753407.py</span></a><span style=\"color: #7f7f7f; text-decoration-color: #7f7f7f\">:</span><a href=\"file://C:\\Users\\Tasnim\\AppData\\Local\\Temp\\ipykernel_16732\\1564753407.py#9\" target=\"_blank\"><span style=\"color: #7f7f7f; text-decoration-color: #7f7f7f\">9</span></a>\n",
       "</pre>\n"
      ],
      "text/plain": [
       "\u001b[2;36m[05/22/25 22:26:49]\u001b[0m\u001b[2;36m \u001b[0m\u001b[34mINFO    \u001b[0m ✓ \u001b[1;36m240.\u001b[0mtxt → Basic\\Gemini\\\u001b[1;36m240.\u001b[0mcc                                        \u001b]8;id=645115;file://C:\\Users\\Tasnim\\AppData\\Local\\Temp\\ipykernel_16732\\1564753407.py\u001b\\\u001b[2m1564753407.py\u001b[0m\u001b]8;;\u001b\\\u001b[2m:\u001b[0m\u001b]8;id=18233;file://C:\\Users\\Tasnim\\AppData\\Local\\Temp\\ipykernel_16732\\1564753407.py#9\u001b\\\u001b[2m9\u001b[0m\u001b]8;;\u001b\\\n"
      ]
     },
     "metadata": {},
     "output_type": "display_data"
    },
    {
     "name": "stderr",
     "output_type": "stream",
     "text": [
      "Generating:  60%|██████    | 240/400 [2:59:30<1:57:33, 44.09s/it]"
     ]
    },
    {
     "data": {
      "text/html": [
       "<pre style=\"white-space:pre;overflow-x:auto;line-height:normal;font-family:Menlo,'DejaVu Sans Mono',consolas,'Courier New',monospace\"><span style=\"color: #7fbfbf; text-decoration-color: #7fbfbf\">[05/22/25 22:27:15] </span><span style=\"color: #000080; text-decoration-color: #000080\">INFO    </span> ✓ <span style=\"color: #008080; text-decoration-color: #008080; font-weight: bold\">241.</span>txt → Basic\\Gemini\\<span style=\"color: #008080; text-decoration-color: #008080; font-weight: bold\">241.</span>cc                                        <a href=\"file://C:\\Users\\Tasnim\\AppData\\Local\\Temp\\ipykernel_16732\\1564753407.py\" target=\"_blank\"><span style=\"color: #7f7f7f; text-decoration-color: #7f7f7f\">1564753407.py</span></a><span style=\"color: #7f7f7f; text-decoration-color: #7f7f7f\">:</span><a href=\"file://C:\\Users\\Tasnim\\AppData\\Local\\Temp\\ipykernel_16732\\1564753407.py#9\" target=\"_blank\"><span style=\"color: #7f7f7f; text-decoration-color: #7f7f7f\">9</span></a>\n",
       "</pre>\n"
      ],
      "text/plain": [
       "\u001b[2;36m[05/22/25 22:27:15]\u001b[0m\u001b[2;36m \u001b[0m\u001b[34mINFO    \u001b[0m ✓ \u001b[1;36m241.\u001b[0mtxt → Basic\\Gemini\\\u001b[1;36m241.\u001b[0mcc                                        \u001b]8;id=736712;file://C:\\Users\\Tasnim\\AppData\\Local\\Temp\\ipykernel_16732\\1564753407.py\u001b\\\u001b[2m1564753407.py\u001b[0m\u001b]8;;\u001b\\\u001b[2m:\u001b[0m\u001b]8;id=324348;file://C:\\Users\\Tasnim\\AppData\\Local\\Temp\\ipykernel_16732\\1564753407.py#9\u001b\\\u001b[2m9\u001b[0m\u001b]8;;\u001b\\\n"
      ]
     },
     "metadata": {},
     "output_type": "display_data"
    },
    {
     "name": "stderr",
     "output_type": "stream",
     "text": [
      "Generating:  60%|██████    | 241/400 [2:59:56<1:42:06, 38.53s/it]"
     ]
    },
    {
     "data": {
      "text/html": [
       "<pre style=\"white-space:pre;overflow-x:auto;line-height:normal;font-family:Menlo,'DejaVu Sans Mono',consolas,'Courier New',monospace\"><span style=\"color: #7fbfbf; text-decoration-color: #7fbfbf\">[05/22/25 22:27:48] </span><span style=\"color: #000080; text-decoration-color: #000080\">INFO    </span> ✓ <span style=\"color: #008080; text-decoration-color: #008080; font-weight: bold\">242.</span>txt → Basic\\Gemini\\<span style=\"color: #008080; text-decoration-color: #008080; font-weight: bold\">242.</span>cc                                        <a href=\"file://C:\\Users\\Tasnim\\AppData\\Local\\Temp\\ipykernel_16732\\1564753407.py\" target=\"_blank\"><span style=\"color: #7f7f7f; text-decoration-color: #7f7f7f\">1564753407.py</span></a><span style=\"color: #7f7f7f; text-decoration-color: #7f7f7f\">:</span><a href=\"file://C:\\Users\\Tasnim\\AppData\\Local\\Temp\\ipykernel_16732\\1564753407.py#9\" target=\"_blank\"><span style=\"color: #7f7f7f; text-decoration-color: #7f7f7f\">9</span></a>\n",
       "</pre>\n"
      ],
      "text/plain": [
       "\u001b[2;36m[05/22/25 22:27:48]\u001b[0m\u001b[2;36m \u001b[0m\u001b[34mINFO    \u001b[0m ✓ \u001b[1;36m242.\u001b[0mtxt → Basic\\Gemini\\\u001b[1;36m242.\u001b[0mcc                                        \u001b]8;id=68695;file://C:\\Users\\Tasnim\\AppData\\Local\\Temp\\ipykernel_16732\\1564753407.py\u001b\\\u001b[2m1564753407.py\u001b[0m\u001b]8;;\u001b\\\u001b[2m:\u001b[0m\u001b]8;id=199406;file://C:\\Users\\Tasnim\\AppData\\Local\\Temp\\ipykernel_16732\\1564753407.py#9\u001b\\\u001b[2m9\u001b[0m\u001b]8;;\u001b\\\n"
      ]
     },
     "metadata": {},
     "output_type": "display_data"
    },
    {
     "name": "stderr",
     "output_type": "stream",
     "text": [
      "Generating:  60%|██████    | 242/400 [3:00:29<1:37:12, 36.91s/it]"
     ]
    },
    {
     "data": {
      "text/html": [
       "<pre style=\"white-space:pre;overflow-x:auto;line-height:normal;font-family:Menlo,'DejaVu Sans Mono',consolas,'Courier New',monospace\"><span style=\"color: #7fbfbf; text-decoration-color: #7fbfbf\">[05/22/25 22:28:01] </span><span style=\"color: #000080; text-decoration-color: #000080\">INFO    </span> ✓ <span style=\"color: #008080; text-decoration-color: #008080; font-weight: bold\">243.</span>txt → Basic\\Gemini\\<span style=\"color: #008080; text-decoration-color: #008080; font-weight: bold\">243.</span>cc                                        <a href=\"file://C:\\Users\\Tasnim\\AppData\\Local\\Temp\\ipykernel_16732\\1564753407.py\" target=\"_blank\"><span style=\"color: #7f7f7f; text-decoration-color: #7f7f7f\">1564753407.py</span></a><span style=\"color: #7f7f7f; text-decoration-color: #7f7f7f\">:</span><a href=\"file://C:\\Users\\Tasnim\\AppData\\Local\\Temp\\ipykernel_16732\\1564753407.py#9\" target=\"_blank\"><span style=\"color: #7f7f7f; text-decoration-color: #7f7f7f\">9</span></a>\n",
       "</pre>\n"
      ],
      "text/plain": [
       "\u001b[2;36m[05/22/25 22:28:01]\u001b[0m\u001b[2;36m \u001b[0m\u001b[34mINFO    \u001b[0m ✓ \u001b[1;36m243.\u001b[0mtxt → Basic\\Gemini\\\u001b[1;36m243.\u001b[0mcc                                        \u001b]8;id=214139;file://C:\\Users\\Tasnim\\AppData\\Local\\Temp\\ipykernel_16732\\1564753407.py\u001b\\\u001b[2m1564753407.py\u001b[0m\u001b]8;;\u001b\\\u001b[2m:\u001b[0m\u001b]8;id=175318;file://C:\\Users\\Tasnim\\AppData\\Local\\Temp\\ipykernel_16732\\1564753407.py#9\u001b\\\u001b[2m9\u001b[0m\u001b]8;;\u001b\\\n"
      ]
     },
     "metadata": {},
     "output_type": "display_data"
    },
    {
     "name": "stderr",
     "output_type": "stream",
     "text": [
      "Generating:  61%|██████    | 243/400 [3:00:42<1:17:29, 29.61s/it]"
     ]
    },
    {
     "data": {
      "text/html": [
       "<pre style=\"white-space:pre;overflow-x:auto;line-height:normal;font-family:Menlo,'DejaVu Sans Mono',consolas,'Courier New',monospace\"><span style=\"color: #7fbfbf; text-decoration-color: #7fbfbf\">[05/22/25 22:28:14] </span><span style=\"color: #000080; text-decoration-color: #000080\">INFO    </span> ✓ <span style=\"color: #008080; text-decoration-color: #008080; font-weight: bold\">244.</span>txt → Basic\\Gemini\\<span style=\"color: #008080; text-decoration-color: #008080; font-weight: bold\">244.</span>cc                                        <a href=\"file://C:\\Users\\Tasnim\\AppData\\Local\\Temp\\ipykernel_16732\\1564753407.py\" target=\"_blank\"><span style=\"color: #7f7f7f; text-decoration-color: #7f7f7f\">1564753407.py</span></a><span style=\"color: #7f7f7f; text-decoration-color: #7f7f7f\">:</span><a href=\"file://C:\\Users\\Tasnim\\AppData\\Local\\Temp\\ipykernel_16732\\1564753407.py#9\" target=\"_blank\"><span style=\"color: #7f7f7f; text-decoration-color: #7f7f7f\">9</span></a>\n",
       "</pre>\n"
      ],
      "text/plain": [
       "\u001b[2;36m[05/22/25 22:28:14]\u001b[0m\u001b[2;36m \u001b[0m\u001b[34mINFO    \u001b[0m ✓ \u001b[1;36m244.\u001b[0mtxt → Basic\\Gemini\\\u001b[1;36m244.\u001b[0mcc                                        \u001b]8;id=719041;file://C:\\Users\\Tasnim\\AppData\\Local\\Temp\\ipykernel_16732\\1564753407.py\u001b\\\u001b[2m1564753407.py\u001b[0m\u001b]8;;\u001b\\\u001b[2m:\u001b[0m\u001b]8;id=887391;file://C:\\Users\\Tasnim\\AppData\\Local\\Temp\\ipykernel_16732\\1564753407.py#9\u001b\\\u001b[2m9\u001b[0m\u001b]8;;\u001b\\\n"
      ]
     },
     "metadata": {},
     "output_type": "display_data"
    },
    {
     "name": "stderr",
     "output_type": "stream",
     "text": [
      "Generating:  61%|██████    | 244/400 [3:00:55<1:04:18, 24.73s/it]"
     ]
    },
    {
     "data": {
      "text/html": [
       "<pre style=\"white-space:pre;overflow-x:auto;line-height:normal;font-family:Menlo,'DejaVu Sans Mono',consolas,'Courier New',monospace\"><span style=\"color: #7fbfbf; text-decoration-color: #7fbfbf\">[05/22/25 22:28:27] </span><span style=\"color: #000080; text-decoration-color: #000080\">INFO    </span> ✓ <span style=\"color: #008080; text-decoration-color: #008080; font-weight: bold\">245.</span>txt → Basic\\Gemini\\<span style=\"color: #008080; text-decoration-color: #008080; font-weight: bold\">245.</span>cc                                        <a href=\"file://C:\\Users\\Tasnim\\AppData\\Local\\Temp\\ipykernel_16732\\1564753407.py\" target=\"_blank\"><span style=\"color: #7f7f7f; text-decoration-color: #7f7f7f\">1564753407.py</span></a><span style=\"color: #7f7f7f; text-decoration-color: #7f7f7f\">:</span><a href=\"file://C:\\Users\\Tasnim\\AppData\\Local\\Temp\\ipykernel_16732\\1564753407.py#9\" target=\"_blank\"><span style=\"color: #7f7f7f; text-decoration-color: #7f7f7f\">9</span></a>\n",
       "</pre>\n"
      ],
      "text/plain": [
       "\u001b[2;36m[05/22/25 22:28:27]\u001b[0m\u001b[2;36m \u001b[0m\u001b[34mINFO    \u001b[0m ✓ \u001b[1;36m245.\u001b[0mtxt → Basic\\Gemini\\\u001b[1;36m245.\u001b[0mcc                                        \u001b]8;id=208267;file://C:\\Users\\Tasnim\\AppData\\Local\\Temp\\ipykernel_16732\\1564753407.py\u001b\\\u001b[2m1564753407.py\u001b[0m\u001b]8;;\u001b\\\u001b[2m:\u001b[0m\u001b]8;id=61155;file://C:\\Users\\Tasnim\\AppData\\Local\\Temp\\ipykernel_16732\\1564753407.py#9\u001b\\\u001b[2m9\u001b[0m\u001b]8;;\u001b\\\n"
      ]
     },
     "metadata": {},
     "output_type": "display_data"
    },
    {
     "name": "stderr",
     "output_type": "stream",
     "text": [
      "Generating:  61%|██████▏   | 245/400 [3:01:08<54:45, 21.19s/it]  "
     ]
    },
    {
     "data": {
      "text/html": [
       "<pre style=\"white-space:pre;overflow-x:auto;line-height:normal;font-family:Menlo,'DejaVu Sans Mono',consolas,'Courier New',monospace\"><span style=\"color: #7fbfbf; text-decoration-color: #7fbfbf\">[05/22/25 22:28:50] </span><span style=\"color: #000080; text-decoration-color: #000080\">INFO    </span> ✓ <span style=\"color: #008080; text-decoration-color: #008080; font-weight: bold\">246.</span>txt → Basic\\Gemini\\<span style=\"color: #008080; text-decoration-color: #008080; font-weight: bold\">246.</span>cc                                        <a href=\"file://C:\\Users\\Tasnim\\AppData\\Local\\Temp\\ipykernel_16732\\1564753407.py\" target=\"_blank\"><span style=\"color: #7f7f7f; text-decoration-color: #7f7f7f\">1564753407.py</span></a><span style=\"color: #7f7f7f; text-decoration-color: #7f7f7f\">:</span><a href=\"file://C:\\Users\\Tasnim\\AppData\\Local\\Temp\\ipykernel_16732\\1564753407.py#9\" target=\"_blank\"><span style=\"color: #7f7f7f; text-decoration-color: #7f7f7f\">9</span></a>\n",
       "</pre>\n"
      ],
      "text/plain": [
       "\u001b[2;36m[05/22/25 22:28:50]\u001b[0m\u001b[2;36m \u001b[0m\u001b[34mINFO    \u001b[0m ✓ \u001b[1;36m246.\u001b[0mtxt → Basic\\Gemini\\\u001b[1;36m246.\u001b[0mcc                                        \u001b]8;id=704726;file://C:\\Users\\Tasnim\\AppData\\Local\\Temp\\ipykernel_16732\\1564753407.py\u001b\\\u001b[2m1564753407.py\u001b[0m\u001b]8;;\u001b\\\u001b[2m:\u001b[0m\u001b]8;id=326677;file://C:\\Users\\Tasnim\\AppData\\Local\\Temp\\ipykernel_16732\\1564753407.py#9\u001b\\\u001b[2m9\u001b[0m\u001b]8;;\u001b\\\n"
      ]
     },
     "metadata": {},
     "output_type": "display_data"
    },
    {
     "name": "stderr",
     "output_type": "stream",
     "text": [
      "Generating:  62%|██████▏   | 246/400 [3:01:31<55:36, 21.67s/it]"
     ]
    },
    {
     "data": {
      "text/html": [
       "<pre style=\"white-space:pre;overflow-x:auto;line-height:normal;font-family:Menlo,'DejaVu Sans Mono',consolas,'Courier New',monospace\"><span style=\"color: #7fbfbf; text-decoration-color: #7fbfbf\">[05/22/25 22:29:10] </span><span style=\"color: #000080; text-decoration-color: #000080\">INFO    </span> ✓ <span style=\"color: #008080; text-decoration-color: #008080; font-weight: bold\">247.</span>txt → Basic\\Gemini\\<span style=\"color: #008080; text-decoration-color: #008080; font-weight: bold\">247.</span>cc                                        <a href=\"file://C:\\Users\\Tasnim\\AppData\\Local\\Temp\\ipykernel_16732\\1564753407.py\" target=\"_blank\"><span style=\"color: #7f7f7f; text-decoration-color: #7f7f7f\">1564753407.py</span></a><span style=\"color: #7f7f7f; text-decoration-color: #7f7f7f\">:</span><a href=\"file://C:\\Users\\Tasnim\\AppData\\Local\\Temp\\ipykernel_16732\\1564753407.py#9\" target=\"_blank\"><span style=\"color: #7f7f7f; text-decoration-color: #7f7f7f\">9</span></a>\n",
       "</pre>\n"
      ],
      "text/plain": [
       "\u001b[2;36m[05/22/25 22:29:10]\u001b[0m\u001b[2;36m \u001b[0m\u001b[34mINFO    \u001b[0m ✓ \u001b[1;36m247.\u001b[0mtxt → Basic\\Gemini\\\u001b[1;36m247.\u001b[0mcc                                        \u001b]8;id=101763;file://C:\\Users\\Tasnim\\AppData\\Local\\Temp\\ipykernel_16732\\1564753407.py\u001b\\\u001b[2m1564753407.py\u001b[0m\u001b]8;;\u001b\\\u001b[2m:\u001b[0m\u001b]8;id=843836;file://C:\\Users\\Tasnim\\AppData\\Local\\Temp\\ipykernel_16732\\1564753407.py#9\u001b\\\u001b[2m9\u001b[0m\u001b]8;;\u001b\\\n"
      ]
     },
     "metadata": {},
     "output_type": "display_data"
    },
    {
     "name": "stderr",
     "output_type": "stream",
     "text": [
      "Generating:  62%|██████▏   | 247/400 [3:01:51<54:12, 21.26s/it]"
     ]
    },
    {
     "data": {
      "text/html": [
       "<pre style=\"white-space:pre;overflow-x:auto;line-height:normal;font-family:Menlo,'DejaVu Sans Mono',consolas,'Courier New',monospace\"><span style=\"color: #7fbfbf; text-decoration-color: #7fbfbf\">[05/22/25 22:29:34] </span><span style=\"color: #000080; text-decoration-color: #000080\">INFO    </span> ✓ <span style=\"color: #008080; text-decoration-color: #008080; font-weight: bold\">248.</span>txt → Basic\\Gemini\\<span style=\"color: #008080; text-decoration-color: #008080; font-weight: bold\">248.</span>cc                                        <a href=\"file://C:\\Users\\Tasnim\\AppData\\Local\\Temp\\ipykernel_16732\\1564753407.py\" target=\"_blank\"><span style=\"color: #7f7f7f; text-decoration-color: #7f7f7f\">1564753407.py</span></a><span style=\"color: #7f7f7f; text-decoration-color: #7f7f7f\">:</span><a href=\"file://C:\\Users\\Tasnim\\AppData\\Local\\Temp\\ipykernel_16732\\1564753407.py#9\" target=\"_blank\"><span style=\"color: #7f7f7f; text-decoration-color: #7f7f7f\">9</span></a>\n",
       "</pre>\n"
      ],
      "text/plain": [
       "\u001b[2;36m[05/22/25 22:29:34]\u001b[0m\u001b[2;36m \u001b[0m\u001b[34mINFO    \u001b[0m ✓ \u001b[1;36m248.\u001b[0mtxt → Basic\\Gemini\\\u001b[1;36m248.\u001b[0mcc                                        \u001b]8;id=832181;file://C:\\Users\\Tasnim\\AppData\\Local\\Temp\\ipykernel_16732\\1564753407.py\u001b\\\u001b[2m1564753407.py\u001b[0m\u001b]8;;\u001b\\\u001b[2m:\u001b[0m\u001b]8;id=550429;file://C:\\Users\\Tasnim\\AppData\\Local\\Temp\\ipykernel_16732\\1564753407.py#9\u001b\\\u001b[2m9\u001b[0m\u001b]8;;\u001b\\\n"
      ]
     },
     "metadata": {},
     "output_type": "display_data"
    },
    {
     "name": "stderr",
     "output_type": "stream",
     "text": [
      "Generating:  62%|██████▏   | 248/400 [3:02:15<55:40, 21.98s/it]"
     ]
    },
    {
     "data": {
      "text/html": [
       "<pre style=\"white-space:pre;overflow-x:auto;line-height:normal;font-family:Menlo,'DejaVu Sans Mono',consolas,'Courier New',monospace\"><span style=\"color: #7fbfbf; text-decoration-color: #7fbfbf\">[05/22/25 22:29:53] </span><span style=\"color: #000080; text-decoration-color: #000080\">INFO    </span> ✓ <span style=\"color: #008080; text-decoration-color: #008080; font-weight: bold\">249.</span>txt → Basic\\Gemini\\<span style=\"color: #008080; text-decoration-color: #008080; font-weight: bold\">249.</span>cc                                        <a href=\"file://C:\\Users\\Tasnim\\AppData\\Local\\Temp\\ipykernel_16732\\1564753407.py\" target=\"_blank\"><span style=\"color: #7f7f7f; text-decoration-color: #7f7f7f\">1564753407.py</span></a><span style=\"color: #7f7f7f; text-decoration-color: #7f7f7f\">:</span><a href=\"file://C:\\Users\\Tasnim\\AppData\\Local\\Temp\\ipykernel_16732\\1564753407.py#9\" target=\"_blank\"><span style=\"color: #7f7f7f; text-decoration-color: #7f7f7f\">9</span></a>\n",
       "</pre>\n"
      ],
      "text/plain": [
       "\u001b[2;36m[05/22/25 22:29:53]\u001b[0m\u001b[2;36m \u001b[0m\u001b[34mINFO    \u001b[0m ✓ \u001b[1;36m249.\u001b[0mtxt → Basic\\Gemini\\\u001b[1;36m249.\u001b[0mcc                                        \u001b]8;id=904830;file://C:\\Users\\Tasnim\\AppData\\Local\\Temp\\ipykernel_16732\\1564753407.py\u001b\\\u001b[2m1564753407.py\u001b[0m\u001b]8;;\u001b\\\u001b[2m:\u001b[0m\u001b]8;id=159929;file://C:\\Users\\Tasnim\\AppData\\Local\\Temp\\ipykernel_16732\\1564753407.py#9\u001b\\\u001b[2m9\u001b[0m\u001b]8;;\u001b\\\n"
      ]
     },
     "metadata": {},
     "output_type": "display_data"
    },
    {
     "name": "stderr",
     "output_type": "stream",
     "text": [
      "Generating:  62%|██████▏   | 249/400 [3:02:34<53:25, 21.23s/it]"
     ]
    },
    {
     "data": {
      "text/html": [
       "<pre style=\"white-space:pre;overflow-x:auto;line-height:normal;font-family:Menlo,'DejaVu Sans Mono',consolas,'Courier New',monospace\"><span style=\"color: #7fbfbf; text-decoration-color: #7fbfbf\">[05/22/25 22:30:10] </span><span style=\"color: #000080; text-decoration-color: #000080\">INFO    </span> ✓ <span style=\"color: #008080; text-decoration-color: #008080; font-weight: bold\">250.</span>txt → Basic\\Gemini\\<span style=\"color: #008080; text-decoration-color: #008080; font-weight: bold\">250.</span>cc                                        <a href=\"file://C:\\Users\\Tasnim\\AppData\\Local\\Temp\\ipykernel_16732\\1564753407.py\" target=\"_blank\"><span style=\"color: #7f7f7f; text-decoration-color: #7f7f7f\">1564753407.py</span></a><span style=\"color: #7f7f7f; text-decoration-color: #7f7f7f\">:</span><a href=\"file://C:\\Users\\Tasnim\\AppData\\Local\\Temp\\ipykernel_16732\\1564753407.py#9\" target=\"_blank\"><span style=\"color: #7f7f7f; text-decoration-color: #7f7f7f\">9</span></a>\n",
       "</pre>\n"
      ],
      "text/plain": [
       "\u001b[2;36m[05/22/25 22:30:10]\u001b[0m\u001b[2;36m \u001b[0m\u001b[34mINFO    \u001b[0m ✓ \u001b[1;36m250.\u001b[0mtxt → Basic\\Gemini\\\u001b[1;36m250.\u001b[0mcc                                        \u001b]8;id=729376;file://C:\\Users\\Tasnim\\AppData\\Local\\Temp\\ipykernel_16732\\1564753407.py\u001b\\\u001b[2m1564753407.py\u001b[0m\u001b]8;;\u001b\\\u001b[2m:\u001b[0m\u001b]8;id=834327;file://C:\\Users\\Tasnim\\AppData\\Local\\Temp\\ipykernel_16732\\1564753407.py#9\u001b\\\u001b[2m9\u001b[0m\u001b]8;;\u001b\\\n"
      ]
     },
     "metadata": {},
     "output_type": "display_data"
    },
    {
     "name": "stderr",
     "output_type": "stream",
     "text": [
      "Generating:  62%|██████▎   | 250/400 [3:02:51<50:01, 20.01s/it]"
     ]
    },
    {
     "data": {
      "text/html": [
       "<pre style=\"white-space:pre;overflow-x:auto;line-height:normal;font-family:Menlo,'DejaVu Sans Mono',consolas,'Courier New',monospace\"><span style=\"color: #7fbfbf; text-decoration-color: #7fbfbf\">[05/22/25 22:30:28] </span><span style=\"color: #000080; text-decoration-color: #000080\">INFO    </span> ✓ <span style=\"color: #008080; text-decoration-color: #008080; font-weight: bold\">251.</span>txt → Basic\\Gemini\\<span style=\"color: #008080; text-decoration-color: #008080; font-weight: bold\">251.</span>cc                                        <a href=\"file://C:\\Users\\Tasnim\\AppData\\Local\\Temp\\ipykernel_16732\\1564753407.py\" target=\"_blank\"><span style=\"color: #7f7f7f; text-decoration-color: #7f7f7f\">1564753407.py</span></a><span style=\"color: #7f7f7f; text-decoration-color: #7f7f7f\">:</span><a href=\"file://C:\\Users\\Tasnim\\AppData\\Local\\Temp\\ipykernel_16732\\1564753407.py#9\" target=\"_blank\"><span style=\"color: #7f7f7f; text-decoration-color: #7f7f7f\">9</span></a>\n",
       "</pre>\n"
      ],
      "text/plain": [
       "\u001b[2;36m[05/22/25 22:30:28]\u001b[0m\u001b[2;36m \u001b[0m\u001b[34mINFO    \u001b[0m ✓ \u001b[1;36m251.\u001b[0mtxt → Basic\\Gemini\\\u001b[1;36m251.\u001b[0mcc                                        \u001b]8;id=320231;file://C:\\Users\\Tasnim\\AppData\\Local\\Temp\\ipykernel_16732\\1564753407.py\u001b\\\u001b[2m1564753407.py\u001b[0m\u001b]8;;\u001b\\\u001b[2m:\u001b[0m\u001b]8;id=990582;file://C:\\Users\\Tasnim\\AppData\\Local\\Temp\\ipykernel_16732\\1564753407.py#9\u001b\\\u001b[2m9\u001b[0m\u001b]8;;\u001b\\\n"
      ]
     },
     "metadata": {},
     "output_type": "display_data"
    },
    {
     "name": "stderr",
     "output_type": "stream",
     "text": [
      "Generating:  63%|██████▎   | 251/400 [3:03:09<48:07, 19.38s/it]"
     ]
    },
    {
     "data": {
      "text/html": [
       "<pre style=\"white-space:pre;overflow-x:auto;line-height:normal;font-family:Menlo,'DejaVu Sans Mono',consolas,'Courier New',monospace\"><span style=\"color: #7fbfbf; text-decoration-color: #7fbfbf\">[05/22/25 22:30:54] </span><span style=\"color: #000080; text-decoration-color: #000080\">INFO    </span> ✓ <span style=\"color: #008080; text-decoration-color: #008080; font-weight: bold\">252.</span>txt → Basic\\Gemini\\<span style=\"color: #008080; text-decoration-color: #008080; font-weight: bold\">252.</span>cc                                        <a href=\"file://C:\\Users\\Tasnim\\AppData\\Local\\Temp\\ipykernel_16732\\1564753407.py\" target=\"_blank\"><span style=\"color: #7f7f7f; text-decoration-color: #7f7f7f\">1564753407.py</span></a><span style=\"color: #7f7f7f; text-decoration-color: #7f7f7f\">:</span><a href=\"file://C:\\Users\\Tasnim\\AppData\\Local\\Temp\\ipykernel_16732\\1564753407.py#9\" target=\"_blank\"><span style=\"color: #7f7f7f; text-decoration-color: #7f7f7f\">9</span></a>\n",
       "</pre>\n"
      ],
      "text/plain": [
       "\u001b[2;36m[05/22/25 22:30:54]\u001b[0m\u001b[2;36m \u001b[0m\u001b[34mINFO    \u001b[0m ✓ \u001b[1;36m252.\u001b[0mtxt → Basic\\Gemini\\\u001b[1;36m252.\u001b[0mcc                                        \u001b]8;id=693425;file://C:\\Users\\Tasnim\\AppData\\Local\\Temp\\ipykernel_16732\\1564753407.py\u001b\\\u001b[2m1564753407.py\u001b[0m\u001b]8;;\u001b\\\u001b[2m:\u001b[0m\u001b]8;id=353252;file://C:\\Users\\Tasnim\\AppData\\Local\\Temp\\ipykernel_16732\\1564753407.py#9\u001b\\\u001b[2m9\u001b[0m\u001b]8;;\u001b\\\n"
      ]
     },
     "metadata": {},
     "output_type": "display_data"
    },
    {
     "name": "stderr",
     "output_type": "stream",
     "text": [
      "Generating:  63%|██████▎   | 252/400 [3:03:35<52:36, 21.32s/it]"
     ]
    },
    {
     "data": {
      "text/html": [
       "<pre style=\"white-space:pre;overflow-x:auto;line-height:normal;font-family:Menlo,'DejaVu Sans Mono',consolas,'Courier New',monospace\"><span style=\"color: #7fbfbf; text-decoration-color: #7fbfbf\">[05/22/25 22:31:10] </span><span style=\"color: #000080; text-decoration-color: #000080\">INFO    </span> ✓ <span style=\"color: #008080; text-decoration-color: #008080; font-weight: bold\">253.</span>txt → Basic\\Gemini\\<span style=\"color: #008080; text-decoration-color: #008080; font-weight: bold\">253.</span>cc                                        <a href=\"file://C:\\Users\\Tasnim\\AppData\\Local\\Temp\\ipykernel_16732\\1564753407.py\" target=\"_blank\"><span style=\"color: #7f7f7f; text-decoration-color: #7f7f7f\">1564753407.py</span></a><span style=\"color: #7f7f7f; text-decoration-color: #7f7f7f\">:</span><a href=\"file://C:\\Users\\Tasnim\\AppData\\Local\\Temp\\ipykernel_16732\\1564753407.py#9\" target=\"_blank\"><span style=\"color: #7f7f7f; text-decoration-color: #7f7f7f\">9</span></a>\n",
       "</pre>\n"
      ],
      "text/plain": [
       "\u001b[2;36m[05/22/25 22:31:10]\u001b[0m\u001b[2;36m \u001b[0m\u001b[34mINFO    \u001b[0m ✓ \u001b[1;36m253.\u001b[0mtxt → Basic\\Gemini\\\u001b[1;36m253.\u001b[0mcc                                        \u001b]8;id=484466;file://C:\\Users\\Tasnim\\AppData\\Local\\Temp\\ipykernel_16732\\1564753407.py\u001b\\\u001b[2m1564753407.py\u001b[0m\u001b]8;;\u001b\\\u001b[2m:\u001b[0m\u001b]8;id=51023;file://C:\\Users\\Tasnim\\AppData\\Local\\Temp\\ipykernel_16732\\1564753407.py#9\u001b\\\u001b[2m9\u001b[0m\u001b]8;;\u001b\\\n"
      ]
     },
     "metadata": {},
     "output_type": "display_data"
    },
    {
     "name": "stderr",
     "output_type": "stream",
     "text": [
      "Generating:  63%|██████▎   | 253/400 [3:03:51<48:16, 19.70s/it]"
     ]
    },
    {
     "data": {
      "text/html": [
       "<pre style=\"white-space:pre;overflow-x:auto;line-height:normal;font-family:Menlo,'DejaVu Sans Mono',consolas,'Courier New',monospace\"><span style=\"color: #7fbfbf; text-decoration-color: #7fbfbf\">[05/22/25 22:31:28] </span><span style=\"color: #000080; text-decoration-color: #000080\">INFO    </span> ✓ <span style=\"color: #008080; text-decoration-color: #008080; font-weight: bold\">254.</span>txt → Basic\\Gemini\\<span style=\"color: #008080; text-decoration-color: #008080; font-weight: bold\">254.</span>cc                                        <a href=\"file://C:\\Users\\Tasnim\\AppData\\Local\\Temp\\ipykernel_16732\\1564753407.py\" target=\"_blank\"><span style=\"color: #7f7f7f; text-decoration-color: #7f7f7f\">1564753407.py</span></a><span style=\"color: #7f7f7f; text-decoration-color: #7f7f7f\">:</span><a href=\"file://C:\\Users\\Tasnim\\AppData\\Local\\Temp\\ipykernel_16732\\1564753407.py#9\" target=\"_blank\"><span style=\"color: #7f7f7f; text-decoration-color: #7f7f7f\">9</span></a>\n",
       "</pre>\n"
      ],
      "text/plain": [
       "\u001b[2;36m[05/22/25 22:31:28]\u001b[0m\u001b[2;36m \u001b[0m\u001b[34mINFO    \u001b[0m ✓ \u001b[1;36m254.\u001b[0mtxt → Basic\\Gemini\\\u001b[1;36m254.\u001b[0mcc                                        \u001b]8;id=740051;file://C:\\Users\\Tasnim\\AppData\\Local\\Temp\\ipykernel_16732\\1564753407.py\u001b\\\u001b[2m1564753407.py\u001b[0m\u001b]8;;\u001b\\\u001b[2m:\u001b[0m\u001b]8;id=369392;file://C:\\Users\\Tasnim\\AppData\\Local\\Temp\\ipykernel_16732\\1564753407.py#9\u001b\\\u001b[2m9\u001b[0m\u001b]8;;\u001b\\\n"
      ]
     },
     "metadata": {},
     "output_type": "display_data"
    },
    {
     "name": "stderr",
     "output_type": "stream",
     "text": [
      "Generating:  64%|██████▎   | 254/400 [3:04:08<46:17, 19.03s/it]"
     ]
    },
    {
     "data": {
      "text/html": [
       "<pre style=\"white-space:pre;overflow-x:auto;line-height:normal;font-family:Menlo,'DejaVu Sans Mono',consolas,'Courier New',monospace\"><span style=\"color: #7fbfbf; text-decoration-color: #7fbfbf\">[05/22/25 22:31:54] </span><span style=\"color: #000080; text-decoration-color: #000080\">INFO    </span> ✓ <span style=\"color: #008080; text-decoration-color: #008080; font-weight: bold\">255.</span>txt → Basic\\Gemini\\<span style=\"color: #008080; text-decoration-color: #008080; font-weight: bold\">255.</span>cc                                        <a href=\"file://C:\\Users\\Tasnim\\AppData\\Local\\Temp\\ipykernel_16732\\1564753407.py\" target=\"_blank\"><span style=\"color: #7f7f7f; text-decoration-color: #7f7f7f\">1564753407.py</span></a><span style=\"color: #7f7f7f; text-decoration-color: #7f7f7f\">:</span><a href=\"file://C:\\Users\\Tasnim\\AppData\\Local\\Temp\\ipykernel_16732\\1564753407.py#9\" target=\"_blank\"><span style=\"color: #7f7f7f; text-decoration-color: #7f7f7f\">9</span></a>\n",
       "</pre>\n"
      ],
      "text/plain": [
       "\u001b[2;36m[05/22/25 22:31:54]\u001b[0m\u001b[2;36m \u001b[0m\u001b[34mINFO    \u001b[0m ✓ \u001b[1;36m255.\u001b[0mtxt → Basic\\Gemini\\\u001b[1;36m255.\u001b[0mcc                                        \u001b]8;id=86705;file://C:\\Users\\Tasnim\\AppData\\Local\\Temp\\ipykernel_16732\\1564753407.py\u001b\\\u001b[2m1564753407.py\u001b[0m\u001b]8;;\u001b\\\u001b[2m:\u001b[0m\u001b]8;id=615780;file://C:\\Users\\Tasnim\\AppData\\Local\\Temp\\ipykernel_16732\\1564753407.py#9\u001b\\\u001b[2m9\u001b[0m\u001b]8;;\u001b\\\n"
      ]
     },
     "metadata": {},
     "output_type": "display_data"
    },
    {
     "name": "stderr",
     "output_type": "stream",
     "text": [
      "Generating:  64%|██████▍   | 255/400 [3:04:35<51:32, 21.33s/it]"
     ]
    },
    {
     "data": {
      "text/html": [
       "<pre style=\"white-space:pre;overflow-x:auto;line-height:normal;font-family:Menlo,'DejaVu Sans Mono',consolas,'Courier New',monospace\"><span style=\"color: #7fbfbf; text-decoration-color: #7fbfbf\">[05/22/25 22:32:11] </span><span style=\"color: #000080; text-decoration-color: #000080\">INFO    </span> ✓ <span style=\"color: #008080; text-decoration-color: #008080; font-weight: bold\">256.</span>txt → Basic\\Gemini\\<span style=\"color: #008080; text-decoration-color: #008080; font-weight: bold\">256.</span>cc                                        <a href=\"file://C:\\Users\\Tasnim\\AppData\\Local\\Temp\\ipykernel_16732\\1564753407.py\" target=\"_blank\"><span style=\"color: #7f7f7f; text-decoration-color: #7f7f7f\">1564753407.py</span></a><span style=\"color: #7f7f7f; text-decoration-color: #7f7f7f\">:</span><a href=\"file://C:\\Users\\Tasnim\\AppData\\Local\\Temp\\ipykernel_16732\\1564753407.py#9\" target=\"_blank\"><span style=\"color: #7f7f7f; text-decoration-color: #7f7f7f\">9</span></a>\n",
       "</pre>\n"
      ],
      "text/plain": [
       "\u001b[2;36m[05/22/25 22:32:11]\u001b[0m\u001b[2;36m \u001b[0m\u001b[34mINFO    \u001b[0m ✓ \u001b[1;36m256.\u001b[0mtxt → Basic\\Gemini\\\u001b[1;36m256.\u001b[0mcc                                        \u001b]8;id=196677;file://C:\\Users\\Tasnim\\AppData\\Local\\Temp\\ipykernel_16732\\1564753407.py\u001b\\\u001b[2m1564753407.py\u001b[0m\u001b]8;;\u001b\\\u001b[2m:\u001b[0m\u001b]8;id=479050;file://C:\\Users\\Tasnim\\AppData\\Local\\Temp\\ipykernel_16732\\1564753407.py#9\u001b\\\u001b[2m9\u001b[0m\u001b]8;;\u001b\\\n"
      ]
     },
     "metadata": {},
     "output_type": "display_data"
    },
    {
     "name": "stderr",
     "output_type": "stream",
     "text": [
      "Generating:  64%|██████▍   | 256/400 [3:04:52<47:47, 19.91s/it]"
     ]
    },
    {
     "data": {
      "text/html": [
       "<pre style=\"white-space:pre;overflow-x:auto;line-height:normal;font-family:Menlo,'DejaVu Sans Mono',consolas,'Courier New',monospace\"><span style=\"color: #7fbfbf; text-decoration-color: #7fbfbf\">[05/22/25 22:32:34] </span><span style=\"color: #000080; text-decoration-color: #000080\">INFO    </span> ✓ <span style=\"color: #008080; text-decoration-color: #008080; font-weight: bold\">257.</span>txt → Basic\\Gemini\\<span style=\"color: #008080; text-decoration-color: #008080; font-weight: bold\">257.</span>cc                                        <a href=\"file://C:\\Users\\Tasnim\\AppData\\Local\\Temp\\ipykernel_16732\\1564753407.py\" target=\"_blank\"><span style=\"color: #7f7f7f; text-decoration-color: #7f7f7f\">1564753407.py</span></a><span style=\"color: #7f7f7f; text-decoration-color: #7f7f7f\">:</span><a href=\"file://C:\\Users\\Tasnim\\AppData\\Local\\Temp\\ipykernel_16732\\1564753407.py#9\" target=\"_blank\"><span style=\"color: #7f7f7f; text-decoration-color: #7f7f7f\">9</span></a>\n",
       "</pre>\n"
      ],
      "text/plain": [
       "\u001b[2;36m[05/22/25 22:32:34]\u001b[0m\u001b[2;36m \u001b[0m\u001b[34mINFO    \u001b[0m ✓ \u001b[1;36m257.\u001b[0mtxt → Basic\\Gemini\\\u001b[1;36m257.\u001b[0mcc                                        \u001b]8;id=904875;file://C:\\Users\\Tasnim\\AppData\\Local\\Temp\\ipykernel_16732\\1564753407.py\u001b\\\u001b[2m1564753407.py\u001b[0m\u001b]8;;\u001b\\\u001b[2m:\u001b[0m\u001b]8;id=990713;file://C:\\Users\\Tasnim\\AppData\\Local\\Temp\\ipykernel_16732\\1564753407.py#9\u001b\\\u001b[2m9\u001b[0m\u001b]8;;\u001b\\\n"
      ]
     },
     "metadata": {},
     "output_type": "display_data"
    },
    {
     "name": "stderr",
     "output_type": "stream",
     "text": [
      "Generating:  64%|██████▍   | 257/400 [3:05:15<49:43, 20.86s/it]"
     ]
    },
    {
     "data": {
      "text/html": [
       "<pre style=\"white-space:pre;overflow-x:auto;line-height:normal;font-family:Menlo,'DejaVu Sans Mono',consolas,'Courier New',monospace\"><span style=\"color: #7fbfbf; text-decoration-color: #7fbfbf\">[05/22/25 22:33:06] </span><span style=\"color: #000080; text-decoration-color: #000080\">INFO    </span> ✓ <span style=\"color: #008080; text-decoration-color: #008080; font-weight: bold\">258.</span>txt → Basic\\Gemini\\<span style=\"color: #008080; text-decoration-color: #008080; font-weight: bold\">258.</span>cc                                        <a href=\"file://C:\\Users\\Tasnim\\AppData\\Local\\Temp\\ipykernel_16732\\1564753407.py\" target=\"_blank\"><span style=\"color: #7f7f7f; text-decoration-color: #7f7f7f\">1564753407.py</span></a><span style=\"color: #7f7f7f; text-decoration-color: #7f7f7f\">:</span><a href=\"file://C:\\Users\\Tasnim\\AppData\\Local\\Temp\\ipykernel_16732\\1564753407.py#9\" target=\"_blank\"><span style=\"color: #7f7f7f; text-decoration-color: #7f7f7f\">9</span></a>\n",
       "</pre>\n"
      ],
      "text/plain": [
       "\u001b[2;36m[05/22/25 22:33:06]\u001b[0m\u001b[2;36m \u001b[0m\u001b[34mINFO    \u001b[0m ✓ \u001b[1;36m258.\u001b[0mtxt → Basic\\Gemini\\\u001b[1;36m258.\u001b[0mcc                                        \u001b]8;id=526562;file://C:\\Users\\Tasnim\\AppData\\Local\\Temp\\ipykernel_16732\\1564753407.py\u001b\\\u001b[2m1564753407.py\u001b[0m\u001b]8;;\u001b\\\u001b[2m:\u001b[0m\u001b]8;id=163447;file://C:\\Users\\Tasnim\\AppData\\Local\\Temp\\ipykernel_16732\\1564753407.py#9\u001b\\\u001b[2m9\u001b[0m\u001b]8;;\u001b\\\n"
      ]
     },
     "metadata": {},
     "output_type": "display_data"
    },
    {
     "name": "stderr",
     "output_type": "stream",
     "text": [
      "Generating:  64%|██████▍   | 258/400 [3:05:47<57:30, 24.30s/it]"
     ]
    },
    {
     "data": {
      "text/html": [
       "<pre style=\"white-space:pre;overflow-x:auto;line-height:normal;font-family:Menlo,'DejaVu Sans Mono',consolas,'Courier New',monospace\"><span style=\"color: #7fbfbf; text-decoration-color: #7fbfbf\">[05/22/25 22:33:37] </span><span style=\"color: #000080; text-decoration-color: #000080\">INFO    </span> ✓ <span style=\"color: #008080; text-decoration-color: #008080; font-weight: bold\">259.</span>txt → Basic\\Gemini\\<span style=\"color: #008080; text-decoration-color: #008080; font-weight: bold\">259.</span>cc                                        <a href=\"file://C:\\Users\\Tasnim\\AppData\\Local\\Temp\\ipykernel_16732\\1564753407.py\" target=\"_blank\"><span style=\"color: #7f7f7f; text-decoration-color: #7f7f7f\">1564753407.py</span></a><span style=\"color: #7f7f7f; text-decoration-color: #7f7f7f\">:</span><a href=\"file://C:\\Users\\Tasnim\\AppData\\Local\\Temp\\ipykernel_16732\\1564753407.py#9\" target=\"_blank\"><span style=\"color: #7f7f7f; text-decoration-color: #7f7f7f\">9</span></a>\n",
       "</pre>\n"
      ],
      "text/plain": [
       "\u001b[2;36m[05/22/25 22:33:37]\u001b[0m\u001b[2;36m \u001b[0m\u001b[34mINFO    \u001b[0m ✓ \u001b[1;36m259.\u001b[0mtxt → Basic\\Gemini\\\u001b[1;36m259.\u001b[0mcc                                        \u001b]8;id=910563;file://C:\\Users\\Tasnim\\AppData\\Local\\Temp\\ipykernel_16732\\1564753407.py\u001b\\\u001b[2m1564753407.py\u001b[0m\u001b]8;;\u001b\\\u001b[2m:\u001b[0m\u001b]8;id=94059;file://C:\\Users\\Tasnim\\AppData\\Local\\Temp\\ipykernel_16732\\1564753407.py#9\u001b\\\u001b[2m9\u001b[0m\u001b]8;;\u001b\\\n"
      ]
     },
     "metadata": {},
     "output_type": "display_data"
    },
    {
     "name": "stderr",
     "output_type": "stream",
     "text": [
      "Generating:  65%|██████▍   | 259/400 [3:06:18<1:01:29, 26.17s/it]"
     ]
    },
    {
     "data": {
      "text/html": [
       "<pre style=\"white-space:pre;overflow-x:auto;line-height:normal;font-family:Menlo,'DejaVu Sans Mono',consolas,'Courier New',monospace\"><span style=\"color: #7fbfbf; text-decoration-color: #7fbfbf\">[05/22/25 22:33:56] </span><span style=\"color: #000080; text-decoration-color: #000080\">INFO    </span> ✓ <span style=\"color: #008080; text-decoration-color: #008080; font-weight: bold\">260.</span>txt → Basic\\Gemini\\<span style=\"color: #008080; text-decoration-color: #008080; font-weight: bold\">260.</span>cc                                        <a href=\"file://C:\\Users\\Tasnim\\AppData\\Local\\Temp\\ipykernel_16732\\1564753407.py\" target=\"_blank\"><span style=\"color: #7f7f7f; text-decoration-color: #7f7f7f\">1564753407.py</span></a><span style=\"color: #7f7f7f; text-decoration-color: #7f7f7f\">:</span><a href=\"file://C:\\Users\\Tasnim\\AppData\\Local\\Temp\\ipykernel_16732\\1564753407.py#9\" target=\"_blank\"><span style=\"color: #7f7f7f; text-decoration-color: #7f7f7f\">9</span></a>\n",
       "</pre>\n"
      ],
      "text/plain": [
       "\u001b[2;36m[05/22/25 22:33:56]\u001b[0m\u001b[2;36m \u001b[0m\u001b[34mINFO    \u001b[0m ✓ \u001b[1;36m260.\u001b[0mtxt → Basic\\Gemini\\\u001b[1;36m260.\u001b[0mcc                                        \u001b]8;id=708058;file://C:\\Users\\Tasnim\\AppData\\Local\\Temp\\ipykernel_16732\\1564753407.py\u001b\\\u001b[2m1564753407.py\u001b[0m\u001b]8;;\u001b\\\u001b[2m:\u001b[0m\u001b]8;id=849871;file://C:\\Users\\Tasnim\\AppData\\Local\\Temp\\ipykernel_16732\\1564753407.py#9\u001b\\\u001b[2m9\u001b[0m\u001b]8;;\u001b\\\n"
      ]
     },
     "metadata": {},
     "output_type": "display_data"
    },
    {
     "name": "stderr",
     "output_type": "stream",
     "text": [
      "Generating:  65%|██████▌   | 260/400 [3:06:36<55:52, 23.94s/it]  "
     ]
    },
    {
     "data": {
      "text/html": [
       "<pre style=\"white-space:pre;overflow-x:auto;line-height:normal;font-family:Menlo,'DejaVu Sans Mono',consolas,'Courier New',monospace\"><span style=\"color: #7fbfbf; text-decoration-color: #7fbfbf\">[05/22/25 22:34:25] </span><span style=\"color: #000080; text-decoration-color: #000080\">INFO    </span> ✓ <span style=\"color: #008080; text-decoration-color: #008080; font-weight: bold\">261.</span>txt → Basic\\Gemini\\<span style=\"color: #008080; text-decoration-color: #008080; font-weight: bold\">261.</span>cc                                        <a href=\"file://C:\\Users\\Tasnim\\AppData\\Local\\Temp\\ipykernel_16732\\1564753407.py\" target=\"_blank\"><span style=\"color: #7f7f7f; text-decoration-color: #7f7f7f\">1564753407.py</span></a><span style=\"color: #7f7f7f; text-decoration-color: #7f7f7f\">:</span><a href=\"file://C:\\Users\\Tasnim\\AppData\\Local\\Temp\\ipykernel_16732\\1564753407.py#9\" target=\"_blank\"><span style=\"color: #7f7f7f; text-decoration-color: #7f7f7f\">9</span></a>\n",
       "</pre>\n"
      ],
      "text/plain": [
       "\u001b[2;36m[05/22/25 22:34:25]\u001b[0m\u001b[2;36m \u001b[0m\u001b[34mINFO    \u001b[0m ✓ \u001b[1;36m261.\u001b[0mtxt → Basic\\Gemini\\\u001b[1;36m261.\u001b[0mcc                                        \u001b]8;id=758558;file://C:\\Users\\Tasnim\\AppData\\Local\\Temp\\ipykernel_16732\\1564753407.py\u001b\\\u001b[2m1564753407.py\u001b[0m\u001b]8;;\u001b\\\u001b[2m:\u001b[0m\u001b]8;id=266328;file://C:\\Users\\Tasnim\\AppData\\Local\\Temp\\ipykernel_16732\\1564753407.py#9\u001b\\\u001b[2m9\u001b[0m\u001b]8;;\u001b\\\n"
      ]
     },
     "metadata": {},
     "output_type": "display_data"
    },
    {
     "name": "stderr",
     "output_type": "stream",
     "text": [
      "Generating:  65%|██████▌   | 261/400 [3:07:06<59:23, 25.64s/it]"
     ]
    },
    {
     "data": {
      "text/html": [
       "<pre style=\"white-space:pre;overflow-x:auto;line-height:normal;font-family:Menlo,'DejaVu Sans Mono',consolas,'Courier New',monospace\"><span style=\"color: #7fbfbf; text-decoration-color: #7fbfbf\">[05/22/25 22:34:46] </span><span style=\"color: #000080; text-decoration-color: #000080\">INFO    </span> ✓ <span style=\"color: #008080; text-decoration-color: #008080; font-weight: bold\">262.</span>txt → Basic\\Gemini\\<span style=\"color: #008080; text-decoration-color: #008080; font-weight: bold\">262.</span>cc                                        <a href=\"file://C:\\Users\\Tasnim\\AppData\\Local\\Temp\\ipykernel_16732\\1564753407.py\" target=\"_blank\"><span style=\"color: #7f7f7f; text-decoration-color: #7f7f7f\">1564753407.py</span></a><span style=\"color: #7f7f7f; text-decoration-color: #7f7f7f\">:</span><a href=\"file://C:\\Users\\Tasnim\\AppData\\Local\\Temp\\ipykernel_16732\\1564753407.py#9\" target=\"_blank\"><span style=\"color: #7f7f7f; text-decoration-color: #7f7f7f\">9</span></a>\n",
       "</pre>\n"
      ],
      "text/plain": [
       "\u001b[2;36m[05/22/25 22:34:46]\u001b[0m\u001b[2;36m \u001b[0m\u001b[34mINFO    \u001b[0m ✓ \u001b[1;36m262.\u001b[0mtxt → Basic\\Gemini\\\u001b[1;36m262.\u001b[0mcc                                        \u001b]8;id=411448;file://C:\\Users\\Tasnim\\AppData\\Local\\Temp\\ipykernel_16732\\1564753407.py\u001b\\\u001b[2m1564753407.py\u001b[0m\u001b]8;;\u001b\\\u001b[2m:\u001b[0m\u001b]8;id=772594;file://C:\\Users\\Tasnim\\AppData\\Local\\Temp\\ipykernel_16732\\1564753407.py#9\u001b\\\u001b[2m9\u001b[0m\u001b]8;;\u001b\\\n"
      ]
     },
     "metadata": {},
     "output_type": "display_data"
    },
    {
     "name": "stderr",
     "output_type": "stream",
     "text": [
      "Generating:  66%|██████▌   | 262/400 [3:07:27<55:32, 24.15s/it]"
     ]
    },
    {
     "data": {
      "text/html": [
       "<pre style=\"white-space:pre;overflow-x:auto;line-height:normal;font-family:Menlo,'DejaVu Sans Mono',consolas,'Courier New',monospace\"><span style=\"color: #7fbfbf; text-decoration-color: #7fbfbf\">[05/22/25 22:35:14] </span><span style=\"color: #000080; text-decoration-color: #000080\">INFO    </span> ✓ <span style=\"color: #008080; text-decoration-color: #008080; font-weight: bold\">263.</span>txt → Basic\\Gemini\\<span style=\"color: #008080; text-decoration-color: #008080; font-weight: bold\">263.</span>cc                                        <a href=\"file://C:\\Users\\Tasnim\\AppData\\Local\\Temp\\ipykernel_16732\\1564753407.py\" target=\"_blank\"><span style=\"color: #7f7f7f; text-decoration-color: #7f7f7f\">1564753407.py</span></a><span style=\"color: #7f7f7f; text-decoration-color: #7f7f7f\">:</span><a href=\"file://C:\\Users\\Tasnim\\AppData\\Local\\Temp\\ipykernel_16732\\1564753407.py#9\" target=\"_blank\"><span style=\"color: #7f7f7f; text-decoration-color: #7f7f7f\">9</span></a>\n",
       "</pre>\n"
      ],
      "text/plain": [
       "\u001b[2;36m[05/22/25 22:35:14]\u001b[0m\u001b[2;36m \u001b[0m\u001b[34mINFO    \u001b[0m ✓ \u001b[1;36m263.\u001b[0mtxt → Basic\\Gemini\\\u001b[1;36m263.\u001b[0mcc                                        \u001b]8;id=871068;file://C:\\Users\\Tasnim\\AppData\\Local\\Temp\\ipykernel_16732\\1564753407.py\u001b\\\u001b[2m1564753407.py\u001b[0m\u001b]8;;\u001b\\\u001b[2m:\u001b[0m\u001b]8;id=931052;file://C:\\Users\\Tasnim\\AppData\\Local\\Temp\\ipykernel_16732\\1564753407.py#9\u001b\\\u001b[2m9\u001b[0m\u001b]8;;\u001b\\\n"
      ]
     },
     "metadata": {},
     "output_type": "display_data"
    },
    {
     "name": "stderr",
     "output_type": "stream",
     "text": [
      "Generating:  66%|██████▌   | 263/400 [3:07:55<58:13, 25.50s/it]"
     ]
    },
    {
     "data": {
      "text/html": [
       "<pre style=\"white-space:pre;overflow-x:auto;line-height:normal;font-family:Menlo,'DejaVu Sans Mono',consolas,'Courier New',monospace\"><span style=\"color: #7fbfbf; text-decoration-color: #7fbfbf\">[05/22/25 22:35:29] </span><span style=\"color: #000080; text-decoration-color: #000080\">INFO    </span> ✓ <span style=\"color: #008080; text-decoration-color: #008080; font-weight: bold\">264.</span>txt → Basic\\Gemini\\<span style=\"color: #008080; text-decoration-color: #008080; font-weight: bold\">264.</span>cc                                        <a href=\"file://C:\\Users\\Tasnim\\AppData\\Local\\Temp\\ipykernel_16732\\1564753407.py\" target=\"_blank\"><span style=\"color: #7f7f7f; text-decoration-color: #7f7f7f\">1564753407.py</span></a><span style=\"color: #7f7f7f; text-decoration-color: #7f7f7f\">:</span><a href=\"file://C:\\Users\\Tasnim\\AppData\\Local\\Temp\\ipykernel_16732\\1564753407.py#9\" target=\"_blank\"><span style=\"color: #7f7f7f; text-decoration-color: #7f7f7f\">9</span></a>\n",
       "</pre>\n"
      ],
      "text/plain": [
       "\u001b[2;36m[05/22/25 22:35:29]\u001b[0m\u001b[2;36m \u001b[0m\u001b[34mINFO    \u001b[0m ✓ \u001b[1;36m264.\u001b[0mtxt → Basic\\Gemini\\\u001b[1;36m264.\u001b[0mcc                                        \u001b]8;id=553296;file://C:\\Users\\Tasnim\\AppData\\Local\\Temp\\ipykernel_16732\\1564753407.py\u001b\\\u001b[2m1564753407.py\u001b[0m\u001b]8;;\u001b\\\u001b[2m:\u001b[0m\u001b]8;id=944300;file://C:\\Users\\Tasnim\\AppData\\Local\\Temp\\ipykernel_16732\\1564753407.py#9\u001b\\\u001b[2m9\u001b[0m\u001b]8;;\u001b\\\n"
      ]
     },
     "metadata": {},
     "output_type": "display_data"
    },
    {
     "name": "stderr",
     "output_type": "stream",
     "text": [
      "Generating:  66%|██████▌   | 264/400 [3:08:10<50:20, 22.21s/it]"
     ]
    },
    {
     "data": {
      "text/html": [
       "<pre style=\"white-space:pre;overflow-x:auto;line-height:normal;font-family:Menlo,'DejaVu Sans Mono',consolas,'Courier New',monospace\"><span style=\"color: #7fbfbf; text-decoration-color: #7fbfbf\">[05/22/25 22:35:59] </span><span style=\"color: #000080; text-decoration-color: #000080\">INFO    </span> ✓ <span style=\"color: #008080; text-decoration-color: #008080; font-weight: bold\">265.</span>txt → Basic\\Gemini\\<span style=\"color: #008080; text-decoration-color: #008080; font-weight: bold\">265.</span>cc                                        <a href=\"file://C:\\Users\\Tasnim\\AppData\\Local\\Temp\\ipykernel_16732\\1564753407.py\" target=\"_blank\"><span style=\"color: #7f7f7f; text-decoration-color: #7f7f7f\">1564753407.py</span></a><span style=\"color: #7f7f7f; text-decoration-color: #7f7f7f\">:</span><a href=\"file://C:\\Users\\Tasnim\\AppData\\Local\\Temp\\ipykernel_16732\\1564753407.py#9\" target=\"_blank\"><span style=\"color: #7f7f7f; text-decoration-color: #7f7f7f\">9</span></a>\n",
       "</pre>\n"
      ],
      "text/plain": [
       "\u001b[2;36m[05/22/25 22:35:59]\u001b[0m\u001b[2;36m \u001b[0m\u001b[34mINFO    \u001b[0m ✓ \u001b[1;36m265.\u001b[0mtxt → Basic\\Gemini\\\u001b[1;36m265.\u001b[0mcc                                        \u001b]8;id=817903;file://C:\\Users\\Tasnim\\AppData\\Local\\Temp\\ipykernel_16732\\1564753407.py\u001b\\\u001b[2m1564753407.py\u001b[0m\u001b]8;;\u001b\\\u001b[2m:\u001b[0m\u001b]8;id=736317;file://C:\\Users\\Tasnim\\AppData\\Local\\Temp\\ipykernel_16732\\1564753407.py#9\u001b\\\u001b[2m9\u001b[0m\u001b]8;;\u001b\\\n"
      ]
     },
     "metadata": {},
     "output_type": "display_data"
    },
    {
     "name": "stderr",
     "output_type": "stream",
     "text": [
      "Generating:  66%|██████▋   | 265/400 [3:08:40<55:07, 24.50s/it]"
     ]
    },
    {
     "data": {
      "text/html": [
       "<pre style=\"white-space:pre;overflow-x:auto;line-height:normal;font-family:Menlo,'DejaVu Sans Mono',consolas,'Courier New',monospace\"><span style=\"color: #7fbfbf; text-decoration-color: #7fbfbf\">[05/22/25 22:36:15] </span><span style=\"color: #000080; text-decoration-color: #000080\">INFO    </span> ✓ <span style=\"color: #008080; text-decoration-color: #008080; font-weight: bold\">266.</span>txt → Basic\\Gemini\\<span style=\"color: #008080; text-decoration-color: #008080; font-weight: bold\">266.</span>cc                                        <a href=\"file://C:\\Users\\Tasnim\\AppData\\Local\\Temp\\ipykernel_16732\\1564753407.py\" target=\"_blank\"><span style=\"color: #7f7f7f; text-decoration-color: #7f7f7f\">1564753407.py</span></a><span style=\"color: #7f7f7f; text-decoration-color: #7f7f7f\">:</span><a href=\"file://C:\\Users\\Tasnim\\AppData\\Local\\Temp\\ipykernel_16732\\1564753407.py#9\" target=\"_blank\"><span style=\"color: #7f7f7f; text-decoration-color: #7f7f7f\">9</span></a>\n",
       "</pre>\n"
      ],
      "text/plain": [
       "\u001b[2;36m[05/22/25 22:36:15]\u001b[0m\u001b[2;36m \u001b[0m\u001b[34mINFO    \u001b[0m ✓ \u001b[1;36m266.\u001b[0mtxt → Basic\\Gemini\\\u001b[1;36m266.\u001b[0mcc                                        \u001b]8;id=78318;file://C:\\Users\\Tasnim\\AppData\\Local\\Temp\\ipykernel_16732\\1564753407.py\u001b\\\u001b[2m1564753407.py\u001b[0m\u001b]8;;\u001b\\\u001b[2m:\u001b[0m\u001b]8;id=346664;file://C:\\Users\\Tasnim\\AppData\\Local\\Temp\\ipykernel_16732\\1564753407.py#9\u001b\\\u001b[2m9\u001b[0m\u001b]8;;\u001b\\\n"
      ]
     },
     "metadata": {},
     "output_type": "display_data"
    },
    {
     "name": "stderr",
     "output_type": "stream",
     "text": [
      "Generating:  66%|██████▋   | 266/400 [3:08:56<49:10, 22.02s/it]"
     ]
    },
    {
     "data": {
      "text/html": [
       "<pre style=\"white-space:pre;overflow-x:auto;line-height:normal;font-family:Menlo,'DejaVu Sans Mono',consolas,'Courier New',monospace\"><span style=\"color: #7fbfbf; text-decoration-color: #7fbfbf\">[05/22/25 22:36:33] </span><span style=\"color: #000080; text-decoration-color: #000080\">INFO    </span> ✓ <span style=\"color: #008080; text-decoration-color: #008080; font-weight: bold\">267.</span>txt → Basic\\Gemini\\<span style=\"color: #008080; text-decoration-color: #008080; font-weight: bold\">267.</span>cc                                        <a href=\"file://C:\\Users\\Tasnim\\AppData\\Local\\Temp\\ipykernel_16732\\1564753407.py\" target=\"_blank\"><span style=\"color: #7f7f7f; text-decoration-color: #7f7f7f\">1564753407.py</span></a><span style=\"color: #7f7f7f; text-decoration-color: #7f7f7f\">:</span><a href=\"file://C:\\Users\\Tasnim\\AppData\\Local\\Temp\\ipykernel_16732\\1564753407.py#9\" target=\"_blank\"><span style=\"color: #7f7f7f; text-decoration-color: #7f7f7f\">9</span></a>\n",
       "</pre>\n"
      ],
      "text/plain": [
       "\u001b[2;36m[05/22/25 22:36:33]\u001b[0m\u001b[2;36m \u001b[0m\u001b[34mINFO    \u001b[0m ✓ \u001b[1;36m267.\u001b[0mtxt → Basic\\Gemini\\\u001b[1;36m267.\u001b[0mcc                                        \u001b]8;id=172152;file://C:\\Users\\Tasnim\\AppData\\Local\\Temp\\ipykernel_16732\\1564753407.py\u001b\\\u001b[2m1564753407.py\u001b[0m\u001b]8;;\u001b\\\u001b[2m:\u001b[0m\u001b]8;id=154473;file://C:\\Users\\Tasnim\\AppData\\Local\\Temp\\ipykernel_16732\\1564753407.py#9\u001b\\\u001b[2m9\u001b[0m\u001b]8;;\u001b\\\n"
      ]
     },
     "metadata": {},
     "output_type": "display_data"
    },
    {
     "name": "stderr",
     "output_type": "stream",
     "text": [
      "Generating:  67%|██████▋   | 267/400 [3:09:14<46:14, 20.86s/it]"
     ]
    },
    {
     "data": {
      "text/html": [
       "<pre style=\"white-space:pre;overflow-x:auto;line-height:normal;font-family:Menlo,'DejaVu Sans Mono',consolas,'Courier New',monospace\"><span style=\"color: #7fbfbf; text-decoration-color: #7fbfbf\">[05/22/25 22:36:52] </span><span style=\"color: #000080; text-decoration-color: #000080\">INFO    </span> ✓ <span style=\"color: #008080; text-decoration-color: #008080; font-weight: bold\">268.</span>txt → Basic\\Gemini\\<span style=\"color: #008080; text-decoration-color: #008080; font-weight: bold\">268.</span>cc                                        <a href=\"file://C:\\Users\\Tasnim\\AppData\\Local\\Temp\\ipykernel_16732\\1564753407.py\" target=\"_blank\"><span style=\"color: #7f7f7f; text-decoration-color: #7f7f7f\">1564753407.py</span></a><span style=\"color: #7f7f7f; text-decoration-color: #7f7f7f\">:</span><a href=\"file://C:\\Users\\Tasnim\\AppData\\Local\\Temp\\ipykernel_16732\\1564753407.py#9\" target=\"_blank\"><span style=\"color: #7f7f7f; text-decoration-color: #7f7f7f\">9</span></a>\n",
       "</pre>\n"
      ],
      "text/plain": [
       "\u001b[2;36m[05/22/25 22:36:52]\u001b[0m\u001b[2;36m \u001b[0m\u001b[34mINFO    \u001b[0m ✓ \u001b[1;36m268.\u001b[0mtxt → Basic\\Gemini\\\u001b[1;36m268.\u001b[0mcc                                        \u001b]8;id=373883;file://C:\\Users\\Tasnim\\AppData\\Local\\Temp\\ipykernel_16732\\1564753407.py\u001b\\\u001b[2m1564753407.py\u001b[0m\u001b]8;;\u001b\\\u001b[2m:\u001b[0m\u001b]8;id=527499;file://C:\\Users\\Tasnim\\AppData\\Local\\Temp\\ipykernel_16732\\1564753407.py#9\u001b\\\u001b[2m9\u001b[0m\u001b]8;;\u001b\\\n"
      ]
     },
     "metadata": {},
     "output_type": "display_data"
    },
    {
     "name": "stderr",
     "output_type": "stream",
     "text": [
      "Generating:  67%|██████▋   | 268/400 [3:09:33<44:26, 20.20s/it]"
     ]
    },
    {
     "data": {
      "text/html": [
       "<pre style=\"white-space:pre;overflow-x:auto;line-height:normal;font-family:Menlo,'DejaVu Sans Mono',consolas,'Courier New',monospace\"><span style=\"color: #7fbfbf; text-decoration-color: #7fbfbf\">[05/22/25 22:37:19] </span><span style=\"color: #000080; text-decoration-color: #000080\">INFO    </span> ✓ <span style=\"color: #008080; text-decoration-color: #008080; font-weight: bold\">269.</span>txt → Basic\\Gemini\\<span style=\"color: #008080; text-decoration-color: #008080; font-weight: bold\">269.</span>cc                                        <a href=\"file://C:\\Users\\Tasnim\\AppData\\Local\\Temp\\ipykernel_16732\\1564753407.py\" target=\"_blank\"><span style=\"color: #7f7f7f; text-decoration-color: #7f7f7f\">1564753407.py</span></a><span style=\"color: #7f7f7f; text-decoration-color: #7f7f7f\">:</span><a href=\"file://C:\\Users\\Tasnim\\AppData\\Local\\Temp\\ipykernel_16732\\1564753407.py#9\" target=\"_blank\"><span style=\"color: #7f7f7f; text-decoration-color: #7f7f7f\">9</span></a>\n",
       "</pre>\n"
      ],
      "text/plain": [
       "\u001b[2;36m[05/22/25 22:37:19]\u001b[0m\u001b[2;36m \u001b[0m\u001b[34mINFO    \u001b[0m ✓ \u001b[1;36m269.\u001b[0mtxt → Basic\\Gemini\\\u001b[1;36m269.\u001b[0mcc                                        \u001b]8;id=955256;file://C:\\Users\\Tasnim\\AppData\\Local\\Temp\\ipykernel_16732\\1564753407.py\u001b\\\u001b[2m1564753407.py\u001b[0m\u001b]8;;\u001b\\\u001b[2m:\u001b[0m\u001b]8;id=268005;file://C:\\Users\\Tasnim\\AppData\\Local\\Temp\\ipykernel_16732\\1564753407.py#9\u001b\\\u001b[2m9\u001b[0m\u001b]8;;\u001b\\\n"
      ]
     },
     "metadata": {},
     "output_type": "display_data"
    },
    {
     "name": "stderr",
     "output_type": "stream",
     "text": [
      "Generating:  67%|██████▋   | 269/400 [3:10:00<48:29, 22.21s/it]"
     ]
    },
    {
     "data": {
      "text/html": [
       "<pre style=\"white-space:pre;overflow-x:auto;line-height:normal;font-family:Menlo,'DejaVu Sans Mono',consolas,'Courier New',monospace\"><span style=\"color: #7fbfbf; text-decoration-color: #7fbfbf\">[05/22/25 22:37:44] </span><span style=\"color: #000080; text-decoration-color: #000080\">INFO    </span> ✓ <span style=\"color: #008080; text-decoration-color: #008080; font-weight: bold\">270.</span>txt → Basic\\Gemini\\<span style=\"color: #008080; text-decoration-color: #008080; font-weight: bold\">270.</span>cc                                        <a href=\"file://C:\\Users\\Tasnim\\AppData\\Local\\Temp\\ipykernel_16732\\1564753407.py\" target=\"_blank\"><span style=\"color: #7f7f7f; text-decoration-color: #7f7f7f\">1564753407.py</span></a><span style=\"color: #7f7f7f; text-decoration-color: #7f7f7f\">:</span><a href=\"file://C:\\Users\\Tasnim\\AppData\\Local\\Temp\\ipykernel_16732\\1564753407.py#9\" target=\"_blank\"><span style=\"color: #7f7f7f; text-decoration-color: #7f7f7f\">9</span></a>\n",
       "</pre>\n"
      ],
      "text/plain": [
       "\u001b[2;36m[05/22/25 22:37:44]\u001b[0m\u001b[2;36m \u001b[0m\u001b[34mINFO    \u001b[0m ✓ \u001b[1;36m270.\u001b[0mtxt → Basic\\Gemini\\\u001b[1;36m270.\u001b[0mcc                                        \u001b]8;id=811285;file://C:\\Users\\Tasnim\\AppData\\Local\\Temp\\ipykernel_16732\\1564753407.py\u001b\\\u001b[2m1564753407.py\u001b[0m\u001b]8;;\u001b\\\u001b[2m:\u001b[0m\u001b]8;id=488396;file://C:\\Users\\Tasnim\\AppData\\Local\\Temp\\ipykernel_16732\\1564753407.py#9\u001b\\\u001b[2m9\u001b[0m\u001b]8;;\u001b\\\n"
      ]
     },
     "metadata": {},
     "output_type": "display_data"
    },
    {
     "name": "stderr",
     "output_type": "stream",
     "text": [
      "Generating:  68%|██████▊   | 270/400 [3:10:24<49:46, 22.98s/it]"
     ]
    },
    {
     "data": {
      "text/html": [
       "<pre style=\"white-space:pre;overflow-x:auto;line-height:normal;font-family:Menlo,'DejaVu Sans Mono',consolas,'Courier New',monospace\"><span style=\"color: #7fbfbf; text-decoration-color: #7fbfbf\">[05/22/25 22:37:58] </span><span style=\"color: #000080; text-decoration-color: #000080\">INFO    </span> ✓ <span style=\"color: #008080; text-decoration-color: #008080; font-weight: bold\">271.</span>txt → Basic\\Gemini\\<span style=\"color: #008080; text-decoration-color: #008080; font-weight: bold\">271.</span>cc                                        <a href=\"file://C:\\Users\\Tasnim\\AppData\\Local\\Temp\\ipykernel_16732\\1564753407.py\" target=\"_blank\"><span style=\"color: #7f7f7f; text-decoration-color: #7f7f7f\">1564753407.py</span></a><span style=\"color: #7f7f7f; text-decoration-color: #7f7f7f\">:</span><a href=\"file://C:\\Users\\Tasnim\\AppData\\Local\\Temp\\ipykernel_16732\\1564753407.py#9\" target=\"_blank\"><span style=\"color: #7f7f7f; text-decoration-color: #7f7f7f\">9</span></a>\n",
       "</pre>\n"
      ],
      "text/plain": [
       "\u001b[2;36m[05/22/25 22:37:58]\u001b[0m\u001b[2;36m \u001b[0m\u001b[34mINFO    \u001b[0m ✓ \u001b[1;36m271.\u001b[0mtxt → Basic\\Gemini\\\u001b[1;36m271.\u001b[0mcc                                        \u001b]8;id=790096;file://C:\\Users\\Tasnim\\AppData\\Local\\Temp\\ipykernel_16732\\1564753407.py\u001b\\\u001b[2m1564753407.py\u001b[0m\u001b]8;;\u001b\\\u001b[2m:\u001b[0m\u001b]8;id=91449;file://C:\\Users\\Tasnim\\AppData\\Local\\Temp\\ipykernel_16732\\1564753407.py#9\u001b\\\u001b[2m9\u001b[0m\u001b]8;;\u001b\\\n"
      ]
     },
     "metadata": {},
     "output_type": "display_data"
    },
    {
     "name": "stderr",
     "output_type": "stream",
     "text": [
      "Generating:  68%|██████▊   | 271/400 [3:10:39<43:56, 20.44s/it]"
     ]
    },
    {
     "data": {
      "text/html": [
       "<pre style=\"white-space:pre;overflow-x:auto;line-height:normal;font-family:Menlo,'DejaVu Sans Mono',consolas,'Courier New',monospace\"><span style=\"color: #7fbfbf; text-decoration-color: #7fbfbf\">[05/22/25 22:38:18] </span><span style=\"color: #000080; text-decoration-color: #000080\">INFO    </span> ✓ <span style=\"color: #008080; text-decoration-color: #008080; font-weight: bold\">272.</span>txt → Basic\\Gemini\\<span style=\"color: #008080; text-decoration-color: #008080; font-weight: bold\">272.</span>cc                                        <a href=\"file://C:\\Users\\Tasnim\\AppData\\Local\\Temp\\ipykernel_16732\\1564753407.py\" target=\"_blank\"><span style=\"color: #7f7f7f; text-decoration-color: #7f7f7f\">1564753407.py</span></a><span style=\"color: #7f7f7f; text-decoration-color: #7f7f7f\">:</span><a href=\"file://C:\\Users\\Tasnim\\AppData\\Local\\Temp\\ipykernel_16732\\1564753407.py#9\" target=\"_blank\"><span style=\"color: #7f7f7f; text-decoration-color: #7f7f7f\">9</span></a>\n",
       "</pre>\n"
      ],
      "text/plain": [
       "\u001b[2;36m[05/22/25 22:38:18]\u001b[0m\u001b[2;36m \u001b[0m\u001b[34mINFO    \u001b[0m ✓ \u001b[1;36m272.\u001b[0mtxt → Basic\\Gemini\\\u001b[1;36m272.\u001b[0mcc                                        \u001b]8;id=594892;file://C:\\Users\\Tasnim\\AppData\\Local\\Temp\\ipykernel_16732\\1564753407.py\u001b\\\u001b[2m1564753407.py\u001b[0m\u001b]8;;\u001b\\\u001b[2m:\u001b[0m\u001b]8;id=384113;file://C:\\Users\\Tasnim\\AppData\\Local\\Temp\\ipykernel_16732\\1564753407.py#9\u001b\\\u001b[2m9\u001b[0m\u001b]8;;\u001b\\\n"
      ]
     },
     "metadata": {},
     "output_type": "display_data"
    },
    {
     "name": "stderr",
     "output_type": "stream",
     "text": [
      "Generating:  68%|██████▊   | 272/400 [3:10:59<43:21, 20.33s/it]"
     ]
    },
    {
     "data": {
      "text/html": [
       "<pre style=\"white-space:pre;overflow-x:auto;line-height:normal;font-family:Menlo,'DejaVu Sans Mono',consolas,'Courier New',monospace\"><span style=\"color: #7fbfbf; text-decoration-color: #7fbfbf\">[05/22/25 22:38:48] </span><span style=\"color: #000080; text-decoration-color: #000080\">INFO    </span> ✓ <span style=\"color: #008080; text-decoration-color: #008080; font-weight: bold\">273.</span>txt → Basic\\Gemini\\<span style=\"color: #008080; text-decoration-color: #008080; font-weight: bold\">273.</span>cc                                        <a href=\"file://C:\\Users\\Tasnim\\AppData\\Local\\Temp\\ipykernel_16732\\1564753407.py\" target=\"_blank\"><span style=\"color: #7f7f7f; text-decoration-color: #7f7f7f\">1564753407.py</span></a><span style=\"color: #7f7f7f; text-decoration-color: #7f7f7f\">:</span><a href=\"file://C:\\Users\\Tasnim\\AppData\\Local\\Temp\\ipykernel_16732\\1564753407.py#9\" target=\"_blank\"><span style=\"color: #7f7f7f; text-decoration-color: #7f7f7f\">9</span></a>\n",
       "</pre>\n"
      ],
      "text/plain": [
       "\u001b[2;36m[05/22/25 22:38:48]\u001b[0m\u001b[2;36m \u001b[0m\u001b[34mINFO    \u001b[0m ✓ \u001b[1;36m273.\u001b[0mtxt → Basic\\Gemini\\\u001b[1;36m273.\u001b[0mcc                                        \u001b]8;id=563515;file://C:\\Users\\Tasnim\\AppData\\Local\\Temp\\ipykernel_16732\\1564753407.py\u001b\\\u001b[2m1564753407.py\u001b[0m\u001b]8;;\u001b\\\u001b[2m:\u001b[0m\u001b]8;id=548368;file://C:\\Users\\Tasnim\\AppData\\Local\\Temp\\ipykernel_16732\\1564753407.py#9\u001b\\\u001b[2m9\u001b[0m\u001b]8;;\u001b\\\n"
      ]
     },
     "metadata": {},
     "output_type": "display_data"
    },
    {
     "name": "stderr",
     "output_type": "stream",
     "text": [
      "Generating:  68%|██████▊   | 273/400 [3:11:29<49:04, 23.19s/it]"
     ]
    },
    {
     "data": {
      "text/html": [
       "<pre style=\"white-space:pre;overflow-x:auto;line-height:normal;font-family:Menlo,'DejaVu Sans Mono',consolas,'Courier New',monospace\"><span style=\"color: #7fbfbf; text-decoration-color: #7fbfbf\">[05/22/25 22:39:10] </span><span style=\"color: #000080; text-decoration-color: #000080\">INFO    </span> ✓ <span style=\"color: #008080; text-decoration-color: #008080; font-weight: bold\">274.</span>txt → Basic\\Gemini\\<span style=\"color: #008080; text-decoration-color: #008080; font-weight: bold\">274.</span>cc                                        <a href=\"file://C:\\Users\\Tasnim\\AppData\\Local\\Temp\\ipykernel_16732\\1564753407.py\" target=\"_blank\"><span style=\"color: #7f7f7f; text-decoration-color: #7f7f7f\">1564753407.py</span></a><span style=\"color: #7f7f7f; text-decoration-color: #7f7f7f\">:</span><a href=\"file://C:\\Users\\Tasnim\\AppData\\Local\\Temp\\ipykernel_16732\\1564753407.py#9\" target=\"_blank\"><span style=\"color: #7f7f7f; text-decoration-color: #7f7f7f\">9</span></a>\n",
       "</pre>\n"
      ],
      "text/plain": [
       "\u001b[2;36m[05/22/25 22:39:10]\u001b[0m\u001b[2;36m \u001b[0m\u001b[34mINFO    \u001b[0m ✓ \u001b[1;36m274.\u001b[0mtxt → Basic\\Gemini\\\u001b[1;36m274.\u001b[0mcc                                        \u001b]8;id=577977;file://C:\\Users\\Tasnim\\AppData\\Local\\Temp\\ipykernel_16732\\1564753407.py\u001b\\\u001b[2m1564753407.py\u001b[0m\u001b]8;;\u001b\\\u001b[2m:\u001b[0m\u001b]8;id=126554;file://C:\\Users\\Tasnim\\AppData\\Local\\Temp\\ipykernel_16732\\1564753407.py#9\u001b\\\u001b[2m9\u001b[0m\u001b]8;;\u001b\\\n"
      ]
     },
     "metadata": {},
     "output_type": "display_data"
    },
    {
     "name": "stderr",
     "output_type": "stream",
     "text": [
      "Generating:  68%|██████▊   | 274/400 [3:11:51<47:51, 22.79s/it]"
     ]
    },
    {
     "data": {
      "text/html": [
       "<pre style=\"white-space:pre;overflow-x:auto;line-height:normal;font-family:Menlo,'DejaVu Sans Mono',consolas,'Courier New',monospace\"><span style=\"color: #7fbfbf; text-decoration-color: #7fbfbf\">[05/22/25 22:39:48] </span><span style=\"color: #000080; text-decoration-color: #000080\">INFO    </span> ✓ <span style=\"color: #008080; text-decoration-color: #008080; font-weight: bold\">275.</span>txt → Basic\\Gemini\\<span style=\"color: #008080; text-decoration-color: #008080; font-weight: bold\">275.</span>cc                                        <a href=\"file://C:\\Users\\Tasnim\\AppData\\Local\\Temp\\ipykernel_16732\\1564753407.py\" target=\"_blank\"><span style=\"color: #7f7f7f; text-decoration-color: #7f7f7f\">1564753407.py</span></a><span style=\"color: #7f7f7f; text-decoration-color: #7f7f7f\">:</span><a href=\"file://C:\\Users\\Tasnim\\AppData\\Local\\Temp\\ipykernel_16732\\1564753407.py#9\" target=\"_blank\"><span style=\"color: #7f7f7f; text-decoration-color: #7f7f7f\">9</span></a>\n",
       "</pre>\n"
      ],
      "text/plain": [
       "\u001b[2;36m[05/22/25 22:39:48]\u001b[0m\u001b[2;36m \u001b[0m\u001b[34mINFO    \u001b[0m ✓ \u001b[1;36m275.\u001b[0mtxt → Basic\\Gemini\\\u001b[1;36m275.\u001b[0mcc                                        \u001b]8;id=502917;file://C:\\Users\\Tasnim\\AppData\\Local\\Temp\\ipykernel_16732\\1564753407.py\u001b\\\u001b[2m1564753407.py\u001b[0m\u001b]8;;\u001b\\\u001b[2m:\u001b[0m\u001b]8;id=405794;file://C:\\Users\\Tasnim\\AppData\\Local\\Temp\\ipykernel_16732\\1564753407.py#9\u001b\\\u001b[2m9\u001b[0m\u001b]8;;\u001b\\\n"
      ]
     },
     "metadata": {},
     "output_type": "display_data"
    },
    {
     "name": "stderr",
     "output_type": "stream",
     "text": [
      "Generating:  69%|██████▉   | 275/400 [3:12:29<57:02, 27.38s/it]"
     ]
    },
    {
     "data": {
      "text/html": [
       "<pre style=\"white-space:pre;overflow-x:auto;line-height:normal;font-family:Menlo,'DejaVu Sans Mono',consolas,'Courier New',monospace\"><span style=\"color: #7fbfbf; text-decoration-color: #7fbfbf\">[05/22/25 22:40:16] </span><span style=\"color: #000080; text-decoration-color: #000080\">INFO    </span> ✓ <span style=\"color: #008080; text-decoration-color: #008080; font-weight: bold\">276.</span>txt → Basic\\Gemini\\<span style=\"color: #008080; text-decoration-color: #008080; font-weight: bold\">276.</span>cc                                        <a href=\"file://C:\\Users\\Tasnim\\AppData\\Local\\Temp\\ipykernel_16732\\1564753407.py\" target=\"_blank\"><span style=\"color: #7f7f7f; text-decoration-color: #7f7f7f\">1564753407.py</span></a><span style=\"color: #7f7f7f; text-decoration-color: #7f7f7f\">:</span><a href=\"file://C:\\Users\\Tasnim\\AppData\\Local\\Temp\\ipykernel_16732\\1564753407.py#9\" target=\"_blank\"><span style=\"color: #7f7f7f; text-decoration-color: #7f7f7f\">9</span></a>\n",
       "</pre>\n"
      ],
      "text/plain": [
       "\u001b[2;36m[05/22/25 22:40:16]\u001b[0m\u001b[2;36m \u001b[0m\u001b[34mINFO    \u001b[0m ✓ \u001b[1;36m276.\u001b[0mtxt → Basic\\Gemini\\\u001b[1;36m276.\u001b[0mcc                                        \u001b]8;id=107799;file://C:\\Users\\Tasnim\\AppData\\Local\\Temp\\ipykernel_16732\\1564753407.py\u001b\\\u001b[2m1564753407.py\u001b[0m\u001b]8;;\u001b\\\u001b[2m:\u001b[0m\u001b]8;id=549786;file://C:\\Users\\Tasnim\\AppData\\Local\\Temp\\ipykernel_16732\\1564753407.py#9\u001b\\\u001b[2m9\u001b[0m\u001b]8;;\u001b\\\n"
      ]
     },
     "metadata": {},
     "output_type": "display_data"
    },
    {
     "name": "stderr",
     "output_type": "stream",
     "text": [
      "Generating:  69%|██████▉   | 276/400 [3:12:57<57:02, 27.60s/it]"
     ]
    },
    {
     "data": {
      "text/html": [
       "<pre style=\"white-space:pre;overflow-x:auto;line-height:normal;font-family:Menlo,'DejaVu Sans Mono',consolas,'Courier New',monospace\"><span style=\"color: #7fbfbf; text-decoration-color: #7fbfbf\">[05/22/25 22:40:45] </span><span style=\"color: #000080; text-decoration-color: #000080\">INFO    </span> ✓ <span style=\"color: #008080; text-decoration-color: #008080; font-weight: bold\">277.</span>txt → Basic\\Gemini\\<span style=\"color: #008080; text-decoration-color: #008080; font-weight: bold\">277.</span>cc                                        <a href=\"file://C:\\Users\\Tasnim\\AppData\\Local\\Temp\\ipykernel_16732\\1564753407.py\" target=\"_blank\"><span style=\"color: #7f7f7f; text-decoration-color: #7f7f7f\">1564753407.py</span></a><span style=\"color: #7f7f7f; text-decoration-color: #7f7f7f\">:</span><a href=\"file://C:\\Users\\Tasnim\\AppData\\Local\\Temp\\ipykernel_16732\\1564753407.py#9\" target=\"_blank\"><span style=\"color: #7f7f7f; text-decoration-color: #7f7f7f\">9</span></a>\n",
       "</pre>\n"
      ],
      "text/plain": [
       "\u001b[2;36m[05/22/25 22:40:45]\u001b[0m\u001b[2;36m \u001b[0m\u001b[34mINFO    \u001b[0m ✓ \u001b[1;36m277.\u001b[0mtxt → Basic\\Gemini\\\u001b[1;36m277.\u001b[0mcc                                        \u001b]8;id=524426;file://C:\\Users\\Tasnim\\AppData\\Local\\Temp\\ipykernel_16732\\1564753407.py\u001b\\\u001b[2m1564753407.py\u001b[0m\u001b]8;;\u001b\\\u001b[2m:\u001b[0m\u001b]8;id=808960;file://C:\\Users\\Tasnim\\AppData\\Local\\Temp\\ipykernel_16732\\1564753407.py#9\u001b\\\u001b[2m9\u001b[0m\u001b]8;;\u001b\\\n"
      ]
     },
     "metadata": {},
     "output_type": "display_data"
    },
    {
     "name": "stderr",
     "output_type": "stream",
     "text": [
      "Generating:  69%|██████▉   | 277/400 [3:13:26<57:26, 28.02s/it]"
     ]
    },
    {
     "data": {
      "text/html": [
       "<pre style=\"white-space:pre;overflow-x:auto;line-height:normal;font-family:Menlo,'DejaVu Sans Mono',consolas,'Courier New',monospace\"><span style=\"color: #7fbfbf; text-decoration-color: #7fbfbf\">[05/22/25 22:41:22] </span><span style=\"color: #000080; text-decoration-color: #000080\">INFO    </span> ✓ <span style=\"color: #008080; text-decoration-color: #008080; font-weight: bold\">278.</span>txt → Basic\\Gemini\\<span style=\"color: #008080; text-decoration-color: #008080; font-weight: bold\">278.</span>cc                                        <a href=\"file://C:\\Users\\Tasnim\\AppData\\Local\\Temp\\ipykernel_16732\\1564753407.py\" target=\"_blank\"><span style=\"color: #7f7f7f; text-decoration-color: #7f7f7f\">1564753407.py</span></a><span style=\"color: #7f7f7f; text-decoration-color: #7f7f7f\">:</span><a href=\"file://C:\\Users\\Tasnim\\AppData\\Local\\Temp\\ipykernel_16732\\1564753407.py#9\" target=\"_blank\"><span style=\"color: #7f7f7f; text-decoration-color: #7f7f7f\">9</span></a>\n",
       "</pre>\n"
      ],
      "text/plain": [
       "\u001b[2;36m[05/22/25 22:41:22]\u001b[0m\u001b[2;36m \u001b[0m\u001b[34mINFO    \u001b[0m ✓ \u001b[1;36m278.\u001b[0mtxt → Basic\\Gemini\\\u001b[1;36m278.\u001b[0mcc                                        \u001b]8;id=966133;file://C:\\Users\\Tasnim\\AppData\\Local\\Temp\\ipykernel_16732\\1564753407.py\u001b\\\u001b[2m1564753407.py\u001b[0m\u001b]8;;\u001b\\\u001b[2m:\u001b[0m\u001b]8;id=372906;file://C:\\Users\\Tasnim\\AppData\\Local\\Temp\\ipykernel_16732\\1564753407.py#9\u001b\\\u001b[2m9\u001b[0m\u001b]8;;\u001b\\\n"
      ]
     },
     "metadata": {},
     "output_type": "display_data"
    },
    {
     "name": "stderr",
     "output_type": "stream",
     "text": [
      "Generating:  70%|██████▉   | 278/400 [3:14:03<1:02:22, 30.68s/it]"
     ]
    },
    {
     "data": {
      "text/html": [
       "<pre style=\"white-space:pre;overflow-x:auto;line-height:normal;font-family:Menlo,'DejaVu Sans Mono',consolas,'Courier New',monospace\"><span style=\"color: #7fbfbf; text-decoration-color: #7fbfbf\">[05/22/25 22:41:45] </span><span style=\"color: #000080; text-decoration-color: #000080\">INFO    </span> ✓ <span style=\"color: #008080; text-decoration-color: #008080; font-weight: bold\">279.</span>txt → Basic\\Gemini\\<span style=\"color: #008080; text-decoration-color: #008080; font-weight: bold\">279.</span>cc                                        <a href=\"file://C:\\Users\\Tasnim\\AppData\\Local\\Temp\\ipykernel_16732\\1564753407.py\" target=\"_blank\"><span style=\"color: #7f7f7f; text-decoration-color: #7f7f7f\">1564753407.py</span></a><span style=\"color: #7f7f7f; text-decoration-color: #7f7f7f\">:</span><a href=\"file://C:\\Users\\Tasnim\\AppData\\Local\\Temp\\ipykernel_16732\\1564753407.py#9\" target=\"_blank\"><span style=\"color: #7f7f7f; text-decoration-color: #7f7f7f\">9</span></a>\n",
       "</pre>\n"
      ],
      "text/plain": [
       "\u001b[2;36m[05/22/25 22:41:45]\u001b[0m\u001b[2;36m \u001b[0m\u001b[34mINFO    \u001b[0m ✓ \u001b[1;36m279.\u001b[0mtxt → Basic\\Gemini\\\u001b[1;36m279.\u001b[0mcc                                        \u001b]8;id=507319;file://C:\\Users\\Tasnim\\AppData\\Local\\Temp\\ipykernel_16732\\1564753407.py\u001b\\\u001b[2m1564753407.py\u001b[0m\u001b]8;;\u001b\\\u001b[2m:\u001b[0m\u001b]8;id=443029;file://C:\\Users\\Tasnim\\AppData\\Local\\Temp\\ipykernel_16732\\1564753407.py#9\u001b\\\u001b[2m9\u001b[0m\u001b]8;;\u001b\\\n"
      ]
     },
     "metadata": {},
     "output_type": "display_data"
    },
    {
     "name": "stderr",
     "output_type": "stream",
     "text": [
      "Generating:  70%|██████▉   | 279/400 [3:14:26<57:05, 28.31s/it]  "
     ]
    },
    {
     "data": {
      "text/html": [
       "<pre style=\"white-space:pre;overflow-x:auto;line-height:normal;font-family:Menlo,'DejaVu Sans Mono',consolas,'Courier New',monospace\"><span style=\"color: #7fbfbf; text-decoration-color: #7fbfbf\">[05/22/25 22:42:17] </span><span style=\"color: #000080; text-decoration-color: #000080\">INFO    </span> ✓ <span style=\"color: #008080; text-decoration-color: #008080; font-weight: bold\">280.</span>txt → Basic\\Gemini\\<span style=\"color: #008080; text-decoration-color: #008080; font-weight: bold\">280.</span>cc                                        <a href=\"file://C:\\Users\\Tasnim\\AppData\\Local\\Temp\\ipykernel_16732\\1564753407.py\" target=\"_blank\"><span style=\"color: #7f7f7f; text-decoration-color: #7f7f7f\">1564753407.py</span></a><span style=\"color: #7f7f7f; text-decoration-color: #7f7f7f\">:</span><a href=\"file://C:\\Users\\Tasnim\\AppData\\Local\\Temp\\ipykernel_16732\\1564753407.py#9\" target=\"_blank\"><span style=\"color: #7f7f7f; text-decoration-color: #7f7f7f\">9</span></a>\n",
       "</pre>\n"
      ],
      "text/plain": [
       "\u001b[2;36m[05/22/25 22:42:17]\u001b[0m\u001b[2;36m \u001b[0m\u001b[34mINFO    \u001b[0m ✓ \u001b[1;36m280.\u001b[0mtxt → Basic\\Gemini\\\u001b[1;36m280.\u001b[0mcc                                        \u001b]8;id=965804;file://C:\\Users\\Tasnim\\AppData\\Local\\Temp\\ipykernel_16732\\1564753407.py\u001b\\\u001b[2m1564753407.py\u001b[0m\u001b]8;;\u001b\\\u001b[2m:\u001b[0m\u001b]8;id=967295;file://C:\\Users\\Tasnim\\AppData\\Local\\Temp\\ipykernel_16732\\1564753407.py#9\u001b\\\u001b[2m9\u001b[0m\u001b]8;;\u001b\\\n"
      ]
     },
     "metadata": {},
     "output_type": "display_data"
    },
    {
     "name": "stderr",
     "output_type": "stream",
     "text": [
      "Generating:  70%|███████   | 280/400 [3:14:58<59:05, 29.55s/it]"
     ]
    },
    {
     "data": {
      "text/html": [
       "<pre style=\"white-space:pre;overflow-x:auto;line-height:normal;font-family:Menlo,'DejaVu Sans Mono',consolas,'Courier New',monospace\"><span style=\"color: #7fbfbf; text-decoration-color: #7fbfbf\">[05/22/25 22:43:03] </span><span style=\"color: #000080; text-decoration-color: #000080\">INFO    </span> ✓ <span style=\"color: #008080; text-decoration-color: #008080; font-weight: bold\">281.</span>txt → Basic\\Gemini\\<span style=\"color: #008080; text-decoration-color: #008080; font-weight: bold\">281.</span>cc                                        <a href=\"file://C:\\Users\\Tasnim\\AppData\\Local\\Temp\\ipykernel_16732\\1564753407.py\" target=\"_blank\"><span style=\"color: #7f7f7f; text-decoration-color: #7f7f7f\">1564753407.py</span></a><span style=\"color: #7f7f7f; text-decoration-color: #7f7f7f\">:</span><a href=\"file://C:\\Users\\Tasnim\\AppData\\Local\\Temp\\ipykernel_16732\\1564753407.py#9\" target=\"_blank\"><span style=\"color: #7f7f7f; text-decoration-color: #7f7f7f\">9</span></a>\n",
       "</pre>\n"
      ],
      "text/plain": [
       "\u001b[2;36m[05/22/25 22:43:03]\u001b[0m\u001b[2;36m \u001b[0m\u001b[34mINFO    \u001b[0m ✓ \u001b[1;36m281.\u001b[0mtxt → Basic\\Gemini\\\u001b[1;36m281.\u001b[0mcc                                        \u001b]8;id=893976;file://C:\\Users\\Tasnim\\AppData\\Local\\Temp\\ipykernel_16732\\1564753407.py\u001b\\\u001b[2m1564753407.py\u001b[0m\u001b]8;;\u001b\\\u001b[2m:\u001b[0m\u001b]8;id=817120;file://C:\\Users\\Tasnim\\AppData\\Local\\Temp\\ipykernel_16732\\1564753407.py#9\u001b\\\u001b[2m9\u001b[0m\u001b]8;;\u001b\\\n"
      ]
     },
     "metadata": {},
     "output_type": "display_data"
    },
    {
     "name": "stderr",
     "output_type": "stream",
     "text": [
      "Generating:  70%|███████   | 281/400 [3:15:43<1:08:07, 34.35s/it]"
     ]
    },
    {
     "data": {
      "text/html": [
       "<pre style=\"white-space:pre;overflow-x:auto;line-height:normal;font-family:Menlo,'DejaVu Sans Mono',consolas,'Courier New',monospace\"><span style=\"color: #7fbfbf; text-decoration-color: #7fbfbf\">[05/22/25 22:43:20] </span><span style=\"color: #000080; text-decoration-color: #000080\">INFO    </span> ✓ <span style=\"color: #008080; text-decoration-color: #008080; font-weight: bold\">282.</span>txt → Basic\\Gemini\\<span style=\"color: #008080; text-decoration-color: #008080; font-weight: bold\">282.</span>cc                                        <a href=\"file://C:\\Users\\Tasnim\\AppData\\Local\\Temp\\ipykernel_16732\\1564753407.py\" target=\"_blank\"><span style=\"color: #7f7f7f; text-decoration-color: #7f7f7f\">1564753407.py</span></a><span style=\"color: #7f7f7f; text-decoration-color: #7f7f7f\">:</span><a href=\"file://C:\\Users\\Tasnim\\AppData\\Local\\Temp\\ipykernel_16732\\1564753407.py#9\" target=\"_blank\"><span style=\"color: #7f7f7f; text-decoration-color: #7f7f7f\">9</span></a>\n",
       "</pre>\n"
      ],
      "text/plain": [
       "\u001b[2;36m[05/22/25 22:43:20]\u001b[0m\u001b[2;36m \u001b[0m\u001b[34mINFO    \u001b[0m ✓ \u001b[1;36m282.\u001b[0mtxt → Basic\\Gemini\\\u001b[1;36m282.\u001b[0mcc                                        \u001b]8;id=57495;file://C:\\Users\\Tasnim\\AppData\\Local\\Temp\\ipykernel_16732\\1564753407.py\u001b\\\u001b[2m1564753407.py\u001b[0m\u001b]8;;\u001b\\\u001b[2m:\u001b[0m\u001b]8;id=765170;file://C:\\Users\\Tasnim\\AppData\\Local\\Temp\\ipykernel_16732\\1564753407.py#9\u001b\\\u001b[2m9\u001b[0m\u001b]8;;\u001b\\\n"
      ]
     },
     "metadata": {},
     "output_type": "display_data"
    },
    {
     "name": "stderr",
     "output_type": "stream",
     "text": [
      "Generating:  70%|███████   | 282/400 [3:16:01<57:22, 29.17s/it]  "
     ]
    },
    {
     "data": {
      "text/html": [
       "<pre style=\"white-space:pre;overflow-x:auto;line-height:normal;font-family:Menlo,'DejaVu Sans Mono',consolas,'Courier New',monospace\"><span style=\"color: #7fbfbf; text-decoration-color: #7fbfbf\">[05/22/25 22:43:43] </span><span style=\"color: #000080; text-decoration-color: #000080\">INFO    </span> ✓ <span style=\"color: #008080; text-decoration-color: #008080; font-weight: bold\">283.</span>txt → Basic\\Gemini\\<span style=\"color: #008080; text-decoration-color: #008080; font-weight: bold\">283.</span>cc                                        <a href=\"file://C:\\Users\\Tasnim\\AppData\\Local\\Temp\\ipykernel_16732\\1564753407.py\" target=\"_blank\"><span style=\"color: #7f7f7f; text-decoration-color: #7f7f7f\">1564753407.py</span></a><span style=\"color: #7f7f7f; text-decoration-color: #7f7f7f\">:</span><a href=\"file://C:\\Users\\Tasnim\\AppData\\Local\\Temp\\ipykernel_16732\\1564753407.py#9\" target=\"_blank\"><span style=\"color: #7f7f7f; text-decoration-color: #7f7f7f\">9</span></a>\n",
       "</pre>\n"
      ],
      "text/plain": [
       "\u001b[2;36m[05/22/25 22:43:43]\u001b[0m\u001b[2;36m \u001b[0m\u001b[34mINFO    \u001b[0m ✓ \u001b[1;36m283.\u001b[0mtxt → Basic\\Gemini\\\u001b[1;36m283.\u001b[0mcc                                        \u001b]8;id=585050;file://C:\\Users\\Tasnim\\AppData\\Local\\Temp\\ipykernel_16732\\1564753407.py\u001b\\\u001b[2m1564753407.py\u001b[0m\u001b]8;;\u001b\\\u001b[2m:\u001b[0m\u001b]8;id=235580;file://C:\\Users\\Tasnim\\AppData\\Local\\Temp\\ipykernel_16732\\1564753407.py#9\u001b\\\u001b[2m9\u001b[0m\u001b]8;;\u001b\\\n"
      ]
     },
     "metadata": {},
     "output_type": "display_data"
    },
    {
     "name": "stderr",
     "output_type": "stream",
     "text": [
      "Generating:  71%|███████   | 283/400 [3:16:24<53:18, 27.34s/it]"
     ]
    },
    {
     "data": {
      "text/html": [
       "<pre style=\"white-space:pre;overflow-x:auto;line-height:normal;font-family:Menlo,'DejaVu Sans Mono',consolas,'Courier New',monospace\"><span style=\"color: #7fbfbf; text-decoration-color: #7fbfbf\">[05/22/25 22:44:00] </span><span style=\"color: #000080; text-decoration-color: #000080\">INFO    </span> ✓ <span style=\"color: #008080; text-decoration-color: #008080; font-weight: bold\">284.</span>txt → Basic\\Gemini\\<span style=\"color: #008080; text-decoration-color: #008080; font-weight: bold\">284.</span>cc                                        <a href=\"file://C:\\Users\\Tasnim\\AppData\\Local\\Temp\\ipykernel_16732\\1564753407.py\" target=\"_blank\"><span style=\"color: #7f7f7f; text-decoration-color: #7f7f7f\">1564753407.py</span></a><span style=\"color: #7f7f7f; text-decoration-color: #7f7f7f\">:</span><a href=\"file://C:\\Users\\Tasnim\\AppData\\Local\\Temp\\ipykernel_16732\\1564753407.py#9\" target=\"_blank\"><span style=\"color: #7f7f7f; text-decoration-color: #7f7f7f\">9</span></a>\n",
       "</pre>\n"
      ],
      "text/plain": [
       "\u001b[2;36m[05/22/25 22:44:00]\u001b[0m\u001b[2;36m \u001b[0m\u001b[34mINFO    \u001b[0m ✓ \u001b[1;36m284.\u001b[0mtxt → Basic\\Gemini\\\u001b[1;36m284.\u001b[0mcc                                        \u001b]8;id=392067;file://C:\\Users\\Tasnim\\AppData\\Local\\Temp\\ipykernel_16732\\1564753407.py\u001b\\\u001b[2m1564753407.py\u001b[0m\u001b]8;;\u001b\\\u001b[2m:\u001b[0m\u001b]8;id=420249;file://C:\\Users\\Tasnim\\AppData\\Local\\Temp\\ipykernel_16732\\1564753407.py#9\u001b\\\u001b[2m9\u001b[0m\u001b]8;;\u001b\\\n"
      ]
     },
     "metadata": {},
     "output_type": "display_data"
    },
    {
     "name": "stderr",
     "output_type": "stream",
     "text": [
      "Generating:  71%|███████   | 284/400 [3:16:40<46:43, 24.17s/it]"
     ]
    },
    {
     "data": {
      "text/html": [
       "<pre style=\"white-space:pre;overflow-x:auto;line-height:normal;font-family:Menlo,'DejaVu Sans Mono',consolas,'Courier New',monospace\"><span style=\"color: #7fbfbf; text-decoration-color: #7fbfbf\">[05/22/25 22:44:42] </span><span style=\"color: #000080; text-decoration-color: #000080\">INFO    </span> ✓ <span style=\"color: #008080; text-decoration-color: #008080; font-weight: bold\">285.</span>txt → Basic\\Gemini\\<span style=\"color: #008080; text-decoration-color: #008080; font-weight: bold\">285.</span>cc                                        <a href=\"file://C:\\Users\\Tasnim\\AppData\\Local\\Temp\\ipykernel_16732\\1564753407.py\" target=\"_blank\"><span style=\"color: #7f7f7f; text-decoration-color: #7f7f7f\">1564753407.py</span></a><span style=\"color: #7f7f7f; text-decoration-color: #7f7f7f\">:</span><a href=\"file://C:\\Users\\Tasnim\\AppData\\Local\\Temp\\ipykernel_16732\\1564753407.py#9\" target=\"_blank\"><span style=\"color: #7f7f7f; text-decoration-color: #7f7f7f\">9</span></a>\n",
       "</pre>\n"
      ],
      "text/plain": [
       "\u001b[2;36m[05/22/25 22:44:42]\u001b[0m\u001b[2;36m \u001b[0m\u001b[34mINFO    \u001b[0m ✓ \u001b[1;36m285.\u001b[0mtxt → Basic\\Gemini\\\u001b[1;36m285.\u001b[0mcc                                        \u001b]8;id=339610;file://C:\\Users\\Tasnim\\AppData\\Local\\Temp\\ipykernel_16732\\1564753407.py\u001b\\\u001b[2m1564753407.py\u001b[0m\u001b]8;;\u001b\\\u001b[2m:\u001b[0m\u001b]8;id=138583;file://C:\\Users\\Tasnim\\AppData\\Local\\Temp\\ipykernel_16732\\1564753407.py#9\u001b\\\u001b[2m9\u001b[0m\u001b]8;;\u001b\\\n"
      ]
     },
     "metadata": {},
     "output_type": "display_data"
    },
    {
     "name": "stderr",
     "output_type": "stream",
     "text": [
      "Generating:  71%|███████▏  | 285/400 [3:17:23<56:42, 29.59s/it]"
     ]
    },
    {
     "data": {
      "text/html": [
       "<pre style=\"white-space:pre;overflow-x:auto;line-height:normal;font-family:Menlo,'DejaVu Sans Mono',consolas,'Courier New',monospace\"><span style=\"color: #7fbfbf; text-decoration-color: #7fbfbf\">[05/22/25 22:45:10] </span><span style=\"color: #000080; text-decoration-color: #000080\">INFO    </span> ✓ <span style=\"color: #008080; text-decoration-color: #008080; font-weight: bold\">286.</span>txt → Basic\\Gemini\\<span style=\"color: #008080; text-decoration-color: #008080; font-weight: bold\">286.</span>cc                                        <a href=\"file://C:\\Users\\Tasnim\\AppData\\Local\\Temp\\ipykernel_16732\\1564753407.py\" target=\"_blank\"><span style=\"color: #7f7f7f; text-decoration-color: #7f7f7f\">1564753407.py</span></a><span style=\"color: #7f7f7f; text-decoration-color: #7f7f7f\">:</span><a href=\"file://C:\\Users\\Tasnim\\AppData\\Local\\Temp\\ipykernel_16732\\1564753407.py#9\" target=\"_blank\"><span style=\"color: #7f7f7f; text-decoration-color: #7f7f7f\">9</span></a>\n",
       "</pre>\n"
      ],
      "text/plain": [
       "\u001b[2;36m[05/22/25 22:45:10]\u001b[0m\u001b[2;36m \u001b[0m\u001b[34mINFO    \u001b[0m ✓ \u001b[1;36m286.\u001b[0mtxt → Basic\\Gemini\\\u001b[1;36m286.\u001b[0mcc                                        \u001b]8;id=117491;file://C:\\Users\\Tasnim\\AppData\\Local\\Temp\\ipykernel_16732\\1564753407.py\u001b\\\u001b[2m1564753407.py\u001b[0m\u001b]8;;\u001b\\\u001b[2m:\u001b[0m\u001b]8;id=121367;file://C:\\Users\\Tasnim\\AppData\\Local\\Temp\\ipykernel_16732\\1564753407.py#9\u001b\\\u001b[2m9\u001b[0m\u001b]8;;\u001b\\\n"
      ]
     },
     "metadata": {},
     "output_type": "display_data"
    },
    {
     "name": "stderr",
     "output_type": "stream",
     "text": [
      "Generating:  72%|███████▏  | 286/400 [3:17:51<55:20, 29.13s/it]"
     ]
    },
    {
     "data": {
      "text/html": [
       "<pre style=\"white-space:pre;overflow-x:auto;line-height:normal;font-family:Menlo,'DejaVu Sans Mono',consolas,'Courier New',monospace\"><span style=\"color: #7fbfbf; text-decoration-color: #7fbfbf\">[05/22/25 22:45:45] </span><span style=\"color: #000080; text-decoration-color: #000080\">INFO    </span> ✓ <span style=\"color: #008080; text-decoration-color: #008080; font-weight: bold\">287.</span>txt → Basic\\Gemini\\<span style=\"color: #008080; text-decoration-color: #008080; font-weight: bold\">287.</span>cc                                        <a href=\"file://C:\\Users\\Tasnim\\AppData\\Local\\Temp\\ipykernel_16732\\1564753407.py\" target=\"_blank\"><span style=\"color: #7f7f7f; text-decoration-color: #7f7f7f\">1564753407.py</span></a><span style=\"color: #7f7f7f; text-decoration-color: #7f7f7f\">:</span><a href=\"file://C:\\Users\\Tasnim\\AppData\\Local\\Temp\\ipykernel_16732\\1564753407.py#9\" target=\"_blank\"><span style=\"color: #7f7f7f; text-decoration-color: #7f7f7f\">9</span></a>\n",
       "</pre>\n"
      ],
      "text/plain": [
       "\u001b[2;36m[05/22/25 22:45:45]\u001b[0m\u001b[2;36m \u001b[0m\u001b[34mINFO    \u001b[0m ✓ \u001b[1;36m287.\u001b[0mtxt → Basic\\Gemini\\\u001b[1;36m287.\u001b[0mcc                                        \u001b]8;id=913325;file://C:\\Users\\Tasnim\\AppData\\Local\\Temp\\ipykernel_16732\\1564753407.py\u001b\\\u001b[2m1564753407.py\u001b[0m\u001b]8;;\u001b\\\u001b[2m:\u001b[0m\u001b]8;id=321630;file://C:\\Users\\Tasnim\\AppData\\Local\\Temp\\ipykernel_16732\\1564753407.py#9\u001b\\\u001b[2m9\u001b[0m\u001b]8;;\u001b\\\n"
      ]
     },
     "metadata": {},
     "output_type": "display_data"
    },
    {
     "name": "stderr",
     "output_type": "stream",
     "text": [
      "Generating:  72%|███████▏  | 287/400 [3:18:26<58:24, 31.01s/it]"
     ]
    },
    {
     "data": {
      "text/html": [
       "<pre style=\"white-space:pre;overflow-x:auto;line-height:normal;font-family:Menlo,'DejaVu Sans Mono',consolas,'Courier New',monospace\"><span style=\"color: #7fbfbf; text-decoration-color: #7fbfbf\">[05/22/25 22:46:12] </span><span style=\"color: #000080; text-decoration-color: #000080\">INFO    </span> ✓ <span style=\"color: #008080; text-decoration-color: #008080; font-weight: bold\">288.</span>txt → Basic\\Gemini\\<span style=\"color: #008080; text-decoration-color: #008080; font-weight: bold\">288.</span>cc                                        <a href=\"file://C:\\Users\\Tasnim\\AppData\\Local\\Temp\\ipykernel_16732\\1564753407.py\" target=\"_blank\"><span style=\"color: #7f7f7f; text-decoration-color: #7f7f7f\">1564753407.py</span></a><span style=\"color: #7f7f7f; text-decoration-color: #7f7f7f\">:</span><a href=\"file://C:\\Users\\Tasnim\\AppData\\Local\\Temp\\ipykernel_16732\\1564753407.py#9\" target=\"_blank\"><span style=\"color: #7f7f7f; text-decoration-color: #7f7f7f\">9</span></a>\n",
       "</pre>\n"
      ],
      "text/plain": [
       "\u001b[2;36m[05/22/25 22:46:12]\u001b[0m\u001b[2;36m \u001b[0m\u001b[34mINFO    \u001b[0m ✓ \u001b[1;36m288.\u001b[0mtxt → Basic\\Gemini\\\u001b[1;36m288.\u001b[0mcc                                        \u001b]8;id=651137;file://C:\\Users\\Tasnim\\AppData\\Local\\Temp\\ipykernel_16732\\1564753407.py\u001b\\\u001b[2m1564753407.py\u001b[0m\u001b]8;;\u001b\\\u001b[2m:\u001b[0m\u001b]8;id=481464;file://C:\\Users\\Tasnim\\AppData\\Local\\Temp\\ipykernel_16732\\1564753407.py#9\u001b\\\u001b[2m9\u001b[0m\u001b]8;;\u001b\\\n"
      ]
     },
     "metadata": {},
     "output_type": "display_data"
    },
    {
     "name": "stderr",
     "output_type": "stream",
     "text": [
      "Generating:  72%|███████▏  | 288/400 [3:18:53<55:26, 29.70s/it]"
     ]
    },
    {
     "data": {
      "text/html": [
       "<pre style=\"white-space:pre;overflow-x:auto;line-height:normal;font-family:Menlo,'DejaVu Sans Mono',consolas,'Courier New',monospace\"><span style=\"color: #7fbfbf; text-decoration-color: #7fbfbf\">[05/22/25 22:46:30] </span><span style=\"color: #000080; text-decoration-color: #000080\">INFO    </span> ✓ <span style=\"color: #008080; text-decoration-color: #008080; font-weight: bold\">289.</span>txt → Basic\\Gemini\\<span style=\"color: #008080; text-decoration-color: #008080; font-weight: bold\">289.</span>cc                                        <a href=\"file://C:\\Users\\Tasnim\\AppData\\Local\\Temp\\ipykernel_16732\\1564753407.py\" target=\"_blank\"><span style=\"color: #7f7f7f; text-decoration-color: #7f7f7f\">1564753407.py</span></a><span style=\"color: #7f7f7f; text-decoration-color: #7f7f7f\">:</span><a href=\"file://C:\\Users\\Tasnim\\AppData\\Local\\Temp\\ipykernel_16732\\1564753407.py#9\" target=\"_blank\"><span style=\"color: #7f7f7f; text-decoration-color: #7f7f7f\">9</span></a>\n",
       "</pre>\n"
      ],
      "text/plain": [
       "\u001b[2;36m[05/22/25 22:46:30]\u001b[0m\u001b[2;36m \u001b[0m\u001b[34mINFO    \u001b[0m ✓ \u001b[1;36m289.\u001b[0mtxt → Basic\\Gemini\\\u001b[1;36m289.\u001b[0mcc                                        \u001b]8;id=32042;file://C:\\Users\\Tasnim\\AppData\\Local\\Temp\\ipykernel_16732\\1564753407.py\u001b\\\u001b[2m1564753407.py\u001b[0m\u001b]8;;\u001b\\\u001b[2m:\u001b[0m\u001b]8;id=293376;file://C:\\Users\\Tasnim\\AppData\\Local\\Temp\\ipykernel_16732\\1564753407.py#9\u001b\\\u001b[2m9\u001b[0m\u001b]8;;\u001b\\\n"
      ]
     },
     "metadata": {},
     "output_type": "display_data"
    },
    {
     "name": "stderr",
     "output_type": "stream",
     "text": [
      "Generating:  72%|███████▏  | 289/400 [3:19:10<48:15, 26.08s/it]"
     ]
    },
    {
     "data": {
      "text/html": [
       "<pre style=\"white-space:pre;overflow-x:auto;line-height:normal;font-family:Menlo,'DejaVu Sans Mono',consolas,'Courier New',monospace\"><span style=\"color: #7fbfbf; text-decoration-color: #7fbfbf\">[05/22/25 22:47:03] </span><span style=\"color: #000080; text-decoration-color: #000080\">INFO    </span> ✓ <span style=\"color: #008080; text-decoration-color: #008080; font-weight: bold\">290.</span>txt → Basic\\Gemini\\<span style=\"color: #008080; text-decoration-color: #008080; font-weight: bold\">290.</span>cc                                        <a href=\"file://C:\\Users\\Tasnim\\AppData\\Local\\Temp\\ipykernel_16732\\1564753407.py\" target=\"_blank\"><span style=\"color: #7f7f7f; text-decoration-color: #7f7f7f\">1564753407.py</span></a><span style=\"color: #7f7f7f; text-decoration-color: #7f7f7f\">:</span><a href=\"file://C:\\Users\\Tasnim\\AppData\\Local\\Temp\\ipykernel_16732\\1564753407.py#9\" target=\"_blank\"><span style=\"color: #7f7f7f; text-decoration-color: #7f7f7f\">9</span></a>\n",
       "</pre>\n"
      ],
      "text/plain": [
       "\u001b[2;36m[05/22/25 22:47:03]\u001b[0m\u001b[2;36m \u001b[0m\u001b[34mINFO    \u001b[0m ✓ \u001b[1;36m290.\u001b[0mtxt → Basic\\Gemini\\\u001b[1;36m290.\u001b[0mcc                                        \u001b]8;id=974086;file://C:\\Users\\Tasnim\\AppData\\Local\\Temp\\ipykernel_16732\\1564753407.py\u001b\\\u001b[2m1564753407.py\u001b[0m\u001b]8;;\u001b\\\u001b[2m:\u001b[0m\u001b]8;id=64387;file://C:\\Users\\Tasnim\\AppData\\Local\\Temp\\ipykernel_16732\\1564753407.py#9\u001b\\\u001b[2m9\u001b[0m\u001b]8;;\u001b\\\n"
      ]
     },
     "metadata": {},
     "output_type": "display_data"
    },
    {
     "name": "stderr",
     "output_type": "stream",
     "text": [
      "Generating:  72%|███████▎  | 290/400 [3:19:44<51:50, 28.28s/it]"
     ]
    },
    {
     "data": {
      "text/html": [
       "<pre style=\"white-space:pre;overflow-x:auto;line-height:normal;font-family:Menlo,'DejaVu Sans Mono',consolas,'Courier New',monospace\"><span style=\"color: #7fbfbf; text-decoration-color: #7fbfbf\">[05/22/25 22:47:34] </span><span style=\"color: #000080; text-decoration-color: #000080\">INFO    </span> ✓ <span style=\"color: #008080; text-decoration-color: #008080; font-weight: bold\">291.</span>txt → Basic\\Gemini\\<span style=\"color: #008080; text-decoration-color: #008080; font-weight: bold\">291.</span>cc                                        <a href=\"file://C:\\Users\\Tasnim\\AppData\\Local\\Temp\\ipykernel_16732\\1564753407.py\" target=\"_blank\"><span style=\"color: #7f7f7f; text-decoration-color: #7f7f7f\">1564753407.py</span></a><span style=\"color: #7f7f7f; text-decoration-color: #7f7f7f\">:</span><a href=\"file://C:\\Users\\Tasnim\\AppData\\Local\\Temp\\ipykernel_16732\\1564753407.py#9\" target=\"_blank\"><span style=\"color: #7f7f7f; text-decoration-color: #7f7f7f\">9</span></a>\n",
       "</pre>\n"
      ],
      "text/plain": [
       "\u001b[2;36m[05/22/25 22:47:34]\u001b[0m\u001b[2;36m \u001b[0m\u001b[34mINFO    \u001b[0m ✓ \u001b[1;36m291.\u001b[0mtxt → Basic\\Gemini\\\u001b[1;36m291.\u001b[0mcc                                        \u001b]8;id=811282;file://C:\\Users\\Tasnim\\AppData\\Local\\Temp\\ipykernel_16732\\1564753407.py\u001b\\\u001b[2m1564753407.py\u001b[0m\u001b]8;;\u001b\\\u001b[2m:\u001b[0m\u001b]8;id=541265;file://C:\\Users\\Tasnim\\AppData\\Local\\Temp\\ipykernel_16732\\1564753407.py#9\u001b\\\u001b[2m9\u001b[0m\u001b]8;;\u001b\\\n"
      ]
     },
     "metadata": {},
     "output_type": "display_data"
    },
    {
     "name": "stderr",
     "output_type": "stream",
     "text": [
      "Generating:  73%|███████▎  | 291/400 [3:20:15<52:57, 29.15s/it]"
     ]
    },
    {
     "data": {
      "text/html": [
       "<pre style=\"white-space:pre;overflow-x:auto;line-height:normal;font-family:Menlo,'DejaVu Sans Mono',consolas,'Courier New',monospace\"><span style=\"color: #7fbfbf; text-decoration-color: #7fbfbf\">[05/22/25 22:48:35] </span><span style=\"color: #000080; text-decoration-color: #000080\">INFO    </span> ✓ <span style=\"color: #008080; text-decoration-color: #008080; font-weight: bold\">292.</span>txt → Basic\\Gemini\\<span style=\"color: #008080; text-decoration-color: #008080; font-weight: bold\">292.</span>cc                                        <a href=\"file://C:\\Users\\Tasnim\\AppData\\Local\\Temp\\ipykernel_16732\\1564753407.py\" target=\"_blank\"><span style=\"color: #7f7f7f; text-decoration-color: #7f7f7f\">1564753407.py</span></a><span style=\"color: #7f7f7f; text-decoration-color: #7f7f7f\">:</span><a href=\"file://C:\\Users\\Tasnim\\AppData\\Local\\Temp\\ipykernel_16732\\1564753407.py#9\" target=\"_blank\"><span style=\"color: #7f7f7f; text-decoration-color: #7f7f7f\">9</span></a>\n",
       "</pre>\n"
      ],
      "text/plain": [
       "\u001b[2;36m[05/22/25 22:48:35]\u001b[0m\u001b[2;36m \u001b[0m\u001b[34mINFO    \u001b[0m ✓ \u001b[1;36m292.\u001b[0mtxt → Basic\\Gemini\\\u001b[1;36m292.\u001b[0mcc                                        \u001b]8;id=368379;file://C:\\Users\\Tasnim\\AppData\\Local\\Temp\\ipykernel_16732\\1564753407.py\u001b\\\u001b[2m1564753407.py\u001b[0m\u001b]8;;\u001b\\\u001b[2m:\u001b[0m\u001b]8;id=210837;file://C:\\Users\\Tasnim\\AppData\\Local\\Temp\\ipykernel_16732\\1564753407.py#9\u001b\\\u001b[2m9\u001b[0m\u001b]8;;\u001b\\\n"
      ]
     },
     "metadata": {},
     "output_type": "display_data"
    },
    {
     "name": "stderr",
     "output_type": "stream",
     "text": [
      "Generating:  73%|███████▎  | 292/400 [3:21:15<1:09:24, 38.56s/it]"
     ]
    },
    {
     "data": {
      "text/html": [
       "<pre style=\"white-space:pre;overflow-x:auto;line-height:normal;font-family:Menlo,'DejaVu Sans Mono',consolas,'Courier New',monospace\"><span style=\"color: #7fbfbf; text-decoration-color: #7fbfbf\">[05/22/25 22:48:56] </span><span style=\"color: #000080; text-decoration-color: #000080\">INFO    </span> ✓ <span style=\"color: #008080; text-decoration-color: #008080; font-weight: bold\">293.</span>txt → Basic\\Gemini\\<span style=\"color: #008080; text-decoration-color: #008080; font-weight: bold\">293.</span>cc                                        <a href=\"file://C:\\Users\\Tasnim\\AppData\\Local\\Temp\\ipykernel_16732\\1564753407.py\" target=\"_blank\"><span style=\"color: #7f7f7f; text-decoration-color: #7f7f7f\">1564753407.py</span></a><span style=\"color: #7f7f7f; text-decoration-color: #7f7f7f\">:</span><a href=\"file://C:\\Users\\Tasnim\\AppData\\Local\\Temp\\ipykernel_16732\\1564753407.py#9\" target=\"_blank\"><span style=\"color: #7f7f7f; text-decoration-color: #7f7f7f\">9</span></a>\n",
       "</pre>\n"
      ],
      "text/plain": [
       "\u001b[2;36m[05/22/25 22:48:56]\u001b[0m\u001b[2;36m \u001b[0m\u001b[34mINFO    \u001b[0m ✓ \u001b[1;36m293.\u001b[0mtxt → Basic\\Gemini\\\u001b[1;36m293.\u001b[0mcc                                        \u001b]8;id=391346;file://C:\\Users\\Tasnim\\AppData\\Local\\Temp\\ipykernel_16732\\1564753407.py\u001b\\\u001b[2m1564753407.py\u001b[0m\u001b]8;;\u001b\\\u001b[2m:\u001b[0m\u001b]8;id=117920;file://C:\\Users\\Tasnim\\AppData\\Local\\Temp\\ipykernel_16732\\1564753407.py#9\u001b\\\u001b[2m9\u001b[0m\u001b]8;;\u001b\\\n"
      ]
     },
     "metadata": {},
     "output_type": "display_data"
    },
    {
     "name": "stderr",
     "output_type": "stream",
     "text": [
      "Generating:  73%|███████▎  | 293/400 [3:21:37<59:26, 33.33s/it]  "
     ]
    },
    {
     "data": {
      "text/html": [
       "<pre style=\"white-space:pre;overflow-x:auto;line-height:normal;font-family:Menlo,'DejaVu Sans Mono',consolas,'Courier New',monospace\"><span style=\"color: #7fbfbf; text-decoration-color: #7fbfbf\">[05/22/25 22:49:22] </span><span style=\"color: #000080; text-decoration-color: #000080\">INFO    </span> ✓ <span style=\"color: #008080; text-decoration-color: #008080; font-weight: bold\">294.</span>txt → Basic\\Gemini\\<span style=\"color: #008080; text-decoration-color: #008080; font-weight: bold\">294.</span>cc                                        <a href=\"file://C:\\Users\\Tasnim\\AppData\\Local\\Temp\\ipykernel_16732\\1564753407.py\" target=\"_blank\"><span style=\"color: #7f7f7f; text-decoration-color: #7f7f7f\">1564753407.py</span></a><span style=\"color: #7f7f7f; text-decoration-color: #7f7f7f\">:</span><a href=\"file://C:\\Users\\Tasnim\\AppData\\Local\\Temp\\ipykernel_16732\\1564753407.py#9\" target=\"_blank\"><span style=\"color: #7f7f7f; text-decoration-color: #7f7f7f\">9</span></a>\n",
       "</pre>\n"
      ],
      "text/plain": [
       "\u001b[2;36m[05/22/25 22:49:22]\u001b[0m\u001b[2;36m \u001b[0m\u001b[34mINFO    \u001b[0m ✓ \u001b[1;36m294.\u001b[0mtxt → Basic\\Gemini\\\u001b[1;36m294.\u001b[0mcc                                        \u001b]8;id=842665;file://C:\\Users\\Tasnim\\AppData\\Local\\Temp\\ipykernel_16732\\1564753407.py\u001b\\\u001b[2m1564753407.py\u001b[0m\u001b]8;;\u001b\\\u001b[2m:\u001b[0m\u001b]8;id=491716;file://C:\\Users\\Tasnim\\AppData\\Local\\Temp\\ipykernel_16732\\1564753407.py#9\u001b\\\u001b[2m9\u001b[0m\u001b]8;;\u001b\\\n"
      ]
     },
     "metadata": {},
     "output_type": "display_data"
    },
    {
     "name": "stderr",
     "output_type": "stream",
     "text": [
      "Generating:  74%|███████▎  | 294/400 [3:22:03<54:58, 31.12s/it]"
     ]
    },
    {
     "data": {
      "text/html": [
       "<pre style=\"white-space:pre;overflow-x:auto;line-height:normal;font-family:Menlo,'DejaVu Sans Mono',consolas,'Courier New',monospace\"><span style=\"color: #7fbfbf; text-decoration-color: #7fbfbf\">[05/22/25 22:49:46] </span><span style=\"color: #000080; text-decoration-color: #000080\">INFO    </span> ✓ <span style=\"color: #008080; text-decoration-color: #008080; font-weight: bold\">295.</span>txt → Basic\\Gemini\\<span style=\"color: #008080; text-decoration-color: #008080; font-weight: bold\">295.</span>cc                                        <a href=\"file://C:\\Users\\Tasnim\\AppData\\Local\\Temp\\ipykernel_16732\\1564753407.py\" target=\"_blank\"><span style=\"color: #7f7f7f; text-decoration-color: #7f7f7f\">1564753407.py</span></a><span style=\"color: #7f7f7f; text-decoration-color: #7f7f7f\">:</span><a href=\"file://C:\\Users\\Tasnim\\AppData\\Local\\Temp\\ipykernel_16732\\1564753407.py#9\" target=\"_blank\"><span style=\"color: #7f7f7f; text-decoration-color: #7f7f7f\">9</span></a>\n",
       "</pre>\n"
      ],
      "text/plain": [
       "\u001b[2;36m[05/22/25 22:49:46]\u001b[0m\u001b[2;36m \u001b[0m\u001b[34mINFO    \u001b[0m ✓ \u001b[1;36m295.\u001b[0mtxt → Basic\\Gemini\\\u001b[1;36m295.\u001b[0mcc                                        \u001b]8;id=801687;file://C:\\Users\\Tasnim\\AppData\\Local\\Temp\\ipykernel_16732\\1564753407.py\u001b\\\u001b[2m1564753407.py\u001b[0m\u001b]8;;\u001b\\\u001b[2m:\u001b[0m\u001b]8;id=376281;file://C:\\Users\\Tasnim\\AppData\\Local\\Temp\\ipykernel_16732\\1564753407.py#9\u001b\\\u001b[2m9\u001b[0m\u001b]8;;\u001b\\\n"
      ]
     },
     "metadata": {},
     "output_type": "display_data"
    },
    {
     "name": "stderr",
     "output_type": "stream",
     "text": [
      "Generating:  74%|███████▍  | 295/400 [3:22:27<51:03, 29.18s/it]"
     ]
    },
    {
     "data": {
      "text/html": [
       "<pre style=\"white-space:pre;overflow-x:auto;line-height:normal;font-family:Menlo,'DejaVu Sans Mono',consolas,'Courier New',monospace\"><span style=\"color: #7fbfbf; text-decoration-color: #7fbfbf\">[05/22/25 22:50:16] </span><span style=\"color: #000080; text-decoration-color: #000080\">INFO    </span> ✓ <span style=\"color: #008080; text-decoration-color: #008080; font-weight: bold\">296.</span>txt → Basic\\Gemini\\<span style=\"color: #008080; text-decoration-color: #008080; font-weight: bold\">296.</span>cc                                        <a href=\"file://C:\\Users\\Tasnim\\AppData\\Local\\Temp\\ipykernel_16732\\1564753407.py\" target=\"_blank\"><span style=\"color: #7f7f7f; text-decoration-color: #7f7f7f\">1564753407.py</span></a><span style=\"color: #7f7f7f; text-decoration-color: #7f7f7f\">:</span><a href=\"file://C:\\Users\\Tasnim\\AppData\\Local\\Temp\\ipykernel_16732\\1564753407.py#9\" target=\"_blank\"><span style=\"color: #7f7f7f; text-decoration-color: #7f7f7f\">9</span></a>\n",
       "</pre>\n"
      ],
      "text/plain": [
       "\u001b[2;36m[05/22/25 22:50:16]\u001b[0m\u001b[2;36m \u001b[0m\u001b[34mINFO    \u001b[0m ✓ \u001b[1;36m296.\u001b[0mtxt → Basic\\Gemini\\\u001b[1;36m296.\u001b[0mcc                                        \u001b]8;id=88306;file://C:\\Users\\Tasnim\\AppData\\Local\\Temp\\ipykernel_16732\\1564753407.py\u001b\\\u001b[2m1564753407.py\u001b[0m\u001b]8;;\u001b\\\u001b[2m:\u001b[0m\u001b]8;id=763360;file://C:\\Users\\Tasnim\\AppData\\Local\\Temp\\ipykernel_16732\\1564753407.py#9\u001b\\\u001b[2m9\u001b[0m\u001b]8;;\u001b\\\n"
      ]
     },
     "metadata": {},
     "output_type": "display_data"
    },
    {
     "name": "stderr",
     "output_type": "stream",
     "text": [
      "Generating:  74%|███████▍  | 296/400 [3:22:57<50:55, 29.38s/it]"
     ]
    },
    {
     "data": {
      "text/html": [
       "<pre style=\"white-space:pre;overflow-x:auto;line-height:normal;font-family:Menlo,'DejaVu Sans Mono',consolas,'Courier New',monospace\"><span style=\"color: #7fbfbf; text-decoration-color: #7fbfbf\">[05/22/25 22:50:37] </span><span style=\"color: #000080; text-decoration-color: #000080\">INFO    </span> ✓ <span style=\"color: #008080; text-decoration-color: #008080; font-weight: bold\">297.</span>txt → Basic\\Gemini\\<span style=\"color: #008080; text-decoration-color: #008080; font-weight: bold\">297.</span>cc                                        <a href=\"file://C:\\Users\\Tasnim\\AppData\\Local\\Temp\\ipykernel_16732\\1564753407.py\" target=\"_blank\"><span style=\"color: #7f7f7f; text-decoration-color: #7f7f7f\">1564753407.py</span></a><span style=\"color: #7f7f7f; text-decoration-color: #7f7f7f\">:</span><a href=\"file://C:\\Users\\Tasnim\\AppData\\Local\\Temp\\ipykernel_16732\\1564753407.py#9\" target=\"_blank\"><span style=\"color: #7f7f7f; text-decoration-color: #7f7f7f\">9</span></a>\n",
       "</pre>\n"
      ],
      "text/plain": [
       "\u001b[2;36m[05/22/25 22:50:37]\u001b[0m\u001b[2;36m \u001b[0m\u001b[34mINFO    \u001b[0m ✓ \u001b[1;36m297.\u001b[0mtxt → Basic\\Gemini\\\u001b[1;36m297.\u001b[0mcc                                        \u001b]8;id=663289;file://C:\\Users\\Tasnim\\AppData\\Local\\Temp\\ipykernel_16732\\1564753407.py\u001b\\\u001b[2m1564753407.py\u001b[0m\u001b]8;;\u001b\\\u001b[2m:\u001b[0m\u001b]8;id=386756;file://C:\\Users\\Tasnim\\AppData\\Local\\Temp\\ipykernel_16732\\1564753407.py#9\u001b\\\u001b[2m9\u001b[0m\u001b]8;;\u001b\\\n"
      ]
     },
     "metadata": {},
     "output_type": "display_data"
    },
    {
     "name": "stderr",
     "output_type": "stream",
     "text": [
      "Generating:  74%|███████▍  | 297/400 [3:23:18<45:57, 26.77s/it]"
     ]
    },
    {
     "data": {
      "text/html": [
       "<pre style=\"white-space:pre;overflow-x:auto;line-height:normal;font-family:Menlo,'DejaVu Sans Mono',consolas,'Courier New',monospace\"><span style=\"color: #7fbfbf; text-decoration-color: #7fbfbf\">[05/22/25 22:51:47] </span><span style=\"color: #000080; text-decoration-color: #000080\">INFO    </span> ✓ <span style=\"color: #008080; text-decoration-color: #008080; font-weight: bold\">298.</span>txt → Basic\\Gemini\\<span style=\"color: #008080; text-decoration-color: #008080; font-weight: bold\">298.</span>cc                                        <a href=\"file://C:\\Users\\Tasnim\\AppData\\Local\\Temp\\ipykernel_16732\\1564753407.py\" target=\"_blank\"><span style=\"color: #7f7f7f; text-decoration-color: #7f7f7f\">1564753407.py</span></a><span style=\"color: #7f7f7f; text-decoration-color: #7f7f7f\">:</span><a href=\"file://C:\\Users\\Tasnim\\AppData\\Local\\Temp\\ipykernel_16732\\1564753407.py#9\" target=\"_blank\"><span style=\"color: #7f7f7f; text-decoration-color: #7f7f7f\">9</span></a>\n",
       "</pre>\n"
      ],
      "text/plain": [
       "\u001b[2;36m[05/22/25 22:51:47]\u001b[0m\u001b[2;36m \u001b[0m\u001b[34mINFO    \u001b[0m ✓ \u001b[1;36m298.\u001b[0mtxt → Basic\\Gemini\\\u001b[1;36m298.\u001b[0mcc                                        \u001b]8;id=621754;file://C:\\Users\\Tasnim\\AppData\\Local\\Temp\\ipykernel_16732\\1564753407.py\u001b\\\u001b[2m1564753407.py\u001b[0m\u001b]8;;\u001b\\\u001b[2m:\u001b[0m\u001b]8;id=162181;file://C:\\Users\\Tasnim\\AppData\\Local\\Temp\\ipykernel_16732\\1564753407.py#9\u001b\\\u001b[2m9\u001b[0m\u001b]8;;\u001b\\\n"
      ]
     },
     "metadata": {},
     "output_type": "display_data"
    },
    {
     "name": "stderr",
     "output_type": "stream",
     "text": [
      "Generating:  74%|███████▍  | 298/400 [3:24:28<1:07:36, 39.77s/it]"
     ]
    },
    {
     "data": {
      "text/html": [
       "<pre style=\"white-space:pre;overflow-x:auto;line-height:normal;font-family:Menlo,'DejaVu Sans Mono',consolas,'Courier New',monospace\"><span style=\"color: #7fbfbf; text-decoration-color: #7fbfbf\">[05/22/25 22:52:06] </span><span style=\"color: #000080; text-decoration-color: #000080\">INFO    </span> ✓ <span style=\"color: #008080; text-decoration-color: #008080; font-weight: bold\">299.</span>txt → Basic\\Gemini\\<span style=\"color: #008080; text-decoration-color: #008080; font-weight: bold\">299.</span>cc                                        <a href=\"file://C:\\Users\\Tasnim\\AppData\\Local\\Temp\\ipykernel_16732\\1564753407.py\" target=\"_blank\"><span style=\"color: #7f7f7f; text-decoration-color: #7f7f7f\">1564753407.py</span></a><span style=\"color: #7f7f7f; text-decoration-color: #7f7f7f\">:</span><a href=\"file://C:\\Users\\Tasnim\\AppData\\Local\\Temp\\ipykernel_16732\\1564753407.py#9\" target=\"_blank\"><span style=\"color: #7f7f7f; text-decoration-color: #7f7f7f\">9</span></a>\n",
       "</pre>\n"
      ],
      "text/plain": [
       "\u001b[2;36m[05/22/25 22:52:06]\u001b[0m\u001b[2;36m \u001b[0m\u001b[34mINFO    \u001b[0m ✓ \u001b[1;36m299.\u001b[0mtxt → Basic\\Gemini\\\u001b[1;36m299.\u001b[0mcc                                        \u001b]8;id=804898;file://C:\\Users\\Tasnim\\AppData\\Local\\Temp\\ipykernel_16732\\1564753407.py\u001b\\\u001b[2m1564753407.py\u001b[0m\u001b]8;;\u001b\\\u001b[2m:\u001b[0m\u001b]8;id=923282;file://C:\\Users\\Tasnim\\AppData\\Local\\Temp\\ipykernel_16732\\1564753407.py#9\u001b\\\u001b[2m9\u001b[0m\u001b]8;;\u001b\\\n"
      ]
     },
     "metadata": {},
     "output_type": "display_data"
    },
    {
     "name": "stderr",
     "output_type": "stream",
     "text": [
      "Generating:  75%|███████▍  | 299/400 [3:24:47<56:19, 33.46s/it]  "
     ]
    },
    {
     "data": {
      "text/html": [
       "<pre style=\"white-space:pre;overflow-x:auto;line-height:normal;font-family:Menlo,'DejaVu Sans Mono',consolas,'Courier New',monospace\"><span style=\"color: #7fbfbf; text-decoration-color: #7fbfbf\">[05/22/25 22:52:37] </span><span style=\"color: #000080; text-decoration-color: #000080\">INFO    </span> ✓ <span style=\"color: #008080; text-decoration-color: #008080; font-weight: bold\">300.</span>txt → Basic\\Gemini\\<span style=\"color: #008080; text-decoration-color: #008080; font-weight: bold\">300.</span>cc                                        <a href=\"file://C:\\Users\\Tasnim\\AppData\\Local\\Temp\\ipykernel_16732\\1564753407.py\" target=\"_blank\"><span style=\"color: #7f7f7f; text-decoration-color: #7f7f7f\">1564753407.py</span></a><span style=\"color: #7f7f7f; text-decoration-color: #7f7f7f\">:</span><a href=\"file://C:\\Users\\Tasnim\\AppData\\Local\\Temp\\ipykernel_16732\\1564753407.py#9\" target=\"_blank\"><span style=\"color: #7f7f7f; text-decoration-color: #7f7f7f\">9</span></a>\n",
       "</pre>\n"
      ],
      "text/plain": [
       "\u001b[2;36m[05/22/25 22:52:37]\u001b[0m\u001b[2;36m \u001b[0m\u001b[34mINFO    \u001b[0m ✓ \u001b[1;36m300.\u001b[0mtxt → Basic\\Gemini\\\u001b[1;36m300.\u001b[0mcc                                        \u001b]8;id=151499;file://C:\\Users\\Tasnim\\AppData\\Local\\Temp\\ipykernel_16732\\1564753407.py\u001b\\\u001b[2m1564753407.py\u001b[0m\u001b]8;;\u001b\\\u001b[2m:\u001b[0m\u001b]8;id=486254;file://C:\\Users\\Tasnim\\AppData\\Local\\Temp\\ipykernel_16732\\1564753407.py#9\u001b\\\u001b[2m9\u001b[0m\u001b]8;;\u001b\\\n"
      ]
     },
     "metadata": {},
     "output_type": "display_data"
    },
    {
     "name": "stderr",
     "output_type": "stream",
     "text": [
      "Generating:  75%|███████▌  | 300/400 [3:25:18<54:45, 32.85s/it]"
     ]
    },
    {
     "data": {
      "text/html": [
       "<pre style=\"white-space:pre;overflow-x:auto;line-height:normal;font-family:Menlo,'DejaVu Sans Mono',consolas,'Courier New',monospace\"><span style=\"color: #7fbfbf; text-decoration-color: #7fbfbf\">[05/22/25 22:52:54] </span><span style=\"color: #000080; text-decoration-color: #000080\">INFO    </span> ✓ <span style=\"color: #008080; text-decoration-color: #008080; font-weight: bold\">301.</span>txt → Basic\\Gemini\\<span style=\"color: #008080; text-decoration-color: #008080; font-weight: bold\">301.</span>cc                                        <a href=\"file://C:\\Users\\Tasnim\\AppData\\Local\\Temp\\ipykernel_16732\\1564753407.py\" target=\"_blank\"><span style=\"color: #7f7f7f; text-decoration-color: #7f7f7f\">1564753407.py</span></a><span style=\"color: #7f7f7f; text-decoration-color: #7f7f7f\">:</span><a href=\"file://C:\\Users\\Tasnim\\AppData\\Local\\Temp\\ipykernel_16732\\1564753407.py#9\" target=\"_blank\"><span style=\"color: #7f7f7f; text-decoration-color: #7f7f7f\">9</span></a>\n",
       "</pre>\n"
      ],
      "text/plain": [
       "\u001b[2;36m[05/22/25 22:52:54]\u001b[0m\u001b[2;36m \u001b[0m\u001b[34mINFO    \u001b[0m ✓ \u001b[1;36m301.\u001b[0mtxt → Basic\\Gemini\\\u001b[1;36m301.\u001b[0mcc                                        \u001b]8;id=239263;file://C:\\Users\\Tasnim\\AppData\\Local\\Temp\\ipykernel_16732\\1564753407.py\u001b\\\u001b[2m1564753407.py\u001b[0m\u001b]8;;\u001b\\\u001b[2m:\u001b[0m\u001b]8;id=583526;file://C:\\Users\\Tasnim\\AppData\\Local\\Temp\\ipykernel_16732\\1564753407.py#9\u001b\\\u001b[2m9\u001b[0m\u001b]8;;\u001b\\\n"
      ]
     },
     "metadata": {},
     "output_type": "display_data"
    },
    {
     "name": "stderr",
     "output_type": "stream",
     "text": [
      "Generating:  75%|███████▌  | 301/400 [3:25:35<46:28, 28.17s/it]"
     ]
    },
    {
     "data": {
      "text/html": [
       "<pre style=\"white-space:pre;overflow-x:auto;line-height:normal;font-family:Menlo,'DejaVu Sans Mono',consolas,'Courier New',monospace\"><span style=\"color: #7fbfbf; text-decoration-color: #7fbfbf\">[05/22/25 22:53:18] </span><span style=\"color: #000080; text-decoration-color: #000080\">INFO    </span> ✓ <span style=\"color: #008080; text-decoration-color: #008080; font-weight: bold\">302.</span>txt → Basic\\Gemini\\<span style=\"color: #008080; text-decoration-color: #008080; font-weight: bold\">302.</span>cc                                        <a href=\"file://C:\\Users\\Tasnim\\AppData\\Local\\Temp\\ipykernel_16732\\1564753407.py\" target=\"_blank\"><span style=\"color: #7f7f7f; text-decoration-color: #7f7f7f\">1564753407.py</span></a><span style=\"color: #7f7f7f; text-decoration-color: #7f7f7f\">:</span><a href=\"file://C:\\Users\\Tasnim\\AppData\\Local\\Temp\\ipykernel_16732\\1564753407.py#9\" target=\"_blank\"><span style=\"color: #7f7f7f; text-decoration-color: #7f7f7f\">9</span></a>\n",
       "</pre>\n"
      ],
      "text/plain": [
       "\u001b[2;36m[05/22/25 22:53:18]\u001b[0m\u001b[2;36m \u001b[0m\u001b[34mINFO    \u001b[0m ✓ \u001b[1;36m302.\u001b[0mtxt → Basic\\Gemini\\\u001b[1;36m302.\u001b[0mcc                                        \u001b]8;id=351233;file://C:\\Users\\Tasnim\\AppData\\Local\\Temp\\ipykernel_16732\\1564753407.py\u001b\\\u001b[2m1564753407.py\u001b[0m\u001b]8;;\u001b\\\u001b[2m:\u001b[0m\u001b]8;id=112137;file://C:\\Users\\Tasnim\\AppData\\Local\\Temp\\ipykernel_16732\\1564753407.py#9\u001b\\\u001b[2m9\u001b[0m\u001b]8;;\u001b\\\n"
      ]
     },
     "metadata": {},
     "output_type": "display_data"
    },
    {
     "name": "stderr",
     "output_type": "stream",
     "text": [
      "Generating:  76%|███████▌  | 302/400 [3:25:59<43:55, 26.89s/it]"
     ]
    },
    {
     "data": {
      "text/html": [
       "<pre style=\"white-space:pre;overflow-x:auto;line-height:normal;font-family:Menlo,'DejaVu Sans Mono',consolas,'Courier New',monospace\"><span style=\"color: #7fbfbf; text-decoration-color: #7fbfbf\">[05/22/25 22:53:38] </span><span style=\"color: #000080; text-decoration-color: #000080\">INFO    </span> ✓ <span style=\"color: #008080; text-decoration-color: #008080; font-weight: bold\">303.</span>txt → Basic\\Gemini\\<span style=\"color: #008080; text-decoration-color: #008080; font-weight: bold\">303.</span>cc                                        <a href=\"file://C:\\Users\\Tasnim\\AppData\\Local\\Temp\\ipykernel_16732\\1564753407.py\" target=\"_blank\"><span style=\"color: #7f7f7f; text-decoration-color: #7f7f7f\">1564753407.py</span></a><span style=\"color: #7f7f7f; text-decoration-color: #7f7f7f\">:</span><a href=\"file://C:\\Users\\Tasnim\\AppData\\Local\\Temp\\ipykernel_16732\\1564753407.py#9\" target=\"_blank\"><span style=\"color: #7f7f7f; text-decoration-color: #7f7f7f\">9</span></a>\n",
       "</pre>\n"
      ],
      "text/plain": [
       "\u001b[2;36m[05/22/25 22:53:38]\u001b[0m\u001b[2;36m \u001b[0m\u001b[34mINFO    \u001b[0m ✓ \u001b[1;36m303.\u001b[0mtxt → Basic\\Gemini\\\u001b[1;36m303.\u001b[0mcc                                        \u001b]8;id=540556;file://C:\\Users\\Tasnim\\AppData\\Local\\Temp\\ipykernel_16732\\1564753407.py\u001b\\\u001b[2m1564753407.py\u001b[0m\u001b]8;;\u001b\\\u001b[2m:\u001b[0m\u001b]8;id=26113;file://C:\\Users\\Tasnim\\AppData\\Local\\Temp\\ipykernel_16732\\1564753407.py#9\u001b\\\u001b[2m9\u001b[0m\u001b]8;;\u001b\\\n"
      ]
     },
     "metadata": {},
     "output_type": "display_data"
    },
    {
     "name": "stderr",
     "output_type": "stream",
     "text": [
      "Generating:  76%|███████▌  | 303/400 [3:26:19<40:02, 24.77s/it]"
     ]
    },
    {
     "data": {
      "text/html": [
       "<pre style=\"white-space:pre;overflow-x:auto;line-height:normal;font-family:Menlo,'DejaVu Sans Mono',consolas,'Courier New',monospace\"><span style=\"color: #7fbfbf; text-decoration-color: #7fbfbf\">[05/22/25 22:54:09] </span><span style=\"color: #000080; text-decoration-color: #000080\">INFO    </span> ✓ <span style=\"color: #008080; text-decoration-color: #008080; font-weight: bold\">304.</span>txt → Basic\\Gemini\\<span style=\"color: #008080; text-decoration-color: #008080; font-weight: bold\">304.</span>cc                                        <a href=\"file://C:\\Users\\Tasnim\\AppData\\Local\\Temp\\ipykernel_16732\\1564753407.py\" target=\"_blank\"><span style=\"color: #7f7f7f; text-decoration-color: #7f7f7f\">1564753407.py</span></a><span style=\"color: #7f7f7f; text-decoration-color: #7f7f7f\">:</span><a href=\"file://C:\\Users\\Tasnim\\AppData\\Local\\Temp\\ipykernel_16732\\1564753407.py#9\" target=\"_blank\"><span style=\"color: #7f7f7f; text-decoration-color: #7f7f7f\">9</span></a>\n",
       "</pre>\n"
      ],
      "text/plain": [
       "\u001b[2;36m[05/22/25 22:54:09]\u001b[0m\u001b[2;36m \u001b[0m\u001b[34mINFO    \u001b[0m ✓ \u001b[1;36m304.\u001b[0mtxt → Basic\\Gemini\\\u001b[1;36m304.\u001b[0mcc                                        \u001b]8;id=651995;file://C:\\Users\\Tasnim\\AppData\\Local\\Temp\\ipykernel_16732\\1564753407.py\u001b\\\u001b[2m1564753407.py\u001b[0m\u001b]8;;\u001b\\\u001b[2m:\u001b[0m\u001b]8;id=178052;file://C:\\Users\\Tasnim\\AppData\\Local\\Temp\\ipykernel_16732\\1564753407.py#9\u001b\\\u001b[2m9\u001b[0m\u001b]8;;\u001b\\\n"
      ]
     },
     "metadata": {},
     "output_type": "display_data"
    },
    {
     "name": "stderr",
     "output_type": "stream",
     "text": [
      "Generating:  76%|███████▌  | 304/400 [3:26:50<42:38, 26.66s/it]"
     ]
    },
    {
     "data": {
      "text/html": [
       "<pre style=\"white-space:pre;overflow-x:auto;line-height:normal;font-family:Menlo,'DejaVu Sans Mono',consolas,'Courier New',monospace\"><span style=\"color: #7fbfbf; text-decoration-color: #7fbfbf\">[05/22/25 22:54:33] </span><span style=\"color: #000080; text-decoration-color: #000080\">INFO    </span> ✓ <span style=\"color: #008080; text-decoration-color: #008080; font-weight: bold\">305.</span>txt → Basic\\Gemini\\<span style=\"color: #008080; text-decoration-color: #008080; font-weight: bold\">305.</span>cc                                        <a href=\"file://C:\\Users\\Tasnim\\AppData\\Local\\Temp\\ipykernel_16732\\1564753407.py\" target=\"_blank\"><span style=\"color: #7f7f7f; text-decoration-color: #7f7f7f\">1564753407.py</span></a><span style=\"color: #7f7f7f; text-decoration-color: #7f7f7f\">:</span><a href=\"file://C:\\Users\\Tasnim\\AppData\\Local\\Temp\\ipykernel_16732\\1564753407.py#9\" target=\"_blank\"><span style=\"color: #7f7f7f; text-decoration-color: #7f7f7f\">9</span></a>\n",
       "</pre>\n"
      ],
      "text/plain": [
       "\u001b[2;36m[05/22/25 22:54:33]\u001b[0m\u001b[2;36m \u001b[0m\u001b[34mINFO    \u001b[0m ✓ \u001b[1;36m305.\u001b[0mtxt → Basic\\Gemini\\\u001b[1;36m305.\u001b[0mcc                                        \u001b]8;id=255518;file://C:\\Users\\Tasnim\\AppData\\Local\\Temp\\ipykernel_16732\\1564753407.py\u001b\\\u001b[2m1564753407.py\u001b[0m\u001b]8;;\u001b\\\u001b[2m:\u001b[0m\u001b]8;id=217795;file://C:\\Users\\Tasnim\\AppData\\Local\\Temp\\ipykernel_16732\\1564753407.py#9\u001b\\\u001b[2m9\u001b[0m\u001b]8;;\u001b\\\n"
      ]
     },
     "metadata": {},
     "output_type": "display_data"
    },
    {
     "name": "stderr",
     "output_type": "stream",
     "text": [
      "Generating:  76%|███████▋  | 305/400 [3:27:14<40:46, 25.75s/it]"
     ]
    },
    {
     "data": {
      "text/html": [
       "<pre style=\"white-space:pre;overflow-x:auto;line-height:normal;font-family:Menlo,'DejaVu Sans Mono',consolas,'Courier New',monospace\"><span style=\"color: #7fbfbf; text-decoration-color: #7fbfbf\">[05/22/25 22:54:58] </span><span style=\"color: #000080; text-decoration-color: #000080\">INFO    </span> ✓ <span style=\"color: #008080; text-decoration-color: #008080; font-weight: bold\">306.</span>txt → Basic\\Gemini\\<span style=\"color: #008080; text-decoration-color: #008080; font-weight: bold\">306.</span>cc                                        <a href=\"file://C:\\Users\\Tasnim\\AppData\\Local\\Temp\\ipykernel_16732\\1564753407.py\" target=\"_blank\"><span style=\"color: #7f7f7f; text-decoration-color: #7f7f7f\">1564753407.py</span></a><span style=\"color: #7f7f7f; text-decoration-color: #7f7f7f\">:</span><a href=\"file://C:\\Users\\Tasnim\\AppData\\Local\\Temp\\ipykernel_16732\\1564753407.py#9\" target=\"_blank\"><span style=\"color: #7f7f7f; text-decoration-color: #7f7f7f\">9</span></a>\n",
       "</pre>\n"
      ],
      "text/plain": [
       "\u001b[2;36m[05/22/25 22:54:58]\u001b[0m\u001b[2;36m \u001b[0m\u001b[34mINFO    \u001b[0m ✓ \u001b[1;36m306.\u001b[0mtxt → Basic\\Gemini\\\u001b[1;36m306.\u001b[0mcc                                        \u001b]8;id=403543;file://C:\\Users\\Tasnim\\AppData\\Local\\Temp\\ipykernel_16732\\1564753407.py\u001b\\\u001b[2m1564753407.py\u001b[0m\u001b]8;;\u001b\\\u001b[2m:\u001b[0m\u001b]8;id=755826;file://C:\\Users\\Tasnim\\AppData\\Local\\Temp\\ipykernel_16732\\1564753407.py#9\u001b\\\u001b[2m9\u001b[0m\u001b]8;;\u001b\\\n"
      ]
     },
     "metadata": {},
     "output_type": "display_data"
    },
    {
     "name": "stderr",
     "output_type": "stream",
     "text": [
      "Generating:  76%|███████▋  | 306/400 [3:27:39<40:15, 25.70s/it]"
     ]
    },
    {
     "data": {
      "text/html": [
       "<pre style=\"white-space:pre;overflow-x:auto;line-height:normal;font-family:Menlo,'DejaVu Sans Mono',consolas,'Courier New',monospace\"><span style=\"color: #7fbfbf; text-decoration-color: #7fbfbf\">[05/22/25 22:55:20] </span><span style=\"color: #000080; text-decoration-color: #000080\">INFO    </span> ✓ <span style=\"color: #008080; text-decoration-color: #008080; font-weight: bold\">307.</span>txt → Basic\\Gemini\\<span style=\"color: #008080; text-decoration-color: #008080; font-weight: bold\">307.</span>cc                                        <a href=\"file://C:\\Users\\Tasnim\\AppData\\Local\\Temp\\ipykernel_16732\\1564753407.py\" target=\"_blank\"><span style=\"color: #7f7f7f; text-decoration-color: #7f7f7f\">1564753407.py</span></a><span style=\"color: #7f7f7f; text-decoration-color: #7f7f7f\">:</span><a href=\"file://C:\\Users\\Tasnim\\AppData\\Local\\Temp\\ipykernel_16732\\1564753407.py#9\" target=\"_blank\"><span style=\"color: #7f7f7f; text-decoration-color: #7f7f7f\">9</span></a>\n",
       "</pre>\n"
      ],
      "text/plain": [
       "\u001b[2;36m[05/22/25 22:55:20]\u001b[0m\u001b[2;36m \u001b[0m\u001b[34mINFO    \u001b[0m ✓ \u001b[1;36m307.\u001b[0mtxt → Basic\\Gemini\\\u001b[1;36m307.\u001b[0mcc                                        \u001b]8;id=595180;file://C:\\Users\\Tasnim\\AppData\\Local\\Temp\\ipykernel_16732\\1564753407.py\u001b\\\u001b[2m1564753407.py\u001b[0m\u001b]8;;\u001b\\\u001b[2m:\u001b[0m\u001b]8;id=257282;file://C:\\Users\\Tasnim\\AppData\\Local\\Temp\\ipykernel_16732\\1564753407.py#9\u001b\\\u001b[2m9\u001b[0m\u001b]8;;\u001b\\\n"
      ]
     },
     "metadata": {},
     "output_type": "display_data"
    },
    {
     "name": "stderr",
     "output_type": "stream",
     "text": [
      "Generating:  77%|███████▋  | 307/400 [3:28:01<37:59, 24.51s/it]"
     ]
    },
    {
     "data": {
      "text/html": [
       "<pre style=\"white-space:pre;overflow-x:auto;line-height:normal;font-family:Menlo,'DejaVu Sans Mono',consolas,'Courier New',monospace\"><span style=\"color: #7fbfbf; text-decoration-color: #7fbfbf\">[05/22/25 22:55:33] </span><span style=\"color: #000080; text-decoration-color: #000080\">INFO    </span> ✓ <span style=\"color: #008080; text-decoration-color: #008080; font-weight: bold\">308.</span>txt → Basic\\Gemini\\<span style=\"color: #008080; text-decoration-color: #008080; font-weight: bold\">308.</span>cc                                        <a href=\"file://C:\\Users\\Tasnim\\AppData\\Local\\Temp\\ipykernel_16732\\1564753407.py\" target=\"_blank\"><span style=\"color: #7f7f7f; text-decoration-color: #7f7f7f\">1564753407.py</span></a><span style=\"color: #7f7f7f; text-decoration-color: #7f7f7f\">:</span><a href=\"file://C:\\Users\\Tasnim\\AppData\\Local\\Temp\\ipykernel_16732\\1564753407.py#9\" target=\"_blank\"><span style=\"color: #7f7f7f; text-decoration-color: #7f7f7f\">9</span></a>\n",
       "</pre>\n"
      ],
      "text/plain": [
       "\u001b[2;36m[05/22/25 22:55:33]\u001b[0m\u001b[2;36m \u001b[0m\u001b[34mINFO    \u001b[0m ✓ \u001b[1;36m308.\u001b[0mtxt → Basic\\Gemini\\\u001b[1;36m308.\u001b[0mcc                                        \u001b]8;id=258372;file://C:\\Users\\Tasnim\\AppData\\Local\\Temp\\ipykernel_16732\\1564753407.py\u001b\\\u001b[2m1564753407.py\u001b[0m\u001b]8;;\u001b\\\u001b[2m:\u001b[0m\u001b]8;id=23861;file://C:\\Users\\Tasnim\\AppData\\Local\\Temp\\ipykernel_16732\\1564753407.py#9\u001b\\\u001b[2m9\u001b[0m\u001b]8;;\u001b\\\n"
      ]
     },
     "metadata": {},
     "output_type": "display_data"
    },
    {
     "name": "stderr",
     "output_type": "stream",
     "text": [
      "Generating:  77%|███████▋  | 308/400 [3:28:14<32:25, 21.14s/it]"
     ]
    },
    {
     "data": {
      "text/html": [
       "<pre style=\"white-space:pre;overflow-x:auto;line-height:normal;font-family:Menlo,'DejaVu Sans Mono',consolas,'Courier New',monospace\"><span style=\"color: #7fbfbf; text-decoration-color: #7fbfbf\">[05/22/25 22:55:55] </span><span style=\"color: #000080; text-decoration-color: #000080\">INFO    </span> ✓ <span style=\"color: #008080; text-decoration-color: #008080; font-weight: bold\">309.</span>txt → Basic\\Gemini\\<span style=\"color: #008080; text-decoration-color: #008080; font-weight: bold\">309.</span>cc                                        <a href=\"file://C:\\Users\\Tasnim\\AppData\\Local\\Temp\\ipykernel_16732\\1564753407.py\" target=\"_blank\"><span style=\"color: #7f7f7f; text-decoration-color: #7f7f7f\">1564753407.py</span></a><span style=\"color: #7f7f7f; text-decoration-color: #7f7f7f\">:</span><a href=\"file://C:\\Users\\Tasnim\\AppData\\Local\\Temp\\ipykernel_16732\\1564753407.py#9\" target=\"_blank\"><span style=\"color: #7f7f7f; text-decoration-color: #7f7f7f\">9</span></a>\n",
       "</pre>\n"
      ],
      "text/plain": [
       "\u001b[2;36m[05/22/25 22:55:55]\u001b[0m\u001b[2;36m \u001b[0m\u001b[34mINFO    \u001b[0m ✓ \u001b[1;36m309.\u001b[0mtxt → Basic\\Gemini\\\u001b[1;36m309.\u001b[0mcc                                        \u001b]8;id=774995;file://C:\\Users\\Tasnim\\AppData\\Local\\Temp\\ipykernel_16732\\1564753407.py\u001b\\\u001b[2m1564753407.py\u001b[0m\u001b]8;;\u001b\\\u001b[2m:\u001b[0m\u001b]8;id=334443;file://C:\\Users\\Tasnim\\AppData\\Local\\Temp\\ipykernel_16732\\1564753407.py#9\u001b\\\u001b[2m9\u001b[0m\u001b]8;;\u001b\\\n"
      ]
     },
     "metadata": {},
     "output_type": "display_data"
    },
    {
     "name": "stderr",
     "output_type": "stream",
     "text": [
      "Generating:  77%|███████▋  | 309/400 [3:28:35<32:03, 21.14s/it]"
     ]
    },
    {
     "data": {
      "text/html": [
       "<pre style=\"white-space:pre;overflow-x:auto;line-height:normal;font-family:Menlo,'DejaVu Sans Mono',consolas,'Courier New',monospace\"><span style=\"color: #7fbfbf; text-decoration-color: #7fbfbf\">[05/22/25 22:56:12] </span><span style=\"color: #000080; text-decoration-color: #000080\">INFO    </span> ✓ <span style=\"color: #008080; text-decoration-color: #008080; font-weight: bold\">310.</span>txt → Basic\\Gemini\\<span style=\"color: #008080; text-decoration-color: #008080; font-weight: bold\">310.</span>cc                                        <a href=\"file://C:\\Users\\Tasnim\\AppData\\Local\\Temp\\ipykernel_16732\\1564753407.py\" target=\"_blank\"><span style=\"color: #7f7f7f; text-decoration-color: #7f7f7f\">1564753407.py</span></a><span style=\"color: #7f7f7f; text-decoration-color: #7f7f7f\">:</span><a href=\"file://C:\\Users\\Tasnim\\AppData\\Local\\Temp\\ipykernel_16732\\1564753407.py#9\" target=\"_blank\"><span style=\"color: #7f7f7f; text-decoration-color: #7f7f7f\">9</span></a>\n",
       "</pre>\n"
      ],
      "text/plain": [
       "\u001b[2;36m[05/22/25 22:56:12]\u001b[0m\u001b[2;36m \u001b[0m\u001b[34mINFO    \u001b[0m ✓ \u001b[1;36m310.\u001b[0mtxt → Basic\\Gemini\\\u001b[1;36m310.\u001b[0mcc                                        \u001b]8;id=768691;file://C:\\Users\\Tasnim\\AppData\\Local\\Temp\\ipykernel_16732\\1564753407.py\u001b\\\u001b[2m1564753407.py\u001b[0m\u001b]8;;\u001b\\\u001b[2m:\u001b[0m\u001b]8;id=411835;file://C:\\Users\\Tasnim\\AppData\\Local\\Temp\\ipykernel_16732\\1564753407.py#9\u001b\\\u001b[2m9\u001b[0m\u001b]8;;\u001b\\\n"
      ]
     },
     "metadata": {},
     "output_type": "display_data"
    },
    {
     "name": "stderr",
     "output_type": "stream",
     "text": [
      "Generating:  78%|███████▊  | 310/400 [3:28:53<30:03, 20.04s/it]"
     ]
    },
    {
     "data": {
      "text/html": [
       "<pre style=\"white-space:pre;overflow-x:auto;line-height:normal;font-family:Menlo,'DejaVu Sans Mono',consolas,'Courier New',monospace\"><span style=\"color: #7fbfbf; text-decoration-color: #7fbfbf\">[05/22/25 22:56:38] </span><span style=\"color: #000080; text-decoration-color: #000080\">INFO    </span> ✓ <span style=\"color: #008080; text-decoration-color: #008080; font-weight: bold\">311.</span>txt → Basic\\Gemini\\<span style=\"color: #008080; text-decoration-color: #008080; font-weight: bold\">311.</span>cc                                        <a href=\"file://C:\\Users\\Tasnim\\AppData\\Local\\Temp\\ipykernel_16732\\1564753407.py\" target=\"_blank\"><span style=\"color: #7f7f7f; text-decoration-color: #7f7f7f\">1564753407.py</span></a><span style=\"color: #7f7f7f; text-decoration-color: #7f7f7f\">:</span><a href=\"file://C:\\Users\\Tasnim\\AppData\\Local\\Temp\\ipykernel_16732\\1564753407.py#9\" target=\"_blank\"><span style=\"color: #7f7f7f; text-decoration-color: #7f7f7f\">9</span></a>\n",
       "</pre>\n"
      ],
      "text/plain": [
       "\u001b[2;36m[05/22/25 22:56:38]\u001b[0m\u001b[2;36m \u001b[0m\u001b[34mINFO    \u001b[0m ✓ \u001b[1;36m311.\u001b[0mtxt → Basic\\Gemini\\\u001b[1;36m311.\u001b[0mcc                                        \u001b]8;id=796895;file://C:\\Users\\Tasnim\\AppData\\Local\\Temp\\ipykernel_16732\\1564753407.py\u001b\\\u001b[2m1564753407.py\u001b[0m\u001b]8;;\u001b\\\u001b[2m:\u001b[0m\u001b]8;id=512161;file://C:\\Users\\Tasnim\\AppData\\Local\\Temp\\ipykernel_16732\\1564753407.py#9\u001b\\\u001b[2m9\u001b[0m\u001b]8;;\u001b\\\n"
      ]
     },
     "metadata": {},
     "output_type": "display_data"
    },
    {
     "name": "stderr",
     "output_type": "stream",
     "text": [
      "Generating:  78%|███████▊  | 311/400 [3:29:19<32:17, 21.76s/it]"
     ]
    },
    {
     "data": {
      "text/html": [
       "<pre style=\"white-space:pre;overflow-x:auto;line-height:normal;font-family:Menlo,'DejaVu Sans Mono',consolas,'Courier New',monospace\"><span style=\"color: #7fbfbf; text-decoration-color: #7fbfbf\">[05/22/25 22:56:58] </span><span style=\"color: #000080; text-decoration-color: #000080\">INFO    </span> ✓ <span style=\"color: #008080; text-decoration-color: #008080; font-weight: bold\">312.</span>txt → Basic\\Gemini\\<span style=\"color: #008080; text-decoration-color: #008080; font-weight: bold\">312.</span>cc                                        <a href=\"file://C:\\Users\\Tasnim\\AppData\\Local\\Temp\\ipykernel_16732\\1564753407.py\" target=\"_blank\"><span style=\"color: #7f7f7f; text-decoration-color: #7f7f7f\">1564753407.py</span></a><span style=\"color: #7f7f7f; text-decoration-color: #7f7f7f\">:</span><a href=\"file://C:\\Users\\Tasnim\\AppData\\Local\\Temp\\ipykernel_16732\\1564753407.py#9\" target=\"_blank\"><span style=\"color: #7f7f7f; text-decoration-color: #7f7f7f\">9</span></a>\n",
       "</pre>\n"
      ],
      "text/plain": [
       "\u001b[2;36m[05/22/25 22:56:58]\u001b[0m\u001b[2;36m \u001b[0m\u001b[34mINFO    \u001b[0m ✓ \u001b[1;36m312.\u001b[0mtxt → Basic\\Gemini\\\u001b[1;36m312.\u001b[0mcc                                        \u001b]8;id=141183;file://C:\\Users\\Tasnim\\AppData\\Local\\Temp\\ipykernel_16732\\1564753407.py\u001b\\\u001b[2m1564753407.py\u001b[0m\u001b]8;;\u001b\\\u001b[2m:\u001b[0m\u001b]8;id=706651;file://C:\\Users\\Tasnim\\AppData\\Local\\Temp\\ipykernel_16732\\1564753407.py#9\u001b\\\u001b[2m9\u001b[0m\u001b]8;;\u001b\\\n"
      ]
     },
     "metadata": {},
     "output_type": "display_data"
    },
    {
     "name": "stderr",
     "output_type": "stream",
     "text": [
      "Generating:  78%|███████▊  | 312/400 [3:29:39<31:04, 21.19s/it]"
     ]
    },
    {
     "data": {
      "text/html": [
       "<pre style=\"white-space:pre;overflow-x:auto;line-height:normal;font-family:Menlo,'DejaVu Sans Mono',consolas,'Courier New',monospace\"><span style=\"color: #7fbfbf; text-decoration-color: #7fbfbf\">[05/22/25 22:57:26] </span><span style=\"color: #000080; text-decoration-color: #000080\">INFO    </span> ✓ <span style=\"color: #008080; text-decoration-color: #008080; font-weight: bold\">313.</span>txt → Basic\\Gemini\\<span style=\"color: #008080; text-decoration-color: #008080; font-weight: bold\">313.</span>cc                                        <a href=\"file://C:\\Users\\Tasnim\\AppData\\Local\\Temp\\ipykernel_16732\\1564753407.py\" target=\"_blank\"><span style=\"color: #7f7f7f; text-decoration-color: #7f7f7f\">1564753407.py</span></a><span style=\"color: #7f7f7f; text-decoration-color: #7f7f7f\">:</span><a href=\"file://C:\\Users\\Tasnim\\AppData\\Local\\Temp\\ipykernel_16732\\1564753407.py#9\" target=\"_blank\"><span style=\"color: #7f7f7f; text-decoration-color: #7f7f7f\">9</span></a>\n",
       "</pre>\n"
      ],
      "text/plain": [
       "\u001b[2;36m[05/22/25 22:57:26]\u001b[0m\u001b[2;36m \u001b[0m\u001b[34mINFO    \u001b[0m ✓ \u001b[1;36m313.\u001b[0mtxt → Basic\\Gemini\\\u001b[1;36m313.\u001b[0mcc                                        \u001b]8;id=518683;file://C:\\Users\\Tasnim\\AppData\\Local\\Temp\\ipykernel_16732\\1564753407.py\u001b\\\u001b[2m1564753407.py\u001b[0m\u001b]8;;\u001b\\\u001b[2m:\u001b[0m\u001b]8;id=745411;file://C:\\Users\\Tasnim\\AppData\\Local\\Temp\\ipykernel_16732\\1564753407.py#9\u001b\\\u001b[2m9\u001b[0m\u001b]8;;\u001b\\\n"
      ]
     },
     "metadata": {},
     "output_type": "display_data"
    },
    {
     "name": "stderr",
     "output_type": "stream",
     "text": [
      "Generating:  78%|███████▊  | 313/400 [3:30:06<33:36, 23.18s/it]"
     ]
    },
    {
     "data": {
      "text/html": [
       "<pre style=\"white-space:pre;overflow-x:auto;line-height:normal;font-family:Menlo,'DejaVu Sans Mono',consolas,'Courier New',monospace\"><span style=\"color: #7fbfbf; text-decoration-color: #7fbfbf\">[05/22/25 22:57:55] </span><span style=\"color: #000080; text-decoration-color: #000080\">INFO    </span> ✓ <span style=\"color: #008080; text-decoration-color: #008080; font-weight: bold\">314.</span>txt → Basic\\Gemini\\<span style=\"color: #008080; text-decoration-color: #008080; font-weight: bold\">314.</span>cc                                        <a href=\"file://C:\\Users\\Tasnim\\AppData\\Local\\Temp\\ipykernel_16732\\1564753407.py\" target=\"_blank\"><span style=\"color: #7f7f7f; text-decoration-color: #7f7f7f\">1564753407.py</span></a><span style=\"color: #7f7f7f; text-decoration-color: #7f7f7f\">:</span><a href=\"file://C:\\Users\\Tasnim\\AppData\\Local\\Temp\\ipykernel_16732\\1564753407.py#9\" target=\"_blank\"><span style=\"color: #7f7f7f; text-decoration-color: #7f7f7f\">9</span></a>\n",
       "</pre>\n"
      ],
      "text/plain": [
       "\u001b[2;36m[05/22/25 22:57:55]\u001b[0m\u001b[2;36m \u001b[0m\u001b[34mINFO    \u001b[0m ✓ \u001b[1;36m314.\u001b[0mtxt → Basic\\Gemini\\\u001b[1;36m314.\u001b[0mcc                                        \u001b]8;id=363219;file://C:\\Users\\Tasnim\\AppData\\Local\\Temp\\ipykernel_16732\\1564753407.py\u001b\\\u001b[2m1564753407.py\u001b[0m\u001b]8;;\u001b\\\u001b[2m:\u001b[0m\u001b]8;id=323123;file://C:\\Users\\Tasnim\\AppData\\Local\\Temp\\ipykernel_16732\\1564753407.py#9\u001b\\\u001b[2m9\u001b[0m\u001b]8;;\u001b\\\n"
      ]
     },
     "metadata": {},
     "output_type": "display_data"
    },
    {
     "name": "stderr",
     "output_type": "stream",
     "text": [
      "Generating:  78%|███████▊  | 314/400 [3:30:36<35:49, 24.99s/it]"
     ]
    },
    {
     "data": {
      "text/html": [
       "<pre style=\"white-space:pre;overflow-x:auto;line-height:normal;font-family:Menlo,'DejaVu Sans Mono',consolas,'Courier New',monospace\"><span style=\"color: #7fbfbf; text-decoration-color: #7fbfbf\">[05/22/25 22:58:32] </span><span style=\"color: #000080; text-decoration-color: #000080\">INFO    </span> ✓ <span style=\"color: #008080; text-decoration-color: #008080; font-weight: bold\">315.</span>txt → Basic\\Gemini\\<span style=\"color: #008080; text-decoration-color: #008080; font-weight: bold\">315.</span>cc                                        <a href=\"file://C:\\Users\\Tasnim\\AppData\\Local\\Temp\\ipykernel_16732\\1564753407.py\" target=\"_blank\"><span style=\"color: #7f7f7f; text-decoration-color: #7f7f7f\">1564753407.py</span></a><span style=\"color: #7f7f7f; text-decoration-color: #7f7f7f\">:</span><a href=\"file://C:\\Users\\Tasnim\\AppData\\Local\\Temp\\ipykernel_16732\\1564753407.py#9\" target=\"_blank\"><span style=\"color: #7f7f7f; text-decoration-color: #7f7f7f\">9</span></a>\n",
       "</pre>\n"
      ],
      "text/plain": [
       "\u001b[2;36m[05/22/25 22:58:32]\u001b[0m\u001b[2;36m \u001b[0m\u001b[34mINFO    \u001b[0m ✓ \u001b[1;36m315.\u001b[0mtxt → Basic\\Gemini\\\u001b[1;36m315.\u001b[0mcc                                        \u001b]8;id=161335;file://C:\\Users\\Tasnim\\AppData\\Local\\Temp\\ipykernel_16732\\1564753407.py\u001b\\\u001b[2m1564753407.py\u001b[0m\u001b]8;;\u001b\\\u001b[2m:\u001b[0m\u001b]8;id=442726;file://C:\\Users\\Tasnim\\AppData\\Local\\Temp\\ipykernel_16732\\1564753407.py#9\u001b\\\u001b[2m9\u001b[0m\u001b]8;;\u001b\\\n"
      ]
     },
     "metadata": {},
     "output_type": "display_data"
    },
    {
     "name": "stderr",
     "output_type": "stream",
     "text": [
      "Generating:  79%|███████▉  | 315/400 [3:31:13<40:48, 28.81s/it]"
     ]
    },
    {
     "data": {
      "text/html": [
       "<pre style=\"white-space:pre;overflow-x:auto;line-height:normal;font-family:Menlo,'DejaVu Sans Mono',consolas,'Courier New',monospace\"><span style=\"color: #7fbfbf; text-decoration-color: #7fbfbf\">[05/22/25 22:58:59] </span><span style=\"color: #000080; text-decoration-color: #000080\">INFO    </span> ✓ <span style=\"color: #008080; text-decoration-color: #008080; font-weight: bold\">316.</span>txt → Basic\\Gemini\\<span style=\"color: #008080; text-decoration-color: #008080; font-weight: bold\">316.</span>cc                                        <a href=\"file://C:\\Users\\Tasnim\\AppData\\Local\\Temp\\ipykernel_16732\\1564753407.py\" target=\"_blank\"><span style=\"color: #7f7f7f; text-decoration-color: #7f7f7f\">1564753407.py</span></a><span style=\"color: #7f7f7f; text-decoration-color: #7f7f7f\">:</span><a href=\"file://C:\\Users\\Tasnim\\AppData\\Local\\Temp\\ipykernel_16732\\1564753407.py#9\" target=\"_blank\"><span style=\"color: #7f7f7f; text-decoration-color: #7f7f7f\">9</span></a>\n",
       "</pre>\n"
      ],
      "text/plain": [
       "\u001b[2;36m[05/22/25 22:58:59]\u001b[0m\u001b[2;36m \u001b[0m\u001b[34mINFO    \u001b[0m ✓ \u001b[1;36m316.\u001b[0mtxt → Basic\\Gemini\\\u001b[1;36m316.\u001b[0mcc                                        \u001b]8;id=534922;file://C:\\Users\\Tasnim\\AppData\\Local\\Temp\\ipykernel_16732\\1564753407.py\u001b\\\u001b[2m1564753407.py\u001b[0m\u001b]8;;\u001b\\\u001b[2m:\u001b[0m\u001b]8;id=120129;file://C:\\Users\\Tasnim\\AppData\\Local\\Temp\\ipykernel_16732\\1564753407.py#9\u001b\\\u001b[2m9\u001b[0m\u001b]8;;\u001b\\\n"
      ]
     },
     "metadata": {},
     "output_type": "display_data"
    },
    {
     "name": "stderr",
     "output_type": "stream",
     "text": [
      "Generating:  79%|███████▉  | 316/400 [3:31:40<39:14, 28.04s/it]"
     ]
    },
    {
     "data": {
      "text/html": [
       "<pre style=\"white-space:pre;overflow-x:auto;line-height:normal;font-family:Menlo,'DejaVu Sans Mono',consolas,'Courier New',monospace\"><span style=\"color: #7fbfbf; text-decoration-color: #7fbfbf\">[05/22/25 22:59:40] </span><span style=\"color: #000080; text-decoration-color: #000080\">INFO    </span> ✓ <span style=\"color: #008080; text-decoration-color: #008080; font-weight: bold\">317.</span>txt → Basic\\Gemini\\<span style=\"color: #008080; text-decoration-color: #008080; font-weight: bold\">317.</span>cc                                        <a href=\"file://C:\\Users\\Tasnim\\AppData\\Local\\Temp\\ipykernel_16732\\1564753407.py\" target=\"_blank\"><span style=\"color: #7f7f7f; text-decoration-color: #7f7f7f\">1564753407.py</span></a><span style=\"color: #7f7f7f; text-decoration-color: #7f7f7f\">:</span><a href=\"file://C:\\Users\\Tasnim\\AppData\\Local\\Temp\\ipykernel_16732\\1564753407.py#9\" target=\"_blank\"><span style=\"color: #7f7f7f; text-decoration-color: #7f7f7f\">9</span></a>\n",
       "</pre>\n"
      ],
      "text/plain": [
       "\u001b[2;36m[05/22/25 22:59:40]\u001b[0m\u001b[2;36m \u001b[0m\u001b[34mINFO    \u001b[0m ✓ \u001b[1;36m317.\u001b[0mtxt → Basic\\Gemini\\\u001b[1;36m317.\u001b[0mcc                                        \u001b]8;id=984263;file://C:\\Users\\Tasnim\\AppData\\Local\\Temp\\ipykernel_16732\\1564753407.py\u001b\\\u001b[2m1564753407.py\u001b[0m\u001b]8;;\u001b\\\u001b[2m:\u001b[0m\u001b]8;id=101019;file://C:\\Users\\Tasnim\\AppData\\Local\\Temp\\ipykernel_16732\\1564753407.py#9\u001b\\\u001b[2m9\u001b[0m\u001b]8;;\u001b\\\n"
      ]
     },
     "metadata": {},
     "output_type": "display_data"
    },
    {
     "name": "stderr",
     "output_type": "stream",
     "text": [
      "Generating:  79%|███████▉  | 317/400 [3:32:21<44:13, 31.97s/it]"
     ]
    },
    {
     "data": {
      "text/html": [
       "<pre style=\"white-space:pre;overflow-x:auto;line-height:normal;font-family:Menlo,'DejaVu Sans Mono',consolas,'Courier New',monospace\"><span style=\"color: #7fbfbf; text-decoration-color: #7fbfbf\">[05/22/25 23:00:17] </span><span style=\"color: #000080; text-decoration-color: #000080\">INFO    </span> ✓ <span style=\"color: #008080; text-decoration-color: #008080; font-weight: bold\">318.</span>txt → Basic\\Gemini\\<span style=\"color: #008080; text-decoration-color: #008080; font-weight: bold\">318.</span>cc                                        <a href=\"file://C:\\Users\\Tasnim\\AppData\\Local\\Temp\\ipykernel_16732\\1564753407.py\" target=\"_blank\"><span style=\"color: #7f7f7f; text-decoration-color: #7f7f7f\">1564753407.py</span></a><span style=\"color: #7f7f7f; text-decoration-color: #7f7f7f\">:</span><a href=\"file://C:\\Users\\Tasnim\\AppData\\Local\\Temp\\ipykernel_16732\\1564753407.py#9\" target=\"_blank\"><span style=\"color: #7f7f7f; text-decoration-color: #7f7f7f\">9</span></a>\n",
       "</pre>\n"
      ],
      "text/plain": [
       "\u001b[2;36m[05/22/25 23:00:17]\u001b[0m\u001b[2;36m \u001b[0m\u001b[34mINFO    \u001b[0m ✓ \u001b[1;36m318.\u001b[0mtxt → Basic\\Gemini\\\u001b[1;36m318.\u001b[0mcc                                        \u001b]8;id=481274;file://C:\\Users\\Tasnim\\AppData\\Local\\Temp\\ipykernel_16732\\1564753407.py\u001b\\\u001b[2m1564753407.py\u001b[0m\u001b]8;;\u001b\\\u001b[2m:\u001b[0m\u001b]8;id=165552;file://C:\\Users\\Tasnim\\AppData\\Local\\Temp\\ipykernel_16732\\1564753407.py#9\u001b\\\u001b[2m9\u001b[0m\u001b]8;;\u001b\\\n"
      ]
     },
     "metadata": {},
     "output_type": "display_data"
    },
    {
     "name": "stderr",
     "output_type": "stream",
     "text": [
      "Generating:  80%|███████▉  | 318/400 [3:32:58<45:58, 33.64s/it]"
     ]
    },
    {
     "data": {
      "text/html": [
       "<pre style=\"white-space:pre;overflow-x:auto;line-height:normal;font-family:Menlo,'DejaVu Sans Mono',consolas,'Courier New',monospace\"><span style=\"color: #7fbfbf; text-decoration-color: #7fbfbf\">[05/22/25 23:00:37] </span><span style=\"color: #000080; text-decoration-color: #000080\">INFO    </span> ✓ <span style=\"color: #008080; text-decoration-color: #008080; font-weight: bold\">319.</span>txt → Basic\\Gemini\\<span style=\"color: #008080; text-decoration-color: #008080; font-weight: bold\">319.</span>cc                                        <a href=\"file://C:\\Users\\Tasnim\\AppData\\Local\\Temp\\ipykernel_16732\\1564753407.py\" target=\"_blank\"><span style=\"color: #7f7f7f; text-decoration-color: #7f7f7f\">1564753407.py</span></a><span style=\"color: #7f7f7f; text-decoration-color: #7f7f7f\">:</span><a href=\"file://C:\\Users\\Tasnim\\AppData\\Local\\Temp\\ipykernel_16732\\1564753407.py#9\" target=\"_blank\"><span style=\"color: #7f7f7f; text-decoration-color: #7f7f7f\">9</span></a>\n",
       "</pre>\n"
      ],
      "text/plain": [
       "\u001b[2;36m[05/22/25 23:00:37]\u001b[0m\u001b[2;36m \u001b[0m\u001b[34mINFO    \u001b[0m ✓ \u001b[1;36m319.\u001b[0mtxt → Basic\\Gemini\\\u001b[1;36m319.\u001b[0mcc                                        \u001b]8;id=42195;file://C:\\Users\\Tasnim\\AppData\\Local\\Temp\\ipykernel_16732\\1564753407.py\u001b\\\u001b[2m1564753407.py\u001b[0m\u001b]8;;\u001b\\\u001b[2m:\u001b[0m\u001b]8;id=39781;file://C:\\Users\\Tasnim\\AppData\\Local\\Temp\\ipykernel_16732\\1564753407.py#9\u001b\\\u001b[2m9\u001b[0m\u001b]8;;\u001b\\\n"
      ]
     },
     "metadata": {},
     "output_type": "display_data"
    },
    {
     "name": "stderr",
     "output_type": "stream",
     "text": [
      "Generating:  80%|███████▉  | 319/400 [3:33:18<39:49, 29.50s/it]"
     ]
    },
    {
     "data": {
      "text/html": [
       "<pre style=\"white-space:pre;overflow-x:auto;line-height:normal;font-family:Menlo,'DejaVu Sans Mono',consolas,'Courier New',monospace\"><span style=\"color: #7fbfbf; text-decoration-color: #7fbfbf\">[05/22/25 23:01:16] </span><span style=\"color: #000080; text-decoration-color: #000080\">INFO    </span> ✓ <span style=\"color: #008080; text-decoration-color: #008080; font-weight: bold\">320.</span>txt → Basic\\Gemini\\<span style=\"color: #008080; text-decoration-color: #008080; font-weight: bold\">320.</span>cc                                        <a href=\"file://C:\\Users\\Tasnim\\AppData\\Local\\Temp\\ipykernel_16732\\1564753407.py\" target=\"_blank\"><span style=\"color: #7f7f7f; text-decoration-color: #7f7f7f\">1564753407.py</span></a><span style=\"color: #7f7f7f; text-decoration-color: #7f7f7f\">:</span><a href=\"file://C:\\Users\\Tasnim\\AppData\\Local\\Temp\\ipykernel_16732\\1564753407.py#9\" target=\"_blank\"><span style=\"color: #7f7f7f; text-decoration-color: #7f7f7f\">9</span></a>\n",
       "</pre>\n"
      ],
      "text/plain": [
       "\u001b[2;36m[05/22/25 23:01:16]\u001b[0m\u001b[2;36m \u001b[0m\u001b[34mINFO    \u001b[0m ✓ \u001b[1;36m320.\u001b[0mtxt → Basic\\Gemini\\\u001b[1;36m320.\u001b[0mcc                                        \u001b]8;id=174283;file://C:\\Users\\Tasnim\\AppData\\Local\\Temp\\ipykernel_16732\\1564753407.py\u001b\\\u001b[2m1564753407.py\u001b[0m\u001b]8;;\u001b\\\u001b[2m:\u001b[0m\u001b]8;id=447538;file://C:\\Users\\Tasnim\\AppData\\Local\\Temp\\ipykernel_16732\\1564753407.py#9\u001b\\\u001b[2m9\u001b[0m\u001b]8;;\u001b\\\n"
      ]
     },
     "metadata": {},
     "output_type": "display_data"
    },
    {
     "name": "stderr",
     "output_type": "stream",
     "text": [
      "Generating:  80%|████████  | 320/400 [3:33:57<43:09, 32.37s/it]"
     ]
    },
    {
     "data": {
      "text/html": [
       "<pre style=\"white-space:pre;overflow-x:auto;line-height:normal;font-family:Menlo,'DejaVu Sans Mono',consolas,'Courier New',monospace\"><span style=\"color: #7fbfbf; text-decoration-color: #7fbfbf\">[05/22/25 23:01:58] </span><span style=\"color: #000080; text-decoration-color: #000080\">INFO    </span> ✓ <span style=\"color: #008080; text-decoration-color: #008080; font-weight: bold\">321.</span>txt → Basic\\Gemini\\<span style=\"color: #008080; text-decoration-color: #008080; font-weight: bold\">321.</span>cc                                        <a href=\"file://C:\\Users\\Tasnim\\AppData\\Local\\Temp\\ipykernel_16732\\1564753407.py\" target=\"_blank\"><span style=\"color: #7f7f7f; text-decoration-color: #7f7f7f\">1564753407.py</span></a><span style=\"color: #7f7f7f; text-decoration-color: #7f7f7f\">:</span><a href=\"file://C:\\Users\\Tasnim\\AppData\\Local\\Temp\\ipykernel_16732\\1564753407.py#9\" target=\"_blank\"><span style=\"color: #7f7f7f; text-decoration-color: #7f7f7f\">9</span></a>\n",
       "</pre>\n"
      ],
      "text/plain": [
       "\u001b[2;36m[05/22/25 23:01:58]\u001b[0m\u001b[2;36m \u001b[0m\u001b[34mINFO    \u001b[0m ✓ \u001b[1;36m321.\u001b[0mtxt → Basic\\Gemini\\\u001b[1;36m321.\u001b[0mcc                                        \u001b]8;id=651099;file://C:\\Users\\Tasnim\\AppData\\Local\\Temp\\ipykernel_16732\\1564753407.py\u001b\\\u001b[2m1564753407.py\u001b[0m\u001b]8;;\u001b\\\u001b[2m:\u001b[0m\u001b]8;id=74845;file://C:\\Users\\Tasnim\\AppData\\Local\\Temp\\ipykernel_16732\\1564753407.py#9\u001b\\\u001b[2m9\u001b[0m\u001b]8;;\u001b\\\n"
      ]
     },
     "metadata": {},
     "output_type": "display_data"
    },
    {
     "name": "stderr",
     "output_type": "stream",
     "text": [
      "Generating:  80%|████████  | 321/400 [3:34:38<46:09, 35.06s/it]"
     ]
    },
    {
     "data": {
      "text/html": [
       "<pre style=\"white-space:pre;overflow-x:auto;line-height:normal;font-family:Menlo,'DejaVu Sans Mono',consolas,'Courier New',monospace\"><span style=\"color: #7fbfbf; text-decoration-color: #7fbfbf\">[05/22/25 23:02:21] </span><span style=\"color: #000080; text-decoration-color: #000080\">INFO    </span> ✓ <span style=\"color: #008080; text-decoration-color: #008080; font-weight: bold\">322.</span>txt → Basic\\Gemini\\<span style=\"color: #008080; text-decoration-color: #008080; font-weight: bold\">322.</span>cc                                        <a href=\"file://C:\\Users\\Tasnim\\AppData\\Local\\Temp\\ipykernel_16732\\1564753407.py\" target=\"_blank\"><span style=\"color: #7f7f7f; text-decoration-color: #7f7f7f\">1564753407.py</span></a><span style=\"color: #7f7f7f; text-decoration-color: #7f7f7f\">:</span><a href=\"file://C:\\Users\\Tasnim\\AppData\\Local\\Temp\\ipykernel_16732\\1564753407.py#9\" target=\"_blank\"><span style=\"color: #7f7f7f; text-decoration-color: #7f7f7f\">9</span></a>\n",
       "</pre>\n"
      ],
      "text/plain": [
       "\u001b[2;36m[05/22/25 23:02:21]\u001b[0m\u001b[2;36m \u001b[0m\u001b[34mINFO    \u001b[0m ✓ \u001b[1;36m322.\u001b[0mtxt → Basic\\Gemini\\\u001b[1;36m322.\u001b[0mcc                                        \u001b]8;id=407239;file://C:\\Users\\Tasnim\\AppData\\Local\\Temp\\ipykernel_16732\\1564753407.py\u001b\\\u001b[2m1564753407.py\u001b[0m\u001b]8;;\u001b\\\u001b[2m:\u001b[0m\u001b]8;id=121587;file://C:\\Users\\Tasnim\\AppData\\Local\\Temp\\ipykernel_16732\\1564753407.py#9\u001b\\\u001b[2m9\u001b[0m\u001b]8;;\u001b\\\n"
      ]
     },
     "metadata": {},
     "output_type": "display_data"
    },
    {
     "name": "stderr",
     "output_type": "stream",
     "text": [
      "Generating:  80%|████████  | 322/400 [3:35:02<41:08, 31.64s/it]"
     ]
    },
    {
     "data": {
      "text/html": [
       "<pre style=\"white-space:pre;overflow-x:auto;line-height:normal;font-family:Menlo,'DejaVu Sans Mono',consolas,'Courier New',monospace\"><span style=\"color: #7fbfbf; text-decoration-color: #7fbfbf\">[05/22/25 23:02:44] </span><span style=\"color: #000080; text-decoration-color: #000080\">INFO    </span> ✓ <span style=\"color: #008080; text-decoration-color: #008080; font-weight: bold\">323.</span>txt → Basic\\Gemini\\<span style=\"color: #008080; text-decoration-color: #008080; font-weight: bold\">323.</span>cc                                        <a href=\"file://C:\\Users\\Tasnim\\AppData\\Local\\Temp\\ipykernel_16732\\1564753407.py\" target=\"_blank\"><span style=\"color: #7f7f7f; text-decoration-color: #7f7f7f\">1564753407.py</span></a><span style=\"color: #7f7f7f; text-decoration-color: #7f7f7f\">:</span><a href=\"file://C:\\Users\\Tasnim\\AppData\\Local\\Temp\\ipykernel_16732\\1564753407.py#9\" target=\"_blank\"><span style=\"color: #7f7f7f; text-decoration-color: #7f7f7f\">9</span></a>\n",
       "</pre>\n"
      ],
      "text/plain": [
       "\u001b[2;36m[05/22/25 23:02:44]\u001b[0m\u001b[2;36m \u001b[0m\u001b[34mINFO    \u001b[0m ✓ \u001b[1;36m323.\u001b[0mtxt → Basic\\Gemini\\\u001b[1;36m323.\u001b[0mcc                                        \u001b]8;id=623229;file://C:\\Users\\Tasnim\\AppData\\Local\\Temp\\ipykernel_16732\\1564753407.py\u001b\\\u001b[2m1564753407.py\u001b[0m\u001b]8;;\u001b\\\u001b[2m:\u001b[0m\u001b]8;id=16216;file://C:\\Users\\Tasnim\\AppData\\Local\\Temp\\ipykernel_16732\\1564753407.py#9\u001b\\\u001b[2m9\u001b[0m\u001b]8;;\u001b\\\n"
      ]
     },
     "metadata": {},
     "output_type": "display_data"
    },
    {
     "name": "stderr",
     "output_type": "stream",
     "text": [
      "Generating:  81%|████████  | 323/400 [3:35:25<37:19, 29.09s/it]"
     ]
    },
    {
     "data": {
      "text/html": [
       "<pre style=\"white-space:pre;overflow-x:auto;line-height:normal;font-family:Menlo,'DejaVu Sans Mono',consolas,'Courier New',monospace\"><span style=\"color: #7fbfbf; text-decoration-color: #7fbfbf\">[05/22/25 23:03:17] </span><span style=\"color: #000080; text-decoration-color: #000080\">INFO    </span> ✓ <span style=\"color: #008080; text-decoration-color: #008080; font-weight: bold\">324.</span>txt → Basic\\Gemini\\<span style=\"color: #008080; text-decoration-color: #008080; font-weight: bold\">324.</span>cc                                        <a href=\"file://C:\\Users\\Tasnim\\AppData\\Local\\Temp\\ipykernel_16732\\1564753407.py\" target=\"_blank\"><span style=\"color: #7f7f7f; text-decoration-color: #7f7f7f\">1564753407.py</span></a><span style=\"color: #7f7f7f; text-decoration-color: #7f7f7f\">:</span><a href=\"file://C:\\Users\\Tasnim\\AppData\\Local\\Temp\\ipykernel_16732\\1564753407.py#9\" target=\"_blank\"><span style=\"color: #7f7f7f; text-decoration-color: #7f7f7f\">9</span></a>\n",
       "</pre>\n"
      ],
      "text/plain": [
       "\u001b[2;36m[05/22/25 23:03:17]\u001b[0m\u001b[2;36m \u001b[0m\u001b[34mINFO    \u001b[0m ✓ \u001b[1;36m324.\u001b[0mtxt → Basic\\Gemini\\\u001b[1;36m324.\u001b[0mcc                                        \u001b]8;id=508454;file://C:\\Users\\Tasnim\\AppData\\Local\\Temp\\ipykernel_16732\\1564753407.py\u001b\\\u001b[2m1564753407.py\u001b[0m\u001b]8;;\u001b\\\u001b[2m:\u001b[0m\u001b]8;id=896036;file://C:\\Users\\Tasnim\\AppData\\Local\\Temp\\ipykernel_16732\\1564753407.py#9\u001b\\\u001b[2m9\u001b[0m\u001b]8;;\u001b\\\n"
      ]
     },
     "metadata": {},
     "output_type": "display_data"
    },
    {
     "name": "stderr",
     "output_type": "stream",
     "text": [
      "Generating:  81%|████████  | 324/400 [3:35:58<38:04, 30.06s/it]"
     ]
    },
    {
     "data": {
      "text/html": [
       "<pre style=\"white-space:pre;overflow-x:auto;line-height:normal;font-family:Menlo,'DejaVu Sans Mono',consolas,'Courier New',monospace\"><span style=\"color: #7fbfbf; text-decoration-color: #7fbfbf\">[05/22/25 23:03:49] </span><span style=\"color: #000080; text-decoration-color: #000080\">INFO    </span> ✓ <span style=\"color: #008080; text-decoration-color: #008080; font-weight: bold\">325.</span>txt → Basic\\Gemini\\<span style=\"color: #008080; text-decoration-color: #008080; font-weight: bold\">325.</span>cc                                        <a href=\"file://C:\\Users\\Tasnim\\AppData\\Local\\Temp\\ipykernel_16732\\1564753407.py\" target=\"_blank\"><span style=\"color: #7f7f7f; text-decoration-color: #7f7f7f\">1564753407.py</span></a><span style=\"color: #7f7f7f; text-decoration-color: #7f7f7f\">:</span><a href=\"file://C:\\Users\\Tasnim\\AppData\\Local\\Temp\\ipykernel_16732\\1564753407.py#9\" target=\"_blank\"><span style=\"color: #7f7f7f; text-decoration-color: #7f7f7f\">9</span></a>\n",
       "</pre>\n"
      ],
      "text/plain": [
       "\u001b[2;36m[05/22/25 23:03:49]\u001b[0m\u001b[2;36m \u001b[0m\u001b[34mINFO    \u001b[0m ✓ \u001b[1;36m325.\u001b[0mtxt → Basic\\Gemini\\\u001b[1;36m325.\u001b[0mcc                                        \u001b]8;id=708296;file://C:\\Users\\Tasnim\\AppData\\Local\\Temp\\ipykernel_16732\\1564753407.py\u001b\\\u001b[2m1564753407.py\u001b[0m\u001b]8;;\u001b\\\u001b[2m:\u001b[0m\u001b]8;id=197448;file://C:\\Users\\Tasnim\\AppData\\Local\\Temp\\ipykernel_16732\\1564753407.py#9\u001b\\\u001b[2m9\u001b[0m\u001b]8;;\u001b\\\n"
      ]
     },
     "metadata": {},
     "output_type": "display_data"
    },
    {
     "name": "stderr",
     "output_type": "stream",
     "text": [
      "Generating:  81%|████████▏ | 325/400 [3:36:30<38:31, 30.83s/it]"
     ]
    },
    {
     "data": {
      "text/html": [
       "<pre style=\"white-space:pre;overflow-x:auto;line-height:normal;font-family:Menlo,'DejaVu Sans Mono',consolas,'Courier New',monospace\"><span style=\"color: #7fbfbf; text-decoration-color: #7fbfbf\">[05/22/25 23:04:22] </span><span style=\"color: #000080; text-decoration-color: #000080\">INFO    </span> ✓ <span style=\"color: #008080; text-decoration-color: #008080; font-weight: bold\">326.</span>txt → Basic\\Gemini\\<span style=\"color: #008080; text-decoration-color: #008080; font-weight: bold\">326.</span>cc                                        <a href=\"file://C:\\Users\\Tasnim\\AppData\\Local\\Temp\\ipykernel_16732\\1564753407.py\" target=\"_blank\"><span style=\"color: #7f7f7f; text-decoration-color: #7f7f7f\">1564753407.py</span></a><span style=\"color: #7f7f7f; text-decoration-color: #7f7f7f\">:</span><a href=\"file://C:\\Users\\Tasnim\\AppData\\Local\\Temp\\ipykernel_16732\\1564753407.py#9\" target=\"_blank\"><span style=\"color: #7f7f7f; text-decoration-color: #7f7f7f\">9</span></a>\n",
       "</pre>\n"
      ],
      "text/plain": [
       "\u001b[2;36m[05/22/25 23:04:22]\u001b[0m\u001b[2;36m \u001b[0m\u001b[34mINFO    \u001b[0m ✓ \u001b[1;36m326.\u001b[0mtxt → Basic\\Gemini\\\u001b[1;36m326.\u001b[0mcc                                        \u001b]8;id=409115;file://C:\\Users\\Tasnim\\AppData\\Local\\Temp\\ipykernel_16732\\1564753407.py\u001b\\\u001b[2m1564753407.py\u001b[0m\u001b]8;;\u001b\\\u001b[2m:\u001b[0m\u001b]8;id=757884;file://C:\\Users\\Tasnim\\AppData\\Local\\Temp\\ipykernel_16732\\1564753407.py#9\u001b\\\u001b[2m9\u001b[0m\u001b]8;;\u001b\\\n"
      ]
     },
     "metadata": {},
     "output_type": "display_data"
    },
    {
     "name": "stderr",
     "output_type": "stream",
     "text": [
      "Generating:  82%|████████▏ | 326/400 [3:37:03<38:49, 31.48s/it]"
     ]
    },
    {
     "data": {
      "text/html": [
       "<pre style=\"white-space:pre;overflow-x:auto;line-height:normal;font-family:Menlo,'DejaVu Sans Mono',consolas,'Courier New',monospace\"><span style=\"color: #7fbfbf; text-decoration-color: #7fbfbf\">[05/22/25 23:04:53] </span><span style=\"color: #000080; text-decoration-color: #000080\">INFO    </span> ✓ <span style=\"color: #008080; text-decoration-color: #008080; font-weight: bold\">327.</span>txt → Basic\\Gemini\\<span style=\"color: #008080; text-decoration-color: #008080; font-weight: bold\">327.</span>cc                                        <a href=\"file://C:\\Users\\Tasnim\\AppData\\Local\\Temp\\ipykernel_16732\\1564753407.py\" target=\"_blank\"><span style=\"color: #7f7f7f; text-decoration-color: #7f7f7f\">1564753407.py</span></a><span style=\"color: #7f7f7f; text-decoration-color: #7f7f7f\">:</span><a href=\"file://C:\\Users\\Tasnim\\AppData\\Local\\Temp\\ipykernel_16732\\1564753407.py#9\" target=\"_blank\"><span style=\"color: #7f7f7f; text-decoration-color: #7f7f7f\">9</span></a>\n",
       "</pre>\n"
      ],
      "text/plain": [
       "\u001b[2;36m[05/22/25 23:04:53]\u001b[0m\u001b[2;36m \u001b[0m\u001b[34mINFO    \u001b[0m ✓ \u001b[1;36m327.\u001b[0mtxt → Basic\\Gemini\\\u001b[1;36m327.\u001b[0mcc                                        \u001b]8;id=731279;file://C:\\Users\\Tasnim\\AppData\\Local\\Temp\\ipykernel_16732\\1564753407.py\u001b\\\u001b[2m1564753407.py\u001b[0m\u001b]8;;\u001b\\\u001b[2m:\u001b[0m\u001b]8;id=836869;file://C:\\Users\\Tasnim\\AppData\\Local\\Temp\\ipykernel_16732\\1564753407.py#9\u001b\\\u001b[2m9\u001b[0m\u001b]8;;\u001b\\\n"
      ]
     },
     "metadata": {},
     "output_type": "display_data"
    },
    {
     "name": "stderr",
     "output_type": "stream",
     "text": [
      "Generating:  82%|████████▏ | 327/400 [3:37:34<38:00, 31.24s/it]"
     ]
    },
    {
     "data": {
      "text/html": [
       "<pre style=\"white-space:pre;overflow-x:auto;line-height:normal;font-family:Menlo,'DejaVu Sans Mono',consolas,'Courier New',monospace\"><span style=\"color: #7fbfbf; text-decoration-color: #7fbfbf\">[05/22/25 23:05:17] </span><span style=\"color: #000080; text-decoration-color: #000080\">INFO    </span> ✓ <span style=\"color: #008080; text-decoration-color: #008080; font-weight: bold\">328.</span>txt → Basic\\Gemini\\<span style=\"color: #008080; text-decoration-color: #008080; font-weight: bold\">328.</span>cc                                        <a href=\"file://C:\\Users\\Tasnim\\AppData\\Local\\Temp\\ipykernel_16732\\1564753407.py\" target=\"_blank\"><span style=\"color: #7f7f7f; text-decoration-color: #7f7f7f\">1564753407.py</span></a><span style=\"color: #7f7f7f; text-decoration-color: #7f7f7f\">:</span><a href=\"file://C:\\Users\\Tasnim\\AppData\\Local\\Temp\\ipykernel_16732\\1564753407.py#9\" target=\"_blank\"><span style=\"color: #7f7f7f; text-decoration-color: #7f7f7f\">9</span></a>\n",
       "</pre>\n"
      ],
      "text/plain": [
       "\u001b[2;36m[05/22/25 23:05:17]\u001b[0m\u001b[2;36m \u001b[0m\u001b[34mINFO    \u001b[0m ✓ \u001b[1;36m328.\u001b[0mtxt → Basic\\Gemini\\\u001b[1;36m328.\u001b[0mcc                                        \u001b]8;id=958456;file://C:\\Users\\Tasnim\\AppData\\Local\\Temp\\ipykernel_16732\\1564753407.py\u001b\\\u001b[2m1564753407.py\u001b[0m\u001b]8;;\u001b\\\u001b[2m:\u001b[0m\u001b]8;id=337162;file://C:\\Users\\Tasnim\\AppData\\Local\\Temp\\ipykernel_16732\\1564753407.py#9\u001b\\\u001b[2m9\u001b[0m\u001b]8;;\u001b\\\n"
      ]
     },
     "metadata": {},
     "output_type": "display_data"
    },
    {
     "name": "stderr",
     "output_type": "stream",
     "text": [
      "Generating:  82%|████████▏ | 328/400 [3:37:58<34:53, 29.08s/it]"
     ]
    },
    {
     "data": {
      "text/html": [
       "<pre style=\"white-space:pre;overflow-x:auto;line-height:normal;font-family:Menlo,'DejaVu Sans Mono',consolas,'Courier New',monospace\"><span style=\"color: #7fbfbf; text-decoration-color: #7fbfbf\">[05/22/25 23:05:41] </span><span style=\"color: #000080; text-decoration-color: #000080\">INFO    </span> ✓ <span style=\"color: #008080; text-decoration-color: #008080; font-weight: bold\">329.</span>txt → Basic\\Gemini\\<span style=\"color: #008080; text-decoration-color: #008080; font-weight: bold\">329.</span>cc                                        <a href=\"file://C:\\Users\\Tasnim\\AppData\\Local\\Temp\\ipykernel_16732\\1564753407.py\" target=\"_blank\"><span style=\"color: #7f7f7f; text-decoration-color: #7f7f7f\">1564753407.py</span></a><span style=\"color: #7f7f7f; text-decoration-color: #7f7f7f\">:</span><a href=\"file://C:\\Users\\Tasnim\\AppData\\Local\\Temp\\ipykernel_16732\\1564753407.py#9\" target=\"_blank\"><span style=\"color: #7f7f7f; text-decoration-color: #7f7f7f\">9</span></a>\n",
       "</pre>\n"
      ],
      "text/plain": [
       "\u001b[2;36m[05/22/25 23:05:41]\u001b[0m\u001b[2;36m \u001b[0m\u001b[34mINFO    \u001b[0m ✓ \u001b[1;36m329.\u001b[0mtxt → Basic\\Gemini\\\u001b[1;36m329.\u001b[0mcc                                        \u001b]8;id=200510;file://C:\\Users\\Tasnim\\AppData\\Local\\Temp\\ipykernel_16732\\1564753407.py\u001b\\\u001b[2m1564753407.py\u001b[0m\u001b]8;;\u001b\\\u001b[2m:\u001b[0m\u001b]8;id=890240;file://C:\\Users\\Tasnim\\AppData\\Local\\Temp\\ipykernel_16732\\1564753407.py#9\u001b\\\u001b[2m9\u001b[0m\u001b]8;;\u001b\\\n"
      ]
     },
     "metadata": {},
     "output_type": "display_data"
    },
    {
     "name": "stderr",
     "output_type": "stream",
     "text": [
      "Generating:  82%|████████▏ | 329/400 [3:38:22<32:34, 27.53s/it]"
     ]
    },
    {
     "data": {
      "text/html": [
       "<pre style=\"white-space:pre;overflow-x:auto;line-height:normal;font-family:Menlo,'DejaVu Sans Mono',consolas,'Courier New',monospace\"><span style=\"color: #7fbfbf; text-decoration-color: #7fbfbf\">[05/22/25 23:05:55] </span><span style=\"color: #000080; text-decoration-color: #000080\">INFO    </span> ✓ <span style=\"color: #008080; text-decoration-color: #008080; font-weight: bold\">330.</span>txt → Basic\\Gemini\\<span style=\"color: #008080; text-decoration-color: #008080; font-weight: bold\">330.</span>cc                                        <a href=\"file://C:\\Users\\Tasnim\\AppData\\Local\\Temp\\ipykernel_16732\\1564753407.py\" target=\"_blank\"><span style=\"color: #7f7f7f; text-decoration-color: #7f7f7f\">1564753407.py</span></a><span style=\"color: #7f7f7f; text-decoration-color: #7f7f7f\">:</span><a href=\"file://C:\\Users\\Tasnim\\AppData\\Local\\Temp\\ipykernel_16732\\1564753407.py#9\" target=\"_blank\"><span style=\"color: #7f7f7f; text-decoration-color: #7f7f7f\">9</span></a>\n",
       "</pre>\n"
      ],
      "text/plain": [
       "\u001b[2;36m[05/22/25 23:05:55]\u001b[0m\u001b[2;36m \u001b[0m\u001b[34mINFO    \u001b[0m ✓ \u001b[1;36m330.\u001b[0mtxt → Basic\\Gemini\\\u001b[1;36m330.\u001b[0mcc                                        \u001b]8;id=949787;file://C:\\Users\\Tasnim\\AppData\\Local\\Temp\\ipykernel_16732\\1564753407.py\u001b\\\u001b[2m1564753407.py\u001b[0m\u001b]8;;\u001b\\\u001b[2m:\u001b[0m\u001b]8;id=424697;file://C:\\Users\\Tasnim\\AppData\\Local\\Temp\\ipykernel_16732\\1564753407.py#9\u001b\\\u001b[2m9\u001b[0m\u001b]8;;\u001b\\\n"
      ]
     },
     "metadata": {},
     "output_type": "display_data"
    },
    {
     "name": "stderr",
     "output_type": "stream",
     "text": [
      "Generating:  82%|████████▎ | 330/400 [3:38:36<27:20, 23.43s/it]"
     ]
    },
    {
     "data": {
      "text/html": [
       "<pre style=\"white-space:pre;overflow-x:auto;line-height:normal;font-family:Menlo,'DejaVu Sans Mono',consolas,'Courier New',monospace\"><span style=\"color: #7fbfbf; text-decoration-color: #7fbfbf\">[05/22/25 23:06:10] </span><span style=\"color: #000080; text-decoration-color: #000080\">INFO    </span> ✓ <span style=\"color: #008080; text-decoration-color: #008080; font-weight: bold\">331.</span>txt → Basic\\Gemini\\<span style=\"color: #008080; text-decoration-color: #008080; font-weight: bold\">331.</span>cc                                        <a href=\"file://C:\\Users\\Tasnim\\AppData\\Local\\Temp\\ipykernel_16732\\1564753407.py\" target=\"_blank\"><span style=\"color: #7f7f7f; text-decoration-color: #7f7f7f\">1564753407.py</span></a><span style=\"color: #7f7f7f; text-decoration-color: #7f7f7f\">:</span><a href=\"file://C:\\Users\\Tasnim\\AppData\\Local\\Temp\\ipykernel_16732\\1564753407.py#9\" target=\"_blank\"><span style=\"color: #7f7f7f; text-decoration-color: #7f7f7f\">9</span></a>\n",
       "</pre>\n"
      ],
      "text/plain": [
       "\u001b[2;36m[05/22/25 23:06:10]\u001b[0m\u001b[2;36m \u001b[0m\u001b[34mINFO    \u001b[0m ✓ \u001b[1;36m331.\u001b[0mtxt → Basic\\Gemini\\\u001b[1;36m331.\u001b[0mcc                                        \u001b]8;id=788681;file://C:\\Users\\Tasnim\\AppData\\Local\\Temp\\ipykernel_16732\\1564753407.py\u001b\\\u001b[2m1564753407.py\u001b[0m\u001b]8;;\u001b\\\u001b[2m:\u001b[0m\u001b]8;id=524597;file://C:\\Users\\Tasnim\\AppData\\Local\\Temp\\ipykernel_16732\\1564753407.py#9\u001b\\\u001b[2m9\u001b[0m\u001b]8;;\u001b\\\n"
      ]
     },
     "metadata": {},
     "output_type": "display_data"
    },
    {
     "name": "stderr",
     "output_type": "stream",
     "text": [
      "Generating:  83%|████████▎ | 331/400 [3:38:51<24:00, 20.88s/it]"
     ]
    },
    {
     "data": {
      "text/html": [
       "<pre style=\"white-space:pre;overflow-x:auto;line-height:normal;font-family:Menlo,'DejaVu Sans Mono',consolas,'Courier New',monospace\"><span style=\"color: #7fbfbf; text-decoration-color: #7fbfbf\">[05/22/25 23:06:36] </span><span style=\"color: #000080; text-decoration-color: #000080\">INFO    </span> ✓ <span style=\"color: #008080; text-decoration-color: #008080; font-weight: bold\">332.</span>txt → Basic\\Gemini\\<span style=\"color: #008080; text-decoration-color: #008080; font-weight: bold\">332.</span>cc                                        <a href=\"file://C:\\Users\\Tasnim\\AppData\\Local\\Temp\\ipykernel_16732\\1564753407.py\" target=\"_blank\"><span style=\"color: #7f7f7f; text-decoration-color: #7f7f7f\">1564753407.py</span></a><span style=\"color: #7f7f7f; text-decoration-color: #7f7f7f\">:</span><a href=\"file://C:\\Users\\Tasnim\\AppData\\Local\\Temp\\ipykernel_16732\\1564753407.py#9\" target=\"_blank\"><span style=\"color: #7f7f7f; text-decoration-color: #7f7f7f\">9</span></a>\n",
       "</pre>\n"
      ],
      "text/plain": [
       "\u001b[2;36m[05/22/25 23:06:36]\u001b[0m\u001b[2;36m \u001b[0m\u001b[34mINFO    \u001b[0m ✓ \u001b[1;36m332.\u001b[0mtxt → Basic\\Gemini\\\u001b[1;36m332.\u001b[0mcc                                        \u001b]8;id=647014;file://C:\\Users\\Tasnim\\AppData\\Local\\Temp\\ipykernel_16732\\1564753407.py\u001b\\\u001b[2m1564753407.py\u001b[0m\u001b]8;;\u001b\\\u001b[2m:\u001b[0m\u001b]8;id=784178;file://C:\\Users\\Tasnim\\AppData\\Local\\Temp\\ipykernel_16732\\1564753407.py#9\u001b\\\u001b[2m9\u001b[0m\u001b]8;;\u001b\\\n"
      ]
     },
     "metadata": {},
     "output_type": "display_data"
    },
    {
     "name": "stderr",
     "output_type": "stream",
     "text": [
      "Generating:  83%|████████▎ | 332/400 [3:39:17<25:34, 22.57s/it]"
     ]
    },
    {
     "data": {
      "text/html": [
       "<pre style=\"white-space:pre;overflow-x:auto;line-height:normal;font-family:Menlo,'DejaVu Sans Mono',consolas,'Courier New',monospace\"><span style=\"color: #7fbfbf; text-decoration-color: #7fbfbf\">[05/22/25 23:07:12] </span><span style=\"color: #000080; text-decoration-color: #000080\">INFO    </span> ✓ <span style=\"color: #008080; text-decoration-color: #008080; font-weight: bold\">333.</span>txt → Basic\\Gemini\\<span style=\"color: #008080; text-decoration-color: #008080; font-weight: bold\">333.</span>cc                                        <a href=\"file://C:\\Users\\Tasnim\\AppData\\Local\\Temp\\ipykernel_16732\\1564753407.py\" target=\"_blank\"><span style=\"color: #7f7f7f; text-decoration-color: #7f7f7f\">1564753407.py</span></a><span style=\"color: #7f7f7f; text-decoration-color: #7f7f7f\">:</span><a href=\"file://C:\\Users\\Tasnim\\AppData\\Local\\Temp\\ipykernel_16732\\1564753407.py#9\" target=\"_blank\"><span style=\"color: #7f7f7f; text-decoration-color: #7f7f7f\">9</span></a>\n",
       "</pre>\n"
      ],
      "text/plain": [
       "\u001b[2;36m[05/22/25 23:07:12]\u001b[0m\u001b[2;36m \u001b[0m\u001b[34mINFO    \u001b[0m ✓ \u001b[1;36m333.\u001b[0mtxt → Basic\\Gemini\\\u001b[1;36m333.\u001b[0mcc                                        \u001b]8;id=588143;file://C:\\Users\\Tasnim\\AppData\\Local\\Temp\\ipykernel_16732\\1564753407.py\u001b\\\u001b[2m1564753407.py\u001b[0m\u001b]8;;\u001b\\\u001b[2m:\u001b[0m\u001b]8;id=899788;file://C:\\Users\\Tasnim\\AppData\\Local\\Temp\\ipykernel_16732\\1564753407.py#9\u001b\\\u001b[2m9\u001b[0m\u001b]8;;\u001b\\\n"
      ]
     },
     "metadata": {},
     "output_type": "display_data"
    },
    {
     "name": "stderr",
     "output_type": "stream",
     "text": [
      "Generating:  83%|████████▎ | 333/400 [3:39:53<29:37, 26.53s/it]"
     ]
    },
    {
     "data": {
      "text/html": [
       "<pre style=\"white-space:pre;overflow-x:auto;line-height:normal;font-family:Menlo,'DejaVu Sans Mono',consolas,'Courier New',monospace\"><span style=\"color: #7fbfbf; text-decoration-color: #7fbfbf\">[05/22/25 23:07:40] </span><span style=\"color: #000080; text-decoration-color: #000080\">INFO    </span> ✓ <span style=\"color: #008080; text-decoration-color: #008080; font-weight: bold\">334.</span>txt → Basic\\Gemini\\<span style=\"color: #008080; text-decoration-color: #008080; font-weight: bold\">334.</span>cc                                        <a href=\"file://C:\\Users\\Tasnim\\AppData\\Local\\Temp\\ipykernel_16732\\1564753407.py\" target=\"_blank\"><span style=\"color: #7f7f7f; text-decoration-color: #7f7f7f\">1564753407.py</span></a><span style=\"color: #7f7f7f; text-decoration-color: #7f7f7f\">:</span><a href=\"file://C:\\Users\\Tasnim\\AppData\\Local\\Temp\\ipykernel_16732\\1564753407.py#9\" target=\"_blank\"><span style=\"color: #7f7f7f; text-decoration-color: #7f7f7f\">9</span></a>\n",
       "</pre>\n"
      ],
      "text/plain": [
       "\u001b[2;36m[05/22/25 23:07:40]\u001b[0m\u001b[2;36m \u001b[0m\u001b[34mINFO    \u001b[0m ✓ \u001b[1;36m334.\u001b[0mtxt → Basic\\Gemini\\\u001b[1;36m334.\u001b[0mcc                                        \u001b]8;id=865833;file://C:\\Users\\Tasnim\\AppData\\Local\\Temp\\ipykernel_16732\\1564753407.py\u001b\\\u001b[2m1564753407.py\u001b[0m\u001b]8;;\u001b\\\u001b[2m:\u001b[0m\u001b]8;id=720755;file://C:\\Users\\Tasnim\\AppData\\Local\\Temp\\ipykernel_16732\\1564753407.py#9\u001b\\\u001b[2m9\u001b[0m\u001b]8;;\u001b\\\n"
      ]
     },
     "metadata": {},
     "output_type": "display_data"
    },
    {
     "name": "stderr",
     "output_type": "stream",
     "text": [
      "Generating:  84%|████████▎ | 334/400 [3:40:21<29:36, 26.92s/it]"
     ]
    },
    {
     "data": {
      "text/html": [
       "<pre style=\"white-space:pre;overflow-x:auto;line-height:normal;font-family:Menlo,'DejaVu Sans Mono',consolas,'Courier New',monospace\"><span style=\"color: #7fbfbf; text-decoration-color: #7fbfbf\">[05/22/25 23:08:18] </span><span style=\"color: #000080; text-decoration-color: #000080\">INFO    </span> ✓ <span style=\"color: #008080; text-decoration-color: #008080; font-weight: bold\">335.</span>txt → Basic\\Gemini\\<span style=\"color: #008080; text-decoration-color: #008080; font-weight: bold\">335.</span>cc                                        <a href=\"file://C:\\Users\\Tasnim\\AppData\\Local\\Temp\\ipykernel_16732\\1564753407.py\" target=\"_blank\"><span style=\"color: #7f7f7f; text-decoration-color: #7f7f7f\">1564753407.py</span></a><span style=\"color: #7f7f7f; text-decoration-color: #7f7f7f\">:</span><a href=\"file://C:\\Users\\Tasnim\\AppData\\Local\\Temp\\ipykernel_16732\\1564753407.py#9\" target=\"_blank\"><span style=\"color: #7f7f7f; text-decoration-color: #7f7f7f\">9</span></a>\n",
       "</pre>\n"
      ],
      "text/plain": [
       "\u001b[2;36m[05/22/25 23:08:18]\u001b[0m\u001b[2;36m \u001b[0m\u001b[34mINFO    \u001b[0m ✓ \u001b[1;36m335.\u001b[0mtxt → Basic\\Gemini\\\u001b[1;36m335.\u001b[0mcc                                        \u001b]8;id=614580;file://C:\\Users\\Tasnim\\AppData\\Local\\Temp\\ipykernel_16732\\1564753407.py\u001b\\\u001b[2m1564753407.py\u001b[0m\u001b]8;;\u001b\\\u001b[2m:\u001b[0m\u001b]8;id=520648;file://C:\\Users\\Tasnim\\AppData\\Local\\Temp\\ipykernel_16732\\1564753407.py#9\u001b\\\u001b[2m9\u001b[0m\u001b]8;;\u001b\\\n"
      ]
     },
     "metadata": {},
     "output_type": "display_data"
    },
    {
     "name": "stderr",
     "output_type": "stream",
     "text": [
      "Generating:  84%|████████▍ | 335/400 [3:40:58<32:39, 30.14s/it]"
     ]
    },
    {
     "data": {
      "text/html": [
       "<pre style=\"white-space:pre;overflow-x:auto;line-height:normal;font-family:Menlo,'DejaVu Sans Mono',consolas,'Courier New',monospace\"><span style=\"color: #7fbfbf; text-decoration-color: #7fbfbf\">[05/22/25 23:08:43] </span><span style=\"color: #000080; text-decoration-color: #000080\">INFO    </span> ✓ <span style=\"color: #008080; text-decoration-color: #008080; font-weight: bold\">336.</span>txt → Basic\\Gemini\\<span style=\"color: #008080; text-decoration-color: #008080; font-weight: bold\">336.</span>cc                                        <a href=\"file://C:\\Users\\Tasnim\\AppData\\Local\\Temp\\ipykernel_16732\\1564753407.py\" target=\"_blank\"><span style=\"color: #7f7f7f; text-decoration-color: #7f7f7f\">1564753407.py</span></a><span style=\"color: #7f7f7f; text-decoration-color: #7f7f7f\">:</span><a href=\"file://C:\\Users\\Tasnim\\AppData\\Local\\Temp\\ipykernel_16732\\1564753407.py#9\" target=\"_blank\"><span style=\"color: #7f7f7f; text-decoration-color: #7f7f7f\">9</span></a>\n",
       "</pre>\n"
      ],
      "text/plain": [
       "\u001b[2;36m[05/22/25 23:08:43]\u001b[0m\u001b[2;36m \u001b[0m\u001b[34mINFO    \u001b[0m ✓ \u001b[1;36m336.\u001b[0mtxt → Basic\\Gemini\\\u001b[1;36m336.\u001b[0mcc                                        \u001b]8;id=904112;file://C:\\Users\\Tasnim\\AppData\\Local\\Temp\\ipykernel_16732\\1564753407.py\u001b\\\u001b[2m1564753407.py\u001b[0m\u001b]8;;\u001b\\\u001b[2m:\u001b[0m\u001b]8;id=537745;file://C:\\Users\\Tasnim\\AppData\\Local\\Temp\\ipykernel_16732\\1564753407.py#9\u001b\\\u001b[2m9\u001b[0m\u001b]8;;\u001b\\\n"
      ]
     },
     "metadata": {},
     "output_type": "display_data"
    },
    {
     "name": "stderr",
     "output_type": "stream",
     "text": [
      "Generating:  84%|████████▍ | 336/400 [3:41:24<30:42, 28.79s/it]"
     ]
    },
    {
     "data": {
      "text/html": [
       "<pre style=\"white-space:pre;overflow-x:auto;line-height:normal;font-family:Menlo,'DejaVu Sans Mono',consolas,'Courier New',monospace\"><span style=\"color: #7fbfbf; text-decoration-color: #7fbfbf\">[05/22/25 23:09:02] </span><span style=\"color: #000080; text-decoration-color: #000080\">INFO    </span> ✓ <span style=\"color: #008080; text-decoration-color: #008080; font-weight: bold\">337.</span>txt → Basic\\Gemini\\<span style=\"color: #008080; text-decoration-color: #008080; font-weight: bold\">337.</span>cc                                        <a href=\"file://C:\\Users\\Tasnim\\AppData\\Local\\Temp\\ipykernel_16732\\1564753407.py\" target=\"_blank\"><span style=\"color: #7f7f7f; text-decoration-color: #7f7f7f\">1564753407.py</span></a><span style=\"color: #7f7f7f; text-decoration-color: #7f7f7f\">:</span><a href=\"file://C:\\Users\\Tasnim\\AppData\\Local\\Temp\\ipykernel_16732\\1564753407.py#9\" target=\"_blank\"><span style=\"color: #7f7f7f; text-decoration-color: #7f7f7f\">9</span></a>\n",
       "</pre>\n"
      ],
      "text/plain": [
       "\u001b[2;36m[05/22/25 23:09:02]\u001b[0m\u001b[2;36m \u001b[0m\u001b[34mINFO    \u001b[0m ✓ \u001b[1;36m337.\u001b[0mtxt → Basic\\Gemini\\\u001b[1;36m337.\u001b[0mcc                                        \u001b]8;id=408041;file://C:\\Users\\Tasnim\\AppData\\Local\\Temp\\ipykernel_16732\\1564753407.py\u001b\\\u001b[2m1564753407.py\u001b[0m\u001b]8;;\u001b\\\u001b[2m:\u001b[0m\u001b]8;id=475392;file://C:\\Users\\Tasnim\\AppData\\Local\\Temp\\ipykernel_16732\\1564753407.py#9\u001b\\\u001b[2m9\u001b[0m\u001b]8;;\u001b\\\n"
      ]
     },
     "metadata": {},
     "output_type": "display_data"
    },
    {
     "name": "stderr",
     "output_type": "stream",
     "text": [
      "Generating:  84%|████████▍ | 337/400 [3:41:43<27:11, 25.89s/it]"
     ]
    },
    {
     "data": {
      "text/html": [
       "<pre style=\"white-space:pre;overflow-x:auto;line-height:normal;font-family:Menlo,'DejaVu Sans Mono',consolas,'Courier New',monospace\"><span style=\"color: #7fbfbf; text-decoration-color: #7fbfbf\">[05/22/25 23:09:32] </span><span style=\"color: #000080; text-decoration-color: #000080\">INFO    </span> ✓ <span style=\"color: #008080; text-decoration-color: #008080; font-weight: bold\">338.</span>txt → Basic\\Gemini\\<span style=\"color: #008080; text-decoration-color: #008080; font-weight: bold\">338.</span>cc                                        <a href=\"file://C:\\Users\\Tasnim\\AppData\\Local\\Temp\\ipykernel_16732\\1564753407.py\" target=\"_blank\"><span style=\"color: #7f7f7f; text-decoration-color: #7f7f7f\">1564753407.py</span></a><span style=\"color: #7f7f7f; text-decoration-color: #7f7f7f\">:</span><a href=\"file://C:\\Users\\Tasnim\\AppData\\Local\\Temp\\ipykernel_16732\\1564753407.py#9\" target=\"_blank\"><span style=\"color: #7f7f7f; text-decoration-color: #7f7f7f\">9</span></a>\n",
       "</pre>\n"
      ],
      "text/plain": [
       "\u001b[2;36m[05/22/25 23:09:32]\u001b[0m\u001b[2;36m \u001b[0m\u001b[34mINFO    \u001b[0m ✓ \u001b[1;36m338.\u001b[0mtxt → Basic\\Gemini\\\u001b[1;36m338.\u001b[0mcc                                        \u001b]8;id=998080;file://C:\\Users\\Tasnim\\AppData\\Local\\Temp\\ipykernel_16732\\1564753407.py\u001b\\\u001b[2m1564753407.py\u001b[0m\u001b]8;;\u001b\\\u001b[2m:\u001b[0m\u001b]8;id=158014;file://C:\\Users\\Tasnim\\AppData\\Local\\Temp\\ipykernel_16732\\1564753407.py#9\u001b\\\u001b[2m9\u001b[0m\u001b]8;;\u001b\\\n"
      ]
     },
     "metadata": {},
     "output_type": "display_data"
    },
    {
     "name": "stderr",
     "output_type": "stream",
     "text": [
      "Generating:  84%|████████▍ | 338/400 [3:42:13<27:56, 27.03s/it]"
     ]
    },
    {
     "data": {
      "text/html": [
       "<pre style=\"white-space:pre;overflow-x:auto;line-height:normal;font-family:Menlo,'DejaVu Sans Mono',consolas,'Courier New',monospace\"><span style=\"color: #7fbfbf; text-decoration-color: #7fbfbf\">[05/22/25 23:10:10] </span><span style=\"color: #000080; text-decoration-color: #000080\">INFO    </span> ✓ <span style=\"color: #008080; text-decoration-color: #008080; font-weight: bold\">339.</span>txt → Basic\\Gemini\\<span style=\"color: #008080; text-decoration-color: #008080; font-weight: bold\">339.</span>cc                                        <a href=\"file://C:\\Users\\Tasnim\\AppData\\Local\\Temp\\ipykernel_16732\\1564753407.py\" target=\"_blank\"><span style=\"color: #7f7f7f; text-decoration-color: #7f7f7f\">1564753407.py</span></a><span style=\"color: #7f7f7f; text-decoration-color: #7f7f7f\">:</span><a href=\"file://C:\\Users\\Tasnim\\AppData\\Local\\Temp\\ipykernel_16732\\1564753407.py#9\" target=\"_blank\"><span style=\"color: #7f7f7f; text-decoration-color: #7f7f7f\">9</span></a>\n",
       "</pre>\n"
      ],
      "text/plain": [
       "\u001b[2;36m[05/22/25 23:10:10]\u001b[0m\u001b[2;36m \u001b[0m\u001b[34mINFO    \u001b[0m ✓ \u001b[1;36m339.\u001b[0mtxt → Basic\\Gemini\\\u001b[1;36m339.\u001b[0mcc                                        \u001b]8;id=294251;file://C:\\Users\\Tasnim\\AppData\\Local\\Temp\\ipykernel_16732\\1564753407.py\u001b\\\u001b[2m1564753407.py\u001b[0m\u001b]8;;\u001b\\\u001b[2m:\u001b[0m\u001b]8;id=703357;file://C:\\Users\\Tasnim\\AppData\\Local\\Temp\\ipykernel_16732\\1564753407.py#9\u001b\\\u001b[2m9\u001b[0m\u001b]8;;\u001b\\\n"
      ]
     },
     "metadata": {},
     "output_type": "display_data"
    },
    {
     "name": "stderr",
     "output_type": "stream",
     "text": [
      "Generating:  85%|████████▍ | 339/400 [3:42:50<30:43, 30.21s/it]"
     ]
    },
    {
     "data": {
      "text/html": [
       "<pre style=\"white-space:pre;overflow-x:auto;line-height:normal;font-family:Menlo,'DejaVu Sans Mono',consolas,'Courier New',monospace\"><span style=\"color: #7fbfbf; text-decoration-color: #7fbfbf\">[05/22/25 23:10:45] </span><span style=\"color: #000080; text-decoration-color: #000080\">INFO    </span> ✓ <span style=\"color: #008080; text-decoration-color: #008080; font-weight: bold\">340.</span>txt → Basic\\Gemini\\<span style=\"color: #008080; text-decoration-color: #008080; font-weight: bold\">340.</span>cc                                        <a href=\"file://C:\\Users\\Tasnim\\AppData\\Local\\Temp\\ipykernel_16732\\1564753407.py\" target=\"_blank\"><span style=\"color: #7f7f7f; text-decoration-color: #7f7f7f\">1564753407.py</span></a><span style=\"color: #7f7f7f; text-decoration-color: #7f7f7f\">:</span><a href=\"file://C:\\Users\\Tasnim\\AppData\\Local\\Temp\\ipykernel_16732\\1564753407.py#9\" target=\"_blank\"><span style=\"color: #7f7f7f; text-decoration-color: #7f7f7f\">9</span></a>\n",
       "</pre>\n"
      ],
      "text/plain": [
       "\u001b[2;36m[05/22/25 23:10:45]\u001b[0m\u001b[2;36m \u001b[0m\u001b[34mINFO    \u001b[0m ✓ \u001b[1;36m340.\u001b[0mtxt → Basic\\Gemini\\\u001b[1;36m340.\u001b[0mcc                                        \u001b]8;id=735739;file://C:\\Users\\Tasnim\\AppData\\Local\\Temp\\ipykernel_16732\\1564753407.py\u001b\\\u001b[2m1564753407.py\u001b[0m\u001b]8;;\u001b\\\u001b[2m:\u001b[0m\u001b]8;id=773627;file://C:\\Users\\Tasnim\\AppData\\Local\\Temp\\ipykernel_16732\\1564753407.py#9\u001b\\\u001b[2m9\u001b[0m\u001b]8;;\u001b\\\n"
      ]
     },
     "metadata": {},
     "output_type": "display_data"
    },
    {
     "name": "stderr",
     "output_type": "stream",
     "text": [
      "Generating:  85%|████████▌ | 340/400 [3:43:26<31:50, 31.85s/it]"
     ]
    },
    {
     "data": {
      "text/html": [
       "<pre style=\"white-space:pre;overflow-x:auto;line-height:normal;font-family:Menlo,'DejaVu Sans Mono',consolas,'Courier New',monospace\"><span style=\"color: #7fbfbf; text-decoration-color: #7fbfbf\">[05/22/25 23:11:14] </span><span style=\"color: #000080; text-decoration-color: #000080\">INFO    </span> ✓ <span style=\"color: #008080; text-decoration-color: #008080; font-weight: bold\">341.</span>txt → Basic\\Gemini\\<span style=\"color: #008080; text-decoration-color: #008080; font-weight: bold\">341.</span>cc                                        <a href=\"file://C:\\Users\\Tasnim\\AppData\\Local\\Temp\\ipykernel_16732\\1564753407.py\" target=\"_blank\"><span style=\"color: #7f7f7f; text-decoration-color: #7f7f7f\">1564753407.py</span></a><span style=\"color: #7f7f7f; text-decoration-color: #7f7f7f\">:</span><a href=\"file://C:\\Users\\Tasnim\\AppData\\Local\\Temp\\ipykernel_16732\\1564753407.py#9\" target=\"_blank\"><span style=\"color: #7f7f7f; text-decoration-color: #7f7f7f\">9</span></a>\n",
       "</pre>\n"
      ],
      "text/plain": [
       "\u001b[2;36m[05/22/25 23:11:14]\u001b[0m\u001b[2;36m \u001b[0m\u001b[34mINFO    \u001b[0m ✓ \u001b[1;36m341.\u001b[0mtxt → Basic\\Gemini\\\u001b[1;36m341.\u001b[0mcc                                        \u001b]8;id=750102;file://C:\\Users\\Tasnim\\AppData\\Local\\Temp\\ipykernel_16732\\1564753407.py\u001b\\\u001b[2m1564753407.py\u001b[0m\u001b]8;;\u001b\\\u001b[2m:\u001b[0m\u001b]8;id=680737;file://C:\\Users\\Tasnim\\AppData\\Local\\Temp\\ipykernel_16732\\1564753407.py#9\u001b\\\u001b[2m9\u001b[0m\u001b]8;;\u001b\\\n"
      ]
     },
     "metadata": {},
     "output_type": "display_data"
    },
    {
     "name": "stderr",
     "output_type": "stream",
     "text": [
      "Generating:  85%|████████▌ | 341/400 [3:43:55<30:22, 30.89s/it]"
     ]
    },
    {
     "data": {
      "text/html": [
       "<pre style=\"white-space:pre;overflow-x:auto;line-height:normal;font-family:Menlo,'DejaVu Sans Mono',consolas,'Courier New',monospace\"><span style=\"color: #7fbfbf; text-decoration-color: #7fbfbf\">[05/22/25 23:11:59] </span><span style=\"color: #000080; text-decoration-color: #000080\">INFO    </span> ✓ <span style=\"color: #008080; text-decoration-color: #008080; font-weight: bold\">342.</span>txt → Basic\\Gemini\\<span style=\"color: #008080; text-decoration-color: #008080; font-weight: bold\">342.</span>cc                                        <a href=\"file://C:\\Users\\Tasnim\\AppData\\Local\\Temp\\ipykernel_16732\\1564753407.py\" target=\"_blank\"><span style=\"color: #7f7f7f; text-decoration-color: #7f7f7f\">1564753407.py</span></a><span style=\"color: #7f7f7f; text-decoration-color: #7f7f7f\">:</span><a href=\"file://C:\\Users\\Tasnim\\AppData\\Local\\Temp\\ipykernel_16732\\1564753407.py#9\" target=\"_blank\"><span style=\"color: #7f7f7f; text-decoration-color: #7f7f7f\">9</span></a>\n",
       "</pre>\n"
      ],
      "text/plain": [
       "\u001b[2;36m[05/22/25 23:11:59]\u001b[0m\u001b[2;36m \u001b[0m\u001b[34mINFO    \u001b[0m ✓ \u001b[1;36m342.\u001b[0mtxt → Basic\\Gemini\\\u001b[1;36m342.\u001b[0mcc                                        \u001b]8;id=118025;file://C:\\Users\\Tasnim\\AppData\\Local\\Temp\\ipykernel_16732\\1564753407.py\u001b\\\u001b[2m1564753407.py\u001b[0m\u001b]8;;\u001b\\\u001b[2m:\u001b[0m\u001b]8;id=126524;file://C:\\Users\\Tasnim\\AppData\\Local\\Temp\\ipykernel_16732\\1564753407.py#9\u001b\\\u001b[2m9\u001b[0m\u001b]8;;\u001b\\\n"
      ]
     },
     "metadata": {},
     "output_type": "display_data"
    },
    {
     "name": "stderr",
     "output_type": "stream",
     "text": [
      "Generating:  86%|████████▌ | 342/400 [3:44:39<33:50, 35.01s/it]"
     ]
    },
    {
     "data": {
      "text/html": [
       "<pre style=\"white-space:pre;overflow-x:auto;line-height:normal;font-family:Menlo,'DejaVu Sans Mono',consolas,'Courier New',monospace\"><span style=\"color: #7fbfbf; text-decoration-color: #7fbfbf\">[05/22/25 23:12:19] </span><span style=\"color: #000080; text-decoration-color: #000080\">INFO    </span> ✓ <span style=\"color: #008080; text-decoration-color: #008080; font-weight: bold\">343.</span>txt → Basic\\Gemini\\<span style=\"color: #008080; text-decoration-color: #008080; font-weight: bold\">343.</span>cc                                        <a href=\"file://C:\\Users\\Tasnim\\AppData\\Local\\Temp\\ipykernel_16732\\1564753407.py\" target=\"_blank\"><span style=\"color: #7f7f7f; text-decoration-color: #7f7f7f\">1564753407.py</span></a><span style=\"color: #7f7f7f; text-decoration-color: #7f7f7f\">:</span><a href=\"file://C:\\Users\\Tasnim\\AppData\\Local\\Temp\\ipykernel_16732\\1564753407.py#9\" target=\"_blank\"><span style=\"color: #7f7f7f; text-decoration-color: #7f7f7f\">9</span></a>\n",
       "</pre>\n"
      ],
      "text/plain": [
       "\u001b[2;36m[05/22/25 23:12:19]\u001b[0m\u001b[2;36m \u001b[0m\u001b[34mINFO    \u001b[0m ✓ \u001b[1;36m343.\u001b[0mtxt → Basic\\Gemini\\\u001b[1;36m343.\u001b[0mcc                                        \u001b]8;id=75462;file://C:\\Users\\Tasnim\\AppData\\Local\\Temp\\ipykernel_16732\\1564753407.py\u001b\\\u001b[2m1564753407.py\u001b[0m\u001b]8;;\u001b\\\u001b[2m:\u001b[0m\u001b]8;id=964515;file://C:\\Users\\Tasnim\\AppData\\Local\\Temp\\ipykernel_16732\\1564753407.py#9\u001b\\\u001b[2m9\u001b[0m\u001b]8;;\u001b\\\n"
      ]
     },
     "metadata": {},
     "output_type": "display_data"
    },
    {
     "name": "stderr",
     "output_type": "stream",
     "text": [
      "Generating:  86%|████████▌ | 343/400 [3:45:00<29:00, 30.54s/it]"
     ]
    },
    {
     "data": {
      "text/html": [
       "<pre style=\"white-space:pre;overflow-x:auto;line-height:normal;font-family:Menlo,'DejaVu Sans Mono',consolas,'Courier New',monospace\"><span style=\"color: #7fbfbf; text-decoration-color: #7fbfbf\">[05/22/25 23:12:55] </span><span style=\"color: #000080; text-decoration-color: #000080\">INFO    </span> ✓ <span style=\"color: #008080; text-decoration-color: #008080; font-weight: bold\">344.</span>txt → Basic\\Gemini\\<span style=\"color: #008080; text-decoration-color: #008080; font-weight: bold\">344.</span>cc                                        <a href=\"file://C:\\Users\\Tasnim\\AppData\\Local\\Temp\\ipykernel_16732\\1564753407.py\" target=\"_blank\"><span style=\"color: #7f7f7f; text-decoration-color: #7f7f7f\">1564753407.py</span></a><span style=\"color: #7f7f7f; text-decoration-color: #7f7f7f\">:</span><a href=\"file://C:\\Users\\Tasnim\\AppData\\Local\\Temp\\ipykernel_16732\\1564753407.py#9\" target=\"_blank\"><span style=\"color: #7f7f7f; text-decoration-color: #7f7f7f\">9</span></a>\n",
       "</pre>\n"
      ],
      "text/plain": [
       "\u001b[2;36m[05/22/25 23:12:55]\u001b[0m\u001b[2;36m \u001b[0m\u001b[34mINFO    \u001b[0m ✓ \u001b[1;36m344.\u001b[0mtxt → Basic\\Gemini\\\u001b[1;36m344.\u001b[0mcc                                        \u001b]8;id=165671;file://C:\\Users\\Tasnim\\AppData\\Local\\Temp\\ipykernel_16732\\1564753407.py\u001b\\\u001b[2m1564753407.py\u001b[0m\u001b]8;;\u001b\\\u001b[2m:\u001b[0m\u001b]8;id=248462;file://C:\\Users\\Tasnim\\AppData\\Local\\Temp\\ipykernel_16732\\1564753407.py#9\u001b\\\u001b[2m9\u001b[0m\u001b]8;;\u001b\\\n"
      ]
     },
     "metadata": {},
     "output_type": "display_data"
    },
    {
     "name": "stderr",
     "output_type": "stream",
     "text": [
      "Generating:  86%|████████▌ | 344/400 [3:45:36<30:03, 32.20s/it]"
     ]
    },
    {
     "data": {
      "text/html": [
       "<pre style=\"white-space:pre;overflow-x:auto;line-height:normal;font-family:Menlo,'DejaVu Sans Mono',consolas,'Courier New',monospace\"><span style=\"color: #7fbfbf; text-decoration-color: #7fbfbf\">[05/22/25 23:13:23] </span><span style=\"color: #000080; text-decoration-color: #000080\">INFO    </span> ✓ <span style=\"color: #008080; text-decoration-color: #008080; font-weight: bold\">345.</span>txt → Basic\\Gemini\\<span style=\"color: #008080; text-decoration-color: #008080; font-weight: bold\">345.</span>cc                                        <a href=\"file://C:\\Users\\Tasnim\\AppData\\Local\\Temp\\ipykernel_16732\\1564753407.py\" target=\"_blank\"><span style=\"color: #7f7f7f; text-decoration-color: #7f7f7f\">1564753407.py</span></a><span style=\"color: #7f7f7f; text-decoration-color: #7f7f7f\">:</span><a href=\"file://C:\\Users\\Tasnim\\AppData\\Local\\Temp\\ipykernel_16732\\1564753407.py#9\" target=\"_blank\"><span style=\"color: #7f7f7f; text-decoration-color: #7f7f7f\">9</span></a>\n",
       "</pre>\n"
      ],
      "text/plain": [
       "\u001b[2;36m[05/22/25 23:13:23]\u001b[0m\u001b[2;36m \u001b[0m\u001b[34mINFO    \u001b[0m ✓ \u001b[1;36m345.\u001b[0mtxt → Basic\\Gemini\\\u001b[1;36m345.\u001b[0mcc                                        \u001b]8;id=561979;file://C:\\Users\\Tasnim\\AppData\\Local\\Temp\\ipykernel_16732\\1564753407.py\u001b\\\u001b[2m1564753407.py\u001b[0m\u001b]8;;\u001b\\\u001b[2m:\u001b[0m\u001b]8;id=13652;file://C:\\Users\\Tasnim\\AppData\\Local\\Temp\\ipykernel_16732\\1564753407.py#9\u001b\\\u001b[2m9\u001b[0m\u001b]8;;\u001b\\\n"
      ]
     },
     "metadata": {},
     "output_type": "display_data"
    },
    {
     "name": "stderr",
     "output_type": "stream",
     "text": [
      "Generating:  86%|████████▋ | 345/400 [3:46:04<28:26, 31.02s/it]"
     ]
    },
    {
     "data": {
      "text/html": [
       "<pre style=\"white-space:pre;overflow-x:auto;line-height:normal;font-family:Menlo,'DejaVu Sans Mono',consolas,'Courier New',monospace\"><span style=\"color: #7fbfbf; text-decoration-color: #7fbfbf\">[05/22/25 23:13:52] </span><span style=\"color: #000080; text-decoration-color: #000080\">INFO    </span> ✓ <span style=\"color: #008080; text-decoration-color: #008080; font-weight: bold\">346.</span>txt → Basic\\Gemini\\<span style=\"color: #008080; text-decoration-color: #008080; font-weight: bold\">346.</span>cc                                        <a href=\"file://C:\\Users\\Tasnim\\AppData\\Local\\Temp\\ipykernel_16732\\1564753407.py\" target=\"_blank\"><span style=\"color: #7f7f7f; text-decoration-color: #7f7f7f\">1564753407.py</span></a><span style=\"color: #7f7f7f; text-decoration-color: #7f7f7f\">:</span><a href=\"file://C:\\Users\\Tasnim\\AppData\\Local\\Temp\\ipykernel_16732\\1564753407.py#9\" target=\"_blank\"><span style=\"color: #7f7f7f; text-decoration-color: #7f7f7f\">9</span></a>\n",
       "</pre>\n"
      ],
      "text/plain": [
       "\u001b[2;36m[05/22/25 23:13:52]\u001b[0m\u001b[2;36m \u001b[0m\u001b[34mINFO    \u001b[0m ✓ \u001b[1;36m346.\u001b[0mtxt → Basic\\Gemini\\\u001b[1;36m346.\u001b[0mcc                                        \u001b]8;id=362282;file://C:\\Users\\Tasnim\\AppData\\Local\\Temp\\ipykernel_16732\\1564753407.py\u001b\\\u001b[2m1564753407.py\u001b[0m\u001b]8;;\u001b\\\u001b[2m:\u001b[0m\u001b]8;id=599627;file://C:\\Users\\Tasnim\\AppData\\Local\\Temp\\ipykernel_16732\\1564753407.py#9\u001b\\\u001b[2m9\u001b[0m\u001b]8;;\u001b\\\n"
      ]
     },
     "metadata": {},
     "output_type": "display_data"
    },
    {
     "name": "stderr",
     "output_type": "stream",
     "text": [
      "Generating:  86%|████████▋ | 346/400 [3:46:33<27:27, 30.51s/it]"
     ]
    },
    {
     "data": {
      "text/html": [
       "<pre style=\"white-space:pre;overflow-x:auto;line-height:normal;font-family:Menlo,'DejaVu Sans Mono',consolas,'Courier New',monospace\"><span style=\"color: #7fbfbf; text-decoration-color: #7fbfbf\">[05/22/25 23:14:22] </span><span style=\"color: #000080; text-decoration-color: #000080\">INFO    </span> ✓ <span style=\"color: #008080; text-decoration-color: #008080; font-weight: bold\">347.</span>txt → Basic\\Gemini\\<span style=\"color: #008080; text-decoration-color: #008080; font-weight: bold\">347.</span>cc                                        <a href=\"file://C:\\Users\\Tasnim\\AppData\\Local\\Temp\\ipykernel_16732\\1564753407.py\" target=\"_blank\"><span style=\"color: #7f7f7f; text-decoration-color: #7f7f7f\">1564753407.py</span></a><span style=\"color: #7f7f7f; text-decoration-color: #7f7f7f\">:</span><a href=\"file://C:\\Users\\Tasnim\\AppData\\Local\\Temp\\ipykernel_16732\\1564753407.py#9\" target=\"_blank\"><span style=\"color: #7f7f7f; text-decoration-color: #7f7f7f\">9</span></a>\n",
       "</pre>\n"
      ],
      "text/plain": [
       "\u001b[2;36m[05/22/25 23:14:22]\u001b[0m\u001b[2;36m \u001b[0m\u001b[34mINFO    \u001b[0m ✓ \u001b[1;36m347.\u001b[0mtxt → Basic\\Gemini\\\u001b[1;36m347.\u001b[0mcc                                        \u001b]8;id=911699;file://C:\\Users\\Tasnim\\AppData\\Local\\Temp\\ipykernel_16732\\1564753407.py\u001b\\\u001b[2m1564753407.py\u001b[0m\u001b]8;;\u001b\\\u001b[2m:\u001b[0m\u001b]8;id=210868;file://C:\\Users\\Tasnim\\AppData\\Local\\Temp\\ipykernel_16732\\1564753407.py#9\u001b\\\u001b[2m9\u001b[0m\u001b]8;;\u001b\\\n"
      ]
     },
     "metadata": {},
     "output_type": "display_data"
    },
    {
     "name": "stderr",
     "output_type": "stream",
     "text": [
      "Generating:  87%|████████▋ | 347/400 [3:47:03<26:46, 30.30s/it]"
     ]
    },
    {
     "data": {
      "text/html": [
       "<pre style=\"white-space:pre;overflow-x:auto;line-height:normal;font-family:Menlo,'DejaVu Sans Mono',consolas,'Courier New',monospace\"><span style=\"color: #7fbfbf; text-decoration-color: #7fbfbf\">[05/22/25 23:14:38] </span><span style=\"color: #000080; text-decoration-color: #000080\">INFO    </span> ✓ <span style=\"color: #008080; text-decoration-color: #008080; font-weight: bold\">348.</span>txt → Basic\\Gemini\\<span style=\"color: #008080; text-decoration-color: #008080; font-weight: bold\">348.</span>cc                                        <a href=\"file://C:\\Users\\Tasnim\\AppData\\Local\\Temp\\ipykernel_16732\\1564753407.py\" target=\"_blank\"><span style=\"color: #7f7f7f; text-decoration-color: #7f7f7f\">1564753407.py</span></a><span style=\"color: #7f7f7f; text-decoration-color: #7f7f7f\">:</span><a href=\"file://C:\\Users\\Tasnim\\AppData\\Local\\Temp\\ipykernel_16732\\1564753407.py#9\" target=\"_blank\"><span style=\"color: #7f7f7f; text-decoration-color: #7f7f7f\">9</span></a>\n",
       "</pre>\n"
      ],
      "text/plain": [
       "\u001b[2;36m[05/22/25 23:14:38]\u001b[0m\u001b[2;36m \u001b[0m\u001b[34mINFO    \u001b[0m ✓ \u001b[1;36m348.\u001b[0mtxt → Basic\\Gemini\\\u001b[1;36m348.\u001b[0mcc                                        \u001b]8;id=933428;file://C:\\Users\\Tasnim\\AppData\\Local\\Temp\\ipykernel_16732\\1564753407.py\u001b\\\u001b[2m1564753407.py\u001b[0m\u001b]8;;\u001b\\\u001b[2m:\u001b[0m\u001b]8;id=481528;file://C:\\Users\\Tasnim\\AppData\\Local\\Temp\\ipykernel_16732\\1564753407.py#9\u001b\\\u001b[2m9\u001b[0m\u001b]8;;\u001b\\\n"
      ]
     },
     "metadata": {},
     "output_type": "display_data"
    },
    {
     "name": "stderr",
     "output_type": "stream",
     "text": [
      "Generating:  87%|████████▋ | 348/400 [3:47:19<22:27, 25.91s/it]"
     ]
    },
    {
     "data": {
      "text/html": [
       "<pre style=\"white-space:pre;overflow-x:auto;line-height:normal;font-family:Menlo,'DejaVu Sans Mono',consolas,'Courier New',monospace\"><span style=\"color: #7fbfbf; text-decoration-color: #7fbfbf\">[05/22/25 23:15:00] </span><span style=\"color: #000080; text-decoration-color: #000080\">INFO    </span> ✓ <span style=\"color: #008080; text-decoration-color: #008080; font-weight: bold\">349.</span>txt → Basic\\Gemini\\<span style=\"color: #008080; text-decoration-color: #008080; font-weight: bold\">349.</span>cc                                        <a href=\"file://C:\\Users\\Tasnim\\AppData\\Local\\Temp\\ipykernel_16732\\1564753407.py\" target=\"_blank\"><span style=\"color: #7f7f7f; text-decoration-color: #7f7f7f\">1564753407.py</span></a><span style=\"color: #7f7f7f; text-decoration-color: #7f7f7f\">:</span><a href=\"file://C:\\Users\\Tasnim\\AppData\\Local\\Temp\\ipykernel_16732\\1564753407.py#9\" target=\"_blank\"><span style=\"color: #7f7f7f; text-decoration-color: #7f7f7f\">9</span></a>\n",
       "</pre>\n"
      ],
      "text/plain": [
       "\u001b[2;36m[05/22/25 23:15:00]\u001b[0m\u001b[2;36m \u001b[0m\u001b[34mINFO    \u001b[0m ✓ \u001b[1;36m349.\u001b[0mtxt → Basic\\Gemini\\\u001b[1;36m349.\u001b[0mcc                                        \u001b]8;id=918511;file://C:\\Users\\Tasnim\\AppData\\Local\\Temp\\ipykernel_16732\\1564753407.py\u001b\\\u001b[2m1564753407.py\u001b[0m\u001b]8;;\u001b\\\u001b[2m:\u001b[0m\u001b]8;id=439184;file://C:\\Users\\Tasnim\\AppData\\Local\\Temp\\ipykernel_16732\\1564753407.py#9\u001b\\\u001b[2m9\u001b[0m\u001b]8;;\u001b\\\n"
      ]
     },
     "metadata": {},
     "output_type": "display_data"
    },
    {
     "name": "stderr",
     "output_type": "stream",
     "text": [
      "Generating:  87%|████████▋ | 349/400 [3:47:41<21:04, 24.78s/it]"
     ]
    },
    {
     "data": {
      "text/html": [
       "<pre style=\"white-space:pre;overflow-x:auto;line-height:normal;font-family:Menlo,'DejaVu Sans Mono',consolas,'Courier New',monospace\"><span style=\"color: #7fbfbf; text-decoration-color: #7fbfbf\">[05/22/25 23:15:21] </span><span style=\"color: #000080; text-decoration-color: #000080\">INFO    </span> ✓ <span style=\"color: #008080; text-decoration-color: #008080; font-weight: bold\">350.</span>txt → Basic\\Gemini\\<span style=\"color: #008080; text-decoration-color: #008080; font-weight: bold\">350.</span>cc                                        <a href=\"file://C:\\Users\\Tasnim\\AppData\\Local\\Temp\\ipykernel_16732\\1564753407.py\" target=\"_blank\"><span style=\"color: #7f7f7f; text-decoration-color: #7f7f7f\">1564753407.py</span></a><span style=\"color: #7f7f7f; text-decoration-color: #7f7f7f\">:</span><a href=\"file://C:\\Users\\Tasnim\\AppData\\Local\\Temp\\ipykernel_16732\\1564753407.py#9\" target=\"_blank\"><span style=\"color: #7f7f7f; text-decoration-color: #7f7f7f\">9</span></a>\n",
       "</pre>\n"
      ],
      "text/plain": [
       "\u001b[2;36m[05/22/25 23:15:21]\u001b[0m\u001b[2;36m \u001b[0m\u001b[34mINFO    \u001b[0m ✓ \u001b[1;36m350.\u001b[0mtxt → Basic\\Gemini\\\u001b[1;36m350.\u001b[0mcc                                        \u001b]8;id=778455;file://C:\\Users\\Tasnim\\AppData\\Local\\Temp\\ipykernel_16732\\1564753407.py\u001b\\\u001b[2m1564753407.py\u001b[0m\u001b]8;;\u001b\\\u001b[2m:\u001b[0m\u001b]8;id=727702;file://C:\\Users\\Tasnim\\AppData\\Local\\Temp\\ipykernel_16732\\1564753407.py#9\u001b\\\u001b[2m9\u001b[0m\u001b]8;;\u001b\\\n"
      ]
     },
     "metadata": {},
     "output_type": "display_data"
    },
    {
     "name": "stderr",
     "output_type": "stream",
     "text": [
      "Generating:  88%|████████▊ | 350/400 [3:48:02<19:47, 23.74s/it]"
     ]
    },
    {
     "data": {
      "text/html": [
       "<pre style=\"white-space:pre;overflow-x:auto;line-height:normal;font-family:Menlo,'DejaVu Sans Mono',consolas,'Courier New',monospace\"><span style=\"color: #7fbfbf; text-decoration-color: #7fbfbf\">[05/22/25 23:15:50] </span><span style=\"color: #000080; text-decoration-color: #000080\">INFO    </span> ✓ <span style=\"color: #008080; text-decoration-color: #008080; font-weight: bold\">351.</span>txt → Basic\\Gemini\\<span style=\"color: #008080; text-decoration-color: #008080; font-weight: bold\">351.</span>cc                                        <a href=\"file://C:\\Users\\Tasnim\\AppData\\Local\\Temp\\ipykernel_16732\\1564753407.py\" target=\"_blank\"><span style=\"color: #7f7f7f; text-decoration-color: #7f7f7f\">1564753407.py</span></a><span style=\"color: #7f7f7f; text-decoration-color: #7f7f7f\">:</span><a href=\"file://C:\\Users\\Tasnim\\AppData\\Local\\Temp\\ipykernel_16732\\1564753407.py#9\" target=\"_blank\"><span style=\"color: #7f7f7f; text-decoration-color: #7f7f7f\">9</span></a>\n",
       "</pre>\n"
      ],
      "text/plain": [
       "\u001b[2;36m[05/22/25 23:15:50]\u001b[0m\u001b[2;36m \u001b[0m\u001b[34mINFO    \u001b[0m ✓ \u001b[1;36m351.\u001b[0mtxt → Basic\\Gemini\\\u001b[1;36m351.\u001b[0mcc                                        \u001b]8;id=284645;file://C:\\Users\\Tasnim\\AppData\\Local\\Temp\\ipykernel_16732\\1564753407.py\u001b\\\u001b[2m1564753407.py\u001b[0m\u001b]8;;\u001b\\\u001b[2m:\u001b[0m\u001b]8;id=972707;file://C:\\Users\\Tasnim\\AppData\\Local\\Temp\\ipykernel_16732\\1564753407.py#9\u001b\\\u001b[2m9\u001b[0m\u001b]8;;\u001b\\\n"
      ]
     },
     "metadata": {},
     "output_type": "display_data"
    },
    {
     "name": "stderr",
     "output_type": "stream",
     "text": [
      "Generating:  88%|████████▊ | 351/400 [3:48:31<20:37, 25.26s/it]"
     ]
    },
    {
     "data": {
      "text/html": [
       "<pre style=\"white-space:pre;overflow-x:auto;line-height:normal;font-family:Menlo,'DejaVu Sans Mono',consolas,'Courier New',monospace\"><span style=\"color: #7fbfbf; text-decoration-color: #7fbfbf\">[05/22/25 23:16:11] </span><span style=\"color: #000080; text-decoration-color: #000080\">INFO    </span> ✓ <span style=\"color: #008080; text-decoration-color: #008080; font-weight: bold\">352.</span>txt → Basic\\Gemini\\<span style=\"color: #008080; text-decoration-color: #008080; font-weight: bold\">352.</span>cc                                        <a href=\"file://C:\\Users\\Tasnim\\AppData\\Local\\Temp\\ipykernel_16732\\1564753407.py\" target=\"_blank\"><span style=\"color: #7f7f7f; text-decoration-color: #7f7f7f\">1564753407.py</span></a><span style=\"color: #7f7f7f; text-decoration-color: #7f7f7f\">:</span><a href=\"file://C:\\Users\\Tasnim\\AppData\\Local\\Temp\\ipykernel_16732\\1564753407.py#9\" target=\"_blank\"><span style=\"color: #7f7f7f; text-decoration-color: #7f7f7f\">9</span></a>\n",
       "</pre>\n"
      ],
      "text/plain": [
       "\u001b[2;36m[05/22/25 23:16:11]\u001b[0m\u001b[2;36m \u001b[0m\u001b[34mINFO    \u001b[0m ✓ \u001b[1;36m352.\u001b[0mtxt → Basic\\Gemini\\\u001b[1;36m352.\u001b[0mcc                                        \u001b]8;id=949811;file://C:\\Users\\Tasnim\\AppData\\Local\\Temp\\ipykernel_16732\\1564753407.py\u001b\\\u001b[2m1564753407.py\u001b[0m\u001b]8;;\u001b\\\u001b[2m:\u001b[0m\u001b]8;id=656814;file://C:\\Users\\Tasnim\\AppData\\Local\\Temp\\ipykernel_16732\\1564753407.py#9\u001b\\\u001b[2m9\u001b[0m\u001b]8;;\u001b\\\n"
      ]
     },
     "metadata": {},
     "output_type": "display_data"
    },
    {
     "name": "stderr",
     "output_type": "stream",
     "text": [
      "Generating:  88%|████████▊ | 352/400 [3:48:52<19:04, 23.85s/it]"
     ]
    },
    {
     "data": {
      "text/html": [
       "<pre style=\"white-space:pre;overflow-x:auto;line-height:normal;font-family:Menlo,'DejaVu Sans Mono',consolas,'Courier New',monospace\"><span style=\"color: #7fbfbf; text-decoration-color: #7fbfbf\">[05/22/25 23:16:43] </span><span style=\"color: #000080; text-decoration-color: #000080\">INFO    </span> ✓ <span style=\"color: #008080; text-decoration-color: #008080; font-weight: bold\">353.</span>txt → Basic\\Gemini\\<span style=\"color: #008080; text-decoration-color: #008080; font-weight: bold\">353.</span>cc                                        <a href=\"file://C:\\Users\\Tasnim\\AppData\\Local\\Temp\\ipykernel_16732\\1564753407.py\" target=\"_blank\"><span style=\"color: #7f7f7f; text-decoration-color: #7f7f7f\">1564753407.py</span></a><span style=\"color: #7f7f7f; text-decoration-color: #7f7f7f\">:</span><a href=\"file://C:\\Users\\Tasnim\\AppData\\Local\\Temp\\ipykernel_16732\\1564753407.py#9\" target=\"_blank\"><span style=\"color: #7f7f7f; text-decoration-color: #7f7f7f\">9</span></a>\n",
       "</pre>\n"
      ],
      "text/plain": [
       "\u001b[2;36m[05/22/25 23:16:43]\u001b[0m\u001b[2;36m \u001b[0m\u001b[34mINFO    \u001b[0m ✓ \u001b[1;36m353.\u001b[0mtxt → Basic\\Gemini\\\u001b[1;36m353.\u001b[0mcc                                        \u001b]8;id=843986;file://C:\\Users\\Tasnim\\AppData\\Local\\Temp\\ipykernel_16732\\1564753407.py\u001b\\\u001b[2m1564753407.py\u001b[0m\u001b]8;;\u001b\\\u001b[2m:\u001b[0m\u001b]8;id=67897;file://C:\\Users\\Tasnim\\AppData\\Local\\Temp\\ipykernel_16732\\1564753407.py#9\u001b\\\u001b[2m9\u001b[0m\u001b]8;;\u001b\\\n"
      ]
     },
     "metadata": {},
     "output_type": "display_data"
    },
    {
     "name": "stderr",
     "output_type": "stream",
     "text": [
      "Generating:  88%|████████▊ | 353/400 [3:49:23<20:34, 26.26s/it]"
     ]
    },
    {
     "data": {
      "text/html": [
       "<pre style=\"white-space:pre;overflow-x:auto;line-height:normal;font-family:Menlo,'DejaVu Sans Mono',consolas,'Courier New',monospace\"><span style=\"color: #7fbfbf; text-decoration-color: #7fbfbf\">[05/22/25 23:17:01] </span><span style=\"color: #000080; text-decoration-color: #000080\">INFO    </span> ✓ <span style=\"color: #008080; text-decoration-color: #008080; font-weight: bold\">354.</span>txt → Basic\\Gemini\\<span style=\"color: #008080; text-decoration-color: #008080; font-weight: bold\">354.</span>cc                                        <a href=\"file://C:\\Users\\Tasnim\\AppData\\Local\\Temp\\ipykernel_16732\\1564753407.py\" target=\"_blank\"><span style=\"color: #7f7f7f; text-decoration-color: #7f7f7f\">1564753407.py</span></a><span style=\"color: #7f7f7f; text-decoration-color: #7f7f7f\">:</span><a href=\"file://C:\\Users\\Tasnim\\AppData\\Local\\Temp\\ipykernel_16732\\1564753407.py#9\" target=\"_blank\"><span style=\"color: #7f7f7f; text-decoration-color: #7f7f7f\">9</span></a>\n",
       "</pre>\n"
      ],
      "text/plain": [
       "\u001b[2;36m[05/22/25 23:17:01]\u001b[0m\u001b[2;36m \u001b[0m\u001b[34mINFO    \u001b[0m ✓ \u001b[1;36m354.\u001b[0mtxt → Basic\\Gemini\\\u001b[1;36m354.\u001b[0mcc                                        \u001b]8;id=745092;file://C:\\Users\\Tasnim\\AppData\\Local\\Temp\\ipykernel_16732\\1564753407.py\u001b\\\u001b[2m1564753407.py\u001b[0m\u001b]8;;\u001b\\\u001b[2m:\u001b[0m\u001b]8;id=176637;file://C:\\Users\\Tasnim\\AppData\\Local\\Temp\\ipykernel_16732\\1564753407.py#9\u001b\\\u001b[2m9\u001b[0m\u001b]8;;\u001b\\\n"
      ]
     },
     "metadata": {},
     "output_type": "display_data"
    },
    {
     "name": "stderr",
     "output_type": "stream",
     "text": [
      "Generating:  88%|████████▊ | 354/400 [3:49:42<18:16, 23.83s/it]"
     ]
    },
    {
     "data": {
      "text/html": [
       "<pre style=\"white-space:pre;overflow-x:auto;line-height:normal;font-family:Menlo,'DejaVu Sans Mono',consolas,'Courier New',monospace\"><span style=\"color: #7fbfbf; text-decoration-color: #7fbfbf\">[05/22/25 23:17:20] </span><span style=\"color: #000080; text-decoration-color: #000080\">INFO    </span> ✓ <span style=\"color: #008080; text-decoration-color: #008080; font-weight: bold\">355.</span>txt → Basic\\Gemini\\<span style=\"color: #008080; text-decoration-color: #008080; font-weight: bold\">355.</span>cc                                        <a href=\"file://C:\\Users\\Tasnim\\AppData\\Local\\Temp\\ipykernel_16732\\1564753407.py\" target=\"_blank\"><span style=\"color: #7f7f7f; text-decoration-color: #7f7f7f\">1564753407.py</span></a><span style=\"color: #7f7f7f; text-decoration-color: #7f7f7f\">:</span><a href=\"file://C:\\Users\\Tasnim\\AppData\\Local\\Temp\\ipykernel_16732\\1564753407.py#9\" target=\"_blank\"><span style=\"color: #7f7f7f; text-decoration-color: #7f7f7f\">9</span></a>\n",
       "</pre>\n"
      ],
      "text/plain": [
       "\u001b[2;36m[05/22/25 23:17:20]\u001b[0m\u001b[2;36m \u001b[0m\u001b[34mINFO    \u001b[0m ✓ \u001b[1;36m355.\u001b[0mtxt → Basic\\Gemini\\\u001b[1;36m355.\u001b[0mcc                                        \u001b]8;id=957344;file://C:\\Users\\Tasnim\\AppData\\Local\\Temp\\ipykernel_16732\\1564753407.py\u001b\\\u001b[2m1564753407.py\u001b[0m\u001b]8;;\u001b\\\u001b[2m:\u001b[0m\u001b]8;id=949336;file://C:\\Users\\Tasnim\\AppData\\Local\\Temp\\ipykernel_16732\\1564753407.py#9\u001b\\\u001b[2m9\u001b[0m\u001b]8;;\u001b\\\n"
      ]
     },
     "metadata": {},
     "output_type": "display_data"
    },
    {
     "name": "stderr",
     "output_type": "stream",
     "text": [
      "Generating:  89%|████████▉ | 355/400 [3:50:01<16:51, 22.47s/it]"
     ]
    },
    {
     "data": {
      "text/html": [
       "<pre style=\"white-space:pre;overflow-x:auto;line-height:normal;font-family:Menlo,'DejaVu Sans Mono',consolas,'Courier New',monospace\"><span style=\"color: #7fbfbf; text-decoration-color: #7fbfbf\">[05/22/25 23:17:40] </span><span style=\"color: #000080; text-decoration-color: #000080\">INFO    </span> ✓ <span style=\"color: #008080; text-decoration-color: #008080; font-weight: bold\">356.</span>txt → Basic\\Gemini\\<span style=\"color: #008080; text-decoration-color: #008080; font-weight: bold\">356.</span>cc                                        <a href=\"file://C:\\Users\\Tasnim\\AppData\\Local\\Temp\\ipykernel_16732\\1564753407.py\" target=\"_blank\"><span style=\"color: #7f7f7f; text-decoration-color: #7f7f7f\">1564753407.py</span></a><span style=\"color: #7f7f7f; text-decoration-color: #7f7f7f\">:</span><a href=\"file://C:\\Users\\Tasnim\\AppData\\Local\\Temp\\ipykernel_16732\\1564753407.py#9\" target=\"_blank\"><span style=\"color: #7f7f7f; text-decoration-color: #7f7f7f\">9</span></a>\n",
       "</pre>\n"
      ],
      "text/plain": [
       "\u001b[2;36m[05/22/25 23:17:40]\u001b[0m\u001b[2;36m \u001b[0m\u001b[34mINFO    \u001b[0m ✓ \u001b[1;36m356.\u001b[0mtxt → Basic\\Gemini\\\u001b[1;36m356.\u001b[0mcc                                        \u001b]8;id=199782;file://C:\\Users\\Tasnim\\AppData\\Local\\Temp\\ipykernel_16732\\1564753407.py\u001b\\\u001b[2m1564753407.py\u001b[0m\u001b]8;;\u001b\\\u001b[2m:\u001b[0m\u001b]8;id=826021;file://C:\\Users\\Tasnim\\AppData\\Local\\Temp\\ipykernel_16732\\1564753407.py#9\u001b\\\u001b[2m9\u001b[0m\u001b]8;;\u001b\\\n"
      ]
     },
     "metadata": {},
     "output_type": "display_data"
    },
    {
     "name": "stderr",
     "output_type": "stream",
     "text": [
      "Generating:  89%|████████▉ | 356/400 [3:50:21<15:53, 21.68s/it]"
     ]
    },
    {
     "data": {
      "text/html": [
       "<pre style=\"white-space:pre;overflow-x:auto;line-height:normal;font-family:Menlo,'DejaVu Sans Mono',consolas,'Courier New',monospace\"><span style=\"color: #7fbfbf; text-decoration-color: #7fbfbf\">[05/22/25 23:18:00] </span><span style=\"color: #000080; text-decoration-color: #000080\">INFO    </span> ✓ <span style=\"color: #008080; text-decoration-color: #008080; font-weight: bold\">357.</span>txt → Basic\\Gemini\\<span style=\"color: #008080; text-decoration-color: #008080; font-weight: bold\">357.</span>cc                                        <a href=\"file://C:\\Users\\Tasnim\\AppData\\Local\\Temp\\ipykernel_16732\\1564753407.py\" target=\"_blank\"><span style=\"color: #7f7f7f; text-decoration-color: #7f7f7f\">1564753407.py</span></a><span style=\"color: #7f7f7f; text-decoration-color: #7f7f7f\">:</span><a href=\"file://C:\\Users\\Tasnim\\AppData\\Local\\Temp\\ipykernel_16732\\1564753407.py#9\" target=\"_blank\"><span style=\"color: #7f7f7f; text-decoration-color: #7f7f7f\">9</span></a>\n",
       "</pre>\n"
      ],
      "text/plain": [
       "\u001b[2;36m[05/22/25 23:18:00]\u001b[0m\u001b[2;36m \u001b[0m\u001b[34mINFO    \u001b[0m ✓ \u001b[1;36m357.\u001b[0mtxt → Basic\\Gemini\\\u001b[1;36m357.\u001b[0mcc                                        \u001b]8;id=391697;file://C:\\Users\\Tasnim\\AppData\\Local\\Temp\\ipykernel_16732\\1564753407.py\u001b\\\u001b[2m1564753407.py\u001b[0m\u001b]8;;\u001b\\\u001b[2m:\u001b[0m\u001b]8;id=377012;file://C:\\Users\\Tasnim\\AppData\\Local\\Temp\\ipykernel_16732\\1564753407.py#9\u001b\\\u001b[2m9\u001b[0m\u001b]8;;\u001b\\\n"
      ]
     },
     "metadata": {},
     "output_type": "display_data"
    },
    {
     "name": "stderr",
     "output_type": "stream",
     "text": [
      "Generating:  89%|████████▉ | 357/400 [3:50:41<15:08, 21.13s/it]"
     ]
    },
    {
     "data": {
      "text/html": [
       "<pre style=\"white-space:pre;overflow-x:auto;line-height:normal;font-family:Menlo,'DejaVu Sans Mono',consolas,'Courier New',monospace\"><span style=\"color: #7fbfbf; text-decoration-color: #7fbfbf\">[05/22/25 23:18:21] </span><span style=\"color: #000080; text-decoration-color: #000080\">INFO    </span> ✓ <span style=\"color: #008080; text-decoration-color: #008080; font-weight: bold\">358.</span>txt → Basic\\Gemini\\<span style=\"color: #008080; text-decoration-color: #008080; font-weight: bold\">358.</span>cc                                        <a href=\"file://C:\\Users\\Tasnim\\AppData\\Local\\Temp\\ipykernel_16732\\1564753407.py\" target=\"_blank\"><span style=\"color: #7f7f7f; text-decoration-color: #7f7f7f\">1564753407.py</span></a><span style=\"color: #7f7f7f; text-decoration-color: #7f7f7f\">:</span><a href=\"file://C:\\Users\\Tasnim\\AppData\\Local\\Temp\\ipykernel_16732\\1564753407.py#9\" target=\"_blank\"><span style=\"color: #7f7f7f; text-decoration-color: #7f7f7f\">9</span></a>\n",
       "</pre>\n"
      ],
      "text/plain": [
       "\u001b[2;36m[05/22/25 23:18:21]\u001b[0m\u001b[2;36m \u001b[0m\u001b[34mINFO    \u001b[0m ✓ \u001b[1;36m358.\u001b[0mtxt → Basic\\Gemini\\\u001b[1;36m358.\u001b[0mcc                                        \u001b]8;id=844414;file://C:\\Users\\Tasnim\\AppData\\Local\\Temp\\ipykernel_16732\\1564753407.py\u001b\\\u001b[2m1564753407.py\u001b[0m\u001b]8;;\u001b\\\u001b[2m:\u001b[0m\u001b]8;id=406120;file://C:\\Users\\Tasnim\\AppData\\Local\\Temp\\ipykernel_16732\\1564753407.py#9\u001b\\\u001b[2m9\u001b[0m\u001b]8;;\u001b\\\n"
      ]
     },
     "metadata": {},
     "output_type": "display_data"
    },
    {
     "name": "stderr",
     "output_type": "stream",
     "text": [
      "Generating:  90%|████████▉ | 358/400 [3:51:01<14:45, 21.07s/it]"
     ]
    },
    {
     "data": {
      "text/html": [
       "<pre style=\"white-space:pre;overflow-x:auto;line-height:normal;font-family:Menlo,'DejaVu Sans Mono',consolas,'Courier New',monospace\"><span style=\"color: #7fbfbf; text-decoration-color: #7fbfbf\">[05/22/25 23:19:08] </span><span style=\"color: #000080; text-decoration-color: #000080\">INFO    </span> ✓ <span style=\"color: #008080; text-decoration-color: #008080; font-weight: bold\">359.</span>txt → Basic\\Gemini\\<span style=\"color: #008080; text-decoration-color: #008080; font-weight: bold\">359.</span>cc                                        <a href=\"file://C:\\Users\\Tasnim\\AppData\\Local\\Temp\\ipykernel_16732\\1564753407.py\" target=\"_blank\"><span style=\"color: #7f7f7f; text-decoration-color: #7f7f7f\">1564753407.py</span></a><span style=\"color: #7f7f7f; text-decoration-color: #7f7f7f\">:</span><a href=\"file://C:\\Users\\Tasnim\\AppData\\Local\\Temp\\ipykernel_16732\\1564753407.py#9\" target=\"_blank\"><span style=\"color: #7f7f7f; text-decoration-color: #7f7f7f\">9</span></a>\n",
       "</pre>\n"
      ],
      "text/plain": [
       "\u001b[2;36m[05/22/25 23:19:08]\u001b[0m\u001b[2;36m \u001b[0m\u001b[34mINFO    \u001b[0m ✓ \u001b[1;36m359.\u001b[0mtxt → Basic\\Gemini\\\u001b[1;36m359.\u001b[0mcc                                        \u001b]8;id=814223;file://C:\\Users\\Tasnim\\AppData\\Local\\Temp\\ipykernel_16732\\1564753407.py\u001b\\\u001b[2m1564753407.py\u001b[0m\u001b]8;;\u001b\\\u001b[2m:\u001b[0m\u001b]8;id=607221;file://C:\\Users\\Tasnim\\AppData\\Local\\Temp\\ipykernel_16732\\1564753407.py#9\u001b\\\u001b[2m9\u001b[0m\u001b]8;;\u001b\\\n"
      ]
     },
     "metadata": {},
     "output_type": "display_data"
    },
    {
     "name": "stderr",
     "output_type": "stream",
     "text": [
      "Generating:  90%|████████▉ | 359/400 [3:51:49<19:45, 28.91s/it]"
     ]
    },
    {
     "data": {
      "text/html": [
       "<pre style=\"white-space:pre;overflow-x:auto;line-height:normal;font-family:Menlo,'DejaVu Sans Mono',consolas,'Courier New',monospace\"><span style=\"color: #7fbfbf; text-decoration-color: #7fbfbf\">[05/22/25 23:20:05] </span><span style=\"color: #000080; text-decoration-color: #000080\">INFO    </span> ✓ <span style=\"color: #008080; text-decoration-color: #008080; font-weight: bold\">360.</span>txt → Basic\\Gemini\\<span style=\"color: #008080; text-decoration-color: #008080; font-weight: bold\">360.</span>cc                                        <a href=\"file://C:\\Users\\Tasnim\\AppData\\Local\\Temp\\ipykernel_16732\\1564753407.py\" target=\"_blank\"><span style=\"color: #7f7f7f; text-decoration-color: #7f7f7f\">1564753407.py</span></a><span style=\"color: #7f7f7f; text-decoration-color: #7f7f7f\">:</span><a href=\"file://C:\\Users\\Tasnim\\AppData\\Local\\Temp\\ipykernel_16732\\1564753407.py#9\" target=\"_blank\"><span style=\"color: #7f7f7f; text-decoration-color: #7f7f7f\">9</span></a>\n",
       "</pre>\n"
      ],
      "text/plain": [
       "\u001b[2;36m[05/22/25 23:20:05]\u001b[0m\u001b[2;36m \u001b[0m\u001b[34mINFO    \u001b[0m ✓ \u001b[1;36m360.\u001b[0mtxt → Basic\\Gemini\\\u001b[1;36m360.\u001b[0mcc                                        \u001b]8;id=53395;file://C:\\Users\\Tasnim\\AppData\\Local\\Temp\\ipykernel_16732\\1564753407.py\u001b\\\u001b[2m1564753407.py\u001b[0m\u001b]8;;\u001b\\\u001b[2m:\u001b[0m\u001b]8;id=563766;file://C:\\Users\\Tasnim\\AppData\\Local\\Temp\\ipykernel_16732\\1564753407.py#9\u001b\\\u001b[2m9\u001b[0m\u001b]8;;\u001b\\\n"
      ]
     },
     "metadata": {},
     "output_type": "display_data"
    },
    {
     "name": "stderr",
     "output_type": "stream",
     "text": [
      "Generating:  90%|█████████ | 360/400 [3:52:46<24:54, 37.35s/it]"
     ]
    },
    {
     "data": {
      "text/html": [
       "<pre style=\"white-space:pre;overflow-x:auto;line-height:normal;font-family:Menlo,'DejaVu Sans Mono',consolas,'Courier New',monospace\"><span style=\"color: #7fbfbf; text-decoration-color: #7fbfbf\">[05/22/25 23:20:23] </span><span style=\"color: #000080; text-decoration-color: #000080\">INFO    </span> ✓ <span style=\"color: #008080; text-decoration-color: #008080; font-weight: bold\">361.</span>txt → Basic\\Gemini\\<span style=\"color: #008080; text-decoration-color: #008080; font-weight: bold\">361.</span>cc                                        <a href=\"file://C:\\Users\\Tasnim\\AppData\\Local\\Temp\\ipykernel_16732\\1564753407.py\" target=\"_blank\"><span style=\"color: #7f7f7f; text-decoration-color: #7f7f7f\">1564753407.py</span></a><span style=\"color: #7f7f7f; text-decoration-color: #7f7f7f\">:</span><a href=\"file://C:\\Users\\Tasnim\\AppData\\Local\\Temp\\ipykernel_16732\\1564753407.py#9\" target=\"_blank\"><span style=\"color: #7f7f7f; text-decoration-color: #7f7f7f\">9</span></a>\n",
       "</pre>\n"
      ],
      "text/plain": [
       "\u001b[2;36m[05/22/25 23:20:23]\u001b[0m\u001b[2;36m \u001b[0m\u001b[34mINFO    \u001b[0m ✓ \u001b[1;36m361.\u001b[0mtxt → Basic\\Gemini\\\u001b[1;36m361.\u001b[0mcc                                        \u001b]8;id=967974;file://C:\\Users\\Tasnim\\AppData\\Local\\Temp\\ipykernel_16732\\1564753407.py\u001b\\\u001b[2m1564753407.py\u001b[0m\u001b]8;;\u001b\\\u001b[2m:\u001b[0m\u001b]8;id=526025;file://C:\\Users\\Tasnim\\AppData\\Local\\Temp\\ipykernel_16732\\1564753407.py#9\u001b\\\u001b[2m9\u001b[0m\u001b]8;;\u001b\\\n"
      ]
     },
     "metadata": {},
     "output_type": "display_data"
    },
    {
     "name": "stderr",
     "output_type": "stream",
     "text": [
      "Generating:  90%|█████████ | 361/400 [3:53:04<20:33, 31.63s/it]"
     ]
    },
    {
     "data": {
      "text/html": [
       "<pre style=\"white-space:pre;overflow-x:auto;line-height:normal;font-family:Menlo,'DejaVu Sans Mono',consolas,'Courier New',monospace\"><span style=\"color: #7fbfbf; text-decoration-color: #7fbfbf\">[05/22/25 23:20:43] </span><span style=\"color: #000080; text-decoration-color: #000080\">INFO    </span> ✓ <span style=\"color: #008080; text-decoration-color: #008080; font-weight: bold\">362.</span>txt → Basic\\Gemini\\<span style=\"color: #008080; text-decoration-color: #008080; font-weight: bold\">362.</span>cc                                        <a href=\"file://C:\\Users\\Tasnim\\AppData\\Local\\Temp\\ipykernel_16732\\1564753407.py\" target=\"_blank\"><span style=\"color: #7f7f7f; text-decoration-color: #7f7f7f\">1564753407.py</span></a><span style=\"color: #7f7f7f; text-decoration-color: #7f7f7f\">:</span><a href=\"file://C:\\Users\\Tasnim\\AppData\\Local\\Temp\\ipykernel_16732\\1564753407.py#9\" target=\"_blank\"><span style=\"color: #7f7f7f; text-decoration-color: #7f7f7f\">9</span></a>\n",
       "</pre>\n"
      ],
      "text/plain": [
       "\u001b[2;36m[05/22/25 23:20:43]\u001b[0m\u001b[2;36m \u001b[0m\u001b[34mINFO    \u001b[0m ✓ \u001b[1;36m362.\u001b[0mtxt → Basic\\Gemini\\\u001b[1;36m362.\u001b[0mcc                                        \u001b]8;id=111043;file://C:\\Users\\Tasnim\\AppData\\Local\\Temp\\ipykernel_16732\\1564753407.py\u001b\\\u001b[2m1564753407.py\u001b[0m\u001b]8;;\u001b\\\u001b[2m:\u001b[0m\u001b]8;id=562790;file://C:\\Users\\Tasnim\\AppData\\Local\\Temp\\ipykernel_16732\\1564753407.py#9\u001b\\\u001b[2m9\u001b[0m\u001b]8;;\u001b\\\n"
      ]
     },
     "metadata": {},
     "output_type": "display_data"
    },
    {
     "name": "stderr",
     "output_type": "stream",
     "text": [
      "Generating:  90%|█████████ | 362/400 [3:53:24<17:51, 28.20s/it]"
     ]
    },
    {
     "data": {
      "text/html": [
       "<pre style=\"white-space:pre;overflow-x:auto;line-height:normal;font-family:Menlo,'DejaVu Sans Mono',consolas,'Courier New',monospace\"><span style=\"color: #7fbfbf; text-decoration-color: #7fbfbf\">[05/22/25 23:21:10] </span><span style=\"color: #000080; text-decoration-color: #000080\">INFO    </span> ✓ <span style=\"color: #008080; text-decoration-color: #008080; font-weight: bold\">363.</span>txt → Basic\\Gemini\\<span style=\"color: #008080; text-decoration-color: #008080; font-weight: bold\">363.</span>cc                                        <a href=\"file://C:\\Users\\Tasnim\\AppData\\Local\\Temp\\ipykernel_16732\\1564753407.py\" target=\"_blank\"><span style=\"color: #7f7f7f; text-decoration-color: #7f7f7f\">1564753407.py</span></a><span style=\"color: #7f7f7f; text-decoration-color: #7f7f7f\">:</span><a href=\"file://C:\\Users\\Tasnim\\AppData\\Local\\Temp\\ipykernel_16732\\1564753407.py#9\" target=\"_blank\"><span style=\"color: #7f7f7f; text-decoration-color: #7f7f7f\">9</span></a>\n",
       "</pre>\n"
      ],
      "text/plain": [
       "\u001b[2;36m[05/22/25 23:21:10]\u001b[0m\u001b[2;36m \u001b[0m\u001b[34mINFO    \u001b[0m ✓ \u001b[1;36m363.\u001b[0mtxt → Basic\\Gemini\\\u001b[1;36m363.\u001b[0mcc                                        \u001b]8;id=323677;file://C:\\Users\\Tasnim\\AppData\\Local\\Temp\\ipykernel_16732\\1564753407.py\u001b\\\u001b[2m1564753407.py\u001b[0m\u001b]8;;\u001b\\\u001b[2m:\u001b[0m\u001b]8;id=466041;file://C:\\Users\\Tasnim\\AppData\\Local\\Temp\\ipykernel_16732\\1564753407.py#9\u001b\\\u001b[2m9\u001b[0m\u001b]8;;\u001b\\\n"
      ]
     },
     "metadata": {},
     "output_type": "display_data"
    },
    {
     "name": "stderr",
     "output_type": "stream",
     "text": [
      "Generating:  91%|█████████ | 363/400 [3:53:51<17:03, 27.68s/it]"
     ]
    },
    {
     "data": {
      "text/html": [
       "<pre style=\"white-space:pre;overflow-x:auto;line-height:normal;font-family:Menlo,'DejaVu Sans Mono',consolas,'Courier New',monospace\"><span style=\"color: #7fbfbf; text-decoration-color: #7fbfbf\">[05/22/25 23:21:23] </span><span style=\"color: #000080; text-decoration-color: #000080\">INFO    </span> ✓ <span style=\"color: #008080; text-decoration-color: #008080; font-weight: bold\">364.</span>txt → Basic\\Gemini\\<span style=\"color: #008080; text-decoration-color: #008080; font-weight: bold\">364.</span>cc                                        <a href=\"file://C:\\Users\\Tasnim\\AppData\\Local\\Temp\\ipykernel_16732\\1564753407.py\" target=\"_blank\"><span style=\"color: #7f7f7f; text-decoration-color: #7f7f7f\">1564753407.py</span></a><span style=\"color: #7f7f7f; text-decoration-color: #7f7f7f\">:</span><a href=\"file://C:\\Users\\Tasnim\\AppData\\Local\\Temp\\ipykernel_16732\\1564753407.py#9\" target=\"_blank\"><span style=\"color: #7f7f7f; text-decoration-color: #7f7f7f\">9</span></a>\n",
       "</pre>\n"
      ],
      "text/plain": [
       "\u001b[2;36m[05/22/25 23:21:23]\u001b[0m\u001b[2;36m \u001b[0m\u001b[34mINFO    \u001b[0m ✓ \u001b[1;36m364.\u001b[0mtxt → Basic\\Gemini\\\u001b[1;36m364.\u001b[0mcc                                        \u001b]8;id=104528;file://C:\\Users\\Tasnim\\AppData\\Local\\Temp\\ipykernel_16732\\1564753407.py\u001b\\\u001b[2m1564753407.py\u001b[0m\u001b]8;;\u001b\\\u001b[2m:\u001b[0m\u001b]8;id=815200;file://C:\\Users\\Tasnim\\AppData\\Local\\Temp\\ipykernel_16732\\1564753407.py#9\u001b\\\u001b[2m9\u001b[0m\u001b]8;;\u001b\\\n"
      ]
     },
     "metadata": {},
     "output_type": "display_data"
    },
    {
     "name": "stderr",
     "output_type": "stream",
     "text": [
      "Generating:  91%|█████████ | 364/400 [3:54:03<13:54, 23.18s/it]"
     ]
    },
    {
     "data": {
      "text/html": [
       "<pre style=\"white-space:pre;overflow-x:auto;line-height:normal;font-family:Menlo,'DejaVu Sans Mono',consolas,'Courier New',monospace\"><span style=\"color: #7fbfbf; text-decoration-color: #7fbfbf\">[05/22/25 23:21:45] </span><span style=\"color: #000080; text-decoration-color: #000080\">INFO    </span> ✓ <span style=\"color: #008080; text-decoration-color: #008080; font-weight: bold\">365.</span>txt → Basic\\Gemini\\<span style=\"color: #008080; text-decoration-color: #008080; font-weight: bold\">365.</span>cc                                        <a href=\"file://C:\\Users\\Tasnim\\AppData\\Local\\Temp\\ipykernel_16732\\1564753407.py\" target=\"_blank\"><span style=\"color: #7f7f7f; text-decoration-color: #7f7f7f\">1564753407.py</span></a><span style=\"color: #7f7f7f; text-decoration-color: #7f7f7f\">:</span><a href=\"file://C:\\Users\\Tasnim\\AppData\\Local\\Temp\\ipykernel_16732\\1564753407.py#9\" target=\"_blank\"><span style=\"color: #7f7f7f; text-decoration-color: #7f7f7f\">9</span></a>\n",
       "</pre>\n"
      ],
      "text/plain": [
       "\u001b[2;36m[05/22/25 23:21:45]\u001b[0m\u001b[2;36m \u001b[0m\u001b[34mINFO    \u001b[0m ✓ \u001b[1;36m365.\u001b[0mtxt → Basic\\Gemini\\\u001b[1;36m365.\u001b[0mcc                                        \u001b]8;id=52271;file://C:\\Users\\Tasnim\\AppData\\Local\\Temp\\ipykernel_16732\\1564753407.py\u001b\\\u001b[2m1564753407.py\u001b[0m\u001b]8;;\u001b\\\u001b[2m:\u001b[0m\u001b]8;id=416291;file://C:\\Users\\Tasnim\\AppData\\Local\\Temp\\ipykernel_16732\\1564753407.py#9\u001b\\\u001b[2m9\u001b[0m\u001b]8;;\u001b\\\n"
      ]
     },
     "metadata": {},
     "output_type": "display_data"
    },
    {
     "name": "stderr",
     "output_type": "stream",
     "text": [
      "Generating:  91%|█████████▏| 365/400 [3:54:26<13:21, 22.89s/it]"
     ]
    },
    {
     "data": {
      "text/html": [
       "<pre style=\"white-space:pre;overflow-x:auto;line-height:normal;font-family:Menlo,'DejaVu Sans Mono',consolas,'Courier New',monospace\"><span style=\"color: #7fbfbf; text-decoration-color: #7fbfbf\">[05/22/25 23:22:07] </span><span style=\"color: #000080; text-decoration-color: #000080\">INFO    </span> ✓ <span style=\"color: #008080; text-decoration-color: #008080; font-weight: bold\">366.</span>txt → Basic\\Gemini\\<span style=\"color: #008080; text-decoration-color: #008080; font-weight: bold\">366.</span>cc                                        <a href=\"file://C:\\Users\\Tasnim\\AppData\\Local\\Temp\\ipykernel_16732\\1564753407.py\" target=\"_blank\"><span style=\"color: #7f7f7f; text-decoration-color: #7f7f7f\">1564753407.py</span></a><span style=\"color: #7f7f7f; text-decoration-color: #7f7f7f\">:</span><a href=\"file://C:\\Users\\Tasnim\\AppData\\Local\\Temp\\ipykernel_16732\\1564753407.py#9\" target=\"_blank\"><span style=\"color: #7f7f7f; text-decoration-color: #7f7f7f\">9</span></a>\n",
       "</pre>\n"
      ],
      "text/plain": [
       "\u001b[2;36m[05/22/25 23:22:07]\u001b[0m\u001b[2;36m \u001b[0m\u001b[34mINFO    \u001b[0m ✓ \u001b[1;36m366.\u001b[0mtxt → Basic\\Gemini\\\u001b[1;36m366.\u001b[0mcc                                        \u001b]8;id=194185;file://C:\\Users\\Tasnim\\AppData\\Local\\Temp\\ipykernel_16732\\1564753407.py\u001b\\\u001b[2m1564753407.py\u001b[0m\u001b]8;;\u001b\\\u001b[2m:\u001b[0m\u001b]8;id=966760;file://C:\\Users\\Tasnim\\AppData\\Local\\Temp\\ipykernel_16732\\1564753407.py#9\u001b\\\u001b[2m9\u001b[0m\u001b]8;;\u001b\\\n"
      ]
     },
     "metadata": {},
     "output_type": "display_data"
    },
    {
     "name": "stderr",
     "output_type": "stream",
     "text": [
      "Generating:  92%|█████████▏| 366/400 [3:54:48<12:48, 22.62s/it]"
     ]
    },
    {
     "data": {
      "text/html": [
       "<pre style=\"white-space:pre;overflow-x:auto;line-height:normal;font-family:Menlo,'DejaVu Sans Mono',consolas,'Courier New',monospace\"><span style=\"color: #7fbfbf; text-decoration-color: #7fbfbf\">[05/22/25 23:22:45] </span><span style=\"color: #000080; text-decoration-color: #000080\">INFO    </span> ✓ <span style=\"color: #008080; text-decoration-color: #008080; font-weight: bold\">367.</span>txt → Basic\\Gemini\\<span style=\"color: #008080; text-decoration-color: #008080; font-weight: bold\">367.</span>cc                                        <a href=\"file://C:\\Users\\Tasnim\\AppData\\Local\\Temp\\ipykernel_16732\\1564753407.py\" target=\"_blank\"><span style=\"color: #7f7f7f; text-decoration-color: #7f7f7f\">1564753407.py</span></a><span style=\"color: #7f7f7f; text-decoration-color: #7f7f7f\">:</span><a href=\"file://C:\\Users\\Tasnim\\AppData\\Local\\Temp\\ipykernel_16732\\1564753407.py#9\" target=\"_blank\"><span style=\"color: #7f7f7f; text-decoration-color: #7f7f7f\">9</span></a>\n",
       "</pre>\n"
      ],
      "text/plain": [
       "\u001b[2;36m[05/22/25 23:22:45]\u001b[0m\u001b[2;36m \u001b[0m\u001b[34mINFO    \u001b[0m ✓ \u001b[1;36m367.\u001b[0mtxt → Basic\\Gemini\\\u001b[1;36m367.\u001b[0mcc                                        \u001b]8;id=36246;file://C:\\Users\\Tasnim\\AppData\\Local\\Temp\\ipykernel_16732\\1564753407.py\u001b\\\u001b[2m1564753407.py\u001b[0m\u001b]8;;\u001b\\\u001b[2m:\u001b[0m\u001b]8;id=716050;file://C:\\Users\\Tasnim\\AppData\\Local\\Temp\\ipykernel_16732\\1564753407.py#9\u001b\\\u001b[2m9\u001b[0m\u001b]8;;\u001b\\\n"
      ]
     },
     "metadata": {},
     "output_type": "display_data"
    },
    {
     "name": "stderr",
     "output_type": "stream",
     "text": [
      "Generating:  92%|█████████▏| 367/400 [3:55:26<15:01, 27.33s/it]"
     ]
    },
    {
     "data": {
      "text/html": [
       "<pre style=\"white-space:pre;overflow-x:auto;line-height:normal;font-family:Menlo,'DejaVu Sans Mono',consolas,'Courier New',monospace\"><span style=\"color: #7fbfbf; text-decoration-color: #7fbfbf\">[05/22/25 23:23:05] </span><span style=\"color: #000080; text-decoration-color: #000080\">INFO    </span> ✓ <span style=\"color: #008080; text-decoration-color: #008080; font-weight: bold\">368.</span>txt → Basic\\Gemini\\<span style=\"color: #008080; text-decoration-color: #008080; font-weight: bold\">368.</span>cc                                        <a href=\"file://C:\\Users\\Tasnim\\AppData\\Local\\Temp\\ipykernel_16732\\1564753407.py\" target=\"_blank\"><span style=\"color: #7f7f7f; text-decoration-color: #7f7f7f\">1564753407.py</span></a><span style=\"color: #7f7f7f; text-decoration-color: #7f7f7f\">:</span><a href=\"file://C:\\Users\\Tasnim\\AppData\\Local\\Temp\\ipykernel_16732\\1564753407.py#9\" target=\"_blank\"><span style=\"color: #7f7f7f; text-decoration-color: #7f7f7f\">9</span></a>\n",
       "</pre>\n"
      ],
      "text/plain": [
       "\u001b[2;36m[05/22/25 23:23:05]\u001b[0m\u001b[2;36m \u001b[0m\u001b[34mINFO    \u001b[0m ✓ \u001b[1;36m368.\u001b[0mtxt → Basic\\Gemini\\\u001b[1;36m368.\u001b[0mcc                                        \u001b]8;id=245479;file://C:\\Users\\Tasnim\\AppData\\Local\\Temp\\ipykernel_16732\\1564753407.py\u001b\\\u001b[2m1564753407.py\u001b[0m\u001b]8;;\u001b\\\u001b[2m:\u001b[0m\u001b]8;id=327670;file://C:\\Users\\Tasnim\\AppData\\Local\\Temp\\ipykernel_16732\\1564753407.py#9\u001b\\\u001b[2m9\u001b[0m\u001b]8;;\u001b\\\n"
      ]
     },
     "metadata": {},
     "output_type": "display_data"
    },
    {
     "name": "stderr",
     "output_type": "stream",
     "text": [
      "Generating:  92%|█████████▏| 368/400 [3:55:46<13:24, 25.13s/it]"
     ]
    },
    {
     "data": {
      "text/html": [
       "<pre style=\"white-space:pre;overflow-x:auto;line-height:normal;font-family:Menlo,'DejaVu Sans Mono',consolas,'Courier New',monospace\"><span style=\"color: #7fbfbf; text-decoration-color: #7fbfbf\">[05/22/25 23:23:19] </span><span style=\"color: #000080; text-decoration-color: #000080\">INFO    </span> ✓ <span style=\"color: #008080; text-decoration-color: #008080; font-weight: bold\">369.</span>txt → Basic\\Gemini\\<span style=\"color: #008080; text-decoration-color: #008080; font-weight: bold\">369.</span>cc                                        <a href=\"file://C:\\Users\\Tasnim\\AppData\\Local\\Temp\\ipykernel_16732\\1564753407.py\" target=\"_blank\"><span style=\"color: #7f7f7f; text-decoration-color: #7f7f7f\">1564753407.py</span></a><span style=\"color: #7f7f7f; text-decoration-color: #7f7f7f\">:</span><a href=\"file://C:\\Users\\Tasnim\\AppData\\Local\\Temp\\ipykernel_16732\\1564753407.py#9\" target=\"_blank\"><span style=\"color: #7f7f7f; text-decoration-color: #7f7f7f\">9</span></a>\n",
       "</pre>\n"
      ],
      "text/plain": [
       "\u001b[2;36m[05/22/25 23:23:19]\u001b[0m\u001b[2;36m \u001b[0m\u001b[34mINFO    \u001b[0m ✓ \u001b[1;36m369.\u001b[0mtxt → Basic\\Gemini\\\u001b[1;36m369.\u001b[0mcc                                        \u001b]8;id=666249;file://C:\\Users\\Tasnim\\AppData\\Local\\Temp\\ipykernel_16732\\1564753407.py\u001b\\\u001b[2m1564753407.py\u001b[0m\u001b]8;;\u001b\\\u001b[2m:\u001b[0m\u001b]8;id=931415;file://C:\\Users\\Tasnim\\AppData\\Local\\Temp\\ipykernel_16732\\1564753407.py#9\u001b\\\u001b[2m9\u001b[0m\u001b]8;;\u001b\\\n"
      ]
     },
     "metadata": {},
     "output_type": "display_data"
    },
    {
     "name": "stderr",
     "output_type": "stream",
     "text": [
      "Generating:  92%|█████████▏| 369/400 [3:56:00<11:18, 21.90s/it]"
     ]
    },
    {
     "data": {
      "text/html": [
       "<pre style=\"white-space:pre;overflow-x:auto;line-height:normal;font-family:Menlo,'DejaVu Sans Mono',consolas,'Courier New',monospace\"><span style=\"color: #7fbfbf; text-decoration-color: #7fbfbf\">[05/22/25 23:23:59] </span><span style=\"color: #000080; text-decoration-color: #000080\">INFO    </span> ✓ <span style=\"color: #008080; text-decoration-color: #008080; font-weight: bold\">370.</span>txt → Basic\\Gemini\\<span style=\"color: #008080; text-decoration-color: #008080; font-weight: bold\">370.</span>cc                                        <a href=\"file://C:\\Users\\Tasnim\\AppData\\Local\\Temp\\ipykernel_16732\\1564753407.py\" target=\"_blank\"><span style=\"color: #7f7f7f; text-decoration-color: #7f7f7f\">1564753407.py</span></a><span style=\"color: #7f7f7f; text-decoration-color: #7f7f7f\">:</span><a href=\"file://C:\\Users\\Tasnim\\AppData\\Local\\Temp\\ipykernel_16732\\1564753407.py#9\" target=\"_blank\"><span style=\"color: #7f7f7f; text-decoration-color: #7f7f7f\">9</span></a>\n",
       "</pre>\n"
      ],
      "text/plain": [
       "\u001b[2;36m[05/22/25 23:23:59]\u001b[0m\u001b[2;36m \u001b[0m\u001b[34mINFO    \u001b[0m ✓ \u001b[1;36m370.\u001b[0mtxt → Basic\\Gemini\\\u001b[1;36m370.\u001b[0mcc                                        \u001b]8;id=704340;file://C:\\Users\\Tasnim\\AppData\\Local\\Temp\\ipykernel_16732\\1564753407.py\u001b\\\u001b[2m1564753407.py\u001b[0m\u001b]8;;\u001b\\\u001b[2m:\u001b[0m\u001b]8;id=562538;file://C:\\Users\\Tasnim\\AppData\\Local\\Temp\\ipykernel_16732\\1564753407.py#9\u001b\\\u001b[2m9\u001b[0m\u001b]8;;\u001b\\\n"
      ]
     },
     "metadata": {},
     "output_type": "display_data"
    },
    {
     "name": "stderr",
     "output_type": "stream",
     "text": [
      "Generating:  92%|█████████▎| 370/400 [3:56:39<13:32, 27.10s/it]"
     ]
    },
    {
     "data": {
      "text/html": [
       "<pre style=\"white-space:pre;overflow-x:auto;line-height:normal;font-family:Menlo,'DejaVu Sans Mono',consolas,'Courier New',monospace\"><span style=\"color: #7fbfbf; text-decoration-color: #7fbfbf\">[05/22/25 23:24:18] </span><span style=\"color: #000080; text-decoration-color: #000080\">INFO    </span> ✓ <span style=\"color: #008080; text-decoration-color: #008080; font-weight: bold\">371.</span>txt → Basic\\Gemini\\<span style=\"color: #008080; text-decoration-color: #008080; font-weight: bold\">371.</span>cc                                        <a href=\"file://C:\\Users\\Tasnim\\AppData\\Local\\Temp\\ipykernel_16732\\1564753407.py\" target=\"_blank\"><span style=\"color: #7f7f7f; text-decoration-color: #7f7f7f\">1564753407.py</span></a><span style=\"color: #7f7f7f; text-decoration-color: #7f7f7f\">:</span><a href=\"file://C:\\Users\\Tasnim\\AppData\\Local\\Temp\\ipykernel_16732\\1564753407.py#9\" target=\"_blank\"><span style=\"color: #7f7f7f; text-decoration-color: #7f7f7f\">9</span></a>\n",
       "</pre>\n"
      ],
      "text/plain": [
       "\u001b[2;36m[05/22/25 23:24:18]\u001b[0m\u001b[2;36m \u001b[0m\u001b[34mINFO    \u001b[0m ✓ \u001b[1;36m371.\u001b[0mtxt → Basic\\Gemini\\\u001b[1;36m371.\u001b[0mcc                                        \u001b]8;id=639218;file://C:\\Users\\Tasnim\\AppData\\Local\\Temp\\ipykernel_16732\\1564753407.py\u001b\\\u001b[2m1564753407.py\u001b[0m\u001b]8;;\u001b\\\u001b[2m:\u001b[0m\u001b]8;id=787227;file://C:\\Users\\Tasnim\\AppData\\Local\\Temp\\ipykernel_16732\\1564753407.py#9\u001b\\\u001b[2m9\u001b[0m\u001b]8;;\u001b\\\n"
      ]
     },
     "metadata": {},
     "output_type": "display_data"
    },
    {
     "name": "stderr",
     "output_type": "stream",
     "text": [
      "Generating:  93%|█████████▎| 371/400 [3:56:59<12:02, 24.92s/it]"
     ]
    },
    {
     "data": {
      "text/html": [
       "<pre style=\"white-space:pre;overflow-x:auto;line-height:normal;font-family:Menlo,'DejaVu Sans Mono',consolas,'Courier New',monospace\"><span style=\"color: #7fbfbf; text-decoration-color: #7fbfbf\">[05/22/25 23:24:35] </span><span style=\"color: #000080; text-decoration-color: #000080\">INFO    </span> ✓ <span style=\"color: #008080; text-decoration-color: #008080; font-weight: bold\">372.</span>txt → Basic\\Gemini\\<span style=\"color: #008080; text-decoration-color: #008080; font-weight: bold\">372.</span>cc                                        <a href=\"file://C:\\Users\\Tasnim\\AppData\\Local\\Temp\\ipykernel_16732\\1564753407.py\" target=\"_blank\"><span style=\"color: #7f7f7f; text-decoration-color: #7f7f7f\">1564753407.py</span></a><span style=\"color: #7f7f7f; text-decoration-color: #7f7f7f\">:</span><a href=\"file://C:\\Users\\Tasnim\\AppData\\Local\\Temp\\ipykernel_16732\\1564753407.py#9\" target=\"_blank\"><span style=\"color: #7f7f7f; text-decoration-color: #7f7f7f\">9</span></a>\n",
       "</pre>\n"
      ],
      "text/plain": [
       "\u001b[2;36m[05/22/25 23:24:35]\u001b[0m\u001b[2;36m \u001b[0m\u001b[34mINFO    \u001b[0m ✓ \u001b[1;36m372.\u001b[0mtxt → Basic\\Gemini\\\u001b[1;36m372.\u001b[0mcc                                        \u001b]8;id=512795;file://C:\\Users\\Tasnim\\AppData\\Local\\Temp\\ipykernel_16732\\1564753407.py\u001b\\\u001b[2m1564753407.py\u001b[0m\u001b]8;;\u001b\\\u001b[2m:\u001b[0m\u001b]8;id=712858;file://C:\\Users\\Tasnim\\AppData\\Local\\Temp\\ipykernel_16732\\1564753407.py#9\u001b\\\u001b[2m9\u001b[0m\u001b]8;;\u001b\\\n"
      ]
     },
     "metadata": {},
     "output_type": "display_data"
    },
    {
     "name": "stderr",
     "output_type": "stream",
     "text": [
      "Generating:  93%|█████████▎| 372/400 [3:57:16<10:27, 22.40s/it]"
     ]
    },
    {
     "data": {
      "text/html": [
       "<pre style=\"white-space:pre;overflow-x:auto;line-height:normal;font-family:Menlo,'DejaVu Sans Mono',consolas,'Courier New',monospace\"><span style=\"color: #7fbfbf; text-decoration-color: #7fbfbf\">[05/22/25 23:25:01] </span><span style=\"color: #000080; text-decoration-color: #000080\">INFO    </span> ✓ <span style=\"color: #008080; text-decoration-color: #008080; font-weight: bold\">373.</span>txt → Basic\\Gemini\\<span style=\"color: #008080; text-decoration-color: #008080; font-weight: bold\">373.</span>cc                                        <a href=\"file://C:\\Users\\Tasnim\\AppData\\Local\\Temp\\ipykernel_16732\\1564753407.py\" target=\"_blank\"><span style=\"color: #7f7f7f; text-decoration-color: #7f7f7f\">1564753407.py</span></a><span style=\"color: #7f7f7f; text-decoration-color: #7f7f7f\">:</span><a href=\"file://C:\\Users\\Tasnim\\AppData\\Local\\Temp\\ipykernel_16732\\1564753407.py#9\" target=\"_blank\"><span style=\"color: #7f7f7f; text-decoration-color: #7f7f7f\">9</span></a>\n",
       "</pre>\n"
      ],
      "text/plain": [
       "\u001b[2;36m[05/22/25 23:25:01]\u001b[0m\u001b[2;36m \u001b[0m\u001b[34mINFO    \u001b[0m ✓ \u001b[1;36m373.\u001b[0mtxt → Basic\\Gemini\\\u001b[1;36m373.\u001b[0mcc                                        \u001b]8;id=112232;file://C:\\Users\\Tasnim\\AppData\\Local\\Temp\\ipykernel_16732\\1564753407.py\u001b\\\u001b[2m1564753407.py\u001b[0m\u001b]8;;\u001b\\\u001b[2m:\u001b[0m\u001b]8;id=38623;file://C:\\Users\\Tasnim\\AppData\\Local\\Temp\\ipykernel_16732\\1564753407.py#9\u001b\\\u001b[2m9\u001b[0m\u001b]8;;\u001b\\\n"
      ]
     },
     "metadata": {},
     "output_type": "display_data"
    },
    {
     "name": "stderr",
     "output_type": "stream",
     "text": [
      "Generating:  93%|█████████▎| 373/400 [3:57:41<10:30, 23.34s/it]"
     ]
    },
    {
     "data": {
      "text/html": [
       "<pre style=\"white-space:pre;overflow-x:auto;line-height:normal;font-family:Menlo,'DejaVu Sans Mono',consolas,'Courier New',monospace\"><span style=\"color: #7fbfbf; text-decoration-color: #7fbfbf\">[05/22/25 23:25:45] </span><span style=\"color: #000080; text-decoration-color: #000080\">INFO    </span> ✓ <span style=\"color: #008080; text-decoration-color: #008080; font-weight: bold\">374.</span>txt → Basic\\Gemini\\<span style=\"color: #008080; text-decoration-color: #008080; font-weight: bold\">374.</span>cc                                        <a href=\"file://C:\\Users\\Tasnim\\AppData\\Local\\Temp\\ipykernel_16732\\1564753407.py\" target=\"_blank\"><span style=\"color: #7f7f7f; text-decoration-color: #7f7f7f\">1564753407.py</span></a><span style=\"color: #7f7f7f; text-decoration-color: #7f7f7f\">:</span><a href=\"file://C:\\Users\\Tasnim\\AppData\\Local\\Temp\\ipykernel_16732\\1564753407.py#9\" target=\"_blank\"><span style=\"color: #7f7f7f; text-decoration-color: #7f7f7f\">9</span></a>\n",
       "</pre>\n"
      ],
      "text/plain": [
       "\u001b[2;36m[05/22/25 23:25:45]\u001b[0m\u001b[2;36m \u001b[0m\u001b[34mINFO    \u001b[0m ✓ \u001b[1;36m374.\u001b[0mtxt → Basic\\Gemini\\\u001b[1;36m374.\u001b[0mcc                                        \u001b]8;id=795632;file://C:\\Users\\Tasnim\\AppData\\Local\\Temp\\ipykernel_16732\\1564753407.py\u001b\\\u001b[2m1564753407.py\u001b[0m\u001b]8;;\u001b\\\u001b[2m:\u001b[0m\u001b]8;id=749077;file://C:\\Users\\Tasnim\\AppData\\Local\\Temp\\ipykernel_16732\\1564753407.py#9\u001b\\\u001b[2m9\u001b[0m\u001b]8;;\u001b\\\n"
      ]
     },
     "metadata": {},
     "output_type": "display_data"
    },
    {
     "name": "stderr",
     "output_type": "stream",
     "text": [
      "Generating:  94%|█████████▎| 374/400 [3:58:26<12:49, 29.60s/it]"
     ]
    },
    {
     "data": {
      "text/html": [
       "<pre style=\"white-space:pre;overflow-x:auto;line-height:normal;font-family:Menlo,'DejaVu Sans Mono',consolas,'Courier New',monospace\"><span style=\"color: #7fbfbf; text-decoration-color: #7fbfbf\">[05/22/25 23:26:14] </span><span style=\"color: #000080; text-decoration-color: #000080\">INFO    </span> ✓ <span style=\"color: #008080; text-decoration-color: #008080; font-weight: bold\">375.</span>txt → Basic\\Gemini\\<span style=\"color: #008080; text-decoration-color: #008080; font-weight: bold\">375.</span>cc                                        <a href=\"file://C:\\Users\\Tasnim\\AppData\\Local\\Temp\\ipykernel_16732\\1564753407.py\" target=\"_blank\"><span style=\"color: #7f7f7f; text-decoration-color: #7f7f7f\">1564753407.py</span></a><span style=\"color: #7f7f7f; text-decoration-color: #7f7f7f\">:</span><a href=\"file://C:\\Users\\Tasnim\\AppData\\Local\\Temp\\ipykernel_16732\\1564753407.py#9\" target=\"_blank\"><span style=\"color: #7f7f7f; text-decoration-color: #7f7f7f\">9</span></a>\n",
       "</pre>\n"
      ],
      "text/plain": [
       "\u001b[2;36m[05/22/25 23:26:14]\u001b[0m\u001b[2;36m \u001b[0m\u001b[34mINFO    \u001b[0m ✓ \u001b[1;36m375.\u001b[0mtxt → Basic\\Gemini\\\u001b[1;36m375.\u001b[0mcc                                        \u001b]8;id=980788;file://C:\\Users\\Tasnim\\AppData\\Local\\Temp\\ipykernel_16732\\1564753407.py\u001b\\\u001b[2m1564753407.py\u001b[0m\u001b]8;;\u001b\\\u001b[2m:\u001b[0m\u001b]8;id=615212;file://C:\\Users\\Tasnim\\AppData\\Local\\Temp\\ipykernel_16732\\1564753407.py#9\u001b\\\u001b[2m9\u001b[0m\u001b]8;;\u001b\\\n"
      ]
     },
     "metadata": {},
     "output_type": "display_data"
    },
    {
     "name": "stderr",
     "output_type": "stream",
     "text": [
      "Generating:  94%|█████████▍| 375/400 [3:58:55<12:17, 29.51s/it]"
     ]
    },
    {
     "data": {
      "text/html": [
       "<pre style=\"white-space:pre;overflow-x:auto;line-height:normal;font-family:Menlo,'DejaVu Sans Mono',consolas,'Courier New',monospace\"><span style=\"color: #7fbfbf; text-decoration-color: #7fbfbf\">[05/22/25 23:26:35] </span><span style=\"color: #000080; text-decoration-color: #000080\">INFO    </span> ✓ <span style=\"color: #008080; text-decoration-color: #008080; font-weight: bold\">376.</span>txt → Basic\\Gemini\\<span style=\"color: #008080; text-decoration-color: #008080; font-weight: bold\">376.</span>cc                                        <a href=\"file://C:\\Users\\Tasnim\\AppData\\Local\\Temp\\ipykernel_16732\\1564753407.py\" target=\"_blank\"><span style=\"color: #7f7f7f; text-decoration-color: #7f7f7f\">1564753407.py</span></a><span style=\"color: #7f7f7f; text-decoration-color: #7f7f7f\">:</span><a href=\"file://C:\\Users\\Tasnim\\AppData\\Local\\Temp\\ipykernel_16732\\1564753407.py#9\" target=\"_blank\"><span style=\"color: #7f7f7f; text-decoration-color: #7f7f7f\">9</span></a>\n",
       "</pre>\n"
      ],
      "text/plain": [
       "\u001b[2;36m[05/22/25 23:26:35]\u001b[0m\u001b[2;36m \u001b[0m\u001b[34mINFO    \u001b[0m ✓ \u001b[1;36m376.\u001b[0mtxt → Basic\\Gemini\\\u001b[1;36m376.\u001b[0mcc                                        \u001b]8;id=10695;file://C:\\Users\\Tasnim\\AppData\\Local\\Temp\\ipykernel_16732\\1564753407.py\u001b\\\u001b[2m1564753407.py\u001b[0m\u001b]8;;\u001b\\\u001b[2m:\u001b[0m\u001b]8;id=315964;file://C:\\Users\\Tasnim\\AppData\\Local\\Temp\\ipykernel_16732\\1564753407.py#9\u001b\\\u001b[2m9\u001b[0m\u001b]8;;\u001b\\\n"
      ]
     },
     "metadata": {},
     "output_type": "display_data"
    },
    {
     "name": "stderr",
     "output_type": "stream",
     "text": [
      "Generating:  94%|█████████▍| 376/400 [3:59:16<10:44, 26.87s/it]"
     ]
    },
    {
     "data": {
      "text/html": [
       "<pre style=\"white-space:pre;overflow-x:auto;line-height:normal;font-family:Menlo,'DejaVu Sans Mono',consolas,'Courier New',monospace\"><span style=\"color: #7fbfbf; text-decoration-color: #7fbfbf\">[05/22/25 23:27:44] </span><span style=\"color: #000080; text-decoration-color: #000080\">INFO    </span> ✓ <span style=\"color: #008080; text-decoration-color: #008080; font-weight: bold\">377.</span>txt → Basic\\Gemini\\<span style=\"color: #008080; text-decoration-color: #008080; font-weight: bold\">377.</span>cc                                        <a href=\"file://C:\\Users\\Tasnim\\AppData\\Local\\Temp\\ipykernel_16732\\1564753407.py\" target=\"_blank\"><span style=\"color: #7f7f7f; text-decoration-color: #7f7f7f\">1564753407.py</span></a><span style=\"color: #7f7f7f; text-decoration-color: #7f7f7f\">:</span><a href=\"file://C:\\Users\\Tasnim\\AppData\\Local\\Temp\\ipykernel_16732\\1564753407.py#9\" target=\"_blank\"><span style=\"color: #7f7f7f; text-decoration-color: #7f7f7f\">9</span></a>\n",
       "</pre>\n"
      ],
      "text/plain": [
       "\u001b[2;36m[05/22/25 23:27:44]\u001b[0m\u001b[2;36m \u001b[0m\u001b[34mINFO    \u001b[0m ✓ \u001b[1;36m377.\u001b[0mtxt → Basic\\Gemini\\\u001b[1;36m377.\u001b[0mcc                                        \u001b]8;id=199157;file://C:\\Users\\Tasnim\\AppData\\Local\\Temp\\ipykernel_16732\\1564753407.py\u001b\\\u001b[2m1564753407.py\u001b[0m\u001b]8;;\u001b\\\u001b[2m:\u001b[0m\u001b]8;id=85419;file://C:\\Users\\Tasnim\\AppData\\Local\\Temp\\ipykernel_16732\\1564753407.py#9\u001b\\\u001b[2m9\u001b[0m\u001b]8;;\u001b\\\n"
      ]
     },
     "metadata": {},
     "output_type": "display_data"
    },
    {
     "name": "stderr",
     "output_type": "stream",
     "text": [
      "Generating:  94%|█████████▍| 377/400 [4:00:25<15:10, 39.59s/it]"
     ]
    },
    {
     "data": {
      "text/html": [
       "<pre style=\"white-space:pre;overflow-x:auto;line-height:normal;font-family:Menlo,'DejaVu Sans Mono',consolas,'Courier New',monospace\"><span style=\"color: #7fbfbf; text-decoration-color: #7fbfbf\">[05/22/25 23:28:20] </span><span style=\"color: #000080; text-decoration-color: #000080\">INFO    </span> ✓ <span style=\"color: #008080; text-decoration-color: #008080; font-weight: bold\">378.</span>txt → Basic\\Gemini\\<span style=\"color: #008080; text-decoration-color: #008080; font-weight: bold\">378.</span>cc                                        <a href=\"file://C:\\Users\\Tasnim\\AppData\\Local\\Temp\\ipykernel_16732\\1564753407.py\" target=\"_blank\"><span style=\"color: #7f7f7f; text-decoration-color: #7f7f7f\">1564753407.py</span></a><span style=\"color: #7f7f7f; text-decoration-color: #7f7f7f\">:</span><a href=\"file://C:\\Users\\Tasnim\\AppData\\Local\\Temp\\ipykernel_16732\\1564753407.py#9\" target=\"_blank\"><span style=\"color: #7f7f7f; text-decoration-color: #7f7f7f\">9</span></a>\n",
       "</pre>\n"
      ],
      "text/plain": [
       "\u001b[2;36m[05/22/25 23:28:20]\u001b[0m\u001b[2;36m \u001b[0m\u001b[34mINFO    \u001b[0m ✓ \u001b[1;36m378.\u001b[0mtxt → Basic\\Gemini\\\u001b[1;36m378.\u001b[0mcc                                        \u001b]8;id=592441;file://C:\\Users\\Tasnim\\AppData\\Local\\Temp\\ipykernel_16732\\1564753407.py\u001b\\\u001b[2m1564753407.py\u001b[0m\u001b]8;;\u001b\\\u001b[2m:\u001b[0m\u001b]8;id=119000;file://C:\\Users\\Tasnim\\AppData\\Local\\Temp\\ipykernel_16732\\1564753407.py#9\u001b\\\u001b[2m9\u001b[0m\u001b]8;;\u001b\\\n"
      ]
     },
     "metadata": {},
     "output_type": "display_data"
    },
    {
     "name": "stderr",
     "output_type": "stream",
     "text": [
      "Generating:  94%|█████████▍| 378/400 [4:01:01<14:08, 38.55s/it]"
     ]
    },
    {
     "data": {
      "text/html": [
       "<pre style=\"white-space:pre;overflow-x:auto;line-height:normal;font-family:Menlo,'DejaVu Sans Mono',consolas,'Courier New',monospace\"><span style=\"color: #7fbfbf; text-decoration-color: #7fbfbf\">[05/22/25 23:28:36] </span><span style=\"color: #000080; text-decoration-color: #000080\">INFO    </span> ✓ <span style=\"color: #008080; text-decoration-color: #008080; font-weight: bold\">379.</span>txt → Basic\\Gemini\\<span style=\"color: #008080; text-decoration-color: #008080; font-weight: bold\">379.</span>cc                                        <a href=\"file://C:\\Users\\Tasnim\\AppData\\Local\\Temp\\ipykernel_16732\\1564753407.py\" target=\"_blank\"><span style=\"color: #7f7f7f; text-decoration-color: #7f7f7f\">1564753407.py</span></a><span style=\"color: #7f7f7f; text-decoration-color: #7f7f7f\">:</span><a href=\"file://C:\\Users\\Tasnim\\AppData\\Local\\Temp\\ipykernel_16732\\1564753407.py#9\" target=\"_blank\"><span style=\"color: #7f7f7f; text-decoration-color: #7f7f7f\">9</span></a>\n",
       "</pre>\n"
      ],
      "text/plain": [
       "\u001b[2;36m[05/22/25 23:28:36]\u001b[0m\u001b[2;36m \u001b[0m\u001b[34mINFO    \u001b[0m ✓ \u001b[1;36m379.\u001b[0mtxt → Basic\\Gemini\\\u001b[1;36m379.\u001b[0mcc                                        \u001b]8;id=44584;file://C:\\Users\\Tasnim\\AppData\\Local\\Temp\\ipykernel_16732\\1564753407.py\u001b\\\u001b[2m1564753407.py\u001b[0m\u001b]8;;\u001b\\\u001b[2m:\u001b[0m\u001b]8;id=323994;file://C:\\Users\\Tasnim\\AppData\\Local\\Temp\\ipykernel_16732\\1564753407.py#9\u001b\\\u001b[2m9\u001b[0m\u001b]8;;\u001b\\\n"
      ]
     },
     "metadata": {},
     "output_type": "display_data"
    },
    {
     "name": "stderr",
     "output_type": "stream",
     "text": [
      "Generating:  95%|█████████▍| 379/400 [4:01:17<11:06, 31.74s/it]"
     ]
    },
    {
     "data": {
      "text/html": [
       "<pre style=\"white-space:pre;overflow-x:auto;line-height:normal;font-family:Menlo,'DejaVu Sans Mono',consolas,'Courier New',monospace\"><span style=\"color: #7fbfbf; text-decoration-color: #7fbfbf\">[05/22/25 23:29:01] </span><span style=\"color: #000080; text-decoration-color: #000080\">INFO    </span> ✓ <span style=\"color: #008080; text-decoration-color: #008080; font-weight: bold\">380.</span>txt → Basic\\Gemini\\<span style=\"color: #008080; text-decoration-color: #008080; font-weight: bold\">380.</span>cc                                        <a href=\"file://C:\\Users\\Tasnim\\AppData\\Local\\Temp\\ipykernel_16732\\1564753407.py\" target=\"_blank\"><span style=\"color: #7f7f7f; text-decoration-color: #7f7f7f\">1564753407.py</span></a><span style=\"color: #7f7f7f; text-decoration-color: #7f7f7f\">:</span><a href=\"file://C:\\Users\\Tasnim\\AppData\\Local\\Temp\\ipykernel_16732\\1564753407.py#9\" target=\"_blank\"><span style=\"color: #7f7f7f; text-decoration-color: #7f7f7f\">9</span></a>\n",
       "</pre>\n"
      ],
      "text/plain": [
       "\u001b[2;36m[05/22/25 23:29:01]\u001b[0m\u001b[2;36m \u001b[0m\u001b[34mINFO    \u001b[0m ✓ \u001b[1;36m380.\u001b[0mtxt → Basic\\Gemini\\\u001b[1;36m380.\u001b[0mcc                                        \u001b]8;id=427066;file://C:\\Users\\Tasnim\\AppData\\Local\\Temp\\ipykernel_16732\\1564753407.py\u001b\\\u001b[2m1564753407.py\u001b[0m\u001b]8;;\u001b\\\u001b[2m:\u001b[0m\u001b]8;id=77943;file://C:\\Users\\Tasnim\\AppData\\Local\\Temp\\ipykernel_16732\\1564753407.py#9\u001b\\\u001b[2m9\u001b[0m\u001b]8;;\u001b\\\n"
      ]
     },
     "metadata": {},
     "output_type": "display_data"
    },
    {
     "name": "stderr",
     "output_type": "stream",
     "text": [
      "Generating:  95%|█████████▌| 380/400 [4:01:42<09:52, 29.65s/it]"
     ]
    },
    {
     "data": {
      "text/html": [
       "<pre style=\"white-space:pre;overflow-x:auto;line-height:normal;font-family:Menlo,'DejaVu Sans Mono',consolas,'Courier New',monospace\"><span style=\"color: #7fbfbf; text-decoration-color: #7fbfbf\">[05/22/25 23:29:19] </span><span style=\"color: #000080; text-decoration-color: #000080\">INFO    </span> ✓ <span style=\"color: #008080; text-decoration-color: #008080; font-weight: bold\">381.</span>txt → Basic\\Gemini\\<span style=\"color: #008080; text-decoration-color: #008080; font-weight: bold\">381.</span>cc                                        <a href=\"file://C:\\Users\\Tasnim\\AppData\\Local\\Temp\\ipykernel_16732\\1564753407.py\" target=\"_blank\"><span style=\"color: #7f7f7f; text-decoration-color: #7f7f7f\">1564753407.py</span></a><span style=\"color: #7f7f7f; text-decoration-color: #7f7f7f\">:</span><a href=\"file://C:\\Users\\Tasnim\\AppData\\Local\\Temp\\ipykernel_16732\\1564753407.py#9\" target=\"_blank\"><span style=\"color: #7f7f7f; text-decoration-color: #7f7f7f\">9</span></a>\n",
       "</pre>\n"
      ],
      "text/plain": [
       "\u001b[2;36m[05/22/25 23:29:19]\u001b[0m\u001b[2;36m \u001b[0m\u001b[34mINFO    \u001b[0m ✓ \u001b[1;36m381.\u001b[0mtxt → Basic\\Gemini\\\u001b[1;36m381.\u001b[0mcc                                        \u001b]8;id=716375;file://C:\\Users\\Tasnim\\AppData\\Local\\Temp\\ipykernel_16732\\1564753407.py\u001b\\\u001b[2m1564753407.py\u001b[0m\u001b]8;;\u001b\\\u001b[2m:\u001b[0m\u001b]8;id=198247;file://C:\\Users\\Tasnim\\AppData\\Local\\Temp\\ipykernel_16732\\1564753407.py#9\u001b\\\u001b[2m9\u001b[0m\u001b]8;;\u001b\\\n"
      ]
     },
     "metadata": {},
     "output_type": "display_data"
    },
    {
     "name": "stderr",
     "output_type": "stream",
     "text": [
      "Generating:  95%|█████████▌| 381/400 [4:02:00<08:20, 26.35s/it]"
     ]
    },
    {
     "data": {
      "text/html": [
       "<pre style=\"white-space:pre;overflow-x:auto;line-height:normal;font-family:Menlo,'DejaVu Sans Mono',consolas,'Courier New',monospace\"><span style=\"color: #7fbfbf; text-decoration-color: #7fbfbf\">[05/22/25 23:29:34] </span><span style=\"color: #000080; text-decoration-color: #000080\">INFO    </span> ✓ <span style=\"color: #008080; text-decoration-color: #008080; font-weight: bold\">382.</span>txt → Basic\\Gemini\\<span style=\"color: #008080; text-decoration-color: #008080; font-weight: bold\">382.</span>cc                                        <a href=\"file://C:\\Users\\Tasnim\\AppData\\Local\\Temp\\ipykernel_16732\\1564753407.py\" target=\"_blank\"><span style=\"color: #7f7f7f; text-decoration-color: #7f7f7f\">1564753407.py</span></a><span style=\"color: #7f7f7f; text-decoration-color: #7f7f7f\">:</span><a href=\"file://C:\\Users\\Tasnim\\AppData\\Local\\Temp\\ipykernel_16732\\1564753407.py#9\" target=\"_blank\"><span style=\"color: #7f7f7f; text-decoration-color: #7f7f7f\">9</span></a>\n",
       "</pre>\n"
      ],
      "text/plain": [
       "\u001b[2;36m[05/22/25 23:29:34]\u001b[0m\u001b[2;36m \u001b[0m\u001b[34mINFO    \u001b[0m ✓ \u001b[1;36m382.\u001b[0mtxt → Basic\\Gemini\\\u001b[1;36m382.\u001b[0mcc                                        \u001b]8;id=42377;file://C:\\Users\\Tasnim\\AppData\\Local\\Temp\\ipykernel_16732\\1564753407.py\u001b\\\u001b[2m1564753407.py\u001b[0m\u001b]8;;\u001b\\\u001b[2m:\u001b[0m\u001b]8;id=983412;file://C:\\Users\\Tasnim\\AppData\\Local\\Temp\\ipykernel_16732\\1564753407.py#9\u001b\\\u001b[2m9\u001b[0m\u001b]8;;\u001b\\\n"
      ]
     },
     "metadata": {},
     "output_type": "display_data"
    },
    {
     "name": "stderr",
     "output_type": "stream",
     "text": [
      "Generating:  96%|█████████▌| 382/400 [4:02:15<06:51, 22.86s/it]"
     ]
    },
    {
     "data": {
      "text/html": [
       "<pre style=\"white-space:pre;overflow-x:auto;line-height:normal;font-family:Menlo,'DejaVu Sans Mono',consolas,'Courier New',monospace\"><span style=\"color: #7fbfbf; text-decoration-color: #7fbfbf\">[05/22/25 23:29:57] </span><span style=\"color: #000080; text-decoration-color: #000080\">INFO    </span> ✓ <span style=\"color: #008080; text-decoration-color: #008080; font-weight: bold\">383.</span>txt → Basic\\Gemini\\<span style=\"color: #008080; text-decoration-color: #008080; font-weight: bold\">383.</span>cc                                        <a href=\"file://C:\\Users\\Tasnim\\AppData\\Local\\Temp\\ipykernel_16732\\1564753407.py\" target=\"_blank\"><span style=\"color: #7f7f7f; text-decoration-color: #7f7f7f\">1564753407.py</span></a><span style=\"color: #7f7f7f; text-decoration-color: #7f7f7f\">:</span><a href=\"file://C:\\Users\\Tasnim\\AppData\\Local\\Temp\\ipykernel_16732\\1564753407.py#9\" target=\"_blank\"><span style=\"color: #7f7f7f; text-decoration-color: #7f7f7f\">9</span></a>\n",
       "</pre>\n"
      ],
      "text/plain": [
       "\u001b[2;36m[05/22/25 23:29:57]\u001b[0m\u001b[2;36m \u001b[0m\u001b[34mINFO    \u001b[0m ✓ \u001b[1;36m383.\u001b[0mtxt → Basic\\Gemini\\\u001b[1;36m383.\u001b[0mcc                                        \u001b]8;id=795315;file://C:\\Users\\Tasnim\\AppData\\Local\\Temp\\ipykernel_16732\\1564753407.py\u001b\\\u001b[2m1564753407.py\u001b[0m\u001b]8;;\u001b\\\u001b[2m:\u001b[0m\u001b]8;id=880640;file://C:\\Users\\Tasnim\\AppData\\Local\\Temp\\ipykernel_16732\\1564753407.py#9\u001b\\\u001b[2m9\u001b[0m\u001b]8;;\u001b\\\n"
      ]
     },
     "metadata": {},
     "output_type": "display_data"
    },
    {
     "name": "stderr",
     "output_type": "stream",
     "text": [
      "Generating:  96%|█████████▌| 383/400 [4:02:38<06:28, 22.88s/it]"
     ]
    },
    {
     "data": {
      "text/html": [
       "<pre style=\"white-space:pre;overflow-x:auto;line-height:normal;font-family:Menlo,'DejaVu Sans Mono',consolas,'Courier New',monospace\"><span style=\"color: #7fbfbf; text-decoration-color: #7fbfbf\">[05/22/25 23:30:11] </span><span style=\"color: #000080; text-decoration-color: #000080\">INFO    </span> ✓ <span style=\"color: #008080; text-decoration-color: #008080; font-weight: bold\">384.</span>txt → Basic\\Gemini\\<span style=\"color: #008080; text-decoration-color: #008080; font-weight: bold\">384.</span>cc                                        <a href=\"file://C:\\Users\\Tasnim\\AppData\\Local\\Temp\\ipykernel_16732\\1564753407.py\" target=\"_blank\"><span style=\"color: #7f7f7f; text-decoration-color: #7f7f7f\">1564753407.py</span></a><span style=\"color: #7f7f7f; text-decoration-color: #7f7f7f\">:</span><a href=\"file://C:\\Users\\Tasnim\\AppData\\Local\\Temp\\ipykernel_16732\\1564753407.py#9\" target=\"_blank\"><span style=\"color: #7f7f7f; text-decoration-color: #7f7f7f\">9</span></a>\n",
       "</pre>\n"
      ],
      "text/plain": [
       "\u001b[2;36m[05/22/25 23:30:11]\u001b[0m\u001b[2;36m \u001b[0m\u001b[34mINFO    \u001b[0m ✓ \u001b[1;36m384.\u001b[0mtxt → Basic\\Gemini\\\u001b[1;36m384.\u001b[0mcc                                        \u001b]8;id=313636;file://C:\\Users\\Tasnim\\AppData\\Local\\Temp\\ipykernel_16732\\1564753407.py\u001b\\\u001b[2m1564753407.py\u001b[0m\u001b]8;;\u001b\\\u001b[2m:\u001b[0m\u001b]8;id=169829;file://C:\\Users\\Tasnim\\AppData\\Local\\Temp\\ipykernel_16732\\1564753407.py#9\u001b\\\u001b[2m9\u001b[0m\u001b]8;;\u001b\\\n"
      ]
     },
     "metadata": {},
     "output_type": "display_data"
    },
    {
     "name": "stderr",
     "output_type": "stream",
     "text": [
      "Generating:  96%|█████████▌| 384/400 [4:02:52<05:24, 20.30s/it]"
     ]
    },
    {
     "data": {
      "text/html": [
       "<pre style=\"white-space:pre;overflow-x:auto;line-height:normal;font-family:Menlo,'DejaVu Sans Mono',consolas,'Courier New',monospace\"><span style=\"color: #7fbfbf; text-decoration-color: #7fbfbf\">[05/22/25 23:30:30] </span><span style=\"color: #000080; text-decoration-color: #000080\">INFO    </span> ✓ <span style=\"color: #008080; text-decoration-color: #008080; font-weight: bold\">385.</span>txt → Basic\\Gemini\\<span style=\"color: #008080; text-decoration-color: #008080; font-weight: bold\">385.</span>cc                                        <a href=\"file://C:\\Users\\Tasnim\\AppData\\Local\\Temp\\ipykernel_16732\\1564753407.py\" target=\"_blank\"><span style=\"color: #7f7f7f; text-decoration-color: #7f7f7f\">1564753407.py</span></a><span style=\"color: #7f7f7f; text-decoration-color: #7f7f7f\">:</span><a href=\"file://C:\\Users\\Tasnim\\AppData\\Local\\Temp\\ipykernel_16732\\1564753407.py#9\" target=\"_blank\"><span style=\"color: #7f7f7f; text-decoration-color: #7f7f7f\">9</span></a>\n",
       "</pre>\n"
      ],
      "text/plain": [
       "\u001b[2;36m[05/22/25 23:30:30]\u001b[0m\u001b[2;36m \u001b[0m\u001b[34mINFO    \u001b[0m ✓ \u001b[1;36m385.\u001b[0mtxt → Basic\\Gemini\\\u001b[1;36m385.\u001b[0mcc                                        \u001b]8;id=476159;file://C:\\Users\\Tasnim\\AppData\\Local\\Temp\\ipykernel_16732\\1564753407.py\u001b\\\u001b[2m1564753407.py\u001b[0m\u001b]8;;\u001b\\\u001b[2m:\u001b[0m\u001b]8;id=34521;file://C:\\Users\\Tasnim\\AppData\\Local\\Temp\\ipykernel_16732\\1564753407.py#9\u001b\\\u001b[2m9\u001b[0m\u001b]8;;\u001b\\\n"
      ]
     },
     "metadata": {},
     "output_type": "display_data"
    },
    {
     "name": "stderr",
     "output_type": "stream",
     "text": [
      "Generating:  96%|█████████▋| 385/400 [4:03:11<04:59, 19.95s/it]"
     ]
    },
    {
     "data": {
      "text/html": [
       "<pre style=\"white-space:pre;overflow-x:auto;line-height:normal;font-family:Menlo,'DejaVu Sans Mono',consolas,'Courier New',monospace\"><span style=\"color: #7fbfbf; text-decoration-color: #7fbfbf\">[05/22/25 23:31:01] </span><span style=\"color: #000080; text-decoration-color: #000080\">INFO    </span> ✓ <span style=\"color: #008080; text-decoration-color: #008080; font-weight: bold\">386.</span>txt → Basic\\Gemini\\<span style=\"color: #008080; text-decoration-color: #008080; font-weight: bold\">386.</span>cc                                        <a href=\"file://C:\\Users\\Tasnim\\AppData\\Local\\Temp\\ipykernel_16732\\1564753407.py\" target=\"_blank\"><span style=\"color: #7f7f7f; text-decoration-color: #7f7f7f\">1564753407.py</span></a><span style=\"color: #7f7f7f; text-decoration-color: #7f7f7f\">:</span><a href=\"file://C:\\Users\\Tasnim\\AppData\\Local\\Temp\\ipykernel_16732\\1564753407.py#9\" target=\"_blank\"><span style=\"color: #7f7f7f; text-decoration-color: #7f7f7f\">9</span></a>\n",
       "</pre>\n"
      ],
      "text/plain": [
       "\u001b[2;36m[05/22/25 23:31:01]\u001b[0m\u001b[2;36m \u001b[0m\u001b[34mINFO    \u001b[0m ✓ \u001b[1;36m386.\u001b[0mtxt → Basic\\Gemini\\\u001b[1;36m386.\u001b[0mcc                                        \u001b]8;id=659767;file://C:\\Users\\Tasnim\\AppData\\Local\\Temp\\ipykernel_16732\\1564753407.py\u001b\\\u001b[2m1564753407.py\u001b[0m\u001b]8;;\u001b\\\u001b[2m:\u001b[0m\u001b]8;id=885499;file://C:\\Users\\Tasnim\\AppData\\Local\\Temp\\ipykernel_16732\\1564753407.py#9\u001b\\\u001b[2m9\u001b[0m\u001b]8;;\u001b\\\n"
      ]
     },
     "metadata": {},
     "output_type": "display_data"
    },
    {
     "name": "stderr",
     "output_type": "stream",
     "text": [
      "Generating:  96%|█████████▋| 386/400 [4:03:42<05:22, 23.07s/it]"
     ]
    },
    {
     "data": {
      "text/html": [
       "<pre style=\"white-space:pre;overflow-x:auto;line-height:normal;font-family:Menlo,'DejaVu Sans Mono',consolas,'Courier New',monospace\"><span style=\"color: #7fbfbf; text-decoration-color: #7fbfbf\">[05/22/25 23:31:32] </span><span style=\"color: #000080; text-decoration-color: #000080\">INFO    </span> ✓ <span style=\"color: #008080; text-decoration-color: #008080; font-weight: bold\">387.</span>txt → Basic\\Gemini\\<span style=\"color: #008080; text-decoration-color: #008080; font-weight: bold\">387.</span>cc                                        <a href=\"file://C:\\Users\\Tasnim\\AppData\\Local\\Temp\\ipykernel_16732\\1564753407.py\" target=\"_blank\"><span style=\"color: #7f7f7f; text-decoration-color: #7f7f7f\">1564753407.py</span></a><span style=\"color: #7f7f7f; text-decoration-color: #7f7f7f\">:</span><a href=\"file://C:\\Users\\Tasnim\\AppData\\Local\\Temp\\ipykernel_16732\\1564753407.py#9\" target=\"_blank\"><span style=\"color: #7f7f7f; text-decoration-color: #7f7f7f\">9</span></a>\n",
       "</pre>\n"
      ],
      "text/plain": [
       "\u001b[2;36m[05/22/25 23:31:32]\u001b[0m\u001b[2;36m \u001b[0m\u001b[34mINFO    \u001b[0m ✓ \u001b[1;36m387.\u001b[0mtxt → Basic\\Gemini\\\u001b[1;36m387.\u001b[0mcc                                        \u001b]8;id=908663;file://C:\\Users\\Tasnim\\AppData\\Local\\Temp\\ipykernel_16732\\1564753407.py\u001b\\\u001b[2m1564753407.py\u001b[0m\u001b]8;;\u001b\\\u001b[2m:\u001b[0m\u001b]8;id=675613;file://C:\\Users\\Tasnim\\AppData\\Local\\Temp\\ipykernel_16732\\1564753407.py#9\u001b\\\u001b[2m9\u001b[0m\u001b]8;;\u001b\\\n"
      ]
     },
     "metadata": {},
     "output_type": "display_data"
    },
    {
     "name": "stderr",
     "output_type": "stream",
     "text": [
      "Generating:  97%|█████████▋| 387/400 [4:04:13<05:30, 25.44s/it]"
     ]
    },
    {
     "data": {
      "text/html": [
       "<pre style=\"white-space:pre;overflow-x:auto;line-height:normal;font-family:Menlo,'DejaVu Sans Mono',consolas,'Courier New',monospace\"><span style=\"color: #7fbfbf; text-decoration-color: #7fbfbf\">[05/22/25 23:31:57] </span><span style=\"color: #000080; text-decoration-color: #000080\">INFO    </span> ✓ <span style=\"color: #008080; text-decoration-color: #008080; font-weight: bold\">388.</span>txt → Basic\\Gemini\\<span style=\"color: #008080; text-decoration-color: #008080; font-weight: bold\">388.</span>cc                                        <a href=\"file://C:\\Users\\Tasnim\\AppData\\Local\\Temp\\ipykernel_16732\\1564753407.py\" target=\"_blank\"><span style=\"color: #7f7f7f; text-decoration-color: #7f7f7f\">1564753407.py</span></a><span style=\"color: #7f7f7f; text-decoration-color: #7f7f7f\">:</span><a href=\"file://C:\\Users\\Tasnim\\AppData\\Local\\Temp\\ipykernel_16732\\1564753407.py#9\" target=\"_blank\"><span style=\"color: #7f7f7f; text-decoration-color: #7f7f7f\">9</span></a>\n",
       "</pre>\n"
      ],
      "text/plain": [
       "\u001b[2;36m[05/22/25 23:31:57]\u001b[0m\u001b[2;36m \u001b[0m\u001b[34mINFO    \u001b[0m ✓ \u001b[1;36m388.\u001b[0mtxt → Basic\\Gemini\\\u001b[1;36m388.\u001b[0mcc                                        \u001b]8;id=353950;file://C:\\Users\\Tasnim\\AppData\\Local\\Temp\\ipykernel_16732\\1564753407.py\u001b\\\u001b[2m1564753407.py\u001b[0m\u001b]8;;\u001b\\\u001b[2m:\u001b[0m\u001b]8;id=458400;file://C:\\Users\\Tasnim\\AppData\\Local\\Temp\\ipykernel_16732\\1564753407.py#9\u001b\\\u001b[2m9\u001b[0m\u001b]8;;\u001b\\\n"
      ]
     },
     "metadata": {},
     "output_type": "display_data"
    },
    {
     "name": "stderr",
     "output_type": "stream",
     "text": [
      "Generating:  97%|█████████▋| 388/400 [4:04:38<05:04, 25.37s/it]"
     ]
    },
    {
     "data": {
      "text/html": [
       "<pre style=\"white-space:pre;overflow-x:auto;line-height:normal;font-family:Menlo,'DejaVu Sans Mono',consolas,'Courier New',monospace\"><span style=\"color: #7fbfbf; text-decoration-color: #7fbfbf\">[05/22/25 23:32:20] </span><span style=\"color: #000080; text-decoration-color: #000080\">INFO    </span> ✓ <span style=\"color: #008080; text-decoration-color: #008080; font-weight: bold\">389.</span>txt → Basic\\Gemini\\<span style=\"color: #008080; text-decoration-color: #008080; font-weight: bold\">389.</span>cc                                        <a href=\"file://C:\\Users\\Tasnim\\AppData\\Local\\Temp\\ipykernel_16732\\1564753407.py\" target=\"_blank\"><span style=\"color: #7f7f7f; text-decoration-color: #7f7f7f\">1564753407.py</span></a><span style=\"color: #7f7f7f; text-decoration-color: #7f7f7f\">:</span><a href=\"file://C:\\Users\\Tasnim\\AppData\\Local\\Temp\\ipykernel_16732\\1564753407.py#9\" target=\"_blank\"><span style=\"color: #7f7f7f; text-decoration-color: #7f7f7f\">9</span></a>\n",
       "</pre>\n"
      ],
      "text/plain": [
       "\u001b[2;36m[05/22/25 23:32:20]\u001b[0m\u001b[2;36m \u001b[0m\u001b[34mINFO    \u001b[0m ✓ \u001b[1;36m389.\u001b[0mtxt → Basic\\Gemini\\\u001b[1;36m389.\u001b[0mcc                                        \u001b]8;id=917699;file://C:\\Users\\Tasnim\\AppData\\Local\\Temp\\ipykernel_16732\\1564753407.py\u001b\\\u001b[2m1564753407.py\u001b[0m\u001b]8;;\u001b\\\u001b[2m:\u001b[0m\u001b]8;id=506272;file://C:\\Users\\Tasnim\\AppData\\Local\\Temp\\ipykernel_16732\\1564753407.py#9\u001b\\\u001b[2m9\u001b[0m\u001b]8;;\u001b\\\n"
      ]
     },
     "metadata": {},
     "output_type": "display_data"
    },
    {
     "name": "stderr",
     "output_type": "stream",
     "text": [
      "Generating:  97%|█████████▋| 389/400 [4:05:00<04:30, 24.55s/it]"
     ]
    },
    {
     "data": {
      "text/html": [
       "<pre style=\"white-space:pre;overflow-x:auto;line-height:normal;font-family:Menlo,'DejaVu Sans Mono',consolas,'Courier New',monospace\"><span style=\"color: #7fbfbf; text-decoration-color: #7fbfbf\">[05/22/25 23:32:38] </span><span style=\"color: #000080; text-decoration-color: #000080\">INFO    </span> ✓ <span style=\"color: #008080; text-decoration-color: #008080; font-weight: bold\">390.</span>txt → Basic\\Gemini\\<span style=\"color: #008080; text-decoration-color: #008080; font-weight: bold\">390.</span>cc                                        <a href=\"file://C:\\Users\\Tasnim\\AppData\\Local\\Temp\\ipykernel_16732\\1564753407.py\" target=\"_blank\"><span style=\"color: #7f7f7f; text-decoration-color: #7f7f7f\">1564753407.py</span></a><span style=\"color: #7f7f7f; text-decoration-color: #7f7f7f\">:</span><a href=\"file://C:\\Users\\Tasnim\\AppData\\Local\\Temp\\ipykernel_16732\\1564753407.py#9\" target=\"_blank\"><span style=\"color: #7f7f7f; text-decoration-color: #7f7f7f\">9</span></a>\n",
       "</pre>\n"
      ],
      "text/plain": [
       "\u001b[2;36m[05/22/25 23:32:38]\u001b[0m\u001b[2;36m \u001b[0m\u001b[34mINFO    \u001b[0m ✓ \u001b[1;36m390.\u001b[0mtxt → Basic\\Gemini\\\u001b[1;36m390.\u001b[0mcc                                        \u001b]8;id=38803;file://C:\\Users\\Tasnim\\AppData\\Local\\Temp\\ipykernel_16732\\1564753407.py\u001b\\\u001b[2m1564753407.py\u001b[0m\u001b]8;;\u001b\\\u001b[2m:\u001b[0m\u001b]8;id=316936;file://C:\\Users\\Tasnim\\AppData\\Local\\Temp\\ipykernel_16732\\1564753407.py#9\u001b\\\u001b[2m9\u001b[0m\u001b]8;;\u001b\\\n"
      ]
     },
     "metadata": {},
     "output_type": "display_data"
    },
    {
     "name": "stderr",
     "output_type": "stream",
     "text": [
      "Generating:  98%|█████████▊| 390/400 [4:05:19<03:46, 22.64s/it]"
     ]
    },
    {
     "data": {
      "text/html": [
       "<pre style=\"white-space:pre;overflow-x:auto;line-height:normal;font-family:Menlo,'DejaVu Sans Mono',consolas,'Courier New',monospace\"><span style=\"color: #7fbfbf; text-decoration-color: #7fbfbf\">[05/22/25 23:32:59] </span><span style=\"color: #000080; text-decoration-color: #000080\">INFO    </span> ✓ <span style=\"color: #008080; text-decoration-color: #008080; font-weight: bold\">391.</span>txt → Basic\\Gemini\\<span style=\"color: #008080; text-decoration-color: #008080; font-weight: bold\">391.</span>cc                                        <a href=\"file://C:\\Users\\Tasnim\\AppData\\Local\\Temp\\ipykernel_16732\\1564753407.py\" target=\"_blank\"><span style=\"color: #7f7f7f; text-decoration-color: #7f7f7f\">1564753407.py</span></a><span style=\"color: #7f7f7f; text-decoration-color: #7f7f7f\">:</span><a href=\"file://C:\\Users\\Tasnim\\AppData\\Local\\Temp\\ipykernel_16732\\1564753407.py#9\" target=\"_blank\"><span style=\"color: #7f7f7f; text-decoration-color: #7f7f7f\">9</span></a>\n",
       "</pre>\n"
      ],
      "text/plain": [
       "\u001b[2;36m[05/22/25 23:32:59]\u001b[0m\u001b[2;36m \u001b[0m\u001b[34mINFO    \u001b[0m ✓ \u001b[1;36m391.\u001b[0mtxt → Basic\\Gemini\\\u001b[1;36m391.\u001b[0mcc                                        \u001b]8;id=3281;file://C:\\Users\\Tasnim\\AppData\\Local\\Temp\\ipykernel_16732\\1564753407.py\u001b\\\u001b[2m1564753407.py\u001b[0m\u001b]8;;\u001b\\\u001b[2m:\u001b[0m\u001b]8;id=233571;file://C:\\Users\\Tasnim\\AppData\\Local\\Temp\\ipykernel_16732\\1564753407.py#9\u001b\\\u001b[2m9\u001b[0m\u001b]8;;\u001b\\\n"
      ]
     },
     "metadata": {},
     "output_type": "display_data"
    },
    {
     "name": "stderr",
     "output_type": "stream",
     "text": [
      "Generating:  98%|█████████▊| 391/400 [4:05:39<03:18, 22.11s/it]"
     ]
    },
    {
     "data": {
      "text/html": [
       "<pre style=\"white-space:pre;overflow-x:auto;line-height:normal;font-family:Menlo,'DejaVu Sans Mono',consolas,'Courier New',monospace\"><span style=\"color: #7fbfbf; text-decoration-color: #7fbfbf\">[05/22/25 23:33:20] </span><span style=\"color: #000080; text-decoration-color: #000080\">INFO    </span> ✓ <span style=\"color: #008080; text-decoration-color: #008080; font-weight: bold\">392.</span>txt → Basic\\Gemini\\<span style=\"color: #008080; text-decoration-color: #008080; font-weight: bold\">392.</span>cc                                        <a href=\"file://C:\\Users\\Tasnim\\AppData\\Local\\Temp\\ipykernel_16732\\1564753407.py\" target=\"_blank\"><span style=\"color: #7f7f7f; text-decoration-color: #7f7f7f\">1564753407.py</span></a><span style=\"color: #7f7f7f; text-decoration-color: #7f7f7f\">:</span><a href=\"file://C:\\Users\\Tasnim\\AppData\\Local\\Temp\\ipykernel_16732\\1564753407.py#9\" target=\"_blank\"><span style=\"color: #7f7f7f; text-decoration-color: #7f7f7f\">9</span></a>\n",
       "</pre>\n"
      ],
      "text/plain": [
       "\u001b[2;36m[05/22/25 23:33:20]\u001b[0m\u001b[2;36m \u001b[0m\u001b[34mINFO    \u001b[0m ✓ \u001b[1;36m392.\u001b[0mtxt → Basic\\Gemini\\\u001b[1;36m392.\u001b[0mcc                                        \u001b]8;id=887793;file://C:\\Users\\Tasnim\\AppData\\Local\\Temp\\ipykernel_16732\\1564753407.py\u001b\\\u001b[2m1564753407.py\u001b[0m\u001b]8;;\u001b\\\u001b[2m:\u001b[0m\u001b]8;id=931343;file://C:\\Users\\Tasnim\\AppData\\Local\\Temp\\ipykernel_16732\\1564753407.py#9\u001b\\\u001b[2m9\u001b[0m\u001b]8;;\u001b\\\n"
      ]
     },
     "metadata": {},
     "output_type": "display_data"
    },
    {
     "name": "stderr",
     "output_type": "stream",
     "text": [
      "Generating:  98%|█████████▊| 392/400 [4:06:01<02:56, 22.02s/it]"
     ]
    },
    {
     "data": {
      "text/html": [
       "<pre style=\"white-space:pre;overflow-x:auto;line-height:normal;font-family:Menlo,'DejaVu Sans Mono',consolas,'Courier New',monospace\"><span style=\"color: #7fbfbf; text-decoration-color: #7fbfbf\">[05/22/25 23:33:38] </span><span style=\"color: #000080; text-decoration-color: #000080\">INFO    </span> ✓ <span style=\"color: #008080; text-decoration-color: #008080; font-weight: bold\">393.</span>txt → Basic\\Gemini\\<span style=\"color: #008080; text-decoration-color: #008080; font-weight: bold\">393.</span>cc                                        <a href=\"file://C:\\Users\\Tasnim\\AppData\\Local\\Temp\\ipykernel_16732\\1564753407.py\" target=\"_blank\"><span style=\"color: #7f7f7f; text-decoration-color: #7f7f7f\">1564753407.py</span></a><span style=\"color: #7f7f7f; text-decoration-color: #7f7f7f\">:</span><a href=\"file://C:\\Users\\Tasnim\\AppData\\Local\\Temp\\ipykernel_16732\\1564753407.py#9\" target=\"_blank\"><span style=\"color: #7f7f7f; text-decoration-color: #7f7f7f\">9</span></a>\n",
       "</pre>\n"
      ],
      "text/plain": [
       "\u001b[2;36m[05/22/25 23:33:38]\u001b[0m\u001b[2;36m \u001b[0m\u001b[34mINFO    \u001b[0m ✓ \u001b[1;36m393.\u001b[0mtxt → Basic\\Gemini\\\u001b[1;36m393.\u001b[0mcc                                        \u001b]8;id=738625;file://C:\\Users\\Tasnim\\AppData\\Local\\Temp\\ipykernel_16732\\1564753407.py\u001b\\\u001b[2m1564753407.py\u001b[0m\u001b]8;;\u001b\\\u001b[2m:\u001b[0m\u001b]8;id=299038;file://C:\\Users\\Tasnim\\AppData\\Local\\Temp\\ipykernel_16732\\1564753407.py#9\u001b\\\u001b[2m9\u001b[0m\u001b]8;;\u001b\\\n"
      ]
     },
     "metadata": {},
     "output_type": "display_data"
    },
    {
     "name": "stderr",
     "output_type": "stream",
     "text": [
      "Generating:  98%|█████████▊| 393/400 [4:06:19<02:24, 20.66s/it]"
     ]
    },
    {
     "data": {
      "text/html": [
       "<pre style=\"white-space:pre;overflow-x:auto;line-height:normal;font-family:Menlo,'DejaVu Sans Mono',consolas,'Courier New',monospace\"><span style=\"color: #7fbfbf; text-decoration-color: #7fbfbf\">[05/22/25 23:33:56] </span><span style=\"color: #000080; text-decoration-color: #000080\">INFO    </span> ✓ <span style=\"color: #008080; text-decoration-color: #008080; font-weight: bold\">394.</span>txt → Basic\\Gemini\\<span style=\"color: #008080; text-decoration-color: #008080; font-weight: bold\">394.</span>cc                                        <a href=\"file://C:\\Users\\Tasnim\\AppData\\Local\\Temp\\ipykernel_16732\\1564753407.py\" target=\"_blank\"><span style=\"color: #7f7f7f; text-decoration-color: #7f7f7f\">1564753407.py</span></a><span style=\"color: #7f7f7f; text-decoration-color: #7f7f7f\">:</span><a href=\"file://C:\\Users\\Tasnim\\AppData\\Local\\Temp\\ipykernel_16732\\1564753407.py#9\" target=\"_blank\"><span style=\"color: #7f7f7f; text-decoration-color: #7f7f7f\">9</span></a>\n",
       "</pre>\n"
      ],
      "text/plain": [
       "\u001b[2;36m[05/22/25 23:33:56]\u001b[0m\u001b[2;36m \u001b[0m\u001b[34mINFO    \u001b[0m ✓ \u001b[1;36m394.\u001b[0mtxt → Basic\\Gemini\\\u001b[1;36m394.\u001b[0mcc                                        \u001b]8;id=436677;file://C:\\Users\\Tasnim\\AppData\\Local\\Temp\\ipykernel_16732\\1564753407.py\u001b\\\u001b[2m1564753407.py\u001b[0m\u001b]8;;\u001b\\\u001b[2m:\u001b[0m\u001b]8;id=78300;file://C:\\Users\\Tasnim\\AppData\\Local\\Temp\\ipykernel_16732\\1564753407.py#9\u001b\\\u001b[2m9\u001b[0m\u001b]8;;\u001b\\\n"
      ]
     },
     "metadata": {},
     "output_type": "display_data"
    },
    {
     "name": "stderr",
     "output_type": "stream",
     "text": [
      "Generating:  98%|█████████▊| 394/400 [4:06:37<01:59, 19.90s/it]"
     ]
    },
    {
     "data": {
      "text/html": [
       "<pre style=\"white-space:pre;overflow-x:auto;line-height:normal;font-family:Menlo,'DejaVu Sans Mono',consolas,'Courier New',monospace\"><span style=\"color: #7fbfbf; text-decoration-color: #7fbfbf\">[05/22/25 23:34:18] </span><span style=\"color: #000080; text-decoration-color: #000080\">INFO    </span> ✓ <span style=\"color: #008080; text-decoration-color: #008080; font-weight: bold\">395.</span>txt → Basic\\Gemini\\<span style=\"color: #008080; text-decoration-color: #008080; font-weight: bold\">395.</span>cc                                        <a href=\"file://C:\\Users\\Tasnim\\AppData\\Local\\Temp\\ipykernel_16732\\1564753407.py\" target=\"_blank\"><span style=\"color: #7f7f7f; text-decoration-color: #7f7f7f\">1564753407.py</span></a><span style=\"color: #7f7f7f; text-decoration-color: #7f7f7f\">:</span><a href=\"file://C:\\Users\\Tasnim\\AppData\\Local\\Temp\\ipykernel_16732\\1564753407.py#9\" target=\"_blank\"><span style=\"color: #7f7f7f; text-decoration-color: #7f7f7f\">9</span></a>\n",
       "</pre>\n"
      ],
      "text/plain": [
       "\u001b[2;36m[05/22/25 23:34:18]\u001b[0m\u001b[2;36m \u001b[0m\u001b[34mINFO    \u001b[0m ✓ \u001b[1;36m395.\u001b[0mtxt → Basic\\Gemini\\\u001b[1;36m395.\u001b[0mcc                                        \u001b]8;id=549644;file://C:\\Users\\Tasnim\\AppData\\Local\\Temp\\ipykernel_16732\\1564753407.py\u001b\\\u001b[2m1564753407.py\u001b[0m\u001b]8;;\u001b\\\u001b[2m:\u001b[0m\u001b]8;id=398308;file://C:\\Users\\Tasnim\\AppData\\Local\\Temp\\ipykernel_16732\\1564753407.py#9\u001b\\\u001b[2m9\u001b[0m\u001b]8;;\u001b\\\n"
      ]
     },
     "metadata": {},
     "output_type": "display_data"
    },
    {
     "name": "stderr",
     "output_type": "stream",
     "text": [
      "Generating:  99%|█████████▉| 395/400 [4:06:59<01:42, 20.52s/it]"
     ]
    },
    {
     "data": {
      "text/html": [
       "<pre style=\"white-space:pre;overflow-x:auto;line-height:normal;font-family:Menlo,'DejaVu Sans Mono',consolas,'Courier New',monospace\"><span style=\"color: #7fbfbf; text-decoration-color: #7fbfbf\">[05/22/25 23:34:50] </span><span style=\"color: #000080; text-decoration-color: #000080\">INFO    </span> ✓ <span style=\"color: #008080; text-decoration-color: #008080; font-weight: bold\">396.</span>txt → Basic\\Gemini\\<span style=\"color: #008080; text-decoration-color: #008080; font-weight: bold\">396.</span>cc                                        <a href=\"file://C:\\Users\\Tasnim\\AppData\\Local\\Temp\\ipykernel_16732\\1564753407.py\" target=\"_blank\"><span style=\"color: #7f7f7f; text-decoration-color: #7f7f7f\">1564753407.py</span></a><span style=\"color: #7f7f7f; text-decoration-color: #7f7f7f\">:</span><a href=\"file://C:\\Users\\Tasnim\\AppData\\Local\\Temp\\ipykernel_16732\\1564753407.py#9\" target=\"_blank\"><span style=\"color: #7f7f7f; text-decoration-color: #7f7f7f\">9</span></a>\n",
       "</pre>\n"
      ],
      "text/plain": [
       "\u001b[2;36m[05/22/25 23:34:50]\u001b[0m\u001b[2;36m \u001b[0m\u001b[34mINFO    \u001b[0m ✓ \u001b[1;36m396.\u001b[0mtxt → Basic\\Gemini\\\u001b[1;36m396.\u001b[0mcc                                        \u001b]8;id=449593;file://C:\\Users\\Tasnim\\AppData\\Local\\Temp\\ipykernel_16732\\1564753407.py\u001b\\\u001b[2m1564753407.py\u001b[0m\u001b]8;;\u001b\\\u001b[2m:\u001b[0m\u001b]8;id=434479;file://C:\\Users\\Tasnim\\AppData\\Local\\Temp\\ipykernel_16732\\1564753407.py#9\u001b\\\u001b[2m9\u001b[0m\u001b]8;;\u001b\\\n"
      ]
     },
     "metadata": {},
     "output_type": "display_data"
    },
    {
     "name": "stderr",
     "output_type": "stream",
     "text": [
      "Generating:  99%|█████████▉| 396/400 [4:07:31<01:35, 23.92s/it]"
     ]
    },
    {
     "data": {
      "text/html": [
       "<pre style=\"white-space:pre;overflow-x:auto;line-height:normal;font-family:Menlo,'DejaVu Sans Mono',consolas,'Courier New',monospace\"><span style=\"color: #7fbfbf; text-decoration-color: #7fbfbf\">[05/22/25 23:35:21] </span><span style=\"color: #000080; text-decoration-color: #000080\">INFO    </span> ✓ <span style=\"color: #008080; text-decoration-color: #008080; font-weight: bold\">397.</span>txt → Basic\\Gemini\\<span style=\"color: #008080; text-decoration-color: #008080; font-weight: bold\">397.</span>cc                                        <a href=\"file://C:\\Users\\Tasnim\\AppData\\Local\\Temp\\ipykernel_16732\\1564753407.py\" target=\"_blank\"><span style=\"color: #7f7f7f; text-decoration-color: #7f7f7f\">1564753407.py</span></a><span style=\"color: #7f7f7f; text-decoration-color: #7f7f7f\">:</span><a href=\"file://C:\\Users\\Tasnim\\AppData\\Local\\Temp\\ipykernel_16732\\1564753407.py#9\" target=\"_blank\"><span style=\"color: #7f7f7f; text-decoration-color: #7f7f7f\">9</span></a>\n",
       "</pre>\n"
      ],
      "text/plain": [
       "\u001b[2;36m[05/22/25 23:35:21]\u001b[0m\u001b[2;36m \u001b[0m\u001b[34mINFO    \u001b[0m ✓ \u001b[1;36m397.\u001b[0mtxt → Basic\\Gemini\\\u001b[1;36m397.\u001b[0mcc                                        \u001b]8;id=726703;file://C:\\Users\\Tasnim\\AppData\\Local\\Temp\\ipykernel_16732\\1564753407.py\u001b\\\u001b[2m1564753407.py\u001b[0m\u001b]8;;\u001b\\\u001b[2m:\u001b[0m\u001b]8;id=562210;file://C:\\Users\\Tasnim\\AppData\\Local\\Temp\\ipykernel_16732\\1564753407.py#9\u001b\\\u001b[2m9\u001b[0m\u001b]8;;\u001b\\\n"
      ]
     },
     "metadata": {},
     "output_type": "display_data"
    },
    {
     "name": "stderr",
     "output_type": "stream",
     "text": [
      "Generating:  99%|█████████▉| 397/400 [4:08:02<01:18, 26.06s/it]"
     ]
    },
    {
     "data": {
      "text/html": [
       "<pre style=\"white-space:pre;overflow-x:auto;line-height:normal;font-family:Menlo,'DejaVu Sans Mono',consolas,'Courier New',monospace\"><span style=\"color: #7fbfbf; text-decoration-color: #7fbfbf\">[05/22/25 23:35:55] </span><span style=\"color: #000080; text-decoration-color: #000080\">INFO    </span> ✓ <span style=\"color: #008080; text-decoration-color: #008080; font-weight: bold\">398.</span>txt → Basic\\Gemini\\<span style=\"color: #008080; text-decoration-color: #008080; font-weight: bold\">398.</span>cc                                        <a href=\"file://C:\\Users\\Tasnim\\AppData\\Local\\Temp\\ipykernel_16732\\1564753407.py\" target=\"_blank\"><span style=\"color: #7f7f7f; text-decoration-color: #7f7f7f\">1564753407.py</span></a><span style=\"color: #7f7f7f; text-decoration-color: #7f7f7f\">:</span><a href=\"file://C:\\Users\\Tasnim\\AppData\\Local\\Temp\\ipykernel_16732\\1564753407.py#9\" target=\"_blank\"><span style=\"color: #7f7f7f; text-decoration-color: #7f7f7f\">9</span></a>\n",
       "</pre>\n"
      ],
      "text/plain": [
       "\u001b[2;36m[05/22/25 23:35:55]\u001b[0m\u001b[2;36m \u001b[0m\u001b[34mINFO    \u001b[0m ✓ \u001b[1;36m398.\u001b[0mtxt → Basic\\Gemini\\\u001b[1;36m398.\u001b[0mcc                                        \u001b]8;id=491701;file://C:\\Users\\Tasnim\\AppData\\Local\\Temp\\ipykernel_16732\\1564753407.py\u001b\\\u001b[2m1564753407.py\u001b[0m\u001b]8;;\u001b\\\u001b[2m:\u001b[0m\u001b]8;id=549203;file://C:\\Users\\Tasnim\\AppData\\Local\\Temp\\ipykernel_16732\\1564753407.py#9\u001b\\\u001b[2m9\u001b[0m\u001b]8;;\u001b\\\n"
      ]
     },
     "metadata": {},
     "output_type": "display_data"
    },
    {
     "name": "stderr",
     "output_type": "stream",
     "text": [
      "Generating: 100%|█████████▉| 398/400 [4:08:36<00:56, 28.38s/it]"
     ]
    },
    {
     "data": {
      "text/html": [
       "<pre style=\"white-space:pre;overflow-x:auto;line-height:normal;font-family:Menlo,'DejaVu Sans Mono',consolas,'Courier New',monospace\"><span style=\"color: #7fbfbf; text-decoration-color: #7fbfbf\">[05/22/25 23:36:13] </span><span style=\"color: #000080; text-decoration-color: #000080\">INFO    </span> ✓ <span style=\"color: #008080; text-decoration-color: #008080; font-weight: bold\">399.</span>txt → Basic\\Gemini\\<span style=\"color: #008080; text-decoration-color: #008080; font-weight: bold\">399.</span>cc                                        <a href=\"file://C:\\Users\\Tasnim\\AppData\\Local\\Temp\\ipykernel_16732\\1564753407.py\" target=\"_blank\"><span style=\"color: #7f7f7f; text-decoration-color: #7f7f7f\">1564753407.py</span></a><span style=\"color: #7f7f7f; text-decoration-color: #7f7f7f\">:</span><a href=\"file://C:\\Users\\Tasnim\\AppData\\Local\\Temp\\ipykernel_16732\\1564753407.py#9\" target=\"_blank\"><span style=\"color: #7f7f7f; text-decoration-color: #7f7f7f\">9</span></a>\n",
       "</pre>\n"
      ],
      "text/plain": [
       "\u001b[2;36m[05/22/25 23:36:13]\u001b[0m\u001b[2;36m \u001b[0m\u001b[34mINFO    \u001b[0m ✓ \u001b[1;36m399.\u001b[0mtxt → Basic\\Gemini\\\u001b[1;36m399.\u001b[0mcc                                        \u001b]8;id=703254;file://C:\\Users\\Tasnim\\AppData\\Local\\Temp\\ipykernel_16732\\1564753407.py\u001b\\\u001b[2m1564753407.py\u001b[0m\u001b]8;;\u001b\\\u001b[2m:\u001b[0m\u001b]8;id=777851;file://C:\\Users\\Tasnim\\AppData\\Local\\Temp\\ipykernel_16732\\1564753407.py#9\u001b\\\u001b[2m9\u001b[0m\u001b]8;;\u001b\\\n"
      ]
     },
     "metadata": {},
     "output_type": "display_data"
    },
    {
     "name": "stderr",
     "output_type": "stream",
     "text": [
      "Generating: 100%|█████████▉| 399/400 [4:08:54<00:25, 25.48s/it]"
     ]
    },
    {
     "data": {
      "text/html": [
       "<pre style=\"white-space:pre;overflow-x:auto;line-height:normal;font-family:Menlo,'DejaVu Sans Mono',consolas,'Courier New',monospace\"><span style=\"color: #7fbfbf; text-decoration-color: #7fbfbf\">[05/22/25 23:36:38] </span><span style=\"color: #000080; text-decoration-color: #000080\">INFO    </span> ✓ <span style=\"color: #008080; text-decoration-color: #008080; font-weight: bold\">400.</span>txt → Basic\\Gemini\\<span style=\"color: #008080; text-decoration-color: #008080; font-weight: bold\">400.</span>cc                                        <a href=\"file://C:\\Users\\Tasnim\\AppData\\Local\\Temp\\ipykernel_16732\\1564753407.py\" target=\"_blank\"><span style=\"color: #7f7f7f; text-decoration-color: #7f7f7f\">1564753407.py</span></a><span style=\"color: #7f7f7f; text-decoration-color: #7f7f7f\">:</span><a href=\"file://C:\\Users\\Tasnim\\AppData\\Local\\Temp\\ipykernel_16732\\1564753407.py#9\" target=\"_blank\"><span style=\"color: #7f7f7f; text-decoration-color: #7f7f7f\">9</span></a>\n",
       "</pre>\n"
      ],
      "text/plain": [
       "\u001b[2;36m[05/22/25 23:36:38]\u001b[0m\u001b[2;36m \u001b[0m\u001b[34mINFO    \u001b[0m ✓ \u001b[1;36m400.\u001b[0mtxt → Basic\\Gemini\\\u001b[1;36m400.\u001b[0mcc                                        \u001b]8;id=408362;file://C:\\Users\\Tasnim\\AppData\\Local\\Temp\\ipykernel_16732\\1564753407.py\u001b\\\u001b[2m1564753407.py\u001b[0m\u001b]8;;\u001b\\\u001b[2m:\u001b[0m\u001b]8;id=976837;file://C:\\Users\\Tasnim\\AppData\\Local\\Temp\\ipykernel_16732\\1564753407.py#9\u001b\\\u001b[2m9\u001b[0m\u001b]8;;\u001b\\\n"
      ]
     },
     "metadata": {},
     "output_type": "display_data"
    },
    {
     "name": "stderr",
     "output_type": "stream",
     "text": [
      "Generating: 100%|██████████| 400/400 [4:09:19<00:00, 37.40s/it]\n"
     ]
    }
   ],
   "source": [
    "for src in tqdm(txt_files, desc='Generating'):\n",
    "    description = src.read_text(encoding='utf-8').strip()\n",
    "    prompt = f\"{instruction_prompt}\\n\\nProgram description:\\n\\\"\\\"\\\"\\n{description}\\n\\\"\\\"\\\"\"\n",
    "    try:\n",
    "        resp = model.generate_content(prompt)\n",
    "        code = extract_code(resp.text)\n",
    "        outfile = OUT_DIR / f\"{src.stem}.cc\"\n",
    "        outfile.write_text(code, encoding='utf-8')\n",
    "        logging.info(f'✓ {src.name} → {outfile}')\n",
    "    except Exception as e:\n",
    "        logging.error(f'✗ {src.name} – {e}')\n",
    "\n",
    "    time.sleep(7)"
   ]
  },
  {
   "cell_type": "code",
   "execution_count": null,
   "id": "bff69e03",
   "metadata": {},
   "outputs": [],
   "source": []
  }
 ],
 "metadata": {
  "kernelspec": {
   "display_name": "freshllm",
   "language": "python",
   "name": "python3"
  },
  "language_info": {
   "codemirror_mode": {
    "name": "ipython",
    "version": 3
   },
   "file_extension": ".py",
   "mimetype": "text/x-python",
   "name": "python",
   "nbconvert_exporter": "python",
   "pygments_lexer": "ipython3",
   "version": "3.9.20"
  }
 },
 "nbformat": 4,
 "nbformat_minor": 5
}
