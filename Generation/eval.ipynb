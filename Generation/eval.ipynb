{
 "cells": [
  {
   "cell_type": "code",
   "execution_count": 1,
   "id": "40e57793",
   "metadata": {},
   "outputs": [],
   "source": [
    "import sys, subprocess, json, math, os, re, logging, itertools\n",
    "from pathlib import Path\n",
    "import pandas as pd\n",
    "from tqdm import tqdm\n",
    "\n",
    "import nltk\n",
    "nltk.download(\"wordnet\", quiet=True)\n",
    "nltk.download(\"omw-1.4\", quiet=True)\n",
    "\n",
    "import sacrebleu, Levenshtein\n",
    "from rouge_score import rouge_scorer\n",
    "from nltk.translate import meteor_score\n",
    "from sentence_transformers import SentenceTransformer, util\n",
    "from bert_score import score as bertscore"
   ]
  },
  {
   "cell_type": "code",
   "execution_count": 2,
   "id": "cb3422ae",
   "metadata": {},
   "outputs": [
    {
     "name": "stderr",
     "output_type": "stream",
     "text": [
      "No sentence-transformers model found with name microsoft/codebert-base. Creating a new one with mean pooling.\n"
     ]
    },
    {
     "data": {
      "application/vnd.jupyter.widget-view+json": {
       "model_id": "0fffab16e2624cb695004c2c48c52c7d",
       "version_major": 2,
       "version_minor": 0
      },
      "text/plain": [
       "config.json:   0%|          | 0.00/498 [00:00<?, ?B/s]"
      ]
     },
     "metadata": {},
     "output_type": "display_data"
    },
    {
     "data": {
      "application/vnd.jupyter.widget-view+json": {
       "model_id": "db7e1c52f992410597b1b0d6a005034f",
       "version_major": 2,
       "version_minor": 0
      },
      "text/plain": [
       "pytorch_model.bin:   0%|          | 0.00/499M [00:00<?, ?B/s]"
      ]
     },
     "metadata": {},
     "output_type": "display_data"
    },
    {
     "data": {
      "application/vnd.jupyter.widget-view+json": {
       "model_id": "c3abd2eb9929415da3e00b57069c21f6",
       "version_major": 2,
       "version_minor": 0
      },
      "text/plain": [
       "tokenizer_config.json:   0%|          | 0.00/25.0 [00:00<?, ?B/s]"
      ]
     },
     "metadata": {},
     "output_type": "display_data"
    },
    {
     "data": {
      "application/vnd.jupyter.widget-view+json": {
       "model_id": "bef3aaec26de47a1b8ac0acfa6393897",
       "version_major": 2,
       "version_minor": 0
      },
      "text/plain": [
       "vocab.json:   0%|          | 0.00/899k [00:00<?, ?B/s]"
      ]
     },
     "metadata": {},
     "output_type": "display_data"
    },
    {
     "data": {
      "application/vnd.jupyter.widget-view+json": {
       "model_id": "1f355935a4174651be1fbe0a8aeaafc6",
       "version_major": 2,
       "version_minor": 0
      },
      "text/plain": [
       "merges.txt:   0%|          | 0.00/456k [00:00<?, ?B/s]"
      ]
     },
     "metadata": {},
     "output_type": "display_data"
    },
    {
     "data": {
      "application/vnd.jupyter.widget-view+json": {
       "model_id": "7954611203f24f38a5f967f183defc6c",
       "version_major": 2,
       "version_minor": 0
      },
      "text/plain": [
       "special_tokens_map.json:   0%|          | 0.00/150 [00:00<?, ?B/s]"
      ]
     },
     "metadata": {},
     "output_type": "display_data"
    }
   ],
   "source": [
    "def simple_codebleu(ref: str, hyp: str) -> float:\n",
    "    \"\"\"\n",
    "    Very small-footprint approximation:\n",
    "    BLEU (4-gram) * 0.5  +  AST token overlap * 0.5\n",
    "    AST token overlap ≈ Jaccard of brace / keyword tokens.\n",
    "    \"\"\"\n",
    "    bleu = sacrebleu.corpus_bleu([hyp], [[ref]]).score / 100\n",
    "    # crude 'syntax token' set: language keywords + braces/semicolons\n",
    "    keywords = re.findall(r\"\\b(?:if|else|for|while|return|int|double|float\"\n",
    "                          r\"|std|using|namespace|class|struct|void|auto)\\b|\\{|\\}|;\", ref)\n",
    "    kw_ref = set(keywords)\n",
    "    kw_hyp = set(re.findall(r\"\\b(?:if|else|for|while|return|int|double|float\"\n",
    "                            r\"|std|using|namespace|class|struct|void|auto)\\b|\\{|\\}|;\", hyp))\n",
    "    jacc = len(kw_ref & kw_hyp) / (len(kw_ref | kw_hyp) or 1)\n",
    "    return 0.5 * bleu + 0.5 * jacc\n",
    "\n",
    "# ---------- 3. CrystalBLEU helper ---------------------------------------------------------------\n",
    "COMMON_PATTERNS = {\n",
    "    \"for(\": None, \"while(\": None, \"if(\": None, \"std::\": None,\n",
    "    \"ns3::\": None, \"return\": None, \"{\": None, \"}\": None, \";\": None,\n",
    "}\n",
    "def filter_common_ngrams(code: str) -> str:\n",
    "    tokens = code.split()\n",
    "    return \" \".join(t for t in tokens if t not in COMMON_PATTERNS)\n",
    "\n",
    "def crystal_bleu(ref: str, hyp: str) -> float:\n",
    "    ref_f = filter_common_ngrams(ref)\n",
    "    hyp_f = filter_common_ngrams(hyp)\n",
    "    return sacrebleu.corpus_bleu([hyp_f], [[ref_f]]).score\n",
    "\n",
    "# ---------- 4. clone-similarity (token Jaccard) -------------------------------------------------\n",
    "def token_jaccard(ref: str, hyp: str) -> float:\n",
    "    tok_ref = set(re.findall(r\"[A-Za-z_]\\w+\", ref))\n",
    "    tok_hyp = set(re.findall(r\"[A-Za-z_]\\w+\", hyp))\n",
    "    return len(tok_ref & tok_hyp) / (len(tok_ref | tok_hyp) or 1)\n",
    "\n",
    "# ---------- 5. CodeBERT models (embedding + BERTScore) ------------------------------------------\n",
    "embed_model = SentenceTransformer(\"microsoft/codebert-base\")\n",
    "# bert-score with same model\n",
    "def bertscore_code(refs, hyps):\n",
    "    P, R, F = bertscore(hyps, refs, lang=\"en\", model_type=\"microsoft/codebert-base\",\n",
    "                        num_layers=12, verbose=False, idf=False)\n",
    "    return F.mean().item()\n",
    "\n",
    "# ---------- 6. data paths -----------------------------------------------------------------------\n",
    "SRC_DIRS = [Path(\"../Dataset/Codes/Large\"), Path(\"../Dataset/Codes/Small\")]\n",
    "GEN_DIR  = Path(\"BasicEvaluation/Gemini\")          # from earlier notebook cells\n",
    "GEN_DIR.mkdir(parents=True, exist_ok=True)"
   ]
  },
  {
   "cell_type": "code",
   "execution_count": 3,
   "id": "d0b19623",
   "metadata": {},
   "outputs": [
    {
     "name": "stderr",
     "output_type": "stream",
     "text": [
      "Scoring: 100%|██████████| 400/400 [00:01<00:00, 280.74it/s]\n"
     ]
    },
    {
     "data": {
      "application/vnd.jupyter.widget-view+json": {
       "model_id": "6f017878062c4db0ba5fe758f082ad68",
       "version_major": 2,
       "version_minor": 0
      },
      "text/plain": [
       "model.safetensors:   0%|          | 0.00/499M [00:00<?, ?B/s]"
      ]
     },
     "metadata": {},
     "output_type": "display_data"
    }
   ],
   "source": [
    "# ---------- 7. iterate & compute metrics --------------------------------------------------------\n",
    "rows = []\n",
    "scorer_rouge = rouge_scorer.RougeScorer([\"rougeL\"], use_stemmer=False)\n",
    "\n",
    "for ref_path in tqdm(list(itertools.chain.from_iterable(d.glob(\"*.cc\") for d in SRC_DIRS)),\n",
    "                     desc=\"Scoring\"):\n",
    "    ref_code = ref_path.read_text(encoding=\"utf-8\", errors=\"ignore\")\n",
    "    gen_path = GEN_DIR / ref_path.name\n",
    "    if gen_path.exists():\n",
    "        hyp_code = gen_path.read_text(encoding=\"utf-8\", errors=\"ignore\")\n",
    "    else:\n",
    "        hyp_code = None  # will yield NaNs\n",
    "\n",
    "    def safe(metric_fn, *, default=float(\"nan\")):\n",
    "        try:\n",
    "            return metric_fn()\n",
    "        except Exception as e:\n",
    "            logging.warning(\"Metric failed (%s, %s): %s\", ref_path.name, metric_fn.__name__, e)\n",
    "            return default\n",
    "\n",
    "    row = {\n",
    "        \"file\": ref_path.name,\n",
    "        \"BLEU\": safe(lambda: sacrebleu.corpus_bleu([hyp_code], [[ref_code]]).score if hyp_code else float(\"nan\")),\n",
    "        \"ROUGE_L\": safe(lambda: scorer_rouge.score(ref_code, hyp_code)[\"rougeL\"].fmeasure * 100\n",
    "                        if hyp_code else float(\"nan\")),\n",
    "        \"METEOR\": safe(lambda: meteor_score.single_meteor_score(ref_code, hyp_code) * 100\n",
    "                       if hyp_code else float(\"nan\")),\n",
    "        \"ChrF\": safe(lambda: sacrebleu.corpus_chrf([hyp_code], [[ref_code]]).score if hyp_code else float(\"nan\")),\n",
    "        \"CrystalBLEU\": safe(lambda: crystal_bleu(ref_code, hyp_code) if hyp_code else float(\"nan\")),\n",
    "        \"CodeBLEU\": safe(lambda: simple_codebleu(ref_code, hyp_code) * 100 if hyp_code else float(\"nan\")),\n",
    "        \"Levenshtein\": safe(lambda: Levenshtein.distance(ref_code, hyp_code) if hyp_code else float(\"nan\")),\n",
    "        \"CodeBERTScore\": safe(lambda: bertscore_code([ref_code], [hyp_code]) * 100 if hyp_code else float(\"nan\")),\n",
    "        \"CodeBLEURT\": float(\"nan\"),   # placeholder – requires heavy checkpoint; fill if available\n",
    "        \"EmbeddingCosine\": safe(lambda: util.cos_sim(embed_model.encode(ref_code, convert_to_tensor=True),\n",
    "                                                     embed_model.encode(hyp_code, convert_to_tensor=True)).item()\n",
    "                                if hyp_code else float(\"nan\")),\n",
    "        \"CloneJaccard\": safe(lambda: token_jaccard(ref_code, hyp_code) * 100 if hyp_code else float(\"nan\")),\n",
    "    }\n",
    "    rows.append(row)\n"
   ]
  },
  {
   "cell_type": "code",
   "execution_count": 4,
   "id": "8f978197",
   "metadata": {},
   "outputs": [
    {
     "name": "stdout",
     "output_type": "stream",
     "text": [
      "✅ Saved metrics to E:\\LLM\\simcode-bench\\Generation\\code_metrics.csv\n"
     ]
    }
   ],
   "source": [
    "df = pd.DataFrame(rows)\n",
    "avg_row = {\"file\": \"AVERAGE\"}\n",
    "for col in df.columns[1:]:\n",
    "    avg_row[col] = df[col].mean()\n",
    "df = pd.concat([df, pd.DataFrame([avg_row])], ignore_index=True)\n",
    "\n",
    "csv_path = Path(\"code_metrics.csv\")\n",
    "df.to_csv(csv_path, index=False)\n",
    "print(f\"✅ Saved metrics to {csv_path.resolve()}\")"
   ]
  },
  {
   "cell_type": "code",
   "execution_count": 5,
   "id": "c36b71d5",
   "metadata": {},
   "outputs": [
    {
     "data": {
      "text/html": [
       "<div>\n",
       "<style scoped>\n",
       "    .dataframe tbody tr th:only-of-type {\n",
       "        vertical-align: middle;\n",
       "    }\n",
       "\n",
       "    .dataframe tbody tr th {\n",
       "        vertical-align: top;\n",
       "    }\n",
       "\n",
       "    .dataframe thead th {\n",
       "        text-align: right;\n",
       "    }\n",
       "</style>\n",
       "<table border=\"1\" class=\"dataframe\">\n",
       "  <thead>\n",
       "    <tr style=\"text-align: right;\">\n",
       "      <th></th>\n",
       "      <th>file</th>\n",
       "      <th>BLEU</th>\n",
       "      <th>ROUGE_L</th>\n",
       "      <th>METEOR</th>\n",
       "      <th>ChrF</th>\n",
       "      <th>CrystalBLEU</th>\n",
       "      <th>CodeBLEU</th>\n",
       "      <th>Levenshtein</th>\n",
       "      <th>CodeBERTScore</th>\n",
       "      <th>CodeBLEURT</th>\n",
       "      <th>EmbeddingCosine</th>\n",
       "      <th>CloneJaccard</th>\n",
       "    </tr>\n",
       "  </thead>\n",
       "  <tbody>\n",
       "    <tr>\n",
       "      <th>0</th>\n",
       "      <td>1.cc</td>\n",
       "      <td>NaN</td>\n",
       "      <td>NaN</td>\n",
       "      <td>NaN</td>\n",
       "      <td>NaN</td>\n",
       "      <td>NaN</td>\n",
       "      <td>NaN</td>\n",
       "      <td>NaN</td>\n",
       "      <td>NaN</td>\n",
       "      <td>NaN</td>\n",
       "      <td>NaN</td>\n",
       "      <td>NaN</td>\n",
       "    </tr>\n",
       "    <tr>\n",
       "      <th>1</th>\n",
       "      <td>10.cc</td>\n",
       "      <td>NaN</td>\n",
       "      <td>NaN</td>\n",
       "      <td>NaN</td>\n",
       "      <td>NaN</td>\n",
       "      <td>NaN</td>\n",
       "      <td>NaN</td>\n",
       "      <td>NaN</td>\n",
       "      <td>NaN</td>\n",
       "      <td>NaN</td>\n",
       "      <td>NaN</td>\n",
       "      <td>NaN</td>\n",
       "    </tr>\n",
       "    <tr>\n",
       "      <th>2</th>\n",
       "      <td>100.cc</td>\n",
       "      <td>NaN</td>\n",
       "      <td>NaN</td>\n",
       "      <td>NaN</td>\n",
       "      <td>NaN</td>\n",
       "      <td>NaN</td>\n",
       "      <td>NaN</td>\n",
       "      <td>NaN</td>\n",
       "      <td>NaN</td>\n",
       "      <td>NaN</td>\n",
       "      <td>NaN</td>\n",
       "      <td>NaN</td>\n",
       "    </tr>\n",
       "    <tr>\n",
       "      <th>3</th>\n",
       "      <td>101.cc</td>\n",
       "      <td>NaN</td>\n",
       "      <td>NaN</td>\n",
       "      <td>NaN</td>\n",
       "      <td>NaN</td>\n",
       "      <td>NaN</td>\n",
       "      <td>NaN</td>\n",
       "      <td>NaN</td>\n",
       "      <td>NaN</td>\n",
       "      <td>NaN</td>\n",
       "      <td>NaN</td>\n",
       "      <td>NaN</td>\n",
       "    </tr>\n",
       "    <tr>\n",
       "      <th>4</th>\n",
       "      <td>102.cc</td>\n",
       "      <td>NaN</td>\n",
       "      <td>NaN</td>\n",
       "      <td>NaN</td>\n",
       "      <td>NaN</td>\n",
       "      <td>NaN</td>\n",
       "      <td>NaN</td>\n",
       "      <td>NaN</td>\n",
       "      <td>NaN</td>\n",
       "      <td>NaN</td>\n",
       "      <td>NaN</td>\n",
       "      <td>NaN</td>\n",
       "    </tr>\n",
       "  </tbody>\n",
       "</table>\n",
       "</div>"
      ],
      "text/plain": [
       "     file  BLEU  ROUGE_L  METEOR  ChrF  CrystalBLEU  CodeBLEU  Levenshtein  \\\n",
       "0    1.cc   NaN      NaN     NaN   NaN          NaN       NaN          NaN   \n",
       "1   10.cc   NaN      NaN     NaN   NaN          NaN       NaN          NaN   \n",
       "2  100.cc   NaN      NaN     NaN   NaN          NaN       NaN          NaN   \n",
       "3  101.cc   NaN      NaN     NaN   NaN          NaN       NaN          NaN   \n",
       "4  102.cc   NaN      NaN     NaN   NaN          NaN       NaN          NaN   \n",
       "\n",
       "   CodeBERTScore  CodeBLEURT  EmbeddingCosine  CloneJaccard  \n",
       "0            NaN         NaN              NaN           NaN  \n",
       "1            NaN         NaN              NaN           NaN  \n",
       "2            NaN         NaN              NaN           NaN  \n",
       "3            NaN         NaN              NaN           NaN  \n",
       "4            NaN         NaN              NaN           NaN  "
      ]
     },
     "execution_count": 5,
     "metadata": {},
     "output_type": "execute_result"
    }
   ],
   "source": [
    "df.head()"
   ]
  },
  {
   "cell_type": "code",
   "execution_count": null,
   "id": "58063699",
   "metadata": {},
   "outputs": [],
   "source": []
  }
 ],
 "metadata": {
  "kernelspec": {
   "display_name": "freshllm",
   "language": "python",
   "name": "python3"
  },
  "language_info": {
   "codemirror_mode": {
    "name": "ipython",
    "version": 3
   },
   "file_extension": ".py",
   "mimetype": "text/x-python",
   "name": "python",
   "nbconvert_exporter": "python",
   "pygments_lexer": "ipython3",
   "version": "3.9.20"
  }
 },
 "nbformat": 4,
 "nbformat_minor": 5
}
